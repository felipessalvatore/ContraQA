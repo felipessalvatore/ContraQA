{
 "cells": [
  {
   "cell_type": "code",
   "execution_count": 1,
   "metadata": {},
   "outputs": [],
   "source": [
    "from contra_qa.text_generation.boolean3_NP_and import boolean3\n",
    "from contra_qa.text_generation.boolean4_VP_and import boolean4\n",
    "from contra_qa.text_generation.boolean5_AP_and import boolean5\n",
    "from contra_qa.text_processing.functions import simple_pre_process_text_df\n",
    "from contra_qa.plots.functions  import plot_histogram_from_labels\n",
    "import numpy as np\n",
    "import torch\n",
    "from torchtext import data\n",
    "\n",
    "import pandas as pd\n",
    "% matplotlib inline"
   ]
  },
  {
   "cell_type": "markdown",
   "metadata": {},
   "source": [
    "creating datasets"
   ]
  },
  {
   "cell_type": "code",
   "execution_count": 2,
   "metadata": {},
   "outputs": [],
   "source": [
    "boolean3()\n",
    "# boolean4()\n",
    "# boolean5()"
   ]
  },
  {
   "cell_type": "code",
   "execution_count": 3,
   "metadata": {},
   "outputs": [],
   "source": [
    "df3 = pd.read_csv(\"data/boolean3_train.csv\") "
   ]
  },
  {
   "cell_type": "code",
   "execution_count": 4,
   "metadata": {},
   "outputs": [
    {
     "data": {
      "text/html": [
       "<div>\n",
       "<style scoped>\n",
       "    .dataframe tbody tr th:only-of-type {\n",
       "        vertical-align: middle;\n",
       "    }\n",
       "\n",
       "    .dataframe tbody tr th {\n",
       "        vertical-align: top;\n",
       "    }\n",
       "\n",
       "    .dataframe thead th {\n",
       "        text-align: right;\n",
       "    }\n",
       "</style>\n",
       "<table border=\"1\" class=\"dataframe\">\n",
       "  <thead>\n",
       "    <tr style=\"text-align: right;\">\n",
       "      <th></th>\n",
       "      <th>sentence1</th>\n",
       "      <th>sentence2</th>\n",
       "      <th>and_A</th>\n",
       "      <th>and_B</th>\n",
       "      <th>label</th>\n",
       "    </tr>\n",
       "  </thead>\n",
       "  <tbody>\n",
       "    <tr>\n",
       "      <th>0</th>\n",
       "      <td>Agnes has visited Blaj and Mangalia</td>\n",
       "      <td>Agnes didn't visit Blaj</td>\n",
       "      <td>Agnes has visited Blaj</td>\n",
       "      <td>Agnes has visited Mangalia</td>\n",
       "      <td>1</td>\n",
       "    </tr>\n",
       "    <tr>\n",
       "      <th>1</th>\n",
       "      <td>Rene went to Giurgiu and Dej</td>\n",
       "      <td>Rene didn't go to Giurgiu</td>\n",
       "      <td>Rene went to Giurgiu</td>\n",
       "      <td>Rene went to Dej</td>\n",
       "      <td>1</td>\n",
       "    </tr>\n",
       "    <tr>\n",
       "      <th>2</th>\n",
       "      <td>Scott and Jesus have traveled to Hunedoara</td>\n",
       "      <td>Jesus didn't travel to Turda</td>\n",
       "      <td>Scott has traveled to Hunedoara</td>\n",
       "      <td>Jesus has traveled to Hunedoara</td>\n",
       "      <td>0</td>\n",
       "    </tr>\n",
       "    <tr>\n",
       "      <th>3</th>\n",
       "      <td>Shane and Allen have visited Oradea</td>\n",
       "      <td>Guadalupe didn't visit Oradea</td>\n",
       "      <td>Shane has visited Oradea</td>\n",
       "      <td>Allen has visited Oradea</td>\n",
       "      <td>0</td>\n",
       "    </tr>\n",
       "    <tr>\n",
       "      <th>4</th>\n",
       "      <td>Lawrence has traveled to Hunedoara and Bucharest</td>\n",
       "      <td>Lawrence didn't travel to Bucharest</td>\n",
       "      <td>Lawrence has traveled to Hunedoara</td>\n",
       "      <td>Lawrence has traveled to Bucharest</td>\n",
       "      <td>1</td>\n",
       "    </tr>\n",
       "  </tbody>\n",
       "</table>\n",
       "</div>"
      ],
      "text/plain": [
       "                                          sentence1  \\\n",
       "0               Agnes has visited Blaj and Mangalia   \n",
       "1                      Rene went to Giurgiu and Dej   \n",
       "2        Scott and Jesus have traveled to Hunedoara   \n",
       "3               Shane and Allen have visited Oradea   \n",
       "4  Lawrence has traveled to Hunedoara and Bucharest   \n",
       "\n",
       "                             sentence2                               and_A  \\\n",
       "0              Agnes didn't visit Blaj              Agnes has visited Blaj   \n",
       "1            Rene didn't go to Giurgiu                Rene went to Giurgiu   \n",
       "2         Jesus didn't travel to Turda     Scott has traveled to Hunedoara   \n",
       "3        Guadalupe didn't visit Oradea            Shane has visited Oradea   \n",
       "4  Lawrence didn't travel to Bucharest  Lawrence has traveled to Hunedoara   \n",
       "\n",
       "                                and_B  label  \n",
       "0          Agnes has visited Mangalia      1  \n",
       "1                    Rene went to Dej      1  \n",
       "2     Jesus has traveled to Hunedoara      0  \n",
       "3            Allen has visited Oradea      0  \n",
       "4  Lawrence has traveled to Bucharest      1  "
      ]
     },
     "execution_count": 4,
     "metadata": {},
     "output_type": "execute_result"
    }
   ],
   "source": [
    "df3.head()"
   ]
  },
  {
   "cell_type": "code",
   "execution_count": 5,
   "metadata": {},
   "outputs": [],
   "source": [
    "simple_pre_process_text_df(df3, \"sentence1\")\n",
    "simple_pre_process_text_df(df3, \"sentence2\")\n",
    "simple_pre_process_text_df(df3, \"and_A\")\n",
    "simple_pre_process_text_df(df3, \"and_B\")\n",
    "\n",
    "df3[\"text\"] = df3[\"sentence1\"] + \", \" + df3[\"sentence2\"]"
   ]
  },
  {
   "cell_type": "code",
   "execution_count": 6,
   "metadata": {},
   "outputs": [
    {
     "data": {
      "text/html": [
       "<div>\n",
       "<style scoped>\n",
       "    .dataframe tbody tr th:only-of-type {\n",
       "        vertical-align: middle;\n",
       "    }\n",
       "\n",
       "    .dataframe tbody tr th {\n",
       "        vertical-align: top;\n",
       "    }\n",
       "\n",
       "    .dataframe thead th {\n",
       "        text-align: right;\n",
       "    }\n",
       "</style>\n",
       "<table border=\"1\" class=\"dataframe\">\n",
       "  <thead>\n",
       "    <tr style=\"text-align: right;\">\n",
       "      <th></th>\n",
       "      <th>sentence1</th>\n",
       "      <th>sentence2</th>\n",
       "      <th>and_A</th>\n",
       "      <th>and_B</th>\n",
       "      <th>label</th>\n",
       "      <th>text</th>\n",
       "    </tr>\n",
       "  </thead>\n",
       "  <tbody>\n",
       "    <tr>\n",
       "      <th>0</th>\n",
       "      <td>agnes has visited blaj and mangalia</td>\n",
       "      <td>agnes didnt visit blaj</td>\n",
       "      <td>agnes has visited blaj</td>\n",
       "      <td>agnes has visited mangalia</td>\n",
       "      <td>1</td>\n",
       "      <td>agnes has visited blaj and mangalia, agnes did...</td>\n",
       "    </tr>\n",
       "    <tr>\n",
       "      <th>1</th>\n",
       "      <td>rene went to giurgiu and dej</td>\n",
       "      <td>rene didnt go to giurgiu</td>\n",
       "      <td>rene went to giurgiu</td>\n",
       "      <td>rene went to dej</td>\n",
       "      <td>1</td>\n",
       "      <td>rene went to giurgiu and dej, rene didnt go to...</td>\n",
       "    </tr>\n",
       "    <tr>\n",
       "      <th>2</th>\n",
       "      <td>scott and jesus have traveled to hunedoara</td>\n",
       "      <td>jesus didnt travel to turda</td>\n",
       "      <td>scott has traveled to hunedoara</td>\n",
       "      <td>jesus has traveled to hunedoara</td>\n",
       "      <td>0</td>\n",
       "      <td>scott and jesus have traveled to hunedoara, je...</td>\n",
       "    </tr>\n",
       "    <tr>\n",
       "      <th>3</th>\n",
       "      <td>shane and allen have visited oradea</td>\n",
       "      <td>guadalupe didnt visit oradea</td>\n",
       "      <td>shane has visited oradea</td>\n",
       "      <td>allen has visited oradea</td>\n",
       "      <td>0</td>\n",
       "      <td>shane and allen have visited oradea, guadalupe...</td>\n",
       "    </tr>\n",
       "    <tr>\n",
       "      <th>4</th>\n",
       "      <td>lawrence has traveled to hunedoara and bucharest</td>\n",
       "      <td>lawrence didnt travel to bucharest</td>\n",
       "      <td>lawrence has traveled to hunedoara</td>\n",
       "      <td>lawrence has traveled to bucharest</td>\n",
       "      <td>1</td>\n",
       "      <td>lawrence has traveled to hunedoara and buchare...</td>\n",
       "    </tr>\n",
       "  </tbody>\n",
       "</table>\n",
       "</div>"
      ],
      "text/plain": [
       "                                          sentence1  \\\n",
       "0               agnes has visited blaj and mangalia   \n",
       "1                      rene went to giurgiu and dej   \n",
       "2        scott and jesus have traveled to hunedoara   \n",
       "3               shane and allen have visited oradea   \n",
       "4  lawrence has traveled to hunedoara and bucharest   \n",
       "\n",
       "                            sentence2                               and_A  \\\n",
       "0              agnes didnt visit blaj              agnes has visited blaj   \n",
       "1            rene didnt go to giurgiu                rene went to giurgiu   \n",
       "2         jesus didnt travel to turda     scott has traveled to hunedoara   \n",
       "3        guadalupe didnt visit oradea            shane has visited oradea   \n",
       "4  lawrence didnt travel to bucharest  lawrence has traveled to hunedoara   \n",
       "\n",
       "                                and_B  label  \\\n",
       "0          agnes has visited mangalia      1   \n",
       "1                    rene went to dej      1   \n",
       "2     jesus has traveled to hunedoara      0   \n",
       "3            allen has visited oradea      0   \n",
       "4  lawrence has traveled to bucharest      1   \n",
       "\n",
       "                                                text  \n",
       "0  agnes has visited blaj and mangalia, agnes did...  \n",
       "1  rene went to giurgiu and dej, rene didnt go to...  \n",
       "2  scott and jesus have traveled to hunedoara, je...  \n",
       "3  shane and allen have visited oradea, guadalupe...  \n",
       "4  lawrence has traveled to hunedoara and buchare...  "
      ]
     },
     "execution_count": 6,
     "metadata": {},
     "output_type": "execute_result"
    }
   ],
   "source": [
    "df3.head()"
   ]
  },
  {
   "cell_type": "code",
   "execution_count": 7,
   "metadata": {},
   "outputs": [
    {
     "data": {
      "image/png": "[encoded data removed]",
      "text/plain": [
       "<Figure size 432x288 with 1 Axes>"
      ]
     },
     "metadata": {},
     "output_type": "display_data"
    }
   ],
   "source": [
    "plot_histogram_from_labels(df3.label.values, [\"no\", \"yes\"], \"test.png\") "
   ]
  },
  {
   "cell_type": "code",
   "execution_count": 8,
   "metadata": {},
   "outputs": [],
   "source": [
    "df3_little = df3[[\"text\", \"label\"]]"
   ]
  },
  {
   "cell_type": "code",
   "execution_count": 9,
   "metadata": {},
   "outputs": [
    {
     "data": {
      "text/html": [
       "<div>\n",
       "<style scoped>\n",
       "    .dataframe tbody tr th:only-of-type {\n",
       "        vertical-align: middle;\n",
       "    }\n",
       "\n",
       "    .dataframe tbody tr th {\n",
       "        vertical-align: top;\n",
       "    }\n",
       "\n",
       "    .dataframe thead th {\n",
       "        text-align: right;\n",
       "    }\n",
       "</style>\n",
       "<table border=\"1\" class=\"dataframe\">\n",
       "  <thead>\n",
       "    <tr style=\"text-align: right;\">\n",
       "      <th></th>\n",
       "      <th>text</th>\n",
       "      <th>label</th>\n",
       "    </tr>\n",
       "  </thead>\n",
       "  <tbody>\n",
       "    <tr>\n",
       "      <th>0</th>\n",
       "      <td>agnes has visited blaj and mangalia, agnes did...</td>\n",
       "      <td>1</td>\n",
       "    </tr>\n",
       "    <tr>\n",
       "      <th>1</th>\n",
       "      <td>rene went to giurgiu and dej, rene didnt go to...</td>\n",
       "      <td>1</td>\n",
       "    </tr>\n",
       "    <tr>\n",
       "      <th>2</th>\n",
       "      <td>scott and jesus have traveled to hunedoara, je...</td>\n",
       "      <td>0</td>\n",
       "    </tr>\n",
       "    <tr>\n",
       "      <th>3</th>\n",
       "      <td>shane and allen have visited oradea, guadalupe...</td>\n",
       "      <td>0</td>\n",
       "    </tr>\n",
       "    <tr>\n",
       "      <th>4</th>\n",
       "      <td>lawrence has traveled to hunedoara and buchare...</td>\n",
       "      <td>1</td>\n",
       "    </tr>\n",
       "  </tbody>\n",
       "</table>\n",
       "</div>"
      ],
      "text/plain": [
       "                                                text  label\n",
       "0  agnes has visited blaj and mangalia, agnes did...      1\n",
       "1  rene went to giurgiu and dej, rene didnt go to...      1\n",
       "2  scott and jesus have traveled to hunedoara, je...      0\n",
       "3  shane and allen have visited oradea, guadalupe...      0\n",
       "4  lawrence has traveled to hunedoara and buchare...      1"
      ]
     },
     "execution_count": 9,
     "metadata": {},
     "output_type": "execute_result"
    }
   ],
   "source": [
    "df3_little.head()"
   ]
  },
  {
   "cell_type": "code",
   "execution_count": 10,
   "metadata": {},
   "outputs": [],
   "source": [
    "train_data_path = \"data/boolean_3_train_lab.csv\"\n",
    "\n",
    "df3_little.to_csv(train_data_path, header=False, index=False)"
   ]
  },
  {
   "cell_type": "code",
   "execution_count": 11,
   "metadata": {},
   "outputs": [],
   "source": [
    "TEXT = data.Field()\n",
    "LABEL = data.LabelField(tensor_type=torch.FloatTensor)\n",
    "train = data.TabularDataset(path=train_data_path,\n",
    "                            format=\"csv\",\n",
    "                            fields=[('text', TEXT), ('label', LABEL)])"
   ]
  },
  {
   "cell_type": "code",
   "execution_count": 12,
   "metadata": {},
   "outputs": [],
   "source": [
    "TEXT.build_vocab(train, max_size=25000)\n",
    "LABEL.build_vocab(train)"
   ]
  },
  {
   "cell_type": "code",
   "execution_count": 13,
   "metadata": {},
   "outputs": [
    {
     "name": "stdout",
     "output_type": "stream",
     "text": [
      "len(TEXT.vocab): 708\n",
      "len(LABEL.vocab): 2\n"
     ]
    }
   ],
   "source": [
    "print('len(TEXT.vocab):', len(TEXT.vocab))\n",
    "print('len(LABEL.vocab):', len(LABEL.vocab))"
   ]
  },
  {
   "cell_type": "code",
   "execution_count": 14,
   "metadata": {},
   "outputs": [
    {
     "data": {
      "text/html": [
       "<div>\n",
       "<style scoped>\n",
       "    .dataframe tbody tr th:only-of-type {\n",
       "        vertical-align: middle;\n",
       "    }\n",
       "\n",
       "    .dataframe tbody tr th {\n",
       "        vertical-align: top;\n",
       "    }\n",
       "\n",
       "    .dataframe thead th {\n",
       "        text-align: right;\n",
       "    }\n",
       "</style>\n",
       "<table border=\"1\" class=\"dataframe\">\n",
       "  <thead>\n",
       "    <tr style=\"text-align: right;\">\n",
       "      <th></th>\n",
       "      <th>text</th>\n",
       "      <th>label</th>\n",
       "    </tr>\n",
       "  </thead>\n",
       "  <tbody>\n",
       "    <tr>\n",
       "      <th>0</th>\n",
       "      <td>agnes has visited blaj and mangalia, agnes did...</td>\n",
       "      <td>1</td>\n",
       "    </tr>\n",
       "    <tr>\n",
       "      <th>1</th>\n",
       "      <td>rene went to giurgiu and dej, rene didnt go to...</td>\n",
       "      <td>1</td>\n",
       "    </tr>\n",
       "    <tr>\n",
       "      <th>2</th>\n",
       "      <td>scott and jesus have traveled to hunedoara, je...</td>\n",
       "      <td>0</td>\n",
       "    </tr>\n",
       "    <tr>\n",
       "      <th>3</th>\n",
       "      <td>shane and allen have visited oradea, guadalupe...</td>\n",
       "      <td>0</td>\n",
       "    </tr>\n",
       "    <tr>\n",
       "      <th>4</th>\n",
       "      <td>lawrence has traveled to hunedoara and buchare...</td>\n",
       "      <td>1</td>\n",
       "    </tr>\n",
       "  </tbody>\n",
       "</table>\n",
       "</div>"
      ],
      "text/plain": [
       "                                                text  label\n",
       "0  agnes has visited blaj and mangalia, agnes did...      1\n",
       "1  rene went to giurgiu and dej, rene didnt go to...      1\n",
       "2  scott and jesus have traveled to hunedoara, je...      0\n",
       "3  shane and allen have visited oradea, guadalupe...      0\n",
       "4  lawrence has traveled to hunedoara and buchare...      1"
      ]
     },
     "execution_count": 14,
     "metadata": {},
     "output_type": "execute_result"
    }
   ],
   "source": [
    "df3_little.head()"
   ]
  },
  {
   "cell_type": "code",
   "execution_count": 15,
   "metadata": {},
   "outputs": [
    {
     "data": {
      "text/html": [
       "<div>\n",
       "<style scoped>\n",
       "    .dataframe tbody tr th:only-of-type {\n",
       "        vertical-align: middle;\n",
       "    }\n",
       "\n",
       "    .dataframe tbody tr th {\n",
       "        vertical-align: top;\n",
       "    }\n",
       "\n",
       "    .dataframe thead th {\n",
       "        text-align: right;\n",
       "    }\n",
       "</style>\n",
       "<table border=\"1\" class=\"dataframe\">\n",
       "  <thead>\n",
       "    <tr style=\"text-align: right;\">\n",
       "      <th></th>\n",
       "      <th>sentence1</th>\n",
       "      <th>sentence2</th>\n",
       "      <th>and_A</th>\n",
       "      <th>and_B</th>\n",
       "      <th>label</th>\n",
       "      <th>text</th>\n",
       "    </tr>\n",
       "  </thead>\n",
       "  <tbody>\n",
       "    <tr>\n",
       "      <th>0</th>\n",
       "      <td>agnes has visited blaj and mangalia</td>\n",
       "      <td>agnes didnt visit blaj</td>\n",
       "      <td>agnes has visited blaj</td>\n",
       "      <td>agnes has visited mangalia</td>\n",
       "      <td>1</td>\n",
       "      <td>agnes has visited blaj and mangalia, agnes did...</td>\n",
       "    </tr>\n",
       "    <tr>\n",
       "      <th>1</th>\n",
       "      <td>rene went to giurgiu and dej</td>\n",
       "      <td>rene didnt go to giurgiu</td>\n",
       "      <td>rene went to giurgiu</td>\n",
       "      <td>rene went to dej</td>\n",
       "      <td>1</td>\n",
       "      <td>rene went to giurgiu and dej, rene didnt go to...</td>\n",
       "    </tr>\n",
       "    <tr>\n",
       "      <th>2</th>\n",
       "      <td>scott and jesus have traveled to hunedoara</td>\n",
       "      <td>jesus didnt travel to turda</td>\n",
       "      <td>scott has traveled to hunedoara</td>\n",
       "      <td>jesus has traveled to hunedoara</td>\n",
       "      <td>0</td>\n",
       "      <td>scott and jesus have traveled to hunedoara, je...</td>\n",
       "    </tr>\n",
       "    <tr>\n",
       "      <th>3</th>\n",
       "      <td>shane and allen have visited oradea</td>\n",
       "      <td>guadalupe didnt visit oradea</td>\n",
       "      <td>shane has visited oradea</td>\n",
       "      <td>allen has visited oradea</td>\n",
       "      <td>0</td>\n",
       "      <td>shane and allen have visited oradea, guadalupe...</td>\n",
       "    </tr>\n",
       "    <tr>\n",
       "      <th>4</th>\n",
       "      <td>lawrence has traveled to hunedoara and bucharest</td>\n",
       "      <td>lawrence didnt travel to bucharest</td>\n",
       "      <td>lawrence has traveled to hunedoara</td>\n",
       "      <td>lawrence has traveled to bucharest</td>\n",
       "      <td>1</td>\n",
       "      <td>lawrence has traveled to hunedoara and buchare...</td>\n",
       "    </tr>\n",
       "  </tbody>\n",
       "</table>\n",
       "</div>"
      ],
      "text/plain": [
       "                                          sentence1  \\\n",
       "0               agnes has visited blaj and mangalia   \n",
       "1                      rene went to giurgiu and dej   \n",
       "2        scott and jesus have traveled to hunedoara   \n",
       "3               shane and allen have visited oradea   \n",
       "4  lawrence has traveled to hunedoara and bucharest   \n",
       "\n",
       "                            sentence2                               and_A  \\\n",
       "0              agnes didnt visit blaj              agnes has visited blaj   \n",
       "1            rene didnt go to giurgiu                rene went to giurgiu   \n",
       "2         jesus didnt travel to turda     scott has traveled to hunedoara   \n",
       "3        guadalupe didnt visit oradea            shane has visited oradea   \n",
       "4  lawrence didnt travel to bucharest  lawrence has traveled to hunedoara   \n",
       "\n",
       "                                and_B  label  \\\n",
       "0          agnes has visited mangalia      1   \n",
       "1                    rene went to dej      1   \n",
       "2     jesus has traveled to hunedoara      0   \n",
       "3            allen has visited oradea      0   \n",
       "4  lawrence has traveled to bucharest      1   \n",
       "\n",
       "                                                text  \n",
       "0  agnes has visited blaj and mangalia, agnes did...  \n",
       "1  rene went to giurgiu and dej, rene didnt go to...  \n",
       "2  scott and jesus have traveled to hunedoara, je...  \n",
       "3  shane and allen have visited oradea, guadalupe...  \n",
       "4  lawrence has traveled to hunedoara and buchare...  "
      ]
     },
     "execution_count": 15,
     "metadata": {},
     "output_type": "execute_result"
    }
   ],
   "source": [
    "df3.head()"
   ]
  },
  {
   "cell_type": "code",
   "execution_count": 16,
   "metadata": {},
   "outputs": [],
   "source": [
    "exampleS1 = list(df3.sentence1.values)[0:3]\n",
    "exampleS2 = list(df3.sentence2.values)[0:3]\n",
    "exampleA = list(df3.and_A.values)[0:3]\n",
    "exampleB = list(df3.and_B.values)[0:3]\n",
    "exampleLabel = list(df3.label.values)[0:3]"
   ]
  },
  {
   "cell_type": "code",
   "execution_count": 17,
   "metadata": {},
   "outputs": [
    {
     "name": "stdout",
     "output_type": "stream",
     "text": [
      "agnes has visited blaj and mangalia\n",
      "[693, 5, 7, 30, 3, 34]\n",
      "\n",
      "rene went to giurgiu and dej\n",
      "[268, 12, 2, 29, 3, 19]\n",
      "\n",
      "scott and jesus have traveled to hunedoara\n",
      "[381, 3, 369, 10, 9, 2, 18]\n",
      "\n"
     ]
    }
   ],
   "source": [
    "exampleS1i = []\n",
    "for line in exampleS1:\n",
    "    line = line.split(\" \")\n",
    "    new_line = [TEXT.vocab.stoi[word] for word in line]\n",
    "    exampleS1i.append(new_line)\n",
    "    \n",
    "for a,b in zip(exampleS1, exampleS1i):\n",
    "    print(a)\n",
    "    print(b)\n",
    "    print()"
   ]
  },
  {
   "cell_type": "code",
   "execution_count": 18,
   "metadata": {},
   "outputs": [
    {
     "name": "stdout",
     "output_type": "stream",
     "text": [
      "agnes didnt visit blaj\n",
      "[693, 4, 6, 30]\n",
      "\n",
      "rene didnt go to giurgiu\n",
      "[268, 4, 11, 2, 29]\n",
      "\n",
      "jesus didnt travel to turda\n",
      "[369, 4, 8, 2, 16]\n",
      "\n"
     ]
    }
   ],
   "source": [
    "exampleS2i = []\n",
    "for line in exampleS2:\n",
    "    line = line.split(\" \")\n",
    "    new_line = [TEXT.vocab.stoi[word] for word in line]\n",
    "    exampleS2i.append(new_line)\n",
    "    \n",
    "for a,b in zip(exampleS2, exampleS2i):\n",
    "    print(a)\n",
    "    print(b)\n",
    "    print()"
   ]
  },
  {
   "cell_type": "code",
   "execution_count": 19,
   "metadata": {},
   "outputs": [
    {
     "name": "stdout",
     "output_type": "stream",
     "text": [
      "agnes has visited blaj\n",
      "[693, 5, 7, 30]\n",
      "\n",
      "rene went to giurgiu\n",
      "[268, 12, 2, 29]\n",
      "\n",
      "scott has traveled to hunedoara\n",
      "[381, 5, 9, 2, 18]\n",
      "\n"
     ]
    }
   ],
   "source": [
    "exampleAi = []\n",
    "for line in exampleA:\n",
    "    line = line.split(\" \")\n",
    "    new_line = [TEXT.vocab.stoi[word] for word in line]\n",
    "    exampleAi.append(new_line)\n",
    "    \n",
    "for a,b in zip(exampleA, exampleAi):\n",
    "    print(a)\n",
    "    print(b)\n",
    "    print()"
   ]
  },
  {
   "cell_type": "code",
   "execution_count": 20,
   "metadata": {},
   "outputs": [
    {
     "name": "stdout",
     "output_type": "stream",
     "text": [
      "agnes has visited mangalia\n",
      "[693, 5, 7, 34]\n",
      "\n",
      "rene went to dej\n",
      "[268, 12, 2, 19]\n",
      "\n",
      "jesus has traveled to hunedoara\n",
      "[369, 5, 9, 2, 18]\n",
      "\n"
     ]
    }
   ],
   "source": [
    "exampleBi = []\n",
    "for line in exampleB:\n",
    "    line = line.split(\" \")\n",
    "    new_line = [TEXT.vocab.stoi[word] for word in line]\n",
    "    exampleBi.append(new_line)\n",
    "    \n",
    "for a,b in zip(exampleB, exampleBi):\n",
    "    print(a)\n",
    "    print(b)\n",
    "    print()"
   ]
  },
  {
   "cell_type": "code",
   "execution_count": null,
   "metadata": {},
   "outputs": [],
   "source": []
  },
  {
   "cell_type": "code",
   "execution_count": null,
   "metadata": {},
   "outputs": [],
   "source": []
  },
  {
   "cell_type": "code",
   "execution_count": null,
   "metadata": {},
   "outputs": [],
   "source": []
  },
  {
   "cell_type": "code",
   "execution_count": null,
   "metadata": {},
   "outputs": [],
   "source": []
  },
  {
   "cell_type": "code",
   "execution_count": null,
   "metadata": {},
   "outputs": [],
   "source": []
  },
  {
   "cell_type": "code",
   "execution_count": null,
   "metadata": {},
   "outputs": [],
   "source": []
  },
  {
   "cell_type": "code",
   "execution_count": null,
   "metadata": {},
   "outputs": [],
   "source": []
  },
  {
   "cell_type": "code",
   "execution_count": null,
   "metadata": {},
   "outputs": [],
   "source": []
  },
  {
   "cell_type": "code",
   "execution_count": null,
   "metadata": {},
   "outputs": [],
   "source": []
  },
  {
   "cell_type": "code",
   "execution_count": null,
   "metadata": {},
   "outputs": [],
   "source": []
  },
  {
   "cell_type": "code",
   "execution_count": null,
   "metadata": {},
   "outputs": [],
   "source": []
  },
  {
   "cell_type": "code",
   "execution_count": null,
   "metadata": {},
   "outputs": [],
   "source": []
  },
  {
   "cell_type": "code",
   "execution_count": null,
   "metadata": {},
   "outputs": [],
   "source": []
  }
 ],
 "metadata": {
  "kernelspec": {
   "display_name": "Python 3",
   "language": "python",
   "name": "python3"
  },
  "language_info": {
   "codemirror_mode": {
    "name": "ipython",
    "version": 3
   },
   "file_extension": ".py",
   "mimetype": "text/x-python",
   "name": "python",
   "nbconvert_exporter": "python",
   "pygments_lexer": "ipython3",
   "version": "3.5.2"
  }
 },
 "nbformat": 4,
 "nbformat_minor": 2
}
