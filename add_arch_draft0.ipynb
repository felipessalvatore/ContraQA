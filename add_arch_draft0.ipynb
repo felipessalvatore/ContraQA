{
 "cells": [
  {
   "cell_type": "code",
   "execution_count": 1,
   "metadata": {},
   "outputs": [],
   "source": [
    "from contra_qa.text_generation.boolean3_NP_and import boolean3\n",
    "from contra_qa.text_generation.boolean4_VP_and import boolean4\n",
    "from contra_qa.text_generation.boolean5_AP_and import boolean5\n",
    "from contra_qa.text_processing.functions import simple_pre_process_text_df\n",
    "from contra_qa.plots.functions  import plot_histogram_from_labels\n",
    "\n",
    "from contra_qa.train_functions.RNNConfig import RNNConfig\n",
    "import numpy as np\n",
    "import torch\n",
    "import torch.nn as nn\n",
    "from torchtext import data\n",
    "\n",
    "import pandas as pd\n",
    "device = torch.device(\"cuda\" if torch.cuda.is_available() else \"cpu\")\n",
    "\n",
    "% matplotlib inline"
   ]
  },
  {
   "cell_type": "markdown",
   "metadata": {},
   "source": [
    "creating datasets"
   ]
  },
  {
   "cell_type": "code",
   "execution_count": 2,
   "metadata": {},
   "outputs": [],
   "source": [
    "boolean3()\n",
    "# boolean4()\n",
    "# boolean5()"
   ]
  },
  {
   "cell_type": "code",
   "execution_count": 3,
   "metadata": {},
   "outputs": [],
   "source": [
    "df3 = pd.read_csv(\"data/boolean3_train.csv\") "
   ]
  },
  {
   "cell_type": "code",
   "execution_count": 4,
   "metadata": {},
   "outputs": [
    {
     "data": {
      "text/html": [
       "<div>\n",
       "<style scoped>\n",
       "    .dataframe tbody tr th:only-of-type {\n",
       "        vertical-align: middle;\n",
       "    }\n",
       "\n",
       "    .dataframe tbody tr th {\n",
       "        vertical-align: top;\n",
       "    }\n",
       "\n",
       "    .dataframe thead th {\n",
       "        text-align: right;\n",
       "    }\n",
       "</style>\n",
       "<table border=\"1\" class=\"dataframe\">\n",
       "  <thead>\n",
       "    <tr style=\"text-align: right;\">\n",
       "      <th></th>\n",
       "      <th>sentence1</th>\n",
       "      <th>sentence2</th>\n",
       "      <th>and_A</th>\n",
       "      <th>and_B</th>\n",
       "      <th>label</th>\n",
       "    </tr>\n",
       "  </thead>\n",
       "  <tbody>\n",
       "    <tr>\n",
       "      <th>0</th>\n",
       "      <td>Jamie and Lindsey went to Slatina</td>\n",
       "      <td>Brandi didn't go to Slatina</td>\n",
       "      <td>Jamie went to Slatina</td>\n",
       "      <td>Lindsey went to Slatina</td>\n",
       "      <td>0</td>\n",
       "    </tr>\n",
       "    <tr>\n",
       "      <th>1</th>\n",
       "      <td>Mary and Mathew have visited Turda</td>\n",
       "      <td>Mary didn't visit Turda</td>\n",
       "      <td>Mary has visited Turda</td>\n",
       "      <td>Mathew has visited Turda</td>\n",
       "      <td>1</td>\n",
       "    </tr>\n",
       "    <tr>\n",
       "      <th>2</th>\n",
       "      <td>Clinton went to Blaj and Lugoj</td>\n",
       "      <td>Clinton didn't go to Blaj</td>\n",
       "      <td>Clinton went to Blaj</td>\n",
       "      <td>Clinton went to Lugoj</td>\n",
       "      <td>1</td>\n",
       "    </tr>\n",
       "    <tr>\n",
       "      <th>3</th>\n",
       "      <td>Amy and Maria went to Tulcea</td>\n",
       "      <td>Eddie didn't go to Tulcea</td>\n",
       "      <td>Amy went to Tulcea</td>\n",
       "      <td>Maria went to Tulcea</td>\n",
       "      <td>0</td>\n",
       "    </tr>\n",
       "    <tr>\n",
       "      <th>4</th>\n",
       "      <td>Heidi and April went to Hunedoara</td>\n",
       "      <td>Stacey didn't go to Hunedoara</td>\n",
       "      <td>Heidi went to Hunedoara</td>\n",
       "      <td>April went to Hunedoara</td>\n",
       "      <td>0</td>\n",
       "    </tr>\n",
       "  </tbody>\n",
       "</table>\n",
       "</div>"
      ],
      "text/plain": [
       "                            sentence1                      sentence2  \\\n",
       "0   Jamie and Lindsey went to Slatina    Brandi didn't go to Slatina   \n",
       "1  Mary and Mathew have visited Turda        Mary didn't visit Turda   \n",
       "2      Clinton went to Blaj and Lugoj      Clinton didn't go to Blaj   \n",
       "3        Amy and Maria went to Tulcea      Eddie didn't go to Tulcea   \n",
       "4   Heidi and April went to Hunedoara  Stacey didn't go to Hunedoara   \n",
       "\n",
       "                     and_A                     and_B  label  \n",
       "0    Jamie went to Slatina   Lindsey went to Slatina      0  \n",
       "1   Mary has visited Turda  Mathew has visited Turda      1  \n",
       "2     Clinton went to Blaj     Clinton went to Lugoj      1  \n",
       "3       Amy went to Tulcea      Maria went to Tulcea      0  \n",
       "4  Heidi went to Hunedoara   April went to Hunedoara      0  "
      ]
     },
     "execution_count": 4,
     "metadata": {},
     "output_type": "execute_result"
    }
   ],
   "source": [
    "df3.head()"
   ]
  },
  {
   "cell_type": "code",
   "execution_count": 5,
   "metadata": {},
   "outputs": [],
   "source": [
    "simple_pre_process_text_df(df3, \"sentence1\")\n",
    "simple_pre_process_text_df(df3, \"sentence2\")\n",
    "simple_pre_process_text_df(df3, \"and_A\")\n",
    "simple_pre_process_text_df(df3, \"and_B\")\n",
    "\n",
    "df3[\"text\"] = df3[\"sentence1\"] + \", \" + df3[\"sentence2\"]"
   ]
  },
  {
   "cell_type": "code",
   "execution_count": 6,
   "metadata": {},
   "outputs": [
    {
     "data": {
      "text/html": [
       "<div>\n",
       "<style scoped>\n",
       "    .dataframe tbody tr th:only-of-type {\n",
       "        vertical-align: middle;\n",
       "    }\n",
       "\n",
       "    .dataframe tbody tr th {\n",
       "        vertical-align: top;\n",
       "    }\n",
       "\n",
       "    .dataframe thead th {\n",
       "        text-align: right;\n",
       "    }\n",
       "</style>\n",
       "<table border=\"1\" class=\"dataframe\">\n",
       "  <thead>\n",
       "    <tr style=\"text-align: right;\">\n",
       "      <th></th>\n",
       "      <th>sentence1</th>\n",
       "      <th>sentence2</th>\n",
       "      <th>and_A</th>\n",
       "      <th>and_B</th>\n",
       "      <th>label</th>\n",
       "      <th>text</th>\n",
       "    </tr>\n",
       "  </thead>\n",
       "  <tbody>\n",
       "    <tr>\n",
       "      <th>0</th>\n",
       "      <td>jamie and lindsey went to slatina</td>\n",
       "      <td>brandi didnt go to slatina</td>\n",
       "      <td>jamie went to slatina</td>\n",
       "      <td>lindsey went to slatina</td>\n",
       "      <td>0</td>\n",
       "      <td>jamie and lindsey went to slatina, brandi didn...</td>\n",
       "    </tr>\n",
       "    <tr>\n",
       "      <th>1</th>\n",
       "      <td>mary and mathew have visited turda</td>\n",
       "      <td>mary didnt visit turda</td>\n",
       "      <td>mary has visited turda</td>\n",
       "      <td>mathew has visited turda</td>\n",
       "      <td>1</td>\n",
       "      <td>mary and mathew have visited turda, mary didnt...</td>\n",
       "    </tr>\n",
       "    <tr>\n",
       "      <th>2</th>\n",
       "      <td>clinton went to blaj and lugoj</td>\n",
       "      <td>clinton didnt go to blaj</td>\n",
       "      <td>clinton went to blaj</td>\n",
       "      <td>clinton went to lugoj</td>\n",
       "      <td>1</td>\n",
       "      <td>clinton went to blaj and lugoj, clinton didnt ...</td>\n",
       "    </tr>\n",
       "    <tr>\n",
       "      <th>3</th>\n",
       "      <td>amy and maria went to tulcea</td>\n",
       "      <td>eddie didnt go to tulcea</td>\n",
       "      <td>amy went to tulcea</td>\n",
       "      <td>maria went to tulcea</td>\n",
       "      <td>0</td>\n",
       "      <td>amy and maria went to tulcea, eddie didnt go t...</td>\n",
       "    </tr>\n",
       "    <tr>\n",
       "      <th>4</th>\n",
       "      <td>heidi and april went to hunedoara</td>\n",
       "      <td>stacey didnt go to hunedoara</td>\n",
       "      <td>heidi went to hunedoara</td>\n",
       "      <td>april went to hunedoara</td>\n",
       "      <td>0</td>\n",
       "      <td>heidi and april went to hunedoara, stacey didn...</td>\n",
       "    </tr>\n",
       "  </tbody>\n",
       "</table>\n",
       "</div>"
      ],
      "text/plain": [
       "                            sentence1                     sentence2  \\\n",
       "0   jamie and lindsey went to slatina    brandi didnt go to slatina   \n",
       "1  mary and mathew have visited turda        mary didnt visit turda   \n",
       "2      clinton went to blaj and lugoj      clinton didnt go to blaj   \n",
       "3        amy and maria went to tulcea      eddie didnt go to tulcea   \n",
       "4   heidi and april went to hunedoara  stacey didnt go to hunedoara   \n",
       "\n",
       "                     and_A                     and_B  label  \\\n",
       "0    jamie went to slatina   lindsey went to slatina      0   \n",
       "1   mary has visited turda  mathew has visited turda      1   \n",
       "2     clinton went to blaj     clinton went to lugoj      1   \n",
       "3       amy went to tulcea      maria went to tulcea      0   \n",
       "4  heidi went to hunedoara   april went to hunedoara      0   \n",
       "\n",
       "                                                text  \n",
       "0  jamie and lindsey went to slatina, brandi didn...  \n",
       "1  mary and mathew have visited turda, mary didnt...  \n",
       "2  clinton went to blaj and lugoj, clinton didnt ...  \n",
       "3  amy and maria went to tulcea, eddie didnt go t...  \n",
       "4  heidi and april went to hunedoara, stacey didn...  "
      ]
     },
     "execution_count": 6,
     "metadata": {},
     "output_type": "execute_result"
    }
   ],
   "source": [
    "df3.head()"
   ]
  },
  {
   "cell_type": "code",
   "execution_count": 7,
   "metadata": {},
   "outputs": [
    {
     "data": {
      "image/png": "[encoded data removed]",
      "text/plain": [
       "<Figure size 432x288 with 1 Axes>"
      ]
     },
     "metadata": {},
     "output_type": "display_data"
    }
   ],
   "source": [
    "plot_histogram_from_labels(df3.label.values, [\"no\", \"yes\"], \"test.png\") "
   ]
  },
  {
   "cell_type": "code",
   "execution_count": 8,
   "metadata": {},
   "outputs": [],
   "source": [
    "df3_little = df3[[\"text\", \"label\"]]"
   ]
  },
  {
   "cell_type": "code",
   "execution_count": 9,
   "metadata": {},
   "outputs": [
    {
     "data": {
      "text/html": [
       "<div>\n",
       "<style scoped>\n",
       "    .dataframe tbody tr th:only-of-type {\n",
       "        vertical-align: middle;\n",
       "    }\n",
       "\n",
       "    .dataframe tbody tr th {\n",
       "        vertical-align: top;\n",
       "    }\n",
       "\n",
       "    .dataframe thead th {\n",
       "        text-align: right;\n",
       "    }\n",
       "</style>\n",
       "<table border=\"1\" class=\"dataframe\">\n",
       "  <thead>\n",
       "    <tr style=\"text-align: right;\">\n",
       "      <th></th>\n",
       "      <th>text</th>\n",
       "      <th>label</th>\n",
       "    </tr>\n",
       "  </thead>\n",
       "  <tbody>\n",
       "    <tr>\n",
       "      <th>0</th>\n",
       "      <td>jamie and lindsey went to slatina, brandi didn...</td>\n",
       "      <td>0</td>\n",
       "    </tr>\n",
       "    <tr>\n",
       "      <th>1</th>\n",
       "      <td>mary and mathew have visited turda, mary didnt...</td>\n",
       "      <td>1</td>\n",
       "    </tr>\n",
       "    <tr>\n",
       "      <th>2</th>\n",
       "      <td>clinton went to blaj and lugoj, clinton didnt ...</td>\n",
       "      <td>1</td>\n",
       "    </tr>\n",
       "    <tr>\n",
       "      <th>3</th>\n",
       "      <td>amy and maria went to tulcea, eddie didnt go t...</td>\n",
       "      <td>0</td>\n",
       "    </tr>\n",
       "    <tr>\n",
       "      <th>4</th>\n",
       "      <td>heidi and april went to hunedoara, stacey didn...</td>\n",
       "      <td>0</td>\n",
       "    </tr>\n",
       "  </tbody>\n",
       "</table>\n",
       "</div>"
      ],
      "text/plain": [
       "                                                text  label\n",
       "0  jamie and lindsey went to slatina, brandi didn...      0\n",
       "1  mary and mathew have visited turda, mary didnt...      1\n",
       "2  clinton went to blaj and lugoj, clinton didnt ...      1\n",
       "3  amy and maria went to tulcea, eddie didnt go t...      0\n",
       "4  heidi and april went to hunedoara, stacey didn...      0"
      ]
     },
     "execution_count": 9,
     "metadata": {},
     "output_type": "execute_result"
    }
   ],
   "source": [
    "df3_little.head()"
   ]
  },
  {
   "cell_type": "code",
   "execution_count": 10,
   "metadata": {},
   "outputs": [],
   "source": [
    "train_data_path = \"data/boolean_3_train_lab.csv\"\n",
    "\n",
    "df3_little.to_csv(train_data_path, header=False, index=False)"
   ]
  },
  {
   "cell_type": "code",
   "execution_count": 11,
   "metadata": {},
   "outputs": [],
   "source": [
    "TEXT = data.Field()\n",
    "LABEL = data.LabelField(tensor_type=torch.FloatTensor)\n",
    "train = data.TabularDataset(path=train_data_path,\n",
    "                            format=\"csv\",\n",
    "                            fields=[('text', TEXT), ('label', LABEL)])"
   ]
  },
  {
   "cell_type": "code",
   "execution_count": 12,
   "metadata": {},
   "outputs": [],
   "source": [
    "TEXT.build_vocab(train, max_size=25000)\n",
    "LABEL.build_vocab(train)"
   ]
  },
  {
   "cell_type": "code",
   "execution_count": 13,
   "metadata": {},
   "outputs": [
    {
     "name": "stdout",
     "output_type": "stream",
     "text": [
      "len(TEXT.vocab): 708\n",
      "len(LABEL.vocab): 2\n"
     ]
    }
   ],
   "source": [
    "print('len(TEXT.vocab):', len(TEXT.vocab))\n",
    "print('len(LABEL.vocab):', len(LABEL.vocab))"
   ]
  },
  {
   "cell_type": "code",
   "execution_count": 14,
   "metadata": {},
   "outputs": [
    {
     "data": {
      "text/html": [
       "<div>\n",
       "<style scoped>\n",
       "    .dataframe tbody tr th:only-of-type {\n",
       "        vertical-align: middle;\n",
       "    }\n",
       "\n",
       "    .dataframe tbody tr th {\n",
       "        vertical-align: top;\n",
       "    }\n",
       "\n",
       "    .dataframe thead th {\n",
       "        text-align: right;\n",
       "    }\n",
       "</style>\n",
       "<table border=\"1\" class=\"dataframe\">\n",
       "  <thead>\n",
       "    <tr style=\"text-align: right;\">\n",
       "      <th></th>\n",
       "      <th>text</th>\n",
       "      <th>label</th>\n",
       "    </tr>\n",
       "  </thead>\n",
       "  <tbody>\n",
       "    <tr>\n",
       "      <th>0</th>\n",
       "      <td>jamie and lindsey went to slatina, brandi didn...</td>\n",
       "      <td>0</td>\n",
       "    </tr>\n",
       "    <tr>\n",
       "      <th>1</th>\n",
       "      <td>mary and mathew have visited turda, mary didnt...</td>\n",
       "      <td>1</td>\n",
       "    </tr>\n",
       "    <tr>\n",
       "      <th>2</th>\n",
       "      <td>clinton went to blaj and lugoj, clinton didnt ...</td>\n",
       "      <td>1</td>\n",
       "    </tr>\n",
       "    <tr>\n",
       "      <th>3</th>\n",
       "      <td>amy and maria went to tulcea, eddie didnt go t...</td>\n",
       "      <td>0</td>\n",
       "    </tr>\n",
       "    <tr>\n",
       "      <th>4</th>\n",
       "      <td>heidi and april went to hunedoara, stacey didn...</td>\n",
       "      <td>0</td>\n",
       "    </tr>\n",
       "  </tbody>\n",
       "</table>\n",
       "</div>"
      ],
      "text/plain": [
       "                                                text  label\n",
       "0  jamie and lindsey went to slatina, brandi didn...      0\n",
       "1  mary and mathew have visited turda, mary didnt...      1\n",
       "2  clinton went to blaj and lugoj, clinton didnt ...      1\n",
       "3  amy and maria went to tulcea, eddie didnt go t...      0\n",
       "4  heidi and april went to hunedoara, stacey didn...      0"
      ]
     },
     "execution_count": 14,
     "metadata": {},
     "output_type": "execute_result"
    }
   ],
   "source": [
    "df3_little.head()"
   ]
  },
  {
   "cell_type": "code",
   "execution_count": 15,
   "metadata": {},
   "outputs": [
    {
     "data": {
      "text/html": [
       "<div>\n",
       "<style scoped>\n",
       "    .dataframe tbody tr th:only-of-type {\n",
       "        vertical-align: middle;\n",
       "    }\n",
       "\n",
       "    .dataframe tbody tr th {\n",
       "        vertical-align: top;\n",
       "    }\n",
       "\n",
       "    .dataframe thead th {\n",
       "        text-align: right;\n",
       "    }\n",
       "</style>\n",
       "<table border=\"1\" class=\"dataframe\">\n",
       "  <thead>\n",
       "    <tr style=\"text-align: right;\">\n",
       "      <th></th>\n",
       "      <th>sentence1</th>\n",
       "      <th>sentence2</th>\n",
       "      <th>and_A</th>\n",
       "      <th>and_B</th>\n",
       "      <th>label</th>\n",
       "      <th>text</th>\n",
       "    </tr>\n",
       "  </thead>\n",
       "  <tbody>\n",
       "    <tr>\n",
       "      <th>0</th>\n",
       "      <td>jamie and lindsey went to slatina</td>\n",
       "      <td>brandi didnt go to slatina</td>\n",
       "      <td>jamie went to slatina</td>\n",
       "      <td>lindsey went to slatina</td>\n",
       "      <td>0</td>\n",
       "      <td>jamie and lindsey went to slatina, brandi didn...</td>\n",
       "    </tr>\n",
       "    <tr>\n",
       "      <th>1</th>\n",
       "      <td>mary and mathew have visited turda</td>\n",
       "      <td>mary didnt visit turda</td>\n",
       "      <td>mary has visited turda</td>\n",
       "      <td>mathew has visited turda</td>\n",
       "      <td>1</td>\n",
       "      <td>mary and mathew have visited turda, mary didnt...</td>\n",
       "    </tr>\n",
       "    <tr>\n",
       "      <th>2</th>\n",
       "      <td>clinton went to blaj and lugoj</td>\n",
       "      <td>clinton didnt go to blaj</td>\n",
       "      <td>clinton went to blaj</td>\n",
       "      <td>clinton went to lugoj</td>\n",
       "      <td>1</td>\n",
       "      <td>clinton went to blaj and lugoj, clinton didnt ...</td>\n",
       "    </tr>\n",
       "    <tr>\n",
       "      <th>3</th>\n",
       "      <td>amy and maria went to tulcea</td>\n",
       "      <td>eddie didnt go to tulcea</td>\n",
       "      <td>amy went to tulcea</td>\n",
       "      <td>maria went to tulcea</td>\n",
       "      <td>0</td>\n",
       "      <td>amy and maria went to tulcea, eddie didnt go t...</td>\n",
       "    </tr>\n",
       "    <tr>\n",
       "      <th>4</th>\n",
       "      <td>heidi and april went to hunedoara</td>\n",
       "      <td>stacey didnt go to hunedoara</td>\n",
       "      <td>heidi went to hunedoara</td>\n",
       "      <td>april went to hunedoara</td>\n",
       "      <td>0</td>\n",
       "      <td>heidi and april went to hunedoara, stacey didn...</td>\n",
       "    </tr>\n",
       "  </tbody>\n",
       "</table>\n",
       "</div>"
      ],
      "text/plain": [
       "                            sentence1                     sentence2  \\\n",
       "0   jamie and lindsey went to slatina    brandi didnt go to slatina   \n",
       "1  mary and mathew have visited turda        mary didnt visit turda   \n",
       "2      clinton went to blaj and lugoj      clinton didnt go to blaj   \n",
       "3        amy and maria went to tulcea      eddie didnt go to tulcea   \n",
       "4   heidi and april went to hunedoara  stacey didnt go to hunedoara   \n",
       "\n",
       "                     and_A                     and_B  label  \\\n",
       "0    jamie went to slatina   lindsey went to slatina      0   \n",
       "1   mary has visited turda  mathew has visited turda      1   \n",
       "2     clinton went to blaj     clinton went to lugoj      1   \n",
       "3       amy went to tulcea      maria went to tulcea      0   \n",
       "4  heidi went to hunedoara   april went to hunedoara      0   \n",
       "\n",
       "                                                text  \n",
       "0  jamie and lindsey went to slatina, brandi didn...  \n",
       "1  mary and mathew have visited turda, mary didnt...  \n",
       "2  clinton went to blaj and lugoj, clinton didnt ...  \n",
       "3  amy and maria went to tulcea, eddie didnt go t...  \n",
       "4  heidi and april went to hunedoara, stacey didn...  "
      ]
     },
     "execution_count": 15,
     "metadata": {},
     "output_type": "execute_result"
    }
   ],
   "source": [
    "df3.head()"
   ]
  },
  {
   "cell_type": "code",
   "execution_count": 16,
   "metadata": {},
   "outputs": [],
   "source": [
    "exampleS1 = list(df3.sentence1.values)[0:3]\n",
    "exampleS2 = list(df3.sentence2.values)[0:3]\n",
    "exampleA = list(df3.and_A.values)[0:3]\n",
    "exampleB = list(df3.and_B.values)[0:3]\n",
    "exampleLabel = list(df3.label.values)[0:3]"
   ]
  },
  {
   "cell_type": "code",
   "execution_count": 17,
   "metadata": {},
   "outputs": [],
   "source": [
    "def finde_size(list_):\n",
    "    return np.max(list(map(lambda x: len(x.split(\" \")), list_)))"
   ]
  },
  {
   "cell_type": "code",
   "execution_count": 18,
   "metadata": {},
   "outputs": [
    {
     "name": "stdout",
     "output_type": "stream",
     "text": [
      "jamie and lindsey went to slatina\n",
      "tensor([ 54,   3, 614,   7,   2,  17]) 6\n",
      "\n",
      "mary and mathew have visited turda\n",
      "tensor([506,   3,  68,  12,   9,  25]) 6\n",
      "\n",
      "clinton went to blaj and lugoj\n",
      "tensor([553,   7,   2,  21,   3,  22]) 6\n",
      "\n"
     ]
    }
   ],
   "source": [
    "exampleS1i = []\n",
    "max_size = finde_size(exampleS1)\n",
    "for line in exampleS1:\n",
    "    line = line.split(\" \")\n",
    "    size = len(line) \n",
    "    tail = max_size - size\n",
    "    line += [TEXT.pad_token] * tail\n",
    "    new_line = [TEXT.vocab.stoi[word] for word in line]\n",
    "    exampleS1i.append(new_line)\n",
    "exampleS1i = torch.tensor(exampleS1i, dtype=torch.long, device=device)\n",
    "for a,b in zip(exampleS1, exampleS1i):\n",
    "    print(a)\n",
    "    print(b, len(b))\n",
    "    print()"
   ]
  },
  {
   "cell_type": "code",
   "execution_count": 19,
   "metadata": {},
   "outputs": [
    {
     "name": "stdout",
     "output_type": "stream",
     "text": [
      "brandi didnt go to slatina\n",
      "tensor([71,  4,  6,  2, 17]) 5\n",
      "\n",
      "mary didnt visit turda\n",
      "tensor([506,   4,   8,  25,   1]) 5\n",
      "\n",
      "clinton didnt go to blaj\n",
      "tensor([553,   4,   6,   2,  21]) 5\n",
      "\n"
     ]
    }
   ],
   "source": [
    "exampleS2i = []\n",
    "max_size = finde_size(exampleS2)\n",
    "for line in exampleS2:\n",
    "    line = line.split(\" \")\n",
    "    size = len(line) \n",
    "    tail = max_size - size\n",
    "    line += [TEXT.pad_token] * tail\n",
    "    new_line = [TEXT.vocab.stoi[word] for word in line]\n",
    "    exampleS2i.append(new_line)\n",
    "\n",
    "exampleS2i = torch.tensor(exampleS2i, dtype=torch.long, device=device)\n",
    "for a,b in zip(exampleS2, exampleS2i):\n",
    "    print(a)\n",
    "    print(b, len(b))\n",
    "    print()"
   ]
  },
  {
   "cell_type": "code",
   "execution_count": 20,
   "metadata": {},
   "outputs": [
    {
     "name": "stdout",
     "output_type": "stream",
     "text": [
      "jamie went to slatina\n",
      "tensor([54,  7,  2, 17]) 4\n",
      "\n",
      "mary has visited turda\n",
      "tensor([506,   5,   9,  25]) 4\n",
      "\n",
      "clinton went to blaj\n",
      "tensor([553,   7,   2,  21]) 4\n",
      "\n"
     ]
    }
   ],
   "source": [
    "exampleAi = []\n",
    "max_size = finde_size(exampleA)\n",
    "for line in exampleA:\n",
    "    line = line.split(\" \")\n",
    "    size = len(line) \n",
    "    tail = max_size - size\n",
    "    line += [TEXT.pad_token] * tail\n",
    "    new_line = [TEXT.vocab.stoi[word] for word in line]\n",
    "    exampleAi.append(new_line)\n",
    "    \n",
    "exampleAi = torch.tensor(exampleAi, dtype=torch.long, device=device)\n",
    "for a,b in zip(exampleA, exampleAi):\n",
    "    print(a)\n",
    "    print(b, len(b))\n",
    "    print()"
   ]
  },
  {
   "cell_type": "code",
   "execution_count": 21,
   "metadata": {},
   "outputs": [
    {
     "name": "stdout",
     "output_type": "stream",
     "text": [
      "lindsey went to slatina\n",
      "tensor([614,   7,   2,  17]) 4\n",
      "\n",
      "mathew has visited turda\n",
      "tensor([68,  5,  9, 25]) 4\n",
      "\n",
      "clinton went to lugoj\n",
      "tensor([553,   7,   2,  22]) 4\n",
      "\n"
     ]
    }
   ],
   "source": [
    "exampleBi = []\n",
    "max_size = finde_size(exampleB)\n",
    "for line in exampleB:\n",
    "    line = line.split(\" \")\n",
    "    size = len(line) \n",
    "    tail = max_size - size\n",
    "    line += [TEXT.pad_token] * tail\n",
    "    new_line = [TEXT.vocab.stoi[word] for word in line]\n",
    "    exampleBi.append(new_line)\n",
    "\n",
    "exampleBi = torch.tensor(exampleBi, dtype=torch.long, device=device)\n",
    "for a,b in zip(exampleB, exampleBi):\n",
    "    print(a)\n",
    "    print(b, len(b))\n",
    "    print()"
   ]
  },
  {
   "cell_type": "code",
   "execution_count": 22,
   "metadata": {},
   "outputs": [],
   "source": [
    "s1 = exampleS1i[0]\n",
    "s2 = exampleS2i[0]\n",
    "and_a = exampleAi[0]\n",
    "and_b = exampleBi[0]"
   ]
  },
  {
   "cell_type": "code",
   "execution_count": 23,
   "metadata": {},
   "outputs": [],
   "source": [
    "exampleS1i_t  = exampleS1i.view((exampleS1i.shape[1], exampleS1i.shape[0]))\n",
    "exampleS2i_t  = exampleS2i.view((exampleS2i.shape[1], exampleS2i.shape[0]))\n",
    "exampleAi_t  = exampleAi.view((exampleAi.shape[1], exampleAi.shape[0]))\n",
    "exampleBi_t  = exampleBi.view((exampleBi.shape[1], exampleBi.shape[0]))\n",
    "exampleLabeli = torch.tensor(exampleLabel, dtype=torch.long, device=device)"
   ]
  },
  {
   "cell_type": "code",
   "execution_count": 24,
   "metadata": {},
   "outputs": [],
   "source": [
    "class AddRNN(nn.Module):\n",
    "    def __init__(self,\n",
    "                 vocab_size,\n",
    "                 hidden_size,\n",
    "                 output_size):\n",
    "        super(AddRNN, self).__init__()\n",
    "        self.hidden_size = hidden_size\n",
    "        self.embedding = nn.Embedding(vocab_size, hidden_size)\n",
    "        self.rnn = nn.GRU(hidden_size, hidden_size) \n",
    "        self.fcA = nn.Linear(hidden_size, hidden_size)\n",
    "        self.fcB = nn.Linear(hidden_size, hidden_size)\n",
    "        self.fc_out = nn.Linear(hidden_size, output_size)\n",
    "#         self.fc_inf = nn.Linear(hidden_size * 2, hidden_size)\n",
    "        \n",
    "        \n",
    "    def encode(self, x, hidden=None):\n",
    "        if hidden is None:\n",
    "            hidden = torch.zeros((1, x.shape[1], self.hidden_size), device=device)\n",
    "        embedded = self.embedding(x)       \n",
    "        output, hidden = self.rnn(embedded, hidden)\n",
    "        hidden = hidden.squeeze(0)\n",
    "        return hidden\n",
    "\n",
    "    def forward(self, s1, s2):\n",
    "        h = self.encode(s1)\n",
    "        ha = self.fcA(h)\n",
    "        hb = self.fcB(h)\n",
    "        h_inf = ha + hb\n",
    "#         h_inf = ha * hb\n",
    "#         h_inf = self.fc_inf(torch.cat([ha, hb], dim=1))\n",
    "        h_inf = h_inf.view((1, h_inf.shape[0], h_inf.shape[1]))\n",
    "        s2_enc = self.encode(s2, h_inf)\n",
    "        out = self.fc_out(s2_enc)\n",
    "        return out\n",
    "\n"
   ]
  },
  {
   "cell_type": "code",
   "execution_count": 25,
   "metadata": {},
   "outputs": [],
   "source": [
    "model = AddRNN(vocab_size=len(TEXT.vocab),\n",
    "               hidden_size=10,\n",
    "               output_size=2)\n",
    "\n",
    "out = model(exampleS1i_t, exampleS2i_t)"
   ]
  },
  {
   "cell_type": "code",
   "execution_count": 26,
   "metadata": {},
   "outputs": [],
   "source": [
    "from torch.utils.data import TensorDataset\n",
    "\n",
    "train_dataset = TensorDataset(exampleS1i, exampleS2i, exampleAi, exampleBi, exampleLabeli)\n",
    "valid_dataset = TensorDataset(exampleS1i, exampleS2i, exampleAi, exampleBi, exampleLabeli)\n",
    "test_dataset = TensorDataset(exampleS1i, exampleS2i, exampleAi, exampleBi, exampleLabeli)"
   ]
  },
  {
   "cell_type": "code",
   "execution_count": 27,
   "metadata": {},
   "outputs": [],
   "source": [
    "from torch.utils.data import DataLoader\n",
    "\n",
    "class DataHolderGentle():\n",
    "    \"\"\"\n",
    "    Class to store all data using the GentleLoader.\n",
    "\n",
    "    :param config: hyper params configuration\n",
    "    :type config: LRConfig or DFNConfig\n",
    "    :param train_dataset: dataset of training data\n",
    "    :type train_dataset: torch.utils.data.dataset.TensorDataset\n",
    "    :param test_dataset: dataset of test data\n",
    "    :type test_dataset: torch.utils.data.dataset.TensorDataset\n",
    "    :param valid_dataset: dataset of valid data\n",
    "    :type valid_dataset: torch.utils.data.dataset.TensorDataset\n",
    "    :param batch_size: batch size for training\n",
    "    :type test_batch: batch size for the testing data\n",
    "    :param test_batch: int\n",
    "    \"\"\"\n",
    "    def __init__(self,\n",
    "                 config,\n",
    "                 train_dataset,\n",
    "                 valid_dataset,\n",
    "                 test_dataset,\n",
    "                 test_batch=1000):\n",
    "        batch_size = config.batch_size\n",
    "        self.train_loader = DataLoader(dataset=train_dataset,\n",
    "                                         batch_size=batch_size,\n",
    "                                         shuffle=True)\n",
    "        self.valid_loader = DataLoader(dataset=valid_dataset,\n",
    "                                         batch_size=batch_size,\n",
    "                                         shuffle=True)\n",
    "        self.test_loader = DataLoader(dataset=test_dataset,\n",
    "                                        batch_size=test_batch,\n",
    "                                        shuffle=True)"
   ]
  },
  {
   "cell_type": "code",
   "execution_count": 28,
   "metadata": {},
   "outputs": [],
   "source": [
    "config = RNNConfig()\n",
    "b_data = DataHolderGentle(config,\n",
    "                          train_dataset,\n",
    "                          valid_dataset,\n",
    "                          test_dataset)"
   ]
  },
  {
   "cell_type": "code",
   "execution_count": 29,
   "metadata": {},
   "outputs": [
    {
     "data": {
      "text/plain": [
       "[tensor([[553,   7,   2,  21,   3,  22],\n",
       "         [506,   3,  68,  12,   9,  25],\n",
       "         [ 54,   3, 614,   7,   2,  17]]), tensor([[553,   4,   6,   2,  21],\n",
       "         [506,   4,   8,  25,   1],\n",
       "         [ 71,   4,   6,   2,  17]]), tensor([[553,   7,   2,  21],\n",
       "         [506,   5,   9,  25],\n",
       "         [ 54,   7,   2,  17]]), tensor([[553,   7,   2,  22],\n",
       "         [ 68,   5,   9,  25],\n",
       "         [614,   7,   2,  17]]), tensor([1, 1, 0])]"
      ]
     },
     "execution_count": 29,
     "metadata": {},
     "output_type": "execute_result"
    }
   ],
   "source": [
    "next(iter(b_data.train_loader))"
   ]
  },
  {
   "cell_type": "code",
   "execution_count": null,
   "metadata": {},
   "outputs": [],
   "source": []
  },
  {
   "cell_type": "code",
   "execution_count": null,
   "metadata": {},
   "outputs": [],
   "source": []
  },
  {
   "cell_type": "code",
   "execution_count": null,
   "metadata": {},
   "outputs": [],
   "source": []
  },
  {
   "cell_type": "code",
   "execution_count": null,
   "metadata": {},
   "outputs": [],
   "source": []
  },
  {
   "cell_type": "code",
   "execution_count": null,
   "metadata": {},
   "outputs": [],
   "source": []
  },
  {
   "cell_type": "code",
   "execution_count": null,
   "metadata": {},
   "outputs": [],
   "source": []
  },
  {
   "cell_type": "code",
   "execution_count": null,
   "metadata": {},
   "outputs": [],
   "source": []
  },
  {
   "cell_type": "code",
   "execution_count": null,
   "metadata": {},
   "outputs": [],
   "source": []
  },
  {
   "cell_type": "code",
   "execution_count": null,
   "metadata": {},
   "outputs": [],
   "source": []
  },
  {
   "cell_type": "code",
   "execution_count": null,
   "metadata": {},
   "outputs": [],
   "source": []
  },
  {
   "cell_type": "code",
   "execution_count": null,
   "metadata": {},
   "outputs": [],
   "source": []
  },
  {
   "cell_type": "code",
   "execution_count": null,
   "metadata": {},
   "outputs": [],
   "source": []
  }
 ],
 "metadata": {
  "kernelspec": {
   "display_name": "Python 3",
   "language": "python",
   "name": "python3"
  },
  "language_info": {
   "codemirror_mode": {
    "name": "ipython",
    "version": 3
   },
   "file_extension": ".py",
   "mimetype": "text/x-python",
   "name": "python",
   "nbconvert_exporter": "python",
   "pygments_lexer": "ipython3",
   "version": "3.5.2"
  }
 },
 "nbformat": 4,
 "nbformat_minor": 2
}
