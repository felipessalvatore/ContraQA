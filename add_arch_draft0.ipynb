{
 "cells": [
  {
   "cell_type": "code",
   "execution_count": 1,
   "metadata": {},
   "outputs": [],
   "source": [
    "from contra_qa.text_generation.boolean3_NP_and import boolean3\n",
    "from contra_qa.text_generation.boolean4_VP_and import boolean4\n",
    "from contra_qa.text_generation.boolean5_AP_and import boolean5\n",
    "from contra_qa.text_processing.functions import simple_pre_process_text_df\n",
    "from contra_qa.plots.functions  import plot_histogram_from_labels\n",
    "\n",
    "from contra_qa.train_functions.RNNConfig import RNNConfig\n",
    "import numpy as np\n",
    "import torch\n",
    "import torch.nn as nn\n",
    "from torchtext import data\n",
    "\n",
    "import pandas as pd\n",
    "device = torch.device(\"cuda\" if torch.cuda.is_available() else \"cpu\")\n",
    "\n",
    "% matplotlib inline"
   ]
  },
  {
   "cell_type": "markdown",
   "metadata": {},
   "source": [
    "# manipulating datasets"
   ]
  },
  {
   "cell_type": "code",
   "execution_count": 2,
   "metadata": {},
   "outputs": [],
   "source": [
    "boolean3()\n",
    "# boolean4()\n",
    "# boolean5()"
   ]
  },
  {
   "cell_type": "code",
   "execution_count": 3,
   "metadata": {},
   "outputs": [],
   "source": [
    "df3 = pd.read_csv(\"data/boolean3_train.csv\")\n",
    "df3test = pd.read_csv(\"data/boolean3_test.csv\")"
   ]
  },
  {
   "cell_type": "code",
   "execution_count": 4,
   "metadata": {},
   "outputs": [
    {
     "data": {
      "text/html": [
       "<div>\n",
       "<style scoped>\n",
       "    .dataframe tbody tr th:only-of-type {\n",
       "        vertical-align: middle;\n",
       "    }\n",
       "\n",
       "    .dataframe tbody tr th {\n",
       "        vertical-align: top;\n",
       "    }\n",
       "\n",
       "    .dataframe thead th {\n",
       "        text-align: right;\n",
       "    }\n",
       "</style>\n",
       "<table border=\"1\" class=\"dataframe\">\n",
       "  <thead>\n",
       "    <tr style=\"text-align: right;\">\n",
       "      <th></th>\n",
       "      <th>sentence1</th>\n",
       "      <th>sentence2</th>\n",
       "      <th>and_A</th>\n",
       "      <th>and_B</th>\n",
       "      <th>label</th>\n",
       "    </tr>\n",
       "  </thead>\n",
       "  <tbody>\n",
       "    <tr>\n",
       "      <th>9995</th>\n",
       "      <td>Geneva has visited Lugoj and Giurgiu</td>\n",
       "      <td>Geneva didn't visit Bucharest</td>\n",
       "      <td>Geneva has visited Lugoj</td>\n",
       "      <td>Geneva has visited Giurgiu</td>\n",
       "      <td>0</td>\n",
       "    </tr>\n",
       "    <tr>\n",
       "      <th>9996</th>\n",
       "      <td>Jeff has traveled to Deva and Hunedoara</td>\n",
       "      <td>Jeff didn't travel to Deva</td>\n",
       "      <td>Jeff has traveled to Deva</td>\n",
       "      <td>Jeff has traveled to Hunedoara</td>\n",
       "      <td>1</td>\n",
       "    </tr>\n",
       "    <tr>\n",
       "      <th>9997</th>\n",
       "      <td>Tyrone and Micheal have visited Dej</td>\n",
       "      <td>Micheal didn't visit Dej</td>\n",
       "      <td>Tyrone has visited Dej</td>\n",
       "      <td>Micheal has visited Dej</td>\n",
       "      <td>1</td>\n",
       "    </tr>\n",
       "    <tr>\n",
       "      <th>9998</th>\n",
       "      <td>Yvonne and Kristen have visited Slobozia</td>\n",
       "      <td>Kristen didn't visit Slobozia</td>\n",
       "      <td>Yvonne has visited Slobozia</td>\n",
       "      <td>Kristen has visited Slobozia</td>\n",
       "      <td>1</td>\n",
       "    </tr>\n",
       "    <tr>\n",
       "      <th>9999</th>\n",
       "      <td>Allan and Julia have visited Reghin</td>\n",
       "      <td>Julia didn't visit Reghin</td>\n",
       "      <td>Allan has visited Reghin</td>\n",
       "      <td>Julia has visited Reghin</td>\n",
       "      <td>1</td>\n",
       "    </tr>\n",
       "  </tbody>\n",
       "</table>\n",
       "</div>"
      ],
      "text/plain": [
       "                                     sentence1                      sentence2  \\\n",
       "9995      Geneva has visited Lugoj and Giurgiu  Geneva didn't visit Bucharest   \n",
       "9996   Jeff has traveled to Deva and Hunedoara     Jeff didn't travel to Deva   \n",
       "9997       Tyrone and Micheal have visited Dej       Micheal didn't visit Dej   \n",
       "9998  Yvonne and Kristen have visited Slobozia  Kristen didn't visit Slobozia   \n",
       "9999       Allan and Julia have visited Reghin      Julia didn't visit Reghin   \n",
       "\n",
       "                            and_A                           and_B  label  \n",
       "9995     Geneva has visited Lugoj      Geneva has visited Giurgiu      0  \n",
       "9996    Jeff has traveled to Deva  Jeff has traveled to Hunedoara      1  \n",
       "9997       Tyrone has visited Dej         Micheal has visited Dej      1  \n",
       "9998  Yvonne has visited Slobozia    Kristen has visited Slobozia      1  \n",
       "9999     Allan has visited Reghin        Julia has visited Reghin      1  "
      ]
     },
     "execution_count": 4,
     "metadata": {},
     "output_type": "execute_result"
    }
   ],
   "source": [
    "df3.tail()"
   ]
  },
  {
   "cell_type": "code",
   "execution_count": 5,
   "metadata": {},
   "outputs": [
    {
     "data": {
      "text/html": [
       "<div>\n",
       "<style scoped>\n",
       "    .dataframe tbody tr th:only-of-type {\n",
       "        vertical-align: middle;\n",
       "    }\n",
       "\n",
       "    .dataframe tbody tr th {\n",
       "        vertical-align: top;\n",
       "    }\n",
       "\n",
       "    .dataframe thead th {\n",
       "        text-align: right;\n",
       "    }\n",
       "</style>\n",
       "<table border=\"1\" class=\"dataframe\">\n",
       "  <thead>\n",
       "    <tr style=\"text-align: right;\">\n",
       "      <th></th>\n",
       "      <th>sentence1</th>\n",
       "      <th>sentence2</th>\n",
       "      <th>and_A</th>\n",
       "      <th>and_B</th>\n",
       "      <th>label</th>\n",
       "    </tr>\n",
       "  </thead>\n",
       "  <tbody>\n",
       "    <tr>\n",
       "      <th>995</th>\n",
       "      <td>Dennis and Glen have traveled to Bucharest</td>\n",
       "      <td>Dennis didn't travel to Slobozia</td>\n",
       "      <td>Dennis has traveled to Bucharest</td>\n",
       "      <td>Glen has traveled to Bucharest</td>\n",
       "      <td>0</td>\n",
       "    </tr>\n",
       "    <tr>\n",
       "      <th>996</th>\n",
       "      <td>Ben and Kristi have visited Slatina</td>\n",
       "      <td>Ben didn't visit Slatina</td>\n",
       "      <td>Ben has visited Slatina</td>\n",
       "      <td>Kristi has visited Slatina</td>\n",
       "      <td>1</td>\n",
       "    </tr>\n",
       "    <tr>\n",
       "      <th>997</th>\n",
       "      <td>Byron has visited Slobozia and Hunedoara</td>\n",
       "      <td>Byron didn't visit Giurgiu</td>\n",
       "      <td>Byron has visited Slobozia</td>\n",
       "      <td>Byron has visited Hunedoara</td>\n",
       "      <td>0</td>\n",
       "    </tr>\n",
       "    <tr>\n",
       "      <th>998</th>\n",
       "      <td>Jamie has traveled to Reghin and Cluj-Napoca</td>\n",
       "      <td>Jamie didn't travel to Cluj-Napoca</td>\n",
       "      <td>Jamie has traveled to Reghin</td>\n",
       "      <td>Jamie has traveled to Cluj-Napoca</td>\n",
       "      <td>1</td>\n",
       "    </tr>\n",
       "    <tr>\n",
       "      <th>999</th>\n",
       "      <td>Pauline went to Timisoara and Deva</td>\n",
       "      <td>Pauline didn't go to Bucharest</td>\n",
       "      <td>Pauline went to Timisoara</td>\n",
       "      <td>Pauline went to Deva</td>\n",
       "      <td>0</td>\n",
       "    </tr>\n",
       "  </tbody>\n",
       "</table>\n",
       "</div>"
      ],
      "text/plain": [
       "                                        sentence1  \\\n",
       "995    Dennis and Glen have traveled to Bucharest   \n",
       "996           Ben and Kristi have visited Slatina   \n",
       "997      Byron has visited Slobozia and Hunedoara   \n",
       "998  Jamie has traveled to Reghin and Cluj-Napoca   \n",
       "999            Pauline went to Timisoara and Deva   \n",
       "\n",
       "                              sentence2                             and_A  \\\n",
       "995    Dennis didn't travel to Slobozia  Dennis has traveled to Bucharest   \n",
       "996            Ben didn't visit Slatina           Ben has visited Slatina   \n",
       "997          Byron didn't visit Giurgiu        Byron has visited Slobozia   \n",
       "998  Jamie didn't travel to Cluj-Napoca      Jamie has traveled to Reghin   \n",
       "999      Pauline didn't go to Bucharest         Pauline went to Timisoara   \n",
       "\n",
       "                                 and_B  label  \n",
       "995     Glen has traveled to Bucharest      0  \n",
       "996         Kristi has visited Slatina      1  \n",
       "997        Byron has visited Hunedoara      0  \n",
       "998  Jamie has traveled to Cluj-Napoca      1  \n",
       "999               Pauline went to Deva      0  "
      ]
     },
     "execution_count": 5,
     "metadata": {},
     "output_type": "execute_result"
    }
   ],
   "source": [
    "df3test.tail()"
   ]
  },
  {
   "cell_type": "code",
   "execution_count": 6,
   "metadata": {},
   "outputs": [],
   "source": [
    "df3train = df3.iloc[:8500]\n",
    "df3valid = df3.iloc[8500:]"
   ]
  },
  {
   "cell_type": "code",
   "execution_count": 7,
   "metadata": {},
   "outputs": [
    {
     "data": {
      "image/png": "[encoded data removed]",
      "text/plain": [
       "<Figure size 432x288 with 1 Axes>"
      ]
     },
     "metadata": {},
     "output_type": "display_data"
    }
   ],
   "source": [
    "plot_histogram_from_labels(df3train.label.values, [\"no\", \"yes\"], \"test.png\") "
   ]
  },
  {
   "cell_type": "code",
   "execution_count": 8,
   "metadata": {},
   "outputs": [
    {
     "data": {
      "image/png": "[encoded data removed]",
      "text/plain": [
       "<Figure size 432x288 with 1 Axes>"
      ]
     },
     "metadata": {},
     "output_type": "display_data"
    }
   ],
   "source": [
    "plot_histogram_from_labels(df3valid.label.values, [\"no\", \"yes\"], \"test.png\")"
   ]
  },
  {
   "cell_type": "code",
   "execution_count": 9,
   "metadata": {},
   "outputs": [
    {
     "data": {
      "image/png": "[encoded data removed]",
      "text/plain": [
       "<Figure size 432x288 with 1 Axes>"
      ]
     },
     "metadata": {},
     "output_type": "display_data"
    }
   ],
   "source": [
    "plot_histogram_from_labels(df3test.label.values, [\"no\", \"yes\"], \"test.png\") "
   ]
  },
  {
   "cell_type": "code",
   "execution_count": 10,
   "metadata": {},
   "outputs": [],
   "source": [
    "simple_pre_process_text_df(df3, \"sentence1\")\n",
    "simple_pre_process_text_df(df3, \"sentence2\")\n",
    "simple_pre_process_text_df(df3, \"and_A\")\n",
    "simple_pre_process_text_df(df3, \"and_B\")\n",
    "\n",
    "df3[\"text\"] = df3[\"sentence1\"] + \", \" + df3[\"sentence2\"]"
   ]
  },
  {
   "cell_type": "markdown",
   "metadata": {},
   "source": [
    "# creating vocab and tensor data"
   ]
  },
  {
   "cell_type": "code",
   "execution_count": 11,
   "metadata": {},
   "outputs": [],
   "source": [
    "df3_little = df3[[\"text\", \"label\"]]"
   ]
  },
  {
   "cell_type": "code",
   "execution_count": 12,
   "metadata": {},
   "outputs": [
    {
     "data": {
      "text/html": [
       "<div>\n",
       "<style scoped>\n",
       "    .dataframe tbody tr th:only-of-type {\n",
       "        vertical-align: middle;\n",
       "    }\n",
       "\n",
       "    .dataframe tbody tr th {\n",
       "        vertical-align: top;\n",
       "    }\n",
       "\n",
       "    .dataframe thead th {\n",
       "        text-align: right;\n",
       "    }\n",
       "</style>\n",
       "<table border=\"1\" class=\"dataframe\">\n",
       "  <thead>\n",
       "    <tr style=\"text-align: right;\">\n",
       "      <th></th>\n",
       "      <th>text</th>\n",
       "      <th>label</th>\n",
       "    </tr>\n",
       "  </thead>\n",
       "  <tbody>\n",
       "    <tr>\n",
       "      <th>0</th>\n",
       "      <td>molly and armando have visited bucharest, judy...</td>\n",
       "      <td>0</td>\n",
       "    </tr>\n",
       "    <tr>\n",
       "      <th>1</th>\n",
       "      <td>jeffrey has traveled to timisoara and lugoj, s...</td>\n",
       "      <td>0</td>\n",
       "    </tr>\n",
       "    <tr>\n",
       "      <th>2</th>\n",
       "      <td>irene went to dej and timisoara, irene didnt g...</td>\n",
       "      <td>1</td>\n",
       "    </tr>\n",
       "    <tr>\n",
       "      <th>3</th>\n",
       "      <td>ana and loretta have traveled to slatina, ana ...</td>\n",
       "      <td>0</td>\n",
       "    </tr>\n",
       "    <tr>\n",
       "      <th>4</th>\n",
       "      <td>tanya and lola have traveled to dej, lawrence ...</td>\n",
       "      <td>0</td>\n",
       "    </tr>\n",
       "  </tbody>\n",
       "</table>\n",
       "</div>"
      ],
      "text/plain": [
       "                                                text  label\n",
       "0  molly and armando have visited bucharest, judy...      0\n",
       "1  jeffrey has traveled to timisoara and lugoj, s...      0\n",
       "2  irene went to dej and timisoara, irene didnt g...      1\n",
       "3  ana and loretta have traveled to slatina, ana ...      0\n",
       "4  tanya and lola have traveled to dej, lawrence ...      0"
      ]
     },
     "execution_count": 12,
     "metadata": {},
     "output_type": "execute_result"
    }
   ],
   "source": [
    "df3_little.head()"
   ]
  },
  {
   "cell_type": "code",
   "execution_count": 13,
   "metadata": {},
   "outputs": [],
   "source": [
    "train_data_path = \"data/boolean_3_train_lab.csv\"\n",
    "df3_little.to_csv(train_data_path, header=False, index=False)"
   ]
  },
  {
   "cell_type": "code",
   "execution_count": 14,
   "metadata": {},
   "outputs": [],
   "source": [
    "TEXT = data.Field()\n",
    "LABEL = data.LabelField(tensor_type=torch.FloatTensor)\n",
    "train = data.TabularDataset(path=train_data_path,\n",
    "                            format=\"csv\",\n",
    "                            fields=[('text', TEXT), ('label', LABEL)])"
   ]
  },
  {
   "cell_type": "code",
   "execution_count": 15,
   "metadata": {},
   "outputs": [],
   "source": [
    "TEXT.build_vocab(train, max_size=25000)\n",
    "LABEL.build_vocab(train)"
   ]
  },
  {
   "cell_type": "code",
   "execution_count": 16,
   "metadata": {},
   "outputs": [
    {
     "name": "stdout",
     "output_type": "stream",
     "text": [
      "len(TEXT.vocab): 708\n",
      "len(LABEL.vocab): 2\n"
     ]
    }
   ],
   "source": [
    "print('len(TEXT.vocab):', len(TEXT.vocab))\n",
    "print('len(LABEL.vocab):', len(LABEL.vocab))"
   ]
  },
  {
   "cell_type": "code",
   "execution_count": 17,
   "metadata": {},
   "outputs": [],
   "source": [
    "def finde_size(list_):\n",
    "    return np.max(list(map(lambda x: len(x.split(\" \")), list_)))"
   ]
  },
  {
   "cell_type": "code",
   "execution_count": 18,
   "metadata": {},
   "outputs": [],
   "source": [
    "def str_list2tensor(list_):\n",
    "    list_i = []\n",
    "    max_size = finde_size(list_)\n",
    "    for line in list_:\n",
    "        line = line.split(\" \")\n",
    "        size = len(line) \n",
    "        tail = max_size - size\n",
    "        line += [TEXT.pad_token] * tail\n",
    "        new_line = [TEXT.vocab.stoi[word] for word in line]\n",
    "        list_i.append(new_line)\n",
    "    return torch.tensor(list_i, dtype=torch.long, device=device)\n",
    "    "
   ]
  },
  {
   "cell_type": "code",
   "execution_count": 19,
   "metadata": {},
   "outputs": [],
   "source": [
    "exampleS1_train_t = str_list2tensor(list(df3train.sentence1.values))\n",
    "exampleS2_train_t = str_list2tensor(list(df3train.sentence2.values))\n",
    "exampleA_train_t = str_list2tensor(list(df3train.and_A.values))\n",
    "exampleB_train_t = str_list2tensor(list(df3train.and_B.values))\n",
    "exampleLabel_train = torch.tensor(list(df3train.label.values), dtype=torch.long, device=device)"
   ]
  },
  {
   "cell_type": "code",
   "execution_count": 20,
   "metadata": {},
   "outputs": [],
   "source": [
    "exampleS1_valid_t = str_list2tensor(list(df3valid.sentence1.values))\n",
    "exampleS2_valid_t = str_list2tensor(list(df3valid.sentence2.values))\n",
    "exampleA_valid_t = str_list2tensor(list(df3valid.and_A.values))\n",
    "exampleB_valid_t = str_list2tensor(list(df3valid.and_B.values))\n",
    "exampleLabel_valid = torch.tensor(list(df3valid.label.values), dtype=torch.long, device=device)"
   ]
  },
  {
   "cell_type": "code",
   "execution_count": 21,
   "metadata": {},
   "outputs": [],
   "source": [
    "exampleS1_test_t = str_list2tensor(list(df3test.sentence1.values))\n",
    "exampleS2_test_t = str_list2tensor(list(df3test.sentence2.values))\n",
    "exampleA_test_t = str_list2tensor(list(df3test.and_A.values))\n",
    "exampleB_test_t = str_list2tensor(list(df3test.and_B.values))\n",
    "exampleLabel_test = torch.tensor(list(df3test.label.values), dtype=torch.long, device=device)"
   ]
  },
  {
   "cell_type": "code",
   "execution_count": 22,
   "metadata": {},
   "outputs": [],
   "source": [
    "from torch.utils.data import TensorDataset\n",
    "\n",
    "train_dataset = TensorDataset(exampleS1_train_t, exampleS2_train_t, exampleA_train_t, exampleB_train_t, exampleLabel_train)\n",
    "valid_dataset = TensorDataset(exampleS1_valid_t, exampleS2_valid_t, exampleA_valid_t, exampleB_valid_t, exampleLabel_valid)\n",
    "test_dataset = TensorDataset(exampleS1_test_t, exampleS2_test_t, exampleA_test_t, exampleB_test_t, exampleLabel_test)"
   ]
  },
  {
   "cell_type": "code",
   "execution_count": 23,
   "metadata": {},
   "outputs": [],
   "source": [
    "from torch.utils.data import DataLoader\n",
    "\n",
    "class DataHolder():\n",
    "    \"\"\"\n",
    "    Class to store all data using the GentleLoader.\n",
    "\n",
    "    :param config: hyper params configuration\n",
    "    :type config: LRConfig or DFNConfig\n",
    "    :param train_dataset: dataset of training data\n",
    "    :type train_dataset: torch.utils.data.dataset.TensorDataset\n",
    "    :param test_dataset: dataset of test data\n",
    "    :type test_dataset: torch.utils.data.dataset.TensorDataset\n",
    "    :param valid_dataset: dataset of valid data\n",
    "    :type valid_dataset: torch.utils.data.dataset.TensorDataset\n",
    "    :param batch_size: batch size for training\n",
    "    :type test_batch: batch size for the testing data\n",
    "    :param test_batch: int\n",
    "    \"\"\"\n",
    "    def __init__(self,\n",
    "                 config,\n",
    "                 train_dataset,\n",
    "                 valid_dataset,\n",
    "                 test_dataset,\n",
    "                 test_batch=1000):\n",
    "        batch_size = config.batch_size\n",
    "        self.train_loader = DataLoader(dataset=train_dataset,\n",
    "                                         batch_size=batch_size,\n",
    "                                         shuffle=True)\n",
    "        self.valid_loader = DataLoader(dataset=valid_dataset,\n",
    "                                         batch_size=batch_size,\n",
    "                                         shuffle=True)\n",
    "        self.test_loader = DataLoader(dataset=test_dataset,\n",
    "                                        batch_size=test_batch,\n",
    "                                        shuffle=True)"
   ]
  },
  {
   "cell_type": "code",
   "execution_count": 24,
   "metadata": {},
   "outputs": [],
   "source": [
    "config = RNNConfig()\n",
    "b_data = DataHolder(config,\n",
    "                    train_dataset,\n",
    "                    valid_dataset,\n",
    "                    test_dataset)"
   ]
  },
  {
   "cell_type": "markdown",
   "metadata": {},
   "source": [
    "# defining the model"
   ]
  },
  {
   "cell_type": "code",
   "execution_count": 25,
   "metadata": {},
   "outputs": [],
   "source": [
    "class AddRNN(nn.Module):\n",
    "    def __init__(self,\n",
    "                 vocab_size,\n",
    "                 hidden_size,\n",
    "                 output_size):\n",
    "        super(AddRNN, self).__init__()\n",
    "        self.hidden_size = hidden_size\n",
    "        self.embedding = nn.Embedding(vocab_size, hidden_size)\n",
    "        self.rnn = nn.GRU(hidden_size, hidden_size) \n",
    "        self.fcA = nn.Linear(hidden_size, hidden_size)\n",
    "        self.fcB = nn.Linear(hidden_size, hidden_size)\n",
    "        self.fc_out = nn.Linear(hidden_size, output_size)\n",
    "#         self.fc_inf = nn.Linear(hidden_size * 2, hidden_size)\n",
    "        \n",
    "        \n",
    "    def encode(self, x, hidden=None):\n",
    "        if hidden is None:\n",
    "            hidden = torch.zeros((1, x.shape[1], self.hidden_size), device=device)\n",
    "        embedded = self.embedding(x)       \n",
    "        output, hidden = self.rnn(embedded, hidden)\n",
    "        hidden = hidden.squeeze(0)\n",
    "        return hidden\n",
    "\n",
    "    def forward(self, s1, s2):\n",
    "        h = self.encode(s1)\n",
    "        ha = self.fcA(h)\n",
    "        hb = self.fcB(h)\n",
    "        h_inf = ha + hb\n",
    "#         h_inf = ha * hb\n",
    "#         h_inf = self.fc_inf(torch.cat([ha, hb], dim=1))\n",
    "        h_inf = h_inf.view((1, h_inf.shape[0], h_inf.shape[1]))\n",
    "        s2_enc = self.encode(s2, h_inf)\n",
    "        out = self.fc_out(s2_enc)\n",
    "        return out\n",
    "\n",
    "    def predict(self, s1, s2):\n",
    "        out = self.forward(s1, s2)\n",
    "        softmax = nn.Softmax(dim=1)\n",
    "        out = softmax(out)\n",
    "        indices = torch.argmax(out, 1)\n",
    "        return indices\n",
    "\n",
    "#     def evaluate_bach(self, batch):\n",
    "#         prediction = self.predict(batch[0], batch[1])\n",
    "#         labels = batch.label.type('torch.LongTensor')\n",
    "#         correct = torch.sum(torch.eq(prediction, labels)).float()\n",
    "#         accuracy = float(correct / labels.shape[0])\n",
    "#         return accuracy, prediction, labels\n"
   ]
  },
  {
   "cell_type": "code",
   "execution_count": 26,
   "metadata": {},
   "outputs": [],
   "source": [
    "s1, s2, and_A, and_B, label = next(iter(b_data.train_loader))\n",
    "s1 = s1.view((s1.shape[1], s1.shape[0]))\n",
    "s2 = s2.view((s2.shape[1], s2.shape[0]))\n",
    "and_A = and_A.view((and_A.shape[1], and_A.shape[0]))\n",
    "and_B = and_B.view((and_B.shape[1], and_B.shape[0]))"
   ]
  },
  {
   "cell_type": "code",
   "execution_count": 27,
   "metadata": {},
   "outputs": [
    {
     "name": "stdout",
     "output_type": "stream",
     "text": [
      "tensor([0, 1, 1, 0, 1, 1, 1, 1, 1, 0, 1, 1, 1, 1, 0, 0, 1, 0, 0, 1, 1, 0, 1, 1,\n",
      "        1, 1, 0, 0, 1, 1, 1, 1])\n"
     ]
    }
   ],
   "source": [
    "model = AddRNN(vocab_size=len(TEXT.vocab),\n",
    "               hidden_size=10,\n",
    "               output_size=2)\n",
    "\n",
    "out = model.predict(s1, s2)\n",
    "print(out)"
   ]
  },
  {
   "cell_type": "code",
   "execution_count": 28,
   "metadata": {},
   "outputs": [],
   "source": [
    "# def train_in_epoch(model, iterator, optimizer, criterion, negative=False):\n",
    "#     \"\"\"\n",
    "#     Train the model using all the data from the iterator\n",
    "\n",
    "#     Negative is a flag to train the model to maximize the\n",
    "#     loss function\n",
    "\n",
    "#     :param model: RNN classification model\n",
    "#     :type model: RNN\n",
    "#     :param iterator: data iterator\n",
    "#     :type iterator: data.BucketIterator\n",
    "#     :param optimizer: torch optimizer\n",
    "#     :type optimizer: optim.SGD, etc.\n",
    "#     :param criterion: loss criterion\n",
    "#     :type criterion: nn.CrossEntropyLoss\n",
    "#     :param negative: control param\n",
    "#     :type negative: boolean\n",
    "#     :return: mean loss, mean accuracy\n",
    "#     :rtype: float, float\n",
    "#     \"\"\"\n",
    "\n",
    "#     epoch_loss = 0\n",
    "#     epoch_acc = 0\n",
    "\n",
    "#     model.train()\n",
    "\n",
    "#     for batch in iterator:\n",
    "\n",
    "#         optimizer.zero_grad()\n",
    "\n",
    "#         logits = model(batch.text)\n",
    "#         label = batch.label.type(\"torch.LongTensor\")\n",
    "#         loss = criterion(logits, label)\n",
    "#         if negative:\n",
    "#             loss = - loss\n",
    "#         acc, _, _ = model.evaluate_bach(batch)\n",
    "\n",
    "#         loss.backward()\n",
    "#         optimizer.step()\n",
    "\n",
    "#         epoch_loss += loss.item()\n",
    "#         epoch_acc += acc\n",
    "\n",
    "#     mean_loss = epoch_loss / len(iterator)\n",
    "#     mean_acc = epoch_acc / len(iterator)\n",
    "\n",
    "#     return mean_loss, mean_acc"
   ]
  },
  {
   "cell_type": "code",
   "execution_count": null,
   "metadata": {},
   "outputs": [],
   "source": []
  },
  {
   "cell_type": "code",
   "execution_count": null,
   "metadata": {},
   "outputs": [],
   "source": []
  },
  {
   "cell_type": "code",
   "execution_count": null,
   "metadata": {},
   "outputs": [],
   "source": []
  },
  {
   "cell_type": "code",
   "execution_count": null,
   "metadata": {},
   "outputs": [],
   "source": []
  },
  {
   "cell_type": "code",
   "execution_count": null,
   "metadata": {},
   "outputs": [],
   "source": []
  },
  {
   "cell_type": "code",
   "execution_count": null,
   "metadata": {},
   "outputs": [],
   "source": []
  },
  {
   "cell_type": "code",
   "execution_count": null,
   "metadata": {},
   "outputs": [],
   "source": []
  },
  {
   "cell_type": "code",
   "execution_count": null,
   "metadata": {},
   "outputs": [],
   "source": []
  },
  {
   "cell_type": "code",
   "execution_count": null,
   "metadata": {},
   "outputs": [],
   "source": []
  },
  {
   "cell_type": "code",
   "execution_count": null,
   "metadata": {},
   "outputs": [],
   "source": []
  }
 ],
 "metadata": {
  "kernelspec": {
   "display_name": "Python 3",
   "language": "python",
   "name": "python3"
  },
  "language_info": {
   "codemirror_mode": {
    "name": "ipython",
    "version": 3
   },
   "file_extension": ".py",
   "mimetype": "text/x-python",
   "name": "python",
   "nbconvert_exporter": "python",
   "pygments_lexer": "ipython3",
   "version": "3.5.2"
  }
 },
 "nbformat": 4,
 "nbformat_minor": 2
}
