{
 "cells": [
  {
   "cell_type": "markdown",
   "metadata": {},
   "source": [
    "# Training a GRU model using the basic negation data (version 1)\n",
    "\n",
    "\n",
    "## Here we will use the GRU model to distinguish between to kind of sentences:\n",
    "\n",
    "- 1) A, not A (contradiction)\n",
    "\n",
    "- 2) not A, A (contradiction)\n",
    "\n",
    "- 3) A, not B (non-contradiction)\n",
    "\n",
    "- 4) not B, A (non-contradiction)\n",
    "\n",
    "\n"
   ]
  },
  {
   "cell_type": "code",
   "execution_count": 1,
   "metadata": {},
   "outputs": [],
   "source": [
    "# all imports\n",
    "import numpy as np\n",
    "import pandas as pd\n",
    "import torch\n",
    "import math\n",
    "from torchtext import data\n",
    "import torch.optim as optim\n",
    "import torch.nn.functional as F\n",
    "import torch.nn as nn\n",
    "from torch.nn.parameter import Parameter\n",
    "from sklearn.decomposition import PCA\n",
    "from sklearn.manifold import TSNE, Isomap\n",
    "\n",
    "import os\n",
    "import inspect\n",
    "import sys\n",
    "import itertools\n",
    "\n",
    "almost_current = os.path.abspath(inspect.getfile(inspect.currentframe()))\n",
    "currentdir = os.path.dirname(almost_current)\n",
    "parentdir = os.path.dirname(currentdir)\n",
    "sys.path.insert(0, parentdir)\n",
    "\n",
    "from plots.functions  import plot_confusion_matrix, plot_histogram_from_labels\n",
    "from text_processing.functions import simple_pre_process_text_df, simple_pre_process_text\n",
    "\n",
    "import seaborn as sns\n",
    "import matplotlib.pyplot as plt\n",
    "% matplotlib inline"
   ]
  },
  {
   "cell_type": "code",
   "execution_count": 2,
   "metadata": {},
   "outputs": [],
   "source": [
    "train_data_path = os.path.join(parentdir,\n",
    "                               \"text_generator\",\n",
    "                                \"b1_v1_train.csv\")\n",
    "\n",
    "test_data_path = os.path.join(parentdir,\n",
    "                              \"text_generator\",\n",
    "                              \"b1_v1_test.csv\")\n",
    "\n",
    "train_data = pd.read_csv(train_data_path)\n",
    "test_data = pd.read_csv(test_data_path)"
   ]
  },
  {
   "cell_type": "code",
   "execution_count": 3,
   "metadata": {},
   "outputs": [
    {
     "data": {
      "text/html": [
       "<div>\n",
       "<style scoped>\n",
       "    .dataframe tbody tr th:only-of-type {\n",
       "        vertical-align: middle;\n",
       "    }\n",
       "\n",
       "    .dataframe tbody tr th {\n",
       "        vertical-align: top;\n",
       "    }\n",
       "\n",
       "    .dataframe thead th {\n",
       "        text-align: right;\n",
       "    }\n",
       "</style>\n",
       "<table border=\"1\" class=\"dataframe\">\n",
       "  <thead>\n",
       "    <tr style=\"text-align: right;\">\n",
       "      <th></th>\n",
       "      <th>sentence1</th>\n",
       "      <th>sentence2</th>\n",
       "      <th>label</th>\n",
       "    </tr>\n",
       "  </thead>\n",
       "  <tbody>\n",
       "    <tr>\n",
       "      <th>0</th>\n",
       "      <td>Brooke is not helpful</td>\n",
       "      <td>Brooke is helpful</td>\n",
       "      <td>1</td>\n",
       "    </tr>\n",
       "    <tr>\n",
       "      <th>1</th>\n",
       "      <td>Boo is not clever</td>\n",
       "      <td>Boo is clever</td>\n",
       "      <td>1</td>\n",
       "    </tr>\n",
       "    <tr>\n",
       "      <th>2</th>\n",
       "      <td>Doe is not poor</td>\n",
       "      <td>Doe is poor</td>\n",
       "      <td>1</td>\n",
       "    </tr>\n",
       "    <tr>\n",
       "      <th>3</th>\n",
       "      <td>Hodgson is ambitious</td>\n",
       "      <td>Hodgson is not ambitious</td>\n",
       "      <td>1</td>\n",
       "    </tr>\n",
       "    <tr>\n",
       "      <th>4</th>\n",
       "      <td>Hobbes is proud</td>\n",
       "      <td>Marston is not easy</td>\n",
       "      <td>0</td>\n",
       "    </tr>\n",
       "  </tbody>\n",
       "</table>\n",
       "</div>"
      ],
      "text/plain": [
       "               sentence1                  sentence2  label\n",
       "0  Brooke is not helpful          Brooke is helpful      1\n",
       "1      Boo is not clever              Boo is clever      1\n",
       "2        Doe is not poor                Doe is poor      1\n",
       "3   Hodgson is ambitious   Hodgson is not ambitious      1\n",
       "4        Hobbes is proud        Marston is not easy      0"
      ]
     },
     "execution_count": 3,
     "metadata": {},
     "output_type": "execute_result"
    }
   ],
   "source": [
    "train_data.head()"
   ]
  },
  {
   "cell_type": "code",
   "execution_count": 4,
   "metadata": {},
   "outputs": [
    {
     "data": {
      "text/html": [
       "<div>\n",
       "<style scoped>\n",
       "    .dataframe tbody tr th:only-of-type {\n",
       "        vertical-align: middle;\n",
       "    }\n",
       "\n",
       "    .dataframe tbody tr th {\n",
       "        vertical-align: top;\n",
       "    }\n",
       "\n",
       "    .dataframe thead th {\n",
       "        text-align: right;\n",
       "    }\n",
       "</style>\n",
       "<table border=\"1\" class=\"dataframe\">\n",
       "  <thead>\n",
       "    <tr style=\"text-align: right;\">\n",
       "      <th></th>\n",
       "      <th>sentence1</th>\n",
       "      <th>sentence2</th>\n",
       "      <th>label</th>\n",
       "    </tr>\n",
       "  </thead>\n",
       "  <tbody>\n",
       "    <tr>\n",
       "      <th>0</th>\n",
       "      <td>Oakley is brave</td>\n",
       "      <td>Oakley is not brave</td>\n",
       "      <td>1</td>\n",
       "    </tr>\n",
       "    <tr>\n",
       "      <th>1</th>\n",
       "      <td>Jean is not alive</td>\n",
       "      <td>Jean is alive</td>\n",
       "      <td>1</td>\n",
       "    </tr>\n",
       "    <tr>\n",
       "      <th>2</th>\n",
       "      <td>Starlit is proud</td>\n",
       "      <td>Starlit is not proud</td>\n",
       "      <td>1</td>\n",
       "    </tr>\n",
       "    <tr>\n",
       "      <th>3</th>\n",
       "      <td>Temple is not delightful</td>\n",
       "      <td>Westcott is wrong</td>\n",
       "      <td>0</td>\n",
       "    </tr>\n",
       "    <tr>\n",
       "      <th>4</th>\n",
       "      <td>Jazz is jolly</td>\n",
       "      <td>Jazz is not jolly</td>\n",
       "      <td>1</td>\n",
       "    </tr>\n",
       "  </tbody>\n",
       "</table>\n",
       "</div>"
      ],
      "text/plain": [
       "                  sentence1              sentence2  label\n",
       "0           Oakley is brave    Oakley is not brave      1\n",
       "1         Jean is not alive          Jean is alive      1\n",
       "2          Starlit is proud   Starlit is not proud      1\n",
       "3  Temple is not delightful      Westcott is wrong      0\n",
       "4             Jazz is jolly      Jazz is not jolly      1"
      ]
     },
     "execution_count": 4,
     "metadata": {},
     "output_type": "execute_result"
    }
   ],
   "source": [
    "test_data.head()"
   ]
  },
  {
   "cell_type": "markdown",
   "metadata": {},
   "source": [
    "## Putting the sentences together"
   ]
  },
  {
   "cell_type": "code",
   "execution_count": 5,
   "metadata": {},
   "outputs": [],
   "source": [
    "train_data[\"text\"] = train_data[\"sentence1\"]  + \", \" + train_data[\"sentence2\"]\n",
    "test_data[\"text\"] = test_data[\"sentence1\"]  + \", \" + test_data[\"sentence2\"]\n",
    "train_data.drop([\"sentence1\", \"sentence2\"], axis=1, inplace=True)\n",
    "test_data.drop([\"sentence1\", \"sentence2\"], axis=1, inplace=True)\n",
    "train_data = train_data[[\"text\", \"label\"]]\n",
    "test_data = test_data[[\"text\", \"label\"]] "
   ]
  },
  {
   "cell_type": "code",
   "execution_count": 6,
   "metadata": {},
   "outputs": [
    {
     "data": {
      "text/html": [
       "<div>\n",
       "<style scoped>\n",
       "    .dataframe tbody tr th:only-of-type {\n",
       "        vertical-align: middle;\n",
       "    }\n",
       "\n",
       "    .dataframe tbody tr th {\n",
       "        vertical-align: top;\n",
       "    }\n",
       "\n",
       "    .dataframe thead th {\n",
       "        text-align: right;\n",
       "    }\n",
       "</style>\n",
       "<table border=\"1\" class=\"dataframe\">\n",
       "  <thead>\n",
       "    <tr style=\"text-align: right;\">\n",
       "      <th></th>\n",
       "      <th>text</th>\n",
       "      <th>label</th>\n",
       "    </tr>\n",
       "  </thead>\n",
       "  <tbody>\n",
       "    <tr>\n",
       "      <th>0</th>\n",
       "      <td>Brooke is not helpful,  Brooke is helpful</td>\n",
       "      <td>1</td>\n",
       "    </tr>\n",
       "    <tr>\n",
       "      <th>1</th>\n",
       "      <td>Boo is not clever,  Boo is clever</td>\n",
       "      <td>1</td>\n",
       "    </tr>\n",
       "    <tr>\n",
       "      <th>2</th>\n",
       "      <td>Doe is not poor,  Doe is poor</td>\n",
       "      <td>1</td>\n",
       "    </tr>\n",
       "    <tr>\n",
       "      <th>3</th>\n",
       "      <td>Hodgson is ambitious,  Hodgson is not ambitious</td>\n",
       "      <td>1</td>\n",
       "    </tr>\n",
       "    <tr>\n",
       "      <th>4</th>\n",
       "      <td>Hobbes is proud,  Marston is not easy</td>\n",
       "      <td>0</td>\n",
       "    </tr>\n",
       "  </tbody>\n",
       "</table>\n",
       "</div>"
      ],
      "text/plain": [
       "                                              text  label\n",
       "0        Brooke is not helpful,  Brooke is helpful      1\n",
       "1                Boo is not clever,  Boo is clever      1\n",
       "2                    Doe is not poor,  Doe is poor      1\n",
       "3  Hodgson is ambitious,  Hodgson is not ambitious      1\n",
       "4            Hobbes is proud,  Marston is not easy      0"
      ]
     },
     "execution_count": 6,
     "metadata": {},
     "output_type": "execute_result"
    }
   ],
   "source": [
    "train_data.head()"
   ]
  },
  {
   "cell_type": "code",
   "execution_count": 7,
   "metadata": {},
   "outputs": [
    {
     "data": {
      "text/html": [
       "<div>\n",
       "<style scoped>\n",
       "    .dataframe tbody tr th:only-of-type {\n",
       "        vertical-align: middle;\n",
       "    }\n",
       "\n",
       "    .dataframe tbody tr th {\n",
       "        vertical-align: top;\n",
       "    }\n",
       "\n",
       "    .dataframe thead th {\n",
       "        text-align: right;\n",
       "    }\n",
       "</style>\n",
       "<table border=\"1\" class=\"dataframe\">\n",
       "  <thead>\n",
       "    <tr style=\"text-align: right;\">\n",
       "      <th></th>\n",
       "      <th>text</th>\n",
       "      <th>label</th>\n",
       "    </tr>\n",
       "  </thead>\n",
       "  <tbody>\n",
       "    <tr>\n",
       "      <th>0</th>\n",
       "      <td>Oakley is brave,  Oakley is not brave</td>\n",
       "      <td>1</td>\n",
       "    </tr>\n",
       "    <tr>\n",
       "      <th>1</th>\n",
       "      <td>Jean is not alive,  Jean is alive</td>\n",
       "      <td>1</td>\n",
       "    </tr>\n",
       "    <tr>\n",
       "      <th>2</th>\n",
       "      <td>Starlit is proud,  Starlit is not proud</td>\n",
       "      <td>1</td>\n",
       "    </tr>\n",
       "    <tr>\n",
       "      <th>3</th>\n",
       "      <td>Temple is not delightful,  Westcott is wrong</td>\n",
       "      <td>0</td>\n",
       "    </tr>\n",
       "    <tr>\n",
       "      <th>4</th>\n",
       "      <td>Jazz is jolly,  Jazz is not jolly</td>\n",
       "      <td>1</td>\n",
       "    </tr>\n",
       "  </tbody>\n",
       "</table>\n",
       "</div>"
      ],
      "text/plain": [
       "                                           text  label\n",
       "0         Oakley is brave,  Oakley is not brave      1\n",
       "1             Jean is not alive,  Jean is alive      1\n",
       "2       Starlit is proud,  Starlit is not proud      1\n",
       "3  Temple is not delightful,  Westcott is wrong      0\n",
       "4             Jazz is jolly,  Jazz is not jolly      1"
      ]
     },
     "execution_count": 7,
     "metadata": {},
     "output_type": "execute_result"
    }
   ],
   "source": [
    "test_data.head()"
   ]
  },
  {
   "cell_type": "code",
   "execution_count": 8,
   "metadata": {},
   "outputs": [],
   "source": [
    "labels_legend = ['no', 'yes']\n",
    "anwser2int = {'no':0, 'yes':1}\n",
    "int2anwser = {i[1]: i[0] for i in anwser2int.items()}\n",
    "train_labels = [int2anwser[i] for i in train_data[\"label\"].values]\n",
    "test_labels = [int2anwser[i] for i in train_data[\"label\"].values]"
   ]
  },
  {
   "cell_type": "code",
   "execution_count": 9,
   "metadata": {},
   "outputs": [
    {
     "data": {
      "image/png": "[encoded data removed]",
      "text/plain": [
       "<Figure size 432x288 with 1 Axes>"
      ]
     },
     "metadata": {},
     "output_type": "display_data"
    }
   ],
   "source": [
    "plot_histogram_from_labels(train_labels, labels_legend, \"train data\")"
   ]
  },
  {
   "cell_type": "code",
   "execution_count": 10,
   "metadata": {},
   "outputs": [
    {
     "data": {
      "image/png": "[encoded data removed]",
      "text/plain": [
       "<Figure size 432x288 with 1 Axes>"
      ]
     },
     "metadata": {},
     "output_type": "display_data"
    }
   ],
   "source": [
    "plot_histogram_from_labels(test_labels, labels_legend, \"train data\")"
   ]
  },
  {
   "cell_type": "markdown",
   "metadata": {},
   "source": [
    "### Applying preprocessing function"
   ]
  },
  {
   "cell_type": "code",
   "execution_count": 11,
   "metadata": {},
   "outputs": [
    {
     "name": "stdout",
     "output_type": "stream",
     "text": [
      "\n",
      "=== AFTER using the function simple_pre_process_text_df ===\n",
      "\n",
      "doe is not poor doe is poor\n",
      "\n",
      "hodgson is ambitious hodgson is not ambitious\n",
      "\n",
      "hobbes is proud marston is not easy\n"
     ]
    }
   ],
   "source": [
    "print(\"\\n=== AFTER using the function simple_pre_process_text_df ===\\n\")\n",
    "simple_pre_process_text_df(train_data)\n",
    "simple_pre_process_text_df(test_data)\n",
    "print(train_data[\"text\"].values[2])\n",
    "print()\n",
    "print(train_data[\"text\"].values[3])\n",
    "print()\n",
    "print(train_data[\"text\"].values[4])"
   ]
  },
  {
   "cell_type": "markdown",
   "metadata": {},
   "source": [
    "## Saving the new version of the data in a csv"
   ]
  },
  {
   "cell_type": "code",
   "execution_count": 12,
   "metadata": {},
   "outputs": [],
   "source": [
    "train_data_path = os.path.join(parentdir,\n",
    "                               \"text_generator\",\n",
    "                                \"b1_v1_train_processed.csv\")\n",
    "\n",
    "test_data_path = os.path.join(parentdir,\n",
    "                              \"text_generator\",\n",
    "                              \"b1_v1_test_processed.csv\")\n",
    "\n",
    "\n",
    "train_data.to_csv(train_data_path, header=False, index=False)\n",
    "test_data.to_csv(test_data_path, header=False, index=False)"
   ]
  },
  {
   "cell_type": "markdown",
   "metadata": {},
   "source": [
    "### Starting with torch"
   ]
  },
  {
   "cell_type": "markdown",
   "metadata": {},
   "source": [
    "We use the `data.Field` to hold all the text data:\n",
    "\n",
    "> Field class models common text processing datatypes that can be represented\n",
    "by tensors.  It holds a Vocab object that defines the set of possible values\n",
    "for elements of the field and their corresponding numerical representations.\n",
    "The Field object also holds other parameters relating to how a datatype\n",
    "should be numericalized, such as a tokenization method and the kind of\n",
    "Tensor that should be produced.\n",
    "\n",
    "and the class `data.LabelField` to hold the labels:\n",
    "\n",
    "> A label field is a shallow wrapper around a standard field designed to hold labels\n",
    "for a classification task. Its only use is to set the unk_token and sequential to `None` by default."
   ]
  },
  {
   "cell_type": "code",
   "execution_count": 13,
   "metadata": {},
   "outputs": [],
   "source": [
    "TEXT = data.Field(tokenize='spacy')\n",
    "LABEL = data.LabelField(tensor_type=torch.FloatTensor)"
   ]
  },
  {
   "cell_type": "markdown",
   "metadata": {},
   "source": [
    "And so we can create a dataset by using the class `data.TabularDataset` and the data in the `csv` format"
   ]
  },
  {
   "cell_type": "code",
   "execution_count": 14,
   "metadata": {},
   "outputs": [],
   "source": [
    "train = data.TabularDataset(path=train_data_path,\n",
    "                            format=\"csv\",\n",
    "                            fields=[('text', TEXT), ('label', LABEL)])\n",
    "\n",
    "test = data.TabularDataset(path=test_data_path,\n",
    "                            format=\"csv\",\n",
    "                            fields=[('text', TEXT), ('label', LABEL)])"
   ]
  },
  {
   "cell_type": "markdown",
   "metadata": {},
   "source": [
    "Creating the train-valid split (80$\\%$ for training data and 20$\\%$ for validation data)"
   ]
  },
  {
   "cell_type": "code",
   "execution_count": 15,
   "metadata": {},
   "outputs": [],
   "source": [
    "train, valid = train.split(0.8)"
   ]
  },
  {
   "cell_type": "code",
   "execution_count": 16,
   "metadata": {},
   "outputs": [
    {
     "name": "stdout",
     "output_type": "stream",
     "text": [
      "len(train): 8000\n",
      "len(valid): 2000\n",
      "len(test): 1000\n"
     ]
    }
   ],
   "source": [
    "print('len(train):', len(train))\n",
    "print('len(valid):', len(valid))\n",
    "print('len(test):', len(test))"
   ]
  },
  {
   "cell_type": "markdown",
   "metadata": {},
   "source": [
    "Constructing the Vocabulary, using at maximun 25000 words"
   ]
  },
  {
   "cell_type": "code",
   "execution_count": 17,
   "metadata": {},
   "outputs": [],
   "source": [
    "TEXT.build_vocab(train, max_size=25000)\n",
    "LABEL.build_vocab(train)"
   ]
  },
  {
   "cell_type": "code",
   "execution_count": 18,
   "metadata": {},
   "outputs": [
    {
     "name": "stdout",
     "output_type": "stream",
     "text": [
      "len(TEXT.vocab): 1358\n",
      "len(LABEL.vocab): 2\n"
     ]
    }
   ],
   "source": [
    "print('len(TEXT.vocab):', len(TEXT.vocab))\n",
    "print('len(LABEL.vocab):', len(LABEL.vocab))"
   ]
  },
  {
   "cell_type": "markdown",
   "metadata": {},
   "source": [
    "Printing the 20 most frequent words"
   ]
  },
  {
   "cell_type": "code",
   "execution_count": 19,
   "metadata": {},
   "outputs": [
    {
     "name": "stdout",
     "output_type": "stream",
     "text": [
      "[('is', 16000), ('not', 8000), ('inexpensive', 377), ('faithful', 376), ('thankful', 375), ('eager', 374), ('mealy', 371), ('zealous', 370), ('odd', 369), ('happy', 369), ('better', 366), ('kind', 366), ('witty', 365), ('clever', 365), ('brave', 364), ('gentle', 360), ('proud', 359), ('victorious', 353), ('obedient', 348), ('polite', 347)]\n"
     ]
    }
   ],
   "source": [
    "print(TEXT.vocab.freqs.most_common(20))"
   ]
  },
  {
   "cell_type": "markdown",
   "metadata": {},
   "source": [
    "- `.itos` is the `int2str` method from the object `TEXT.vocab` \n",
    "- `.stoi` is the `str2int` method from the object `TEXT.vocab` "
   ]
  },
  {
   "cell_type": "code",
   "execution_count": 20,
   "metadata": {},
   "outputs": [
    {
     "name": "stdout",
     "output_type": "stream",
     "text": [
      "TEXT.vocab.itos\n",
      "word index\n",
      "<unk> 0\n",
      "<pad> 1\n",
      "is 2\n",
      "not 3\n",
      "inexpensive 4\n",
      "faithful 5\n",
      "thankful 6\n",
      "eager 7\n",
      "mealy 8\n",
      "zealous 9\n",
      "\n",
      "TEXT.vocab.stoi\n",
      "word index\n",
      "i 0\n",
      "love 738\n",
      "trump 0\n"
     ]
    }
   ],
   "source": [
    "print(\"TEXT.vocab.itos\")\n",
    "print(\"word\", \"index\")\n",
    "\n",
    "for i, word in enumerate(TEXT.vocab.itos[:10]):\n",
    "    print(word, i)\n",
    "\n",
    "\n",
    "print()\n",
    "print(\"TEXT.vocab.stoi\")\n",
    "print(\"word\", \"index\")\n",
    "for word in \"i love trump\".split():\n",
    "    print(word, TEXT.vocab.stoi[word])"
   ]
  },
  {
   "cell_type": "code",
   "execution_count": 21,
   "metadata": {},
   "outputs": [],
   "source": [
    "class RNNConfig(object):\n",
    "    \"\"\"\n",
    "    Holds logistic regression model hyperparams.\n",
    "    \n",
    "    :param height: image height\n",
    "    :type heights: int\n",
    "    :param width: image width\n",
    "    :type width: int\n",
    "    :param channels: image channels\n",
    "    :type channels: int\n",
    "    :param batch_size: batch size for training\n",
    "    :type batch_size: int\n",
    "    :param epochs: number of epochs\n",
    "    :type epochs: int\n",
    "    :param save_step: when step % save_step == 0, the model\n",
    "                      parameters are saved.\n",
    "    :type save_step: int\n",
    "    :param learning_rate: learning rate for the optimizer\n",
    "    :type learning_rate: float\n",
    "    :param momentum: momentum param\n",
    "    :type momentum: float\n",
    "    \"\"\"\n",
    "    def __init__(self,\n",
    "                 vocab_size=25000,\n",
    "                 batch_size=32,\n",
    "                 embedding_dim=100,\n",
    "                 rnn_dim=100,\n",
    "                 output_dim=2,\n",
    "                 epochs=5,\n",
    "                 learning_rate=0.05,\n",
    "                 momentum=0.1):\n",
    "        self.vocab_size = vocab_size\n",
    "        self.batch_size = batch_size\n",
    "        self.embedding_dim = embedding_dim\n",
    "        self.rnn_dim = rnn_dim\n",
    "        self.output_dim = output_dim\n",
    "        self.epochs = epochs\n",
    "        self.learning_rate = learning_rate\n",
    "        self.momentum = momentum\n",
    "        \n",
    "\n",
    "    def __str__(self):\n",
    "        \"\"\"\n",
    "        Get all attributs values.\n",
    "        :return: all hyperparams as a string\n",
    "        :rtype: str\n",
    "        \"\"\"\n",
    "        status = \"vocab_size = {}\\n\".format(self.vocab_size)\n",
    "        status += \"batch_size = {}\\n\".format(self.batch_size)\n",
    "        status += \"embedding_dim = {}\\n\".format(self.embedding_dim)\n",
    "        status += \"rnn_dim = {}\\n\".format(self.rnn_dim)\n",
    "        status += \"output_dim = {}\\n\".format(self.output_dim)\n",
    "        status += \"epochs = {}\\n\".format(self.epochs)\n",
    "        status += \"learning_rate = {}\\n\".format(self.learning_rate)\n",
    "        status += \"momentum = {}\\n\".format(self.momentum)\n",
    "        return status"
   ]
  },
  {
   "cell_type": "markdown",
   "metadata": {},
   "source": [
    "Hyperparams"
   ]
  },
  {
   "cell_type": "code",
   "execution_count": 22,
   "metadata": {},
   "outputs": [
    {
     "name": "stdout",
     "output_type": "stream",
     "text": [
      "vocab_size = 1358\n",
      "batch_size = 32\n",
      "embedding_dim = 100\n",
      "rnn_dim = 100\n",
      "output_dim = 2\n",
      "epochs = 5\n",
      "learning_rate = 0.05\n",
      "momentum = 0.1\n",
      "\n"
     ]
    }
   ],
   "source": [
    "config = RNNConfig(vocab_size=len(TEXT.vocab),\n",
    "                   output_dim=len(LABEL.vocab))\n",
    "print(config)"
   ]
  },
  {
   "cell_type": "markdown",
   "metadata": {},
   "source": [
    "To define an iterator that batches examples of similar lengths together we use the class `data.BucketIterator`. \n"
   ]
  },
  {
   "cell_type": "code",
   "execution_count": 23,
   "metadata": {},
   "outputs": [],
   "source": [
    "class DataHolder():\n",
    "    \"\"\"\n",
    "    Class to store all data using the data.BucketIterator class.\n",
    "\n",
    "    \"\"\"\n",
    "    def __init__(self,\n",
    "                 config,\n",
    "                 train,\n",
    "                 valid,\n",
    "                 test):        \n",
    "        self.train_iter = data.BucketIterator(train, batch_size=config.batch_size, repeat=False)\n",
    "        self.valid_iter = data.BucketIterator(valid, batch_size=config.batch_size, repeat=False)\n",
    "        self.test_iter = data.BucketIterator(test, batch_size=len(test), repeat=False)\n",
    "        \n",
    "        \n",
    "b1data = DataHolder(config, train, valid, test) "
   ]
  },
  {
   "cell_type": "markdown",
   "metadata": {},
   "source": [
    "We can see some batch examples, here we should remember that the batch shape is `[sent len, batch size]`"
   ]
  },
  {
   "cell_type": "code",
   "execution_count": 24,
   "metadata": {},
   "outputs": [
    {
     "name": "stdout",
     "output_type": "stream",
     "text": [
      "batch.text.shape = torch.Size([7, 32])\n",
      "batch.text.type = torch.LongTensor\n",
      "\n",
      "batch.label.shape = torch.Size([32])\n",
      "batch.label.type = torch.FloatTensor\n",
      "\n",
      "\n",
      "['jamison', 'is', 'not', 'lively', 'charlie', 'is', 'vast'] \n",
      "['mead', 'is', 'not', 'calm', 'bruin', 'is', 'mushy'] \n",
      "['halsey', 'is', 'witty', 'halsey', 'is', 'not', 'witty'] \n",
      "['crawford', 'is', 'happy', 'temperance', 'is', 'not', 'powerful'] \n",
      "['branson', 'is', 'zealous', 'branson', 'is', 'not', 'zealous'] \n",
      "['royce', 'is', 'not', 'better', 'royce', 'is', 'better'] \n",
      "['fleming', 'is', 'gentle', 'scarlett', 'is', 'not', 'unimportant'] \n",
      "['upton', 'is', 'thankful', 'nayland', 'is', 'not', 'tender'] \n",
      "['ellington', 'is', 'ambitious', 'ellington', 'is', 'not', 'ambitious'] \n",
      "['hopper', 'is', 'silly', 'rigby', 'is', 'not', 'wrong'] \n",
      "['sinjon', 'is', 'not', 'unimportant', 'sinjon', 'is', 'unimportant'] \n",
      "['pistol', 'is', 'not', 'better', 'pistol', 'is', 'better'] \n",
      "['pearce', 'is', 'not', 'eager', 'mortimer', 'is', 'important'] \n",
      "['easton', 'is', 'not', 'hallowed', 'easton', 'is', 'hallowed'] \n",
      "['leigh', 'is', 'not', 'vast', 'leigh', 'is', 'vast'] \n",
      "['bliss', 'is', 'not', 'careful', 'bliss', 'is', 'careful'] \n",
      "['peaches', 'is', 'aggressive', 'windy', 'is', 'not', 'odd'] \n",
      "['oscar', 'is', 'obedient', 'halsey', 'is', 'not', 'easy'] \n",
      "['shaw', 'is', 'proud', 'camber', 'is', 'not', 'hallowed'] \n",
      "['andrea', 'is', 'not', 'nice', 'garrison', 'is', 'hallowed'] \n",
      "['alura', 'is', 'happy', 'osbert', 'is', 'not', 'powerful'] \n",
      "['craven', 'is', 'not', 'eager', 'wyatt', 'is', 'careful'] \n",
      "['harper', 'is', 'nice', 'granger', 'is', 'not', 'inexpensive'] \n",
      "['eloise', 'is', 'calm', 'eloise', 'is', 'not', 'calm'] \n",
      "['osbert', 'is', 'not', 'faithful', 'hudson', 'is', 'careful'] \n",
      "['delbert', 'is', 'not', 'aggressive', 'bunyan', 'is', 'poor'] \n",
      "['hobbes', 'is', 'zealous', 'hobbes', 'is', 'not', 'zealous'] \n",
      "['darwin', 'is', 'not', 'odd', 'darwin', 'is', 'odd'] \n",
      "['ash', 'is', 'victorious', 'moss', 'is', 'not', 'dead'] \n",
      "['reed', 'is', 'not', 'careful', 'reed', 'is', 'careful'] \n",
      "['taffeta', 'is', 'gentle', 'taffeta', 'is', 'not', 'gentle'] \n",
      "['lottie', 'is', 'calm', 'lottie', 'is', 'not', 'calm'] "
     ]
    }
   ],
   "source": [
    "batch = next(iter(b1data.train_iter))\n",
    "\n",
    "print(\"batch.text.shape = {}\".format(batch.text.shape))\n",
    "print(\"batch.text.type = {}\\n\".format(batch.text.type()))\n",
    "print(\"batch.label.shape = {}\".format(batch.label.shape))\n",
    "print(\"batch.label.type = {}\\n\".format(batch.label.type()))\n",
    "\n",
    "batch_t = batch.text.transpose(0, 1)\n",
    "for example in batch_t:\n",
    "    print()\n",
    "    print([TEXT.vocab.itos[i] for i in example], end=\" \")"
   ]
  },
  {
   "cell_type": "markdown",
   "metadata": {},
   "source": [
    "## Defining an new version of the LSTM to acces the model's gates"
   ]
  },
  {
   "cell_type": "code",
   "execution_count": 31,
   "metadata": {},
   "outputs": [],
   "source": [
    "def LSTMCellExposed(input_tensor, hidden, w_ih, w_hh, b_ih=None, b_hh=None):\n",
    "\n",
    "    hx, cx = hidden\n",
    "    gates = F.linear(input_tensor, w_ih, b_ih) + F.linear(hx, w_hh, b_hh)\n",
    "\n",
    "    ingate, forgetgate, cellgate, outgate = gates.chunk(4, 1)\n",
    "\n",
    "    ingate = F.sigmoid(ingate)\n",
    "    forgetgate = F.sigmoid(forgetgate)\n",
    "    cellgate = F.tanh(cellgate)\n",
    "    outgate = F.sigmoid(outgate)\n",
    "\n",
    "    cy = (forgetgate * cx) + (ingate * cellgate)\n",
    "    hy = outgate * F.tanh(cy)\n",
    "\n",
    "    return hy, cy, ingate, forgetgate, cellgate, outgate\n",
    "\n",
    "\n",
    "class LSTMCell(nn.modules.rnn.RNNCellBase):\n",
    "    r\"\"\"A long short-term memory (LSTM) cell.\n",
    "\n",
    "    .. math::\n",
    "\n",
    "        \\begin{array}{ll}\n",
    "        i = \\sigma(W_{ii} x + b_{ii} + W_{hi} h + b_{hi}) \\\\\n",
    "        f = \\sigma(W_{if} x + b_{if} + W_{hf} h + b_{hf}) \\\\\n",
    "        g = \\tanh(W_{ig} x + b_{ig} + W_{hg} h + b_{hg}) \\\\\n",
    "        o = \\sigma(W_{io} x + b_{io} + W_{ho} h + b_{ho}) \\\\\n",
    "        c' = f * c + i * g \\\\\n",
    "        h' = o \\tanh(c') \\\\\n",
    "        \\end{array}\n",
    "\n",
    "    where :math:`\\sigma` is the sigmoid function.\n",
    "\n",
    "    Args:\n",
    "        input_size: The number of expected features in the input `x`\n",
    "        hidden_size: The number of features in the hidden state `h`\n",
    "        bias: If `False`, then the layer does not use bias weights `b_ih` and\n",
    "            `b_hh`. Default: ``True``\n",
    "\n",
    "    Inputs: input, (h_0, c_0)\n",
    "        - **input** of shape `(batch, input_size)`: tensor containing input features\n",
    "        - **h_0** of shape `(batch, hidden_size)`: tensor containing the initial hidden\n",
    "          state for each element in the batch.\n",
    "        - **c_0** of shape `(batch, hidden_size)`: tensor containing the initial cell state\n",
    "          for each element in the batch.\n",
    "\n",
    "          If `(h_0, c_0)` is not provided, both **h_0** and **c_0** default to zero.\n",
    "\n",
    "    Outputs: h_1, c_1\n",
    "        - **h_1** of shape `(batch, hidden_size)`: tensor containing the next hidden state\n",
    "          for each element in the batch\n",
    "        - **c_1** of shape `(batch, hidden_size)`: tensor containing the next cell state\n",
    "          for each element in the batch\n",
    "\n",
    "    Attributes:\n",
    "        weight_ih: the learnable input-hidden weights, of shape\n",
    "            `(4*hidden_size x input_size)`\n",
    "        weight_hh: the learnable hidden-hidden weights, of shape\n",
    "            `(4*hidden_size x hidden_size)`\n",
    "        bias_ih: the learnable input-hidden bias, of shape `(4*hidden_size)`\n",
    "        bias_hh: the learnable hidden-hidden bias, of shape `(4*hidden_size)`\n",
    "\n",
    "    Examples::\n",
    "\n",
    "        >>> rnn = nn.LSTMCell(10, 20)\n",
    "        >>> input = torch.randn(6, 3, 10)\n",
    "        >>> hx = torch.randn(3, 20)\n",
    "        >>> cx = torch.randn(3, 20)\n",
    "        >>> output = []\n",
    "        >>> for i in range(6):\n",
    "                hx, cx = rnn(input[i], (hx, cx))\n",
    "                output.append(hx)\n",
    "    \"\"\"\n",
    "\n",
    "    def __init__(self, input_size, hidden_size, bias=True):\n",
    "        super(LSTMCell, self).__init__()\n",
    "        self.input_size = input_size\n",
    "        self.hidden_size = hidden_size\n",
    "        self.bias = bias\n",
    "        self.weight_ih = Parameter(torch.Tensor(4 * hidden_size, input_size))\n",
    "        self.weight_hh = Parameter(torch.Tensor(4 * hidden_size, hidden_size))\n",
    "        if bias:\n",
    "            self.bias_ih = Parameter(torch.Tensor(4 * hidden_size))\n",
    "            self.bias_hh = Parameter(torch.Tensor(4 * hidden_size))\n",
    "        else:\n",
    "            self.register_parameter('bias_ih', None)\n",
    "            self.register_parameter('bias_hh', None)\n",
    "        self.reset_parameters()\n",
    "\n",
    "    def reset_parameters(self):\n",
    "        stdv = 1.0 / math.sqrt(self.hidden_size)\n",
    "        for weight in self.parameters():\n",
    "            weight.data.uniform_(-stdv, stdv)\n",
    "\n",
    "    def forward(self, input, hx=None):\n",
    "        self.check_forward_input(input)\n",
    "        if hx is None:\n",
    "            hx = input.new_zeros(input.size(0), self.hidden_size, requires_grad=False)\n",
    "            hx = (hx, hx)\n",
    "        self.check_forward_hidden(input, hx[0], '[0]')\n",
    "        self.check_forward_hidden(input, hx[1], '[1]')\n",
    "        hy, cy, ingate, forgetgate, cellgate, outgate = LSTMCellExposed(input,\n",
    "                                                                       hx,\n",
    "                                                                       self.weight_ih,\n",
    "                                                                       self.weight_hh,\n",
    "                                                                       self.bias_ih,\n",
    "                                                                       self.bias_hh)\n",
    "        return hy, cy, ingate, forgetgate, cellgate, outgate\n",
    "    \n",
    "\n",
    "class LSTM(nn.Module):\n",
    "    def __init__(self, config):\n",
    "        super().__init__()\n",
    "\n",
    "        self.embedding = nn.Embedding(config.vocab_size, config.embedding_dim)\n",
    "        self.LSTM_cell = LSTMCell(config.embedding_dim, config.rnn_dim)\n",
    "        self.fc = nn.Linear(config.rnn_dim, config.output_dim)\n",
    "        \n",
    "    def forward(self, x):\n",
    "        \"\"\"\n",
    "        Apply the model to the input x\n",
    "        \n",
    "        :param x: indices of the sentence\n",
    "        :type x: torch.Tensor(shape=[sent len, batch size]\n",
    "                              dtype=torch.int64)\n",
    "        \"\"\"        \n",
    "        embedded = self.embedding(x)\n",
    "        hx = torch.zeros((x.shape[1], config.rnn_dim))\n",
    "        cx = torch.zeros((x.shape[1], config.rnn_dim))\n",
    "        all_hidden = []\n",
    "        in_gates = []\n",
    "        forget_gates = []\n",
    "        cell_gates = []\n",
    "        out_gates = []\n",
    "        for i in range(x.shape[0]):\n",
    "            hx, cx, ingate, forgetgate, cellgate, outgate = self.LSTM_cell(embedded[i], (hx, cx))\n",
    "            all_hidden.append(hx)\n",
    "            in_gates.append(ingate)\n",
    "            forget_gates.append(forgetgate)\n",
    "            cell_gates.append(cellgate)\n",
    "            out_gates.append(outgate)\n",
    "            \n",
    "        all_hidden = torch.stack(all_hidden)\n",
    "        in_gates = torch.stack(in_gates)\n",
    "        forget_gates = torch.stack(forget_gates)\n",
    "        cell_gates = torch.stack(cell_gates)\n",
    "        out_gates = torch.stack(out_gates)\n",
    "            \n",
    "        self.output = all_hidden\n",
    "        hidden = all_hidden[-1,:,:]\n",
    "        \n",
    "        self.in_gates = in_gates\n",
    "        self.forget_gates = forget_gates\n",
    "        self.cell_gates = cell_gates\n",
    "        self.out_gates = out_gates        \n",
    "        \n",
    "        out = self.fc(hidden)\n",
    "        return out\n",
    "\n",
    "    def predict(self, x):\n",
    "        out = self.forward(x)\n",
    "        softmax = nn.Softmax(dim=1)\n",
    "        out = softmax(out)\n",
    "        indices = torch.argmax(out, 1)\n",
    "        return indices\n",
    "\n",
    "    def evaluate_bach(self, batch):\n",
    "        prediction = model.predict(batch.text)\n",
    "        labels = batch.label.type('torch.LongTensor')\n",
    "        correct = torch.sum(torch.eq(prediction, labels)).float()\n",
    "        accuracy = float(correct/labels.shape[0])\n",
    "        return accuracy, prediction, labels"
   ]
  },
  {
   "cell_type": "code",
   "execution_count": 26,
   "metadata": {},
   "outputs": [
    {
     "data": {
      "image/png": "[encoded data removed]",
      "text/plain": [
       "<Figure size 648x648 with 2 Axes>"
      ]
     },
     "metadata": {},
     "output_type": "display_data"
    }
   ],
   "source": [
    "model = LSTM(config)\n",
    "\n",
    "test_bach = next(iter(b1data.test_iter))\n",
    "_, pred, labels = model.evaluate_bach(test_bach)\n",
    "\n",
    "plot_confusion_matrix(truth=labels.numpy(),\n",
    "                      predictions=pred.numpy(),\n",
    "                      save=False,\n",
    "                      path=\"lstm_confusion_matrix_b1.png\",\n",
    "                      classes=labels_legend)"
   ]
  },
  {
   "cell_type": "markdown",
   "metadata": {},
   "source": [
    "## Training functions"
   ]
  },
  {
   "cell_type": "code",
   "execution_count": 27,
   "metadata": {},
   "outputs": [],
   "source": [
    "def train_in_epoch(model, iterator, optimizer, criterion, negative=False):\n",
    "    \"\"\"\n",
    "    Train the model using all the data from the iterator \n",
    "\n",
    "    :param model: RNN classification model\n",
    "    :type model: RNN \n",
    "    :param iterator: data iterator\n",
    "    :type iterator: data.BucketIterator\n",
    "    :param optimizer: torch optimizer\n",
    "    :type optimizer: optim.SGD, etc.\n",
    "    :param criterion: loss criterion \n",
    "    :type criterion: nn.CrossEntropyLoss\n",
    "    :return: mean loss, mean accuracy\n",
    "    :rtype: float, float    \n",
    "    \"\"\"\n",
    "    \n",
    "    epoch_loss = 0\n",
    "    epoch_acc = 0\n",
    "    \n",
    "    model.train()\n",
    "    \n",
    "    for batch in iterator:\n",
    "        \n",
    "        optimizer.zero_grad()\n",
    "        \n",
    "        logits = model(batch.text)\n",
    "        label = batch.label.type(\"torch.LongTensor\")\n",
    "        loss = criterion(logits, label)\n",
    "        if negative:\n",
    "            loss = - loss\n",
    "        acc, _, _ = model.evaluate_bach(batch)\n",
    "        \n",
    "        loss.backward()\n",
    "        optimizer.step()\n",
    "        \n",
    "        epoch_loss += loss.item()\n",
    "        epoch_acc += acc\n",
    "\n",
    "    mean_loss = epoch_loss / len(iterator)\n",
    "    mean_acc = epoch_acc / len(iterator)\n",
    "        \n",
    "    return mean_loss, mean_acc\n",
    "\n",
    "\n",
    "def get_valid_loss(model, valid_iter, criterion):\n",
    "    \"\"\"\n",
    "    Get the valid loss\n",
    "\n",
    "    :param model: RNN classification model\n",
    "    :type model: \n",
    "    :param valid_iter: valid iterator\n",
    "    :type valid_iter: data.BucketIterator\n",
    "    :param criterion: loss criterion \n",
    "    :type criterion: nn.CrossEntropyLoss\n",
    "    :return: valid loss\n",
    "    :rtype: Tensor(shape=[])    \n",
    "    \"\"\"\n",
    "    batch = next(iter(valid_iter))\n",
    "    model.eval()\n",
    "    logits = model(batch.text)\n",
    "    label = batch.label.type(\"torch.LongTensor\")\n",
    "    loss = criterion(logits, label)\n",
    "    return loss\n",
    "\n",
    "def training_loop_text_classification(model, config, dataholder, model_path, verbose=True, negative=False):\n",
    "    \"\"\"\n",
    "    Train a model for text classification\n",
    "\n",
    "    :param model: RNN classification model\n",
    "    :type model: \n",
    "    :param config: image classification model\n",
    "    :type config: LogisticRegression or DFN\n",
    "    :param dataholder: data\n",
    "    :type dataholder: DataHolder or DataHolderGentle\n",
    "    :param model_path: path to save model params\n",
    "    :type model_path: str\n",
    "    :param verbose: param to control print\n",
    "    :type verbose: bool\n",
    "    \"\"\"\n",
    "    optimizer = optim.SGD(model.parameters(),\n",
    "                          lr=config.learning_rate,\n",
    "                          momentum=config.momentum)\n",
    "    \n",
    "    criterion = nn.CrossEntropyLoss()\n",
    "    device = torch.device('cuda' if torch.cuda.is_available() else 'cpu')\n",
    "    model = model.to(device)\n",
    "    criterion = criterion.to(device)\n",
    "    train_iter = dataholder.train_iter\n",
    "    valid_iter = dataholder.valid_iter\n",
    "    \n",
    "    best_valid_loss = float(\"inf\")\n",
    "    \n",
    "    all_train_loss = []\n",
    "    all_valid_loss = []\n",
    "    \n",
    "    for epoch in range(config.epochs):\n",
    "\n",
    "        print(\"epoch = ({}/{})\".format(epoch + 1, config.epochs))\n",
    "        train_loss, train_acc = train_in_epoch(model, train_iter, optimizer, criterion, negative)\n",
    "        all_train_loss.append(train_loss)\n",
    "        valid_loss = get_valid_loss(model, valid_iter, criterion)\n",
    "        all_valid_loss.append(valid_loss)\n",
    "\n",
    "        msg = \"\\ntrain_loss = {:.3f} | valid_loss = {:.3f}\".format(float(train_loss),float(valid_loss))\n",
    "\n",
    "        if float(valid_loss) < best_valid_loss:\n",
    "            torch.save(model.state_dict(), model_path)\n",
    "            best_valid_loss = float(valid_loss)\n",
    "\n",
    "        if verbose:\n",
    "            print(msg)\n",
    "            print(\"train_acc = {}\\n\".format(train_acc))\n",
    "\n",
    "    if verbose:\n",
    "        x = np.arange(1, len(all_train_loss) + 1, 1)\n",
    "        fig, ax = plt.subplots(1, 1, figsize=(12, 5))\n",
    "        ax.plot(x, all_train_loss, label='mean train loss')\n",
    "        ax.plot(x, all_valid_loss, label='mean valid loss')\n",
    "        ax.legend()\n",
    "        plt.xlabel('epoch')\n",
    "        plt.ylabel('mean loss')\n",
    "        plt.title('Train and valid mean loss')\n",
    "        plt.grid(True)\n",
    "        plt.show()"
   ]
  },
  {
   "cell_type": "code",
   "execution_count": 28,
   "metadata": {},
   "outputs": [
    {
     "name": "stdout",
     "output_type": "stream",
     "text": [
      "epoch = (1/5)\n",
      "\n",
      "train_loss = 0.655 | valid_loss = 0.596\n",
      "train_acc = 0.6395\n",
      "\n",
      "epoch = (2/5)\n",
      "\n",
      "train_loss = 0.527 | valid_loss = 0.509\n",
      "train_acc = 0.73325\n",
      "\n",
      "epoch = (3/5)\n",
      "\n",
      "train_loss = 0.380 | valid_loss = 0.298\n",
      "train_acc = 0.813875\n",
      "\n",
      "epoch = (4/5)\n",
      "\n",
      "train_loss = 0.127 | valid_loss = 0.033\n",
      "train_acc = 0.971625\n",
      "\n",
      "epoch = (5/5)\n",
      "\n",
      "train_loss = 0.017 | valid_loss = 0.009\n",
      "train_acc = 0.9995\n",
      "\n"
     ]
    },
    {
     "data": {
      "image/png": "[encoded data removed]",
      "text/plain": [
       "<Figure size 864x360 with 1 Axes>"
      ]
     },
     "metadata": {},
     "output_type": "display_data"
    }
   ],
   "source": [
    "training_loop_text_classification(model,\n",
    "                                  config,\n",
    "                                  b1data,\n",
    "                                  \"lstm_v1.pkl\")"
   ]
  },
  {
   "cell_type": "markdown",
   "metadata": {},
   "source": [
    "## Looking at the model after training"
   ]
  },
  {
   "cell_type": "code",
   "execution_count": 29,
   "metadata": {},
   "outputs": [
    {
     "data": {
      "image/png": "[encoded data removed]",
      "text/plain": [
       "<Figure size 648x648 with 2 Axes>"
      ]
     },
     "metadata": {},
     "output_type": "display_data"
    }
   ],
   "source": [
    "model = LSTM(config)\n",
    "model.load_state_dict(torch.load('lstm_v1.pkl'))\n",
    "_, pred, labels = model.evaluate_bach(test_bach)\n",
    "\n",
    "plot_confusion_matrix(truth=labels.numpy(),\n",
    "                      predictions=pred.numpy(),\n",
    "                      save=False,\n",
    "                      path=\"lstm_confusion_matrix.png\",\n",
    "                      classes=labels_legend)"
   ]
  },
  {
   "cell_type": "markdown",
   "metadata": {},
   "source": [
    "## Training the negative model (the model obtained by maximizing the CE error)"
   ]
  },
  {
   "cell_type": "code",
   "execution_count": 30,
   "metadata": {},
   "outputs": [
    {
     "name": "stdout",
     "output_type": "stream",
     "text": [
      "epoch = (1/5)\n",
      "\n",
      "train_loss = -19.433 | valid_loss = 102.493\n",
      "train_acc = 0.4995\n",
      "\n",
      "epoch = (2/5)\n",
      "\n",
      "train_loss = -311.604 | valid_loss = 631.391\n",
      "train_acc = 0.497875\n",
      "\n",
      "epoch = (3/5)\n",
      "\n",
      "train_loss = -701.322 | valid_loss = 893.195\n",
      "train_acc = 0.497875\n",
      "\n",
      "epoch = (4/5)\n",
      "\n",
      "train_loss = -1091.074 | valid_loss = 1361.388\n",
      "train_acc = 0.497875\n",
      "\n",
      "epoch = (5/5)\n",
      "\n",
      "train_loss = -1480.827 | valid_loss = 1669.390\n",
      "train_acc = 0.497875\n",
      "\n"
     ]
    },
    {
     "data": {
      "image/png": "[encoded data removed]",
      "text/plain": [
       "<Figure size 864x360 with 1 Axes>"
      ]
     },
     "metadata": {},
     "output_type": "display_data"
    }
   ],
   "source": [
    "config = RNNConfig(vocab_size=len(TEXT.vocab),\n",
    "                   output_dim=len(LABEL.vocab),\n",
    "                   learning_rate=0.03,\n",
    "                   momentum=0.02)\n",
    "\n",
    "model = LSTM(config)\n",
    "\n",
    "training_loop_text_classification(model,\n",
    "                                  config,\n",
    "                                  b1data,\n",
    "                                  \"lstm_v1_neg.pkl\",\n",
    "                                  negative=True)"
   ]
  },
  {
   "cell_type": "markdown",
   "metadata": {},
   "source": [
    "# Adding visualization"
   ]
  },
  {
   "cell_type": "markdown",
   "metadata": {},
   "source": [
    "## Analysis of single neurons and gates¶\n",
    "\n",
    "We will now look at the individual activations of neurons in a Recurrent network. The functions bellow serve to print each sentence using one value of the hidden vector for each word.\n"
   ]
  },
  {
   "cell_type": "code",
   "execution_count": 34,
   "metadata": {},
   "outputs": [],
   "source": [
    "def sentence_plot(sentences, values, title=None):\n",
    "    \"\"\"\n",
    "    plot the values of one dimension of the hidden vector to\n",
    "    each word in the sentence.\n",
    "\n",
    "    :param sentences: sentences to be printed\n",
    "    :type sentences: list of str \n",
    "    :param values: one dimension of the hidden vector \n",
    "                   for each word of the sentence\n",
    "    :type values: np.array(shape=(num_sentences, sent_len))\n",
    "    \"\"\"\n",
    "    assert len(sentences) == values.shape[0]\n",
    "    for sentence in sentences:\n",
    "        assert len(sentence.split()) == values.shape[1]\n",
    "\n",
    "    all_values = []\n",
    "    sentence_size = np.max([len(sentence) for sentence in sentences])\n",
    "    for sid, sentence in enumerate(sentences):\n",
    "        temp = np.zeros((sentence_size))\n",
    "        count = 0\n",
    "        for wid, word in enumerate(sentence.split()):\n",
    "            temp[count: count + len(word)] = values[sid][wid]\n",
    "            count = count + len(word) + 1\n",
    "        all_values.append(temp)\n",
    "    all_values = np.array(all_values)\n",
    "\n",
    "    height = all_values.shape[0] \n",
    "    width = all_values.shape[1]\n",
    "    \n",
    "    plt.figure(figsize=(width * 1.6, height * 0.3))\n",
    "    plt.title(title)\n",
    "    plt.imshow(all_values, interpolation='none',\n",
    "             cmap='Oranges')\n",
    "    plt.axis('off')\n",
    "    for sid, sentence in enumerate(sentences):\n",
    "        for wid, word in enumerate(sentence):\n",
    "            plt.text(wid-0.2,sid+0.2,word,color='k',fontsize=12)\n",
    "\n",
    "    plt.show()\n",
    "    plt.close()\n",
    "\n",
    "def get_hidden_LSTM(sentences, model, mode=None):\n",
    "    \"\"\"\n",
    "    get the hidden state for each word of each sentence,\n",
    "    we use softmax to normalize the values of the hidden stater\n",
    "\n",
    "    :param sentences: sentences\n",
    "    :type sentences: list of str \n",
    "    :param model: LSTM type model\n",
    "    :type values: LSTM\n",
    "    :return: array with hidden states for each sentence\n",
    "    :rtype: np.array\n",
    "    \"\"\"\n",
    "    assert model._get_name() == \"LSTM\"\n",
    "    all_hiddend_states = []\n",
    "    all_in_gates = []\n",
    "    all_forget_gates = []\n",
    "    all_cell_gates = []\n",
    "    all_out_gates = []\n",
    "    all_text = []\n",
    "    all_lists = [all_hiddend_states,\n",
    "                 all_in_gates,\n",
    "                 all_forget_gates,\n",
    "                 all_cell_gates,\n",
    "                 all_out_gates]\n",
    "    pad = TEXT.vocab.stoi[\"<pad>\"]\n",
    "    max_size = np.max([len(sentence.split()) for sentence in sentences])\n",
    "    softmax = torch.nn.Softmax(dim=2)\n",
    "    sig = torch.nn.Sigmoid()\n",
    "    for example in sentences:\n",
    "        text = simple_pre_process_text(example)\n",
    "        text_as_int = [TEXT.vocab.stoi[word] for word in text.split(\" \")]\n",
    "        if len(text_as_int) < max_size:\n",
    "            text_as_int += [pad] * (max_size - len(text_as_int))\n",
    "        padded_text = [TEXT.vocab.itos[word] for word in text_as_int]\n",
    "        padded_text = \" \".join(padded_text)\n",
    "        all_text.append(padded_text)\n",
    "        text_as_tensor = torch.Tensor(text_as_int).type('torch.LongTensor')\n",
    "        text_as_tensor = text_as_tensor.view((1, text_as_tensor.shape[0]))\n",
    "        text_as_tensor = text_as_tensor.t()  # putting in the format [sent len, batch size]\n",
    "        _ = model.predict(text_as_tensor)\n",
    "\n",
    "        states = model.output\n",
    "        in_gates = model.in_gates\n",
    "        forget_gates = model.forget_gates\n",
    "        cell_gates = model.cell_gates\n",
    "        out_gates = model.out_gates\n",
    "\n",
    "        if mode == \"softmax\":\n",
    "            states = softmax(states)\n",
    "            in_gates = softmax(in_gates)\n",
    "            forget_gates = softmax(forget_gates)\n",
    "            cell_gates = softmax(cell_gates)\n",
    "            out_gates = softmax(out_gates)\n",
    "            \n",
    "        elif mode == \"sigmoid\":\n",
    "            states = sig(states)\n",
    "            in_gates = sig(in_gates)\n",
    "            forget_gates = sig(forget_gates)\n",
    "            cell_gates = sig(cell_gates)\n",
    "            out_gates = sig(out_gates)\n",
    "\n",
    "        for i, tensor in enumerate([states, in_gates, forget_gates, cell_gates, out_gates]): \n",
    "            tensor = tensor.detach().numpy()\n",
    "            tensor = tensor.reshape(max_size, config.rnn_dim)\n",
    "            all_lists[i].append(tensor)\n",
    "    return np.array(all_lists[0]), np.array(all_lists[1]), np.array(all_lists[2]), np.array(all_lists[3]), np.array(all_lists[4]), all_text "
   ]
  },
  {
   "cell_type": "markdown",
   "metadata": {},
   "source": [
    "## Getting the hidden states from 10 sentences with contradiction and from 10 sentences without contradiction"
   ]
  },
  {
   "cell_type": "code",
   "execution_count": 35,
   "metadata": {},
   "outputs": [],
   "source": [
    "df_test_contra = test_data[test_data[\"label\"]==1]\n",
    "df_test_non_contra = test_data[test_data[\"label\"]==0]\n",
    "test_sentences_contra =  df_test_contra[\"text\"].values\n",
    "test_sentences_non_contra =  df_test_non_contra[\"text\"].values\n",
    "\n",
    "np.random.shuffle(test_sentences_contra)\n",
    "np.random.shuffle(test_sentences_non_contra)\n",
    "\n",
    "some_test_sentences_contra = test_sentences_contra[0:10]\n",
    "some_test_sentences_non_contra = test_sentences_non_contra[0:10]\n",
    "some_sentences = list(some_test_sentences_contra) + list(some_test_sentences_non_contra)\n",
    "np.random.shuffle(some_sentences)\n",
    "\n",
    "states_contra, in_gates_contra, forget_gates_contra, cell_gates_contra, out_gates_contra, some_test_sentences_contra_pad = get_hidden_LSTM(some_test_sentences_contra,\n",
    "                                                                                                                                           model)\n",
    "\n",
    "states_non_contra, in_gates_non_contra, forget_gates_non_contra, cell_gates_non_contra, out_gates_non_contra, some_test_sentences_non_contra_pad = get_hidden_LSTM(some_test_sentences_non_contra,\n",
    "                                                                                                                                                                   model)"
   ]
  },
  {
   "cell_type": "markdown",
   "metadata": {},
   "source": [
    "## Here we will visualize the intensity of a random neuron for each word for each sentence.\n",
    "\n",
    "### First, only the contradictory sentences"
   ]
  },
  {
   "cell_type": "markdown",
   "metadata": {},
   "source": [
    "- ### Hidden states"
   ]
  },
  {
   "cell_type": "code",
   "execution_count": 36,
   "metadata": {},
   "outputs": [
    {
     "data": {
      "image/png": "[encoded data removed]",
      "text/plain": [
       "<Figure size 5414.4x216 with 1 Axes>"
      ]
     },
     "metadata": {},
     "output_type": "display_data"
    }
   ],
   "source": [
    "neuron_id = np.random.randint(0, config.rnn_dim)\n",
    "\n",
    "sentence_plot(some_test_sentences_contra_pad,\n",
    "              states_contra[:, :, neuron_id],\n",
    "              title=\"Hidden state, neuron {} (only contradictory sentences)\".format(neuron_id))"
   ]
  },
  {
   "cell_type": "markdown",
   "metadata": {},
   "source": [
    "- ### Input gates"
   ]
  },
  {
   "cell_type": "code",
   "execution_count": 37,
   "metadata": {},
   "outputs": [
    {
     "data": {
      "image/png": "[encoded data removed]",
      "text/plain": [
       "<Figure size 5414.4x216 with 1 Axes>"
      ]
     },
     "metadata": {},
     "output_type": "display_data"
    }
   ],
   "source": [
    "neuron_id = np.random.randint(0, config.rnn_dim)\n",
    "\n",
    "sentence_plot(some_test_sentences_contra_pad,\n",
    "              in_gates_contra[:, :, neuron_id],\n",
    "              title=\"Input gate, neuron {} (only contradictory sentences)\".format(neuron_id))"
   ]
  },
  {
   "cell_type": "markdown",
   "metadata": {},
   "source": [
    "- ### Forget gate"
   ]
  },
  {
   "cell_type": "code",
   "execution_count": 38,
   "metadata": {},
   "outputs": [
    {
     "data": {
      "image/png": "[encoded data removed]",
      "text/plain": [
       "<Figure size 5414.4x216 with 1 Axes>"
      ]
     },
     "metadata": {},
     "output_type": "display_data"
    }
   ],
   "source": [
    "neuron_id = np.random.randint(0, config.rnn_dim)\n",
    "\n",
    "sentence_plot(some_test_sentences_contra_pad,\n",
    "              forget_gates_contra[:, :, neuron_id],\n",
    "              title=\"Forget gate, neuron {} (only contradictory sentences)\".format(neuron_id))"
   ]
  },
  {
   "cell_type": "markdown",
   "metadata": {},
   "source": [
    "- ### Cell gates"
   ]
  },
  {
   "cell_type": "code",
   "execution_count": 39,
   "metadata": {},
   "outputs": [
    {
     "data": {
      "image/png": "[encoded data removed]",
      "text/plain": [
       "<Figure size 5414.4x216 with 1 Axes>"
      ]
     },
     "metadata": {},
     "output_type": "display_data"
    }
   ],
   "source": [
    "neuron_id = np.random.randint(0, config.rnn_dim)\n",
    "\n",
    "sentence_plot(some_test_sentences_contra_pad,\n",
    "              cell_gates_contra[:, :, neuron_id],\n",
    "              title=\"Cell gate, neuron {} (only contradictory sentences)\".format(neuron_id))"
   ]
  },
  {
   "cell_type": "markdown",
   "metadata": {},
   "source": [
    "- ### Output gates"
   ]
  },
  {
   "cell_type": "code",
   "execution_count": 40,
   "metadata": {},
   "outputs": [
    {
     "data": {
      "image/png": "[encoded data removed]",
      "text/plain": [
       "<Figure size 5414.4x216 with 1 Axes>"
      ]
     },
     "metadata": {},
     "output_type": "display_data"
    }
   ],
   "source": [
    "neuron_id = np.random.randint(0, config.rnn_dim)\n",
    "\n",
    "sentence_plot(some_test_sentences_contra_pad,\n",
    "              out_gates_contra[:, :, neuron_id],\n",
    "              title=\"Output gate, neuron {} (only contradictory sentences)\".format(neuron_id))\n",
    "\n"
   ]
  },
  {
   "cell_type": "markdown",
   "metadata": {},
   "source": [
    "### Second, visualization examples for the non contradictory sentences"
   ]
  },
  {
   "cell_type": "markdown",
   "metadata": {},
   "source": [
    "- ### Hidden states"
   ]
  },
  {
   "cell_type": "code",
   "execution_count": null,
   "metadata": {},
   "outputs": [],
   "source": [
    "neuron_id = np.random.randint(0, config.rnn_dim)\n",
    "\n",
    "sentence_plot(some_test_sentences_non_contra_pad,\n",
    "              states_non_contra[:, :, neuron_id],\n",
    "              title=\"Hidden state, neuron {} (only non contradictory sentences)\".format(neuron_id))"
   ]
  },
  {
   "cell_type": "markdown",
   "metadata": {},
   "source": [
    "- ### Reset gates"
   ]
  },
  {
   "cell_type": "code",
   "execution_count": null,
   "metadata": {},
   "outputs": [],
   "source": [
    "neuron_id = np.random.randint(0, config.rnn_dim)\n",
    "\n",
    "sentence_plot(some_test_sentences_non_contra_pad,\n",
    "              resets_non_contra[:, :, neuron_id],\n",
    "              title=\"Reset gate, neuron {} (only non contradictory sentences)\".format(neuron_id))"
   ]
  },
  {
   "cell_type": "markdown",
   "metadata": {},
   "source": [
    "- ### Update gate"
   ]
  },
  {
   "cell_type": "code",
   "execution_count": null,
   "metadata": {},
   "outputs": [],
   "source": [
    "neuron_id = np.random.randint(0, config.rnn_dim)\n",
    "\n",
    "sentence_plot(some_test_sentences_non_contra_pad,\n",
    "              updates_non_contra[:, :, neuron_id],\n",
    "              title=\"Update gate, neuron {} (only non contradictory sentences)\".format(neuron_id))"
   ]
  },
  {
   "cell_type": "markdown",
   "metadata": {},
   "source": [
    "- ### New candidate for hidden state"
   ]
  },
  {
   "cell_type": "code",
   "execution_count": null,
   "metadata": {},
   "outputs": [],
   "source": [
    "neuron_id = np.random.randint(0, config.rnn_dim)\n",
    "\n",
    "sentence_plot(some_test_sentences_non_contra_pad,\n",
    "              news_non_contra[:, :, neuron_id],\n",
    "              title=\"New candidate, neuron {} (only non contradictory sentences)\".format(neuron_id))"
   ]
  },
  {
   "cell_type": "markdown",
   "metadata": {},
   "source": [
    "##  What kind of neurons can we expect to find?\n",
    "\n",
    "- Negation neuron - activates around negation names of people in the play, such as Ralph, Lenora, Alton, etc.\n",
    "- Same adjective neuron - activates when the same adjective comes around\n",
    "- Same name neuron - activates when the same name comes around\n",
    "\n",
    "This kind of visualization is useful, but remember:\n",
    "\n",
    "> Note, that if neurons like these do not appear it does not mean that network does not \"know\" these elements. Highly discriminative, single neuron decoupling is not something neural networks are trained to do, it is just an empirical observation, shared across many domains (cat neurons in visual classifiers etc.). Knowledge can be represented in many other ways, in particular the fact that it is represented in a single neuron does not mean network does not have a distributed \"backup\" of the same knowledge somewhere else.\n"
   ]
  },
  {
   "cell_type": "markdown",
   "metadata": {},
   "source": [
    "## We can also use the hidden state to create a picture as follows:\n",
    "\n",
    "`sentences = [i like you, you like me]`\n",
    "\n",
    "`picture = [emb(i), emb(i like), emb(i like you), emb(you), emb(you like), emb(you like me)]`\n",
    "\n",
    "`picture.shape = (2*3, emb_size)`\n",
    "\n",
    "where `emb(s)` is the RNN embedding version of the sentence `s` (of size `emb_size`)"
   ]
  },
  {
   "cell_type": "code",
   "execution_count": null,
   "metadata": {},
   "outputs": [],
   "source": [
    "def state2picture(state_contra, state_non_contra, title=\"picture\"):\n",
    "    new_shape = (state_contra.shape[0] * state_contra.shape[1], state_contra.shape[2])\n",
    "    picture1 = state_contra.reshape(new_shape)\n",
    "    picture2 = state_non_contra.reshape(new_shape)\n",
    "    fig, axes = plt.subplots(1, 2, figsize=(12, 10))\n",
    "    for i, ax in enumerate(axes.flat):\n",
    "        if i % 2 == 0:\n",
    "            picture = picture1\n",
    "            ax.set_title(title + \"contradictions only\")\n",
    "        else:\n",
    "            picture = picture2\n",
    "            ax.set_title(title + \"non-contradictions only\")\n",
    "        ax.imshow(picture.T)\n",
    "    plt.show()\n"
   ]
  },
  {
   "cell_type": "code",
   "execution_count": null,
   "metadata": {},
   "outputs": [],
   "source": [
    "model = GRU(config)\n",
    "\n",
    "states_contra, resets_contra, updates_contra, news_contra, some_test_sentences_contra_pad = get_hidden_GRU(some_test_sentences_contra,\n",
    "                                                                                                           model)\n",
    "\n",
    "states_non_contra, resets_non_contra, updates_non_contra, news_non_contra, some_test_sentences_non_contra_pad = get_hidden_GRU(some_test_sentences_non_contra,\n",
    "                                                                                                                               model)\n",
    "state2picture(states_contra, states_non_contra, title=\"(hidden states) non-trained: \")\n",
    "state2picture(resets_contra, resets_non_contra, title=\"(reset gates) non-trained: \")\n",
    "state2picture(updates_contra, updates_non_contra, title=\"(updates states) non-trained: \")\n",
    "state2picture(news_contra, news_non_contra, title=\"(new candidate) non-trained: \")\n"
   ]
  },
  {
   "cell_type": "code",
   "execution_count": null,
   "metadata": {},
   "outputs": [],
   "source": [
    "model = GRU(config)\n",
    "model.load_state_dict(torch.load('gru_v1.pkl'))\n",
    "\n",
    "\n",
    "states_contra, resets_contra, updates_contra, news_contra, some_test_sentences_contra_pad = get_hidden_GRU(some_test_sentences_contra,\n",
    "                                                                                                           model)\n",
    "\n",
    "states_non_contra, resets_non_contra, updates_non_contra, news_non_contra, some_test_sentences_non_contra_pad = get_hidden_GRU(some_test_sentences_non_contra,\n",
    "                                                                                                                               model)\n",
    "state2picture(states_contra, states_non_contra, title=\"(hidden states) trained: \")\n",
    "state2picture(resets_contra, resets_non_contra, title=\"(reset gates) trained: \")\n",
    "state2picture(updates_contra, updates_non_contra, title=\"(updates states) trained: \")\n",
    "state2picture(news_contra, news_non_contra, title=\"(new candidate) trained: \")\n"
   ]
  },
  {
   "cell_type": "code",
   "execution_count": null,
   "metadata": {},
   "outputs": [],
   "source": [
    "model = GRU(config)\n",
    "model.load_state_dict(torch.load('gru_v1_neg.pkl'))\n",
    "\n",
    "\n",
    "states_contra, resets_contra, updates_contra, news_contra, some_test_sentences_contra_pad = get_hidden_GRU(some_test_sentences_contra,\n",
    "                                                                                                           model)\n",
    "\n",
    "states_non_contra, resets_non_contra, updates_non_contra, news_non_contra, some_test_sentences_non_contra_pad = get_hidden_GRU(some_test_sentences_non_contra,\n",
    "                                                                                                                               model)\n",
    "state2picture(states_contra, states_non_contra, title=\"(hidden states) negative model: \")\n",
    "state2picture(resets_contra, resets_non_contra, title=\"(reset gates) negative model: \")\n",
    "state2picture(updates_contra, updates_non_contra, title=\"(updates states) negative model: \")\n",
    "state2picture(news_contra, news_non_contra, title=\"(new candidate) negative model: \")"
   ]
  },
  {
   "cell_type": "markdown",
   "metadata": {},
   "source": [
    "## Analysis of the state dynamics\n",
    "\n",
    "Here, we will visualize the activations in a different way, by projecting them to ** 3 dimensions**, via dimensionality reduction."
   ]
  },
  {
   "cell_type": "code",
   "execution_count": null,
   "metadata": {},
   "outputs": [],
   "source": [
    "projector = 'PCA' #@param ['PCA', 'TSNE', 'Isomap']\n",
    "projector_fun = eval(projector)\n",
    "\n",
    "kwargs = {\n",
    "    'TSNE': {'perplexity': 5},\n",
    "    'PCA': {},\n",
    "    'Isomap': {}\n",
    "}\n",
    "\n",
    "projector = projector_fun(n_components=3, **kwargs[projector])"
   ]
  },
  {
   "cell_type": "markdown",
   "metadata": {},
   "source": [
    "## Before training"
   ]
  },
  {
   "cell_type": "code",
   "execution_count": null,
   "metadata": {},
   "outputs": [],
   "source": [
    "model = GRU(config)\n",
    "\n",
    "states_contra, resets_contra, updates_contra, news_contra, some_test_sentences_contra_pad = get_hidden_GRU(some_test_sentences_contra,\n",
    "                                                                                                           model)\n",
    "\n",
    "states_non_contra, resets_non_contra, updates_non_contra, news_non_contra, some_test_sentences_non_contra_pad = get_hidden_GRU(some_test_sentences_non_contra,\n",
    "                                                                                                                               model)\n",
    "\n",
    "states_contra3d = []\n",
    "resets_contra3d = []\n",
    "updates_contra3d = []\n",
    "news_contra3d = []\n",
    "\n",
    "\n",
    "for i in range(states_contra.shape[0]):\n",
    "    states_contra3d.append(projector.fit_transform(states_contra[i]))\n",
    "    resets_contra3d.append(projector.fit_transform(resets_contra[i]))\n",
    "    updates_contra3d.append(projector.fit_transform(updates_contra[i]))\n",
    "    news_contra3d.append(projector.fit_transform(news_contra[i]))\n",
    "    \n",
    "    \n",
    "states_contra3d = np.array(states_contra3d)\n",
    "resets_contra3d = np.array(resets_contra3d)\n",
    "updates_contra3d = np.array(updates_contra3d)\n",
    "news_contra3d = np.array(news_contra3d)\n",
    "\n",
    "\n",
    "states_non_contra3d = []\n",
    "resets_non_contra3d = []\n",
    "updates_non_contra3d = []\n",
    "news_non_contra3d = []\n",
    "for i in range(states_non_contra.shape[0]):\n",
    "    states_non_contra3d.append(projector.fit_transform(states_non_contra[i]))\n",
    "    resets_non_contra3d.append(projector.fit_transform(resets_non_contra[i]))\n",
    "    updates_non_contra3d.append(projector.fit_transform(updates_non_contra[i]))\n",
    "    news_non_contra3d.append(projector.fit_transform(news_non_contra[i]))\n",
    "\n",
    "states_non_contra3d = np.array(states_non_contra3d)\n",
    "resets_non_contra3d = np.array(resets_non_contra3d)\n",
    "updates_non_contra3d = np.array(updates_non_contra3d)\n",
    "news_non_contra3d = np.array(news_non_contra3d)\n"
   ]
  },
  {
   "cell_type": "markdown",
   "metadata": {},
   "source": [
    "#### Visualizing the projected vectors using PCA: **only contradictions**"
   ]
  },
  {
   "cell_type": "code",
   "execution_count": null,
   "metadata": {},
   "outputs": [],
   "source": [
    "sentence_plot(some_test_sentences_contra_pad,\n",
    "              states_contra3d[:, :, 0],\n",
    "              title=\"PCA - hidden state, neuron {} (only contradictory sentences)\".format(0))\n",
    "\n",
    "sentence_plot(some_test_sentences_contra_pad,\n",
    "              states_contra3d[:, :, 1],\n",
    "              title=\"PCA - hidden state, neuron {} (only contradictory sentences)\".format(1))\n",
    "\n",
    "sentence_plot(some_test_sentences_contra_pad,\n",
    "              states_contra3d[:, :, 2],\n",
    "              title=\"PCA - hidden state, neuron {} (only contradictory sentences)\".format(2))\n",
    "\n",
    "sentence_plot(some_test_sentences_contra_pad,\n",
    "              resets_contra3d[:, :, 0],\n",
    "              title=\"PCA - reset gate, neuron {} (only contradictory sentences)\".format(0))\n",
    "\n",
    "sentence_plot(some_test_sentences_contra_pad,\n",
    "              resets_contra3d[:, :, 1],\n",
    "              title=\"PCA - reset gate, neuron {} (only contradictory sentences)\".format(1))\n",
    "\n",
    "sentence_plot(some_test_sentences_contra_pad,\n",
    "              resets_contra3d[:, :, 2],\n",
    "              title=\"PCA - reset gate, neuron {} (only contradictory sentences)\".format(2))\n",
    "\n",
    "sentence_plot(some_test_sentences_contra_pad,\n",
    "              updates_contra3d[:, :, 0],\n",
    "              title=\"PCA - update gate, neuron {} (only contradictory sentences)\".format(0))\n",
    "\n",
    "sentence_plot(some_test_sentences_contra_pad,\n",
    "              updates_contra3d[:, :, 1],\n",
    "              title=\"PCA - update gate, neuron {} (only contradictory sentences)\".format(1))\n",
    "\n",
    "sentence_plot(some_test_sentences_contra_pad,\n",
    "              updates_contra3d[:, :, 2],\n",
    "              title=\"PCA - update gate, neuron {} (only contradictory sentences)\".format(2))\n",
    "\n",
    "sentence_plot(some_test_sentences_contra_pad,\n",
    "              news_contra3d[:, :, 0],\n",
    "              title=\"PCA - candidate vector, neuron {} (only contradictory sentences)\".format(0))\n",
    "\n",
    "sentence_plot(some_test_sentences_contra_pad,\n",
    "              news_contra3d[:, :, 1],\n",
    "              title=\"PCA - candidate vector, neuron {} (only contradictory sentences)\".format(1))\n",
    "\n",
    "sentence_plot(some_test_sentences_contra_pad,\n",
    "              news_contra3d[:, :, 2],\n",
    "              title=\"PCA - candidate vector, neuron {} (only contradictory sentences)\".format(2))"
   ]
  },
  {
   "cell_type": "markdown",
   "metadata": {},
   "source": [
    "#### Visualizing the projected vectors using PCA: **only non contradictions**"
   ]
  },
  {
   "cell_type": "code",
   "execution_count": null,
   "metadata": {},
   "outputs": [],
   "source": [
    "sentence_plot(some_test_sentences_non_contra_pad,\n",
    "              states_non_contra3d[:, :, 0],\n",
    "              title=\"PCA - hidden state, neuron {} (only non contradictory sentences)\".format(0))\n",
    "\n",
    "sentence_plot(some_test_sentences_non_contra_pad,\n",
    "              states_non_contra3d[:, :, 1],\n",
    "              title=\"PCA - hidden state, neuron {} (only non contradictory sentences)\".format(1))\n",
    "\n",
    "sentence_plot(some_test_sentences_non_contra_pad,\n",
    "              states_non_contra3d[:, :, 2],\n",
    "              title=\"PCA - hidden state, neuron {} (only non contradictory sentences)\".format(2))\n",
    "\n",
    "sentence_plot(some_test_sentences_non_contra_pad,\n",
    "              resets_non_contra3d[:, :, 0],\n",
    "              title=\"PCA - reset gate, neuron {} (only non contradictory sentences)\".format(0))\n",
    "\n",
    "sentence_plot(some_test_sentences_non_contra_pad,\n",
    "              resets_non_contra3d[:, :, 1],\n",
    "              title=\"PCA - reset gate, neuron {} (only non contradictory sentences)\".format(1))\n",
    "\n",
    "sentence_plot(some_test_sentences_non_contra_pad,\n",
    "              resets_non_contra3d[:, :, 2],\n",
    "              title=\"PCA - reset gate, neuron {} (only non contradictory sentences)\".format(2))\n",
    "\n",
    "sentence_plot(some_test_sentences_non_contra_pad,\n",
    "              updates_non_contra3d[:, :, 0],\n",
    "              title=\"PCA - update gate, neuron {} (only non contradictory sentences)\".format(0))\n",
    "\n",
    "sentence_plot(some_test_sentences_non_contra_pad,\n",
    "              updates_non_contra3d[:, :, 1],\n",
    "              title=\"PCA - update gate, neuron {} (only non contradictory sentences)\".format(1))\n",
    "\n",
    "sentence_plot(some_test_sentences_non_contra_pad,\n",
    "              updates_non_contra3d[:, :, 2],\n",
    "              title=\"PCA - update gate, neuron {} (only non contradictory sentences)\".format(2))\n",
    "\n",
    "sentence_plot(some_test_sentences_non_contra_pad,\n",
    "              news_non_contra3d[:, :, 0],\n",
    "              title=\"PCA -  - candidate vector, neuron {} (only non contradictory sentences)\".format(0))\n",
    "\n",
    "sentence_plot(some_test_sentences_non_contra_pad,\n",
    "              news_non_contra3d[:, :, 1],\n",
    "              title=\"PCA -  - candidate vector, neuron {} (only non contradictory sentences)\".format(1))\n",
    "\n",
    "sentence_plot(some_test_sentences_non_contra_pad,\n",
    "              news_non_contra3d[:, :, 1],\n",
    "              title=\"PCA -  - candidate vector, neuron {} (only non contradictory sentences)\".format(2))\n"
   ]
  },
  {
   "cell_type": "markdown",
   "metadata": {},
   "source": [
    "## After training"
   ]
  },
  {
   "cell_type": "code",
   "execution_count": null,
   "metadata": {},
   "outputs": [],
   "source": [
    "model = GRU(config)\n",
    "\n",
    "model.load_state_dict(torch.load('gru_v1.pkl'))\n",
    "\n",
    "\n",
    "\n",
    "states_contra, resets_contra, updates_contra, news_contra, some_test_sentences_contra_pad = get_hidden_GRU(some_test_sentences_contra,\n",
    "                                                                                                           model)\n",
    "\n",
    "states_non_contra, resets_non_contra, updates_non_contra, news_non_contra, some_test_sentences_non_contra_pad = get_hidden_GRU(some_test_sentences_non_contra,\n",
    "                                                                                                                               model)\n",
    "\n",
    "states_contra3d = []\n",
    "resets_contra3d = []\n",
    "updates_contra3d = []\n",
    "news_contra3d = []\n",
    "\n",
    "\n",
    "for i in range(states_contra.shape[0]):\n",
    "    states_contra3d.append(projector.fit_transform(states_contra[i]))\n",
    "    resets_contra3d.append(projector.fit_transform(resets_contra[i]))\n",
    "    updates_contra3d.append(projector.fit_transform(updates_contra[i]))\n",
    "    news_contra3d.append(projector.fit_transform(news_contra[i]))\n",
    "    \n",
    "    \n",
    "states_contra3d = np.array(states_contra3d)\n",
    "resets_contra3d = np.array(resets_contra3d)\n",
    "updates_contra3d = np.array(updates_contra3d)\n",
    "news_contra3d = np.array(news_contra3d)\n",
    "\n",
    "\n",
    "states_non_contra3d = []\n",
    "resets_non_contra3d = []\n",
    "updates_non_contra3d = []\n",
    "news_non_contra3d = []\n",
    "for i in range(states_non_contra.shape[0]):\n",
    "    states_non_contra3d.append(projector.fit_transform(states_non_contra[i]))\n",
    "    resets_non_contra3d.append(projector.fit_transform(resets_non_contra[i]))\n",
    "    updates_non_contra3d.append(projector.fit_transform(updates_non_contra[i]))\n",
    "    news_non_contra3d.append(projector.fit_transform(news_non_contra[i]))\n",
    "\n",
    "states_non_contra3d = np.array(states_non_contra3d)\n",
    "resets_non_contra3d = np.array(resets_non_contra3d)\n",
    "updates_non_contra3d = np.array(updates_non_contra3d)\n",
    "news_non_contra3d = np.array(news_non_contra3d)\n"
   ]
  },
  {
   "cell_type": "markdown",
   "metadata": {},
   "source": [
    "#### Visualizing the projected vectors using PCA: **only contradictions**"
   ]
  },
  {
   "cell_type": "code",
   "execution_count": null,
   "metadata": {},
   "outputs": [],
   "source": [
    "sentence_plot(some_test_sentences_contra_pad,\n",
    "              states_contra3d[:, :, 0],\n",
    "              title=\"PCA - hidden state, neuron {} (only contradictory sentences)\".format(0))\n",
    "\n",
    "sentence_plot(some_test_sentences_contra_pad,\n",
    "              states_contra3d[:, :, 1],\n",
    "              title=\"PCA - hidden state, neuron {} (only contradictory sentences)\".format(1))\n",
    "\n",
    "sentence_plot(some_test_sentences_contra_pad,\n",
    "              states_contra3d[:, :, 2],\n",
    "              title=\"PCA - hidden state, neuron {} (only contradictory sentences)\".format(2))\n",
    "\n",
    "sentence_plot(some_test_sentences_contra_pad,\n",
    "              resets_contra3d[:, :, 0],\n",
    "              title=\"PCA - reset gate, neuron {} (only contradictory sentences)\".format(0))\n",
    "\n",
    "sentence_plot(some_test_sentences_contra_pad,\n",
    "              resets_contra3d[:, :, 1],\n",
    "              title=\"PCA - reset gate, neuron {} (only contradictory sentences)\".format(1))\n",
    "\n",
    "sentence_plot(some_test_sentences_contra_pad,\n",
    "              resets_contra3d[:, :, 2],\n",
    "              title=\"PCA - reset gate, neuron {} (only contradictory sentences)\".format(2))\n",
    "\n",
    "sentence_plot(some_test_sentences_contra_pad,\n",
    "              updates_contra3d[:, :, 0],\n",
    "              title=\"PCA - update gate, neuron {} (only contradictory sentences)\".format(0))\n",
    "\n",
    "sentence_plot(some_test_sentences_contra_pad,\n",
    "              updates_contra3d[:, :, 1],\n",
    "              title=\"PCA - update gate, neuron {} (only contradictory sentences)\".format(1))\n",
    "\n",
    "sentence_plot(some_test_sentences_contra_pad,\n",
    "              updates_contra3d[:, :, 2],\n",
    "              title=\"PCA - update gate, neuron {} (only contradictory sentences)\".format(2))\n",
    "\n",
    "sentence_plot(some_test_sentences_contra_pad,\n",
    "              news_contra3d[:, :, 0],\n",
    "              title=\"PCA - candidate vector, neuron {} (only contradictory sentences)\".format(0))\n",
    "\n",
    "sentence_plot(some_test_sentences_contra_pad,\n",
    "              news_contra3d[:, :, 1],\n",
    "              title=\"PCA - candidate vector, neuron {} (only contradictory sentences)\".format(1))\n",
    "\n",
    "sentence_plot(some_test_sentences_contra_pad,\n",
    "              news_contra3d[:, :, 2],\n",
    "              title=\"PCA - candidate vector, neuron {} (only contradictory sentences)\".format(2))"
   ]
  },
  {
   "cell_type": "markdown",
   "metadata": {},
   "source": [
    "#### Visualizing the projected vectors using PCA: **only non contradictions**"
   ]
  },
  {
   "cell_type": "code",
   "execution_count": null,
   "metadata": {},
   "outputs": [],
   "source": [
    "sentence_plot(some_test_sentences_non_contra_pad,\n",
    "              states_non_contra3d[:, :, 0],\n",
    "              title=\"PCA - hidden state, neuron {} (only non contradictory sentences)\".format(0))\n",
    "\n",
    "sentence_plot(some_test_sentences_non_contra_pad,\n",
    "              states_non_contra3d[:, :, 1],\n",
    "              title=\"PCA - hidden state, neuron {} (only non contradictory sentences)\".format(1))\n",
    "\n",
    "sentence_plot(some_test_sentences_non_contra_pad,\n",
    "              states_non_contra3d[:, :, 2],\n",
    "              title=\"PCA - hidden state, neuron {} (only non contradictory sentences)\".format(2))\n",
    "\n",
    "sentence_plot(some_test_sentences_non_contra_pad,\n",
    "              resets_non_contra3d[:, :, 0],\n",
    "              title=\"PCA - reset gate, neuron {} (only non contradictory sentences)\".format(0))\n",
    "\n",
    "sentence_plot(some_test_sentences_non_contra_pad,\n",
    "              resets_non_contra3d[:, :, 1],\n",
    "              title=\"PCA - reset gate, neuron {} (only non contradictory sentences)\".format(1))\n",
    "\n",
    "sentence_plot(some_test_sentences_non_contra_pad,\n",
    "              resets_non_contra3d[:, :, 2],\n",
    "              title=\"PCA - reset gate, neuron {} (only non contradictory sentences)\".format(2))\n",
    "\n",
    "sentence_plot(some_test_sentences_non_contra_pad,\n",
    "              updates_non_contra3d[:, :, 0],\n",
    "              title=\"PCA - update gate, neuron {} (only non contradictory sentences)\".format(0))\n",
    "\n",
    "sentence_plot(some_test_sentences_non_contra_pad,\n",
    "              updates_non_contra3d[:, :, 1],\n",
    "              title=\"PCA - update gate, neuron {} (only non contradictory sentences)\".format(1))\n",
    "\n",
    "sentence_plot(some_test_sentences_non_contra_pad,\n",
    "              updates_non_contra3d[:, :, 2],\n",
    "              title=\"PCA - update gate, neuron {} (only non contradictory sentences)\".format(2))\n",
    "\n",
    "sentence_plot(some_test_sentences_non_contra_pad,\n",
    "              news_non_contra3d[:, :, 0],\n",
    "              title=\"PCA -  - candidate vector, neuron {} (only non contradictory sentences)\".format(0))\n",
    "\n",
    "sentence_plot(some_test_sentences_non_contra_pad,\n",
    "              news_non_contra3d[:, :, 1],\n",
    "              title=\"PCA -  - candidate vector, neuron {} (only non contradictory sentences)\".format(1))\n",
    "\n",
    "sentence_plot(some_test_sentences_non_contra_pad,\n",
    "              news_non_contra3d[:, :, 1],\n",
    "              title=\"PCA -  - candidate vector, neuron {} (only non contradictory sentences)\".format(2))\n"
   ]
  },
  {
   "cell_type": "markdown",
   "metadata": {},
   "source": [
    "## Negative model"
   ]
  },
  {
   "cell_type": "code",
   "execution_count": null,
   "metadata": {},
   "outputs": [],
   "source": [
    "model = GRU(config)\n",
    "\n",
    "model.load_state_dict(torch.load('gru_v1_neg.pkl'))\n",
    "\n",
    "states_contra, resets_contra, updates_contra, news_contra, some_test_sentences_contra_pad = get_hidden_GRU(some_test_sentences_contra,\n",
    "                                                                                                           model)\n",
    "\n",
    "states_non_contra, resets_non_contra, updates_non_contra, news_non_contra, some_test_sentences_non_contra_pad = get_hidden_GRU(some_test_sentences_non_contra,\n",
    "                                                                                                                               model)\n",
    "\n",
    "states_contra3d = []\n",
    "resets_contra3d = []\n",
    "updates_contra3d = []\n",
    "news_contra3d = []\n",
    "\n",
    "\n",
    "for i in range(states_contra.shape[0]):\n",
    "    states_contra3d.append(projector.fit_transform(states_contra[i]))\n",
    "    resets_contra3d.append(projector.fit_transform(resets_contra[i]))\n",
    "    updates_contra3d.append(projector.fit_transform(updates_contra[i]))\n",
    "    news_contra3d.append(projector.fit_transform(news_contra[i]))\n",
    "    \n",
    "    \n",
    "states_contra3d = np.array(states_contra3d)\n",
    "resets_contra3d = np.array(resets_contra3d)\n",
    "updates_contra3d = np.array(updates_contra3d)\n",
    "news_contra3d = np.array(news_contra3d)\n",
    "\n",
    "\n",
    "states_non_contra3d = []\n",
    "resets_non_contra3d = []\n",
    "updates_non_contra3d = []\n",
    "news_non_contra3d = []\n",
    "for i in range(states_non_contra.shape[0]):\n",
    "    states_non_contra3d.append(projector.fit_transform(states_non_contra[i]))\n",
    "    resets_non_contra3d.append(projector.fit_transform(resets_non_contra[i]))\n",
    "    updates_non_contra3d.append(projector.fit_transform(updates_non_contra[i]))\n",
    "    news_non_contra3d.append(projector.fit_transform(news_non_contra[i]))\n",
    "\n",
    "states_non_contra3d = np.array(states_non_contra3d)\n",
    "resets_non_contra3d = np.array(resets_non_contra3d)\n",
    "updates_non_contra3d = np.array(updates_non_contra3d)\n",
    "news_non_contra3d = np.array(news_non_contra3d)\n"
   ]
  },
  {
   "cell_type": "markdown",
   "metadata": {},
   "source": [
    "#### Visualizing the projected vectors using PCA: **only contradictions**"
   ]
  },
  {
   "cell_type": "code",
   "execution_count": null,
   "metadata": {},
   "outputs": [],
   "source": [
    "sentence_plot(some_test_sentences_contra_pad,\n",
    "              states_contra3d[:, :, 0],\n",
    "              title=\"PCA - hidden state, neuron {} (only contradictory sentences)\".format(0))\n",
    "\n",
    "sentence_plot(some_test_sentences_contra_pad,\n",
    "              states_contra3d[:, :, 1],\n",
    "              title=\"PCA - hidden state, neuron {} (only contradictory sentences)\".format(1))\n",
    "\n",
    "sentence_plot(some_test_sentences_contra_pad,\n",
    "              states_contra3d[:, :, 2],\n",
    "              title=\"PCA - hidden state, neuron {} (only contradictory sentences)\".format(2))\n",
    "\n",
    "sentence_plot(some_test_sentences_contra_pad,\n",
    "              resets_contra3d[:, :, 0],\n",
    "              title=\"PCA - reset gate, neuron {} (only contradictory sentences)\".format(0))\n",
    "\n",
    "sentence_plot(some_test_sentences_contra_pad,\n",
    "              resets_contra3d[:, :, 1],\n",
    "              title=\"PCA - reset gate, neuron {} (only contradictory sentences)\".format(1))\n",
    "\n",
    "sentence_plot(some_test_sentences_contra_pad,\n",
    "              resets_contra3d[:, :, 2],\n",
    "              title=\"PCA - reset gate, neuron {} (only contradictory sentences)\".format(2))\n",
    "\n",
    "sentence_plot(some_test_sentences_contra_pad,\n",
    "              updates_contra3d[:, :, 0],\n",
    "              title=\"PCA - update gate, neuron {} (only contradictory sentences)\".format(0))\n",
    "\n",
    "sentence_plot(some_test_sentences_contra_pad,\n",
    "              updates_contra3d[:, :, 1],\n",
    "              title=\"PCA - update gate, neuron {} (only contradictory sentences)\".format(1))\n",
    "\n",
    "sentence_plot(some_test_sentences_contra_pad,\n",
    "              updates_contra3d[:, :, 2],\n",
    "              title=\"PCA - update gate, neuron {} (only contradictory sentences)\".format(2))\n",
    "\n",
    "sentence_plot(some_test_sentences_contra_pad,\n",
    "              news_contra3d[:, :, 0],\n",
    "              title=\"PCA - candidate vector, neuron {} (only contradictory sentences)\".format(0))\n",
    "\n",
    "sentence_plot(some_test_sentences_contra_pad,\n",
    "              news_contra3d[:, :, 1],\n",
    "              title=\"PCA - candidate vector, neuron {} (only contradictory sentences)\".format(1))\n",
    "\n",
    "sentence_plot(some_test_sentences_contra_pad,\n",
    "              news_contra3d[:, :, 2],\n",
    "              title=\"PCA - candidate vector, neuron {} (only contradictory sentences)\".format(2))"
   ]
  },
  {
   "cell_type": "markdown",
   "metadata": {},
   "source": [
    "#### Visualizing the projected vectors using PCA: **only non contradictions**"
   ]
  },
  {
   "cell_type": "code",
   "execution_count": null,
   "metadata": {},
   "outputs": [],
   "source": [
    "sentence_plot(some_test_sentences_non_contra_pad,\n",
    "              states_non_contra3d[:, :, 0],\n",
    "              title=\"PCA - hidden state, neuron {} (only non contradictory sentences)\".format(0))\n",
    "\n",
    "sentence_plot(some_test_sentences_non_contra_pad,\n",
    "              states_non_contra3d[:, :, 1],\n",
    "              title=\"PCA - hidden state, neuron {} (only non contradictory sentences)\".format(1))\n",
    "\n",
    "sentence_plot(some_test_sentences_non_contra_pad,\n",
    "              states_non_contra3d[:, :, 2],\n",
    "              title=\"PCA - hidden state, neuron {} (only non contradictory sentences)\".format(2))\n",
    "\n",
    "sentence_plot(some_test_sentences_non_contra_pad,\n",
    "              resets_non_contra3d[:, :, 0],\n",
    "              title=\"PCA - reset gate, neuron {} (only non contradictory sentences)\".format(0))\n",
    "\n",
    "sentence_plot(some_test_sentences_non_contra_pad,\n",
    "              resets_non_contra3d[:, :, 1],\n",
    "              title=\"PCA - reset gate, neuron {} (only non contradictory sentences)\".format(1))\n",
    "\n",
    "sentence_plot(some_test_sentences_non_contra_pad,\n",
    "              resets_non_contra3d[:, :, 2],\n",
    "              title=\"PCA - reset gate, neuron {} (only non contradictory sentences)\".format(2))\n",
    "\n",
    "sentence_plot(some_test_sentences_non_contra_pad,\n",
    "              updates_non_contra3d[:, :, 0],\n",
    "              title=\"PCA - update gate, neuron {} (only non contradictory sentences)\".format(0))\n",
    "\n",
    "sentence_plot(some_test_sentences_non_contra_pad,\n",
    "              updates_non_contra3d[:, :, 1],\n",
    "              title=\"PCA - update gate, neuron {} (only non contradictory sentences)\".format(1))\n",
    "\n",
    "sentence_plot(some_test_sentences_non_contra_pad,\n",
    "              updates_non_contra3d[:, :, 2],\n",
    "              title=\"PCA - update gate, neuron {} (only non contradictory sentences)\".format(2))\n",
    "\n",
    "sentence_plot(some_test_sentences_non_contra_pad,\n",
    "              news_non_contra3d[:, :, 0],\n",
    "              title=\"PCA -  - candidate vector, neuron {} (only non contradictory sentences)\".format(0))\n",
    "\n",
    "sentence_plot(some_test_sentences_non_contra_pad,\n",
    "              news_non_contra3d[:, :, 1],\n",
    "              title=\"PCA -  - candidate vector, neuron {} (only non contradictory sentences)\".format(1))\n",
    "\n",
    "sentence_plot(some_test_sentences_non_contra_pad,\n",
    "              news_non_contra3d[:, :, 1],\n",
    "              title=\"PCA -  - candidate vector, neuron {} (only non contradictory sentences)\".format(2))\n"
   ]
  },
  {
   "cell_type": "markdown",
   "metadata": {},
   "source": [
    "##  Plotting the 2d representation of different sentences separated by class"
   ]
  },
  {
   "cell_type": "code",
   "execution_count": null,
   "metadata": {},
   "outputs": [],
   "source": [
    "projector = 'PCA' #@param ['PCA', 'TSNE', 'Isomap']\n",
    "projector_fun = eval(projector)\n",
    "\n",
    "kwargs = {\n",
    "    'TSNE': {'perplexity': 5},\n",
    "    'PCA': {},\n",
    "    'Isomap': {}\n",
    "}\n",
    "projector = projector_fun(n_components=2, **kwargs[projector])\n",
    "\n",
    "np.random.shuffle(test_sentences_contra)\n",
    "np.random.shuffle(test_sentences_non_contra)\n",
    "\n",
    "bunch_test_sentences_contra = test_sentences_contra[0:5000]\n",
    "bunch_test_sentences_non_contra = test_sentences_non_contra[0:5000]\n"
   ]
  },
  {
   "cell_type": "markdown",
   "metadata": {},
   "source": [
    "## Before Training"
   ]
  },
  {
   "cell_type": "code",
   "execution_count": null,
   "metadata": {},
   "outputs": [],
   "source": [
    "model = GRU(config)\n",
    "states_contra, resets_contra, updates_contra, news_contra, _ = get_hidden_GRU(bunch_test_sentences_contra,\n",
    "                                                                              model)\n",
    "states_non_contra, resets_non_contra, updates_non_contra, news_non_contra, _ = get_hidden_GRU(bunch_test_sentences_non_contra,\n",
    "                                                                                              model)\n",
    "\n",
    "bunch_hiddend_states_contra2d = []\n",
    "for state in states_contra:\n",
    "    bunch_hiddend_states_contra2d.append(projector.fit_transform(state))\n",
    "\n",
    "bunch_hiddend_states_contra2d = np.array(bunch_hiddend_states_contra2d)\n",
    "\n",
    "\n",
    "bunch_hiddend_states_non_contra2d = []\n",
    "for state in states_non_contra:\n",
    "    bunch_hiddend_states_non_contra2d.append(projector.fit_transform(state))\n",
    "\n",
    "bunch_hiddend_states_non_contra2d = np.array(bunch_hiddend_states_non_contra2d)\n",
    "\n",
    "all_x_contra = bunch_hiddend_states_contra2d[:,-1,0].flatten()\n",
    "all_y_contra = bunch_hiddend_states_contra2d[:,-1,1].flatten()\n",
    "\n",
    "all_x_non = bunch_hiddend_states_non_contra2d[:,-1,0].flatten()\n",
    "all_y_non = bunch_hiddend_states_non_contra2d[:,-1,1].flatten()\n",
    "\n",
    "fig, ax = plt.subplots(figsize=(10, 10))\n",
    "\n",
    "ax.scatter(all_x_contra, all_y_contra, marker='o',cmap=plt.get_cmap('Spectral'), label=\"contradictions\")\n",
    "ax.scatter(all_x_non, all_y_non, marker='x',cmap=plt.get_cmap('Spectral'), label=\"non contradictions\")\n",
    "\n",
    "ax.legend()\n",
    "plt.title(\"2d representation of different sentences (before training)\".format(),\n",
    "          fontsize=14,\n",
    "          fontweight='bold')\n",
    "plt.show()\n",
    "\n",
    "_, pred, labels = model.evaluate_bach(test_bach)\n",
    "\n",
    "plot_confusion_matrix(truth=labels.numpy(),\n",
    "                      predictions=pred.numpy(),\n",
    "                      save=False,\n",
    "                      path=\"gru_confusion_matrix_b1_v1.png\",\n",
    "                      classes=labels_legend)\n"
   ]
  },
  {
   "cell_type": "markdown",
   "metadata": {},
   "source": [
    "## After Training"
   ]
  },
  {
   "cell_type": "code",
   "execution_count": null,
   "metadata": {},
   "outputs": [],
   "source": [
    "model = GRU(config)\n",
    "\n",
    "model.load_state_dict(torch.load('gru_v1.pkl'))\n",
    "\n",
    "states_contra, resets_contra, updates_contra, news_contra, _ = get_hidden_GRU(bunch_test_sentences_contra,\n",
    "                                                                              model)\n",
    "states_non_contra, resets_non_contra, updates_non_contra, news_non_contra, _ = get_hidden_GRU(bunch_test_sentences_non_contra,\n",
    "                                                                                              model)\n",
    "\n",
    "bunch_hiddend_states_contra2d = []\n",
    "for state in states_contra:\n",
    "    bunch_hiddend_states_contra2d.append(projector.fit_transform(state))\n",
    "\n",
    "bunch_hiddend_states_contra2d = np.array(bunch_hiddend_states_contra2d)\n",
    "\n",
    "\n",
    "bunch_hiddend_states_non_contra2d = []\n",
    "for state in states_non_contra:\n",
    "    bunch_hiddend_states_non_contra2d.append(projector.fit_transform(state))\n",
    "\n",
    "bunch_hiddend_states_non_contra2d = np.array(bunch_hiddend_states_non_contra2d)\n",
    "\n",
    "all_x_contra = bunch_hiddend_states_contra2d[:,-1,0].flatten()\n",
    "all_y_contra = bunch_hiddend_states_contra2d[:,-1,1].flatten()\n",
    "\n",
    "all_x_non = bunch_hiddend_states_non_contra2d[:,-1,0].flatten()\n",
    "all_y_non = bunch_hiddend_states_non_contra2d[:,-1,1].flatten()\n",
    "\n",
    "fig, ax = plt.subplots(figsize=(10, 10))\n",
    "\n",
    "ax.scatter(all_x_contra, all_y_contra, marker='o',cmap=plt.get_cmap('Spectral'), label=\"contradictions\")\n",
    "ax.scatter(all_x_non, all_y_non, marker='x',cmap=plt.get_cmap('Spectral'), label=\"non contradictions\")\n",
    "\n",
    "ax.legend()\n",
    "plt.title(\"2d representation of different sentences (after training)\".format(),\n",
    "          fontsize=14,\n",
    "          fontweight='bold')\n",
    "plt.show()\n",
    "\n",
    "_, pred, labels = model.evaluate_bach(test_bach)\n",
    "\n",
    "plot_confusion_matrix(truth=labels.numpy(),\n",
    "                      predictions=pred.numpy(),\n",
    "                      save=False,\n",
    "                      path=\"gru_confusion_matrix_b1_v1.png\",\n",
    "                      classes=labels_legend)\n",
    "\n"
   ]
  },
  {
   "cell_type": "markdown",
   "metadata": {},
   "source": [
    "## Negative model"
   ]
  },
  {
   "cell_type": "code",
   "execution_count": null,
   "metadata": {},
   "outputs": [],
   "source": [
    "model = GRU(config)\n",
    "\n",
    "model.load_state_dict(torch.load('gru_v1_neg.pkl'))\n",
    "\n",
    "states_contra, resets_contra, updates_contra, news_contra, _ = get_hidden_GRU(bunch_test_sentences_contra,\n",
    "                                                                              model)\n",
    "states_non_contra, resets_non_contra, updates_non_contra, news_non_contra, _ = get_hidden_GRU(bunch_test_sentences_non_contra,\n",
    "                                                                                              model)\n",
    "\n",
    "bunch_hiddend_states_contra2d = []\n",
    "for state in states_contra:\n",
    "    bunch_hiddend_states_contra2d.append(projector.fit_transform(state))\n",
    "\n",
    "bunch_hiddend_states_contra2d = np.array(bunch_hiddend_states_contra2d)\n",
    "\n",
    "\n",
    "bunch_hiddend_states_non_contra2d = []\n",
    "for state in states_non_contra:\n",
    "    bunch_hiddend_states_non_contra2d.append(projector.fit_transform(state))\n",
    "\n",
    "bunch_hiddend_states_non_contra2d = np.array(bunch_hiddend_states_non_contra2d)\n",
    "\n",
    "all_x_contra = bunch_hiddend_states_contra2d[:,-1,0].flatten()\n",
    "all_y_contra = bunch_hiddend_states_contra2d[:,-1,1].flatten()\n",
    "\n",
    "all_x_non = bunch_hiddend_states_non_contra2d[:,-1,0].flatten()\n",
    "all_y_non = bunch_hiddend_states_non_contra2d[:,-1,1].flatten()\n",
    "\n",
    "fig, ax = plt.subplots(figsize=(10, 10))\n",
    "\n",
    "ax.scatter(all_x_contra, all_y_contra, marker='o',cmap=plt.get_cmap('Spectral'), label=\"contradictions\")\n",
    "ax.scatter(all_x_non, all_y_non, marker='x',cmap=plt.get_cmap('Spectral'), label=\"non contradictions\")\n",
    "\n",
    "ax.legend()\n",
    "plt.title(\"2d representation of different sentences (negative model)\".format(),\n",
    "          fontsize=14,\n",
    "          fontweight='bold')\n",
    "plt.show()\n",
    "\n",
    "_, pred, labels = model.evaluate_bach(test_bach)\n",
    "\n",
    "plot_confusion_matrix(truth=labels.numpy(),\n",
    "                      predictions=pred.numpy(),\n",
    "                      save=False,\n",
    "                      path=\"gru_confusion_matrix_b1_v1.png\",\n",
    "                      classes=labels_legend)\n",
    "\n",
    "\n"
   ]
  }
 ],
 "metadata": {
  "kernelspec": {
   "display_name": "Python 3",
   "language": "python",
   "name": "python3"
  },
  "language_info": {
   "codemirror_mode": {
    "name": "ipython",
    "version": 3
   },
   "file_extension": ".py",
   "mimetype": "text/x-python",
   "name": "python",
   "nbconvert_exporter": "python",
   "pygments_lexer": "ipython3",
   "version": "3.5.2"
  }
 },
 "nbformat": 4,
 "nbformat_minor": 2
}
