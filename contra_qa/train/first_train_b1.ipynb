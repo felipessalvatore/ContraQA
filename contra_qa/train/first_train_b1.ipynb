{
 "cells": [
  {
   "cell_type": "markdown",
   "metadata": {},
   "source": [
    "# First training using the simple negation data"
   ]
  },
  {
   "cell_type": "code",
   "execution_count": 1,
   "metadata": {},
   "outputs": [],
   "source": [
    "# all imports\n",
    "import numpy as np\n",
    "import pandas as pd\n",
    "import torch\n",
    "from torchtext import data\n",
    "import torch.optim as optim\n",
    "\n",
    "import os\n",
    "import inspect\n",
    "import sys\n",
    "import itertools\n",
    "\n",
    "almost_current = os.path.abspath(inspect.getfile(inspect.currentframe()))\n",
    "currentdir = os.path.dirname(almost_current)\n",
    "parentdir = os.path.dirname(currentdir)\n",
    "sys.path.insert(0, parentdir)\n",
    "\n",
    "from plots.functions  import plot_confusion_matrix, plot_histogram_from_labels\n",
    "from text_processing.functions import simple_pre_process_text_df, simple_pre_process_text\n",
    "\n",
    "% matplotlib inline"
   ]
  },
  {
   "cell_type": "code",
   "execution_count": 2,
   "metadata": {},
   "outputs": [],
   "source": [
    "train_data_path = os.path.join(parentdir,\n",
    "                               \"text_generator\",\n",
    "                                \"b1_train.csv\")\n",
    "\n",
    "test_data_path = os.path.join(parentdir,\n",
    "                              \"text_generator\",\n",
    "                              \"b1_test.csv\")"
   ]
  },
  {
   "cell_type": "code",
   "execution_count": 3,
   "metadata": {},
   "outputs": [],
   "source": [
    "train_data = pd.read_csv(train_data_path)\n",
    "test_data = pd.read_csv(test_data_path)"
   ]
  },
  {
   "cell_type": "code",
   "execution_count": 4,
   "metadata": {},
   "outputs": [
    {
     "data": {
      "text/html": [
       "<div>\n",
       "<style scoped>\n",
       "    .dataframe tbody tr th:only-of-type {\n",
       "        vertical-align: middle;\n",
       "    }\n",
       "\n",
       "    .dataframe tbody tr th {\n",
       "        vertical-align: top;\n",
       "    }\n",
       "\n",
       "    .dataframe thead th {\n",
       "        text-align: right;\n",
       "    }\n",
       "</style>\n",
       "<table border=\"1\" class=\"dataframe\">\n",
       "  <thead>\n",
       "    <tr style=\"text-align: right;\">\n",
       "      <th></th>\n",
       "      <th>sentence1</th>\n",
       "      <th>sentence2</th>\n",
       "      <th>label</th>\n",
       "    </tr>\n",
       "  </thead>\n",
       "  <tbody>\n",
       "    <tr>\n",
       "      <th>0</th>\n",
       "      <td>Winston is lively</td>\n",
       "      <td>Brooklyn is not nice</td>\n",
       "      <td>0</td>\n",
       "    </tr>\n",
       "    <tr>\n",
       "      <th>1</th>\n",
       "      <td>Reynold is witty</td>\n",
       "      <td>Quanda is not thankful</td>\n",
       "      <td>0</td>\n",
       "    </tr>\n",
       "    <tr>\n",
       "      <th>2</th>\n",
       "      <td>Hazel is brave</td>\n",
       "      <td>Charity is not witty</td>\n",
       "      <td>0</td>\n",
       "    </tr>\n",
       "    <tr>\n",
       "      <th>3</th>\n",
       "      <td>Sutcliff is silly</td>\n",
       "      <td>Lyle is not ambitious</td>\n",
       "      <td>0</td>\n",
       "    </tr>\n",
       "    <tr>\n",
       "      <th>4</th>\n",
       "      <td>Banner is ambitious</td>\n",
       "      <td>Banner is not ambitious</td>\n",
       "      <td>1</td>\n",
       "    </tr>\n",
       "  </tbody>\n",
       "</table>\n",
       "</div>"
      ],
      "text/plain": [
       "             sentence1                sentence2  label\n",
       "0    Winston is lively     Brooklyn is not nice      0\n",
       "1     Reynold is witty   Quanda is not thankful      0\n",
       "2       Hazel is brave     Charity is not witty      0\n",
       "3    Sutcliff is silly    Lyle is not ambitious      0\n",
       "4  Banner is ambitious  Banner is not ambitious      1"
      ]
     },
     "execution_count": 4,
     "metadata": {},
     "output_type": "execute_result"
    }
   ],
   "source": [
    "train_data.head()"
   ]
  },
  {
   "cell_type": "code",
   "execution_count": 5,
   "metadata": {},
   "outputs": [
    {
     "data": {
      "text/html": [
       "<div>\n",
       "<style scoped>\n",
       "    .dataframe tbody tr th:only-of-type {\n",
       "        vertical-align: middle;\n",
       "    }\n",
       "\n",
       "    .dataframe tbody tr th {\n",
       "        vertical-align: top;\n",
       "    }\n",
       "\n",
       "    .dataframe thead th {\n",
       "        text-align: right;\n",
       "    }\n",
       "</style>\n",
       "<table border=\"1\" class=\"dataframe\">\n",
       "  <thead>\n",
       "    <tr style=\"text-align: right;\">\n",
       "      <th></th>\n",
       "      <th>sentence1</th>\n",
       "      <th>sentence2</th>\n",
       "      <th>label</th>\n",
       "    </tr>\n",
       "  </thead>\n",
       "  <tbody>\n",
       "    <tr>\n",
       "      <th>0</th>\n",
       "      <td>Radella is jolly</td>\n",
       "      <td>Radella is not jolly</td>\n",
       "      <td>1</td>\n",
       "    </tr>\n",
       "    <tr>\n",
       "      <th>1</th>\n",
       "      <td>Harris is proud</td>\n",
       "      <td>Westcott is not ambitious</td>\n",
       "      <td>0</td>\n",
       "    </tr>\n",
       "    <tr>\n",
       "      <th>2</th>\n",
       "      <td>Ellery is obedient</td>\n",
       "      <td>Josie is not delightful</td>\n",
       "      <td>0</td>\n",
       "    </tr>\n",
       "    <tr>\n",
       "      <th>3</th>\n",
       "      <td>Win is brave</td>\n",
       "      <td>Esmond is not eager</td>\n",
       "      <td>0</td>\n",
       "    </tr>\n",
       "    <tr>\n",
       "      <th>4</th>\n",
       "      <td>Everly is eager</td>\n",
       "      <td>Osborn is not happy</td>\n",
       "      <td>0</td>\n",
       "    </tr>\n",
       "  </tbody>\n",
       "</table>\n",
       "</div>"
      ],
      "text/plain": [
       "            sentence1                  sentence2  label\n",
       "0    Radella is jolly       Radella is not jolly      1\n",
       "1     Harris is proud  Westcott is not ambitious      0\n",
       "2  Ellery is obedient    Josie is not delightful      0\n",
       "3        Win is brave        Esmond is not eager      0\n",
       "4     Everly is eager        Osborn is not happy      0"
      ]
     },
     "execution_count": 5,
     "metadata": {},
     "output_type": "execute_result"
    }
   ],
   "source": [
    "test_data.head()"
   ]
  },
  {
   "cell_type": "markdown",
   "metadata": {},
   "source": [
    "## Putting the sentences together"
   ]
  },
  {
   "cell_type": "code",
   "execution_count": 6,
   "metadata": {},
   "outputs": [],
   "source": [
    "train_data[\"text\"] = train_data[\"sentence1\"]  + \", \" + train_data[\"sentence2\"]\n",
    "test_data[\"text\"] = test_data[\"sentence1\"]  + \", \" + test_data[\"sentence2\"]\n",
    "train_data.drop([\"sentence1\", \"sentence2\"], axis=1, inplace=True)\n",
    "test_data.drop([\"sentence1\", \"sentence2\"], axis=1, inplace=True)\n",
    "train_data = train_data[[\"text\", \"label\"]]\n",
    "test_data = test_data[[\"text\", \"label\"]] "
   ]
  },
  {
   "cell_type": "code",
   "execution_count": 7,
   "metadata": {},
   "outputs": [
    {
     "data": {
      "text/html": [
       "<div>\n",
       "<style scoped>\n",
       "    .dataframe tbody tr th:only-of-type {\n",
       "        vertical-align: middle;\n",
       "    }\n",
       "\n",
       "    .dataframe tbody tr th {\n",
       "        vertical-align: top;\n",
       "    }\n",
       "\n",
       "    .dataframe thead th {\n",
       "        text-align: right;\n",
       "    }\n",
       "</style>\n",
       "<table border=\"1\" class=\"dataframe\">\n",
       "  <thead>\n",
       "    <tr style=\"text-align: right;\">\n",
       "      <th></th>\n",
       "      <th>text</th>\n",
       "      <th>label</th>\n",
       "    </tr>\n",
       "  </thead>\n",
       "  <tbody>\n",
       "    <tr>\n",
       "      <th>0</th>\n",
       "      <td>Winston is lively, Brooklyn is not nice</td>\n",
       "      <td>0</td>\n",
       "    </tr>\n",
       "    <tr>\n",
       "      <th>1</th>\n",
       "      <td>Reynold is witty, Quanda is not thankful</td>\n",
       "      <td>0</td>\n",
       "    </tr>\n",
       "    <tr>\n",
       "      <th>2</th>\n",
       "      <td>Hazel is brave, Charity is not witty</td>\n",
       "      <td>0</td>\n",
       "    </tr>\n",
       "    <tr>\n",
       "      <th>3</th>\n",
       "      <td>Sutcliff is silly, Lyle is not ambitious</td>\n",
       "      <td>0</td>\n",
       "    </tr>\n",
       "    <tr>\n",
       "      <th>4</th>\n",
       "      <td>Banner is ambitious, Banner is not ambitious</td>\n",
       "      <td>1</td>\n",
       "    </tr>\n",
       "  </tbody>\n",
       "</table>\n",
       "</div>"
      ],
      "text/plain": [
       "                                           text  label\n",
       "0       Winston is lively, Brooklyn is not nice      0\n",
       "1      Reynold is witty, Quanda is not thankful      0\n",
       "2          Hazel is brave, Charity is not witty      0\n",
       "3      Sutcliff is silly, Lyle is not ambitious      0\n",
       "4  Banner is ambitious, Banner is not ambitious      1"
      ]
     },
     "execution_count": 7,
     "metadata": {},
     "output_type": "execute_result"
    }
   ],
   "source": [
    "train_data.head()"
   ]
  },
  {
   "cell_type": "code",
   "execution_count": 8,
   "metadata": {},
   "outputs": [
    {
     "data": {
      "text/html": [
       "<div>\n",
       "<style scoped>\n",
       "    .dataframe tbody tr th:only-of-type {\n",
       "        vertical-align: middle;\n",
       "    }\n",
       "\n",
       "    .dataframe tbody tr th {\n",
       "        vertical-align: top;\n",
       "    }\n",
       "\n",
       "    .dataframe thead th {\n",
       "        text-align: right;\n",
       "    }\n",
       "</style>\n",
       "<table border=\"1\" class=\"dataframe\">\n",
       "  <thead>\n",
       "    <tr style=\"text-align: right;\">\n",
       "      <th></th>\n",
       "      <th>text</th>\n",
       "      <th>label</th>\n",
       "    </tr>\n",
       "  </thead>\n",
       "  <tbody>\n",
       "    <tr>\n",
       "      <th>0</th>\n",
       "      <td>Radella is jolly, Radella is not jolly</td>\n",
       "      <td>1</td>\n",
       "    </tr>\n",
       "    <tr>\n",
       "      <th>1</th>\n",
       "      <td>Harris is proud, Westcott is not ambitious</td>\n",
       "      <td>0</td>\n",
       "    </tr>\n",
       "    <tr>\n",
       "      <th>2</th>\n",
       "      <td>Ellery is obedient, Josie is not delightful</td>\n",
       "      <td>0</td>\n",
       "    </tr>\n",
       "    <tr>\n",
       "      <th>3</th>\n",
       "      <td>Win is brave, Esmond is not eager</td>\n",
       "      <td>0</td>\n",
       "    </tr>\n",
       "    <tr>\n",
       "      <th>4</th>\n",
       "      <td>Everly is eager, Osborn is not happy</td>\n",
       "      <td>0</td>\n",
       "    </tr>\n",
       "  </tbody>\n",
       "</table>\n",
       "</div>"
      ],
      "text/plain": [
       "                                          text  label\n",
       "0       Radella is jolly, Radella is not jolly      1\n",
       "1   Harris is proud, Westcott is not ambitious      0\n",
       "2  Ellery is obedient, Josie is not delightful      0\n",
       "3            Win is brave, Esmond is not eager      0\n",
       "4         Everly is eager, Osborn is not happy      0"
      ]
     },
     "execution_count": 8,
     "metadata": {},
     "output_type": "execute_result"
    }
   ],
   "source": [
    "test_data.head()"
   ]
  },
  {
   "cell_type": "code",
   "execution_count": 9,
   "metadata": {},
   "outputs": [],
   "source": [
    "labels_legend = ['no', 'yes']\n",
    "anwser2int = {'no':0, 'yes':1}\n",
    "int2anwser = {i[1]: i[0] for i in anwser2int.items()}\n",
    "train_labels = [int2anwser[i] for i in train_data[\"label\"].values]\n",
    "test_labels = [int2anwser[i] for i in train_data[\"label\"].values]"
   ]
  },
  {
   "cell_type": "code",
   "execution_count": 10,
   "metadata": {},
   "outputs": [
    {
     "data": {
      "image/png": "[encoded data removed]",
      "text/plain": [
       "<Figure size 432x288 with 1 Axes>"
      ]
     },
     "metadata": {},
     "output_type": "display_data"
    }
   ],
   "source": [
    "plot_histogram_from_labels(train_labels, labels_legend, \"train data\")"
   ]
  },
  {
   "cell_type": "code",
   "execution_count": 11,
   "metadata": {},
   "outputs": [
    {
     "data": {
      "image/png": "[encoded data removed]",
      "text/plain": [
       "<Figure size 432x288 with 1 Axes>"
      ]
     },
     "metadata": {},
     "output_type": "display_data"
    }
   ],
   "source": [
    "plot_histogram_from_labels(test_labels, labels_legend, \"train data\")"
   ]
  },
  {
   "cell_type": "markdown",
   "metadata": {},
   "source": [
    "### Applying preprocessing function"
   ]
  },
  {
   "cell_type": "code",
   "execution_count": 12,
   "metadata": {},
   "outputs": [
    {
     "name": "stdout",
     "output_type": "stream",
     "text": [
      "\n",
      "AFTER using the function simple_pre_process_text_df \n",
      "\n",
      "hazel is brave charity is not witty\n",
      "\n",
      "sutcliff is silly lyle is not ambitious\n",
      "\n",
      "banner is ambitious banner is not ambitious\n"
     ]
    }
   ],
   "source": [
    "print(\"\\nAFTER using the function simple_pre_process_text_df \\n\")\n",
    "simple_pre_process_text_df(train_data)\n",
    "simple_pre_process_text_df(test_data)\n",
    "print(train_data[\"text\"].values[2])\n",
    "print()\n",
    "print(train_data[\"text\"].values[3])\n",
    "print()\n",
    "print(train_data[\"text\"].values[4])"
   ]
  },
  {
   "cell_type": "markdown",
   "metadata": {},
   "source": [
    "## Saving the new version of the data in a csv"
   ]
  },
  {
   "cell_type": "code",
   "execution_count": 13,
   "metadata": {},
   "outputs": [],
   "source": [
    "train_data_path = os.path.join(parentdir,\n",
    "                               \"text_generator\",\n",
    "                                \"b1_train_processed.csv\")\n",
    "\n",
    "test_data_path = os.path.join(parentdir,\n",
    "                              \"text_generator\",\n",
    "                              \"b1_test_processed.csv\")\n",
    "\n",
    "\n",
    "train_data.to_csv(train_data_path, header=False, index=False)\n",
    "test_data.to_csv(test_data_path, header=False, index=False)"
   ]
  },
  {
   "cell_type": "markdown",
   "metadata": {},
   "source": [
    "### Starting with torch"
   ]
  },
  {
   "cell_type": "markdown",
   "metadata": {},
   "source": [
    "We use the`data.Field` to hold all the text data:\n",
    "\n",
    "> Field class models common text processing datatypes that can be represented\n",
    "by tensors.  It holds a Vocab object that defines the set of possible values\n",
    "for elements of the field and their corresponding numerical representations.\n",
    "The Field object also holds other parameters relating to how a datatype\n",
    "should be numericalized, such as a tokenization method and the kind of\n",
    "Tensor that should be produced.\n",
    "\n",
    "and the class `data.LabelField` to hold the labels:\n",
    "\n",
    "> A label field is a shallow wrapper around a standard field designed to hold labels\n",
    "for a classification task. Its only use is to set the unk_token and sequential to `None` by default."
   ]
  },
  {
   "cell_type": "code",
   "execution_count": 14,
   "metadata": {},
   "outputs": [],
   "source": [
    "TEXT = data.Field(tokenize='spacy')\n",
    "LABEL = data.LabelField(tensor_type=torch.FloatTensor)"
   ]
  },
  {
   "cell_type": "markdown",
   "metadata": {},
   "source": [
    "And so we can create a dataset by using the class `data.TabularDataset` and the data in the `csv` format"
   ]
  },
  {
   "cell_type": "code",
   "execution_count": 15,
   "metadata": {},
   "outputs": [],
   "source": [
    "train = data.TabularDataset(path=train_data_path,\n",
    "                            format=\"csv\",\n",
    "                            fields=[('text', TEXT), ('label', LABEL)])\n",
    "\n",
    "test = data.TabularDataset(path=test_data_path,\n",
    "                            format=\"csv\",\n",
    "                            fields=[('text', TEXT), ('label', LABEL)])"
   ]
  },
  {
   "cell_type": "markdown",
   "metadata": {},
   "source": [
    "Creating the train-valid split (80$\\%$ for training data and 20$\\%$ for validation data)"
   ]
  },
  {
   "cell_type": "code",
   "execution_count": 16,
   "metadata": {},
   "outputs": [],
   "source": [
    "train, valid = train.split(0.8)"
   ]
  },
  {
   "cell_type": "code",
   "execution_count": 17,
   "metadata": {},
   "outputs": [
    {
     "name": "stdout",
     "output_type": "stream",
     "text": [
      "len(train): 8000\n",
      "len(valid): 2000\n",
      "len(test): 1000\n"
     ]
    }
   ],
   "source": [
    "print('len(train):', len(train))\n",
    "print('len(valid):', len(valid))\n",
    "print('len(test):', len(test))"
   ]
  },
  {
   "cell_type": "markdown",
   "metadata": {},
   "source": [
    "Constructing the Vocabulary, using at maximun 25000 words"
   ]
  },
  {
   "cell_type": "code",
   "execution_count": 18,
   "metadata": {},
   "outputs": [],
   "source": [
    "TEXT.build_vocab(train, max_size=25000)\n",
    "LABEL.build_vocab(train)"
   ]
  },
  {
   "cell_type": "code",
   "execution_count": 19,
   "metadata": {},
   "outputs": [
    {
     "name": "stdout",
     "output_type": "stream",
     "text": [
      "len(TEXT.vocab): 1334\n",
      "len(LABEL.vocab): 2\n"
     ]
    }
   ],
   "source": [
    "print('len(TEXT.vocab):', len(TEXT.vocab))\n",
    "print('len(LABEL.vocab):', len(LABEL.vocab))"
   ]
  },
  {
   "cell_type": "markdown",
   "metadata": {},
   "source": [
    "Printing the 20 most frequent words"
   ]
  },
  {
   "cell_type": "code",
   "execution_count": 20,
   "metadata": {},
   "outputs": [
    {
     "name": "stdout",
     "output_type": "stream",
     "text": [
      "[('is', 16000), ('not', 8000), ('victorious', 769), ('gentle', 749), ('brave', 738), ('thankful', 736), ('ambitious', 730), ('polite', 718), ('calm', 717), ('obedient', 715), ('delightful', 706), ('lively', 705), ('eager', 701), ('nice', 691), ('kind', 679), ('agreeable', 676), ('zealous', 676), ('proud', 673), ('jolly', 672), ('wonderful', 671)]\n"
     ]
    }
   ],
   "source": [
    "print(TEXT.vocab.freqs.most_common(20))"
   ]
  },
  {
   "cell_type": "markdown",
   "metadata": {},
   "source": [
    "- `.itos` is the `int2str` method from the object `TEXT.vocab` \n",
    "- `.stoi` is the `str2int` method from the object `TEXT.vocab` "
   ]
  },
  {
   "cell_type": "code",
   "execution_count": 21,
   "metadata": {},
   "outputs": [
    {
     "name": "stdout",
     "output_type": "stream",
     "text": [
      "TEXT.vocab.itos\n",
      "word index\n",
      "<unk> 0\n",
      "<pad> 1\n",
      "is 2\n",
      "not 3\n",
      "victorious 4\n",
      "gentle 5\n",
      "brave 6\n",
      "thankful 7\n",
      "ambitious 8\n",
      "polite 9\n",
      "\n",
      "TEXT.vocab.stoi\n",
      "word index\n",
      "i 0\n",
      "love 1082\n",
      "trump 0\n"
     ]
    }
   ],
   "source": [
    "print(\"TEXT.vocab.itos\")\n",
    "print(\"word\", \"index\")\n",
    "\n",
    "for i, word in enumerate(TEXT.vocab.itos[:10]):\n",
    "    print(word, i)\n",
    "\n",
    "\n",
    "print()\n",
    "print(\"TEXT.vocab.stoi\")\n",
    "print(\"word\", \"index\")\n",
    "for word in \"i love trump\".split():\n",
    "    print(word, TEXT.vocab.stoi[word])"
   ]
  },
  {
   "cell_type": "code",
   "execution_count": 22,
   "metadata": {},
   "outputs": [],
   "source": [
    "class RNNConfig(object):\n",
    "    \"\"\"\n",
    "    Holds logistic regression model hyperparams.\n",
    "    \n",
    "    :param height: image height\n",
    "    :type heights: int\n",
    "    :param width: image width\n",
    "    :type width: int\n",
    "    :param channels: image channels\n",
    "    :type channels: int\n",
    "    :param batch_size: batch size for training\n",
    "    :type batch_size: int\n",
    "    :param epochs: number of epochs\n",
    "    :type epochs: int\n",
    "    :param save_step: when step % save_step == 0, the model\n",
    "                      parameters are saved.\n",
    "    :type save_step: int\n",
    "    :param learning_rate: learning rate for the optimizer\n",
    "    :type learning_rate: float\n",
    "    :param momentum: momentum param\n",
    "    :type momentum: float\n",
    "    \"\"\"\n",
    "    def __init__(self,\n",
    "                 vocab_size=25000,\n",
    "                 batch_size=32,\n",
    "                 embedding_dim=100,\n",
    "                 rnn_dim=100,\n",
    "                 output_dim=2,\n",
    "                 epochs=10,\n",
    "                 learning_rate=0.05,\n",
    "                 momentum=0.1):\n",
    "        self.vocab_size = vocab_size\n",
    "        self.batch_size = batch_size\n",
    "        self.embedding_dim = embedding_dim\n",
    "        self.rnn_dim = rnn_dim\n",
    "        self.output_dim = output_dim\n",
    "        self.epochs = epochs\n",
    "        self.learning_rate = learning_rate\n",
    "        self.momentum = momentum\n",
    "        \n",
    "\n",
    "    def __str__(self):\n",
    "        \"\"\"\n",
    "        Get all attributs values.\n",
    "        :return: all hyperparams as a string\n",
    "        :rtype: str\n",
    "        \"\"\"\n",
    "        status = \"vocab_size = {}\\n\".format(self.vocab_size)\n",
    "        status += \"batch_size = {}\\n\".format(self.batch_size)\n",
    "        status += \"embedding_dim = {}\\n\".format(self.embedding_dim)\n",
    "        status += \"rnn_dim = {}\\n\".format(self.rnn_dim)\n",
    "        status += \"output_dim = {}\\n\".format(self.output_dim)\n",
    "        status += \"epochs = {}\\n\".format(self.epochs)\n",
    "        status += \"learning_rate = {}\\n\".format(self.learning_rate)\n",
    "        status += \"momentum = {}\\n\".format(self.momentum)\n",
    "        return status"
   ]
  },
  {
   "cell_type": "markdown",
   "metadata": {},
   "source": [
    "Hyperparams"
   ]
  },
  {
   "cell_type": "code",
   "execution_count": 23,
   "metadata": {},
   "outputs": [
    {
     "name": "stdout",
     "output_type": "stream",
     "text": [
      "vocab_size = 1334\n",
      "batch_size = 32\n",
      "embedding_dim = 100\n",
      "rnn_dim = 100\n",
      "output_dim = 2\n",
      "epochs = 10\n",
      "learning_rate = 0.05\n",
      "momentum = 0.1\n",
      "\n"
     ]
    }
   ],
   "source": [
    "config = RNNConfig(vocab_size=len(TEXT.vocab),\n",
    "                   output_dim=len(LABEL.vocab))\n",
    "print(config)"
   ]
  },
  {
   "cell_type": "markdown",
   "metadata": {},
   "source": [
    "To define an iterator that batches examples of similar lengths together we use the class `data.BucketIterator`. \n"
   ]
  },
  {
   "cell_type": "code",
   "execution_count": 24,
   "metadata": {},
   "outputs": [],
   "source": [
    "class DataHolder():\n",
    "    \"\"\"\n",
    "    Class to store all data using the data.BucketIterator class.\n",
    "\n",
    "    \"\"\"\n",
    "    def __init__(self,\n",
    "                 config,\n",
    "                 train,\n",
    "                 valid,\n",
    "                 test):        \n",
    "        self.train_iter = data.BucketIterator(train, batch_size=config.batch_size, repeat=False)\n",
    "        self.valid_iter = data.BucketIterator(valid, batch_size=config.batch_size, repeat=False)\n",
    "        self.test_iter = data.BucketIterator(test, batch_size=len(test), repeat=False)\n",
    "        \n",
    "        \n",
    "b1data = DataHolder(config, train, valid, test) "
   ]
  },
  {
   "cell_type": "markdown",
   "metadata": {},
   "source": [
    "We can see some batch examples, here we should remember that the batch shape is `[sent len, batch size]`"
   ]
  },
  {
   "cell_type": "code",
   "execution_count": 25,
   "metadata": {},
   "outputs": [
    {
     "name": "stdout",
     "output_type": "stream",
     "text": [
      "batch.text.shape = torch.Size([7, 32])\n",
      "batch.text.type = torch.LongTensor\n",
      "\n",
      "batch.label.shape = torch.Size([32])\n",
      "batch.label.type = torch.FloatTensor\n",
      "\n",
      "\n",
      "['lyman', 'is', 'victorious', 'kenley', 'is', 'not', 'proud'] \n",
      "['quince', 'is', 'wonderful', 'araminta', 'is', 'not', 'jolly'] \n",
      "['haylee', 'is', 'jolly', 'haylee', 'is', 'not', 'jolly'] \n",
      "['fisk', 'is', 'calm', 'billy', 'is', 'not', 'wonderful'] \n",
      "['christian', 'is', 'ambitious', 'christian', 'is', 'not', 'ambitious'] \n",
      "['tamsin', 'is', 'proud', 'tamsin', 'is', 'not', 'proud'] \n",
      "['ludlow', 'is', 'kind', 'wren', 'is', 'not', 'wonderful'] \n",
      "['bradbury', 'is', 'lively', 'oberon', 'is', 'not', 'victorious'] \n",
      "['ivory', 'is', 'calm', 'ivory', 'is', 'not', 'calm'] \n",
      "['miles', 'is', 'brave', 'jean', 'is', 'not', 'happy'] \n",
      "['ivy', 'is', 'aggressive', 'ivy', 'is', 'not', 'aggressive'] \n",
      "['nick', 'is', 'lively', 'nick', 'is', 'not', 'lively'] \n",
      "['kendall', 'is', 'polite', 'kendall', 'is', 'not', 'polite'] \n",
      "['avery', 'is', 'zealous', 'avery', 'is', 'not', 'zealous'] \n",
      "['azalea', 'is', 'polite', 'draper', 'is', 'not', 'agreeable'] \n",
      "['locke', 'is', 'zealous', 'cru', 'is', 'not', 'silly'] \n",
      "['royston', 'is', 'lively', 'plummer', 'is', 'not', 'proud'] \n",
      "['saige', 'is', 'ambitious', 'saige', 'is', 'not', 'ambitious'] \n",
      "['wayland', 'is', 'polite', 'northrop', 'is', 'not', 'jolly'] \n",
      "['ripley', 'is', 'zealous', 'ralph', 'is', 'not', 'happy'] \n",
      "['dancer', 'is', 'proud', 'dancer', 'is', 'not', 'proud'] \n",
      "['kelton', 'is', 'brave', 'kelton', 'is', 'not', 'brave'] \n",
      "['marlow', 'is', 'kind', 'hayward', 'is', 'not', 'happy'] \n",
      "['cru', 'is', 'proud', 'burleigh', 'is', 'not', 'silly'] \n",
      "['madisyn', 'is', 'gentle', 'madisyn', 'is', 'not', 'gentle'] \n",
      "['vinnie', 'is', 'jolly', 'vinnie', 'is', 'not', 'jolly'] \n",
      "['emmett', 'is', 'wonderful', 'emmett', 'is', 'not', 'wonderful'] \n",
      "['sal', 'is', 'kind', 'hancock', 'is', 'not', 'obedient'] \n",
      "['portland', 'is', 'kind', 'portland', 'is', 'not', 'kind'] \n",
      "['hayden', 'is', 'wonderful', 'hayden', 'is', 'not', 'wonderful'] \n",
      "['durham', 'is', 'brave', 'palin', 'is', 'not', 'lively'] \n",
      "['perry', 'is', 'delightful', 'perry', 'is', 'not', 'delightful'] "
     ]
    }
   ],
   "source": [
    "batch = next(iter(b1data.train_iter))\n",
    "print(\"batch.text.shape = {}\".format(batch.text.shape))\n",
    "print(\"batch.text.type = {}\\n\".format(batch.text.type()))\n",
    "\n",
    "print(\"batch.label.shape = {}\".format(batch.label.shape))\n",
    "print(\"batch.label.type = {}\\n\".format(batch.label.type()))\n",
    "batch_t = batch.text.transpose(0, 1)\n",
    "for example in batch_t:\n",
    "    print()\n",
    "    print([TEXT.vocab.itos[i] for i in example], end=\" \")"
   ]
  },
  {
   "cell_type": "markdown",
   "metadata": {},
   "source": [
    "Here we will define the RNN model using the `nn.module` class."
   ]
  },
  {
   "cell_type": "code",
   "execution_count": 26,
   "metadata": {},
   "outputs": [],
   "source": [
    "import torch.nn as nn\n",
    "\n",
    "class RNN(nn.Module):\n",
    "    def __init__(self, config):\n",
    "        super().__init__()\n",
    "\n",
    "        self.embedding = nn.Embedding(config.vocab_size, config.embedding_dim)\n",
    "        self.rnn = nn.RNN(config.embedding_dim, config.rnn_dim)\n",
    "        self.fc = nn.Linear(config.rnn_dim, config.output_dim)\n",
    "        \n",
    "    def forward(self, x):\n",
    "\n",
    "        #x = [sent len, batch size]\n",
    "        \n",
    "        embedded = self.embedding(x)\n",
    "        \n",
    "        #embedded = [sent len, batch size, emb dim]\n",
    "        \n",
    "        output, hidden = self.rnn(embedded)\n",
    "        \n",
    "        #output = [sent len, batch size, hid dim]\n",
    "        #hidden = [1, batch size, hid dim]\n",
    "        return self.fc(hidden.squeeze(0))\n",
    "\n",
    "    def predict(self, x):\n",
    "        out = self.forward(x)\n",
    "        softmax = nn.Softmax(dim=1)\n",
    "        out = softmax(out)\n",
    "        indices = torch.argmax(out, 1)\n",
    "        return indices\n",
    "\n",
    "    def evaluate_bach(self, batch):\n",
    "        prediction = model.predict(batch.text)\n",
    "        labels = batch.label.type('torch.LongTensor')\n",
    "        correct = torch.sum(torch.eq(prediction, labels)).float()\n",
    "        accuracy = float(correct/labels.shape[0])\n",
    "        return accuracy, prediction, labels\n",
    "        \n"
   ]
  },
  {
   "cell_type": "code",
   "execution_count": 27,
   "metadata": {},
   "outputs": [],
   "source": [
    "model = RNN(config)"
   ]
  },
  {
   "cell_type": "code",
   "execution_count": 28,
   "metadata": {},
   "outputs": [
    {
     "data": {
      "image/png": "[encoded data removed]",
      "text/plain": [
       "<Figure size 648x648 with 2 Axes>"
      ]
     },
     "metadata": {},
     "output_type": "display_data"
    }
   ],
   "source": [
    "test_bach = next(iter(b1data.test_iter))\n",
    "_, pred, labels = model.evaluate_bach(test_bach)\n",
    "\n",
    "plot_confusion_matrix(truth=labels.numpy(),\n",
    "                      predictions=pred.numpy(),\n",
    "                      save=False,\n",
    "                      path=\"rnn_confusion_matrix_b1.png\",\n",
    "                      classes=labels_legend)"
   ]
  },
  {
   "cell_type": "markdown",
   "metadata": {},
   "source": [
    "training function"
   ]
  },
  {
   "cell_type": "code",
   "execution_count": 29,
   "metadata": {},
   "outputs": [],
   "source": [
    "def train(model, iterator, optimizer, criterion):\n",
    "    \n",
    "    epoch_loss = 0\n",
    "    epoch_acc = 0\n",
    "    \n",
    "    model.train()\n",
    "    \n",
    "    for batch in iterator:\n",
    "        \n",
    "        optimizer.zero_grad()\n",
    "        \n",
    "        logits = model(batch.text)\n",
    "        label = batch.label.type(\"torch.LongTensor\")\n",
    "        loss = criterion(logits, label)\n",
    "        acc, _, _ = model.evaluate_bach(batch)\n",
    "        \n",
    "        loss.backward()\n",
    "        optimizer.step()\n",
    "        \n",
    "        epoch_loss += loss.item()\n",
    "        epoch_acc += acc\n",
    "\n",
    "    mean_loss = epoch_loss / len(iterator)\n",
    "    mean_acc = epoch_acc / len(iterator)\n",
    "        \n",
    "    return mean_loss, mean_acc\n",
    "\n",
    "\n",
    "def get_valid_loss(model, valid_iter, criterion):\n",
    "    batch = next(iter(valid_iter))\n",
    "    model.eval()\n",
    "    logits = model(batch.text)\n",
    "    label = batch.label.type(\"torch.LongTensor\")\n",
    "    loss = criterion(logits, label)\n",
    "    return loss\n",
    "\n",
    "def training_loop_text_classification(model, config, dataholder, model_path, verbose=True):\n",
    "    \"\"\"\n",
    "    Train a model for text classification\n",
    "\n",
    "    :param model: RNN classification model\n",
    "    :type model: \n",
    "    :param config: image classification model\n",
    "    :type config: LogisticRegression or DFN\n",
    "    :param dataholder: data\n",
    "    :type dataholder: DataHolder or DataHolderGentle\n",
    "    :param model_path: path to save model params\n",
    "    :type model_path: str\n",
    "    :param verbose: param to control print\n",
    "    :type verbose: bool\n",
    "    \"\"\"\n",
    "    optimizer = optim.SGD(model.parameters(),\n",
    "                          lr=config.learning_rate,\n",
    "                          momentum=config.momentum)\n",
    "    \n",
    "    criterion = nn.CrossEntropyLoss()\n",
    "    device = torch.device('cuda' if torch.cuda.is_available() else 'cpu')\n",
    "    model = model.to(device)\n",
    "    criterion = criterion.to(device)\n",
    "    train_iter = dataholder.train_iter\n",
    "    valid_iter = dataholder.valid_iter\n",
    "    \n",
    "    best_valid_loss = float(\"inf\")\n",
    "    \n",
    "    for epoch in range(config.epochs):\n",
    "        print(\"epoch = ({}/{})\".format(epoch + 1, config.epochs))\n",
    "        train_loss, train_acc = train(model, train_iter, optimizer, criterion)\n",
    "        valid_loss = get_valid_loss(model,valid_iter, criterion)\n",
    "        msg = \"\\ntrain_loss = {:.3f} | valid_loss = {:.3f}\".format(float(train_loss),float(valid_loss))\n",
    "        if float(valid_loss) < best_valid_loss:\n",
    "            torch.save(model.state_dict(), model_path)\n",
    "            best_valid_loss = float(valid_loss)\n",
    "        if verbose:\n",
    "            print(msg)\n",
    "            print(\"train_acc = {}\\n\".format(train_acc))    "
   ]
  },
  {
   "cell_type": "code",
   "execution_count": 30,
   "metadata": {},
   "outputs": [
    {
     "name": "stdout",
     "output_type": "stream",
     "text": [
      "epoch = (1/10)\n",
      "\n",
      "train_loss = 0.704 | valid_loss = 0.719\n",
      "train_acc = 0.491\n",
      "\n",
      "epoch = (2/10)\n",
      "\n",
      "train_loss = 0.699 | valid_loss = 0.720\n",
      "train_acc = 0.51475\n",
      "\n",
      "epoch = (3/10)\n",
      "\n",
      "train_loss = 0.697 | valid_loss = 0.700\n",
      "train_acc = 0.512125\n",
      "\n",
      "epoch = (4/10)\n",
      "\n",
      "train_loss = 0.690 | valid_loss = 0.671\n",
      "train_acc = 0.5375\n",
      "\n",
      "epoch = (5/10)\n",
      "\n",
      "train_loss = 0.561 | valid_loss = 0.378\n",
      "train_acc = 0.735\n",
      "\n",
      "epoch = (6/10)\n",
      "\n",
      "train_loss = 0.341 | valid_loss = 0.303\n",
      "train_acc = 0.878\n",
      "\n",
      "epoch = (7/10)\n",
      "\n",
      "train_loss = 0.212 | valid_loss = 0.172\n",
      "train_acc = 0.933875\n",
      "\n",
      "epoch = (8/10)\n",
      "\n",
      "train_loss = 0.144 | valid_loss = 0.285\n",
      "train_acc = 0.956875\n",
      "\n",
      "epoch = (9/10)\n",
      "\n",
      "train_loss = 0.098 | valid_loss = 0.175\n",
      "train_acc = 0.97275\n",
      "\n",
      "epoch = (10/10)\n",
      "\n",
      "train_loss = 0.063 | valid_loss = 0.083\n",
      "train_acc = 0.984625\n",
      "\n"
     ]
    }
   ],
   "source": [
    "training_loop_text_classification(model, config, b1data, \"rnn.pkl\")"
   ]
  },
  {
   "cell_type": "code",
   "execution_count": 31,
   "metadata": {},
   "outputs": [
    {
     "data": {
      "image/png": "[encoded data removed]",
      "text/plain": [
       "<Figure size 648x648 with 2 Axes>"
      ]
     },
     "metadata": {},
     "output_type": "display_data"
    }
   ],
   "source": [
    "model = RNN(config)\n",
    "model.load_state_dict(torch.load('rnn.pkl'))\n",
    "_, pred, labels = model.evaluate_bach(test_bach)\n",
    "\n",
    "plot_confusion_matrix(truth=labels.numpy(),\n",
    "                      predictions=pred.numpy(),\n",
    "                      save=False,\n",
    "                      path=\"rnn_confusion_matrix.png\",\n",
    "                      classes=labels_legend)"
   ]
  },
  {
   "cell_type": "code",
   "execution_count": 34,
   "metadata": {},
   "outputs": [],
   "source": [
    "t1 = \"Reynold is brave, Reynold is not brave\"\n",
    "t2 = \"Reynold is brave, Reynold is not hot\"\n",
    "t3 = \"Brooklyn is calm, Brooklyn is not calm\"\n",
    "t4 = \"Brooklyn is calm, Brooklyn is not brave\"\n",
    "t5 = \"Miles is gentle, Miles is not gentle\"\n",
    "t6 = \"Miles is brave, Miles is not gentle\"\n",
    "examples = [t1,t2,t3,t4,t5,t6]"
   ]
  },
  {
   "cell_type": "code",
   "execution_count": 35,
   "metadata": {},
   "outputs": [
    {
     "name": "stdout",
     "output_type": "stream",
     "text": [
      "\n",
      "Reynold is brave, Reynold is not brave\n",
      "1\n",
      "\n",
      "Reynold is brave, Reynold is not hot\n",
      "0\n",
      "\n",
      "Brooklyn is calm, Brooklyn is not calm\n",
      "1\n",
      "\n",
      "Brooklyn is calm, Brooklyn is not brave\n",
      "0\n",
      "\n",
      "Miles is gentle, Miles is not gentle\n",
      "1\n",
      "\n",
      "Miles is brave, Miles is not gentle\n",
      "0\n"
     ]
    }
   ],
   "source": [
    "for example in examples:\n",
    "    print()\n",
    "    print(example)\n",
    "    text = simple_pre_process_text(example)\n",
    "    text_as_int = [TEXT.vocab.stoi[word] for word in text.split(\" \")]\n",
    "    text_as_tensor = torch.Tensor(text_as_int).type('torch.LongTensor')\n",
    "    text_as_tensor = text_as_tensor.view((1, text_as_tensor.shape[0]))\n",
    "    text_as_tensor = text_as_tensor.t()  # putting in the format [sent len, batch size]\n",
    "    pred = int(model.predict(text_as_tensor))\n",
    "    print(LABEL.vocab.itos[pred])"
   ]
  },
  {
   "cell_type": "code",
   "execution_count": null,
   "metadata": {},
   "outputs": [],
   "source": []
  },
  {
   "cell_type": "code",
   "execution_count": null,
   "metadata": {},
   "outputs": [],
   "source": []
  }
 ],
 "metadata": {
  "kernelspec": {
   "display_name": "Python 3",
   "language": "python",
   "name": "python3"
  },
  "language_info": {
   "codemirror_mode": {
    "name": "ipython",
    "version": 3
   },
   "file_extension": ".py",
   "mimetype": "text/x-python",
   "name": "python",
   "nbconvert_exporter": "python",
   "pygments_lexer": "ipython3",
   "version": "3.5.2"
  }
 },
 "nbformat": 4,
 "nbformat_minor": 2
}
