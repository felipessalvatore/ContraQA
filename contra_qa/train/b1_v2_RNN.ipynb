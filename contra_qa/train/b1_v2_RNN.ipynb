{
 "cells": [
  {
   "cell_type": "markdown",
   "metadata": {},
   "source": [
    "# Training a RNN model using the basic negation data'\n",
    "\n",
    "\n",
    "## Here we will use the RNN model to distinguish between to kind of sentences:\n",
    "\n",
    "- A, not A (**contradiction**)\n",
    "\n",
    "- A, not B (**non contradiction**)\n"
   ]
  },
  {
   "cell_type": "code",
   "execution_count": 1,
   "metadata": {},
   "outputs": [],
   "source": [
    "# all imports\n",
    "import numpy as np\n",
    "import pandas as pd\n",
    "import torch\n",
    "from torchtext import data\n",
    "import torch.optim as optim\n",
    "from sklearn.decomposition import PCA\n",
    "from sklearn.manifold import TSNE, Isomap\n",
    "\n",
    "import os\n",
    "import inspect\n",
    "import sys\n",
    "import itertools\n",
    "\n",
    "almost_current = os.path.abspath(inspect.getfile(inspect.currentframe()))\n",
    "currentdir = os.path.dirname(almost_current)\n",
    "parentdir = os.path.dirname(currentdir)\n",
    "sys.path.insert(0, parentdir)\n",
    "\n",
    "from plots.functions  import plot_confusion_matrix, plot_histogram_from_labels\n",
    "from text_processing.functions import simple_pre_process_text_df, simple_pre_process_text\n",
    "\n",
    "import seaborn as sns\n",
    "import matplotlib.pyplot as plt\n",
    "% matplotlib inline"
   ]
  },
  {
   "cell_type": "code",
   "execution_count": 2,
   "metadata": {},
   "outputs": [],
   "source": [
    "train_data_path = os.path.join(parentdir,\n",
    "                               \"text_generator\",\n",
    "                                \"b1_v2_train.csv\")\n",
    "\n",
    "test_data_path = os.path.join(parentdir,\n",
    "                              \"text_generator\",\n",
    "                              \"b1_v2_test.csv\")\n",
    "\n",
    "train_data = pd.read_csv(train_data_path)\n",
    "test_data = pd.read_csv(test_data_path)"
   ]
  },
  {
   "cell_type": "code",
   "execution_count": 3,
   "metadata": {},
   "outputs": [
    {
     "data": {
      "text/html": [
       "<div>\n",
       "<style scoped>\n",
       "    .dataframe tbody tr th:only-of-type {\n",
       "        vertical-align: middle;\n",
       "    }\n",
       "\n",
       "    .dataframe tbody tr th {\n",
       "        vertical-align: top;\n",
       "    }\n",
       "\n",
       "    .dataframe thead th {\n",
       "        text-align: right;\n",
       "    }\n",
       "</style>\n",
       "<table border=\"1\" class=\"dataframe\">\n",
       "  <thead>\n",
       "    <tr style=\"text-align: right;\">\n",
       "      <th></th>\n",
       "      <th>sentence1</th>\n",
       "      <th>sentence2</th>\n",
       "      <th>label</th>\n",
       "    </tr>\n",
       "  </thead>\n",
       "  <tbody>\n",
       "    <tr>\n",
       "      <th>0</th>\n",
       "      <td>Welby is delightful</td>\n",
       "      <td>Welby is not unimportant</td>\n",
       "      <td>0</td>\n",
       "    </tr>\n",
       "    <tr>\n",
       "      <th>1</th>\n",
       "      <td>Sutton is kind</td>\n",
       "      <td>Noyce is clever</td>\n",
       "      <td>0</td>\n",
       "    </tr>\n",
       "    <tr>\n",
       "      <th>2</th>\n",
       "      <td>Rodney is polite</td>\n",
       "      <td>Rodney is vast</td>\n",
       "      <td>0</td>\n",
       "    </tr>\n",
       "    <tr>\n",
       "      <th>3</th>\n",
       "      <td>Edric is calm</td>\n",
       "      <td>Edric is poor</td>\n",
       "      <td>0</td>\n",
       "    </tr>\n",
       "    <tr>\n",
       "      <th>4</th>\n",
       "      <td>Harper is witty</td>\n",
       "      <td>Harper is not witty</td>\n",
       "      <td>1</td>\n",
       "    </tr>\n",
       "  </tbody>\n",
       "</table>\n",
       "</div>"
      ],
      "text/plain": [
       "             sentence1                  sentence2  label\n",
       "0  Welby is delightful   Welby is not unimportant      0\n",
       "1       Sutton is kind            Noyce is clever      0\n",
       "2     Rodney is polite             Rodney is vast      0\n",
       "3        Edric is calm              Edric is poor      0\n",
       "4      Harper is witty        Harper is not witty      1"
      ]
     },
     "execution_count": 3,
     "metadata": {},
     "output_type": "execute_result"
    }
   ],
   "source": [
    "train_data.head()"
   ]
  },
  {
   "cell_type": "code",
   "execution_count": 4,
   "metadata": {},
   "outputs": [
    {
     "data": {
      "text/html": [
       "<div>\n",
       "<style scoped>\n",
       "    .dataframe tbody tr th:only-of-type {\n",
       "        vertical-align: middle;\n",
       "    }\n",
       "\n",
       "    .dataframe tbody tr th {\n",
       "        vertical-align: top;\n",
       "    }\n",
       "\n",
       "    .dataframe thead th {\n",
       "        text-align: right;\n",
       "    }\n",
       "</style>\n",
       "<table border=\"1\" class=\"dataframe\">\n",
       "  <thead>\n",
       "    <tr style=\"text-align: right;\">\n",
       "      <th></th>\n",
       "      <th>sentence1</th>\n",
       "      <th>sentence2</th>\n",
       "      <th>label</th>\n",
       "    </tr>\n",
       "  </thead>\n",
       "  <tbody>\n",
       "    <tr>\n",
       "      <th>0</th>\n",
       "      <td>Brewster is wonderful</td>\n",
       "      <td>Brewster is not wonderful</td>\n",
       "      <td>1</td>\n",
       "    </tr>\n",
       "    <tr>\n",
       "      <th>1</th>\n",
       "      <td>Alden is aggressive</td>\n",
       "      <td>Sutton is not uninterested</td>\n",
       "      <td>0</td>\n",
       "    </tr>\n",
       "    <tr>\n",
       "      <th>2</th>\n",
       "      <td>Woodrow is calm</td>\n",
       "      <td>Woodrow is not calm</td>\n",
       "      <td>1</td>\n",
       "    </tr>\n",
       "    <tr>\n",
       "      <th>3</th>\n",
       "      <td>Blakely is polite</td>\n",
       "      <td>Brittany is hallowed</td>\n",
       "      <td>0</td>\n",
       "    </tr>\n",
       "    <tr>\n",
       "      <th>4</th>\n",
       "      <td>Packard is zealous</td>\n",
       "      <td>Packard is not alive</td>\n",
       "      <td>0</td>\n",
       "    </tr>\n",
       "  </tbody>\n",
       "</table>\n",
       "</div>"
      ],
      "text/plain": [
       "               sentence1                    sentence2  label\n",
       "0  Brewster is wonderful    Brewster is not wonderful      1\n",
       "1    Alden is aggressive   Sutton is not uninterested      0\n",
       "2        Woodrow is calm          Woodrow is not calm      1\n",
       "3      Blakely is polite         Brittany is hallowed      0\n",
       "4     Packard is zealous         Packard is not alive      0"
      ]
     },
     "execution_count": 4,
     "metadata": {},
     "output_type": "execute_result"
    }
   ],
   "source": [
    "test_data.head()"
   ]
  },
  {
   "cell_type": "markdown",
   "metadata": {},
   "source": [
    "## Putting the sentences together"
   ]
  },
  {
   "cell_type": "code",
   "execution_count": 5,
   "metadata": {},
   "outputs": [],
   "source": [
    "train_data[\"text\"] = train_data[\"sentence1\"]  + \", \" + train_data[\"sentence2\"]\n",
    "test_data[\"text\"] = test_data[\"sentence1\"]  + \", \" + test_data[\"sentence2\"]\n",
    "train_data.drop([\"sentence1\", \"sentence2\"], axis=1, inplace=True)\n",
    "test_data.drop([\"sentence1\", \"sentence2\"], axis=1, inplace=True)\n",
    "train_data = train_data[[\"text\", \"label\"]]\n",
    "test_data = test_data[[\"text\", \"label\"]] "
   ]
  },
  {
   "cell_type": "code",
   "execution_count": 6,
   "metadata": {},
   "outputs": [
    {
     "data": {
      "text/html": [
       "<div>\n",
       "<style scoped>\n",
       "    .dataframe tbody tr th:only-of-type {\n",
       "        vertical-align: middle;\n",
       "    }\n",
       "\n",
       "    .dataframe tbody tr th {\n",
       "        vertical-align: top;\n",
       "    }\n",
       "\n",
       "    .dataframe thead th {\n",
       "        text-align: right;\n",
       "    }\n",
       "</style>\n",
       "<table border=\"1\" class=\"dataframe\">\n",
       "  <thead>\n",
       "    <tr style=\"text-align: right;\">\n",
       "      <th></th>\n",
       "      <th>text</th>\n",
       "      <th>label</th>\n",
       "    </tr>\n",
       "  </thead>\n",
       "  <tbody>\n",
       "    <tr>\n",
       "      <th>0</th>\n",
       "      <td>Welby is delightful,  Welby is not unimportant</td>\n",
       "      <td>0</td>\n",
       "    </tr>\n",
       "    <tr>\n",
       "      <th>1</th>\n",
       "      <td>Sutton is kind,  Noyce is clever</td>\n",
       "      <td>0</td>\n",
       "    </tr>\n",
       "    <tr>\n",
       "      <th>2</th>\n",
       "      <td>Rodney is polite,  Rodney is vast</td>\n",
       "      <td>0</td>\n",
       "    </tr>\n",
       "    <tr>\n",
       "      <th>3</th>\n",
       "      <td>Edric is calm,  Edric is poor</td>\n",
       "      <td>0</td>\n",
       "    </tr>\n",
       "    <tr>\n",
       "      <th>4</th>\n",
       "      <td>Harper is witty,  Harper is not witty</td>\n",
       "      <td>1</td>\n",
       "    </tr>\n",
       "  </tbody>\n",
       "</table>\n",
       "</div>"
      ],
      "text/plain": [
       "                                             text  label\n",
       "0  Welby is delightful,  Welby is not unimportant      0\n",
       "1                Sutton is kind,  Noyce is clever      0\n",
       "2               Rodney is polite,  Rodney is vast      0\n",
       "3                   Edric is calm,  Edric is poor      0\n",
       "4           Harper is witty,  Harper is not witty      1"
      ]
     },
     "execution_count": 6,
     "metadata": {},
     "output_type": "execute_result"
    }
   ],
   "source": [
    "train_data.head()"
   ]
  },
  {
   "cell_type": "code",
   "execution_count": 7,
   "metadata": {},
   "outputs": [
    {
     "data": {
      "text/html": [
       "<div>\n",
       "<style scoped>\n",
       "    .dataframe tbody tr th:only-of-type {\n",
       "        vertical-align: middle;\n",
       "    }\n",
       "\n",
       "    .dataframe tbody tr th {\n",
       "        vertical-align: top;\n",
       "    }\n",
       "\n",
       "    .dataframe thead th {\n",
       "        text-align: right;\n",
       "    }\n",
       "</style>\n",
       "<table border=\"1\" class=\"dataframe\">\n",
       "  <thead>\n",
       "    <tr style=\"text-align: right;\">\n",
       "      <th></th>\n",
       "      <th>text</th>\n",
       "      <th>label</th>\n",
       "    </tr>\n",
       "  </thead>\n",
       "  <tbody>\n",
       "    <tr>\n",
       "      <th>0</th>\n",
       "      <td>Brewster is wonderful,  Brewster is not wonderful</td>\n",
       "      <td>1</td>\n",
       "    </tr>\n",
       "    <tr>\n",
       "      <th>1</th>\n",
       "      <td>Alden is aggressive,  Sutton is not uninterested</td>\n",
       "      <td>0</td>\n",
       "    </tr>\n",
       "    <tr>\n",
       "      <th>2</th>\n",
       "      <td>Woodrow is calm,  Woodrow is not calm</td>\n",
       "      <td>1</td>\n",
       "    </tr>\n",
       "    <tr>\n",
       "      <th>3</th>\n",
       "      <td>Blakely is polite,  Brittany is hallowed</td>\n",
       "      <td>0</td>\n",
       "    </tr>\n",
       "    <tr>\n",
       "      <th>4</th>\n",
       "      <td>Packard is zealous,  Packard is not alive</td>\n",
       "      <td>0</td>\n",
       "    </tr>\n",
       "  </tbody>\n",
       "</table>\n",
       "</div>"
      ],
      "text/plain": [
       "                                                text  label\n",
       "0  Brewster is wonderful,  Brewster is not wonderful      1\n",
       "1   Alden is aggressive,  Sutton is not uninterested      0\n",
       "2              Woodrow is calm,  Woodrow is not calm      1\n",
       "3           Blakely is polite,  Brittany is hallowed      0\n",
       "4          Packard is zealous,  Packard is not alive      0"
      ]
     },
     "execution_count": 7,
     "metadata": {},
     "output_type": "execute_result"
    }
   ],
   "source": [
    "test_data.head()"
   ]
  },
  {
   "cell_type": "code",
   "execution_count": 8,
   "metadata": {},
   "outputs": [],
   "source": [
    "labels_legend = ['no', 'yes']\n",
    "anwser2int = {'no':0, 'yes':1}\n",
    "int2anwser = {i[1]: i[0] for i in anwser2int.items()}\n",
    "train_labels = [int2anwser[i] for i in train_data[\"label\"].values]\n",
    "test_labels = [int2anwser[i] for i in train_data[\"label\"].values]"
   ]
  },
  {
   "cell_type": "code",
   "execution_count": 9,
   "metadata": {},
   "outputs": [
    {
     "data": {
      "image/png": "[encoded data removed]",
      "text/plain": [
       "<Figure size 432x288 with 1 Axes>"
      ]
     },
     "metadata": {},
     "output_type": "display_data"
    }
   ],
   "source": [
    "plot_histogram_from_labels(train_labels, labels_legend, \"train data\")"
   ]
  },
  {
   "cell_type": "code",
   "execution_count": 10,
   "metadata": {},
   "outputs": [
    {
     "data": {
      "image/png": "[encoded data removed]",
      "text/plain": [
       "<Figure size 432x288 with 1 Axes>"
      ]
     },
     "metadata": {},
     "output_type": "display_data"
    }
   ],
   "source": [
    "plot_histogram_from_labels(test_labels, labels_legend, \"train data\")"
   ]
  },
  {
   "cell_type": "markdown",
   "metadata": {},
   "source": [
    "### Applying preprocessing function"
   ]
  },
  {
   "cell_type": "code",
   "execution_count": 11,
   "metadata": {},
   "outputs": [
    {
     "name": "stdout",
     "output_type": "stream",
     "text": [
      "\n",
      "=== BEFORE ===\n",
      "\n",
      "Rodney is polite,  Rodney is vast\n",
      "\n",
      "Edric is calm,  Edric is poor\n",
      "\n",
      "Harper is witty,  Harper is not witty\n",
      "\n",
      "=== AFTER ===\n",
      "\n",
      "rodney is polite rodney is vast\n",
      "\n",
      "edric is calm edric is poor\n",
      "\n",
      "harper is witty harper is not witty\n"
     ]
    }
   ],
   "source": [
    "print(\"\\n=== BEFORE ===\\n\")\n",
    "\n",
    "print(train_data[\"text\"].values[2])\n",
    "print()\n",
    "print(train_data[\"text\"].values[3])\n",
    "print()\n",
    "print(train_data[\"text\"].values[4])\n",
    "\n",
    "\n",
    "print(\"\\n=== AFTER ===\\n\")\n",
    "simple_pre_process_text_df(train_data)\n",
    "simple_pre_process_text_df(test_data)\n",
    "print(train_data[\"text\"].values[2])\n",
    "print()\n",
    "print(train_data[\"text\"].values[3])\n",
    "print()\n",
    "print(train_data[\"text\"].values[4])"
   ]
  },
  {
   "cell_type": "markdown",
   "metadata": {},
   "source": [
    "## Saving the new version of the data in a csv"
   ]
  },
  {
   "cell_type": "code",
   "execution_count": 12,
   "metadata": {},
   "outputs": [],
   "source": [
    "train_data_path = os.path.join(parentdir,\n",
    "                               \"text_generator\",\n",
    "                                \"b1_v2_train_processed.csv\")\n",
    "\n",
    "test_data_path = os.path.join(parentdir,\n",
    "                              \"text_generator\",\n",
    "                              \"b1_v2_test_processed.csv\")\n",
    "\n",
    "\n",
    "train_data.to_csv(train_data_path, header=False, index=False)\n",
    "test_data.to_csv(test_data_path, header=False, index=False)"
   ]
  },
  {
   "cell_type": "markdown",
   "metadata": {},
   "source": [
    "### Starting with torch"
   ]
  },
  {
   "cell_type": "markdown",
   "metadata": {},
   "source": [
    "We use the `data.Field` to hold all the text data:\n",
    "\n",
    "> Field class models common text processing datatypes that can be represented\n",
    "by tensors.  It holds a Vocab object that defines the set of possible values\n",
    "for elements of the field and their corresponding numerical representations.\n",
    "The Field object also holds other parameters relating to how a datatype\n",
    "should be numericalized, such as a tokenization method and the kind of\n",
    "Tensor that should be produced.\n",
    "\n",
    "and the class `data.LabelField` to hold the labels:\n",
    "\n",
    "> A label field is a shallow wrapper around a standard field designed to hold labels\n",
    "for a classification task. Its only use is to set the unk_token and sequential to `None` by default."
   ]
  },
  {
   "cell_type": "code",
   "execution_count": 13,
   "metadata": {},
   "outputs": [],
   "source": [
    "TEXT = data.Field(tokenize='spacy')\n",
    "LABEL = data.LabelField(tensor_type=torch.FloatTensor)"
   ]
  },
  {
   "cell_type": "markdown",
   "metadata": {},
   "source": [
    "And so we can create a dataset by using the class `data.TabularDataset` and the data in the `csv` format"
   ]
  },
  {
   "cell_type": "code",
   "execution_count": 14,
   "metadata": {},
   "outputs": [],
   "source": [
    "train = data.TabularDataset(path=train_data_path,\n",
    "                            format=\"csv\",\n",
    "                            fields=[('text', TEXT), ('label', LABEL)])\n",
    "\n",
    "test = data.TabularDataset(path=test_data_path,\n",
    "                            format=\"csv\",\n",
    "                            fields=[('text', TEXT), ('label', LABEL)])"
   ]
  },
  {
   "cell_type": "markdown",
   "metadata": {},
   "source": [
    "Creating the train-valid split (80$\\%$ for training data and 20$\\%$ for validation data)"
   ]
  },
  {
   "cell_type": "code",
   "execution_count": 15,
   "metadata": {},
   "outputs": [],
   "source": [
    "train, valid = train.split(0.8)"
   ]
  },
  {
   "cell_type": "code",
   "execution_count": 16,
   "metadata": {},
   "outputs": [
    {
     "name": "stdout",
     "output_type": "stream",
     "text": [
      "len(train): 8000\n",
      "len(valid): 2000\n",
      "len(test): 1000\n"
     ]
    }
   ],
   "source": [
    "print('len(train):', len(train))\n",
    "print('len(valid):', len(valid))\n",
    "print('len(test):', len(test))"
   ]
  },
  {
   "cell_type": "markdown",
   "metadata": {},
   "source": [
    "Constructing the Vocabulary, using at maximun 25000 words"
   ]
  },
  {
   "cell_type": "code",
   "execution_count": 17,
   "metadata": {},
   "outputs": [],
   "source": [
    "TEXT.build_vocab(train, max_size=25000)\n",
    "LABEL.build_vocab(train)"
   ]
  },
  {
   "cell_type": "code",
   "execution_count": 18,
   "metadata": {},
   "outputs": [
    {
     "name": "stdout",
     "output_type": "stream",
     "text": [
      "len(TEXT.vocab): 1359\n",
      "len(LABEL.vocab): 2\n"
     ]
    }
   ],
   "source": [
    "print('len(TEXT.vocab):', len(TEXT.vocab))\n",
    "print('len(LABEL.vocab):', len(LABEL.vocab))"
   ]
  },
  {
   "cell_type": "markdown",
   "metadata": {},
   "source": [
    "Printing the 20 most frequent words"
   ]
  },
  {
   "cell_type": "code",
   "execution_count": 19,
   "metadata": {},
   "outputs": [
    {
     "name": "stdout",
     "output_type": "stream",
     "text": [
      "[('is', 16000), ('not', 6398), ('witty', 603), ('brave', 599), ('lively', 598), ('nice', 595), ('delightful', 590), ('calm', 590), ('happy', 583), ('gentle', 580), ('eager', 567), ('agreeable', 553), ('faithful', 552), ('zealous', 551), ('jolly', 548), ('polite', 547), ('thankful', 547), ('aggressive', 545), ('obedient', 543), ('victorious', 540)]\n"
     ]
    }
   ],
   "source": [
    "print(TEXT.vocab.freqs.most_common(20))"
   ]
  },
  {
   "cell_type": "markdown",
   "metadata": {},
   "source": [
    "- `.itos` is the `int2str` method from the object `TEXT.vocab` \n",
    "- `.stoi` is the `str2int` method from the object `TEXT.vocab` "
   ]
  },
  {
   "cell_type": "code",
   "execution_count": 20,
   "metadata": {},
   "outputs": [
    {
     "name": "stdout",
     "output_type": "stream",
     "text": [
      "TEXT.vocab.itos\n",
      "word index\n",
      "<unk> 0\n",
      "<pad> 1\n",
      "is 2\n",
      "not 3\n",
      "witty 4\n",
      "brave 5\n",
      "lively 6\n",
      "nice 7\n",
      "calm 8\n",
      "delightful 9\n",
      "\n",
      "TEXT.vocab.stoi\n",
      "word index\n",
      "i 0\n",
      "love 562\n",
      "trump 0\n"
     ]
    }
   ],
   "source": [
    "print(\"TEXT.vocab.itos\")\n",
    "print(\"word\", \"index\")\n",
    "\n",
    "for i, word in enumerate(TEXT.vocab.itos[:10]):\n",
    "    print(word, i)\n",
    "\n",
    "\n",
    "print()\n",
    "print(\"TEXT.vocab.stoi\")\n",
    "print(\"word\", \"index\")\n",
    "for word in \"i love trump\".split():\n",
    "    print(word, TEXT.vocab.stoi[word])"
   ]
  },
  {
   "cell_type": "code",
   "execution_count": 21,
   "metadata": {},
   "outputs": [],
   "source": [
    "class RNNConfig(object):\n",
    "    \"\"\"\n",
    "    Holds logistic regression model hyperparams.\n",
    "    \n",
    "    :param height: image height\n",
    "    :type heights: int\n",
    "    :param width: image width\n",
    "    :type width: int\n",
    "    :param channels: image channels\n",
    "    :type channels: int\n",
    "    :param batch_size: batch size for training\n",
    "    :type batch_size: int\n",
    "    :param epochs: number of epochs\n",
    "    :type epochs: int\n",
    "    :param save_step: when step % save_step == 0, the model\n",
    "                      parameters are saved.\n",
    "    :type save_step: int\n",
    "    :param learning_rate: learning rate for the optimizer\n",
    "    :type learning_rate: float\n",
    "    :param momentum: momentum param\n",
    "    :type momentum: float\n",
    "    \"\"\"\n",
    "    def __init__(self,\n",
    "                 vocab_size=25000,\n",
    "                 batch_size=32,\n",
    "                 embedding_dim=100,\n",
    "                 rnn_dim=100,\n",
    "                 output_dim=2,\n",
    "                 epochs=10,\n",
    "                 learning_rate=0.05,\n",
    "                 momentum=0.1):\n",
    "        self.vocab_size = vocab_size\n",
    "        self.batch_size = batch_size\n",
    "        self.embedding_dim = embedding_dim\n",
    "        self.rnn_dim = rnn_dim\n",
    "        self.output_dim = output_dim\n",
    "        self.epochs = epochs\n",
    "        self.learning_rate = learning_rate\n",
    "        self.momentum = momentum\n",
    "        \n",
    "\n",
    "    def __str__(self):\n",
    "        \"\"\"\n",
    "        Get all attributs values.\n",
    "        :return: all hyperparams as a string\n",
    "        :rtype: str\n",
    "        \"\"\"\n",
    "        status = \"vocab_size = {}\\n\".format(self.vocab_size)\n",
    "        status += \"batch_size = {}\\n\".format(self.batch_size)\n",
    "        status += \"embedding_dim = {}\\n\".format(self.embedding_dim)\n",
    "        status += \"rnn_dim = {}\\n\".format(self.rnn_dim)\n",
    "        status += \"output_dim = {}\\n\".format(self.output_dim)\n",
    "        status += \"epochs = {}\\n\".format(self.epochs)\n",
    "        status += \"learning_rate = {}\\n\".format(self.learning_rate)\n",
    "        status += \"momentum = {}\\n\".format(self.momentum)\n",
    "        return status"
   ]
  },
  {
   "cell_type": "markdown",
   "metadata": {},
   "source": [
    "Hyperparams"
   ]
  },
  {
   "cell_type": "code",
   "execution_count": 22,
   "metadata": {},
   "outputs": [
    {
     "name": "stdout",
     "output_type": "stream",
     "text": [
      "vocab_size = 1359\n",
      "batch_size = 32\n",
      "embedding_dim = 100\n",
      "rnn_dim = 100\n",
      "output_dim = 2\n",
      "epochs = 10\n",
      "learning_rate = 0.05\n",
      "momentum = 0.1\n",
      "\n"
     ]
    }
   ],
   "source": [
    "config = RNNConfig(vocab_size=len(TEXT.vocab),\n",
    "                   output_dim=len(LABEL.vocab))\n",
    "print(config)"
   ]
  },
  {
   "cell_type": "markdown",
   "metadata": {},
   "source": [
    "To define an iterator that batches examples of similar lengths together we use the class `data.BucketIterator`. \n"
   ]
  },
  {
   "cell_type": "code",
   "execution_count": 23,
   "metadata": {},
   "outputs": [],
   "source": [
    "class DataHolder():\n",
    "    \"\"\"\n",
    "    Class to store all data using the data.BucketIterator class.\n",
    "\n",
    "    \"\"\"\n",
    "    def __init__(self,\n",
    "                 config,\n",
    "                 train,\n",
    "                 valid,\n",
    "                 test):        \n",
    "        self.train_iter = data.BucketIterator(train, batch_size=config.batch_size, repeat=False)\n",
    "        self.valid_iter = data.BucketIterator(valid, batch_size=config.batch_size, repeat=False)\n",
    "        self.test_iter = data.BucketIterator(test, batch_size=len(test), repeat=False)\n",
    "        \n",
    "        \n",
    "b1data = DataHolder(config, train, valid, test) "
   ]
  },
  {
   "cell_type": "markdown",
   "metadata": {},
   "source": [
    "We can see some batch examples, here we should remember that the batch shape is `[sent len, batch size]`"
   ]
  },
  {
   "cell_type": "code",
   "execution_count": 24,
   "metadata": {},
   "outputs": [
    {
     "name": "stdout",
     "output_type": "stream",
     "text": [
      "batch.text.shape = torch.Size([7, 32])\n",
      "batch.text.type = torch.LongTensor\n",
      "\n",
      "batch.label.shape = torch.Size([32])\n",
      "batch.label.type = torch.FloatTensor\n",
      "\n",
      "\n",
      "['kimberley', 'is', 'thankful', 'brinley', 'is', 'not', 'thankful'] \n",
      "['armstrong', 'is', 'eager', 'armstrong', 'is', 'not', 'hallowed'] \n",
      "['putnam', 'is', 'agreeable', 'georgiana', 'is', 'gifted', '<pad>'] \n",
      "['boyer', 'is', 'happy', 'longfellow', 'is', 'odd', '<pad>'] \n",
      "['bickford', 'is', 'witty', 'bickford', 'is', 'not', 'witty'] \n",
      "['stockard', 'is', 'kind', 'stockard', 'is', 'not', 'helpful'] \n",
      "['damon', 'is', 'zealous', 'joss', 'is', 'not', 'famous'] \n",
      "['stanley', 'is', 'proud', 'stanley', 'is', 'not', 'proud'] \n",
      "['forster', 'is', 'ambitious', 'forster', 'is', 'not', 'ambitious'] \n",
      "['clifton', 'is', 'silly', 'clifton', 'is', 'not', 'silly'] \n",
      "['hayden', 'is', 'lively', 'hayden', 'is', 'not', 'lively'] \n",
      "['filmore', 'is', 'brave', 'filmore', 'is', 'not', 'brave'] \n",
      "['hudson', 'is', 'gentle', 'hudson', 'is', 'not', 'gentle'] \n",
      "['kyson', 'is', 'brave', 'birdie', 'is', 'not', 'brave'] \n",
      "['sanford', 'is', 'agreeable', 'sanford', 'is', 'not', 'agreeable'] \n",
      "['deanna', 'is', 'jolly', 'deanna', 'is', 'not', 'jolly'] \n",
      "['averil', 'is', 'gentle', 'averil', 'is', 'not', 'gentle'] \n",
      "['kyson', 'is', 'gentle', 'kyson', 'is', 'not', 'gentle'] \n",
      "['trent', 'is', 'kind', 'shelby', 'is', 'not', 'kind'] \n",
      "['lena', 'is', 'obedient', 'lena', 'is', 'not', 'obedient'] \n",
      "['georgeanne', 'is', 'eager', 'newell', 'is', 'powerful', '<pad>'] \n",
      "['elvin', 'is', 'victorious', 'elvin', 'is', 'not', 'victorious'] \n",
      "['ebba', 'is', 'kind', 'ebba', 'is', 'not', 'kind'] \n",
      "['lilly', 'is', 'zealous', 'juliet', 'is', 'alive', '<pad>'] \n",
      "['byrd', 'is', 'lively', 'byrd', 'is', 'not', 'lively'] \n",
      "['emmeline', 'is', 'lively', 'emmeline', 'is', 'not', 'lively'] \n",
      "['sanford', 'is', 'proud', 'sanford', 'is', 'not', 'proud'] \n",
      "['quixley', 'is', 'polite', 'poe', 'is', 'not', 'famous'] \n",
      "['blues', 'is', 'agreeable', 'auberon', 'is', 'better', '<pad>'] \n",
      "['jetson', 'is', 'victorious', 'briar', 'is', 'not', 'victorious'] \n",
      "['marlowe', 'is', 'brave', 'burroughs', 'is', 'not', 'brave'] \n",
      "['nicholson', 'is', 'victorious', 'nicholson', 'is', 'not', 'victorious'] "
     ]
    }
   ],
   "source": [
    "batch = next(iter(b1data.train_iter))\n",
    "\n",
    "print(\"batch.text.shape = {}\".format(batch.text.shape))\n",
    "print(\"batch.text.type = {}\\n\".format(batch.text.type()))\n",
    "print(\"batch.label.shape = {}\".format(batch.label.shape))\n",
    "print(\"batch.label.type = {}\\n\".format(batch.label.type()))\n",
    "\n",
    "batch_t = batch.text.transpose(0, 1)\n",
    "for example in batch_t:\n",
    "    print()\n",
    "    print([TEXT.vocab.itos[i] for i in example], end=\" \")"
   ]
  },
  {
   "cell_type": "markdown",
   "metadata": {},
   "source": [
    "Here we will define the RNN model using the `nn.module` class."
   ]
  },
  {
   "cell_type": "code",
   "execution_count": 25,
   "metadata": {},
   "outputs": [],
   "source": [
    "import torch.nn as nn\n",
    "\n",
    "class RNN(nn.Module):\n",
    "    def __init__(self, config):\n",
    "        super().__init__()\n",
    "\n",
    "        self.embedding = nn.Embedding(config.vocab_size, config.embedding_dim)\n",
    "        self.rnn = nn.RNN(config.embedding_dim, config.rnn_dim)\n",
    "        self.fc = nn.Linear(config.rnn_dim, config.output_dim)\n",
    "        \n",
    "    def forward(self, x):\n",
    "        \"\"\"\n",
    "        Apply the model to the input x\n",
    "        \n",
    "        :param x: indices of the sentence\n",
    "        :type x: torch.Tensor(shape=[sent len, batch size]\n",
    "                              dtype=torch.int64)\n",
    "        \"\"\"        \n",
    "        embedded = self.embedding(x)\n",
    "        output, hidden = self.rnn(embedded)\n",
    "        #output = [sent len, batch size, hid dim]\n",
    "        #hidden = [1, batch size, hid dim]\n",
    "        \n",
    "        self.output = output\n",
    "\n",
    "        hidden = hidden.squeeze(0)\n",
    "        out = self.fc(hidden)\n",
    "        return out\n",
    "\n",
    "    def predict(self, x):\n",
    "        out = self.forward(x)\n",
    "        softmax = nn.Softmax(dim=1)\n",
    "        out = softmax(out)\n",
    "        indices = torch.argmax(out, 1)\n",
    "        return indices\n",
    "\n",
    "    def evaluate_bach(self, batch):\n",
    "        prediction = model.predict(batch.text)\n",
    "        labels = batch.label.type('torch.LongTensor')\n",
    "        correct = torch.sum(torch.eq(prediction, labels)).float()\n",
    "        accuracy = float(correct/labels.shape[0])\n",
    "        return accuracy, prediction, labels"
   ]
  },
  {
   "cell_type": "code",
   "execution_count": 28,
   "metadata": {},
   "outputs": [
    {
     "data": {
      "image/png": "[encoded data removed]",
      "text/plain": [
       "<Figure size 648x648 with 2 Axes>"
      ]
     },
     "metadata": {},
     "output_type": "display_data"
    }
   ],
   "source": [
    "model = RNN(config)\n",
    "\n",
    "test_bach = next(iter(b1data.test_iter))\n",
    "_, pred, labels = model.evaluate_bach(test_bach)\n",
    "\n",
    "plot_confusion_matrix(truth=labels.numpy(),\n",
    "                      predictions=pred.numpy(),\n",
    "                      save=False,\n",
    "                      path=\"rnn_confusion_matrix_b1_v2.png\",\n",
    "                      classes=labels_legend)"
   ]
  },
  {
   "cell_type": "markdown",
   "metadata": {},
   "source": [
    "## Training functions"
   ]
  },
  {
   "cell_type": "code",
   "execution_count": 29,
   "metadata": {},
   "outputs": [],
   "source": [
    "def train_in_epoch(model, iterator, optimizer, criterion):\n",
    "    \"\"\"\n",
    "    Train the model using all the data from the iterator \n",
    "\n",
    "    :param model: RNN classification model\n",
    "    :type model: RNN \n",
    "    :param iterator: data iterator\n",
    "    :type iterator: data.BucketIterator\n",
    "    :param optimizer: torch optimizer\n",
    "    :type optimizer: optim.SGD, etc.\n",
    "    :param criterion: loss criterion \n",
    "    :type criterion: nn.CrossEntropyLoss\n",
    "    :return: mean loss, mean accuracy\n",
    "    :rtype: float, float    \n",
    "    \"\"\"\n",
    "    \n",
    "    epoch_loss = 0\n",
    "    epoch_acc = 0\n",
    "    \n",
    "    model.train()\n",
    "    \n",
    "    for batch in iterator:\n",
    "        \n",
    "        optimizer.zero_grad()\n",
    "        \n",
    "        logits = model(batch.text)\n",
    "        label = batch.label.type(\"torch.LongTensor\")\n",
    "        loss = criterion(logits, label)\n",
    "        acc, _, _ = model.evaluate_bach(batch)\n",
    "        \n",
    "        loss.backward()\n",
    "        optimizer.step()\n",
    "        \n",
    "        epoch_loss += loss.item()\n",
    "        epoch_acc += acc\n",
    "\n",
    "    mean_loss = epoch_loss / len(iterator)\n",
    "    mean_acc = epoch_acc / len(iterator)\n",
    "        \n",
    "    return mean_loss, mean_acc\n",
    "\n",
    "\n",
    "def get_valid_loss(model, valid_iter, criterion):\n",
    "    \"\"\"\n",
    "    Get the valid loss\n",
    "\n",
    "    :param model: RNN classification model\n",
    "    :type model: \n",
    "    :param valid_iter: valid iterator\n",
    "    :type valid_iter: data.BucketIterator\n",
    "    :param criterion: loss criterion \n",
    "    :type criterion: nn.CrossEntropyLoss\n",
    "    :return: valid loss\n",
    "    :rtype: Tensor(shape=[])    \n",
    "    \"\"\"\n",
    "    batch = next(iter(valid_iter))\n",
    "    model.eval()\n",
    "    logits = model(batch.text)\n",
    "    label = batch.label.type(\"torch.LongTensor\")\n",
    "    loss = criterion(logits, label)\n",
    "    return loss\n",
    "\n",
    "def training_loop_text_classification(model, config, dataholder, model_path, verbose=True):\n",
    "    \"\"\"\n",
    "    Train a model for text classification\n",
    "\n",
    "    :param model: RNN classification model\n",
    "    :type model: \n",
    "    :param config: image classification model\n",
    "    :type config: LogisticRegression or DFN\n",
    "    :param dataholder: data\n",
    "    :type dataholder: DataHolder or DataHolderGentle\n",
    "    :param model_path: path to save model params\n",
    "    :type model_path: str\n",
    "    :param verbose: param to control print\n",
    "    :type verbose: bool\n",
    "    \"\"\"\n",
    "    optimizer = optim.SGD(model.parameters(),\n",
    "                          lr=config.learning_rate,\n",
    "                          momentum=config.momentum)\n",
    "    \n",
    "    criterion = nn.CrossEntropyLoss()\n",
    "    device = torch.device('cuda' if torch.cuda.is_available() else 'cpu')\n",
    "    model = model.to(device)\n",
    "    criterion = criterion.to(device)\n",
    "    train_iter = dataholder.train_iter\n",
    "    valid_iter = dataholder.valid_iter\n",
    "    \n",
    "    best_valid_loss = float(\"inf\")\n",
    "    \n",
    "    all_train_loss = []\n",
    "    all_valid_loss = []\n",
    "    \n",
    "    for epoch in range(config.epochs):\n",
    "\n",
    "        print(\"epoch = ({}/{})\".format(epoch + 1, config.epochs))\n",
    "        train_loss, train_acc = train_in_epoch(model, train_iter, optimizer, criterion)\n",
    "        all_train_loss.append(train_loss)\n",
    "        valid_loss = get_valid_loss(model, valid_iter, criterion)\n",
    "        all_valid_loss.append(valid_loss)\n",
    "\n",
    "        msg = \"\\ntrain_loss = {:.3f} | valid_loss = {:.3f}\".format(float(train_loss),float(valid_loss))\n",
    "\n",
    "        if float(valid_loss) < best_valid_loss:\n",
    "            torch.save(model.state_dict(), model_path)\n",
    "            best_valid_loss = float(valid_loss)\n",
    "\n",
    "        if verbose:\n",
    "            print(msg)\n",
    "            print(\"train_acc = {}\\n\".format(train_acc))\n",
    "\n",
    "    if verbose:\n",
    "        x = np.arange(1, len(all_train_loss) + 1, 1)\n",
    "        fig, ax = plt.subplots(1, 1, figsize=(12, 5))\n",
    "        ax.plot(x, all_train_loss, label='mean train loss')\n",
    "        ax.plot(x, all_valid_loss, label='mean valid loss')\n",
    "        ax.legend()\n",
    "        plt.xlabel('epoch')\n",
    "        plt.ylabel('mean loss')\n",
    "        plt.title('Train and valid mean loss')\n",
    "        plt.grid(True)\n",
    "        plt.show()"
   ]
  },
  {
   "cell_type": "code",
   "execution_count": 30,
   "metadata": {},
   "outputs": [
    {
     "name": "stdout",
     "output_type": "stream",
     "text": [
      "epoch = (1/10)\n",
      "\n",
      "train_loss = 0.356 | valid_loss = 0.319\n",
      "train_acc = 0.869375\n",
      "\n",
      "epoch = (2/10)\n",
      "\n",
      "train_loss = 0.295 | valid_loss = 0.158\n",
      "train_acc = 0.8965\n",
      "\n",
      "epoch = (3/10)\n",
      "\n",
      "train_loss = 0.289 | valid_loss = 0.321\n",
      "train_acc = 0.897625\n",
      "\n",
      "epoch = (4/10)\n",
      "\n",
      "train_loss = 0.286 | valid_loss = 0.243\n",
      "train_acc = 0.897\n",
      "\n",
      "epoch = (5/10)\n",
      "\n",
      "train_loss = 0.283 | valid_loss = 0.413\n",
      "train_acc = 0.89775\n",
      "\n",
      "epoch = (6/10)\n",
      "\n",
      "train_loss = 0.284 | valid_loss = 0.287\n",
      "train_acc = 0.897375\n",
      "\n",
      "epoch = (7/10)\n",
      "\n",
      "train_loss = 0.281 | valid_loss = 0.261\n",
      "train_acc = 0.897875\n",
      "\n",
      "epoch = (8/10)\n",
      "\n",
      "train_loss = 0.280 | valid_loss = 0.326\n",
      "train_acc = 0.898125\n",
      "\n",
      "epoch = (9/10)\n",
      "\n",
      "train_loss = 0.280 | valid_loss = 0.387\n",
      "train_acc = 0.897875\n",
      "\n",
      "epoch = (10/10)\n",
      "\n",
      "train_loss = 0.277 | valid_loss = 0.271\n",
      "train_acc = 0.8985\n",
      "\n"
     ]
    },
    {
     "data": {
      "image/png": "[encoded data removed]",
      "text/plain": [
       "<Figure size 864x360 with 1 Axes>"
      ]
     },
     "metadata": {},
     "output_type": "display_data"
    }
   ],
   "source": [
    "training_loop_text_classification(model,\n",
    "                                  config,\n",
    "                                  b1data,\n",
    "                                  \"rnn_v2.pkl\")"
   ]
  },
  {
   "cell_type": "markdown",
   "metadata": {},
   "source": [
    "## Looking at the model after training"
   ]
  },
  {
   "cell_type": "code",
   "execution_count": 31,
   "metadata": {},
   "outputs": [
    {
     "data": {
      "image/png": "[encoded data removed]",
      "text/plain": [
       "<Figure size 648x648 with 2 Axes>"
      ]
     },
     "metadata": {},
     "output_type": "display_data"
    }
   ],
   "source": [
    "model = RNN(config)\n",
    "model.load_state_dict(torch.load('rnn_v2.pkl'))\n",
    "_, pred, labels = model.evaluate_bach(test_bach)\n",
    "\n",
    "plot_confusion_matrix(truth=labels.numpy(),\n",
    "                      predictions=pred.numpy(),\n",
    "                      save=False,\n",
    "                      path=\"rnn_confusion_matrix.png\",\n",
    "                      classes=labels_legend)"
   ]
  },
  {
   "cell_type": "markdown",
   "metadata": {},
   "source": [
    "# Adding visualization"
   ]
  },
  {
   "cell_type": "markdown",
   "metadata": {},
   "source": [
    "## Analysis of single neurons and gates¶\n",
    "\n",
    "We will now look at the individual activations of neurons in a Recurrent network. The functions bellow serve to print each sentence using one value of the hidden vector for each word.\n"
   ]
  },
  {
   "cell_type": "code",
   "execution_count": 32,
   "metadata": {},
   "outputs": [],
   "source": [
    "def sentence_plot(sentences, values, title=None):\n",
    "    \"\"\"\n",
    "    plot the values of one dimension of the hidden vector to\n",
    "    each word in the sentence.\n",
    "\n",
    "    :param sentences: sentences to be printed\n",
    "    :type sentences: list of str \n",
    "    :param values: one dimension of the hidden vector \n",
    "                   for each word of the sentence\n",
    "    :type values: np.array(shape=(num_sentences, sent_len))\n",
    "    \"\"\"\n",
    "    assert len(sentences) == values.shape[0]\n",
    "    for sentence in sentences:\n",
    "        assert len(sentence.split()) == values.shape[1]\n",
    "\n",
    "    all_values = []\n",
    "    sentence_size = np.max([len(sentence) for sentence in sentences])\n",
    "    for sid, sentence in enumerate(sentences):\n",
    "        temp = np.zeros((sentence_size))\n",
    "        count = 0\n",
    "        for wid, word in enumerate(sentence.split()):\n",
    "            temp[count: count + len(word)] = values[sid][wid]\n",
    "            count = count + len(word) + 1\n",
    "        all_values.append(temp)\n",
    "    all_values = np.array(all_values)\n",
    "\n",
    "    height = all_values.shape[0] \n",
    "    width = all_values.shape[1]\n",
    "    \n",
    "    plt.figure(figsize=(width * 1.6, height * 0.3))\n",
    "    plt.title(title)\n",
    "    plt.imshow(all_values, interpolation='none',\n",
    "             cmap='Reds', alpha=0.5)\n",
    "    plt.axis('off')\n",
    "    for sid, sentence in enumerate(sentences):\n",
    "        for wid, word in enumerate(sentence):\n",
    "            plt.text(wid-0.2,sid+0.2,word,color='k',fontsize=12)\n",
    "\n",
    "    plt.show()\n",
    "    plt.close()\n",
    "\n",
    "def get_hidden(sentences, model, mode=\"softmax\"):\n",
    "    \"\"\"\n",
    "    get the hidden state for each word of each sentence,\n",
    "    we use softmax to normalize the values of the hidden stater\n",
    "\n",
    "    :param sentences: sentences\n",
    "    :type sentences: list of str \n",
    "    :param model: RNN model\n",
    "    :type values: RNN\n",
    "    :return: array with hidden states for each sentence\n",
    "    :rtype: np.array\n",
    "    \"\"\"\n",
    "    all_hiddend_states = []\n",
    "    all_text = []\n",
    "    for example in sentences:\n",
    "        text = simple_pre_process_text(example)\n",
    "        all_text.append(text) \n",
    "        text_as_int = [TEXT.vocab.stoi[word] for word in text.split(\" \")]\n",
    "        text_as_tensor = torch.Tensor(text_as_int).type('torch.LongTensor')\n",
    "        text_as_tensor = text_as_tensor.view((1, text_as_tensor.shape[0]))\n",
    "        text_as_tensor = text_as_tensor.t()  # putting in the format [sent len, batch size]\n",
    "        _ = model.predict(text_as_tensor)\n",
    "        softmax = torch.nn.Softmax(dim=2)\n",
    "        sig = torch.nn.Sigmoid()\n",
    "        if mode == \"softmax\":\n",
    "            new_out = softmax(model.output)\n",
    "        elif mode == \"sigmoid\":\n",
    "            new_out = sig(model.output)\n",
    "        else:\n",
    "            new_out = model.output\n",
    "        new_out = new_out.detach().numpy()\n",
    "        new_out = new_out.reshape((len(text.split()), config.rnn_dim))\n",
    "        all_hiddend_states.append(new_out)\n",
    "    return np.array(all_hiddend_states)"
   ]
  },
  {
   "cell_type": "markdown",
   "metadata": {},
   "source": [
    "# Fazer função que faz o padding em cada sentença de tamanho menor que o maximo. "
   ]
  },
  {
   "cell_type": "code",
   "execution_count": 63,
   "metadata": {},
   "outputs": [
    {
     "name": "stdout",
     "output_type": "stream",
     "text": [
      "[539, 2, 21, 575, 2, 31]\n",
      "[1333, 2, 17, 1333, 2, 49]\n",
      "[1093, 2, 24, 1332, 2, 3, 48]\n",
      "[88, 2, 5, 88, 2, 32]\n",
      "[1107, 2, 9, 747, 2, 31]\n",
      "[875, 2, 18, 130, 2, 3, 18]\n",
      "[86, 2, 8, 55, 2, 3, 43]\n",
      "[563, 2, 18, 95, 2, 3, 40]\n",
      "[296, 2, 19, 296, 2, 48]\n",
      "[927, 2, 8, 1291, 2, 3, 34]\n"
     ]
    }
   ],
   "source": [
    "all_hiddend_states = []\n",
    "all_text = []\n",
    "pad = TEXT.vocab.stoi[\"<pad>\"]\n",
    "for example in some_test_sentences_non_contra:\n",
    "    text = simple_pre_process_text(example) \n",
    "    text_as_int = [TEXT.vocab.stoi[word] for word in text.split(\" \")]\n",
    "    print(text_as_int)\n",
    "#     text_as_tensor = torch.Tensor(text_as_int).type('torch.LongTensor')\n",
    "#     text_as_tensor = text_as_tensor.view((1, text_as_tensor.shape[0]))\n",
    "#     text_as_tensor = text_as_tensor.t()  # putting in the format [sent len, batch size]\n",
    "#     all_text.append(text_as_tensor)\n",
    "#     _ = model.predict(text_as_tensor)\n",
    "#     softmax = torch.nn.Softmax(dim=2)\n",
    "#     sig = torch.nn.Sigmoid()\n",
    "\n",
    "#     new_out = model.output\n",
    "#     new_out = new_out.detach().numpy()\n",
    "#     new_out = new_out.reshape((len(text.split()), config.rnn_dim))\n",
    "#     print(new_out.shape)\n",
    "#     all_hiddend_states.append(new_out)\n"
   ]
  },
  {
   "cell_type": "code",
   "execution_count": null,
   "metadata": {},
   "outputs": [],
   "source": []
  },
  {
   "cell_type": "code",
   "execution_count": null,
   "metadata": {},
   "outputs": [],
   "source": []
  },
  {
   "cell_type": "code",
   "execution_count": null,
   "metadata": {},
   "outputs": [],
   "source": []
  },
  {
   "cell_type": "code",
   "execution_count": null,
   "metadata": {},
   "outputs": [],
   "source": []
  },
  {
   "cell_type": "code",
   "execution_count": null,
   "metadata": {},
   "outputs": [],
   "source": []
  },
  {
   "cell_type": "code",
   "execution_count": null,
   "metadata": {},
   "outputs": [],
   "source": []
  },
  {
   "cell_type": "code",
   "execution_count": null,
   "metadata": {},
   "outputs": [],
   "source": []
  },
  {
   "cell_type": "markdown",
   "metadata": {},
   "source": [
    "## Getting the hidden state from 10 sentences with contradiction, from 10 sentences without contradiction, and they both together "
   ]
  },
  {
   "cell_type": "code",
   "execution_count": 36,
   "metadata": {},
   "outputs": [],
   "source": [
    "df_test_contra = test_data[test_data[\"label\"]==1]\n",
    "df_test_non_contra = test_data[test_data[\"label\"]==0]\n",
    "test_sentences_contra =  df_test_contra[\"text\"].values\n",
    "test_sentences_non_contra =  df_test_non_contra[\"text\"].values\n",
    "\n",
    "np.random.shuffle(test_sentences_contra)\n",
    "np.random.shuffle(test_sentences_non_contra)\n",
    "\n",
    "some_test_sentences_contra = test_sentences_contra[0:10]\n",
    "some_test_sentences_non_contra = test_sentences_non_contra[0:10]\n",
    "some_sentences = list(some_test_sentences_contra) + list(some_test_sentences_non_contra)\n",
    "np.random.shuffle(some_sentences)\n",
    "\n",
    "all_hiddend_states_contra = get_hidden(some_test_sentences_contra, model)\n",
    "all_hiddend_states_non_contra = get_hidden(some_test_sentences_non_contra, model)\n",
    "all_hiddend_states = get_hidden(some_sentences, model)"
   ]
  },
  {
   "cell_type": "markdown",
   "metadata": {},
   "source": [
    "## Plotting the neuron visualiziation for contradictory sentences"
   ]
  },
  {
   "cell_type": "code",
   "execution_count": 37,
   "metadata": {},
   "outputs": [
    {
     "data": {
      "image/png": "[encoded data removed]",
      "text/plain": [
       "<Figure size 5184x216 with 1 Axes>"
      ]
     },
     "metadata": {},
     "output_type": "display_data"
    }
   ],
   "source": [
    "neuron_id = np.random.randint(0, config.rnn_dim)\n",
    "\n",
    "sentence_plot(some_test_sentences_contra,\n",
    "              all_hiddend_states_contra[:, :, neuron_id],\n",
    "              title=\"Neuron {} (only contradictory sentences)\".format(neuron_id))"
   ]
  },
  {
   "cell_type": "markdown",
   "metadata": {},
   "source": [
    "## Plotting the neuron visualiziation for all non contradictory sentences"
   ]
  },
  {
   "cell_type": "code",
   "execution_count": 40,
   "metadata": {},
   "outputs": [
    {
     "ename": "IndexError",
     "evalue": "too many indices for array",
     "output_type": "error",
     "traceback": [
      "\u001b[0;31m---------------------------------------------------------------------------\u001b[0m",
      "\u001b[0;31mIndexError\u001b[0m                                Traceback (most recent call last)",
      "\u001b[0;32m<ipython-input-40-e1c135baba1f>\u001b[0m in \u001b[0;36m<module>\u001b[0;34m()\u001b[0m\n\u001b[1;32m      2\u001b[0m \u001b[0;34m\u001b[0m\u001b[0m\n\u001b[1;32m      3\u001b[0m sentence_plot(some_test_sentences_non_contra,\n\u001b[0;32m----> 4\u001b[0;31m               \u001b[0mall_hiddend_states_non_contra\u001b[0m\u001b[0;34m[\u001b[0m\u001b[0;34m:\u001b[0m\u001b[0;34m,\u001b[0m \u001b[0;34m:\u001b[0m\u001b[0;34m,\u001b[0m \u001b[0mneuron_id\u001b[0m\u001b[0;34m]\u001b[0m\u001b[0;34m,\u001b[0m\u001b[0;34m\u001b[0m\u001b[0m\n\u001b[0m\u001b[1;32m      5\u001b[0m               title=\"Neuron {} (only non contradictory sentences)\".format(neuron_id))\n",
      "\u001b[0;31mIndexError\u001b[0m: too many indices for array"
     ]
    }
   ],
   "source": [
    "neuron_id = np.random.randint(0, config.rnn_dim)\n",
    "\n",
    "sentence_plot(some_test_sentences_non_contra,\n",
    "              all_hiddend_states_non_contra[:, :, neuron_id],\n",
    "              title=\"Neuron {} (only non contradictory sentences)\".format(neuron_id))"
   ]
  },
  {
   "cell_type": "markdown",
   "metadata": {},
   "source": [
    "## Plotting the neuron visualiziation for all sentences"
   ]
  },
  {
   "cell_type": "code",
   "execution_count": null,
   "metadata": {},
   "outputs": [],
   "source": [
    "neuron_id = np.random.randint(0, config.rnn_dim)\n",
    "\n",
    "sentence_plot(some_sentences,\n",
    "              all_hiddend_states[:, :, neuron_id],\n",
    "               title=\"Neuron {} (mix sentences)\".format(neuron_id))"
   ]
  },
  {
   "cell_type": "markdown",
   "metadata": {},
   "source": [
    "##  What kind of neurons can we expect to find?\n",
    "\n",
    "- Negatiom neuron - activates around negation names of people in the play, such as Ralph, Lenora, Alton, etc.\n",
    "- Same adjective neuron - activates when the same adjective comes around\n",
    "- Same name neuron - activates when the same name comes around\n",
    "\n",
    "This kind of visualization is useful, but remember:\n",
    "\n",
    "> Note, that if neurons like these do not appear it does not mean that network does not \"know\" these elements. Highly discriminative, single neuron decoupling is not something neural networks are trained to do, it is just an empirical observation, shared across many domains (cat neurons in visual classifiers etc.). Knowledge can be represented in many other ways, in particular the fact that it is represented in a single neuron does not mean network does not have a distributed \"backup\" of the same knowledge somewhere else.\n"
   ]
  },
  {
   "cell_type": "markdown",
   "metadata": {},
   "source": [
    "## Analysis of the state dynamics\n",
    "\n",
    "Here, we will visualize the activations in a different way, by projecting them to 2 dimensions, via dimensionality reduction.\n",
    "\n",
    "When using different projection techniques, you willl see different results. For example, PCA will display the directions with most variance in the data."
   ]
  },
  {
   "cell_type": "code",
   "execution_count": null,
   "metadata": {},
   "outputs": [],
   "source": [
    "projector = 'PCA' #@param ['PCA', 'TSNE', 'Isomap']\n",
    "projector_fun = eval(projector)\n",
    "\n",
    "kwargs = {\n",
    "    'TSNE': {'perplexity': 5},\n",
    "    'PCA': {},\n",
    "    'Isomap': {}\n",
    "}\n",
    "\n",
    "projector = projector_fun(n_components=2, **kwargs[projector])"
   ]
  },
  {
   "cell_type": "code",
   "execution_count": null,
   "metadata": {},
   "outputs": [],
   "source": [
    "all_hiddend_states_contra2d = []\n",
    "for state in all_hiddend_states_contra:\n",
    "    all_hiddend_states_contra2d.append(projector.fit_transform(state))\n",
    "\n",
    "all_hiddend_states_contra2d = np.array(all_hiddend_states_contra2d)\n",
    "\n",
    "\n",
    "all_hiddend_states_non_contra2d = []\n",
    "all_hiddend_states_non_contra\n",
    "for state in all_hiddend_states_non_contra:\n",
    "    all_hiddend_states_non_contra2d.append(projector.fit_transform(state))\n",
    "\n",
    "all_hiddend_states_non_contra2d = np.array(all_hiddend_states_non_contra2d)\n",
    "\n",
    "\n"
   ]
  },
  {
   "cell_type": "markdown",
   "metadata": {},
   "source": [
    "Visualizing the reduce neurons using PCA: **only contradictions**"
   ]
  },
  {
   "cell_type": "code",
   "execution_count": null,
   "metadata": {},
   "outputs": [],
   "source": [
    "sentence_plot(some_test_sentences_contra,\n",
    "              all_hiddend_states_contra2d[:, :, 0],\n",
    "              title=\"PCA - Neuron {} (only contradictory sentences)\".format(0))\n",
    "\n",
    "sentence_plot(some_test_sentences_contra,\n",
    "              all_hiddend_states_contra2d[:, :, 1],\n",
    "              title=\"PCA - Neuron {} (only contradictory sentences)\".format(1))"
   ]
  },
  {
   "cell_type": "markdown",
   "metadata": {},
   "source": [
    "Visualizing the reduce neurons using PCA: **only non contradictions**"
   ]
  },
  {
   "cell_type": "code",
   "execution_count": null,
   "metadata": {},
   "outputs": [],
   "source": [
    "sentence_plot(some_test_sentences_non_contra,\n",
    "              all_hiddend_states_non_contra2d[:, :, 0],\n",
    "              title=\"PCA - Neuron {} (only non contradictory sentences)\".format(0))\n",
    "\n",
    "sentence_plot(some_test_sentences_non_contra,\n",
    "              all_hiddend_states_non_contra2d[:, :, 1],\n",
    "              title=\"PCA - Neuron {} (only non contradictory sentences)\".format(1))"
   ]
  },
  {
   "cell_type": "markdown",
   "metadata": {},
   "source": [
    "##  Printing the 2d representation of each part of the sentence separated by class"
   ]
  },
  {
   "cell_type": "code",
   "execution_count": null,
   "metadata": {},
   "outputs": [],
   "source": [
    "np.random.shuffle(test_sentences_contra)\n",
    "np.random.shuffle(test_sentences_non_contra)\n",
    "\n",
    "bunch_test_sentences_contra = test_sentences_contra[0:2000]\n",
    "bunch_test_sentences_non_contra = test_sentences_non_contra[0:2000]\n",
    "\n",
    "\n",
    "bunch_hiddend_states_contra = get_hidden(bunch_test_sentences_contra, model, mode=\"softmax\")\n",
    "bunch_hiddend_states_non_contra = get_hidden(bunch_test_sentences_non_contra, model, mode=\"softmax\")\n",
    "\n",
    "bunch_hiddend_states_contra2d = []\n",
    "for state in bunch_hiddend_states_contra:\n",
    "    bunch_hiddend_states_contra2d.append(projector.fit_transform(state))\n",
    "\n",
    "bunch_hiddend_states_contra2d = np.array(bunch_hiddend_states_contra2d)\n",
    "\n",
    "\n",
    "bunch_hiddend_states_non_contra2d = []\n",
    "bunch_hiddend_states_non_contra\n",
    "for state in bunch_hiddend_states_non_contra:\n",
    "    bunch_hiddend_states_non_contra2d.append(projector.fit_transform(state))\n",
    "\n",
    "bunch_hiddend_states_non_contra2d = np.array(bunch_hiddend_states_non_contra2d)\n",
    "\n",
    "\n"
   ]
  },
  {
   "cell_type": "code",
   "execution_count": null,
   "metadata": {},
   "outputs": [],
   "source": [
    "for idx in range(all_hiddend_states_contra2d.shape[1]):\n",
    "\n",
    "    all_x_contra = bunch_hiddend_states_contra2d[:,idx,0].flatten()\n",
    "    all_y_contra = bunch_hiddend_states_contra2d[:,idx,1].flatten()\n",
    "\n",
    "    all_x_non = bunch_hiddend_states_non_contra2d[:,idx,0].flatten()\n",
    "    all_y_non = bunch_hiddend_states_non_contra2d[:,idx,1].flatten()\n",
    "\n",
    "    fig, ax = plt.subplots(figsize=(10, 10))\n",
    "\n",
    "    ax.scatter(all_x_contra, all_y_contra, marker='o',cmap=plt.get_cmap('Spectral'), label=\"contradictions\")\n",
    "    ax.scatter(all_x_non, all_y_non, marker='x',cmap=plt.get_cmap('Spectral'), label=\"non contradictions\")\n",
    "\n",
    "    ax.legend()\n",
    "    plt.title(\"2d representation of the sentences at time {}\".format(idx + 1),\n",
    "              fontsize=14,\n",
    "              fontweight='bold')\n",
    "    plt.show()"
   ]
  }
 ],
 "metadata": {
  "kernelspec": {
   "display_name": "Python 3",
   "language": "python",
   "name": "python3"
  },
  "language_info": {
   "codemirror_mode": {
    "name": "ipython",
    "version": 3
   },
   "file_extension": ".py",
   "mimetype": "text/x-python",
   "name": "python",
   "nbconvert_exporter": "python",
   "pygments_lexer": "ipython3",
   "version": "3.5.2"
  }
 },
 "nbformat": 4,
 "nbformat_minor": 2
}
