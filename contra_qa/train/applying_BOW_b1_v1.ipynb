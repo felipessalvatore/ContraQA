{
 "cells": [
  {
   "cell_type": "markdown",
   "metadata": {},
   "source": [
    "# Training a RNN model using the basic negation data (version 1)\n",
    "\n",
    "\n",
    "## Here we will use the RNN model to distinguish between to kind of sentences:\n",
    "\n",
    "- 1) A, not A (contradiction)\n",
    "\n",
    "- 2) not A, A (contradiction)\n",
    "\n",
    "- 3) A, not B (non-contradiction)\n",
    "\n",
    "- 4) not B, A (non-contradiction)\n",
    "\n"
   ]
  },
  {
   "cell_type": "code",
   "execution_count": 1,
   "metadata": {},
   "outputs": [],
   "source": [
    "# all imports\n",
    "import numpy as np\n",
    "import pandas as pd\n",
    "import torch\n",
    "from torchtext import data\n",
    "import torch.optim as optim\n",
    "from sklearn import linear_model\n",
    "\n",
    "\n",
    "import os\n",
    "import inspect\n",
    "import sys\n",
    "import itertools\n",
    "\n",
    "almost_current = os.path.abspath(inspect.getfile(inspect.currentframe()))\n",
    "currentdir = os.path.dirname(almost_current)\n",
    "parentdir = os.path.dirname(currentdir)\n",
    "sys.path.insert(0, parentdir)\n",
    "\n",
    "from plots.functions  import plot_confusion_matrix, plot_histogram_from_labels\n",
    "from text_processing.functions import simple_pre_process_text_df, simple_pre_process_text\n",
    "\n",
    "import seaborn as sns\n",
    "import matplotlib.pyplot as plt\n",
    "% matplotlib inline"
   ]
  },
  {
   "cell_type": "code",
   "execution_count": 2,
   "metadata": {},
   "outputs": [],
   "source": [
    "train_data_path = os.path.join(parentdir,\n",
    "                               \"text_generator\",\n",
    "                                \"b1_v1_train.csv\")\n",
    "\n",
    "test_data_path = os.path.join(parentdir,\n",
    "                              \"text_generator\",\n",
    "                              \"b1_v1_test.csv\")\n",
    "\n",
    "train_data = pd.read_csv(train_data_path)\n",
    "test_data = pd.read_csv(test_data_path)"
   ]
  },
  {
   "cell_type": "code",
   "execution_count": 3,
   "metadata": {},
   "outputs": [
    {
     "data": {
      "text/html": [
       "<div>\n",
       "<style scoped>\n",
       "    .dataframe tbody tr th:only-of-type {\n",
       "        vertical-align: middle;\n",
       "    }\n",
       "\n",
       "    .dataframe tbody tr th {\n",
       "        vertical-align: top;\n",
       "    }\n",
       "\n",
       "    .dataframe thead th {\n",
       "        text-align: right;\n",
       "    }\n",
       "</style>\n",
       "<table border=\"1\" class=\"dataframe\">\n",
       "  <thead>\n",
       "    <tr style=\"text-align: right;\">\n",
       "      <th></th>\n",
       "      <th>sentence1</th>\n",
       "      <th>sentence2</th>\n",
       "      <th>label</th>\n",
       "    </tr>\n",
       "  </thead>\n",
       "  <tbody>\n",
       "    <tr>\n",
       "      <th>0</th>\n",
       "      <td>Brooke is not helpful</td>\n",
       "      <td>Brooke is helpful</td>\n",
       "      <td>1</td>\n",
       "    </tr>\n",
       "    <tr>\n",
       "      <th>1</th>\n",
       "      <td>Boo is not clever</td>\n",
       "      <td>Boo is clever</td>\n",
       "      <td>1</td>\n",
       "    </tr>\n",
       "    <tr>\n",
       "      <th>2</th>\n",
       "      <td>Doe is not poor</td>\n",
       "      <td>Doe is poor</td>\n",
       "      <td>1</td>\n",
       "    </tr>\n",
       "    <tr>\n",
       "      <th>3</th>\n",
       "      <td>Hodgson is ambitious</td>\n",
       "      <td>Hodgson is not ambitious</td>\n",
       "      <td>1</td>\n",
       "    </tr>\n",
       "    <tr>\n",
       "      <th>4</th>\n",
       "      <td>Hobbes is proud</td>\n",
       "      <td>Marston is not easy</td>\n",
       "      <td>0</td>\n",
       "    </tr>\n",
       "  </tbody>\n",
       "</table>\n",
       "</div>"
      ],
      "text/plain": [
       "               sentence1                  sentence2  label\n",
       "0  Brooke is not helpful          Brooke is helpful      1\n",
       "1      Boo is not clever              Boo is clever      1\n",
       "2        Doe is not poor                Doe is poor      1\n",
       "3   Hodgson is ambitious   Hodgson is not ambitious      1\n",
       "4        Hobbes is proud        Marston is not easy      0"
      ]
     },
     "execution_count": 3,
     "metadata": {},
     "output_type": "execute_result"
    }
   ],
   "source": [
    "train_data.head()"
   ]
  },
  {
   "cell_type": "code",
   "execution_count": 4,
   "metadata": {},
   "outputs": [
    {
     "data": {
      "text/html": [
       "<div>\n",
       "<style scoped>\n",
       "    .dataframe tbody tr th:only-of-type {\n",
       "        vertical-align: middle;\n",
       "    }\n",
       "\n",
       "    .dataframe tbody tr th {\n",
       "        vertical-align: top;\n",
       "    }\n",
       "\n",
       "    .dataframe thead th {\n",
       "        text-align: right;\n",
       "    }\n",
       "</style>\n",
       "<table border=\"1\" class=\"dataframe\">\n",
       "  <thead>\n",
       "    <tr style=\"text-align: right;\">\n",
       "      <th></th>\n",
       "      <th>sentence1</th>\n",
       "      <th>sentence2</th>\n",
       "      <th>label</th>\n",
       "    </tr>\n",
       "  </thead>\n",
       "  <tbody>\n",
       "    <tr>\n",
       "      <th>0</th>\n",
       "      <td>Oakley is brave</td>\n",
       "      <td>Oakley is not brave</td>\n",
       "      <td>1</td>\n",
       "    </tr>\n",
       "    <tr>\n",
       "      <th>1</th>\n",
       "      <td>Jean is not alive</td>\n",
       "      <td>Jean is alive</td>\n",
       "      <td>1</td>\n",
       "    </tr>\n",
       "    <tr>\n",
       "      <th>2</th>\n",
       "      <td>Starlit is proud</td>\n",
       "      <td>Starlit is not proud</td>\n",
       "      <td>1</td>\n",
       "    </tr>\n",
       "    <tr>\n",
       "      <th>3</th>\n",
       "      <td>Temple is not delightful</td>\n",
       "      <td>Westcott is wrong</td>\n",
       "      <td>0</td>\n",
       "    </tr>\n",
       "    <tr>\n",
       "      <th>4</th>\n",
       "      <td>Jazz is jolly</td>\n",
       "      <td>Jazz is not jolly</td>\n",
       "      <td>1</td>\n",
       "    </tr>\n",
       "  </tbody>\n",
       "</table>\n",
       "</div>"
      ],
      "text/plain": [
       "                  sentence1              sentence2  label\n",
       "0           Oakley is brave    Oakley is not brave      1\n",
       "1         Jean is not alive          Jean is alive      1\n",
       "2          Starlit is proud   Starlit is not proud      1\n",
       "3  Temple is not delightful      Westcott is wrong      0\n",
       "4             Jazz is jolly      Jazz is not jolly      1"
      ]
     },
     "execution_count": 4,
     "metadata": {},
     "output_type": "execute_result"
    }
   ],
   "source": [
    "test_data.head()"
   ]
  },
  {
   "cell_type": "markdown",
   "metadata": {},
   "source": [
    "## Putting the sentences together"
   ]
  },
  {
   "cell_type": "code",
   "execution_count": 5,
   "metadata": {},
   "outputs": [],
   "source": [
    "train_data[\"text\"] = train_data[\"sentence1\"]  + \", \" + train_data[\"sentence2\"]\n",
    "test_data[\"text\"] = test_data[\"sentence1\"]  + \", \" + test_data[\"sentence2\"]\n",
    "train_data.drop([\"sentence1\", \"sentence2\"], axis=1, inplace=True)\n",
    "test_data.drop([\"sentence1\", \"sentence2\"], axis=1, inplace=True)\n",
    "train_data = train_data[[\"text\", \"label\"]]\n",
    "test_data = test_data[[\"text\", \"label\"]] "
   ]
  },
  {
   "cell_type": "code",
   "execution_count": 6,
   "metadata": {},
   "outputs": [
    {
     "data": {
      "text/html": [
       "<div>\n",
       "<style scoped>\n",
       "    .dataframe tbody tr th:only-of-type {\n",
       "        vertical-align: middle;\n",
       "    }\n",
       "\n",
       "    .dataframe tbody tr th {\n",
       "        vertical-align: top;\n",
       "    }\n",
       "\n",
       "    .dataframe thead th {\n",
       "        text-align: right;\n",
       "    }\n",
       "</style>\n",
       "<table border=\"1\" class=\"dataframe\">\n",
       "  <thead>\n",
       "    <tr style=\"text-align: right;\">\n",
       "      <th></th>\n",
       "      <th>text</th>\n",
       "      <th>label</th>\n",
       "    </tr>\n",
       "  </thead>\n",
       "  <tbody>\n",
       "    <tr>\n",
       "      <th>0</th>\n",
       "      <td>Brooke is not helpful,  Brooke is helpful</td>\n",
       "      <td>1</td>\n",
       "    </tr>\n",
       "    <tr>\n",
       "      <th>1</th>\n",
       "      <td>Boo is not clever,  Boo is clever</td>\n",
       "      <td>1</td>\n",
       "    </tr>\n",
       "    <tr>\n",
       "      <th>2</th>\n",
       "      <td>Doe is not poor,  Doe is poor</td>\n",
       "      <td>1</td>\n",
       "    </tr>\n",
       "    <tr>\n",
       "      <th>3</th>\n",
       "      <td>Hodgson is ambitious,  Hodgson is not ambitious</td>\n",
       "      <td>1</td>\n",
       "    </tr>\n",
       "    <tr>\n",
       "      <th>4</th>\n",
       "      <td>Hobbes is proud,  Marston is not easy</td>\n",
       "      <td>0</td>\n",
       "    </tr>\n",
       "  </tbody>\n",
       "</table>\n",
       "</div>"
      ],
      "text/plain": [
       "                                              text  label\n",
       "0        Brooke is not helpful,  Brooke is helpful      1\n",
       "1                Boo is not clever,  Boo is clever      1\n",
       "2                    Doe is not poor,  Doe is poor      1\n",
       "3  Hodgson is ambitious,  Hodgson is not ambitious      1\n",
       "4            Hobbes is proud,  Marston is not easy      0"
      ]
     },
     "execution_count": 6,
     "metadata": {},
     "output_type": "execute_result"
    }
   ],
   "source": [
    "train_data.head()"
   ]
  },
  {
   "cell_type": "code",
   "execution_count": 7,
   "metadata": {},
   "outputs": [
    {
     "data": {
      "text/html": [
       "<div>\n",
       "<style scoped>\n",
       "    .dataframe tbody tr th:only-of-type {\n",
       "        vertical-align: middle;\n",
       "    }\n",
       "\n",
       "    .dataframe tbody tr th {\n",
       "        vertical-align: top;\n",
       "    }\n",
       "\n",
       "    .dataframe thead th {\n",
       "        text-align: right;\n",
       "    }\n",
       "</style>\n",
       "<table border=\"1\" class=\"dataframe\">\n",
       "  <thead>\n",
       "    <tr style=\"text-align: right;\">\n",
       "      <th></th>\n",
       "      <th>text</th>\n",
       "      <th>label</th>\n",
       "    </tr>\n",
       "  </thead>\n",
       "  <tbody>\n",
       "    <tr>\n",
       "      <th>0</th>\n",
       "      <td>Oakley is brave,  Oakley is not brave</td>\n",
       "      <td>1</td>\n",
       "    </tr>\n",
       "    <tr>\n",
       "      <th>1</th>\n",
       "      <td>Jean is not alive,  Jean is alive</td>\n",
       "      <td>1</td>\n",
       "    </tr>\n",
       "    <tr>\n",
       "      <th>2</th>\n",
       "      <td>Starlit is proud,  Starlit is not proud</td>\n",
       "      <td>1</td>\n",
       "    </tr>\n",
       "    <tr>\n",
       "      <th>3</th>\n",
       "      <td>Temple is not delightful,  Westcott is wrong</td>\n",
       "      <td>0</td>\n",
       "    </tr>\n",
       "    <tr>\n",
       "      <th>4</th>\n",
       "      <td>Jazz is jolly,  Jazz is not jolly</td>\n",
       "      <td>1</td>\n",
       "    </tr>\n",
       "  </tbody>\n",
       "</table>\n",
       "</div>"
      ],
      "text/plain": [
       "                                           text  label\n",
       "0         Oakley is brave,  Oakley is not brave      1\n",
       "1             Jean is not alive,  Jean is alive      1\n",
       "2       Starlit is proud,  Starlit is not proud      1\n",
       "3  Temple is not delightful,  Westcott is wrong      0\n",
       "4             Jazz is jolly,  Jazz is not jolly      1"
      ]
     },
     "execution_count": 7,
     "metadata": {},
     "output_type": "execute_result"
    }
   ],
   "source": [
    "test_data.head()"
   ]
  },
  {
   "cell_type": "code",
   "execution_count": 8,
   "metadata": {},
   "outputs": [],
   "source": [
    "labels_legend = ['no', 'yes']\n",
    "anwser2int = {'no':0, 'yes':1}\n",
    "int2anwser = {i[1]: i[0] for i in anwser2int.items()}\n",
    "train_labels = [int2anwser[i] for i in train_data[\"label\"].values]\n",
    "test_labels = [int2anwser[i] for i in train_data[\"label\"].values]"
   ]
  },
  {
   "cell_type": "code",
   "execution_count": 9,
   "metadata": {},
   "outputs": [
    {
     "data": {
      "image/png": "[encoded data removed]",
      "text/plain": [
       "<Figure size 432x288 with 1 Axes>"
      ]
     },
     "metadata": {},
     "output_type": "display_data"
    }
   ],
   "source": [
    "plot_histogram_from_labels(train_labels, labels_legend, \"train data\")"
   ]
  },
  {
   "cell_type": "code",
   "execution_count": 10,
   "metadata": {},
   "outputs": [
    {
     "data": {
      "image/png": "[encoded data removed]",
      "text/plain": [
       "<Figure size 432x288 with 1 Axes>"
      ]
     },
     "metadata": {},
     "output_type": "display_data"
    }
   ],
   "source": [
    "plot_histogram_from_labels(test_labels, labels_legend, \"train data\")"
   ]
  },
  {
   "cell_type": "markdown",
   "metadata": {},
   "source": [
    "### Applying preprocessing function"
   ]
  },
  {
   "cell_type": "code",
   "execution_count": 11,
   "metadata": {},
   "outputs": [
    {
     "name": "stdout",
     "output_type": "stream",
     "text": [
      "\n",
      "=== BEFORE ===\n",
      "\n",
      "Doe is not poor,  Doe is poor\n",
      "\n",
      "Hodgson is ambitious,  Hodgson is not ambitious\n",
      "\n",
      "Hobbes is proud,  Marston is not easy\n",
      "\n",
      "=== AFTER ===\n",
      "\n",
      "doe is not poor doe is poor\n",
      "\n",
      "hodgson is ambitious hodgson is not ambitious\n",
      "\n",
      "hobbes is proud marston is not easy\n"
     ]
    }
   ],
   "source": [
    "print(\"\\n=== BEFORE ===\\n\")\n",
    "\n",
    "print(train_data[\"text\"].values[2])\n",
    "print()\n",
    "print(train_data[\"text\"].values[3])\n",
    "print()\n",
    "print(train_data[\"text\"].values[4])\n",
    "\n",
    "\n",
    "print(\"\\n=== AFTER ===\\n\")\n",
    "simple_pre_process_text_df(train_data)\n",
    "simple_pre_process_text_df(test_data)\n",
    "print(train_data[\"text\"].values[2])\n",
    "print()\n",
    "print(train_data[\"text\"].values[3])\n",
    "print()\n",
    "print(train_data[\"text\"].values[4])"
   ]
  },
  {
   "cell_type": "markdown",
   "metadata": {},
   "source": [
    "## Saving the new version of the data in a csv"
   ]
  },
  {
   "cell_type": "code",
   "execution_count": 12,
   "metadata": {},
   "outputs": [],
   "source": [
    "train_data_path = os.path.join(parentdir,\n",
    "                               \"text_generator\",\n",
    "                                \"b1_v1_train_processed.csv\")\n",
    "\n",
    "test_data_path = os.path.join(parentdir,\n",
    "                              \"text_generator\",\n",
    "                              \"b1_v1_test_processed.csv\")\n",
    "\n",
    "\n",
    "train_data.to_csv(train_data_path, header=False, index=False)\n",
    "test_data.to_csv(test_data_path, header=False, index=False)"
   ]
  },
  {
   "cell_type": "markdown",
   "metadata": {},
   "source": [
    "## Creating count vectors"
   ]
  },
  {
   "cell_type": "code",
   "execution_count": 13,
   "metadata": {},
   "outputs": [],
   "source": [
    "train_text = list(train_data.text.values)\n",
    "test_text = list(test_data.text.values)\n",
    "\n",
    "train_labels = train_data.label.values\n",
    "test_labels = test_data.label.values"
   ]
  },
  {
   "cell_type": "code",
   "execution_count": 14,
   "metadata": {},
   "outputs": [],
   "source": [
    "from sklearn.feature_extraction.text import CountVectorizer\n",
    "vectorizer = CountVectorizer()\n",
    "X = vectorizer.fit_transform(train_text)\n",
    "train_X = X.toarray()\n",
    "test_X = vectorizer.transform(test_text).toarray()\n",
    "test_x, test_y = test_X, test_labels\n",
    "train_x, train_y = train_X, train_labels"
   ]
  },
  {
   "cell_type": "markdown",
   "metadata": {},
   "source": [
    "## Without changing the size of the vector"
   ]
  },
  {
   "cell_type": "code",
   "execution_count": 15,
   "metadata": {},
   "outputs": [
    {
     "data": {
      "image/png": "[encoded data removed]",
      "text/plain": [
       "<Figure size 648x648 with 2 Axes>"
      ]
     },
     "metadata": {},
     "output_type": "display_data"
    }
   ],
   "source": [
    "lr = linear_model.LogisticRegression()\n",
    "lr.fit(train_x, train_y)\n",
    "pred = lr.predict(test_x)\n",
    "\n",
    "\n",
    "plot_confusion_matrix(truth=test_y,\n",
    "                      predictions=pred,\n",
    "                      save=False,\n",
    "                      path=\"linear_model_v1.png\",\n",
    "                      classes=labels_legend)\n"
   ]
  },
  {
   "cell_type": "markdown",
   "metadata": {},
   "source": [
    "## Adding score for each word depending on the classes"
   ]
  },
  {
   "cell_type": "code",
   "execution_count": 16,
   "metadata": {},
   "outputs": [],
   "source": [
    "def transform_X(X):\n",
    "    new_X = []\n",
    "    vocab_size = X.shape[1]\n",
    "    for x in X:\n",
    "        car = np.concatenate([np.zeros((vocab_size,)), x])\n",
    "        cdr = np.concatenate([x, np.zeros((vocab_size,))])\n",
    "        new = np.stack([car,cdr])\n",
    "        new_X.append(new)\n",
    "\n",
    "    return np.stack(new_X)\n"
   ]
  },
  {
   "cell_type": "code",
   "execution_count": 17,
   "metadata": {},
   "outputs": [
    {
     "data": {
      "image/png": "[encoded data removed]",
      "text/plain": [
       "<Figure size 648x648 with 2 Axes>"
      ]
     },
     "metadata": {},
     "output_type": "display_data"
    }
   ],
   "source": [
    "lr = linear_model.LogisticRegression()\n",
    "train_x_t = transform_X(train_x)\n",
    "train_x_t = train_x_t.reshape((train_x_t.shape[0], -1))\n",
    "\n",
    "lr.fit(train_x_t, train_y)\n",
    "\n",
    "test_x_t = transform_X(test_x)\n",
    "test_x_t = test_x_t.reshape((test_x_t.shape[0], -1))\n",
    "pred = lr.predict(test_x_t)\n",
    "\n",
    "plot_confusion_matrix(truth=test_y,\n",
    "                      predictions=pred,\n",
    "                      save=False,\n",
    "                      path=\"linear_model_v1.png\",\n",
    "                      classes=labels_legend)"
   ]
  },
  {
   "cell_type": "markdown",
   "metadata": {},
   "source": [
    "## Training in PyTorch"
   ]
  },
  {
   "cell_type": "code",
   "execution_count": 18,
   "metadata": {},
   "outputs": [],
   "source": [
    "class RNNConfig(object):\n",
    "    \"\"\"\n",
    "    Holds logistic regression model hyperparams.\n",
    "    \n",
    "    :param height: image height\n",
    "    :type heights: int\n",
    "    :param width: image width\n",
    "    :type width: int\n",
    "    :param channels: image channels\n",
    "    :type channels: int\n",
    "    :param batch_size: batch size for training\n",
    "    :type batch_size: int\n",
    "    :param epochs: number of epochs\n",
    "    :type epochs: int\n",
    "    :param save_step: when step % save_step == 0, the model\n",
    "                      parameters are saved.\n",
    "    :type save_step: int\n",
    "    :param learning_rate: learning rate for the optimizer\n",
    "    :type learning_rate: float\n",
    "    :param momentum: momentum param\n",
    "    :type momentum: float\n",
    "    \"\"\"\n",
    "    def __init__(self,\n",
    "                 vocab_size=25000,\n",
    "                 batch_size=32,\n",
    "                 embedding_dim=100,\n",
    "                 rnn_dim=100,\n",
    "                 output_dim=2,\n",
    "                 epochs=10,\n",
    "                 learning_rate=0.501,\n",
    "                 momentum=0.1):\n",
    "        self.vocab_size = vocab_size\n",
    "        self.batch_size = batch_size\n",
    "        self.embedding_dim = embedding_dim\n",
    "        self.rnn_dim = rnn_dim\n",
    "        self.output_dim = output_dim\n",
    "        self.epochs = epochs\n",
    "        self.learning_rate = learning_rate\n",
    "        self.momentum = momentum\n",
    "        \n",
    "\n",
    "    def __str__(self):\n",
    "        \"\"\"\n",
    "        Get all attributs values.\n",
    "        :return: all hyperparams as a string\n",
    "        :rtype: str\n",
    "        \"\"\"\n",
    "        status = \"vocab_size = {}\\n\".format(self.vocab_size)\n",
    "        status += \"batch_size = {}\\n\".format(self.batch_size)\n",
    "        status += \"embedding_dim = {}\\n\".format(self.embedding_dim)\n",
    "        status += \"rnn_dim = {}\\n\".format(self.rnn_dim)\n",
    "        status += \"output_dim = {}\\n\".format(self.output_dim)\n",
    "        status += \"epochs = {}\\n\".format(self.epochs)\n",
    "        status += \"learning_rate = {}\\n\".format(self.learning_rate)\n",
    "        status += \"momentum = {}\\n\".format(self.momentum)\n",
    "        return status"
   ]
  },
  {
   "cell_type": "code",
   "execution_count": 19,
   "metadata": {},
   "outputs": [],
   "source": [
    "from torch.utils.data import TensorDataset\n",
    "\n",
    "train_x_t = transform_X(train_x)\n",
    "train_x_t = train_x_t.reshape((train_x_t.shape[0], -1))\n",
    "\n",
    "test_x_t = transform_X(test_x)\n",
    "test_x_t = test_x_t.reshape((test_x_t.shape[0], -1))\n",
    "\n",
    "valid_x_t, valid_y = train_x_t[0:1000], train_y[0:1000]\n",
    "train_x_t, train_y = train_x_t[1000:], train_y[1000:]\n"
   ]
  },
  {
   "cell_type": "code",
   "execution_count": 20,
   "metadata": {},
   "outputs": [],
   "source": [
    "\n",
    "train_dataset = TensorDataset(torch.from_numpy(train_x_t),\n",
    "                              torch.from_numpy(train_y))\n",
    "valid_dataset = TensorDataset(torch.from_numpy(valid_x_t),\n",
    "                              torch.from_numpy(valid_y))\n",
    "test_dataset = TensorDataset(torch.from_numpy(test_x_t),\n",
    "                             torch.from_numpy(test_y))"
   ]
  },
  {
   "cell_type": "code",
   "execution_count": 21,
   "metadata": {},
   "outputs": [],
   "source": [
    "from torch.utils.data import DataLoader\n",
    "\n",
    "\n",
    "class DataHolderGentle():\n",
    "    \"\"\"\n",
    "    Class to store all data using the GentleLoader.\n",
    "\n",
    "    :param config: hyper params configuration\n",
    "    :type config: LRConfig or DFNConfig\n",
    "    :param train_dataset: dataset of training data\n",
    "    :type train_dataset: torch.utils.data.dataset.TensorDataset\n",
    "    :param test_dataset: dataset of test data\n",
    "    :type test_dataset: torch.utils.data.dataset.TensorDataset\n",
    "    :param valid_dataset: dataset of valid data\n",
    "    :type valid_dataset: torch.utils.data.dataset.TensorDataset\n",
    "    :param batch_size: batch size for training\n",
    "    :type test_batch: batch size for the testing data\n",
    "    :param test_batch: int\n",
    "    \"\"\"\n",
    "    def __init__(self,\n",
    "                 config,\n",
    "                 train_dataset,\n",
    "                 valid_dataset,\n",
    "                 test_dataset,\n",
    "                 test_batch=1000):\n",
    "        batch_size = config.batch_size\n",
    "        self.train_iter = DataLoader(dataset=train_dataset,\n",
    "                                         batch_size=batch_size,\n",
    "                                         shuffle=True)\n",
    "        self.valid_iter = DataLoader(dataset=valid_dataset,\n",
    "                                         batch_size=batch_size,\n",
    "                                         shuffle=True)\n",
    "        self.test_iter = DataLoader(dataset=test_dataset,\n",
    "                                        batch_size=test_batch,\n",
    "                                        shuffle=True)\n"
   ]
  },
  {
   "cell_type": "code",
   "execution_count": 22,
   "metadata": {},
   "outputs": [],
   "source": [
    "lr_config = RNNConfig(embedding_dim=2714*2)\n",
    "b1data = DataHolderGentle(lr_config, train_dataset, valid_dataset, test_dataset)"
   ]
  },
  {
   "cell_type": "code",
   "execution_count": 23,
   "metadata": {},
   "outputs": [
    {
     "name": "stdout",
     "output_type": "stream",
     "text": [
      "exemplo de batch de treinamento\n",
      "\n",
      "batch_X\n",
      "tensor([[ 0.,  0.,  0.,  ...,  0.,  0.,  0.],\n",
      "        [ 0.,  0.,  0.,  ...,  0.,  0.,  0.],\n",
      "        [ 0.,  0.,  0.,  ...,  0.,  0.,  0.],\n",
      "        ...,\n",
      "        [ 0.,  0.,  0.,  ...,  0.,  0.,  0.],\n",
      "        [ 0.,  0.,  0.,  ...,  0.,  0.,  0.],\n",
      "        [ 0.,  0.,  0.,  ...,  0.,  0.,  0.]], dtype=torch.float64)\n",
      "\n",
      "batch_X.type = torch.DoubleTensor\n",
      "\n",
      "batch_X.shape = torch.Size([32, 5428])\n",
      "\n",
      "\n",
      "batch_y\n",
      "tensor([ 1,  0,  0,  0,  0,  0,  1,  1,  1,  0,  1,  1,  0,  0,\n",
      "         0,  1,  0,  1,  0,  0,  1,  1,  1,  0,  0,  0,  1,  0,\n",
      "         1,  1,  1,  1])\n",
      "\n",
      "batch_y.type = torch.LongTensor\n",
      "\n",
      "batch_y.shape = torch.Size([32])\n",
      "\n"
     ]
    }
   ],
   "source": [
    "batch_X, batch_y = next(iter(b1data.train_iter))\n",
    "batch_X = batch_X\n",
    "print(\"exemplo de batch de treinamento\\n\")\n",
    "print(\"batch_X\")\n",
    "print(batch_X)\n",
    "print()\n",
    "print(\"batch_X.type =\", batch_X.type())\n",
    "print()\n",
    "print(\"batch_X.shape =\", batch_X.shape)\n",
    "print()\n",
    "print(\"\\nbatch_y\")\n",
    "print(batch_y)\n",
    "print()\n",
    "print(\"batch_y.type =\", batch_y.type())\n",
    "print()\n",
    "print(\"batch_y.shape =\", batch_y.shape)\n",
    "print()"
   ]
  },
  {
   "cell_type": "code",
   "execution_count": 24,
   "metadata": {},
   "outputs": [],
   "source": [
    "import torch.nn as nn\n",
    "class LR(nn.Module):\n",
    "    def __init__(self, config):\n",
    "        super().__init__()\n",
    "        self.fc = nn.Linear(config.embedding_dim, config.output_dim)\n",
    "        \n",
    "    def forward(self, x):\n",
    "        \"\"\"\n",
    "        Apply the model to the input x\n",
    "        \n",
    "        :param x: indices of the sentence\n",
    "        :type x: torch.Tensor(shape=[sent len, batch size]\n",
    "                              dtype=torch.int64)\n",
    "        \"\"\"        \n",
    "        out = self.fc(x)\n",
    "        return out\n",
    "\n",
    "    def predict(self, x):\n",
    "        out = self.forward(x)\n",
    "        softmax = nn.Softmax(dim=1)\n",
    "        out = softmax(out)\n",
    "        indices = torch.argmax(out, 1)\n",
    "        return indices\n",
    "\n",
    "    def evaluate_bach(self, batch):\n",
    "        prediction = model.predict(batch)\n",
    "        labels = batch.label.type('torch.LongTensor')\n",
    "        correct = torch.sum(torch.eq(prediction, labels)).float()\n",
    "        accuracy = float(correct/labels.shape[0])\n",
    "        return accuracy, prediction, labels"
   ]
  },
  {
   "cell_type": "code",
   "execution_count": 25,
   "metadata": {},
   "outputs": [],
   "source": [
    "test_bach = next(iter(b1data.test_iter))\n",
    "test_in = test_bach[0]\n",
    "test_in = test_in.type(torch.float32)"
   ]
  },
  {
   "cell_type": "code",
   "execution_count": 26,
   "metadata": {},
   "outputs": [
    {
     "data": {
      "text/plain": [
       "0.5339999794960022"
      ]
     },
     "execution_count": 26,
     "metadata": {},
     "output_type": "execute_result"
    }
   ],
   "source": [
    "lr_config = RNNConfig(embedding_dim=2714*2)\n",
    "model = LR(lr_config)\n",
    "prediction = model.predict(test_in)\n",
    "labels = test_bach[1].type('torch.LongTensor')\n",
    "correct = torch.sum(torch.eq(prediction, labels)).float()\n",
    "accuracy = float(correct/labels.shape[0])\n",
    "accuracy"
   ]
  },
  {
   "cell_type": "code",
   "execution_count": 27,
   "metadata": {},
   "outputs": [],
   "source": [
    "def train_model_img_classification(model,\n",
    "                                   config,\n",
    "                                   dataholder,\n",
    "                                   model_path,\n",
    "                                   verbose=True):\n",
    "    \"\"\"\n",
    "    Train a model for image classification\n",
    "\n",
    "    :param model: image classification model\n",
    "    :type model: LogisticRegression or DFN\n",
    "    :param config: image classification model\n",
    "    :type config: LogisticRegression or DFN\n",
    "    :param dataholder: data\n",
    "    :type dataholder: DataHolder\n",
    "    :param model_path: path to save model params\n",
    "    :type model_path: str\n",
    "    :param verbose: param to control print\n",
    "    :type verbose: bool\n",
    "    \"\"\"\n",
    "    train_loader = dataholder.train_iter\n",
    "    valid_loader = dataholder.valid_iter\n",
    "\n",
    "    best_valid_loss = float(\"inf\")\n",
    "    # YOUR CODE HERE:\n",
    "    # You may find nn.CrossEntropyLoss and torch.optim.SGD useful here.\n",
    "    criterion = nn.CrossEntropyLoss()\n",
    "    optimizer = torch.optim.SGD(model.parameters(),\n",
    "                                lr=config.learning_rate,\n",
    "                                momentum=config.momentum)\n",
    "    # END YOUR CODE\n",
    "    train_loss = []\n",
    "    valid_loss = []\n",
    "    for epoch in range(config.epochs):\n",
    "        for step, (images, labels) in enumerate(train_loader):\n",
    "            # YOUR CODE HERE:\n",
    "            # you should zero the model gradients\n",
    "            # and define the loss function for the train data\n",
    "            # loss = None\n",
    "            model.zero_grad()\n",
    "            images = images.type(torch.float32)\n",
    "            outputs = model(images)\n",
    "            loss = criterion(outputs, labels)\n",
    "            # END YOUR CODE\n",
    "            if step % 20 == 0:\n",
    "                # YOUR CODE HERE:\n",
    "                # you should define the loss function for the valid data\n",
    "                # v_loss = None\n",
    "                images, labels = next(iter(valid_loader))\n",
    "                images = images.type(torch.float32)\n",
    "                outputs = model(images)\n",
    "                v_loss = criterion(outputs, labels)\n",
    "                # END YOUR CODE\n",
    "                valid_loss.append(float(v_loss))\n",
    "                train_loss.append(float(loss))\n",
    "                if float(v_loss) < best_valid_loss:\n",
    "                    msg = \"\\ntrain_loss = {:.3f} | valid_loss = {:.3f}\".format(float(loss),float(v_loss)) # noqa\n",
    "                    torch.save(model.state_dict(), model_path)\n",
    "                    best_valid_loss = float(v_loss)\n",
    "                    if verbose:\n",
    "                        print(msg, end=\"\") # noqa\n",
    "            # YOUR CODE HERE:\n",
    "            # you should do the back propagation\n",
    "            # and do the optimization step\n",
    "            loss.backward()\n",
    "            optimizer.step()\n",
    "            # END YOUR CODE\n",
    "    if verbose:\n",
    "        x = np.arange(1, len(train_loss) + 1, 1)\n",
    "        fig, ax = plt.subplots(1, 1, figsize=(12, 5))\n",
    "        ax.plot(x, train_loss, label='train loss')\n",
    "        ax.plot(x, valid_loss, label='valid loss')\n",
    "        ax.legend()\n",
    "        plt.xlabel('step')\n",
    "        plt.ylabel('loss')\n",
    "        plt.title('Train and valid loss')\n",
    "        plt.grid(True)\n",
    "        plt.show()"
   ]
  },
  {
   "cell_type": "code",
   "execution_count": 28,
   "metadata": {},
   "outputs": [
    {
     "name": "stdout",
     "output_type": "stream",
     "text": [
      "\n",
      "train_loss = 0.690 | valid_loss = 0.693\n",
      "train_loss = 0.633 | valid_loss = 0.667\n",
      "train_loss = 0.657 | valid_loss = 0.585"
     ]
    },
    {
     "data": {
      "image/png": "[encoded data removed]",
      "text/plain": [
       "<Figure size 864x360 with 1 Axes>"
      ]
     },
     "metadata": {},
     "output_type": "display_data"
    }
   ],
   "source": [
    "train_model_img_classification(model, lr_config, b1data,\"d.pkl\")"
   ]
  },
  {
   "cell_type": "markdown",
   "metadata": {},
   "source": [
    "### Accuracy after training"
   ]
  },
  {
   "cell_type": "code",
   "execution_count": 29,
   "metadata": {},
   "outputs": [
    {
     "data": {
      "text/plain": [
       "0.4819999933242798"
      ]
     },
     "execution_count": 29,
     "metadata": {},
     "output_type": "execute_result"
    }
   ],
   "source": [
    "prediction = model.predict(test_in)\n",
    "labels = test_bach[1].type('torch.LongTensor')\n",
    "correct = torch.sum(torch.eq(prediction, labels)).float()\n",
    "accuracy = float(correct/labels.shape[0])\n",
    "accuracy"
   ]
  }
 ],
 "metadata": {
  "kernelspec": {
   "display_name": "Python 3",
   "language": "python",
   "name": "python3"
  },
  "language_info": {
   "codemirror_mode": {
    "name": "ipython",
    "version": 3
   },
   "file_extension": ".py",
   "mimetype": "text/x-python",
   "name": "python",
   "nbconvert_exporter": "python",
   "pygments_lexer": "ipython3",
   "version": "3.5.2"
  }
 },
 "nbformat": 4,
 "nbformat_minor": 2
}
