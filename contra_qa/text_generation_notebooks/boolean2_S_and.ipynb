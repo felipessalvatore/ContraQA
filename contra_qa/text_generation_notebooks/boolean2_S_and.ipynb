{
 "cells": [
  {
   "cell_type": "markdown",
   "metadata": {},
   "source": [
    "# Dataset boolean2: sentences conjoined by and\n",
    "\n",
    "Generating sentences of the form\n",
    "\n",
    "- 1) **c is P and d is Q, c is not P** (contradiction)\n",
    "\n",
    "- 2) **c is P and d is Q, d is not Q** (contradiction)\n",
    "\n",
    "- 3) **c is P and d is Q, e is (not) W** (non-contradiction)\n",
    "\n",
    "- 4) **c is P and d is Q, c (d) is not Q(P)** (non-contradiction)"
   ]
  },
  {
   "cell_type": "code",
   "execution_count": 1,
   "metadata": {},
   "outputs": [
    {
     "name": "stderr",
     "output_type": "stream",
     "text": [
      "/usr/lib/python3.5/importlib/_bootstrap.py:222: RuntimeWarning: numpy.dtype size changed, may indicate binary incompatibility. Expected 96, got 88\n",
      "  return f(*args, **kwds)\n",
      "/usr/lib/python3.5/importlib/_bootstrap.py:222: RuntimeWarning: numpy.dtype size changed, may indicate binary incompatibility. Expected 96, got 88\n",
      "  return f(*args, **kwds)\n",
      "/usr/lib/python3.5/importlib/_bootstrap.py:222: RuntimeWarning: numpy.dtype size changed, may indicate binary incompatibility. Expected 96, got 88\n",
      "  return f(*args, **kwds)\n",
      "/usr/lib/python3.5/importlib/_bootstrap.py:222: RuntimeWarning: numpy.dtype size changed, may indicate binary incompatibility. Expected 96, got 88\n",
      "  return f(*args, **kwds)\n",
      "/usr/lib/python3.5/importlib/_bootstrap.py:222: RuntimeWarning: numpy.dtype size changed, may indicate binary incompatibility. Expected 96, got 88\n",
      "  return f(*args, **kwds)\n",
      "/usr/lib/python3.5/importlib/_bootstrap.py:222: RuntimeWarning: numpy.dtype size changed, may indicate binary incompatibility. Expected 96, got 88\n",
      "  return f(*args, **kwds)\n"
     ]
    }
   ],
   "source": [
    "import numpy as np\n",
    "import pandas as pd\n",
    "from word_lists import name_list, positive_personality_list, condition_list\n",
    "import os\n",
    "import inspect\n",
    "import sys\n",
    "import itertools\n",
    "\n",
    "almost_current = os.path.abspath(inspect.getfile(inspect.currentframe()))\n",
    "currentdir = os.path.dirname(almost_current)\n",
    "parentdir = os.path.dirname(currentdir)\n",
    "sys.path.insert(0, parentdir)\n",
    "\n",
    "from plots.functions import plot_histogram_from_labels # noqa\n",
    "\n",
    "% matplotlib inline"
   ]
  },
  {
   "cell_type": "markdown",
   "metadata": {},
   "source": [
    "### Generating atoms"
   ]
  },
  {
   "cell_type": "code",
   "execution_count": 2,
   "metadata": {},
   "outputs": [],
   "source": [
    "template1 = itertools.product(name_list, positive_personality_list)\n",
    "template1 = list(template1)\n",
    "template2 = itertools.product(name_list, condition_list)\n",
    "template2 = list(template2)\n",
    "upper_bound = 11000/4"
   ]
  },
  {
   "cell_type": "markdown",
   "metadata": {},
   "source": [
    "### Generating all types of sentences"
   ]
  },
  {
   "cell_type": "markdown",
   "metadata": {},
   "source": [
    "- 1) **c is P and d is Q, c is not P** (contradiction)"
   ]
  },
  {
   "cell_type": "code",
   "execution_count": 3,
   "metadata": {},
   "outputs": [
    {
     "name": "stdout",
     "output_type": "stream",
     "text": [
      "['Penny is gentle and Jimmie is kind', ' Penny is not gentle', 1]\n",
      "['Fannie is proud and Crystal is calm', ' Fannie is not proud', 1]\n",
      "['Rosie is wonderful and Arlene is polite', ' Rosie is not wonderful', 1]\n",
      "['Sean is kind and Ann is zealous', ' Sean is not kind', 1]\n",
      "['Renee is wonderful and Dawn is wonderful', ' Renee is not wonderful', 1]\n",
      "['Lindsay is ambitious and Morris is gentle', ' Lindsay is not ambitious', 1]\n",
      "['Seth is proud and Peter is lively', ' Seth is not proud', 1]\n",
      "['Paula is brave and Erin is proud', ' Paula is not brave', 1]\n",
      "['Nicholas is brave and Howard is nice', ' Nicholas is not brave', 1]\n",
      "['Tyler is agreeable and Angel is proud', ' Tyler is not agreeable', 1]\n"
     ]
    }
   ],
   "source": [
    "np.random.shuffle(template1)\n",
    "all_sentences_1 = []\n",
    "for i in range(int(upper_bound)):\n",
    "    car, cdr = template1[i]\n",
    "    caar, cdrr = car, cdr\n",
    "    while caar == car and cdrr == cdr:\n",
    "        new_i = np.random.choice(len(template1))\n",
    "        caar, cdrr = template1[new_i]\n",
    "    all_sentences_1.append(\"{} is {} and {} is {}, {} is not {}\".format(car,cdr,caar, cdrr,car,cdr))\n",
    "\n",
    "    \n",
    "all_sentences_1 = [sentence.split(\",\") + [1] for sentence in all_sentences_1]\n",
    "\n",
    "for sentence in all_sentences_1[0:10]:\n",
    "    print(sentence)\n"
   ]
  },
  {
   "cell_type": "markdown",
   "metadata": {},
   "source": [
    "- 2) **c is P and d is Q, d is not Q** (contradiction)"
   ]
  },
  {
   "cell_type": "code",
   "execution_count": 4,
   "metadata": {},
   "outputs": [
    {
     "name": "stdout",
     "output_type": "stream",
     "text": [
      "['Jean is wrong and Candace is tender', ' Candace is not tender', 1]\n",
      "['Leon is odd and Russell is hallowed', ' Russell is not hallowed', 1]\n",
      "['Marion is rich and Dorothy is helpful', ' Dorothy is not helpful', 1]\n",
      "['Frank is odd and Kirk is unimportant', ' Kirk is not unimportant', 1]\n",
      "['Deborah is inexpensive and Adrian is better', ' Adrian is not better', 1]\n",
      "['Jason is vast and Deanna is hallowed', ' Deanna is not hallowed', 1]\n",
      "['Danielle is vast and Katie is wrong', ' Katie is not wrong', 1]\n",
      "['Chad is careful and Willard is clever', ' Willard is not clever', 1]\n",
      "['Alfred is alive and Steven is better', ' Steven is not better', 1]\n",
      "['Pamela is wrong and Mary is easy', ' Mary is not easy', 1]\n"
     ]
    }
   ],
   "source": [
    "np.random.shuffle(template2)\n",
    "all_sentences_2 = []\n",
    "for i in range(int(upper_bound)):\n",
    "    car, cdr = template2[i]\n",
    "    caar, cdrr = car, cdr\n",
    "    while caar == car and cdrr == cdr:\n",
    "        new_i = np.random.choice(len(template2))\n",
    "        caar, cdrr = template2[new_i]\n",
    "    all_sentences_2.append(\"{} is {} and {} is {}, {} is not {}\".format(car,cdr,caar,cdrr,caar,cdrr))\n",
    "\n",
    "all_sentences_2 = [sentence.split(\",\") + [1] for sentence in all_sentences_2]\n",
    "\n",
    "for sentence in all_sentences_2[0:10]:\n",
    "    print(sentence)    \n"
   ]
  },
  {
   "cell_type": "markdown",
   "metadata": {},
   "source": [
    "- 3) **c is P and d is Q, e is (not) W** (non-contradiction)"
   ]
  },
  {
   "cell_type": "code",
   "execution_count": 5,
   "metadata": {},
   "outputs": [
    {
     "name": "stdout",
     "output_type": "stream",
     "text": [
      "['Victoria is aggressive and Felicia is eager', ' Mamie is tender', 0]\n",
      "['Ian is brave and Karen is jolly', ' Jenny is not rich', 0]\n",
      "['Antonio is faithful and Jeanette is thankful', ' Olga is gifted', 0]\n",
      "['John is polite and Courtney is witty', ' Jason is not vast', 0]\n",
      "['Mae is proud and Charles is lively', ' Felicia is important', 0]\n",
      "['Hazel is kind and Cassandra is aggressive', ' Denise is not hallowed', 0]\n",
      "['Sonya is jolly and Jessie is lively', ' Janie is better', 0]\n",
      "['Edward is agreeable and Warren is faithful', ' Gabriel is not famous', 0]\n",
      "['Fred is brave and Maryann is aggressive', ' Cheryl is dead', 0]\n",
      "['Jimmy is wonderful and Rafael is delightful', ' Suzanne is not hallowed', 0]\n"
     ]
    }
   ],
   "source": [
    "np.random.shuffle(template1)\n",
    "np.random.shuffle(template2)\n",
    "all_sentences_3 = []\n",
    "for i in range(int(upper_bound)):\n",
    "    car, cdr = template1[i]\n",
    "    caar, cdrr = car, cdr\n",
    "    while caar == car and cdrr == cdr:\n",
    "        new_i = np.random.choice(len(template1))\n",
    "        caar, cdrr = template1[new_i]\n",
    "    third_i = np.random.choice(len(template2))\n",
    "    caaar, cdrrr = template2[third_i]\n",
    "    if i%2 == 0:\n",
    "        my_not = \"is\"\n",
    "    else:\n",
    "        my_not = \"is not\"\n",
    "    sentence = \"{} is {} and {} is {}, {} {} {}\".format(car,cdr,caar,cdrr,caaar,my_not,cdrrr)\n",
    "    all_sentences_3.append(sentence)\n",
    "\n",
    "all_sentences_3 = [sentence.split(\",\") + [0] for sentence in all_sentences_3]\n",
    "\n",
    "for sentence in all_sentences_3[0:10]:\n",
    "    print(sentence)"
   ]
  },
  {
   "cell_type": "markdown",
   "metadata": {},
   "source": [
    "- 4) **c is P and d is Q, c (d) is not Q(P)** (non-contradiction)"
   ]
  },
  {
   "cell_type": "code",
   "execution_count": 6,
   "metadata": {},
   "outputs": [
    {
     "name": "stdout",
     "output_type": "stream",
     "text": [
      "['Katherine is zealous and Bernice is famous', ' Katherine is not famous', 0]\n",
      "['Philip is jolly and Annette is important', ' Annette is not jolly', 0]\n",
      "['Clifton is zealous and Jay is mealy', ' Clifton is not mealy', 0]\n",
      "['Cecilia is kind and Raul is helpful', ' Raul is not kind', 0]\n",
      "['Pamela is aggressive and Johnny is alive', ' Pamela is not alive', 0]\n",
      "['Irene is nice and Tonya is important', ' Tonya is not nice', 0]\n",
      "['Audrey is calm and Leslie is vast', ' Audrey is not vast', 0]\n",
      "['Felix is lively and Leslie is famous', ' Leslie is not lively', 0]\n",
      "['Jeremy is jolly and Bill is alive', ' Jeremy is not alive', 0]\n",
      "['Lola is zealous and Randall is alive', ' Randall is not zealous', 0]\n"
     ]
    }
   ],
   "source": [
    "np.random.shuffle(template1)\n",
    "np.random.shuffle(template2)\n",
    "all_sentences_4 = []\n",
    "for i in range(int(upper_bound)):\n",
    "    car, cdr = template1[i]\n",
    "    caar, cdrr = car, cdr\n",
    "    while caar == car and cdrr == cdr:\n",
    "        new_i = np.random.choice(len(template2))\n",
    "        caar, cdrr = template2[new_i]\n",
    "    if i%2 == 0:\n",
    "        caaar, cdrrr = car, cdrr\n",
    "    else:\n",
    "        caaar, cdrrr = caar, cdr\n",
    "    sentence = \"{} is {} and {} is {}, {} is not {}\".format(car,cdr,caar,cdrr,caaar,cdrrr)\n",
    "    all_sentences_4.append(sentence)\n",
    "\n",
    "all_sentences_4 = [sentence.split(\",\") + [0] for sentence in all_sentences_4]\n",
    "\n",
    "for sentence in all_sentences_4[0:10]:\n",
    "    print(sentence)"
   ]
  },
  {
   "cell_type": "code",
   "execution_count": 7,
   "metadata": {},
   "outputs": [
    {
     "name": "stdout",
     "output_type": "stream",
     "text": [
      "type 1 size = 2750\n",
      "type 2 size = 2750\n",
      "type 3 size = 2750\n",
      "type 4 size = 2750\n",
      "total size = 11000\n"
     ]
    }
   ],
   "source": [
    "np.random.shuffle(all_sentences_1)\n",
    "np.random.shuffle(all_sentences_2)\n",
    "np.random.shuffle(all_sentences_3)\n",
    "np.random.shuffle(all_sentences_4)\n",
    "\n",
    "\n",
    "\n",
    "size1 = len(all_sentences_1)\n",
    "size2 = len(all_sentences_2)\n",
    "size3 = len(all_sentences_3)\n",
    "size4 = len(all_sentences_4)\n",
    "\n",
    "all_sentences = all_sentences_1 + all_sentences_2 + all_sentences_3 + all_sentences_4\n",
    "size = len(all_sentences)\n",
    "\n",
    "print(\"type 1 size = {}\".format(size1))\n",
    "print(\"type 2 size = {}\".format(size2))\n",
    "print(\"type 3 size = {}\".format(size3))\n",
    "print(\"type 4 size = {}\".format(size4))\n",
    "print(\"total size = {}\".format(size))"
   ]
  },
  {
   "cell_type": "markdown",
   "metadata": {},
   "source": [
    "### Generating a train DataFrame with 10000 examples and a test DataFrame with 1000 examples "
   ]
  },
  {
   "cell_type": "code",
   "execution_count": 8,
   "metadata": {},
   "outputs": [
    {
     "data": {
      "text/html": [
       "<div>\n",
       "<style scoped>\n",
       "    .dataframe tbody tr th:only-of-type {\n",
       "        vertical-align: middle;\n",
       "    }\n",
       "\n",
       "    .dataframe tbody tr th {\n",
       "        vertical-align: top;\n",
       "    }\n",
       "\n",
       "    .dataframe thead th {\n",
       "        text-align: right;\n",
       "    }\n",
       "</style>\n",
       "<table border=\"1\" class=\"dataframe\">\n",
       "  <thead>\n",
       "    <tr style=\"text-align: right;\">\n",
       "      <th></th>\n",
       "      <th>sentence1</th>\n",
       "      <th>sentence2</th>\n",
       "      <th>label</th>\n",
       "    </tr>\n",
       "  </thead>\n",
       "  <tbody>\n",
       "    <tr>\n",
       "      <th>10995</th>\n",
       "      <td>Roland is wrong and Alicia is vast</td>\n",
       "      <td>Alicia is not vast</td>\n",
       "      <td>1</td>\n",
       "    </tr>\n",
       "    <tr>\n",
       "      <th>10996</th>\n",
       "      <td>Wade is agreeable and Reginald is wonderful</td>\n",
       "      <td>Guadalupe is shy</td>\n",
       "      <td>0</td>\n",
       "    </tr>\n",
       "    <tr>\n",
       "      <th>10997</th>\n",
       "      <td>Gary is victorious and Gwendolyn is ambitious</td>\n",
       "      <td>Marion is not famous</td>\n",
       "      <td>0</td>\n",
       "    </tr>\n",
       "    <tr>\n",
       "      <th>10998</th>\n",
       "      <td>Gilbert is important and Jeffrey is tender</td>\n",
       "      <td>Jeffrey is not tender</td>\n",
       "      <td>1</td>\n",
       "    </tr>\n",
       "    <tr>\n",
       "      <th>10999</th>\n",
       "      <td>Yolanda is silly and Blanche is wonderful</td>\n",
       "      <td>Lance is not unimportant</td>\n",
       "      <td>0</td>\n",
       "    </tr>\n",
       "  </tbody>\n",
       "</table>\n",
       "</div>"
      ],
      "text/plain": [
       "                                           sentence1  \\\n",
       "10995             Roland is wrong and Alicia is vast   \n",
       "10996    Wade is agreeable and Reginald is wonderful   \n",
       "10997  Gary is victorious and Gwendolyn is ambitious   \n",
       "10998     Gilbert is important and Jeffrey is tender   \n",
       "10999      Yolanda is silly and Blanche is wonderful   \n",
       "\n",
       "                       sentence2  label  \n",
       "10995         Alicia is not vast      1  \n",
       "10996           Guadalupe is shy      0  \n",
       "10997       Marion is not famous      0  \n",
       "10998      Jeffrey is not tender      1  \n",
       "10999   Lance is not unimportant      0  "
      ]
     },
     "execution_count": 8,
     "metadata": {},
     "output_type": "execute_result"
    }
   ],
   "source": [
    "sentence_1 = [triple[0] for triple in all_sentences]\n",
    "sentence_2 = [triple[1] for triple in all_sentences]\n",
    "label = [triple[2] for triple in all_sentences]\n",
    "\n",
    "df_dict = {\"sentence1\": sentence_1,\n",
    "           \"sentence2\": sentence_2,\n",
    "           \"label\": label}\n",
    "        \n",
    "df = pd.DataFrame(df_dict)\n",
    "df = df[[\"sentence1\", \"sentence2\", \"label\"]]\n",
    "df = df.sample(frac=1).reset_index(drop=True)\n",
    "\n",
    "df_train = df.iloc[:10000]\n",
    "df_test = df.iloc[10000:]\n",
    "\n",
    "df.tail()    "
   ]
  },
  {
   "cell_type": "markdown",
   "metadata": {},
   "source": [
    "#### Looking at the label distribution"
   ]
  },
  {
   "cell_type": "code",
   "execution_count": 11,
   "metadata": {},
   "outputs": [
    {
     "data": {
      "image/png": "[encoded data removed]",
      "text/plain": [
       "<Figure size 432x288 with 1 Axes>"
      ]
     },
     "metadata": {},
     "output_type": "display_data"
    }
   ],
   "source": [
    "train_label = df_train[\"label\"].values\n",
    "plot_histogram_from_labels(train_label, [\"no\", \"yes\"], \"boolean2_train.png\")"
   ]
  },
  {
   "cell_type": "code",
   "execution_count": 10,
   "metadata": {},
   "outputs": [
    {
     "data": {
      "image/png": "[encoded data removed]",
      "text/plain": [
       "<Figure size 432x288 with 1 Axes>"
      ]
     },
     "metadata": {},
     "output_type": "display_data"
    }
   ],
   "source": [
    "test_label = df_test[\"label\"].values\n",
    "plot_histogram_from_labels(test_label, [\"no\", \"yes\"], \"boolean2_test.png\")"
   ]
  },
  {
   "cell_type": "markdown",
   "metadata": {},
   "source": [
    "### Saving to CSV"
   ]
  },
  {
   "cell_type": "code",
   "execution_count": 12,
   "metadata": {},
   "outputs": [],
   "source": [
    "df_train.to_csv(\"boolean2_train.csv\", index=False)\n",
    "df_test.to_csv(\"boolean2_test.csv\", index=False)"
   ]
  }
 ],
 "metadata": {
  "kernelspec": {
   "display_name": "Python 3",
   "language": "python",
   "name": "python3"
  },
  "language_info": {
   "codemirror_mode": {
    "name": "ipython",
    "version": 3
   },
   "file_extension": ".py",
   "mimetype": "text/x-python",
   "name": "python",
   "nbconvert_exporter": "python",
   "pygments_lexer": "ipython3",
   "version": "3.5.2"
  }
 },
 "nbformat": 4,
 "nbformat_minor": 2
}
