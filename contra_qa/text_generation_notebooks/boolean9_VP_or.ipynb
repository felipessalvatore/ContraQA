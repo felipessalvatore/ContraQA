{
 "cells": [
  {
   "cell_type": "markdown",
   "metadata": {},
   "source": [
    "# Dataset boolean9: VP conjoined by and\n",
    "\n",
    "Generating sentences of the form\n",
    "\n",
    "- 1) **c will VERB1 COMPLEMENT1 or  VERB2 COMPLEMENT2, c will neither VERB1 COMPLEMENT1 nor VERB2 COMPLEMENT2 ** (contradiction)\n",
    "\n",
    "\n",
    "- 2) **c will VERB1 COMPLEMENT1 or VERB2 COMPLEMENT2, c will not VERB1 COMPLEMENT1 and c will not  VERB2 COMPLEMENT2 ** (contradiction)\n",
    "\n",
    "\n",
    "- 3) **c will VERB1 COMPLEMENT1 or VERB2 COMPLEMENT2, c will not VERB1 COMPLEMENT1 (VERB2 COMPLEMENT2)** (non-contradiction)\n",
    "\n",
    "\n",
    "- 4) **c will VERB1 COMPLEMENT1 or  VERB2 COMPLEMENT2, d(c) will neither VERB1 COMPLEMENT1 (VERB3 COMPLEMENT3) nor VERB2 COMPLEMENT2 (VERB3 COMPLEMENT3) ** (non-contradiction)\n"
   ]
  },
  {
   "cell_type": "code",
   "execution_count": 1,
   "metadata": {},
   "outputs": [
    {
     "name": "stderr",
     "output_type": "stream",
     "text": [
      "/usr/lib/python3.5/importlib/_bootstrap.py:222: RuntimeWarning: numpy.dtype size changed, may indicate binary incompatibility. Expected 96, got 88\n",
      "  return f(*args, **kwds)\n",
      "/usr/lib/python3.5/importlib/_bootstrap.py:222: RuntimeWarning: numpy.dtype size changed, may indicate binary incompatibility. Expected 96, got 88\n",
      "  return f(*args, **kwds)\n",
      "/usr/lib/python3.5/importlib/_bootstrap.py:222: RuntimeWarning: numpy.dtype size changed, may indicate binary incompatibility. Expected 96, got 88\n",
      "  return f(*args, **kwds)\n",
      "/usr/lib/python3.5/importlib/_bootstrap.py:222: RuntimeWarning: numpy.dtype size changed, may indicate binary incompatibility. Expected 96, got 88\n",
      "  return f(*args, **kwds)\n",
      "/usr/lib/python3.5/importlib/_bootstrap.py:222: RuntimeWarning: numpy.dtype size changed, may indicate binary incompatibility. Expected 96, got 88\n",
      "  return f(*args, **kwds)\n",
      "/usr/lib/python3.5/importlib/_bootstrap.py:222: RuntimeWarning: numpy.dtype size changed, may indicate binary incompatibility. Expected 96, got 88\n",
      "  return f(*args, **kwds)\n"
     ]
    }
   ],
   "source": [
    "import numpy as np\n",
    "import pandas as pd\n",
    "from word_lists import male_names, female_names, name_list\n",
    "from word_lists import professions, color_list, city_list\n",
    "from word_lists import verbs_third_person_past, verbs_third_person_past_CONTEXT\n",
    "from word_lists import verbs_third_person_past_infinitiv_neg, positive_personality_list\n",
    "import os\n",
    "import inspect\n",
    "import sys\n",
    "import itertools\n",
    "\n",
    "\n",
    "almost_current = os.path.abspath(inspect.getfile(inspect.currentframe()))\n",
    "currentdir = os.path.dirname(almost_current)\n",
    "parentdir = os.path.dirname(currentdir)\n",
    "sys.path.insert(0, parentdir)\n",
    "\n",
    "from plots.functions import plot_histogram_from_labels # noqa\n",
    "\n",
    "% matplotlib inline"
   ]
  },
  {
   "cell_type": "code",
   "execution_count": 2,
   "metadata": {},
   "outputs": [],
   "source": [
    "def get_new_item(item_list, src_list):\n",
    "    size = len(src_list)\n",
    "    new_item = src_list[np.random.choice(size)]\n",
    "    while new_item in item_list: \n",
    "        new_i = np.random.choice(size)\n",
    "        new_item = src_list[new_i]\n",
    "    return new_item"
   ]
  },
  {
   "cell_type": "code",
   "execution_count": 3,
   "metadata": {},
   "outputs": [],
   "source": [
    "for i in range(len(name_list)):\n",
    "    name = get_new_item([], name_list)\n",
    "    new_name = get_new_item([name], name_list)\n",
    "    assert name != new_name and name in name_list and new_name in name_list"
   ]
  },
  {
   "cell_type": "code",
   "execution_count": 4,
   "metadata": {},
   "outputs": [],
   "source": [
    "def replace_words(input_str, person, color, city, profession, pred):\n",
    "    input_str = input_str.replace(\"PERSON's\", person + \"'s\")\n",
    "    input_str = input_str.replace(\"PERSON\", person)    \n",
    "    input_str = input_str.replace(\"COLOR\", color)\n",
    "    input_str = input_str.replace(\"CITY\", city)\n",
    "    input_str = input_str.replace(\"PROFESSION\", profession)\n",
    "    input_str = input_str.replace(\"PRED\", pred)\n",
    "    return input_str"
   ]
  },
  {
   "cell_type": "code",
   "execution_count": 5,
   "metadata": {},
   "outputs": [
    {
     "name": "stdout",
     "output_type": "stream",
     "text": [
      "Felipe's house\n",
      "a blue car\n",
      "Felipe a blue car\n",
      "me drive Felipe's blue car\n",
      "what Felipe comment about Cluj\n",
      "of the being a saylor\n",
      "a brave person\n"
     ]
    }
   ],
   "source": [
    "print(replace_words(\"PERSON's house\", \"Felipe\", \"blue\", \"Cluj\", \"saylor\", \"brave\"))\n",
    "print(replace_words(\"a COLOR car\", \"Felipe\", \"blue\", \"Cluj\", \"saylor\", \"brave\"))\n",
    "print(replace_words(\"PERSON a COLOR car\", \"Felipe\", \"blue\", \"Cluj\", \"saylor\", \"brave\"))\n",
    "print(replace_words(\"me drive PERSON's COLOR car\", \"Felipe\", \"blue\", \"Cluj\", \"saylor\", \"brave\"))\n",
    "print(replace_words(\"what PERSON comment about CITY\", \"Felipe\", \"blue\", \"Cluj\", \"saylor\", \"brave\"))\n",
    "print(replace_words(\"of the being a PROFESSION\", \"Felipe\", \"blue\", \"Cluj\", \"saylor\", \"brave\"))\n",
    "print(replace_words(\"a PRED person\", \"Felipe\", \"blue\", \"Cluj\", \"saylor\", \"brave\"))"
   ]
  },
  {
   "cell_type": "code",
   "execution_count": 6,
   "metadata": {},
   "outputs": [],
   "source": [
    "upper_bound = 11000 / 4"
   ]
  },
  {
   "cell_type": "markdown",
   "metadata": {},
   "source": [
    "Creating a dict of infinitv verbs 2 context\n",
    "\n",
    "#### IMPORTANTE EH PRECISO VER SE TODOS OS CONTEXTOS ESTAO NO FUTURO"
   ]
  },
  {
   "cell_type": "code",
   "execution_count": 7,
   "metadata": {},
   "outputs": [],
   "source": [
    "inf2past = {}\n",
    "for k, v in verbs_third_person_past_infinitiv_neg.items():\n",
    "    if k != \"was\":\n",
    "        words = v.split(\" \")\n",
    "        inf2past[words[1]] = k\n",
    "\n",
    "infinitv_verbs = list(inf2past.keys())        \n",
    "        \n",
    "infinitiv_CONTEXT = {}\n",
    "for verb in infinitv_verbs:\n",
    "    infinitiv_CONTEXT[verb] = verbs_third_person_past_CONTEXT[inf2past[verb]]"
   ]
  },
  {
   "cell_type": "markdown",
   "metadata": {},
   "source": [
    "- 1) **c will VERB1 COMPLEMENT1 or  VERB2 COMPLEMENT2, c will neither VERB1 COMPLEMENT1 nor VERB2 COMPLEMENT2 ** (contradiction)"
   ]
  },
  {
   "cell_type": "code",
   "execution_count": 8,
   "metadata": {},
   "outputs": [
    {
     "name": "stdout",
     "output_type": "stream",
     "text": [
      "['Beulah will stand in front of the crowd or grow up', 'Beulah will neither stand in front of the crowd nor grow up', 1]\n",
      "['Lloyd will pay her or hear me', 'Lloyd will neither pay her nor hear me', 1]\n",
      "[\"Leslie will drive the truck to Charlene's house or blow it when he didn't invest in Amazon\", \"Leslie will neither drive the truck to Charlene's house nor blow it when he didn't invest in Amazon\", 1]\n",
      "['Erika will lose the salmon car in Vaslui or come at noon', 'Erika will neither lose the salmon car in Vaslui nor come at noon', 1]\n",
      "['Beverly will spend all my money or give Paula a yellow bicycle', 'Beverly will neither spend all my money nor give Paula a yellow bicycle', 1]\n",
      "['Nicole will hold him close or send me a note', 'Nicole will neither hold him close nor send me a note', 1]\n",
      "['Rosemary will hang up on me or build an airplane', 'Rosemary will neither hang up on me nor build an airplane', 1]\n",
      "['Iris will meet him or hear me', 'Iris will neither meet him nor hear me', 1]\n",
      "['Steven will hurt me or have a salmon car', 'Steven will neither hurt me nor have a salmon car', 1]\n",
      "['Edward will say nice things or let this happen', 'Edward will neither say nice things nor let this happen', 1]\n"
     ]
    }
   ],
   "source": [
    "all_sentences_1 = []\n",
    "for i in range(int(upper_bound)):\n",
    "    person = get_new_item([], name_list)\n",
    "    person1 = get_new_item([person], name_list)\n",
    "    person2 = get_new_item([person, person1], name_list)\n",
    "    pred1 = get_new_item([], positive_personality_list)\n",
    "    pred2 = get_new_item([pred1], positive_personality_list)\n",
    "    color1 = get_new_item([], color_list)\n",
    "    color2 = get_new_item([color1], color_list)\n",
    "    city1 =  get_new_item([], city_list)\n",
    "    city2 =  get_new_item([city1], city_list)\n",
    "    profession1 = get_new_item([], professions)\n",
    "    profession2 = get_new_item([profession1], professions)\n",
    "    verb1 = get_new_item([], infinitv_verbs)\n",
    "    verb2 = get_new_item([verb1], infinitv_verbs)\n",
    "    context = infinitiv_CONTEXT[verb1]\n",
    "    complement1 = get_new_item([], context)\n",
    "    complement1 = replace_words(complement1, person1, color1, city1, profession1, pred1)\n",
    "    context = infinitiv_CONTEXT[verb2]\n",
    "    complement2 = get_new_item([], context)\n",
    "    complement2 = replace_words(complement2, person2, color2, city2, profession2, pred2)\n",
    "    sentence = \"{} will {} {} or {} {},{} will neither {} {} nor {} {}\".format(person,\n",
    "                                                                                  verb1,\n",
    "                                                                                  complement1,\n",
    "                                                                                  verb2,\n",
    "                                                                                  complement2,\n",
    "                                                                                  person,\n",
    "                                                                                  verb1,\n",
    "                                                                                  complement1,\n",
    "                                                                                  verb2,\n",
    "                                                                                  complement2,)\n",
    "    all_sentences_1.append(sentence)\n",
    "\n",
    "all_sentences_1 = [sentence.split(\",\") + [1] for sentence in all_sentences_1]\n",
    "\n",
    "for sentence in all_sentences_1[0:10]:\n",
    "    print(sentence)"
   ]
  },
  {
   "cell_type": "markdown",
   "metadata": {},
   "source": [
    "- 2) **c will VERB1 COMPLEMENT1 or VERB2 COMPLEMENT2, c will not VERB1 COMPLEMENT1 and c will not  VERB2 COMPLEMENT2 ** (contradiction)"
   ]
  },
  {
   "cell_type": "code",
   "execution_count": 9,
   "metadata": {},
   "outputs": [
    {
     "name": "stdout",
     "output_type": "stream",
     "text": [
      "['Tracey will stand in front of the crowd or become the most important hairdresser in this town', 'Tracey will not stand in front of the crowd and Tracey wil not become the most important hairdresser in this town', 1]\n",
      "['Clayton will make tea or choose this way of life', 'Clayton will not make tea and Clayton wil not choose this way of life', 1]\n",
      "[\"Marvin will lead me to Ronald's house or freeze my account\", \"Marvin will not lead me to Ronald's house and Marvin wil not freeze my account\", 1]\n",
      "['Beatrice will bet on the wining horse or sit on the floor', 'Beatrice will not bet on the wining horse and Beatrice wil not sit on the floor', 1]\n",
      "['Terrence will let use this pen or ring from Barcelona to Tulcea', 'Terrence will not let use this pen and Terrence wil not ring from Barcelona to Tulcea', 1]\n",
      "['Michael will lay his hands on her or blow me off', 'Michael will not lay his hands on her and Michael wil not blow me off', 1]\n",
      "['Samantha will forgive me or draw ahead of the other runners', 'Samantha will not forgive me and Samantha wil not draw ahead of the other runners', 1]\n",
      "['Thomas will begin crying or hide a smile', 'Thomas will not begin crying and Thomas wil not hide a smile', 1]\n",
      "['Allison will catch a black fish or dream of the being a pilot', 'Allison will not catch a black fish and Allison wil not dream of the being a pilot', 1]\n",
      "[\"Jerry will break Allan's heart or teach middle school science\", \"Jerry will not break Allan's heart and Jerry wil not teach middle school science\", 1]\n"
     ]
    }
   ],
   "source": [
    "all_sentences_2 = []\n",
    "for i in range(int(upper_bound)):\n",
    "    person = get_new_item([], name_list)\n",
    "    person1 = get_new_item([person], name_list)\n",
    "    person2 = get_new_item([person, person1], name_list)\n",
    "    pred1 = get_new_item([], positive_personality_list)\n",
    "    pred2 = get_new_item([pred1], positive_personality_list)\n",
    "    color1 = get_new_item([], color_list)\n",
    "    color2 = get_new_item([color1], color_list)\n",
    "    city1 =  get_new_item([], city_list)\n",
    "    city2 =  get_new_item([city1], city_list)\n",
    "    profession1 = get_new_item([], professions)\n",
    "    profession2 = get_new_item([profession1], professions)\n",
    "    verb1 = get_new_item([], infinitv_verbs)\n",
    "    verb2 = get_new_item([verb1], infinitv_verbs)\n",
    "    context = infinitiv_CONTEXT[verb1]\n",
    "    complement1 = get_new_item([], context)\n",
    "    complement1 = replace_words(complement1, person1, color1, city1, profession1, pred1)\n",
    "    context = infinitiv_CONTEXT[verb2]\n",
    "    complement2 = get_new_item([], context)\n",
    "    complement2 = replace_words(complement2, person2, color2, city2, profession2, pred2)\n",
    "    sentence = \"{} will {} {} or {} {},{} will not {} {} and {} wil not {} {}\".format(person,\n",
    "                                                                                  verb1,\n",
    "                                                                                  complement1,\n",
    "                                                                                  verb2,\n",
    "                                                                                  complement2,\n",
    "                                                                                  person,\n",
    "                                                                                  verb1,\n",
    "                                                                                  complement1,\n",
    "                                                                                  person,\n",
    "                                                                                  verb2,\n",
    "                                                                                  complement2,)\n",
    "    all_sentences_2.append(sentence)\n",
    "\n",
    "all_sentences_2 = [sentence.split(\",\") + [1] for sentence in all_sentences_2]\n",
    "\n",
    "for sentence in all_sentences_2[0:10]:\n",
    "    print(sentence)"
   ]
  },
  {
   "cell_type": "markdown",
   "metadata": {},
   "source": [
    "- 3) **c will VERB1 COMPLEMENT1 or VERB2 COMPLEMENT2, c will not VERB1 COMPLEMENT1 (VERB2 COMPLEMENT2)** (non-contradiction)"
   ]
  },
  {
   "cell_type": "code",
   "execution_count": 10,
   "metadata": {},
   "outputs": [
    {
     "name": "stdout",
     "output_type": "stream",
     "text": [
      "['Salvador will choose this way of life or say funny things', 'Salvador will not choose this way of life', 0]\n",
      "['Agnes will build an altar for Arnold or bet on the game', 'Agnes will not bet on the game', 0]\n",
      "['Jeffrey will put the phone down or sing a nice song', 'Jeffrey will not put the phone down', 0]\n",
      "[\"Eileen will hang up on Neil or let me drive Cassandra's gray car\", \"Eileen will not let me drive Cassandra's gray car\", 0]\n",
      "['Jack will forgive me or go away', 'Jack will not forgive me', 0]\n",
      "['Billie will shut the door down or ring from me', 'Billie will not ring from me', 0]\n",
      "['Salvador will feel an outsider or hide behind a bush', 'Salvador will not feel an outsider', 0]\n",
      "['Janice will hide a smile or take the ashy shirt out of the washer', 'Janice will not take the ashy shirt out of the washer', 0]\n",
      "['Lorraine will sell me a icy car or blow me off', 'Lorraine will not sell me a icy car', 0]\n",
      "['Grace will speak to her about Javier or hide a smile', 'Grace will not hide a smile', 0]\n"
     ]
    }
   ],
   "source": [
    "all_sentences_3 = []\n",
    "for i in range(int(upper_bound)):\n",
    "    person = get_new_item([], name_list)\n",
    "    person1 = get_new_item([person], name_list)\n",
    "    person2 = get_new_item([person, person1], name_list)\n",
    "    pred1 = get_new_item([], positive_personality_list)\n",
    "    pred2 = get_new_item([pred1], positive_personality_list)\n",
    "    color1 = get_new_item([], color_list)\n",
    "    color2 = get_new_item([color1], color_list)\n",
    "    city1 =  get_new_item([], city_list)\n",
    "    city2 =  get_new_item([city1], city_list)\n",
    "    profession1 = get_new_item([], professions)\n",
    "    profession2 = get_new_item([profession1], professions)\n",
    "    verb1 = get_new_item([], infinitv_verbs)\n",
    "    verb2 = get_new_item([verb1], infinitv_verbs)\n",
    "    context = infinitiv_CONTEXT[verb1]\n",
    "    complement1 = get_new_item([], context)\n",
    "    complement1 = replace_words(complement1, person1, color1, city1, profession1, pred1)\n",
    "    context = infinitiv_CONTEXT[verb2]\n",
    "    complement2 = get_new_item([], context)\n",
    "    complement2 = replace_words(complement2, person2, color2, city2, profession2, pred2)\n",
    "    if i % 2 == 0:\n",
    "        verb_p = verb1\n",
    "        complement_p = complement1\n",
    "    else:\n",
    "        verb_p = verb2\n",
    "        complement_p = complement2\n",
    "    sentence = \"{} will {} {} or {} {},{} will not {} {}\".format(person,\n",
    "                                                                 verb1,\n",
    "                                                                 complement1,\n",
    "                                                                 verb2,\n",
    "                                                                 complement2,\n",
    "                                                                 person,\n",
    "                                                                 verb_p,\n",
    "                                                                 complement_p)\n",
    "    all_sentences_3.append(sentence)\n",
    "\n",
    "all_sentences_3 = [sentence.split(\",\") + [0] for sentence in all_sentences_3]\n",
    "\n",
    "for sentence in all_sentences_3[0:10]:\n",
    "    print(sentence)"
   ]
  },
  {
   "cell_type": "markdown",
   "metadata": {},
   "source": [
    "- 4) **c will VERB1 COMPLEMENT1 or  VERB2 COMPLEMENT2, d(c) will neither VERB1 COMPLEMENT1 (VERB3 COMPLEMENT3) nor VERB2 COMPLEMENT2 (VERB3 COMPLEMENT3) ** (non-contradiction)\n"
   ]
  },
  {
   "cell_type": "code",
   "execution_count": 11,
   "metadata": {},
   "outputs": [
    {
     "name": "stdout",
     "output_type": "stream",
     "text": [
      "['Gordon will drive awayto the bus stop or hear Evelyn', 'Gilbert will neither drive awayto the bus stop nor hear Evelyn', 0]\n",
      "['Rosie will have a good daya good conversation with Sally or throw everything out the window', 'Rosie will neither draw ahead of the other runners nor throw everything out the window', 0]\n",
      "['Clarence will beat Maggie out of 20 dollars or burn the flag', 'Jared will neither beat Maggie out of 20 dollars nor burn the flag', 0]\n",
      "['Jose will build an altar for Yolanda or bet on the game', 'Jose will neither build an altar for Yolanda nor write me about Ted', 0]\n",
      "['Victor will swim out toward the white boat or think I was living in Slobozia', 'Harriet will neither swim out toward the white boat nor think I was living in Slobozia', 0]\n",
      "[\"Kristin will break Jessie's heart or ring from me\", 'Kristin will neither sleep for eight hours nor ring from me', 0]\n",
      "['Pedro will buy a blue bicycle or bet on the icy car', 'Nancy will neither buy a blue bicycle nor bet on the icy car', 0]\n",
      "[\"Armando will sing a nice song or dig a hole in Miriam's backyard\", \"Armando will neither meet her nor dig a hole in Miriam's backyard\", 0]\n",
      "['Edith will freeze my account or hit her', 'Gary will neither freeze my account nor hit her', 0]\n",
      "['Terry will know about us or dream of the playing with Claire', 'Terry will neither know about us nor cut himself', 0]\n"
     ]
    }
   ],
   "source": [
    "all_sentences_4 = []\n",
    "for i in range(int(upper_bound)):\n",
    "    person = get_new_item([], name_list)\n",
    "    person1 = get_new_item([person], name_list)\n",
    "    person2 = get_new_item([person, person1], name_list)\n",
    "    person3 = get_new_item([person, person1, person2], name_list)\n",
    "    other_person = get_new_item([person, person1, person2, person3], name_list)\n",
    "    color1 = get_new_item([], color_list)\n",
    "    color2 = get_new_item([color1], color_list)\n",
    "    color3 = get_new_item([color1, color2], color_list)\n",
    "    city1 =  get_new_item([], city_list)\n",
    "    city2 =  get_new_item([city1], city_list)\n",
    "    city3 = get_new_item([city1, city2], city_list)\n",
    "    profession1 = get_new_item([], professions)\n",
    "    profession2 = get_new_item([profession1], professions)\n",
    "    profession3 = get_new_item([profession1, profession2], professions)\n",
    "    pred1 = get_new_item([], positive_personality_list)\n",
    "    pred2 = get_new_item([pred1], positive_personality_list)\n",
    "    pred3 = get_new_item([pred1, pred2], positive_personality_list)\n",
    "    verb1 = get_new_item([], infinitv_verbs)\n",
    "    verb2 = get_new_item([verb1], infinitv_verbs)\n",
    "    verb3 = get_new_item([verb1, verb2], infinitv_verbs)\n",
    "    context = infinitiv_CONTEXT[verb1]\n",
    "    complement1 = get_new_item([], context)\n",
    "    complement1 = replace_words(complement1, person1, color1, city1, profession1, pred1)\n",
    "    context = infinitiv_CONTEXT[verb2]\n",
    "    complement2 = get_new_item([], context)\n",
    "    complement2 = replace_words(complement2, person2, color2, city2, profession2, pred2)\n",
    "    context = infinitiv_CONTEXT[verb3]\n",
    "    complement3 = get_new_item([], context)\n",
    "    complement3 = replace_words(complement3, person3, color3, city3, profession3, pred3)\n",
    "    if i % 2 == 0:\n",
    "        person_p = other_person\n",
    "        verb_p_1 =  verb1\n",
    "        complement_p_1 =  complement1\n",
    "        verb_p_2 =  verb2\n",
    "        complement_p_2 =  complement2\n",
    "    else:\n",
    "        if i % 3 == 0:\n",
    "            person_p = person\n",
    "            verb_p_1 =  verb1\n",
    "            complement_p_1 =  complement1\n",
    "            verb_p_2 =  verb3\n",
    "            complement_p_2 =  complement3\n",
    "        else:\n",
    "            person_p = person\n",
    "            verb_p_1 =  verb3\n",
    "            complement_p_1 =  complement3\n",
    "            verb_p_2 =  verb2\n",
    "            complement_p_2 =  complement2\n",
    "        \n",
    "    sentence = \"{} will {} {} or {} {},{} will neither {} {} nor {} {}\".format(person,\n",
    "                                                                               verb1,\n",
    "                                                                               complement1,\n",
    "                                                                               verb2,\n",
    "                                                                               complement2,\n",
    "                                                                               person_p,\n",
    "                                                                               verb_p_1,\n",
    "                                                                               complement_p_1,\n",
    "                                                                               verb_p_2,\n",
    "                                                                               complement_p_2)\n",
    "    all_sentences_4.append(sentence)\n",
    "\n",
    "all_sentences_4 = [sentence.split(\",\") + [0] for sentence in all_sentences_4]\n",
    "\n",
    "for sentence in all_sentences_4[0:10]:\n",
    "    print(sentence)"
   ]
  },
  {
   "cell_type": "code",
   "execution_count": 12,
   "metadata": {},
   "outputs": [
    {
     "name": "stdout",
     "output_type": "stream",
     "text": [
      "type 1 size = 2750\n",
      "type 2 size = 2750\n",
      "type 3 size = 2750\n",
      "type 4 size = 2750\n",
      "total size = 11000\n"
     ]
    }
   ],
   "source": [
    "np.random.shuffle(all_sentences_1)\n",
    "np.random.shuffle(all_sentences_2)\n",
    "np.random.shuffle(all_sentences_3)\n",
    "np.random.shuffle(all_sentences_4)\n",
    "\n",
    "\n",
    "size1 = len(all_sentences_1)\n",
    "size2 = len(all_sentences_2)\n",
    "size3 = len(all_sentences_3)\n",
    "size4 = len(all_sentences_4)\n",
    "\n",
    "\n",
    "all_sentences = all_sentences_1 + all_sentences_2 + all_sentences_3 + all_sentences_4\n",
    "size = len(all_sentences)\n",
    "\n",
    "print(\"type 1 size = {}\".format(size1))\n",
    "print(\"type 2 size = {}\".format(size2))\n",
    "print(\"type 3 size = {}\".format(size3))\n",
    "print(\"type 4 size = {}\".format(size4))\n",
    "print(\"total size = {}\".format(size))"
   ]
  },
  {
   "cell_type": "markdown",
   "metadata": {},
   "source": [
    "### Generating a train DataFrame with 10000 examples and a test DataFrame with 1000 examples "
   ]
  },
  {
   "cell_type": "code",
   "execution_count": 13,
   "metadata": {},
   "outputs": [
    {
     "data": {
      "text/html": [
       "<div>\n",
       "<style scoped>\n",
       "    .dataframe tbody tr th:only-of-type {\n",
       "        vertical-align: middle;\n",
       "    }\n",
       "\n",
       "    .dataframe tbody tr th {\n",
       "        vertical-align: top;\n",
       "    }\n",
       "\n",
       "    .dataframe thead th {\n",
       "        text-align: right;\n",
       "    }\n",
       "</style>\n",
       "<table border=\"1\" class=\"dataframe\">\n",
       "  <thead>\n",
       "    <tr style=\"text-align: right;\">\n",
       "      <th></th>\n",
       "      <th>sentence1</th>\n",
       "      <th>sentence2</th>\n",
       "      <th>label</th>\n",
       "    </tr>\n",
       "  </thead>\n",
       "  <tbody>\n",
       "    <tr>\n",
       "      <th>10995</th>\n",
       "      <td>Leona will say nice things or know Jenny's secret</td>\n",
       "      <td>Leona will not say nice things and Leona wil n...</td>\n",
       "      <td>1</td>\n",
       "    </tr>\n",
       "    <tr>\n",
       "      <th>10996</th>\n",
       "      <td>Juana will show my new photos or stand up to C...</td>\n",
       "      <td>Juana will not show my new photos</td>\n",
       "      <td>0</td>\n",
       "    </tr>\n",
       "    <tr>\n",
       "      <th>10997</th>\n",
       "      <td>Lloyd will show my new photos or fall in love ...</td>\n",
       "      <td>Lloyd will not show my new photos</td>\n",
       "      <td>0</td>\n",
       "    </tr>\n",
       "    <tr>\n",
       "      <th>10998</th>\n",
       "      <td>Wallace will tell me about the bars in Slatina...</td>\n",
       "      <td>Wallace will neither tell me about the bars in...</td>\n",
       "      <td>1</td>\n",
       "    </tr>\n",
       "    <tr>\n",
       "      <th>10999</th>\n",
       "      <td>Janie will lead me to Kristin's house or read ...</td>\n",
       "      <td>Janie will neither ride the buffalo nor read t...</td>\n",
       "      <td>0</td>\n",
       "    </tr>\n",
       "  </tbody>\n",
       "</table>\n",
       "</div>"
      ],
      "text/plain": [
       "                                               sentence1  \\\n",
       "10995  Leona will say nice things or know Jenny's secret   \n",
       "10996  Juana will show my new photos or stand up to C...   \n",
       "10997  Lloyd will show my new photos or fall in love ...   \n",
       "10998  Wallace will tell me about the bars in Slatina...   \n",
       "10999  Janie will lead me to Kristin's house or read ...   \n",
       "\n",
       "                                               sentence2  label  \n",
       "10995  Leona will not say nice things and Leona wil n...      1  \n",
       "10996                  Juana will not show my new photos      0  \n",
       "10997                  Lloyd will not show my new photos      0  \n",
       "10998  Wallace will neither tell me about the bars in...      1  \n",
       "10999  Janie will neither ride the buffalo nor read t...      0  "
      ]
     },
     "execution_count": 13,
     "metadata": {},
     "output_type": "execute_result"
    }
   ],
   "source": [
    "sentence_1 = [triple[0] for triple in all_sentences]\n",
    "sentence_2 = [triple[1] for triple in all_sentences]\n",
    "label = [triple[2] for triple in all_sentences]\n",
    "\n",
    "df_dict = {\"sentence1\": sentence_1,\n",
    "           \"sentence2\": sentence_2,\n",
    "           \"label\": label}\n",
    "        \n",
    "df = pd.DataFrame(df_dict)\n",
    "df = df[[\"sentence1\", \"sentence2\", \"label\"]]\n",
    "df = df.sample(frac=1).reset_index(drop=True)\n",
    "\n",
    "df_train = df.iloc[:10000]\n",
    "df_test = df.iloc[10000:]\n",
    "\n",
    "df.tail()    "
   ]
  },
  {
   "cell_type": "markdown",
   "metadata": {},
   "source": [
    "#### Looking at the label distribution"
   ]
  },
  {
   "cell_type": "code",
   "execution_count": 14,
   "metadata": {},
   "outputs": [
    {
     "data": {
      "image/png": "[encoded data removed]",
      "text/plain": [
       "<Figure size 432x288 with 1 Axes>"
      ]
     },
     "metadata": {},
     "output_type": "display_data"
    }
   ],
   "source": [
    "train_label = df_train[\"label\"].values\n",
    "plot_histogram_from_labels(train_label, [\"no\", \"yes\"], \"boolean9_train.png\")"
   ]
  },
  {
   "cell_type": "code",
   "execution_count": 15,
   "metadata": {},
   "outputs": [
    {
     "data": {
      "image/png": "[encoded data removed]",
      "text/plain": [
       "<Figure size 432x288 with 1 Axes>"
      ]
     },
     "metadata": {},
     "output_type": "display_data"
    }
   ],
   "source": [
    "test_label = df_test[\"label\"].values\n",
    "plot_histogram_from_labels(test_label, [\"no\", \"yes\"], \"boolean9_test.png\")"
   ]
  },
  {
   "cell_type": "markdown",
   "metadata": {},
   "source": [
    "### Saving to CSV"
   ]
  },
  {
   "cell_type": "code",
   "execution_count": 16,
   "metadata": {},
   "outputs": [],
   "source": [
    "df_train.to_csv(\"boolean9_train.csv\", index=False)\n",
    "df_test.to_csv(\"boolean9_test.csv\", index=False)"
   ]
  }
 ],
 "metadata": {
  "kernelspec": {
   "display_name": "Python 3",
   "language": "python",
   "name": "python3"
  },
  "language_info": {
   "codemirror_mode": {
    "name": "ipython",
    "version": 3
   },
   "file_extension": ".py",
   "mimetype": "text/x-python",
   "name": "python",
   "nbconvert_exporter": "python",
   "pygments_lexer": "ipython3",
   "version": "3.5.2"
  }
 },
 "nbformat": 4,
 "nbformat_minor": 2
}
