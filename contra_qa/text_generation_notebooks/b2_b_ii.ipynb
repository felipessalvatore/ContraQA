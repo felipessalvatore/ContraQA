{
 "cells": [
  {
   "cell_type": "markdown",
   "metadata": {},
   "source": [
    "# Implicit conjunction:  different predicates applied on a object (reference problem)\n",
    "\n",
    "Generating sentences of the form\n",
    "\n",
    "- 1) **c saw X running COMPLEMENT, c didn't saw X running** -- contradiction \n",
    "- 1) **c saw X driving COMPLEMENT, c didn't saw X driving** -- contradiction \n",
    "\n",
    "\n",
    "- 2) **c saw X running COMPLEMENT1, c didn't saw X running  COMPLEMENT2** -- non-contradiction\n",
    "- 2) **c saw X driving COMPLEMENT1, c didn't saw X driving COMPLEMENT2** -- non-contradiction \n",
    "\n",
    "X = [name, a girl, a boy]"
   ]
  },
  {
   "cell_type": "code",
   "execution_count": 1,
   "metadata": {},
   "outputs": [],
   "source": [
    "import numpy as np\n",
    "import pandas as pd\n",
    "from word_lists import name_list, color_list, city_list\n",
    "import os\n",
    "import inspect\n",
    "import sys\n",
    "import itertools\n",
    "\n",
    "almost_current = os.path.abspath(inspect.getfile(inspect.currentframe()))\n",
    "currentdir = os.path.dirname(almost_current)\n",
    "parentdir = os.path.dirname(currentdir)\n",
    "sys.path.insert(0, parentdir)\n",
    "\n",
    "from plots.functions import plot_histogram_from_labels # noqa\n",
    "\n",
    "% matplotlib inline"
   ]
  },
  {
   "cell_type": "code",
   "execution_count": 2,
   "metadata": {},
   "outputs": [],
   "source": [
    "def get_new_item(item_list, src_list):\n",
    "    size = len(src_list)\n",
    "    new_item = src_list[np.random.choice(size)]\n",
    "    while new_item in item_list: \n",
    "        new_i = np.random.choice(size)\n",
    "        new_item = src_list[new_i]\n",
    "    return new_item"
   ]
  },
  {
   "cell_type": "code",
   "execution_count": 3,
   "metadata": {},
   "outputs": [],
   "source": [
    "for i in range(len(name_list)):\n",
    "    name = get_new_item([], name_list)\n",
    "    new_name = get_new_item([name], name_list)\n",
    "    assert name != new_name and name in name_list and new_name in name_list"
   ]
  },
  {
   "cell_type": "code",
   "execution_count": 4,
   "metadata": {},
   "outputs": [],
   "source": [
    "upper_bound = 11000 / 2\n",
    "\n",
    "COMPLEMENT_runnig = [\"from a parade car\",\n",
    "                     \"from PERSON's car\",\n",
    "                      \"from a COLOR car\",\n",
    "                      \"from a COLOR bus\",\n",
    "                      \"from a special recently built bus\",\n",
    "                      \"from a COLOR school bus\",\n",
    "                      \"from a bus going to CITY\",\n",
    "                      \"from a COLOR bus with a new engine\"]\n",
    "\n",
    "COMPLEMENT_driving = [\"a COLOR car\",\n",
    "                      \"in CITY\",\n",
    "                      \"PERSON's car\",\n",
    "                      \"a COLOR bicicle\",\n",
    "                      \"PERSON's bicicle\",\n",
    "                      \"an eletric COLOR bicicle\",\n",
    "                      \"PERSON's new Tesla Roadster\"]"
   ]
  },
  {
   "cell_type": "markdown",
   "metadata": {},
   "source": [
    "### Generating all types of sentences"
   ]
  },
  {
   "cell_type": "markdown",
   "metadata": {},
   "source": [
    "- 1) **c saw X running COMPLEMENT, c didn't saw X running** -- contradiction \n",
    "- 1) **c saw X driving COMPLEMENT, c didn't saw X driving** -- contradiction "
   ]
  },
  {
   "cell_type": "code",
   "execution_count": 5,
   "metadata": {},
   "outputs": [
    {
     "name": "stdout",
     "output_type": "stream",
     "text": [
      "['Geneva saw Dan running from a red bus with a new engine', \"Geneva didn't saw Dan running\", 1]\n",
      "[\"Charlene saw a girl driving Rachel's car\", \"Charlene didn't saw a girl driving\", 1]\n",
      "['Gilbert saw a girl running from a mango car', \"Gilbert didn't saw a girl running\", 1]\n",
      "[\"Joan saw Corey driving Kelly's new Tesla Roadster\", \"Joan didn't saw Corey driving\", 1]\n",
      "[\"Dwight saw a boy running from Tim's car\", \"Dwight didn't saw a boy running\", 1]\n",
      "['Monique saw Marguerite driving a blue car', \"Monique didn't saw Marguerite driving\", 1]\n",
      "['Valerie saw a boy running from a lemon bus with a new engine', \"Valerie didn't saw a boy running\", 1]\n",
      "['Patricia saw a girl driving an eletric mango bicicle', \"Patricia didn't saw a girl driving\", 1]\n",
      "['Jessie saw a girl running from a mango school bus', \"Jessie didn't saw a girl running\", 1]\n",
      "['Julia saw a boy driving an eletric red bicicle', \"Julia didn't saw a boy driving\", 1]\n"
     ]
    }
   ],
   "source": [
    "all_sentences_1 = []\n",
    "for i in range(int(upper_bound)):\n",
    "    person1 = get_new_item([], name_list)\n",
    "    object_list = [get_new_item([person1], name_list), \"a girl\", \"a boy\"]\n",
    "    direct_object = get_new_item([], object_list)\n",
    "    if i % 2 == 0:\n",
    "        verb = \"running\"\n",
    "        complement = get_new_item([], COMPLEMENT_runnig)\n",
    "    else:\n",
    "        verb = \"driving\"\n",
    "        complement = get_new_item([], COMPLEMENT_driving)\n",
    "    person2 = get_new_item([person1, direct_object], name_list)\n",
    "    color = get_new_item([], color_list)\n",
    "    city = get_new_item([], city_list)\n",
    "    complement = complement.replace(\"PERSON's\", person2 + \"'s\")\n",
    "    complement = complement.replace(\"COLOR\", color)\n",
    "    complement = complement.replace(\"CITY\", city)\n",
    "    sentence = \"{} saw {} {} {},{} didn't saw {} {}\".format(person1,\n",
    "                                                             direct_object,\n",
    "                                                             verb,\n",
    "                                                             complement,\n",
    "                                                             person1,\n",
    "                                                             direct_object,\n",
    "                                                             verb)\n",
    "    all_sentences_1.append(sentence)\n",
    "    \n",
    "all_sentences_1 = [sentence.split(\",\") + [1] for sentence in all_sentences_1]\n",
    "\n",
    "\n",
    "for sentence in all_sentences_1[0:10]:\n",
    "    print(sentence)"
   ]
  },
  {
   "cell_type": "markdown",
   "metadata": {},
   "source": [
    "- 2) **c saw X running COMPLEMENT1, c didn't saw X running  COMPLEMENT2** -- non-contradiction\n",
    "- 2) **c saw X driving COMPLEMENT1, c didn't saw X driving COMPLEMENT2** -- non-contradiction "
   ]
  },
  {
   "cell_type": "code",
   "execution_count": 6,
   "metadata": {},
   "outputs": [
    {
     "name": "stdout",
     "output_type": "stream",
     "text": [
      "['Pearl saw Bobbie running from a special recently built bus', \" Pearl didn't saw Bobbie running from a purple bus\", 0]\n",
      "['Albert saw a boy driving a gray bicicle', \" Albert didn't saw a boy driving in Baia Mare\", 0]\n",
      "['Blanche saw a girl running from a special recently built bus', \" Blanche didn't saw a girl running from Ian's car\", 0]\n",
      "['Candice saw a girl driving an eletric white bicicle', \" Candice didn't saw a girl driving a salmon car\", 0]\n",
      "[\"Theresa saw a boy running from Jorge's car\", \" Theresa didn't saw a boy running from a bus going to Tulcea\", 0]\n",
      "['Daisy saw a boy driving a mango car', \" Daisy didn't saw a boy driving Frances's car\", 0]\n",
      "['Lynda saw Melanie running from a special recently built bus', \" Lynda didn't saw Melanie running from Brandon's car\", 0]\n",
      "[\"Daryl saw a boy driving Jeremy's bicicle\", \" Daryl didn't saw a boy driving an eletric ashy bicicle\", 0]\n",
      "['Terry saw a girl running from a gray school bus', \" Terry didn't saw a girl running from a special recently built bus\", 0]\n",
      "['Beverly saw Pauline driving an eletric green bicicle', \" Beverly didn't saw Pauline driving Bernard's new Tesla Roadster\", 0]\n"
     ]
    }
   ],
   "source": [
    "all_sentences_2 = []\n",
    "for i in range(int(upper_bound)):\n",
    "    person1 = get_new_item([], name_list)\n",
    "    object_list = [get_new_item([person1], name_list), \"a girl\", \"a boy\"]\n",
    "    direct_object = get_new_item([], object_list)\n",
    "    if i % 2 == 0:\n",
    "        verb = \"running\"\n",
    "        COMPLEMENT = COMPLEMENT_runnig \n",
    "    else:\n",
    "        verb = \"driving\"\n",
    "        COMPLEMENT = COMPLEMENT_driving \n",
    "    \n",
    "    complement1 = get_new_item([], COMPLEMENT)\n",
    "    complement2 = get_new_item([complement1], COMPLEMENT)\n",
    "    person2 = get_new_item([person1, direct_object], name_list)\n",
    "    color = get_new_item([], color_list)\n",
    "    city = get_new_item([], city_list)\n",
    "    complement1 = complement1.replace(\"PERSON's\", person2 + \"'s\")\n",
    "    complement1 = complement1.replace(\"COLOR\", color)\n",
    "    complement1 = complement1.replace(\"CITY\", city)\n",
    "    person2 = get_new_item([person1, direct_object, person2], name_list)\n",
    "    color = get_new_item([], color_list)\n",
    "    city = get_new_item([], city_list)\n",
    "    complement2 = complement2.replace(\"PERSON's\", person2 + \"'s\")\n",
    "    complement2 = complement2.replace(\"COLOR\", color)\n",
    "    complement2 = complement2.replace(\"CITY\", city)\n",
    "    sentence = \"{} saw {} {} {}, {} didn't saw {} {} {}\".format(person1,\n",
    "                                                             direct_object,\n",
    "                                                             verb,\n",
    "                                                             complement1,\n",
    "                                                             person1,\n",
    "                                                             direct_object,\n",
    "                                                             verb,\n",
    "                                                             complement2)\n",
    "    all_sentences_2.append(sentence)\n",
    "    \n",
    "all_sentences_2 = [sentence.split(\",\") + [0] for sentence in all_sentences_2]\n",
    "\n",
    "for sentence in all_sentences_2[0:10]:\n",
    "    print(sentence)"
   ]
  },
  {
   "cell_type": "code",
   "execution_count": 7,
   "metadata": {},
   "outputs": [
    {
     "name": "stdout",
     "output_type": "stream",
     "text": [
      "type 1 size = 5500\n",
      "type 2 size = 5500\n",
      "total size = 11000\n"
     ]
    }
   ],
   "source": [
    "np.random.shuffle(all_sentences_1)\n",
    "np.random.shuffle(all_sentences_2)\n",
    "\n",
    "size1 = len(all_sentences_1)\n",
    "size2 = len(all_sentences_2)\n",
    "\n",
    "all_sentences = all_sentences_1 + all_sentences_2\n",
    "size = len(all_sentences)\n",
    "\n",
    "print(\"type 1 size = {}\".format(size1))\n",
    "print(\"type 2 size = {}\".format(size2))\n",
    "print(\"total size = {}\".format(size))"
   ]
  },
  {
   "cell_type": "markdown",
   "metadata": {},
   "source": [
    "### Generating a train DataFrame with 10000 examples and a test DataFrame with 1000 examples "
   ]
  },
  {
   "cell_type": "code",
   "execution_count": 8,
   "metadata": {},
   "outputs": [
    {
     "data": {
      "text/html": [
       "<div>\n",
       "<style scoped>\n",
       "    .dataframe tbody tr th:only-of-type {\n",
       "        vertical-align: middle;\n",
       "    }\n",
       "\n",
       "    .dataframe tbody tr th {\n",
       "        vertical-align: top;\n",
       "    }\n",
       "\n",
       "    .dataframe thead th {\n",
       "        text-align: right;\n",
       "    }\n",
       "</style>\n",
       "<table border=\"1\" class=\"dataframe\">\n",
       "  <thead>\n",
       "    <tr style=\"text-align: right;\">\n",
       "      <th></th>\n",
       "      <th>sentence1</th>\n",
       "      <th>sentence2</th>\n",
       "      <th>label</th>\n",
       "    </tr>\n",
       "  </thead>\n",
       "  <tbody>\n",
       "    <tr>\n",
       "      <th>10995</th>\n",
       "      <td>Carolyn saw a boy driving a purple car</td>\n",
       "      <td>Carolyn didn't saw a boy driving</td>\n",
       "      <td>1</td>\n",
       "    </tr>\n",
       "    <tr>\n",
       "      <th>10996</th>\n",
       "      <td>Marc saw Reginald running from a white car</td>\n",
       "      <td>Marc didn't saw Reginald running</td>\n",
       "      <td>1</td>\n",
       "    </tr>\n",
       "    <tr>\n",
       "      <th>10997</th>\n",
       "      <td>Felicia saw a boy driving a ashy car</td>\n",
       "      <td>Felicia didn't saw a boy driving</td>\n",
       "      <td>1</td>\n",
       "    </tr>\n",
       "    <tr>\n",
       "      <th>10998</th>\n",
       "      <td>Philip saw a girl driving Rafael's new Tesla R...</td>\n",
       "      <td>Philip didn't saw a girl driving a purple bic...</td>\n",
       "      <td>0</td>\n",
       "    </tr>\n",
       "    <tr>\n",
       "      <th>10999</th>\n",
       "      <td>Ada saw a boy driving Marvin's bicicle</td>\n",
       "      <td>Ada didn't saw a boy driving a orange car</td>\n",
       "      <td>0</td>\n",
       "    </tr>\n",
       "  </tbody>\n",
       "</table>\n",
       "</div>"
      ],
      "text/plain": [
       "                                               sentence1  \\\n",
       "10995             Carolyn saw a boy driving a purple car   \n",
       "10996         Marc saw Reginald running from a white car   \n",
       "10997               Felicia saw a boy driving a ashy car   \n",
       "10998  Philip saw a girl driving Rafael's new Tesla R...   \n",
       "10999             Ada saw a boy driving Marvin's bicicle   \n",
       "\n",
       "                                               sentence2  label  \n",
       "10995                   Carolyn didn't saw a boy driving      1  \n",
       "10996                   Marc didn't saw Reginald running      1  \n",
       "10997                   Felicia didn't saw a boy driving      1  \n",
       "10998   Philip didn't saw a girl driving a purple bic...      0  \n",
       "10999          Ada didn't saw a boy driving a orange car      0  "
      ]
     },
     "execution_count": 8,
     "metadata": {},
     "output_type": "execute_result"
    }
   ],
   "source": [
    "sentence_1 = [triple[0] for triple in all_sentences]\n",
    "sentence_2 = [triple[1] for triple in all_sentences]\n",
    "label = [triple[2] for triple in all_sentences]\n",
    "\n",
    "df_dict = {\"sentence1\": sentence_1,\n",
    "           \"sentence2\": sentence_2,\n",
    "           \"label\": label}\n",
    "        \n",
    "df = pd.DataFrame(df_dict)\n",
    "df = df[[\"sentence1\", \"sentence2\", \"label\"]]\n",
    "df = df.sample(frac=1).reset_index(drop=True)\n",
    "\n",
    "df_train = df.iloc[:10000]\n",
    "df_test = df.iloc[10000:]\n",
    "\n",
    "df.tail()    "
   ]
  },
  {
   "cell_type": "markdown",
   "metadata": {},
   "source": [
    "#### Looking at the label distribution"
   ]
  },
  {
   "cell_type": "code",
   "execution_count": 9,
   "metadata": {},
   "outputs": [
    {
     "data": {
      "image/png": "[encoded data removed]",
      "text/plain": [
       "<Figure size 432x288 with 1 Axes>"
      ]
     },
     "metadata": {},
     "output_type": "display_data"
    }
   ],
   "source": [
    "train_label = df_train[\"label\"].values\n",
    "plot_histogram_from_labels(train_label, [\"no\", \"yes\"], \"b2_b_ii_train.png\")"
   ]
  },
  {
   "cell_type": "code",
   "execution_count": 10,
   "metadata": {},
   "outputs": [
    {
     "data": {
      "image/png": "[encoded data removed]",
      "text/plain": [
       "<Figure size 432x288 with 1 Axes>"
      ]
     },
     "metadata": {},
     "output_type": "display_data"
    }
   ],
   "source": [
    "test_label = df_test[\"label\"].values\n",
    "plot_histogram_from_labels(test_label, [\"no\", \"yes\"], \"b2_b_ii_test.png\")"
   ]
  },
  {
   "cell_type": "markdown",
   "metadata": {},
   "source": [
    "### Saving to CSV"
   ]
  },
  {
   "cell_type": "code",
   "execution_count": 11,
   "metadata": {},
   "outputs": [],
   "source": [
    "df_train.to_csv(\"b2_b_ii_train.csv\", index=False)\n",
    "df_test.to_csv(\"b2_b_ii_test.csv\", index=False)"
   ]
  }
 ],
 "metadata": {
  "kernelspec": {
   "display_name": "Python 3",
   "language": "python",
   "name": "python3"
  },
  "language_info": {
   "codemirror_mode": {
    "name": "ipython",
    "version": 3
   },
   "file_extension": ".py",
   "mimetype": "text/x-python",
   "name": "python",
   "nbconvert_exporter": "python",
   "pygments_lexer": "ipython3",
   "version": "3.5.2"
  }
 },
 "nbformat": 4,
 "nbformat_minor": 2
}
