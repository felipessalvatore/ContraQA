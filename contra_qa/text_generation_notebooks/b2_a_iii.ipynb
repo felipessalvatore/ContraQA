{
 "cells": [
  {
   "cell_type": "markdown",
   "metadata": {},
   "source": [
    "# Explicit conjunction: adding conjunction between subjects\n",
    "\n",
    "Generating sentences of the form\n",
    "\n",
    "- 1) **c and d have traveled to X, c didn't travel to X** (contradiction)\n",
    "- 1) **c and d went to X, c didn't go to X** (contradiction)\n",
    "- 1) **c and d have visited X, c didn't visit X** (contradiction)\n",
    "\n",
    "\n",
    "- 2) **c and d have traveled to X, d didn't travel to X** (contradiction)\n",
    "- 2) **c and d went to X, d didn't go to X** (contradiction)\n",
    "- 2) **c and d have visited X, d didn't visit X** (contradiction)\n",
    "\n",
    "\n",
    "- 3) **c and d have traveled to X, c didn't travel to Y ** (non-contradiction)\n",
    "- 3) **c and d went to X, c didn't go to Y** (non-contradiction)\n",
    "- 3) **c and d have visited X, c didn't visit Y** (non-contradiction)\n",
    "\n",
    "\n",
    "- 4) **c and d have traveled to X, e didn't travel to X** (non-contradiction)\n",
    "- 4) **c and d went to X, e didn't go to X** (non-contradiction)\n",
    "- 4) **c and d have visited X, e didn't visit X** (non-contradiction)"
   ]
  },
  {
   "cell_type": "code",
   "execution_count": 1,
   "metadata": {},
   "outputs": [],
   "source": [
    "import numpy as np\n",
    "import pandas as pd\n",
    "from word_lists import name_list, city_list\n",
    "import os\n",
    "import inspect\n",
    "import sys\n",
    "import itertools\n",
    "\n",
    "almost_current = os.path.abspath(inspect.getfile(inspect.currentframe()))\n",
    "currentdir = os.path.dirname(almost_current)\n",
    "parentdir = os.path.dirname(currentdir)\n",
    "sys.path.insert(0, parentdir)\n",
    "\n",
    "from plots.functions import plot_histogram_from_labels # noqa\n",
    "\n",
    "% matplotlib inline"
   ]
  },
  {
   "cell_type": "markdown",
   "metadata": {},
   "source": [
    "### Generating atoms"
   ]
  },
  {
   "cell_type": "code",
   "execution_count": 2,
   "metadata": {},
   "outputs": [],
   "source": [
    "template1 = itertools.product(name_list, city_list)\n",
    "template1 = list(template1)\n",
    "upper_bound = 11000/4"
   ]
  },
  {
   "cell_type": "markdown",
   "metadata": {},
   "source": [
    "### Generating all types of sentences"
   ]
  },
  {
   "cell_type": "markdown",
   "metadata": {},
   "source": [
    "- 1) **c and d have traveled to X, c didn't travel to X** (contradiction)\n",
    "- 1) **c and d went to X, c didn't go to X** (contradiction)\n",
    "- 1) **c and d have visited X, c didn't visit X** (contradiction)"
   ]
  },
  {
   "cell_type": "code",
   "execution_count": 3,
   "metadata": {},
   "outputs": [
    {
     "name": "stdout",
     "output_type": "stream",
     "text": [
      "['Max and Drake have traveled to Timisoara', \"Max didn't travel to Timisoara\", 1]\n",
      "['Wednesday and Royce went to Turda', \"Wednesday didn't go to Turda\", 1]\n",
      "['Garrison and Brandon have visited Turda', \"Garrison didn't visit Turda\", 1]\n",
      "['Hudson and Warrick have traveled to Giurgiu', \"Hudson didn't travel to Giurgiu\", 1]\n",
      "['Noreen and Udell went to Mangalia', \"Noreen didn't go to Mangalia\", 1]\n",
      "['Dolly and Hilton have visited Giurgiu', \"Dolly didn't visit Giurgiu\", 1]\n",
      "['Cleveland and Joe have traveled to Tulcea', \"Cleveland didn't travel to Tulcea\", 1]\n",
      "['Bond and Hadden went to Giurgiu', \"Bond didn't go to Giurgiu\", 1]\n",
      "['Quilla and Whittaker have visited Mangalia', \"Quilla didn't visit Mangalia\", 1]\n",
      "['Lane and Madisyn have traveled to Slobozia', \"Lane didn't travel to Slobozia\", 1]\n"
     ]
    }
   ],
   "source": [
    "np.random.shuffle(template1)\n",
    "all_sentences_1 = []\n",
    "for i in range(int(upper_bound)):\n",
    "    person1, place = template1[i]\n",
    "    person2 = person1\n",
    "    while person2 == person1:\n",
    "        new_i = np.random.choice(len(template1))\n",
    "        person2, _ = template1[new_i]\n",
    "    if i%3 == 0:\n",
    "        sentence = \"{} and {} have traveled to {},{} didn't travel to {}\".format(person1, person2, place, person1, place)\n",
    "    elif i%3 ==1:\n",
    "        sentence = \"{} and {} went to {},{} didn't go to {}\".format(person1, person2, place, person1, place)\n",
    "    else:\n",
    "        sentence = \"{} and {} have visited {},{} didn't visit {}\".format(person1, person2, place, person1, place)\n",
    "    all_sentences_1.append(sentence)\n",
    "\n",
    "all_sentences_1 = [sentence.split(\",\") + [1] for sentence in all_sentences_1]\n",
    "\n",
    "for sentence in all_sentences_1[0:10]:\n",
    "    print(sentence)\n"
   ]
  },
  {
   "cell_type": "markdown",
   "metadata": {},
   "source": [
    "- 2) **c and d have traveled to X, d didn't travel to X** (contradiction)\n",
    "- 2) **c and d went to X, d didn't go to X** (contradiction)\n",
    "- 2) **c and d have visited X, d didn't visit X** (contradiction)"
   ]
  },
  {
   "cell_type": "code",
   "execution_count": 4,
   "metadata": {},
   "outputs": [
    {
     "name": "stdout",
     "output_type": "stream",
     "text": [
      "['Tamsin and Brawley have traveled to Mangalia', \"Brawley didn't travel to Mangalia\", 1]\n",
      "['Fortitude and Nixon went to Lugoj', \"Nixon didn't go to Lugoj\", 1]\n",
      "['Ellis and Grayson have visited Timisoara', \"Grayson didn't visit Timisoara\", 1]\n",
      "['Stanford and Davidson have traveled to Lugoj', \"Davidson didn't travel to Lugoj\", 1]\n",
      "['Clay and Harleth went to Lugoj', \"Harleth didn't go to Lugoj\", 1]\n",
      "['Max and Harpo have visited Blaj', \"Harpo didn't visit Blaj\", 1]\n",
      "['Barnett and Alyssa have traveled to Bucharest', \"Alyssa didn't travel to Bucharest\", 1]\n",
      "['Crew and Henrietta went to Tulcea', \"Henrietta didn't go to Tulcea\", 1]\n",
      "['Lake and Mildred have visited Turda', \"Mildred didn't visit Turda\", 1]\n",
      "['Gifford and Cade have traveled to Turda', \"Cade didn't travel to Turda\", 1]\n"
     ]
    }
   ],
   "source": [
    "np.random.shuffle(template1)\n",
    "all_sentences_2 = []\n",
    "for i in range(int(upper_bound)):\n",
    "    person1, place = template1[i]\n",
    "    person2 = person1\n",
    "    while person2 == person1:\n",
    "        new_i = np.random.choice(len(template1))\n",
    "        person2, _ = template1[new_i]\n",
    "    if i%3 == 0:\n",
    "        sentence = \"{} and {} have traveled to {},{} didn't travel to {}\".format(person1, person2, place, person2, place)\n",
    "    elif i%3 ==1:\n",
    "        sentence = \"{} and {} went to {},{} didn't go to {}\".format(person1, person2, place, person2, place)\n",
    "    else:\n",
    "        sentence = \"{} and {} have visited {},{} didn't visit {}\".format(person1, person2, place, person2, place)\n",
    "    all_sentences_2.append(sentence)\n",
    "\n",
    "all_sentences_2 = [sentence.split(\",\") + [1] for sentence in all_sentences_2]\n",
    "\n",
    "for sentence in all_sentences_2[0:10]:\n",
    "    print(sentence)"
   ]
  },
  {
   "cell_type": "markdown",
   "metadata": {},
   "source": [
    "- 3) **c and d have traveled to X, c (d) didn't travel to Y ** (non-contradiction)\n",
    "- 3) **c and d went to X, c (d) didn't go to Y** (non-contradiction)\n",
    "- 3) **c and d have visited X, c (d) didn't visit Y** (non-contradiction)"
   ]
  },
  {
   "cell_type": "code",
   "execution_count": 5,
   "metadata": {},
   "outputs": [
    {
     "name": "stdout",
     "output_type": "stream",
     "text": [
      "['Eldred and Fleet have traveled to Giurgiu', \"Eldred didn't travel to Slobozia\", 0]\n",
      "['Bradshaw and Keats went to Slatina', \"Keats didn't go to Vaslui\", 0]\n",
      "['Drake and Mace have visited Giurgiu', \"Drake didn't visit Timisoara\", 0]\n",
      "['Kelsey and Daulton have traveled to Turda', \"Daulton didn't travel to Baia Mare\", 0]\n",
      "['Elberta and Hill went to Hunedoara', \"Elberta didn't go to Oradea\", 0]\n",
      "['Etta and Briggs have visited Blaj', \"Briggs didn't visit Slobozia\", 0]\n",
      "['Dale and Finch have traveled to Oradea', \"Dale didn't travel to Turda\", 0]\n",
      "['Bligh and Reynold went to Arad', \"Reynold didn't go to Blaj\", 0]\n",
      "['Stanford and Julian have visited Dej', \"Stanford didn't visit Oradea\", 0]\n",
      "['Elton and Alyssa have traveled to Turda', \"Alyssa didn't travel to Slatina\", 0]\n"
     ]
    }
   ],
   "source": [
    "np.random.shuffle(template1)\n",
    "all_sentences_3 = []\n",
    "for i in range(int(upper_bound)):\n",
    "    person1, place1 = template1[i]\n",
    "    person2 = person1\n",
    "    place2 = place1\n",
    "    while person2 == person1 and place2 == place1:\n",
    "        new_i = np.random.choice(len(template1))\n",
    "        person2, place2 = template1[new_i]\n",
    "    if i%2 ==0:\n",
    "        person3 = person1\n",
    "    else:\n",
    "        person3 = person2\n",
    "    if i%3 == 0:\n",
    "        sentence = \"{} and {} have traveled to {},{} didn't travel to {}\".format(person1, person2, place1, person3, place2)\n",
    "    elif i%3 ==1:\n",
    "        sentence = \"{} and {} went to {},{} didn't go to {}\".format(person1, person2, place1, person3, place2)\n",
    "    else:\n",
    "        sentence = \"{} and {} have visited {},{} didn't visit {}\".format(person1, person2, place1, person3, place2)\n",
    "    all_sentences_3.append(sentence)\n",
    "\n",
    "all_sentences_3 = [sentence.split(\",\") + [0] for sentence in all_sentences_3]\n",
    "\n",
    "for sentence in all_sentences_3[0:10]:\n",
    "    print(sentence)"
   ]
  },
  {
   "cell_type": "markdown",
   "metadata": {},
   "source": [
    "- 4) **c and d have traveled to X, e didn't travel to X** (non-contradiction)\n",
    "- 4) **c and d went to X, e didn't go to X** (non-contradiction)\n",
    "- 4) **c and d have visited X, e didn't visit X** (non-contradiction)"
   ]
  },
  {
   "cell_type": "code",
   "execution_count": 6,
   "metadata": {},
   "outputs": [
    {
     "name": "stdout",
     "output_type": "stream",
     "text": [
      "['Godiva and Mead have traveled to Craiova', \"Fairfax didn't travel to Craiova\", 0]\n",
      "['Lane and Auberon went to Dej', \"Riggan didn't go to Dej\", 0]\n",
      "['Peabody and Avery have visited Turda', \"London didn't visit Turda\", 0]\n",
      "['Daulton and Poet have traveled to Reghin', \"Queenie didn't travel to Reghin\", 0]\n",
      "['Ellie and Jack went to Vaslui', \"Windsor didn't go to Vaslui\", 0]\n",
      "['Bolton and Discovery have visited Arad', \"Waverly didn't visit Arad\", 0]\n",
      "['Hobart and Temperance have traveled to Blaj', \"Squall didn't travel to Blaj\", 0]\n",
      "['Boo and Huckleberry went to Bucharest', \"Birtle didn't go to Bucharest\", 0]\n",
      "['Spring and Fenton have visited Hunedoara', \"Bradley didn't visit Hunedoara\", 0]\n",
      "['Ashley and Henley have traveled to Slatina', \"Hayes didn't travel to Slatina\", 0]\n"
     ]
    }
   ],
   "source": [
    "np.random.shuffle(template1)\n",
    "all_sentences_4 = []\n",
    "for i in range(int(upper_bound)):\n",
    "    person1, place1 = template1[i]\n",
    "    person2 = person1\n",
    "    while person2 == person1:\n",
    "        new_i = np.random.choice(len(template1))\n",
    "        person2, _ = template1[new_i]\n",
    "    person3 = person1\n",
    "    while person3 == person1 or person3 == person2:\n",
    "        new_i = np.random.choice(len(template1))\n",
    "        person3, _ = template1[new_i]\n",
    "    if i % 3 == 0:\n",
    "        sentence = \"{} and {} have traveled to {},{} didn't travel to {}\".format(person1, person2, place1, person3, place1)\n",
    "    elif i % 3 == 1:\n",
    "        sentence = \"{} and {} went to {},{} didn't go to {}\".format(person1, person2, place1, person3, place1)\n",
    "    else:\n",
    "        sentence = \"{} and {} have visited {},{} didn't visit {}\".format(person1, person2, place1, person3, place1)\n",
    "    all_sentences_4.append(sentence)\n",
    "\n",
    "all_sentences_4 = [sentence.split(\",\") + [0] for sentence in all_sentences_4]\n",
    "\n",
    "for sentence in all_sentences_4[0:10]:\n",
    "    print(sentence)"
   ]
  },
  {
   "cell_type": "code",
   "execution_count": 7,
   "metadata": {},
   "outputs": [
    {
     "name": "stdout",
     "output_type": "stream",
     "text": [
      "type 1 size = 2750\n",
      "type 2 size = 2750\n",
      "type 3 size = 2750\n",
      "type 4 size = 2750\n",
      "total size = 11000\n"
     ]
    }
   ],
   "source": [
    "np.random.shuffle(all_sentences_1)\n",
    "np.random.shuffle(all_sentences_2)\n",
    "np.random.shuffle(all_sentences_3)\n",
    "np.random.shuffle(all_sentences_4)\n",
    "\n",
    "\n",
    "\n",
    "size1 = len(all_sentences_1)\n",
    "size2 = len(all_sentences_2)\n",
    "size3 = len(all_sentences_3)\n",
    "size4 = len(all_sentences_4)\n",
    "\n",
    "all_sentences = all_sentences_1 + all_sentences_2 + all_sentences_3 + all_sentences_4\n",
    "size = len(all_sentences)\n",
    "\n",
    "print(\"type 1 size = {}\".format(size1))\n",
    "print(\"type 2 size = {}\".format(size2))\n",
    "print(\"type 3 size = {}\".format(size3))\n",
    "print(\"type 4 size = {}\".format(size4))\n",
    "print(\"total size = {}\".format(size))"
   ]
  },
  {
   "cell_type": "markdown",
   "metadata": {},
   "source": [
    "### Generating a train DataFrame with 10000 examples and a test DataFrame with 1000 examples "
   ]
  },
  {
   "cell_type": "code",
   "execution_count": 8,
   "metadata": {},
   "outputs": [
    {
     "data": {
      "text/html": [
       "<div>\n",
       "<style scoped>\n",
       "    .dataframe tbody tr th:only-of-type {\n",
       "        vertical-align: middle;\n",
       "    }\n",
       "\n",
       "    .dataframe tbody tr th {\n",
       "        vertical-align: top;\n",
       "    }\n",
       "\n",
       "    .dataframe thead th {\n",
       "        text-align: right;\n",
       "    }\n",
       "</style>\n",
       "<table border=\"1\" class=\"dataframe\">\n",
       "  <thead>\n",
       "    <tr style=\"text-align: right;\">\n",
       "      <th></th>\n",
       "      <th>sentence1</th>\n",
       "      <th>sentence2</th>\n",
       "      <th>label</th>\n",
       "    </tr>\n",
       "  </thead>\n",
       "  <tbody>\n",
       "    <tr>\n",
       "      <th>10995</th>\n",
       "      <td>Rondel and Byron have visited Slatina</td>\n",
       "      <td>Byron didn't visit Hunedoara</td>\n",
       "      <td>0</td>\n",
       "    </tr>\n",
       "    <tr>\n",
       "      <th>10996</th>\n",
       "      <td>Lindsay and Brockton have visited Timisoara</td>\n",
       "      <td>Lindsay didn't visit Timisoara</td>\n",
       "      <td>1</td>\n",
       "    </tr>\n",
       "    <tr>\n",
       "      <th>10997</th>\n",
       "      <td>Dancer and Hartley went to Timisoara</td>\n",
       "      <td>New didn't go to Timisoara</td>\n",
       "      <td>0</td>\n",
       "    </tr>\n",
       "    <tr>\n",
       "      <th>10998</th>\n",
       "      <td>Parton and Kipling went to Oradea</td>\n",
       "      <td>Parton didn't go to Oradea</td>\n",
       "      <td>1</td>\n",
       "    </tr>\n",
       "    <tr>\n",
       "      <th>10999</th>\n",
       "      <td>Rae and Hollis went to Bucharest</td>\n",
       "      <td>Rae didn't go to Bucharest</td>\n",
       "      <td>1</td>\n",
       "    </tr>\n",
       "  </tbody>\n",
       "</table>\n",
       "</div>"
      ],
      "text/plain": [
       "                                         sentence1  \\\n",
       "10995        Rondel and Byron have visited Slatina   \n",
       "10996  Lindsay and Brockton have visited Timisoara   \n",
       "10997         Dancer and Hartley went to Timisoara   \n",
       "10998            Parton and Kipling went to Oradea   \n",
       "10999             Rae and Hollis went to Bucharest   \n",
       "\n",
       "                            sentence2  label  \n",
       "10995    Byron didn't visit Hunedoara      0  \n",
       "10996  Lindsay didn't visit Timisoara      1  \n",
       "10997      New didn't go to Timisoara      0  \n",
       "10998      Parton didn't go to Oradea      1  \n",
       "10999      Rae didn't go to Bucharest      1  "
      ]
     },
     "execution_count": 8,
     "metadata": {},
     "output_type": "execute_result"
    }
   ],
   "source": [
    "sentence_1 = [triple[0] for triple in all_sentences]\n",
    "sentence_2 = [triple[1] for triple in all_sentences]\n",
    "label = [triple[2] for triple in all_sentences]\n",
    "\n",
    "df_dict = {\"sentence1\": sentence_1,\n",
    "           \"sentence2\": sentence_2,\n",
    "           \"label\": label}\n",
    "        \n",
    "df = pd.DataFrame(df_dict)\n",
    "df = df[[\"sentence1\", \"sentence2\", \"label\"]]\n",
    "df = df.sample(frac=1).reset_index(drop=True)\n",
    "\n",
    "df_train = df.iloc[:10000]\n",
    "df_test = df.iloc[10000:]\n",
    "\n",
    "df.tail()    "
   ]
  },
  {
   "cell_type": "markdown",
   "metadata": {},
   "source": [
    "#### Looking at the label distribution"
   ]
  },
  {
   "cell_type": "code",
   "execution_count": 9,
   "metadata": {},
   "outputs": [
    {
     "data": {
      "image/png": "[encoded data removed]",
      "text/plain": [
       "<Figure size 432x288 with 1 Axes>"
      ]
     },
     "metadata": {},
     "output_type": "display_data"
    }
   ],
   "source": [
    "train_label = df_train[\"label\"].values\n",
    "plot_histogram_from_labels(train_label, [\"no\", \"yes\"], \"b2_a_iii_train.png\")"
   ]
  },
  {
   "cell_type": "code",
   "execution_count": 10,
   "metadata": {},
   "outputs": [
    {
     "data": {
      "image/png": "[encoded data removed]",
      "text/plain": [
       "<Figure size 432x288 with 1 Axes>"
      ]
     },
     "metadata": {},
     "output_type": "display_data"
    }
   ],
   "source": [
    "test_label = df_test[\"label\"].values\n",
    "plot_histogram_from_labels(test_label, [\"no\", \"yes\"], \"b2_a_iii_test.png\")"
   ]
  },
  {
   "cell_type": "markdown",
   "metadata": {},
   "source": [
    "### Saving to CSV"
   ]
  },
  {
   "cell_type": "code",
   "execution_count": 11,
   "metadata": {},
   "outputs": [],
   "source": [
    "df_train.to_csv(\"b2_a_iii_train.csv\", index=False)\n",
    "df_test.to_csv(\"b2_a_iii_test.csv\", index=False)"
   ]
  }
 ],
 "metadata": {
  "kernelspec": {
   "display_name": "Python 3",
   "language": "python",
   "name": "python3"
  },
  "language_info": {
   "codemirror_mode": {
    "name": "ipython",
    "version": 3
   },
   "file_extension": ".py",
   "mimetype": "text/x-python",
   "name": "python",
   "nbconvert_exporter": "python",
   "pygments_lexer": "ipython3",
   "version": "3.5.2"
  }
 },
 "nbformat": 4,
 "nbformat_minor": 2
}
