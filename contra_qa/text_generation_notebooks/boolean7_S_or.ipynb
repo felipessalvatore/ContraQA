{
 "cells": [
  {
   "cell_type": "markdown",
   "metadata": {},
   "source": [
    "# Dataset boolean7: sentences conjoined by or\n",
    "\n",
    "Generating sentences of the form\n",
    "\n",
    "- 1) **c is P or d is Q, neither c is P nor d is Q** (contradiction)\n",
    "\n",
    "- 2) **c is P or d is Q, c is not P and d is not Q** (contradiction)\n",
    "\n",
    "- 3) **c is P or d is Q, c is not P or d is not Q** (non-contradiction)\n",
    "\n",
    "- 4) **c is P or d is Q, c (d) is not P (Q)** (non-contradiction)"
   ]
  },
  {
   "cell_type": "code",
   "execution_count": 1,
   "metadata": {},
   "outputs": [
    {
     "name": "stderr",
     "output_type": "stream",
     "text": [
      "/usr/lib/python3.5/importlib/_bootstrap.py:222: RuntimeWarning: numpy.dtype size changed, may indicate binary incompatibility. Expected 96, got 88\n",
      "  return f(*args, **kwds)\n",
      "/usr/lib/python3.5/importlib/_bootstrap.py:222: RuntimeWarning: numpy.dtype size changed, may indicate binary incompatibility. Expected 96, got 88\n",
      "  return f(*args, **kwds)\n",
      "/usr/lib/python3.5/importlib/_bootstrap.py:222: RuntimeWarning: numpy.dtype size changed, may indicate binary incompatibility. Expected 96, got 88\n",
      "  return f(*args, **kwds)\n",
      "/usr/lib/python3.5/importlib/_bootstrap.py:222: RuntimeWarning: numpy.dtype size changed, may indicate binary incompatibility. Expected 96, got 88\n",
      "  return f(*args, **kwds)\n",
      "/usr/lib/python3.5/importlib/_bootstrap.py:222: RuntimeWarning: numpy.dtype size changed, may indicate binary incompatibility. Expected 96, got 88\n",
      "  return f(*args, **kwds)\n",
      "/usr/lib/python3.5/importlib/_bootstrap.py:222: RuntimeWarning: numpy.dtype size changed, may indicate binary incompatibility. Expected 96, got 88\n",
      "  return f(*args, **kwds)\n"
     ]
    }
   ],
   "source": [
    "import numpy as np\n",
    "import pandas as pd\n",
    "from word_lists import name_list, positive_personality_list\n",
    "from word_lists import apparance_list, negative_personality_list\n",
    "import os\n",
    "import inspect\n",
    "import sys\n",
    "import itertools\n",
    "\n",
    "almost_current = os.path.abspath(inspect.getfile(inspect.currentframe()))\n",
    "currentdir = os.path.dirname(almost_current)\n",
    "parentdir = os.path.dirname(currentdir)\n",
    "sys.path.insert(0, parentdir)\n",
    "\n",
    "from plots.functions import plot_histogram_from_labels # noqa\n",
    "\n",
    "% matplotlib inline"
   ]
  },
  {
   "cell_type": "code",
   "execution_count": 2,
   "metadata": {},
   "outputs": [],
   "source": [
    "def get_new_item(item_list, src_list):\n",
    "    size = len(src_list)\n",
    "    new_item = src_list[np.random.choice(size)]\n",
    "    while new_item in item_list: \n",
    "        new_i = np.random.choice(size)\n",
    "        new_item = src_list[new_i]\n",
    "    return new_item"
   ]
  },
  {
   "cell_type": "markdown",
   "metadata": {},
   "source": [
    "### Generating atoms"
   ]
  },
  {
   "cell_type": "code",
   "execution_count": 3,
   "metadata": {},
   "outputs": [],
   "source": [
    "qualities = positive_personality_list + apparance_list + negative_personality_list\n",
    "upper_bound = 11000/4"
   ]
  },
  {
   "cell_type": "markdown",
   "metadata": {},
   "source": [
    "### Generating all types of sentences"
   ]
  },
  {
   "cell_type": "markdown",
   "metadata": {},
   "source": [
    "- 1) **c is P or d is Q, neither c is P nor d is Q** (contradiction)"
   ]
  },
  {
   "cell_type": "code",
   "execution_count": 4,
   "metadata": {},
   "outputs": [
    {
     "name": "stdout",
     "output_type": "stream",
     "text": [
      "['Gloria is attractive or Elaine is zealous', ' neither Gloria is attractive nor Elaine is zealous', 1]\n",
      "['Pamela is pitiful or Julie is nervous', ' neither Pamela is pitiful nor Julie is nervous', 1]\n",
      "['Gertrude is gorgeous or Geraldine is plain', ' neither Gertrude is gorgeous nor Geraldine is plain', 1]\n",
      "['Valerie is embarrassed or Cecil is chubby', ' neither Valerie is embarrassed nor Cecil is chubby', 1]\n",
      "['Oscar is zealous or Eugene is flabby', ' neither Oscar is zealous nor Eugene is flabby', 1]\n",
      "['Clarence is faithful or Chad is elegant', ' neither Clarence is faithful nor Chad is elegant', 1]\n",
      "['Eddie is bewildered or Willie is plain', ' neither Eddie is bewildered nor Willie is plain', 1]\n",
      "['Allison is attractive or Jim is helpless', ' neither Allison is attractive nor Jim is helpless', 1]\n",
      "['William is aggressive or Glenda is beautiful', ' neither William is aggressive nor Glenda is beautiful', 1]\n",
      "['Toni is proud or Joel is grumpy', ' neither Toni is proud nor Joel is grumpy', 1]\n"
     ]
    }
   ],
   "source": [
    "all_sentences_1 = []\n",
    "for i in range(int(upper_bound)):\n",
    "    person1 = get_new_item([], name_list)\n",
    "    person2 = get_new_item([person1], name_list)\n",
    "    pred1 = get_new_item([], qualities)\n",
    "    pred2 = get_new_item([pred1], qualities)\n",
    "    sentence = \"{} is {} or {} is {}, neither {} is {} nor {} is {}\".format(person1,\n",
    "                                                                            pred1,\n",
    "                                                                            person2,\n",
    "                                                                            pred2,\n",
    "                                                                            person1,\n",
    "                                                                            pred1,\n",
    "                                                                            person2,\n",
    "                                                                            pred2)\n",
    "    all_sentences_1.append(sentence)\n",
    "    \n",
    "all_sentences_1 = [sentence.split(\",\") + [1] for sentence in all_sentences_1]\n",
    "\n",
    "for sentence in all_sentences_1[0:10]:\n",
    "    print(sentence)"
   ]
  },
  {
   "cell_type": "markdown",
   "metadata": {},
   "source": [
    "- 2) **c is P or d is Q, c is not P and d is not Q** (contradiction)"
   ]
  },
  {
   "cell_type": "code",
   "execution_count": 5,
   "metadata": {},
   "outputs": [
    {
     "name": "stdout",
     "output_type": "stream",
     "text": [
      "['Rodney is proud or Stanley is beautiful', ' Rodney is not proud and Stanley is not beautiful', 1]\n",
      "['Joseph is obedient or Mitchell is zealous', ' Joseph is not obedient and Mitchell is not zealous', 1]\n",
      "['Joel is calm or Faye is zealous', ' Joel is not calm and Faye is not zealous', 1]\n",
      "['Glenda is happy or Cory is wonderful', ' Glenda is not happy and Cory is not wonderful', 1]\n",
      "['Julie is eager or Claude is nice', ' Julie is not eager and Claude is not nice', 1]\n",
      "['Tara is short or Harry is wonderful', ' Tara is not short and Harry is not wonderful', 1]\n",
      "['Ricardo is embarrassed or Vickie is lazy', ' Ricardo is not embarrassed and Vickie is not lazy', 1]\n",
      "['Eleanor is bald or Tracy is witty', ' Eleanor is not bald and Tracy is not witty', 1]\n",
      "['Christian is grumpy or Alberto is repulsive', ' Christian is not grumpy and Alberto is not repulsive', 1]\n",
      "['Clifford is polite or Tara is short', ' Clifford is not polite and Tara is not short', 1]\n"
     ]
    }
   ],
   "source": [
    "all_sentences_2 = []\n",
    "for i in range(int(upper_bound)):\n",
    "    person1 = get_new_item([], name_list)\n",
    "    person2 = get_new_item([person1], name_list)\n",
    "    pred1 = get_new_item([], qualities)\n",
    "    pred2 = get_new_item([pred1], qualities)\n",
    "    sentence = \"{} is {} or {} is {}, {} is not {} and {} is not {}\".format(person1,\n",
    "                                                                            pred1,\n",
    "                                                                            person2,\n",
    "                                                                            pred2,\n",
    "                                                                            person1,\n",
    "                                                                            pred1,\n",
    "                                                                            person2,\n",
    "                                                                            pred2)\n",
    "    all_sentences_2.append(sentence)\n",
    "    \n",
    "all_sentences_2 = [sentence.split(\",\") + [1] for sentence in all_sentences_2]\n",
    "\n",
    "for sentence in all_sentences_2[0:10]:\n",
    "    print(sentence)"
   ]
  },
  {
   "cell_type": "markdown",
   "metadata": {},
   "source": [
    "- 3) **c is P or d is Q, c is not P or d is not Q** (non-contradiction)"
   ]
  },
  {
   "cell_type": "code",
   "execution_count": 6,
   "metadata": {},
   "outputs": [
    {
     "name": "stdout",
     "output_type": "stream",
     "text": [
      "['Harold is plain or Clinton is brave', ' Harold is not plain or Clinton is not brave', 0]\n",
      "['Pearl is thoughtless or Jorge is wonderful', ' Pearl is not thoughtless or Jorge is not wonderful', 0]\n",
      "['Marshall is happy or Alberta is lively', ' Marshall is not happy or Alberta is not lively', 0]\n",
      "['Nora is handsome or Naomi is eager', ' Nora is not handsome or Naomi is not eager', 0]\n",
      "['Joanne is shapely or Viola is faithful', ' Joanne is not shapely or Viola is not faithful', 0]\n",
      "['Armando is shapely or Leona is ugly', ' Armando is not shapely or Leona is not ugly', 0]\n",
      "['Jerome is long or Jason is jealous', ' Jerome is not long or Jason is not jealous', 0]\n",
      "['Yvette is victorious or Roberto is jolly', ' Yvette is not victorious or Roberto is not jolly', 0]\n",
      "['Madeline is nervous or Alison is fancy', ' Madeline is not nervous or Alison is not fancy', 0]\n",
      "['Kathryn is bald or Sonya is clumsy', ' Kathryn is not bald or Sonya is not clumsy', 0]\n"
     ]
    }
   ],
   "source": [
    "all_sentences_3 = []\n",
    "for i in range(int(upper_bound)):\n",
    "    person1 = get_new_item([], name_list)\n",
    "    person2 = get_new_item([person1], name_list)\n",
    "    pred1 = get_new_item([], qualities)\n",
    "    pred2 = get_new_item([pred1], qualities)\n",
    "    sentence = \"{} is {} or {} is {}, {} is not {} or {} is not {}\".format(person1,\n",
    "                                                                            pred1,\n",
    "                                                                            person2,\n",
    "                                                                            pred2,\n",
    "                                                                            person1,\n",
    "                                                                            pred1,\n",
    "                                                                            person2,\n",
    "                                                                            pred2)\n",
    "    all_sentences_3.append(sentence)\n",
    "    \n",
    "all_sentences_3 = [sentence.split(\",\") + [0] for sentence in all_sentences_3]\n",
    "\n",
    "for sentence in all_sentences_3[0:10]:\n",
    "    print(sentence)"
   ]
  },
  {
   "cell_type": "markdown",
   "metadata": {},
   "source": [
    "- 4) **c is P or d is Q, c (d) is not P (Q)** (non-contradiction)"
   ]
  },
  {
   "cell_type": "code",
   "execution_count": 7,
   "metadata": {},
   "outputs": [
    {
     "name": "stdout",
     "output_type": "stream",
     "text": [
      "['Ellen is embarrassed or Jessie is glamorous', ' Ellen is not embarrassed', 0]\n",
      "['Marsha is obnoxious or Lillian is stocky', ' Lillian is not stocky', 0]\n",
      "['Melissa is beautiful or Melvin is fancy', ' Melissa is not beautiful', 0]\n",
      "['Ron is beautiful or Robert is lazy', ' Robert is not lazy', 0]\n",
      "['Bill is gorgeous or Olga is beautiful', ' Bill is not gorgeous', 0]\n",
      "['Elsie is drab or Christopher is witty', ' Christopher is not witty', 0]\n",
      "['Maggie is helpless or Carlos is uptight', ' Maggie is not helpless', 0]\n",
      "['Brian is delightful or Andy is stocky', ' Andy is not stocky', 0]\n",
      "['Sally is shapely or Warren is beautiful', ' Sally is not shapely', 0]\n",
      "['Paula is scary or Claire is shapely', ' Claire is not shapely', 0]\n"
     ]
    }
   ],
   "source": [
    "all_sentences_4 = []\n",
    "for i in range(int(upper_bound)):\n",
    "    person1 = get_new_item([], name_list)\n",
    "    person2 = get_new_item([person1], name_list)\n",
    "    pred1 = get_new_item([], qualities)\n",
    "    pred2 = get_new_item([pred1], qualities)\n",
    "    if i % 2 == 0:\n",
    "        person3 = person1\n",
    "        pred3 = pred1\n",
    "    else:\n",
    "        person3 = person2\n",
    "        pred3 = pred2\n",
    "    sentence = \"{} is {} or {} is {}, {} is not {}\".format(person1,\n",
    "                                                           pred1,\n",
    "                                                           person2,\n",
    "                                                           pred2,\n",
    "                                                           person3,\n",
    "                                                           pred3)\n",
    "    all_sentences_4.append(sentence)\n",
    "    \n",
    "all_sentences_4 = [sentence.split(\",\") + [0] for sentence in all_sentences_4]\n",
    "\n",
    "for sentence in all_sentences_4[0:10]:\n",
    "    print(sentence)"
   ]
  },
  {
   "cell_type": "code",
   "execution_count": 8,
   "metadata": {},
   "outputs": [
    {
     "name": "stdout",
     "output_type": "stream",
     "text": [
      "type 1 size = 2750\n",
      "type 2 size = 2750\n",
      "type 3 size = 2750\n",
      "type 4 size = 2750\n",
      "total size = 11000\n"
     ]
    }
   ],
   "source": [
    "np.random.shuffle(all_sentences_1)\n",
    "np.random.shuffle(all_sentences_2)\n",
    "np.random.shuffle(all_sentences_3)\n",
    "np.random.shuffle(all_sentences_4)\n",
    "\n",
    "\n",
    "\n",
    "size1 = len(all_sentences_1)\n",
    "size2 = len(all_sentences_2)\n",
    "size3 = len(all_sentences_3)\n",
    "size4 = len(all_sentences_4)\n",
    "\n",
    "all_sentences = all_sentences_1 + all_sentences_2 + all_sentences_3 + all_sentences_4\n",
    "size = len(all_sentences)\n",
    "\n",
    "print(\"type 1 size = {}\".format(size1))\n",
    "print(\"type 2 size = {}\".format(size2))\n",
    "print(\"type 3 size = {}\".format(size3))\n",
    "print(\"type 4 size = {}\".format(size4))\n",
    "print(\"total size = {}\".format(size))"
   ]
  },
  {
   "cell_type": "markdown",
   "metadata": {},
   "source": [
    "### Generating a train DataFrame with 10000 examples and a test DataFrame with 1000 examples "
   ]
  },
  {
   "cell_type": "code",
   "execution_count": 9,
   "metadata": {},
   "outputs": [
    {
     "data": {
      "text/html": [
       "<div>\n",
       "<style scoped>\n",
       "    .dataframe tbody tr th:only-of-type {\n",
       "        vertical-align: middle;\n",
       "    }\n",
       "\n",
       "    .dataframe tbody tr th {\n",
       "        vertical-align: top;\n",
       "    }\n",
       "\n",
       "    .dataframe thead th {\n",
       "        text-align: right;\n",
       "    }\n",
       "</style>\n",
       "<table border=\"1\" class=\"dataframe\">\n",
       "  <thead>\n",
       "    <tr style=\"text-align: right;\">\n",
       "      <th></th>\n",
       "      <th>sentence1</th>\n",
       "      <th>sentence2</th>\n",
       "      <th>label</th>\n",
       "    </tr>\n",
       "  </thead>\n",
       "  <tbody>\n",
       "    <tr>\n",
       "      <th>10995</th>\n",
       "      <td>Penny is ugly or Christine is victorious</td>\n",
       "      <td>neither Penny is ugly nor Christine is victor...</td>\n",
       "      <td>1</td>\n",
       "    </tr>\n",
       "    <tr>\n",
       "      <th>10996</th>\n",
       "      <td>Nicole is elegant or Nellie is attractive</td>\n",
       "      <td>Nicole is not elegant and Nellie is not attra...</td>\n",
       "      <td>1</td>\n",
       "    </tr>\n",
       "    <tr>\n",
       "      <th>10997</th>\n",
       "      <td>Vanessa is quaint or Leslie is shapely</td>\n",
       "      <td>neither Vanessa is quaint nor Leslie is shapely</td>\n",
       "      <td>1</td>\n",
       "    </tr>\n",
       "    <tr>\n",
       "      <th>10998</th>\n",
       "      <td>Doris is angry or Melissa is panicky</td>\n",
       "      <td>Doris is not angry or Melissa is not panicky</td>\n",
       "      <td>0</td>\n",
       "    </tr>\n",
       "    <tr>\n",
       "      <th>10999</th>\n",
       "      <td>Candace is fierce or Gwendolyn is stocky</td>\n",
       "      <td>Candace is not fierce</td>\n",
       "      <td>0</td>\n",
       "    </tr>\n",
       "  </tbody>\n",
       "</table>\n",
       "</div>"
      ],
      "text/plain": [
       "                                       sentence1  \\\n",
       "10995   Penny is ugly or Christine is victorious   \n",
       "10996  Nicole is elegant or Nellie is attractive   \n",
       "10997     Vanessa is quaint or Leslie is shapely   \n",
       "10998       Doris is angry or Melissa is panicky   \n",
       "10999   Candace is fierce or Gwendolyn is stocky   \n",
       "\n",
       "                                               sentence2  label  \n",
       "10995   neither Penny is ugly nor Christine is victor...      1  \n",
       "10996   Nicole is not elegant and Nellie is not attra...      1  \n",
       "10997    neither Vanessa is quaint nor Leslie is shapely      1  \n",
       "10998       Doris is not angry or Melissa is not panicky      0  \n",
       "10999                              Candace is not fierce      0  "
      ]
     },
     "execution_count": 9,
     "metadata": {},
     "output_type": "execute_result"
    }
   ],
   "source": [
    "sentence_1 = [triple[0] for triple in all_sentences]\n",
    "sentence_2 = [triple[1] for triple in all_sentences]\n",
    "label = [triple[2] for triple in all_sentences]\n",
    "\n",
    "df_dict = {\"sentence1\": sentence_1,\n",
    "           \"sentence2\": sentence_2,\n",
    "           \"label\": label}\n",
    "        \n",
    "df = pd.DataFrame(df_dict)\n",
    "df = df[[\"sentence1\", \"sentence2\", \"label\"]]\n",
    "df = df.sample(frac=1).reset_index(drop=True)\n",
    "\n",
    "df_train = df.iloc[:10000]\n",
    "df_test = df.iloc[10000:]\n",
    "\n",
    "df.tail()    "
   ]
  },
  {
   "cell_type": "markdown",
   "metadata": {},
   "source": [
    "#### Looking at the label distribution"
   ]
  },
  {
   "cell_type": "code",
   "execution_count": 10,
   "metadata": {},
   "outputs": [
    {
     "data": {
      "image/png": "[encoded data removed]",
      "text/plain": [
       "<Figure size 432x288 with 1 Axes>"
      ]
     },
     "metadata": {},
     "output_type": "display_data"
    }
   ],
   "source": [
    "train_label = df_train[\"label\"].values\n",
    "plot_histogram_from_labels(train_label, [\"no\", \"yes\"], \"boolean7_train.png\")"
   ]
  },
  {
   "cell_type": "code",
   "execution_count": 11,
   "metadata": {},
   "outputs": [
    {
     "data": {
      "image/png": "[encoded data removed]",
      "text/plain": [
       "<Figure size 432x288 with 1 Axes>"
      ]
     },
     "metadata": {},
     "output_type": "display_data"
    }
   ],
   "source": [
    "test_label = df_test[\"label\"].values\n",
    "plot_histogram_from_labels(test_label, [\"no\", \"yes\"], \"boolean7_test.png\")"
   ]
  },
  {
   "cell_type": "markdown",
   "metadata": {},
   "source": [
    "### Saving to CSV"
   ]
  },
  {
   "cell_type": "code",
   "execution_count": 12,
   "metadata": {},
   "outputs": [],
   "source": [
    "df_train.to_csv(\"boolean7_train.csv\", index=False)\n",
    "df_test.to_csv(\"boolean7_test.csv\", index=False)"
   ]
  }
 ],
 "metadata": {
  "kernelspec": {
   "display_name": "Python 3",
   "language": "python",
   "name": "python3"
  },
  "language_info": {
   "codemirror_mode": {
    "name": "ipython",
    "version": 3
   },
   "file_extension": ".py",
   "mimetype": "text/x-python",
   "name": "python",
   "nbconvert_exporter": "python",
   "pygments_lexer": "ipython3",
   "version": "3.5.2"
  }
 },
 "nbformat": 4,
 "nbformat_minor": 2
}
