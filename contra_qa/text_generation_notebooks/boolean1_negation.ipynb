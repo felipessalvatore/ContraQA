{
 "cells": [
  {
   "cell_type": "markdown",
   "metadata": {},
   "source": [
    "# Dataset boolean1: simple negation\n",
    "\n",
    "Generating sentences of the form\n",
    "\n",
    "- 1) **c is P, c is not P** (contradiction)\n",
    "\n",
    "- 2) **c is not P, c is P** (contradiction)\n",
    "\n",
    "- 3) **c is P, c is Q** (non-contradiction)\n",
    "\n",
    "- 4) **c is P, c is not Q** (non-contradiction)\n",
    "\n",
    "- 5) **c is not P, c is Q** (non-contradiction)\n",
    "\n",
    "- 6) **c is P, d is Q** (non-contradiction)\n",
    "\n",
    "- 7) **c is P, d is not Q** (non-contradiction)\n",
    "\n",
    "- 8) **c is not P, d is Q** (non-contradiction)\n",
    "\n",
    "- 9) **c is P, d is not P** (non-contradiction)\n",
    "\n",
    "- 10) **c is not P, d is P** (non-contradiction)\n"
   ]
  },
  {
   "cell_type": "code",
   "execution_count": 1,
   "metadata": {},
   "outputs": [
    {
     "name": "stderr",
     "output_type": "stream",
     "text": [
      "/usr/lib/python3.5/importlib/_bootstrap.py:222: RuntimeWarning: numpy.dtype size changed, may indicate binary incompatibility. Expected 96, got 88\n",
      "  return f(*args, **kwds)\n",
      "/usr/lib/python3.5/importlib/_bootstrap.py:222: RuntimeWarning: numpy.dtype size changed, may indicate binary incompatibility. Expected 96, got 88\n",
      "  return f(*args, **kwds)\n",
      "/usr/lib/python3.5/importlib/_bootstrap.py:222: RuntimeWarning: numpy.dtype size changed, may indicate binary incompatibility. Expected 96, got 88\n",
      "  return f(*args, **kwds)\n",
      "/usr/lib/python3.5/importlib/_bootstrap.py:222: RuntimeWarning: numpy.dtype size changed, may indicate binary incompatibility. Expected 96, got 88\n",
      "  return f(*args, **kwds)\n",
      "/usr/lib/python3.5/importlib/_bootstrap.py:222: RuntimeWarning: numpy.dtype size changed, may indicate binary incompatibility. Expected 96, got 88\n",
      "  return f(*args, **kwds)\n",
      "/usr/lib/python3.5/importlib/_bootstrap.py:222: RuntimeWarning: numpy.dtype size changed, may indicate binary incompatibility. Expected 96, got 88\n",
      "  return f(*args, **kwds)\n"
     ]
    }
   ],
   "source": [
    "import numpy as np\n",
    "import pandas as pd\n",
    "from word_lists import name_list, positive_personality_list, condition_list\n",
    "import os\n",
    "import inspect\n",
    "import sys\n",
    "import itertools\n",
    "\n",
    "almost_current = os.path.abspath(inspect.getfile(inspect.currentframe()))\n",
    "currentdir = os.path.dirname(almost_current)\n",
    "parentdir = os.path.dirname(currentdir)\n",
    "sys.path.insert(0, parentdir)\n",
    "\n",
    "from plots.functions import plot_histogram_from_labels # noqa\n",
    "\n",
    "% matplotlib inline"
   ]
  },
  {
   "cell_type": "markdown",
   "metadata": {},
   "source": [
    "### Generating all types of propositions"
   ]
  },
  {
   "cell_type": "markdown",
   "metadata": {},
   "source": [
    "- 1) **c is P, c is not P** (contradiction)"
   ]
  },
  {
   "cell_type": "code",
   "execution_count": 2,
   "metadata": {},
   "outputs": [
    {
     "name": "stdout",
     "output_type": "stream",
     "text": [
      "Type 1 sentences:\n",
      "\n",
      "['Anne is jolly', ' Anne is not jolly', 1]\n",
      "['Emma is witty', ' Emma is not witty', 1]\n",
      "['Barbara is nice', ' Barbara is not nice', 1]\n",
      "['Dwight is agreeable', ' Dwight is not agreeable', 1]\n",
      "['Lance is victorious', ' Lance is not victorious', 1]\n",
      "['Billy is happy', ' Billy is not happy', 1]\n",
      "['Brent is victorious', ' Brent is not victorious', 1]\n",
      "['Esther is victorious', ' Esther is not victorious', 1]\n",
      "['Lester is kind', ' Lester is not kind', 1]\n",
      "['Donna is proud', ' Donna is not proud', 1]\n"
     ]
    }
   ],
   "source": [
    "template1 = itertools.product(name_list, positive_personality_list)\n",
    "template1 = list(template1)\n",
    "all_sentences_1 = [\"{} is {}, {} is not {}\".format(car,cdr,car,cdr) for car, cdr in template1]\n",
    "all_sentences_1 = [ sentence.split(\",\") + [1] for sentence in all_sentences_1]\n",
    "np.random.shuffle(all_sentences_1)\n",
    "\n",
    "print(\"Type 1 sentences:\\n\")\n",
    "for sentence in all_sentences_1[0:10]:\n",
    "    print(sentence)"
   ]
  },
  {
   "cell_type": "markdown",
   "metadata": {},
   "source": [
    "- 2) **c is P, c is not P** (contradiction)"
   ]
  },
  {
   "cell_type": "code",
   "execution_count": 3,
   "metadata": {},
   "outputs": [
    {
     "name": "stdout",
     "output_type": "stream",
     "text": [
      "Type 2 sentences:\n",
      "\n",
      "['Jorge is not dead', ' Jorge is dead', 1]\n",
      "['Cody is not dead', ' Cody is dead', 1]\n",
      "['Molly is not inexpensive', ' Molly is inexpensive', 1]\n",
      "['Esther is not inexpensive', ' Esther is inexpensive', 1]\n",
      "['Kim is not easy', ' Kim is easy', 1]\n",
      "['Carole is not alive', ' Carole is alive', 1]\n",
      "['Lillian is not helpful', ' Lillian is helpful', 1]\n",
      "['Myrtle is not better', ' Myrtle is better', 1]\n",
      "['Marsha is not dead', ' Marsha is dead', 1]\n",
      "['Erin is not tender', ' Erin is tender', 1]\n"
     ]
    }
   ],
   "source": [
    "template2 = itertools.product(name_list, condition_list)\n",
    "template2 = list(template2)\n",
    "all_sentences_2 = [\"{} is not {}, {} is {}\".format(car,cdr,car,cdr) for car, cdr in template2]\n",
    "all_sentences_2 = [ sentence.split(\",\") + [1] for sentence in all_sentences_2]\n",
    "np.random.shuffle(all_sentences_2)\n",
    "\n",
    "print(\"Type 2 sentences:\\n\")\n",
    "for sentence in all_sentences_2[0:10]:\n",
    "    print(sentence)"
   ]
  },
  {
   "cell_type": "markdown",
   "metadata": {},
   "source": [
    "- 3) **c is P, c is Q** (non-contradiction)"
   ]
  },
  {
   "cell_type": "code",
   "execution_count": 4,
   "metadata": {},
   "outputs": [
    {
     "name": "stdout",
     "output_type": "stream",
     "text": [
      "Type 3 sentences:\n",
      "\n",
      "['Alberta is proud', ' Alberta is hallowed', 0]\n",
      "['Brandy is faithful', ' Brandy is dead', 0]\n",
      "['Melvin is lively', ' Melvin is careful', 0]\n",
      "['Mattie is brave', ' Mattie is careful', 0]\n",
      "['Lee is brave', ' Lee is helpful', 0]\n",
      "['Carole is obedient', ' Carole is better', 0]\n",
      "['Martha is thankful', ' Martha is tender', 0]\n",
      "['Billie is wonderful', ' Billie is dead', 0]\n",
      "['Audrey is obedient', ' Audrey is uninterested', 0]\n",
      "['Renee is happy', ' Renee is helpful', 0]\n"
     ]
    }
   ],
   "source": [
    "template3 = itertools.product(name_list, positive_personality_list, condition_list)\n",
    "template3 = list(template3)\n",
    "all_sentences_3 = [\"{} is {}, {} is {}\".format(car,\n",
    "                                               cdr,\n",
    "                                               car,\n",
    "                                               cddr) for car, cdr, cddr in template3]\n",
    "\n",
    "all_sentences_3 = [ sentence.split(\",\") + [0] for sentence in all_sentences_3]\n",
    "np.random.shuffle(all_sentences_3)\n",
    "\n",
    "print(\"Type 3 sentences:\\n\")\n",
    "for sentence in all_sentences_3[0:10]:\n",
    "    print(sentence)"
   ]
  },
  {
   "cell_type": "markdown",
   "metadata": {},
   "source": [
    "- 4) **c is P, c is not Q** (non-contradiction)"
   ]
  },
  {
   "cell_type": "code",
   "execution_count": 5,
   "metadata": {},
   "outputs": [
    {
     "name": "stdout",
     "output_type": "stream",
     "text": [
      "Type 4 sentences:\n",
      "\n",
      "['Maxine is wonderful', ' Maxine is not hallowed', 0]\n",
      "['Harvey is lively', ' Harvey is not easy', 0]\n",
      "['Clyde is victorious', ' Clyde is not unimportant', 0]\n",
      "['Miriam is jolly', ' Miriam is not mealy', 0]\n",
      "['Glen is zealous', ' Glen is not helpful', 0]\n",
      "['Philip is calm', ' Philip is not tender', 0]\n",
      "['Jeanette is eager', ' Jeanette is not hallowed', 0]\n",
      "['Philip is happy', ' Philip is not mushy', 0]\n",
      "['Kristen is victorious', ' Kristen is not rich', 0]\n",
      "['Jason is eager', ' Jason is not vast', 0]\n"
     ]
    }
   ],
   "source": [
    "all_sentences_4 = [\"{} is {}, {} is not {}\".format(car,cdr,car,cddr) for car, cdr, cddr in template3]\n",
    "\n",
    "all_sentences_4 = [ sentence.split(\",\") + [0] for sentence in all_sentences_4]\n",
    "\n",
    "np.random.shuffle(all_sentences_4)\n",
    "\n",
    "print(\"Type 4 sentences:\\n\")\n",
    "for sentence in all_sentences_4[0:10]:\n",
    "    print(sentence)"
   ]
  },
  {
   "cell_type": "markdown",
   "metadata": {},
   "source": [
    "- 5) **c is not P, c is Q** (non-contradiction)"
   ]
  },
  {
   "cell_type": "code",
   "execution_count": 6,
   "metadata": {},
   "outputs": [
    {
     "name": "stdout",
     "output_type": "stream",
     "text": [
      "Type 5 sentences:\n",
      "\n",
      "['Alex is not brave', ' Alex is alive', 0]\n",
      "['Julian is not victorious', ' Julian is poor', 0]\n",
      "['June is not silly', ' June is odd', 0]\n",
      "['Richard is not proud', ' Richard is powerful', 0]\n",
      "['Jennie is not lively', ' Jennie is easy', 0]\n",
      "['Jill is not faithful', ' Jill is easy', 0]\n",
      "['Maria is not wonderful', ' Maria is odd', 0]\n",
      "['Lorraine is not proud', ' Lorraine is better', 0]\n",
      "['Alice is not silly', ' Alice is inexpensive', 0]\n",
      "['Gene is not eager', ' Gene is dead', 0]\n"
     ]
    }
   ],
   "source": [
    "all_sentences_5 = [\"{} is not {}, {} is {}\".format(car,cdr,car,cddr) for car, cdr, cddr in template3]\n",
    "\n",
    "all_sentences_5 = [ sentence.split(\",\") + [0] for sentence in all_sentences_5]\n",
    "\n",
    "np.random.shuffle(all_sentences_5)\n",
    "\n",
    "print(\"Type 5 sentences:\\n\")\n",
    "for sentence in all_sentences_5[0:10]:\n",
    "    print(sentence)"
   ]
  },
  {
   "cell_type": "markdown",
   "metadata": {},
   "source": [
    "- 6) **c is P, d is Q** (non-contradiction)"
   ]
  },
  {
   "cell_type": "code",
   "execution_count": 7,
   "metadata": {},
   "outputs": [
    {
     "name": "stdout",
     "output_type": "stream",
     "text": [
      "Type 6 sentences:\n",
      "\n",
      "['Judith is calm', ' Vickie is important', 0]\n",
      "['Roberta is jolly', ' Morris is odd', 0]\n",
      "['Stanley is eager', ' Esther is wrong', 0]\n",
      "['Shawn is happy', ' Fernando is dead', 0]\n",
      "['Cecil is proud', ' Randall is inexpensive', 0]\n",
      "['Andrea is aggressive', ' Amanda is gifted', 0]\n",
      "['Jeremy is lively', ' Corey is unimportant', 0]\n",
      "['Sheryl is aggressive', ' Grace is shy', 0]\n",
      "['Joanna is wonderful', ' Maureen is vast', 0]\n",
      "['Alberto is witty', ' Joanne is careful', 0]\n"
     ]
    }
   ],
   "source": [
    "np.random.shuffle(template3)\n",
    "\n",
    "template6 = template3[0:1100]\n",
    "\n",
    "all_sentences_6 = []\n",
    "\n",
    "for triple in template6:\n",
    "    new_name = triple[0]\n",
    "    while new_name == triple[0]:\n",
    "        i = np.random.choice(len(name_list))\n",
    "        new_name = name_list[i]\n",
    "    car, cdr, cddr = triple \n",
    "    all_sentences_6.append(\"{} is {}, {} is {}\".format(car,cdr,new_name,cddr))\n",
    "\n",
    "all_sentences_6 = [ sentence.split(\",\") + [0] for sentence in all_sentences_6]    \n",
    "\n",
    "np.random.shuffle(all_sentences_6)\n",
    "\n",
    "print(\"Type 6 sentences:\\n\")\n",
    "for sentence in all_sentences_6[0:10]:\n",
    "    print(sentence)"
   ]
  },
  {
   "cell_type": "markdown",
   "metadata": {},
   "source": [
    "- 7) **c is P, d is not Q** (non-contradiction)"
   ]
  },
  {
   "cell_type": "code",
   "execution_count": 8,
   "metadata": {},
   "outputs": [
    {
     "name": "stdout",
     "output_type": "stream",
     "text": [
      "Type 7 sentences:\n",
      "\n",
      "['Christy is lively', ' Amelia is not rich', 0]\n",
      "['Clarence is obedient', ' Leo is not mushy', 0]\n",
      "['Jane is ambitious', ' Eunice is not easy', 0]\n",
      "['Gloria is silly', ' Alvin is not clever', 0]\n",
      "['Kristy is lively', ' Arthur is not helpful', 0]\n",
      "['Steve is kind', ' Angel is not better', 0]\n",
      "['Marcia is brave', ' Gina is not famous', 0]\n",
      "['Lula is faithful', ' Anne is not dead', 0]\n",
      "['Howard is witty', ' Tanya is not clever', 0]\n",
      "['Judy is proud', ' Joel is not unimportant', 0]\n"
     ]
    }
   ],
   "source": [
    "np.random.shuffle(template3)\n",
    "\n",
    "template7 = template3[0:1100]\n",
    "\n",
    "all_sentences_7 = []\n",
    "\n",
    "for triple in template7:\n",
    "    new_name = triple[0]\n",
    "    while new_name == triple[0]:\n",
    "        i = np.random.choice(len(name_list))\n",
    "        new_name = name_list[i]\n",
    "    car, cdr, cddr = triple \n",
    "    all_sentences_7.append(\"{} is {}, {} is not {}\".format(car,cdr,new_name,cddr))\n",
    "\n",
    "all_sentences_7 = [ sentence.split(\",\") + [0] for sentence in all_sentences_7]    \n",
    "    \n",
    "np.random.shuffle(all_sentences_7)\n",
    "\n",
    "print(\"Type 7 sentences:\\n\")\n",
    "for sentence in all_sentences_7[0:10]:\n",
    "    print(sentence)"
   ]
  },
  {
   "cell_type": "markdown",
   "metadata": {},
   "source": [
    "- 8) **c is not P, d is Q** (non-contradiction)"
   ]
  },
  {
   "cell_type": "code",
   "execution_count": 9,
   "metadata": {},
   "outputs": [
    {
     "name": "stdout",
     "output_type": "stream",
     "text": [
      "Type 8 sentences:\n",
      "\n",
      "['Mabel is not brave', ' Jessica is powerful', 0]\n",
      "['Jennie is not obedient', ' Phyllis is mushy', 0]\n",
      "['Sean is not gentle', ' Gail is clever', 0]\n",
      "['Fannie is not victorious', ' Nora is hallowed', 0]\n",
      "['William is not obedient', ' Wallace is uninterested', 0]\n",
      "['Edward is not jolly', ' Pearl is famous', 0]\n",
      "['Jim is not nice', ' Johnnie is helpful', 0]\n",
      "['Judith is not obedient', ' Kristina is powerful', 0]\n",
      "['Gordon is not obedient', ' Joel is famous', 0]\n",
      "['Melissa is not silly', ' Judy is clever', 0]\n"
     ]
    }
   ],
   "source": [
    "np.random.shuffle(template3)\n",
    "\n",
    "template8 = template3[0:1100]\n",
    "\n",
    "all_sentences_8 = []\n",
    "\n",
    "for triple in template8:\n",
    "    new_name = triple[0]\n",
    "    while new_name == triple[0]:\n",
    "        i = np.random.choice(len(name_list))\n",
    "        new_name = name_list[i]\n",
    "    car, cdr, cddr = triple \n",
    "    all_sentences_8.append(\"{} is not {}, {} is {}\".format(car,cdr,new_name,cddr))\n",
    "\n",
    "all_sentences_8 = [ sentence.split(\",\") + [0] for sentence in all_sentences_8]    \n",
    "    \n",
    "np.random.shuffle(all_sentences_8)\n",
    "\n",
    "print(\"Type 8 sentences:\\n\")\n",
    "for sentence in all_sentences_8[0:10]:\n",
    "    print(sentence)"
   ]
  },
  {
   "cell_type": "markdown",
   "metadata": {},
   "source": [
    "- 9) **c is P, d is not P** (non-contradiction)"
   ]
  },
  {
   "cell_type": "code",
   "execution_count": 10,
   "metadata": {},
   "outputs": [
    {
     "name": "stdout",
     "output_type": "stream",
     "text": [
      "Type 9 sentences:\n",
      "\n",
      "['Andrea is delightful', ' Florence is not delightful', 0]\n",
      "['Marcia is kind', ' Phyllis is not kind', 0]\n",
      "['Larry is witty', ' Ruby is not witty', 0]\n",
      "['Lonnie is gentle', ' Doris is not gentle', 0]\n",
      "['Tiffany is delightful', ' Victor is not delightful', 0]\n",
      "['Phyllis is faithful', ' Andrew is not faithful', 0]\n",
      "['Vera is faithful', ' Alex is not faithful', 0]\n",
      "['Vincent is proud', ' George is not proud', 0]\n",
      "['Antonio is faithful', ' Maureen is not faithful', 0]\n",
      "['Opal is agreeable', ' Hilda is not agreeable', 0]\n"
     ]
    }
   ],
   "source": [
    "np.random.shuffle(template1)\n",
    "\n",
    "template9 = template1[0:1100]\n",
    "\n",
    "all_sentences_9 = []\n",
    "\n",
    "for car,cdr in template9:\n",
    "    new_name = car\n",
    "    while new_name == car:\n",
    "        i = np.random.choice(len(name_list))\n",
    "        new_name = name_list[i] \n",
    "    all_sentences_9.append(\"{} is {}, {} is not {}\".format(car,cdr,new_name,cdr))\n",
    "\n",
    "all_sentences_9 = [ sentence.split(\",\") + [0] for sentence in all_sentences_9]\n",
    "\n",
    "np.random.shuffle(all_sentences_9)\n",
    "\n",
    "print(\"Type 9 sentences:\\n\")\n",
    "for sentence in all_sentences_9[0:10]:\n",
    "    print(sentence)"
   ]
  },
  {
   "cell_type": "markdown",
   "metadata": {},
   "source": [
    "- 10) **c is not P, d is P** (non-contradiction)"
   ]
  },
  {
   "cell_type": "code",
   "execution_count": 11,
   "metadata": {},
   "outputs": [
    {
     "name": "stdout",
     "output_type": "stream",
     "text": [
      "Type 10 sentences:\n",
      "\n",
      "['Russell is not agreeable', ' Jessie is agreeable', 0]\n",
      "['Jesse is not brave', ' Molly is brave', 0]\n",
      "['Lula is not jolly', ' Olivia is jolly', 0]\n",
      "['Angel is not agreeable', ' Clifford is agreeable', 0]\n",
      "['Maggie is not aggressive', ' Joshua is aggressive', 0]\n",
      "['Georgia is not witty', ' Dean is witty', 0]\n",
      "['Deborah is not happy', ' Nicholas is happy', 0]\n",
      "['Justin is not witty', ' Claudia is witty', 0]\n",
      "['Jose is not obedient', ' Constance is obedient', 0]\n",
      "['Monique is not zealous', ' Roy is zealous', 0]\n"
     ]
    }
   ],
   "source": [
    "np.random.shuffle(template1)\n",
    "\n",
    "template10 = template1[0:1100]\n",
    "\n",
    "all_sentences_10 = []\n",
    "\n",
    "for car,cdr in template10:\n",
    "    new_name = car\n",
    "    while new_name == car:\n",
    "        i = np.random.choice(len(name_list))\n",
    "        new_name = name_list[i] \n",
    "    all_sentences_10.append(\"{} is not {}, {} is {}\".format(car,cdr,new_name,cdr))\n",
    "\n",
    "all_sentences_10 = [ sentence.split(\",\") + [0] for sentence in all_sentences_10]\n",
    "\n",
    "np.random.shuffle(all_sentences_10)\n",
    "\n",
    "print(\"Type 10 sentences:\\n\")\n",
    "for sentence in all_sentences_10[0:10]:\n",
    "    print(sentence)"
   ]
  },
  {
   "cell_type": "code",
   "execution_count": 12,
   "metadata": {},
   "outputs": [
    {
     "name": "stdout",
     "output_type": "stream",
     "text": [
      "type 1 size = 2750\n",
      "type 2 size = 2750\n",
      "type 3 size = 688\n",
      "type 4 size = 688\n",
      "type 5 size = 688\n",
      "type 6 size = 688\n",
      "type 7 size = 688\n",
      "type 8 size = 688\n",
      "type 9 size = 688\n",
      "type 10 size = 688\n",
      "total size = 11004\n"
     ]
    }
   ],
   "source": [
    "np.random.shuffle(all_sentences_1)\n",
    "np.random.shuffle(all_sentences_2)\n",
    "np.random.shuffle(all_sentences_3)\n",
    "np.random.shuffle(all_sentences_4)\n",
    "np.random.shuffle(all_sentences_5)\n",
    "np.random.shuffle(all_sentences_6)\n",
    "np.random.shuffle(all_sentences_7)\n",
    "np.random.shuffle(all_sentences_8)\n",
    "np.random.shuffle(all_sentences_9)\n",
    "np.random.shuffle(all_sentences_10)\n",
    "\n",
    "all_sentences_1 = all_sentences_1[0:2750]\n",
    "all_sentences_2 = all_sentences_2[0:2750]\n",
    "all_sentences_3 = all_sentences_3[0:688]\n",
    "all_sentences_4 = all_sentences_4[0:688]\n",
    "all_sentences_5 = all_sentences_5[0:688]\n",
    "all_sentences_6 = all_sentences_6[0:688]\n",
    "all_sentences_7 = all_sentences_7[0:688]\n",
    "all_sentences_8 = all_sentences_8[0:688]\n",
    "all_sentences_9 = all_sentences_9[0:688]\n",
    "all_sentences_10 = all_sentences_10[0:688]\n",
    "\n",
    "\n",
    "\n",
    "size1 = len(all_sentences_1)\n",
    "size2 = len(all_sentences_2)\n",
    "size3 = len(all_sentences_3)\n",
    "size4 = len(all_sentences_4)\n",
    "size5 = len(all_sentences_5)\n",
    "size6 = len(all_sentences_6)\n",
    "size7 = len(all_sentences_7)\n",
    "size8 = len(all_sentences_8)\n",
    "size9 = len(all_sentences_9)\n",
    "size10 = len(all_sentences_10)\n",
    "\n",
    "\n",
    "all_sentences = all_sentences_1 + all_sentences_2 + all_sentences_3 + all_sentences_4 + all_sentences_5\n",
    "all_sentences = all_sentences + all_sentences_6 + all_sentences_7 + all_sentences_8 + all_sentences_9 + all_sentences_10\n",
    "\n",
    "size = len(all_sentences)\n",
    "\n",
    "print(\"type 1 size = {}\".format(size1))\n",
    "print(\"type 2 size = {}\".format(size2))\n",
    "print(\"type 3 size = {}\".format(size3))\n",
    "print(\"type 4 size = {}\".format(size4))\n",
    "print(\"type 5 size = {}\".format(size5))\n",
    "print(\"type 6 size = {}\".format(size6))\n",
    "print(\"type 7 size = {}\".format(size7))\n",
    "print(\"type 8 size = {}\".format(size8))\n",
    "print(\"type 9 size = {}\".format(size9))\n",
    "print(\"type 10 size = {}\".format(size10))\n",
    "print(\"total size = {}\".format(size))"
   ]
  },
  {
   "cell_type": "markdown",
   "metadata": {},
   "source": [
    "### Generating a train DataFrame with 10000 examples and a test DataFrame with 1000 examples "
   ]
  },
  {
   "cell_type": "code",
   "execution_count": 13,
   "metadata": {},
   "outputs": [
    {
     "data": {
      "text/html": [
       "<div>\n",
       "<style scoped>\n",
       "    .dataframe tbody tr th:only-of-type {\n",
       "        vertical-align: middle;\n",
       "    }\n",
       "\n",
       "    .dataframe tbody tr th {\n",
       "        vertical-align: top;\n",
       "    }\n",
       "\n",
       "    .dataframe thead th {\n",
       "        text-align: right;\n",
       "    }\n",
       "</style>\n",
       "<table border=\"1\" class=\"dataframe\">\n",
       "  <thead>\n",
       "    <tr style=\"text-align: right;\">\n",
       "      <th></th>\n",
       "      <th>sentence1</th>\n",
       "      <th>sentence2</th>\n",
       "      <th>label</th>\n",
       "    </tr>\n",
       "  </thead>\n",
       "  <tbody>\n",
       "    <tr>\n",
       "      <th>10999</th>\n",
       "      <td>Harry is not alive</td>\n",
       "      <td>Harry is alive</td>\n",
       "      <td>1</td>\n",
       "    </tr>\n",
       "    <tr>\n",
       "      <th>11000</th>\n",
       "      <td>Juan is obedient</td>\n",
       "      <td>Juan is not obedient</td>\n",
       "      <td>1</td>\n",
       "    </tr>\n",
       "    <tr>\n",
       "      <th>11001</th>\n",
       "      <td>Esther is not unimportant</td>\n",
       "      <td>Esther is unimportant</td>\n",
       "      <td>1</td>\n",
       "    </tr>\n",
       "    <tr>\n",
       "      <th>11002</th>\n",
       "      <td>Tim is witty</td>\n",
       "      <td>Tim is not gifted</td>\n",
       "      <td>0</td>\n",
       "    </tr>\n",
       "    <tr>\n",
       "      <th>11003</th>\n",
       "      <td>Reginald is not tender</td>\n",
       "      <td>Reginald is tender</td>\n",
       "      <td>1</td>\n",
       "    </tr>\n",
       "  </tbody>\n",
       "</table>\n",
       "</div>"
      ],
      "text/plain": [
       "                       sentence1               sentence2  label\n",
       "10999         Harry is not alive          Harry is alive      1\n",
       "11000           Juan is obedient    Juan is not obedient      1\n",
       "11001  Esther is not unimportant   Esther is unimportant      1\n",
       "11002               Tim is witty       Tim is not gifted      0\n",
       "11003     Reginald is not tender      Reginald is tender      1"
      ]
     },
     "execution_count": 13,
     "metadata": {},
     "output_type": "execute_result"
    }
   ],
   "source": [
    "sentence_1 = [triple[0] for triple in all_sentences]\n",
    "sentence_2 = [triple[1] for triple in all_sentences]\n",
    "label = [triple[2] for triple in all_sentences]\n",
    "\n",
    "df_dict = {\"sentence1\": sentence_1,\n",
    "           \"sentence2\": sentence_2,\n",
    "           \"label\": label}\n",
    "        \n",
    "df = pd.DataFrame(df_dict)\n",
    "df = df[[\"sentence1\", \"sentence2\", \"label\"]]\n",
    "df = df.sample(frac=1).reset_index(drop=True)\n",
    "\n",
    "df_train = df.iloc[:10000]\n",
    "df_test = df.iloc[10000:]\n",
    "\n",
    "df.tail()    "
   ]
  },
  {
   "cell_type": "markdown",
   "metadata": {},
   "source": [
    "#### Looking at the label distribution"
   ]
  },
  {
   "cell_type": "code",
   "execution_count": 14,
   "metadata": {},
   "outputs": [
    {
     "data": {
      "image/png": "[encoded data removed]",
      "text/plain": [
       "<Figure size 432x288 with 1 Axes>"
      ]
     },
     "metadata": {},
     "output_type": "display_data"
    }
   ],
   "source": [
    "train_label = df_train[\"label\"].values\n",
    "plot_histogram_from_labels(train_label, [\"no\", \"yes\"], \"bool1_train.png\")"
   ]
  },
  {
   "cell_type": "code",
   "execution_count": 15,
   "metadata": {},
   "outputs": [
    {
     "data": {
      "image/png": "[encoded data removed]",
      "text/plain": [
       "<Figure size 432x288 with 1 Axes>"
      ]
     },
     "metadata": {},
     "output_type": "display_data"
    }
   ],
   "source": [
    "test_label = df_test[\"label\"].values\n",
    "plot_histogram_from_labels(test_label, [\"no\", \"yes\"], \"bool1_test.png\")"
   ]
  },
  {
   "cell_type": "markdown",
   "metadata": {},
   "source": [
    "### Saving to CSV"
   ]
  },
  {
   "cell_type": "code",
   "execution_count": 16,
   "metadata": {},
   "outputs": [],
   "source": [
    "df_train.to_csv(\"bool1_train.csv\", index=False)\n",
    "df_test.to_csv(\"bool1_test.csv\", index=False)"
   ]
  }
 ],
 "metadata": {
  "kernelspec": {
   "display_name": "Python 3",
   "language": "python",
   "name": "python3"
  },
  "language_info": {
   "codemirror_mode": {
    "name": "ipython",
    "version": 3
   },
   "file_extension": ".py",
   "mimetype": "text/x-python",
   "name": "python",
   "nbconvert_exporter": "python",
   "pygments_lexer": "ipython3",
   "version": "3.5.2"
  }
 },
 "nbformat": 4,
 "nbformat_minor": 2
}
