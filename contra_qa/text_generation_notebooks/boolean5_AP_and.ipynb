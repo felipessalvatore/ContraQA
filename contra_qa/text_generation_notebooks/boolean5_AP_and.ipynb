{
 "cells": [
  {
   "cell_type": "markdown",
   "metadata": {},
   "source": [
    "# Dataset boolean5: AP conjoined by and\n",
    "\n",
    "Generating sentences of the form\n",
    "\n",
    "- 1) **c created a(n) P and Q work of art, c didn't create a(n) P (Q) work of art** (contradiction)\n",
    "\n",
    "- 2) **c created a(n) P and Q work of art, c (d) didn't create a(n) W (P, Q)  work of art** (non-contradiction)"
   ]
  },
  {
   "cell_type": "code",
   "execution_count": 1,
   "metadata": {},
   "outputs": [
    {
     "name": "stderr",
     "output_type": "stream",
     "text": [
      "/usr/lib/python3.5/importlib/_bootstrap.py:222: RuntimeWarning: numpy.dtype size changed, may indicate binary incompatibility. Expected 96, got 88\n",
      "  return f(*args, **kwds)\n",
      "/usr/lib/python3.5/importlib/_bootstrap.py:222: RuntimeWarning: numpy.dtype size changed, may indicate binary incompatibility. Expected 96, got 88\n",
      "  return f(*args, **kwds)\n",
      "/usr/lib/python3.5/importlib/_bootstrap.py:222: RuntimeWarning: numpy.dtype size changed, may indicate binary incompatibility. Expected 96, got 88\n",
      "  return f(*args, **kwds)\n",
      "/usr/lib/python3.5/importlib/_bootstrap.py:222: RuntimeWarning: numpy.dtype size changed, may indicate binary incompatibility. Expected 96, got 88\n",
      "  return f(*args, **kwds)\n",
      "/usr/lib/python3.5/importlib/_bootstrap.py:222: RuntimeWarning: numpy.dtype size changed, may indicate binary incompatibility. Expected 96, got 88\n",
      "  return f(*args, **kwds)\n",
      "/usr/lib/python3.5/importlib/_bootstrap.py:222: RuntimeWarning: numpy.dtype size changed, may indicate binary incompatibility. Expected 96, got 88\n",
      "  return f(*args, **kwds)\n"
     ]
    }
   ],
   "source": [
    "import numpy as np\n",
    "import pandas as pd\n",
    "from word_lists import name_list, all_attributes\n",
    "import os\n",
    "import inspect\n",
    "import sys\n",
    "import itertools\n",
    "\n",
    "almost_current = os.path.abspath(inspect.getfile(inspect.currentframe()))\n",
    "currentdir = os.path.dirname(almost_current)\n",
    "parentdir = os.path.dirname(currentdir)\n",
    "sys.path.insert(0, parentdir)\n",
    "\n",
    "from plots.functions import plot_histogram_from_labels # noqa\n",
    "\n",
    "% matplotlib inline"
   ]
  },
  {
   "cell_type": "code",
   "execution_count": 2,
   "metadata": {},
   "outputs": [],
   "source": [
    "def get_new_item(item_list, src_list):\n",
    "    size = len(src_list)\n",
    "    new_item = src_list[np.random.choice(size)]\n",
    "    while new_item in item_list: \n",
    "        new_i = np.random.choice(size)\n",
    "        new_item = src_list[new_i]\n",
    "    return new_item"
   ]
  },
  {
   "cell_type": "code",
   "execution_count": 3,
   "metadata": {},
   "outputs": [],
   "source": [
    "upper_bound = 11000 / 2\n",
    "vowels = 'aeiou'"
   ]
  },
  {
   "cell_type": "markdown",
   "metadata": {},
   "source": [
    "### Generating all types of sentences"
   ]
  },
  {
   "cell_type": "markdown",
   "metadata": {},
   "source": [
    "- 1) **c created a(n) P and Q work of art, c didn't create a(n) P (Q) work of art** (contradiction)"
   ]
  },
  {
   "cell_type": "code",
   "execution_count": 4,
   "metadata": {},
   "outputs": [
    {
     "name": "stdout",
     "output_type": "stream",
     "text": [
      "['Darren created a beautiful and better work of art', \" Darren didn't create a beautiful work of art\", 1]\n",
      "['Eunice created a polite and chubby work of art', \" Eunice didn't create a polite work of art\", 1]\n",
      "['Rosa created a bewildered and shy work of art', \" Rosa didn't create a bewildered work of art\", 1]\n",
      "['Raymond created a blue and agreeable work of art', \" Raymond didn't create a blue work of art\", 1]\n",
      "['Dolores created a plump and obedient work of art', \" Dolores didn't create a plump work of art\", 1]\n",
      "['Adrian created a thankful and better work of art', \" Adrian didn't create a thankful work of art\", 1]\n",
      "['Kristina created a helpful and itchy work of art', \" Kristina didn't create a helpful work of art\", 1]\n",
      "['Herman created a bewildered and shapely work of art', \" Herman didn't create a bewildered work of art\", 1]\n",
      "['Jaime created a happy and defeated work of art', \" Jaime didn't create a happy work of art\", 1]\n",
      "['Rosie created a salmon and plain work of art', \" Rosie didn't create a salmon work of art\", 1]\n"
     ]
    }
   ],
   "source": [
    "all_sentences_1 = []\n",
    "for i in range(int(upper_bound)):\n",
    "    person = get_new_item([], name_list)\n",
    "    pred1 = get_new_item([], all_attributes)\n",
    "    pred2 = get_new_item([pred1], all_attributes)\n",
    "    if pred1[0] in vowels:\n",
    "        preposition1 = \"an\"\n",
    "    else:\n",
    "        preposition1 = \"a\"\n",
    "    if pred2[0] in vowels:\n",
    "        preposition2 = \"an\"\n",
    "    else:\n",
    "        preposition2 = \"a\"\n",
    "    if i % 2 == 0:\n",
    "        preposition3 = preposition1\n",
    "        pred3 = pred1\n",
    "    else:\n",
    "        preposition3 = preposition1\n",
    "        pred3 = pred1\n",
    "    sentence = \"{} created {} {} and {} work of art, {} didn't create {} {} work of art\".format(person,\n",
    "                                                                                                preposition1,\n",
    "                                                                                                pred1,\n",
    "                                                                                                pred2,\n",
    "                                                                                                person,\n",
    "                                                                                                preposition3,\n",
    "                                                                                                pred3)\n",
    "    all_sentences_1.append(sentence)\n",
    "\n",
    "all_sentences_1 = [sentence.split(\",\") + [1] for sentence in all_sentences_1]\n",
    "\n",
    "for sentence in all_sentences_1[0:10]:\n",
    "    print(sentence)"
   ]
  },
  {
   "cell_type": "markdown",
   "metadata": {},
   "source": [
    "- 2) **c created a(n) P and Q work of art, c (d) didn't create a(n) W (P, Q)  work of art** (non-contradiction)"
   ]
  },
  {
   "cell_type": "code",
   "execution_count": 5,
   "metadata": {},
   "outputs": [
    {
     "name": "stdout",
     "output_type": "stream",
     "text": [
      "['Sandra created a nervous and obedient work of art', \" Willie didn't create a nervous work of art\", 0]\n",
      "['Carolyn created a gentle and faithful work of art', \" Andrea didn't create a faithful work of art\", 0]\n",
      "['Mark created a kind and unsightly work of art', \" Mark didn't create an attractive work of art\", 0]\n",
      "['Curtis created a stocky and plain work of art', \" Micheal didn't create a stocky work of art\", 0]\n",
      "['Jose created a fancy and panicky work of art', \" Roger didn't create a panicky work of art\", 0]\n",
      "['Edward created a powerful and mysterious work of art', \" Edward didn't create a clumsy work of art\", 0]\n",
      "['Terrance created an eager and mysterious work of art', \" Casey didn't create an eager work of art\", 0]\n",
      "['Cindy created an elegant and lemon work of art', \" Misty didn't create a lemon work of art\", 0]\n",
      "['Diana created an embarrassed and delightful work of art', \" Diana didn't create an eager work of art\", 0]\n",
      "['Edna created an ashy and alive work of art', \" Benjamin didn't create an ashy work of art\", 0]\n"
     ]
    }
   ],
   "source": [
    "all_sentences_2 = []\n",
    "for i in range(int(upper_bound)):\n",
    "    person = get_new_item([], name_list)\n",
    "    new_person = get_new_item([person], name_list)\n",
    "    pred1 = get_new_item([], all_attributes)\n",
    "    pred2 = get_new_item([pred1], all_attributes)\n",
    "    pred3 = get_new_item([pred1, pred2], all_attributes)\n",
    "    \n",
    "    if pred1[0] in vowels:\n",
    "        preposition1 = \"an\"\n",
    "    else:\n",
    "        preposition1 = \"a\"\n",
    "    if pred2[0] in vowels:\n",
    "        preposition2 = \"an\"\n",
    "    else:\n",
    "        preposition2 = \"a\"\n",
    "    if pred3[0] in vowels:\n",
    "        preposition3 = \"an\"\n",
    "    else:\n",
    "        preposition3 = \"a\"\n",
    "    if i % 3 == 0:\n",
    "        new_preposition = preposition1\n",
    "        new_pred = pred1\n",
    "        other = new_person\n",
    "    elif i % 3 == 1:\n",
    "        new_preposition = preposition2\n",
    "        new_pred = pred2\n",
    "        other = new_person\n",
    "    else:\n",
    "        new_preposition = preposition3\n",
    "        new_pred = pred3\n",
    "        other = person\n",
    "    sentence = \"{} created {} {} and {} work of art, {} didn't create {} {} work of art\".format(person,\n",
    "                                                                                                preposition1,\n",
    "                                                                                                pred1,\n",
    "                                                                                                pred2,\n",
    "                                                                                                other,\n",
    "                                                                                                new_preposition,\n",
    "                                                                                                new_pred)\n",
    "    all_sentences_2.append(sentence)\n",
    "\n",
    "all_sentences_2 = [sentence.split(\",\") + [0] for sentence in all_sentences_2]\n",
    "\n",
    "for sentence in all_sentences_2[0:10]:\n",
    "    print(sentence)"
   ]
  },
  {
   "cell_type": "code",
   "execution_count": 6,
   "metadata": {},
   "outputs": [
    {
     "name": "stdout",
     "output_type": "stream",
     "text": [
      "type 1 size = 5500\n",
      "type 2 size = 5500\n",
      "total size = 11000\n"
     ]
    }
   ],
   "source": [
    "np.random.shuffle(all_sentences_1)\n",
    "np.random.shuffle(all_sentences_2)\n",
    "\n",
    "size1 = len(all_sentences_1)\n",
    "size2 = len(all_sentences_2)\n",
    "\n",
    "all_sentences = all_sentences_1 + all_sentences_2\n",
    "size = len(all_sentences)\n",
    "\n",
    "print(\"type 1 size = {}\".format(size1))\n",
    "print(\"type 2 size = {}\".format(size2))\n",
    "print(\"total size = {}\".format(size))"
   ]
  },
  {
   "cell_type": "markdown",
   "metadata": {},
   "source": [
    "### Generating a train DataFrame with 10000 examples and a test DataFrame with 1000 examples "
   ]
  },
  {
   "cell_type": "code",
   "execution_count": 7,
   "metadata": {},
   "outputs": [
    {
     "data": {
      "text/html": [
       "<div>\n",
       "<style scoped>\n",
       "    .dataframe tbody tr th:only-of-type {\n",
       "        vertical-align: middle;\n",
       "    }\n",
       "\n",
       "    .dataframe tbody tr th {\n",
       "        vertical-align: top;\n",
       "    }\n",
       "\n",
       "    .dataframe thead th {\n",
       "        text-align: right;\n",
       "    }\n",
       "</style>\n",
       "<table border=\"1\" class=\"dataframe\">\n",
       "  <thead>\n",
       "    <tr style=\"text-align: right;\">\n",
       "      <th></th>\n",
       "      <th>sentence1</th>\n",
       "      <th>sentence2</th>\n",
       "      <th>label</th>\n",
       "    </tr>\n",
       "  </thead>\n",
       "  <tbody>\n",
       "    <tr>\n",
       "      <th>10995</th>\n",
       "      <td>Sonia created a dazzling and hallowed work of art</td>\n",
       "      <td>Sonia didn't create a dazzling work of art</td>\n",
       "      <td>1</td>\n",
       "    </tr>\n",
       "    <tr>\n",
       "      <th>10996</th>\n",
       "      <td>Margaret created an ashy and odd work of art</td>\n",
       "      <td>Margaret didn't create an ashy work of art</td>\n",
       "      <td>1</td>\n",
       "    </tr>\n",
       "    <tr>\n",
       "      <th>10997</th>\n",
       "      <td>Kathy created an ashy and easy work of art</td>\n",
       "      <td>Elizabeth didn't create an easy work of art</td>\n",
       "      <td>0</td>\n",
       "    </tr>\n",
       "    <tr>\n",
       "      <th>10998</th>\n",
       "      <td>David created a happy and angry work of art</td>\n",
       "      <td>David didn't create a happy work of art</td>\n",
       "      <td>1</td>\n",
       "    </tr>\n",
       "    <tr>\n",
       "      <th>10999</th>\n",
       "      <td>Calvin created a green and bewildered work of art</td>\n",
       "      <td>Marie didn't create a bewildered work of art</td>\n",
       "      <td>0</td>\n",
       "    </tr>\n",
       "  </tbody>\n",
       "</table>\n",
       "</div>"
      ],
      "text/plain": [
       "                                               sentence1  \\\n",
       "10995  Sonia created a dazzling and hallowed work of art   \n",
       "10996       Margaret created an ashy and odd work of art   \n",
       "10997         Kathy created an ashy and easy work of art   \n",
       "10998        David created a happy and angry work of art   \n",
       "10999  Calvin created a green and bewildered work of art   \n",
       "\n",
       "                                           sentence2  label  \n",
       "10995     Sonia didn't create a dazzling work of art      1  \n",
       "10996     Margaret didn't create an ashy work of art      1  \n",
       "10997    Elizabeth didn't create an easy work of art      0  \n",
       "10998        David didn't create a happy work of art      1  \n",
       "10999   Marie didn't create a bewildered work of art      0  "
      ]
     },
     "execution_count": 7,
     "metadata": {},
     "output_type": "execute_result"
    }
   ],
   "source": [
    "sentence_1 = [triple[0] for triple in all_sentences]\n",
    "sentence_2 = [triple[1] for triple in all_sentences]\n",
    "label = [triple[2] for triple in all_sentences]\n",
    "\n",
    "df_dict = {\"sentence1\": sentence_1,\n",
    "           \"sentence2\": sentence_2,\n",
    "           \"label\": label}\n",
    "        \n",
    "df = pd.DataFrame(df_dict)\n",
    "df = df[[\"sentence1\", \"sentence2\", \"label\"]]\n",
    "df = df.sample(frac=1).reset_index(drop=True)\n",
    "\n",
    "df_train = df.iloc[:10000]\n",
    "df_test = df.iloc[10000:]\n",
    "\n",
    "df.tail()    "
   ]
  },
  {
   "cell_type": "markdown",
   "metadata": {},
   "source": [
    "#### Looking at the label distribution"
   ]
  },
  {
   "cell_type": "code",
   "execution_count": 8,
   "metadata": {},
   "outputs": [
    {
     "data": {
      "image/png": "[encoded data removed]",
      "text/plain": [
       "<Figure size 432x288 with 1 Axes>"
      ]
     },
     "metadata": {},
     "output_type": "display_data"
    }
   ],
   "source": [
    "train_label = df_train[\"label\"].values\n",
    "plot_histogram_from_labels(train_label, [\"no\", \"yes\"], \"boolean5_train.png\")"
   ]
  },
  {
   "cell_type": "code",
   "execution_count": 9,
   "metadata": {},
   "outputs": [
    {
     "data": {
      "image/png": "[encoded data removed]",
      "text/plain": [
       "<Figure size 432x288 with 1 Axes>"
      ]
     },
     "metadata": {},
     "output_type": "display_data"
    }
   ],
   "source": [
    "test_label = df_test[\"label\"].values\n",
    "plot_histogram_from_labels(test_label, [\"no\", \"yes\"], \"boolean5_test.png\")"
   ]
  },
  {
   "cell_type": "markdown",
   "metadata": {},
   "source": [
    "### Saving to CSV"
   ]
  },
  {
   "cell_type": "code",
   "execution_count": 10,
   "metadata": {},
   "outputs": [],
   "source": [
    "df_train.to_csv(\"boolean5_train.csv\", index=False)\n",
    "df_test.to_csv(\"boolean5_test.csv\", index=False)"
   ]
  }
 ],
 "metadata": {
  "kernelspec": {
   "display_name": "Python 3",
   "language": "python",
   "name": "python3"
  },
  "language_info": {
   "codemirror_mode": {
    "name": "ipython",
    "version": 3
   },
   "file_extension": ".py",
   "mimetype": "text/x-python",
   "name": "python",
   "nbconvert_exporter": "python",
   "pygments_lexer": "ipython3",
   "version": "3.5.2"
  }
 },
 "nbformat": 4,
 "nbformat_minor": 2
}
