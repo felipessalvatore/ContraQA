{
 "cells": [
  {
   "cell_type": "markdown",
   "metadata": {},
   "source": [
    "# Boolean generator 1 (version 1):\n",
    "\n",
    "Generating sentences of the form\n",
    "\n",
    "- 1) **A, not A** (contradiction)\n",
    "- 2) **not A, A** (contradiction)\n",
    "- 3) **A, not B** (non-contradiction)\n",
    "- 4) ** not B, A ** (non-contradiction)\n",
    "\n"
   ]
  },
  {
   "cell_type": "code",
   "execution_count": 1,
   "metadata": {},
   "outputs": [],
   "source": [
    "import numpy as np\n",
    "import pandas as pd\n",
    "from word_lists import name_list, positive_personality_list, condition_list\n",
    "import os\n",
    "import inspect\n",
    "import sys\n",
    "import itertools\n",
    "\n",
    "almost_current = os.path.abspath(inspect.getfile(inspect.currentframe()))\n",
    "currentdir = os.path.dirname(almost_current)\n",
    "parentdir = os.path.dirname(currentdir)\n",
    "sys.path.insert(0, parentdir)\n",
    "\n",
    "from plots.functions import plot_histogram_from_labels # noqa\n",
    "\n",
    "% matplotlib inline\n"
   ]
  },
  {
   "cell_type": "markdown",
   "metadata": {},
   "source": [
    "### Generating all types of propositions"
   ]
  },
  {
   "cell_type": "markdown",
   "metadata": {},
   "source": [
    "### - 1) **A, not A** (contradiction)"
   ]
  },
  {
   "cell_type": "code",
   "execution_count": 2,
   "metadata": {},
   "outputs": [
    {
     "name": "stdout",
     "output_type": "stream",
     "text": [
      "Type 1 sentences:\n",
      "\n",
      "['Finesse is obedient', ' Finesse is not obedient', 1]\n",
      "['Speck is obedient', ' Speck is not obedient', 1]\n",
      "['Sylvester is happy', ' Sylvester is not happy', 1]\n",
      "['Silver is wonderful', ' Silver is not wonderful', 1]\n",
      "['Kimberly is eager', ' Kimberly is not eager', 1]\n",
      "['Oswin is wonderful', ' Oswin is not wonderful', 1]\n",
      "['Moxie is aggressive', ' Moxie is not aggressive', 1]\n",
      "['Henrietta is delightful', ' Henrietta is not delightful', 1]\n",
      "['Ford is jolly', ' Ford is not jolly', 1]\n",
      "['Hugh is agreeable', ' Hugh is not agreeable', 1]\n"
     ]
    }
   ],
   "source": [
    "template1 = itertools.product(name_list, positive_personality_list)\n",
    "template1 = list(template1)\n",
    "all_sentences_1 = [\"{} is {}, {} is not {}\".format(car,cdr,car,cdr) for car, cdr in template1]\n",
    "all_sentences_1 = [sentence.split(\",\") + [1] for sentence in all_sentences_1]\n",
    "np.random.shuffle(all_sentences_1)\n",
    "\n",
    "print(\"Type 1 sentences:\\n\")\n",
    "for sentence in all_sentences_1[0:10]:\n",
    "    print(sentence)"
   ]
  },
  {
   "cell_type": "markdown",
   "metadata": {},
   "source": [
    "### - 2) **not A, A** (contradiction)"
   ]
  },
  {
   "cell_type": "code",
   "execution_count": 3,
   "metadata": {},
   "outputs": [
    {
     "name": "stdout",
     "output_type": "stream",
     "text": [
      "Type 2 sentences:\n",
      "\n",
      "['Bear is not helpful', ' Bear is helpful', 1]\n",
      "['Kendall is not powerful', ' Kendall is powerful', 1]\n",
      "['Rekker is not tender', ' Rekker is tender', 1]\n",
      "['Fairbanks is not uninterested', ' Fairbanks is uninterested', 1]\n",
      "['Chaucer is not famous', ' Chaucer is famous', 1]\n",
      "['Gracelynn is not inexpensive', ' Gracelynn is inexpensive', 1]\n",
      "['Marvel is not dead', ' Marvel is dead', 1]\n",
      "['Kingston is not vast', ' Kingston is vast', 1]\n",
      "['Newt is not powerful', ' Newt is powerful', 1]\n",
      "['Tyson is not famous', ' Tyson is famous', 1]\n"
     ]
    }
   ],
   "source": [
    "template2 = itertools.product(name_list,condition_list)\n",
    "template2 = list(template2)\n",
    "all_sentences_2 = [\"{} is not {}, {} is {}\".format(car,cdr,car,cdr) for car, cdr in template2]\n",
    "all_sentences_2 = [sentence.split(\",\") + [1] for sentence in all_sentences_2]\n",
    "np.random.shuffle(all_sentences_2)\n",
    "\n",
    "print(\"Type 2 sentences:\\n\")\n",
    "for sentence in all_sentences_2[0:10]:\n",
    "    print(sentence)"
   ]
  },
  {
   "cell_type": "markdown",
   "metadata": {},
   "source": [
    "### - 3) **A, not B** (non-contradiction)"
   ]
  },
  {
   "cell_type": "code",
   "execution_count": 4,
   "metadata": {},
   "outputs": [
    {
     "name": "stdout",
     "output_type": "stream",
     "text": [
      "Type 3 sentences:\n",
      "\n",
      "['Blaze is kind', ' Clinton is not alive', 0]\n",
      "['Dean is polite', ' Paige is not helpful', 0]\n",
      "['Georgiana is calm', ' Merton is not inexpensive', 0]\n",
      "['Cranston is eager', ' Brown is not uninterested', 0]\n",
      "['Vane is victorious', ' Roberta is not gifted', 0]\n",
      "['Bridger is victorious', ' Prentice is not poor', 0]\n",
      "['Auberon is proud', ' Sherwood is not easy', 0]\n",
      "['Rayburn is agreeable', ' Tolliver is not hallowed', 0]\n",
      "['Burl is calm', ' Olive is not unimportant', 0]\n",
      "['Ned is lively', ' Whistler is not mushy', 0]\n"
     ]
    }
   ],
   "source": [
    "template_triple = itertools.product(name_list, positive_personality_list, condition_list)\n",
    "template_triple = list(template_triple)\n",
    "all_sentences_3 = [\"{} is {}, {} is not {}\".format(car,cdr,car,cddr) for car, cdr, cddr in template_triple]\n",
    "\n",
    "np.random.shuffle(template_triple)\n",
    "\n",
    "template3 = template_triple[0:2750]\n",
    "\n",
    "all_sentences_3 = []\n",
    "\n",
    "for triple in template3:\n",
    "    new_name = triple[0]\n",
    "    while new_name == triple[0]:\n",
    "        i = np.random.choice(len(name_list))\n",
    "        new_name = name_list[i]\n",
    "    car, cdr, cddr = triple \n",
    "    all_sentences_3.append(\"{} is {}, {} is not {}\".format(car,cdr,new_name,cddr))\n",
    "\n",
    "all_sentences_3 = [ sentence.split(\",\") + [0] for sentence in all_sentences_3]    \n",
    "    \n",
    "np.random.shuffle(all_sentences_3)\n",
    "\n",
    "print(\"Type 3 sentences:\\n\")\n",
    "for sentence in all_sentences_3[0:10]:\n",
    "    print(sentence)"
   ]
  },
  {
   "cell_type": "markdown",
   "metadata": {},
   "source": [
    "### - 4) ** not B, A ** (non-contradiction)"
   ]
  },
  {
   "cell_type": "code",
   "execution_count": 5,
   "metadata": {},
   "outputs": [
    {
     "name": "stdout",
     "output_type": "stream",
     "text": [
      "Type 4 sentences:\n",
      "\n",
      "['Truman is not ambitious', ' Braydon is alive', 0]\n",
      "['Quixley is not aggressive', ' Libby is wrong', 0]\n",
      "['Dallin is not jolly', ' Brook is inexpensive', 0]\n",
      "['Baker is not nice', ' Leland is gifted', 0]\n",
      "['Dina is not aggressive', ' Harriet is hallowed', 0]\n",
      "['Joan is not happy', ' Loyal is gifted', 0]\n",
      "['Tessie is not gentle', ' Tyler is hallowed', 0]\n",
      "['Draper is not eager', ' Huffington is easy', 0]\n",
      "['Nate is not proud', ' Chaucer is mushy', 0]\n",
      "['Creighton is not thankful', ' Cade is tender', 0]\n"
     ]
    }
   ],
   "source": [
    "np.random.shuffle(template_triple)\n",
    "\n",
    "template4 = template_triple[0:2750]\n",
    "\n",
    "all_sentences_4 = []\n",
    "\n",
    "for triple in template4:\n",
    "    new_name = triple[0]\n",
    "    while new_name == triple[0]:\n",
    "        i = np.random.choice(len(name_list))\n",
    "        new_name = name_list[i]\n",
    "    car, cdr, cddr = triple \n",
    "    all_sentences_4.append(\"{} is not {}, {} is {}\".format(car,cdr,new_name,cddr))\n",
    "\n",
    "all_sentences_4 = [ sentence.split(\",\") + [0] for sentence in all_sentences_4]    \n",
    "    \n",
    "np.random.shuffle(all_sentences_4)\n",
    "\n",
    "print(\"Type 4 sentences:\\n\")\n",
    "for sentence in all_sentences_4[0:10]:\n",
    "    print(sentence)"
   ]
  },
  {
   "cell_type": "code",
   "execution_count": 6,
   "metadata": {},
   "outputs": [
    {
     "name": "stdout",
     "output_type": "stream",
     "text": [
      "type 1 size = 2750\n",
      "type 2 size = 2750\n",
      "type 3 size = 2750\n",
      "type 4 size = 2750\n",
      "total size = 11000\n"
     ]
    }
   ],
   "source": [
    "np.random.shuffle(all_sentences_1)\n",
    "np.random.shuffle(all_sentences_2)\n",
    "np.random.shuffle(all_sentences_3)\n",
    "np.random.shuffle(all_sentences_4)\n",
    "\n",
    "all_sentences_1 = all_sentences_1[0:2750]\n",
    "all_sentences_2 = all_sentences_2[0:2750]\n",
    "\n",
    "\n",
    "size1 = len(all_sentences_1)\n",
    "size2 = len(all_sentences_2)\n",
    "size3 = len(all_sentences_3)\n",
    "size4 = len(all_sentences_4)\n",
    "\n",
    "all_sentences = all_sentences_1 + all_sentences_2 + all_sentences_3 + all_sentences_4\n",
    "\n",
    "\n",
    "size = len(all_sentences)\n",
    "\n",
    "print(\"type 1 size = {}\".format(size1))\n",
    "print(\"type 2 size = {}\".format(size2))\n",
    "print(\"type 3 size = {}\".format(size3))\n",
    "print(\"type 4 size = {}\".format(size4))\n",
    "print(\"total size = {}\".format(size))"
   ]
  },
  {
   "cell_type": "markdown",
   "metadata": {},
   "source": [
    "### Generating a train DataFrame with 10000 examples and a test DataFrame with 1000 examples "
   ]
  },
  {
   "cell_type": "code",
   "execution_count": 7,
   "metadata": {},
   "outputs": [
    {
     "data": {
      "text/html": [
       "<div>\n",
       "<style scoped>\n",
       "    .dataframe tbody tr th:only-of-type {\n",
       "        vertical-align: middle;\n",
       "    }\n",
       "\n",
       "    .dataframe tbody tr th {\n",
       "        vertical-align: top;\n",
       "    }\n",
       "\n",
       "    .dataframe thead th {\n",
       "        text-align: right;\n",
       "    }\n",
       "</style>\n",
       "<table border=\"1\" class=\"dataframe\">\n",
       "  <thead>\n",
       "    <tr style=\"text-align: right;\">\n",
       "      <th></th>\n",
       "      <th>sentence1</th>\n",
       "      <th>sentence2</th>\n",
       "      <th>label</th>\n",
       "    </tr>\n",
       "  </thead>\n",
       "  <tbody>\n",
       "    <tr>\n",
       "      <th>10995</th>\n",
       "      <td>Lindsay is lively</td>\n",
       "      <td>Verve is not tender</td>\n",
       "      <td>0</td>\n",
       "    </tr>\n",
       "    <tr>\n",
       "      <th>10996</th>\n",
       "      <td>Harper is jolly</td>\n",
       "      <td>Beckett is not shy</td>\n",
       "      <td>0</td>\n",
       "    </tr>\n",
       "    <tr>\n",
       "      <th>10997</th>\n",
       "      <td>Nat is ambitious</td>\n",
       "      <td>Nat is not ambitious</td>\n",
       "      <td>1</td>\n",
       "    </tr>\n",
       "    <tr>\n",
       "      <th>10998</th>\n",
       "      <td>Darrow is eager</td>\n",
       "      <td>Darrow is not eager</td>\n",
       "      <td>1</td>\n",
       "    </tr>\n",
       "    <tr>\n",
       "      <th>10999</th>\n",
       "      <td>Blues is not wonderful</td>\n",
       "      <td>Grover is mealy</td>\n",
       "      <td>0</td>\n",
       "    </tr>\n",
       "  </tbody>\n",
       "</table>\n",
       "</div>"
      ],
      "text/plain": [
       "                    sentence1              sentence2  label\n",
       "10995       Lindsay is lively    Verve is not tender      0\n",
       "10996         Harper is jolly     Beckett is not shy      0\n",
       "10997        Nat is ambitious   Nat is not ambitious      1\n",
       "10998         Darrow is eager    Darrow is not eager      1\n",
       "10999  Blues is not wonderful        Grover is mealy      0"
      ]
     },
     "execution_count": 7,
     "metadata": {},
     "output_type": "execute_result"
    }
   ],
   "source": [
    "sentence_1 = [triple[0] for triple in all_sentences]\n",
    "sentence_2 = [triple[1] for triple in all_sentences]\n",
    "label = [triple[2] for triple in all_sentences]\n",
    "\n",
    "df_dict = {\"sentence1\": sentence_1,\n",
    "           \"sentence2\": sentence_2,\n",
    "           \"label\": label}\n",
    "        \n",
    "df = pd.DataFrame(df_dict)\n",
    "df = df[[\"sentence1\", \"sentence2\", \"label\"]]\n",
    "df = df.sample(frac=1).reset_index(drop=True)\n",
    "\n",
    "df_train = df.iloc[:10000]\n",
    "df_test = df.iloc[10000:]\n",
    "\n",
    "df.tail()"
   ]
  },
  {
   "cell_type": "markdown",
   "metadata": {},
   "source": [
    "#### Looking at the label distribution"
   ]
  },
  {
   "cell_type": "code",
   "execution_count": 8,
   "metadata": {},
   "outputs": [
    {
     "data": {
      "image/png": "[encoded data removed]",
      "text/plain": [
       "<Figure size 432x288 with 1 Axes>"
      ]
     },
     "metadata": {},
     "output_type": "display_data"
    }
   ],
   "source": [
    "train_label = df_train[\"label\"].values\n",
    "plot_histogram_from_labels(train_label, [\"no\", \"yes\"], \"b1_train.png\")"
   ]
  },
  {
   "cell_type": "code",
   "execution_count": 9,
   "metadata": {},
   "outputs": [
    {
     "data": {
      "image/png": "[encoded data removed]",
      "text/plain": [
       "<Figure size 432x288 with 1 Axes>"
      ]
     },
     "metadata": {},
     "output_type": "display_data"
    }
   ],
   "source": [
    "test_label = df_test[\"label\"].values\n",
    "plot_histogram_from_labels(test_label, [\"no\", \"yes\"], \"b1_test.png\")"
   ]
  },
  {
   "cell_type": "markdown",
   "metadata": {},
   "source": [
    "### Saving to CSV"
   ]
  },
  {
   "cell_type": "code",
   "execution_count": 10,
   "metadata": {},
   "outputs": [],
   "source": [
    "df_train.to_csv(\"b1_v1_train.csv\", index=False)\n",
    "df_test.to_csv(\"b1_v1_test.csv\", index=False)"
   ]
  }
 ],
 "metadata": {
  "kernelspec": {
   "display_name": "Python 3",
   "language": "python",
   "name": "python3"
  },
  "language_info": {
   "codemirror_mode": {
    "name": "ipython",
    "version": 3
   },
   "file_extension": ".py",
   "mimetype": "text/x-python",
   "name": "python",
   "nbconvert_exporter": "python",
   "pygments_lexer": "ipython3",
   "version": "3.5.2"
  }
 },
 "nbformat": 4,
 "nbformat_minor": 2
}
