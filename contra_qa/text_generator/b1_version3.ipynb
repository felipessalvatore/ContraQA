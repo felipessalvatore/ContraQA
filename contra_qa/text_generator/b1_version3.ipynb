{
 "cells": [
  {
   "cell_type": "markdown",
   "metadata": {},
   "source": [
    "# Boolean generator 1 (third version):\n",
    "\n",
    "Generating sentences of the form\n",
    "\n",
    "- 1) **c is P, c is not P** (contradiction)\n",
    "\n",
    "- 2) **c is not P, c is P** (contradiction)\n",
    "\n",
    "- 3) **c is P, c is Q** (non-contradiction)\n",
    "\n",
    "- 4) **c is P, c is not Q** (non-contradiction)\n",
    "\n",
    "- 5) **c is not P, c is Q** (non-contradiction)\n",
    "\n",
    "- 6) **c is P, d is Q** (non-contradiction)\n",
    "\n",
    "- 7) **c is P, d is not Q** (non-contradiction)\n",
    "\n",
    "- 8) **c is not P, d is Q** (non-contradiction)\n",
    "\n",
    "- 9) **c is P, d is not P** (non-contradiction)\n",
    "\n",
    "- 10) **c is not P, d is P** (non-contradiction)\n"
   ]
  },
  {
   "cell_type": "code",
   "execution_count": 1,
   "metadata": {},
   "outputs": [],
   "source": [
    "import numpy as np\n",
    "import pandas as pd\n",
    "from word_lists import name_list, positive_personality_list, condition_list\n",
    "import os\n",
    "import inspect\n",
    "import sys\n",
    "import itertools\n",
    "\n",
    "almost_current = os.path.abspath(inspect.getfile(inspect.currentframe()))\n",
    "currentdir = os.path.dirname(almost_current)\n",
    "parentdir = os.path.dirname(currentdir)\n",
    "sys.path.insert(0, parentdir)\n",
    "\n",
    "from plots.functions import plot_histogram_from_labels # noqa\n",
    "\n",
    "% matplotlib inline"
   ]
  },
  {
   "cell_type": "markdown",
   "metadata": {},
   "source": [
    "### Generating all types of propositions"
   ]
  },
  {
   "cell_type": "markdown",
   "metadata": {},
   "source": [
    "- 1) **c is P, c is not P** (contradiction)"
   ]
  },
  {
   "cell_type": "code",
   "execution_count": 2,
   "metadata": {},
   "outputs": [
    {
     "name": "stdout",
     "output_type": "stream",
     "text": [
      "Type 1 sentences:\n",
      "\n",
      "['Wendy is ambitious', ' Wendy is not ambitious', 1]\n",
      "['Kyson is polite', ' Kyson is not polite', 1]\n",
      "['Vinnie is jolly', ' Vinnie is not jolly', 1]\n",
      "['Portland is aggressive', ' Portland is not aggressive', 1]\n",
      "['Joss is eager', ' Joss is not eager', 1]\n",
      "['Pat is delightful', ' Pat is not delightful', 1]\n",
      "['Lilac is wonderful', ' Lilac is not wonderful', 1]\n",
      "['Peale is delightful', ' Peale is not delightful', 1]\n",
      "['Addison is polite', ' Addison is not polite', 1]\n",
      "['Rigby is calm', ' Rigby is not calm', 1]\n"
     ]
    }
   ],
   "source": [
    "template1 = itertools.product(name_list, positive_personality_list)\n",
    "template1 = list(template1)\n",
    "all_sentences_1 = [\"{} is {}, {} is not {}\".format(car,cdr,car,cdr) for car, cdr in template1]\n",
    "all_sentences_1 = [ sentence.split(\",\") + [1] for sentence in all_sentences_1]\n",
    "np.random.shuffle(all_sentences_1)\n",
    "\n",
    "print(\"Type 1 sentences:\\n\")\n",
    "for sentence in all_sentences_1[0:10]:\n",
    "    print(sentence)"
   ]
  },
  {
   "cell_type": "markdown",
   "metadata": {},
   "source": [
    "- 2) **c is P, c is not P** (contradiction)"
   ]
  },
  {
   "cell_type": "code",
   "execution_count": 3,
   "metadata": {},
   "outputs": [
    {
     "name": "stdout",
     "output_type": "stream",
     "text": [
      "Type 2 sentences:\n",
      "\n",
      "['Evelyn is not unimportant', ' Evelyn is unimportant', 1]\n",
      "['Pembroke is not mealy', ' Pembroke is mealy', 1]\n",
      "['Portland is not easy', ' Portland is easy', 1]\n",
      "['Ogden is not clever', ' Ogden is clever', 1]\n",
      "['Lilac is not dead', ' Lilac is dead', 1]\n",
      "['Yeats is not tender', ' Yeats is tender', 1]\n",
      "['Fielder is not mealy', ' Fielder is mealy', 1]\n",
      "['Striker is not dead', ' Striker is dead', 1]\n",
      "['Kendal is not wrong', ' Kendal is wrong', 1]\n",
      "['Prentice is not easy', ' Prentice is easy', 1]\n"
     ]
    }
   ],
   "source": [
    "template2 = itertools.product(name_list, condition_list)\n",
    "template2 = list(template2)\n",
    "all_sentences_2 = [\"{} is not {}, {} is {}\".format(car,cdr,car,cdr) for car, cdr in template2]\n",
    "all_sentences_2 = [ sentence.split(\",\") + [1] for sentence in all_sentences_2]\n",
    "np.random.shuffle(all_sentences_2)\n",
    "\n",
    "print(\"Type 2 sentences:\\n\")\n",
    "for sentence in all_sentences_2[0:10]:\n",
    "    print(sentence)"
   ]
  },
  {
   "cell_type": "markdown",
   "metadata": {},
   "source": [
    "- 3) **c is P, c is Q** (non-contradiction)"
   ]
  },
  {
   "cell_type": "code",
   "execution_count": 4,
   "metadata": {},
   "outputs": [
    {
     "name": "stdout",
     "output_type": "stream",
     "text": [
      "Type 3 sentences:\n",
      "\n",
      "['Burgess is aggressive', ' Burgess is uninterested', 0]\n",
      "['Hattie is calm', ' Hattie is alive', 0]\n",
      "['Emmett is aggressive', ' Emmett is powerful', 0]\n",
      "['Burroughs is jolly', ' Burroughs is tender', 0]\n",
      "['Lyle is eager', ' Lyle is important', 0]\n",
      "['Duska is faithful', ' Duska is shy', 0]\n",
      "['Acton is proud', ' Acton is tender', 0]\n",
      "['Jamison is delightful', ' Jamison is helpful', 0]\n",
      "['Collier is delightful', ' Collier is vast', 0]\n",
      "['Rainey is happy', ' Rainey is hallowed', 0]\n"
     ]
    }
   ],
   "source": [
    "template3 = itertools.product(name_list, positive_personality_list, condition_list)\n",
    "template3 = list(template3)\n",
    "all_sentences_3 = [\"{} is {}, {} is {}\".format(car,\n",
    "                                               cdr,\n",
    "                                               car,\n",
    "                                               cddr) for car, cdr, cddr in template3]\n",
    "\n",
    "all_sentences_3 = [ sentence.split(\",\") + [0] for sentence in all_sentences_3]\n",
    "np.random.shuffle(all_sentences_3)\n",
    "\n",
    "print(\"Type 3 sentences:\\n\")\n",
    "for sentence in all_sentences_3[0:10]:\n",
    "    print(sentence)"
   ]
  },
  {
   "cell_type": "markdown",
   "metadata": {},
   "source": [
    "- 4) **c is P, c is not Q** (non-contradiction)"
   ]
  },
  {
   "cell_type": "code",
   "execution_count": 5,
   "metadata": {},
   "outputs": [
    {
     "name": "stdout",
     "output_type": "stream",
     "text": [
      "Type 4 sentences:\n",
      "\n",
      "['Hill is jolly', ' Hill is not shy', 0]\n",
      "['Norwood is nice', ' Norwood is not uninterested', 0]\n",
      "['Hayward is obedient', ' Hayward is not uninterested', 0]\n",
      "['Ginger is thankful', ' Ginger is not mealy', 0]\n",
      "['Alden is aggressive', ' Alden is not clever', 0]\n",
      "['Elmira is agreeable', ' Elmira is not odd', 0]\n",
      "['Elberta is wonderful', ' Elberta is not shy', 0]\n",
      "['Hooper is proud', ' Hooper is not rich', 0]\n",
      "['Emeny is eager', ' Emeny is not careful', 0]\n",
      "['Harvard is wonderful', ' Harvard is not wrong', 0]\n"
     ]
    }
   ],
   "source": [
    "all_sentences_4 = [\"{} is {}, {} is not {}\".format(car,cdr,car,cddr) for car, cdr, cddr in template3]\n",
    "\n",
    "all_sentences_4 = [ sentence.split(\",\") + [0] for sentence in all_sentences_4]\n",
    "\n",
    "np.random.shuffle(all_sentences_4)\n",
    "\n",
    "print(\"Type 4 sentences:\\n\")\n",
    "for sentence in all_sentences_4[0:10]:\n",
    "    print(sentence)"
   ]
  },
  {
   "cell_type": "markdown",
   "metadata": {},
   "source": [
    "- 5) **c is not P, c is Q** (non-contradiction)"
   ]
  },
  {
   "cell_type": "code",
   "execution_count": 6,
   "metadata": {},
   "outputs": [
    {
     "name": "stdout",
     "output_type": "stream",
     "text": [
      "Type 5 sentences:\n",
      "\n",
      "['Payne is not nice', ' Payne is clever', 0]\n",
      "['Loretta is not obedient', ' Loretta is gifted', 0]\n",
      "['Everard is not kind', ' Everard is unimportant', 0]\n",
      "['Morley is not calm', ' Morley is mushy', 0]\n",
      "['Ellery is not thankful', ' Ellery is vast', 0]\n",
      "['Squall is not ambitious', ' Squall is inexpensive', 0]\n",
      "['Durham is not nice', ' Durham is shy', 0]\n",
      "['Thomasina is not witty', ' Thomasina is famous', 0]\n",
      "['Terri is not ambitious', ' Terri is wrong', 0]\n",
      "['Wystan is not lively', ' Wystan is vast', 0]\n"
     ]
    }
   ],
   "source": [
    "all_sentences_5 = [\"{} is not {}, {} is {}\".format(car,cdr,car,cddr) for car, cdr, cddr in template3]\n",
    "\n",
    "all_sentences_5 = [ sentence.split(\",\") + [0] for sentence in all_sentences_5]\n",
    "\n",
    "np.random.shuffle(all_sentences_5)\n",
    "\n",
    "print(\"Type 5 sentences:\\n\")\n",
    "for sentence in all_sentences_5[0:10]:\n",
    "    print(sentence)"
   ]
  },
  {
   "cell_type": "markdown",
   "metadata": {},
   "source": [
    "- 6) **c is P, d is Q** (non-contradiction)"
   ]
  },
  {
   "cell_type": "code",
   "execution_count": 7,
   "metadata": {},
   "outputs": [
    {
     "name": "stdout",
     "output_type": "stream",
     "text": [
      "Type 6 sentences:\n",
      "\n",
      "['Seaton is lively', ' Starlit is important', 0]\n",
      "['Sterling is brave', ' Lester is better', 0]\n",
      "['Warrick is faithful', ' Barley is gifted', 0]\n",
      "['Dyson is gentle', ' Idina is clever', 0]\n",
      "['Lilac is polite', ' Warrick is famous', 0]\n",
      "['Silas is proud', ' Brawley is easy', 0]\n",
      "['Kyd is obedient', ' Millay is clever', 0]\n",
      "['Colton is jolly', ' Burroughs is clever', 0]\n",
      "['Charlie is jolly', ' Ferebee is poor', 0]\n",
      "['Norma is jolly', ' Peaches is careful', 0]\n"
     ]
    }
   ],
   "source": [
    "np.random.shuffle(template3)\n",
    "\n",
    "template6 = template3[0:1100]\n",
    "\n",
    "all_sentences_6 = []\n",
    "\n",
    "for triple in template6:\n",
    "    new_name = triple[0]\n",
    "    while new_name == triple[0]:\n",
    "        i = np.random.choice(len(name_list))\n",
    "        new_name = name_list[i]\n",
    "    car, cdr, cddr = triple \n",
    "    all_sentences_6.append(\"{} is {}, {} is {}\".format(car,cdr,new_name,cddr))\n",
    "\n",
    "all_sentences_6 = [ sentence.split(\",\") + [0] for sentence in all_sentences_6]    \n",
    "\n",
    "np.random.shuffle(all_sentences_6)\n",
    "\n",
    "print(\"Type 6 sentences:\\n\")\n",
    "for sentence in all_sentences_6[0:10]:\n",
    "    print(sentence)"
   ]
  },
  {
   "cell_type": "markdown",
   "metadata": {},
   "source": [
    "- 7) **c is P, d is not Q** (non-contradiction)"
   ]
  },
  {
   "cell_type": "code",
   "execution_count": 8,
   "metadata": {},
   "outputs": [
    {
     "name": "stdout",
     "output_type": "stream",
     "text": [
      "Type 7 sentences:\n",
      "\n",
      "['Wyatt is aggressive', ' Sidney is not uninterested', 0]\n",
      "['Creighton is victorious', ' Bourne is not mushy', 0]\n",
      "['Elfrida is silly', ' Birch is not hallowed', 0]\n",
      "['Beck is silly', ' Heather is not rich', 0]\n",
      "['Cutler is faithful', ' Barton is not vast', 0]\n",
      "['Hubbell is gentle', ' Odele is not alive', 0]\n",
      "['Windy is victorious', ' Poet is not rich', 0]\n",
      "['Eldon is obedient', ' Skipper is not tender', 0]\n",
      "['Lancaster is happy', ' Todd is not important', 0]\n",
      "['Tyler is wonderful', ' Loren is not shy', 0]\n"
     ]
    }
   ],
   "source": [
    "np.random.shuffle(template3)\n",
    "\n",
    "template7 = template3[0:1100]\n",
    "\n",
    "all_sentences_7 = []\n",
    "\n",
    "for triple in template7:\n",
    "    new_name = triple[0]\n",
    "    while new_name == triple[0]:\n",
    "        i = np.random.choice(len(name_list))\n",
    "        new_name = name_list[i]\n",
    "    car, cdr, cddr = triple \n",
    "    all_sentences_7.append(\"{} is {}, {} is not {}\".format(car,cdr,new_name,cddr))\n",
    "\n",
    "all_sentences_7 = [ sentence.split(\",\") + [0] for sentence in all_sentences_7]    \n",
    "    \n",
    "np.random.shuffle(all_sentences_7)\n",
    "\n",
    "print(\"Type 7 sentences:\\n\")\n",
    "for sentence in all_sentences_7[0:10]:\n",
    "    print(sentence)"
   ]
  },
  {
   "cell_type": "markdown",
   "metadata": {},
   "source": [
    "- 8) **c is not P, d is Q** (non-contradiction)"
   ]
  },
  {
   "cell_type": "code",
   "execution_count": 9,
   "metadata": {},
   "outputs": [
    {
     "name": "stdout",
     "output_type": "stream",
     "text": [
      "Type 8 sentences:\n",
      "\n",
      "['Genesis is not proud', ' Brinley is famous', 0]\n",
      "['Twila is not thankful', ' Morley is odd', 0]\n",
      "['Colter is not calm', ' Hazel is easy', 0]\n",
      "['Audrey is not lively', ' Thackeray is easy', 0]\n",
      "['Del is not gentle', ' Howell is powerful', 0]\n",
      "['Granger is not nice', ' Shelton is careful', 0]\n",
      "['Gary is not agreeable', ' Seaton is mushy', 0]\n",
      "['Watson is not aggressive', ' Hettie is poor', 0]\n",
      "['Forrest is not lively', ' Winslow is helpful', 0]\n",
      "['Dennison is not agreeable', ' Stedman is wrong', 0]\n"
     ]
    }
   ],
   "source": [
    "np.random.shuffle(template3)\n",
    "\n",
    "template8 = template3[0:1100]\n",
    "\n",
    "all_sentences_8 = []\n",
    "\n",
    "for triple in template8:\n",
    "    new_name = triple[0]\n",
    "    while new_name == triple[0]:\n",
    "        i = np.random.choice(len(name_list))\n",
    "        new_name = name_list[i]\n",
    "    car, cdr, cddr = triple \n",
    "    all_sentences_8.append(\"{} is not {}, {} is {}\".format(car,cdr,new_name,cddr))\n",
    "\n",
    "all_sentences_8 = [ sentence.split(\",\") + [0] for sentence in all_sentences_8]    \n",
    "    \n",
    "np.random.shuffle(all_sentences_8)\n",
    "\n",
    "print(\"Type 8 sentences:\\n\")\n",
    "for sentence in all_sentences_8[0:10]:\n",
    "    print(sentence)"
   ]
  },
  {
   "cell_type": "markdown",
   "metadata": {},
   "source": [
    "- 9) **c is P, d is not P** (non-contradiction)"
   ]
  },
  {
   "cell_type": "code",
   "execution_count": 10,
   "metadata": {},
   "outputs": [
    {
     "name": "stdout",
     "output_type": "stream",
     "text": [
      "Type 9 sentences:\n",
      "\n",
      "['Ralston is thankful', ' Hettie is not thankful', 0]\n",
      "['Phelps is silly', ' Edsel is not silly', 0]\n",
      "['Buck is delightful', ' Manley is not delightful', 0]\n",
      "['Tyson is eager', ' Eastman is not eager', 0]\n",
      "['Edric is gentle', ' Tempest is not gentle', 0]\n",
      "['Langdon is nice', ' Buckminster is not nice', 0]\n",
      "['Coleman is zealous', ' Taffeta is not zealous', 0]\n",
      "['Salton is lively', ' Gentry is not lively', 0]\n",
      "['Stanley is jolly', ' Kingsley is not jolly', 0]\n",
      "['Carden is wonderful', ' Prescott is not wonderful', 0]\n"
     ]
    }
   ],
   "source": [
    "np.random.shuffle(template1)\n",
    "\n",
    "template9 = template1[0:1100]\n",
    "\n",
    "all_sentences_9 = []\n",
    "\n",
    "for car,cdr in template9:\n",
    "    new_name = car\n",
    "    while new_name == car:\n",
    "        i = np.random.choice(len(name_list))\n",
    "        new_name = name_list[i] \n",
    "    all_sentences_9.append(\"{} is {}, {} is not {}\".format(car,cdr,new_name,cdr))\n",
    "\n",
    "all_sentences_9 = [ sentence.split(\",\") + [0] for sentence in all_sentences_9]\n",
    "\n",
    "np.random.shuffle(all_sentences_9)\n",
    "\n",
    "print(\"Type 9 sentences:\\n\")\n",
    "for sentence in all_sentences_9[0:10]:\n",
    "    print(sentence)"
   ]
  },
  {
   "cell_type": "markdown",
   "metadata": {},
   "source": [
    "- 10) **c is not P, d is P** (non-contradiction)"
   ]
  },
  {
   "cell_type": "code",
   "execution_count": 11,
   "metadata": {},
   "outputs": [
    {
     "name": "stdout",
     "output_type": "stream",
     "text": [
      "Type 10 sentences:\n",
      "\n",
      "['Lily is not wonderful', ' Holmes is wonderful', 0]\n",
      "['Fielder is not silly', ' Winter is silly', 0]\n",
      "['Keaton is not victorious', ' Patsy is victorious', 0]\n",
      "['Tory is not wonderful', ' Dryden is wonderful', 0]\n",
      "['Acton is not agreeable', ' Esmond is agreeable', 0]\n",
      "['Fleming is not aggressive', ' Joss is aggressive', 0]\n",
      "['Kinsley is not happy', ' Nicholson is happy', 0]\n",
      "['Blue is not agreeable', ' Roberta is agreeable', 0]\n",
      "['Edwin is not polite', ' Armstrong is polite', 0]\n",
      "['Creighton is not witty', ' Everett is witty', 0]\n"
     ]
    }
   ],
   "source": [
    "np.random.shuffle(template1)\n",
    "\n",
    "template10 = template1[0:1100]\n",
    "\n",
    "all_sentences_10 = []\n",
    "\n",
    "for car,cdr in template10:\n",
    "    new_name = car\n",
    "    while new_name == car:\n",
    "        i = np.random.choice(len(name_list))\n",
    "        new_name = name_list[i] \n",
    "    all_sentences_10.append(\"{} is not {}, {} is {}\".format(car,cdr,new_name,cdr))\n",
    "\n",
    "all_sentences_10 = [ sentence.split(\",\") + [0] for sentence in all_sentences_10]\n",
    "\n",
    "np.random.shuffle(all_sentences_10)\n",
    "\n",
    "print(\"Type 10 sentences:\\n\")\n",
    "for sentence in all_sentences_10[0:10]:\n",
    "    print(sentence)"
   ]
  },
  {
   "cell_type": "code",
   "execution_count": 13,
   "metadata": {},
   "outputs": [
    {
     "name": "stdout",
     "output_type": "stream",
     "text": [
      "type 1 size = 2750\n",
      "type 2 size = 2750\n",
      "type 3 size = 688\n",
      "type 4 size = 688\n",
      "type 5 size = 688\n",
      "type 6 size = 688\n",
      "type 7 size = 688\n",
      "type 8 size = 688\n",
      "type 9 size = 688\n",
      "type 10 size = 688\n",
      "total size = 11004\n"
     ]
    }
   ],
   "source": [
    "np.random.shuffle(all_sentences_1)\n",
    "np.random.shuffle(all_sentences_2)\n",
    "np.random.shuffle(all_sentences_3)\n",
    "np.random.shuffle(all_sentences_4)\n",
    "np.random.shuffle(all_sentences_5)\n",
    "np.random.shuffle(all_sentences_6)\n",
    "np.random.shuffle(all_sentences_7)\n",
    "np.random.shuffle(all_sentences_8)\n",
    "np.random.shuffle(all_sentences_9)\n",
    "np.random.shuffle(all_sentences_10)\n",
    "\n",
    "all_sentences_1 = all_sentences_1[0:2750]\n",
    "all_sentences_2 = all_sentences_2[0:2750]\n",
    "all_sentences_3 = all_sentences_3[0:688]\n",
    "all_sentences_4 = all_sentences_4[0:688]\n",
    "all_sentences_5 = all_sentences_5[0:688]\n",
    "all_sentences_6 = all_sentences_6[0:688]\n",
    "all_sentences_7 = all_sentences_7[0:688]\n",
    "all_sentences_8 = all_sentences_8[0:688]\n",
    "all_sentences_9 = all_sentences_9[0:688]\n",
    "all_sentences_10 = all_sentences_10[0:688]\n",
    "\n",
    "\n",
    "\n",
    "size1 = len(all_sentences_1)\n",
    "size2 = len(all_sentences_2)\n",
    "size3 = len(all_sentences_3)\n",
    "size4 = len(all_sentences_4)\n",
    "size5 = len(all_sentences_5)\n",
    "size6 = len(all_sentences_6)\n",
    "size7 = len(all_sentences_7)\n",
    "size8 = len(all_sentences_8)\n",
    "size9 = len(all_sentences_9)\n",
    "size10 = len(all_sentences_10)\n",
    "\n",
    "\n",
    "all_sentences = all_sentences_1 + all_sentences_2 + all_sentences_3 + all_sentences_4 + all_sentences_5\n",
    "all_sentences = all_sentences + all_sentences_6 + all_sentences_7 + all_sentences_8 + all_sentences_9 + all_sentences_10\n",
    "\n",
    "size = len(all_sentences)\n",
    "\n",
    "print(\"type 1 size = {}\".format(size1))\n",
    "print(\"type 2 size = {}\".format(size2))\n",
    "print(\"type 3 size = {}\".format(size3))\n",
    "print(\"type 4 size = {}\".format(size4))\n",
    "print(\"type 5 size = {}\".format(size5))\n",
    "print(\"type 6 size = {}\".format(size6))\n",
    "print(\"type 7 size = {}\".format(size7))\n",
    "print(\"type 8 size = {}\".format(size8))\n",
    "print(\"type 9 size = {}\".format(size9))\n",
    "print(\"type 10 size = {}\".format(size10))\n",
    "print(\"total size = {}\".format(size))"
   ]
  },
  {
   "cell_type": "markdown",
   "metadata": {},
   "source": [
    "### Generating a train DataFrame with 10000 examples and a test DataFrame with 1000 examples "
   ]
  },
  {
   "cell_type": "code",
   "execution_count": 14,
   "metadata": {},
   "outputs": [
    {
     "data": {
      "text/html": [
       "<div>\n",
       "<style scoped>\n",
       "    .dataframe tbody tr th:only-of-type {\n",
       "        vertical-align: middle;\n",
       "    }\n",
       "\n",
       "    .dataframe tbody tr th {\n",
       "        vertical-align: top;\n",
       "    }\n",
       "\n",
       "    .dataframe thead th {\n",
       "        text-align: right;\n",
       "    }\n",
       "</style>\n",
       "<table border=\"1\" class=\"dataframe\">\n",
       "  <thead>\n",
       "    <tr style=\"text-align: right;\">\n",
       "      <th></th>\n",
       "      <th>sentence1</th>\n",
       "      <th>sentence2</th>\n",
       "      <th>label</th>\n",
       "    </tr>\n",
       "  </thead>\n",
       "  <tbody>\n",
       "    <tr>\n",
       "      <th>10999</th>\n",
       "      <td>Nate is not kind</td>\n",
       "      <td>Edwin is careful</td>\n",
       "      <td>0</td>\n",
       "    </tr>\n",
       "    <tr>\n",
       "      <th>11000</th>\n",
       "      <td>Ethel is jolly</td>\n",
       "      <td>Ethel is not jolly</td>\n",
       "      <td>1</td>\n",
       "    </tr>\n",
       "    <tr>\n",
       "      <th>11001</th>\n",
       "      <td>Hayden is not jolly</td>\n",
       "      <td>Hayden is unimportant</td>\n",
       "      <td>0</td>\n",
       "    </tr>\n",
       "    <tr>\n",
       "      <th>11002</th>\n",
       "      <td>Thomasina is victorious</td>\n",
       "      <td>Thomasina is not important</td>\n",
       "      <td>0</td>\n",
       "    </tr>\n",
       "    <tr>\n",
       "      <th>11003</th>\n",
       "      <td>Mortimer is jolly</td>\n",
       "      <td>Mortimer is not jolly</td>\n",
       "      <td>1</td>\n",
       "    </tr>\n",
       "  </tbody>\n",
       "</table>\n",
       "</div>"
      ],
      "text/plain": [
       "                     sentence1                    sentence2  label\n",
       "10999         Nate is not kind             Edwin is careful      0\n",
       "11000           Ethel is jolly           Ethel is not jolly      1\n",
       "11001      Hayden is not jolly        Hayden is unimportant      0\n",
       "11002  Thomasina is victorious   Thomasina is not important      0\n",
       "11003        Mortimer is jolly        Mortimer is not jolly      1"
      ]
     },
     "execution_count": 14,
     "metadata": {},
     "output_type": "execute_result"
    }
   ],
   "source": [
    "sentence_1 = [triple[0] for triple in all_sentences]\n",
    "sentence_2 = [triple[1] for triple in all_sentences]\n",
    "label = [triple[2] for triple in all_sentences]\n",
    "\n",
    "df_dict = {\"sentence1\": sentence_1,\n",
    "           \"sentence2\": sentence_2,\n",
    "           \"label\": label}\n",
    "        \n",
    "df = pd.DataFrame(df_dict)\n",
    "df = df[[\"sentence1\", \"sentence2\", \"label\"]]\n",
    "df = df.sample(frac=1).reset_index(drop=True)\n",
    "\n",
    "df_train = df.iloc[:10000]\n",
    "df_test = df.iloc[10000:]\n",
    "\n",
    "df.tail()    "
   ]
  },
  {
   "cell_type": "markdown",
   "metadata": {},
   "source": [
    "#### Looking at the label distribution"
   ]
  },
  {
   "cell_type": "code",
   "execution_count": 15,
   "metadata": {},
   "outputs": [
    {
     "data": {
      "image/png": "[encoded data removed]",
      "text/plain": [
       "<Figure size 432x288 with 1 Axes>"
      ]
     },
     "metadata": {},
     "output_type": "display_data"
    }
   ],
   "source": [
    "train_label = df_train[\"label\"].values\n",
    "plot_histogram_from_labels(train_label, [\"no\", \"yes\"], \"b1_v3_train.png\")"
   ]
  },
  {
   "cell_type": "code",
   "execution_count": 16,
   "metadata": {},
   "outputs": [
    {
     "data": {
      "image/png": "[encoded data removed]",
      "text/plain": [
       "<Figure size 432x288 with 1 Axes>"
      ]
     },
     "metadata": {},
     "output_type": "display_data"
    }
   ],
   "source": [
    "test_label = df_test[\"label\"].values\n",
    "plot_histogram_from_labels(test_label, [\"no\", \"yes\"], \"b1_v3_test.png\")"
   ]
  },
  {
   "cell_type": "markdown",
   "metadata": {},
   "source": [
    "### Saving to CSV"
   ]
  },
  {
   "cell_type": "code",
   "execution_count": 17,
   "metadata": {},
   "outputs": [],
   "source": [
    "df_train.to_csv(\"b1_v3_train.csv\", index=False)\n",
    "df_test.to_csv(\"b1_v3_test.csv\", index=False)"
   ]
  }
 ],
 "metadata": {
  "kernelspec": {
   "display_name": "Python 3",
   "language": "python",
   "name": "python3"
  },
  "language_info": {
   "codemirror_mode": {
    "name": "ipython",
    "version": 3
   },
   "file_extension": ".py",
   "mimetype": "text/x-python",
   "name": "python",
   "nbconvert_exporter": "python",
   "pygments_lexer": "ipython3",
   "version": "3.5.2"
  }
 },
 "nbformat": 4,
 "nbformat_minor": 2
}
