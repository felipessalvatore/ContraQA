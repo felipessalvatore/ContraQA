{
 "cells": [
  {
   "cell_type": "markdown",
   "metadata": {},
   "source": [
    "# Dataset boolean8: NP conjoined by or\n",
    "\n",
    "Generating sentences of the form\n",
    "\n",
    "- 1) **c traveled to X or Y, c traveled to neither X nor Y** (contradiction)\n",
    "- 1) **c went to X or Y, c went to neither X nor Y** (contradiction)\n",
    "- 1) **c visited X or Y, c visited neither X nor Y** (contradiction)\n",
    "\n",
    "\n",
    "- 2) **c traveled to X or Y, c didn't travel to X and c didn't travel to Y** (contradiction)\n",
    "- 2) **c went to X or Y, c didn't go to X and c didn't go to Y** (contradiction)\n",
    "- 2) **c visited X or Y, c didn't visit X and c didn't visit Y** (contradiction)\n",
    "\n",
    "\n",
    "- 3) **c traveled to X or Y, d(c) traveled to neither X(W) nor Y(W)** (non-contradiction)\n",
    "- 3) **c went to X or Y,  d(c) went to neither X(W) nor Y(W)** (non-contradiction)\n",
    "- 3) **c visited X or Y, d(c) visited neither X(W) nor Y(w)** (non-contradiction)\n",
    "\n",
    "\n",
    "- 4) **c traveled to X or Y, c didn't travel to X (Y)** (non-contradiction)\n",
    "- 4) **c went to X or Y, c didn't go to X(Y)** (non-contradiction)\n",
    "- 4) **c visited X or Y, c didn't visit X(Y)** (non-contradiction)\n",
    "\n",
    "\n",
    "- 5) **c or d got to the quarter finals last year, neither c nor d got to the quarter finals last year** (contradiction)\n",
    "- 5) **c or d won the last world cup, neither c nor d won the last world cup** (contradiction)\n",
    "- 5) **c or d are in the geopolitical position of e, neither c nor d are in the geopolitical position of e** (contradiction)\n",
    "\n",
    "\n",
    "- 6) **c or d got to the quarter finals last year, c didn't get to the quarter finals last year and d didn't get to the quarter finals last year** (contradiction)\n",
    "- 6) **c or d won the last world cup, c didn't win the last world cup and d didn't win the last world cup** (contradiction)\n",
    "- 6) **c or d are in the geopolitical position of e, c isn't in the geopolitical position of e and d isn't in the geopolitical position of e ** (contradiction)\n",
    "\n",
    "\n",
    "- 7) **c or d got to the quarter finals last year, neither c(e) nor d(e) got to the quarter finals last year** (non-contradiction)\n",
    "- 7) **c or d won the last world cup, neither c(e) nor d(e) won the last world cup** (non-contradiction)\n",
    "- 7) **c or d are in the geopolitical position of e, neither c(f) nor d(f) are in the geopolitical position of e** (non-contradiction)\n",
    "\n",
    "\n",
    "- 8) **c or d got to the quarter finals last year, c (d) didn't get to the quarter finals last year** (non-contradiction)\n",
    "- 8) **c or d won the last world cup, neither c (d) didn't winthe last world cup ** (non-contradiction)\n",
    "- 8) **c or d are in the geopolitical position of e, c (d) isn't in the geopolitical position of e** (non-contradiction)\n"
   ]
  },
  {
   "cell_type": "code",
   "execution_count": 1,
   "metadata": {},
   "outputs": [
    {
     "name": "stderr",
     "output_type": "stream",
     "text": [
      "/usr/lib/python3.5/importlib/_bootstrap.py:222: RuntimeWarning: numpy.dtype size changed, may indicate binary incompatibility. Expected 96, got 88\n",
      "  return f(*args, **kwds)\n",
      "/usr/lib/python3.5/importlib/_bootstrap.py:222: RuntimeWarning: numpy.dtype size changed, may indicate binary incompatibility. Expected 96, got 88\n",
      "  return f(*args, **kwds)\n",
      "/usr/lib/python3.5/importlib/_bootstrap.py:222: RuntimeWarning: numpy.dtype size changed, may indicate binary incompatibility. Expected 96, got 88\n",
      "  return f(*args, **kwds)\n",
      "/usr/lib/python3.5/importlib/_bootstrap.py:222: RuntimeWarning: numpy.dtype size changed, may indicate binary incompatibility. Expected 96, got 88\n",
      "  return f(*args, **kwds)\n",
      "/usr/lib/python3.5/importlib/_bootstrap.py:222: RuntimeWarning: numpy.dtype size changed, may indicate binary incompatibility. Expected 96, got 88\n",
      "  return f(*args, **kwds)\n",
      "/usr/lib/python3.5/importlib/_bootstrap.py:222: RuntimeWarning: numpy.dtype size changed, may indicate binary incompatibility. Expected 96, got 88\n",
      "  return f(*args, **kwds)\n"
     ]
    }
   ],
   "source": [
    "import numpy as np\n",
    "import pandas as pd\n",
    "from word_lists import name_list, city_list, team_list\n",
    "import os\n",
    "import inspect\n",
    "import sys\n",
    "import itertools\n",
    "\n",
    "almost_current = os.path.abspath(inspect.getfile(inspect.currentframe()))\n",
    "currentdir = os.path.dirname(almost_current)\n",
    "parentdir = os.path.dirname(currentdir)\n",
    "sys.path.insert(0, parentdir)\n",
    "\n",
    "from plots.functions import plot_histogram_from_labels # noqa\n",
    "\n",
    "% matplotlib inline"
   ]
  },
  {
   "cell_type": "code",
   "execution_count": 2,
   "metadata": {},
   "outputs": [],
   "source": [
    "def get_new_item(item_list, src_list):\n",
    "    size = len(src_list)\n",
    "    new_item = src_list[np.random.choice(size)]\n",
    "    while new_item in item_list: \n",
    "        new_i = np.random.choice(size)\n",
    "        new_item = src_list[new_i]\n",
    "    return new_item"
   ]
  },
  {
   "cell_type": "code",
   "execution_count": 3,
   "metadata": {},
   "outputs": [],
   "source": [
    "upper_bound = 11000 / 8"
   ]
  },
  {
   "cell_type": "markdown",
   "metadata": {},
   "source": [
    "### Generating all types of sentences"
   ]
  },
  {
   "cell_type": "markdown",
   "metadata": {},
   "source": [
    "- 1) **c traveled to X or Y, c traveled to neither X nor Y** (contradiction)\n",
    "- 1) **c went to X or Y,  c went to neither X nor Y** (contradiction)\n",
    "- 1) **c visited X or Y, c visited neither X nor Y** (contradiction)"
   ]
  },
  {
   "cell_type": "code",
   "execution_count": 4,
   "metadata": {},
   "outputs": [
    {
     "name": "stdout",
     "output_type": "stream",
     "text": [
      "['Angie traveled to Cluj-Napoca or Tulcea', 'Angie traveled to neither Cluj-Napoca nor Tulcea', 1]\n",
      "['Tina went to Giurgiu or Deva', 'Tina went to neither Giurgiu nor Deva', 1]\n",
      "['Justin has visited Deva or Craiova', 'Justin visited neither Deva nor Craiova', 1]\n",
      "['Nora traveled to Turda or Baia Mare', 'Nora traveled to neither Turda nor Baia Mare', 1]\n",
      "['Cora went to Turda or Lugoj', 'Cora went to neither Turda nor Lugoj', 1]\n",
      "['Clinton has visited Craiova or Slobozia', 'Clinton visited neither Craiova nor Slobozia', 1]\n",
      "['Hazel traveled to Craiova or Slatina', 'Hazel traveled to neither Craiova nor Slatina', 1]\n",
      "['Constance went to Cluj-Napoca or Slobozia', 'Constance went to neither Cluj-Napoca nor Slobozia', 1]\n",
      "['Roger has visited Blaj or Bucharest', 'Roger visited neither Blaj nor Bucharest', 1]\n",
      "['Johnny traveled to Cluj-Napoca or Blaj', 'Johnny traveled to neither Cluj-Napoca nor Blaj', 1]\n"
     ]
    }
   ],
   "source": [
    "all_sentences_1 = []\n",
    "for i in range(int(upper_bound)):\n",
    "    person = get_new_item([], name_list)\n",
    "    city1 = get_new_item([], city_list)\n",
    "    city2 = get_new_item([city1], city_list)\n",
    "    if i % 3 == 0:\n",
    "        sentence = \"{} traveled to {} or {},{} traveled to neither {} nor {}\".format(person, city1, city2, person, city1, city2)\n",
    "    elif i % 3 == 1:\n",
    "        sentence = \"{} went to {} or {},{} went to neither {} nor {}\".format(person, city1, city2, person, city1, city2)\n",
    "    else:\n",
    "        sentence = \"{} has visited {} or {},{} visited neither {} nor {}\".format(person, city1, city2, person, city1, city2)\n",
    "    all_sentences_1.append(sentence)\n",
    "\n",
    "    \n",
    "all_sentences_1 = [sentence.split(\",\") + [1] for sentence in all_sentences_1]\n",
    "\n",
    "for sentence in all_sentences_1[0:10]:\n",
    "    print(sentence)\n"
   ]
  },
  {
   "cell_type": "markdown",
   "metadata": {},
   "source": [
    "- 2) **c traveled to X or Y, c didn't travel to X and c didn't travel to Y** (contradiction)\n",
    "- 2) **c went to X or Y, c didn't go to X and c didn't go to Y** (contradiction)\n",
    "- 2) **c visited X or Y, c didn't visit X and c didn't visit Y** (contradiction)"
   ]
  },
  {
   "cell_type": "code",
   "execution_count": 5,
   "metadata": {},
   "outputs": [
    {
     "name": "stdout",
     "output_type": "stream",
     "text": [
      "['Edith traveled to Blaj or Vaslui', \"Edith didn't travel to Blaj and Edith didn't travel to Vaslui\", 1]\n",
      "['Charlotte went to Hunedoara or Vaslui', \"Charlotte didn't go to Hunedoara and Charlotte didn't go to Vaslui\", 1]\n",
      "['Eduardo has visited Cluj-Napoca or Craiova', \"Eduardo didn't visit Cluj-Napoca and Eduardo didn't visit Craiova\", 1]\n",
      "['Beth traveled to Turda or Hunedoara', \"Beth didn't travel to Turda and Beth didn't travel to Hunedoara\", 1]\n",
      "['Priscilla went to Lugoj or Vaslui', \"Priscilla didn't go to Lugoj and Priscilla didn't go to Vaslui\", 1]\n",
      "['Margie has visited Timisoara or Hunedoara', \"Margie didn't visit Timisoara and Margie didn't visit Hunedoara\", 1]\n",
      "['Tyler traveled to Hunedoara or Baia Mare', \"Tyler didn't travel to Hunedoara and Tyler didn't travel to Baia Mare\", 1]\n",
      "['Joshua went to Craiova or Lugoj', \"Joshua didn't go to Craiova and Joshua didn't go to Lugoj\", 1]\n",
      "['Catherine has visited Bucharest or Oradea', \"Catherine didn't visit Bucharest and Catherine didn't visit Oradea\", 1]\n",
      "['Raul traveled to Bucharest or Baia Mare', \"Raul didn't travel to Bucharest and Raul didn't travel to Baia Mare\", 1]\n"
     ]
    }
   ],
   "source": [
    "all_sentences_2 = []\n",
    "for i in range(int(upper_bound)):\n",
    "    person = get_new_item([], name_list)\n",
    "    city1 = get_new_item([], city_list)\n",
    "    city2 = get_new_item([city1], city_list)\n",
    "    if i % 3 == 0:\n",
    "        sentence = \"{} traveled to {} or {},{} didn't travel to {} and {} didn't travel to {}\".format(person,\n",
    "                                                                                                      city1,\n",
    "                                                                                                      city2,\n",
    "                                                                                                      person,\n",
    "                                                                                                      city1,\n",
    "                                                                                                      person,\n",
    "                                                                                                      city2)\n",
    "    elif i % 3 == 1:\n",
    "        sentence = \"{} went to {} or {},{} didn't go to {} and {} didn't go to {}\".format(person,\n",
    "                                                                                          city1,\n",
    "                                                                                          city2,\n",
    "                                                                                          person,\n",
    "                                                                                          city1,\n",
    "                                                                                          person,\n",
    "                                                                                          city2)\n",
    "    else:\n",
    "        sentence = \"{} has visited {} or {},{} didn't visit {} and {} didn't visit {}\".format(person,\n",
    "                                                                                              city1,\n",
    "                                                                                              city2,\n",
    "                                                                                              person,\n",
    "                                                                                              city1,\n",
    "                                                                                              person,\n",
    "                                                                                              city2)\n",
    "    \n",
    "    all_sentences_2.append(sentence)\n",
    "\n",
    "    \n",
    "all_sentences_2 = [sentence.split(\",\") + [1] for sentence in all_sentences_2]\n",
    "\n",
    "for sentence in all_sentences_2[0:10]:\n",
    "    print(sentence)\n"
   ]
  },
  {
   "cell_type": "markdown",
   "metadata": {},
   "source": [
    "- 3) **c traveled to X or Y, d(c) traveled to neither X(W) nor Y(W)** (non-contradiction)\n",
    "- 3) **c went to X or Y,  d(c) went to neither X(W) nor Y(W)** (non-contradiction)\n",
    "- 3) **c visited X or Y, d(c) visited neither X(W) nor Y(w)** (non-contradiction)"
   ]
  },
  {
   "cell_type": "code",
   "execution_count": 6,
   "metadata": {},
   "outputs": [
    {
     "name": "stdout",
     "output_type": "stream",
     "text": [
      "['Billy traveled to Cluj-Napoca or Giurgiu', 'Pauline traveled to neither Cluj-Napoca nor Giurgiu', 0]\n",
      "['Molly went to Bucharest or Reghin', 'Molly went to neither Dej nor Reghin', 0]\n",
      "['Jodi has visited Slatina or Lugoj', 'Duane visited neither Slatina nor Lugoj', 0]\n",
      "['Freddie traveled to Tulcea or Deva', 'Freddie traveled to neither Tulcea nor Hunedoara', 0]\n",
      "['Alberta went to Slobozia or Reghin', 'Floyd went to neither Slobozia nor Reghin', 0]\n",
      "['Alberto has visited Deva or Giurgiu', 'Alberto visited neither Turda nor Giurgiu', 0]\n",
      "['Albert traveled to Reghin or Dej', 'Alison traveled to neither Reghin nor Dej', 0]\n",
      "['Genevieve went to Vaslui or Lugoj', 'Genevieve went to neither Deva nor Lugoj', 0]\n",
      "['Esther has visited Cluj-Napoca or Craiova', 'Margaret visited neither Cluj-Napoca nor Craiova', 0]\n",
      "['Tony traveled to Hunedoara or Oradea', 'Tony traveled to neither Hunedoara nor Bucharest', 0]\n"
     ]
    }
   ],
   "source": [
    "all_sentences_3 = []\n",
    "for i in range(int(upper_bound)):\n",
    "    person = get_new_item([], name_list)\n",
    "    other_person = get_new_item([person], name_list)\n",
    "    city1 = get_new_item([], city_list)\n",
    "    city2 = get_new_item([city1], city_list)\n",
    "    city3 = get_new_item([city1, city2], city_list)\n",
    "    \n",
    "    if i % 2 == 0:\n",
    "        person_p = other_person\n",
    "        city_p_1 = city1\n",
    "        city_p_2 = city2\n",
    "    else:\n",
    "        person_p = person\n",
    "        if i % 3:\n",
    "            city_p_1 = city3\n",
    "            city_p_2 = city2\n",
    "        else:\n",
    "            city_p_1 = city1\n",
    "            city_p_2 = city3\n",
    "    \n",
    "    if i % 3 == 0:\n",
    "        sentence = \"{} traveled to {} or {},{} traveled to neither {} nor {}\".format(person,\n",
    "                                                                                     city1,\n",
    "                                                                                     city2,\n",
    "                                                                                     person_p,\n",
    "                                                                                     city_p_1,\n",
    "                                                                                     city_p_2)\n",
    "    elif i % 3 == 1:\n",
    "        sentence = \"{} went to {} or {},{} went to neither {} nor {}\".format(person,\n",
    "                                                                             city1,\n",
    "                                                                             city2,\n",
    "                                                                             person_p,\n",
    "                                                                             city_p_1,\n",
    "                                                                             city_p_2)\n",
    "    else:\n",
    "        sentence = \"{} has visited {} or {},{} visited neither {} nor {}\".format(person,\n",
    "                                                                                 city1,\n",
    "                                                                                 city2,\n",
    "                                                                                 person_p,\n",
    "                                                                                 city_p_1,\n",
    "                                                                                 city_p_2)        \n",
    "        \n",
    "    all_sentences_3.append(sentence)\n",
    "\n",
    "    \n",
    "all_sentences_3 = [sentence.split(\",\") + [0] for sentence in all_sentences_3]\n",
    "\n",
    "for sentence in all_sentences_3[0:10]:\n",
    "    print(sentence)\n"
   ]
  },
  {
   "cell_type": "markdown",
   "metadata": {},
   "source": [
    "- 4) **c traveled to X or Y, c didn't travel to X (Y)** (non-contradiction)\n",
    "- 4) **c went to X or Y, c didn't go to X(Y)** (non-contradiction)\n",
    "- 4) **c visited X or Y, c didn't visit X(Y)** (non-contradiction)"
   ]
  },
  {
   "cell_type": "code",
   "execution_count": 7,
   "metadata": {},
   "outputs": [
    {
     "name": "stdout",
     "output_type": "stream",
     "text": [
      "['Rosemary traveled to Turda or Timisoara', \"Rosemary didn't travel to Turda\", 0]\n",
      "['Sue went to Tulcea or Giurgiu', \"Sue didn't go to Giurgiu\", 0]\n",
      "['Judy has visited Blaj or Deva', \"Judy didn't visit Blaj\", 0]\n",
      "['Nora traveled to Dej or Slobozia', \"Nora didn't travel to Slobozia\", 0]\n",
      "['Ivan went to Craiova or Cluj-Napoca', \"Ivan didn't go to Craiova\", 0]\n",
      "['Milton has visited Slobozia or Vaslui', \"Milton didn't visit Vaslui\", 0]\n",
      "['Sonia traveled to Timisoara or Slatina', \"Sonia didn't travel to Timisoara\", 0]\n",
      "['Claire went to Bucharest or Mangalia', \"Claire didn't go to Mangalia\", 0]\n",
      "['Marian has visited Baia Mare or Vaslui', \"Marian didn't visit Baia Mare\", 0]\n",
      "['Vicki traveled to Arad or Slatina', \"Vicki didn't travel to Slatina\", 0]\n"
     ]
    }
   ],
   "source": [
    "all_sentences_4 = []\n",
    "for i in range(int(upper_bound)):\n",
    "    person = get_new_item([], name_list)\n",
    "    city1 = get_new_item([], city_list)\n",
    "    city2 = get_new_item([city1], city_list)\n",
    "    \n",
    "    if i % 2 == 0:\n",
    "        city3 = city1\n",
    "    else:\n",
    "        city3 = city2\n",
    "\n",
    "    if i % 3 == 0:\n",
    "        sentence = \"{} traveled to {} or {},{} didn't travel to {}\".format(person,\n",
    "                                                                           city1,\n",
    "                                                                           city2,\n",
    "                                                                           person,\n",
    "                                                                           city3)\n",
    "    elif i % 3 == 1:\n",
    "        sentence = \"{} went to {} or {},{} didn't go to {}\".format(person,\n",
    "                                                                   city1,\n",
    "                                                                   city2,\n",
    "                                                                   person,\n",
    "                                                                   city3)\n",
    "    else:\n",
    "        sentence = \"{} has visited {} or {},{} didn't visit {}\".format(person,\n",
    "                                                                       city1,\n",
    "                                                                       city2,\n",
    "                                                                       person,\n",
    "                                                                       city3)\n",
    "    \n",
    "    all_sentences_4.append(sentence)\n",
    "\n",
    "    \n",
    "all_sentences_4 = [sentence.split(\",\") + [0] for sentence in all_sentences_4]\n",
    "\n",
    "for sentence in all_sentences_4[0:10]:\n",
    "    print(sentence)"
   ]
  },
  {
   "cell_type": "markdown",
   "metadata": {},
   "source": [
    "- 5) **c or d got to the quarter finals last year, neither c nor d got to the quarter finals last year** (contradiction)\n",
    "- 5) **c or d won the last world cup, neither c nor d won the last world cup** (contradiction)\n",
    "- 5) **c or d are in the geopolitical position of e, neither c nor d are in the geopolitical position of e** (contradiction)"
   ]
  },
  {
   "cell_type": "code",
   "execution_count": 8,
   "metadata": {},
   "outputs": [
    {
     "name": "stdout",
     "output_type": "stream",
     "text": [
      "['Tunisia or Nigeria got to the quarter finals last year', ' neither Tunisia nor Nigeria got to the quarter finals last year', 1]\n",
      "['Morocco or Sweden won the last world cup', ' neither Morocco nor Sweden won the last world cup', 1]\n",
      "['Peru or Iran are in the geopolitical position of Australia', ' neither Peru nor Iran are in the geopolitical position of Australia', 1]\n",
      "['Australia or Switzerland  got to the quarter finals last year', ' neither Australia nor Switzerland  got to the quarter finals last year', 1]\n",
      "['Russia or England won the last world cup', ' neither Russia nor England won the last world cup', 1]\n",
      "['Brazil or Croatia are in the geopolitical position of Mexico', ' neither Brazil nor Croatia are in the geopolitical position of Mexico', 1]\n",
      "['Costa Rica or Switzerland  got to the quarter finals last year', ' neither Costa Rica nor Switzerland  got to the quarter finals last year', 1]\n",
      "['Egypt or Mexico won the last world cup', ' neither Egypt nor Mexico won the last world cup', 1]\n",
      "['Iran or Germany are in the geopolitical position of Uruguay', ' neither Iran nor Germany are in the geopolitical position of Uruguay', 1]\n",
      "['Colombia or Korea Republic got to the quarter finals last year', ' neither Colombia nor Korea Republic got to the quarter finals last year', 1]\n"
     ]
    }
   ],
   "source": [
    "all_sentences_5 = []\n",
    "for i in range(int(upper_bound)):\n",
    "    person = get_new_item([], name_list)\n",
    "    team1 = get_new_item([], team_list)\n",
    "    team2 = get_new_item([team1], team_list)\n",
    "    team3 = get_new_item([team1, team2], team_list)\n",
    "    if i % 3 == 0:\n",
    "        sentence = \"{} or {} got to the quarter finals last year, neither {} nor {} got to the quarter finals last year\".format(team1,\n",
    "                                                                                                                                team2,\n",
    "                                                                                                                                team1,\n",
    "                                                                                                                                team2)\n",
    "    elif i % 3 == 1:\n",
    "        sentence = \"{} or {} won the last world cup, neither {} nor {} won the last world cup\".format(team1,\n",
    "                                                                                                      team2,\n",
    "                                                                                                      team1,\n",
    "                                                                                                      team2)    \n",
    "    else:\n",
    "        sentence = \"{} or {} are in the geopolitical position of {}, neither {} nor {} are in the geopolitical position of {}\".format(team1,\n",
    "                                                                                                                                      team2,\n",
    "                                                                                                                                      team3,\n",
    "                                                                                                                                      team1,\n",
    "                                                                                                                                      team2,\n",
    "                                                                                                                                      team3)\n",
    "\n",
    "        \n",
    "    all_sentences_5.append(sentence)\n",
    "\n",
    "    \n",
    "all_sentences_5 = [sentence.split(\",\") + [1] for sentence in all_sentences_5]\n",
    "\n",
    "for sentence in all_sentences_5[0:10]:\n",
    "    print(sentence)\n"
   ]
  },
  {
   "cell_type": "markdown",
   "metadata": {},
   "source": [
    "- 6) **c or d got to the quarter finals last year, c didn't get to the quarter finals last year and d didn't get to the quarter finals last year** (contradiction)\n",
    "- 6) **c or d won the last world cup, c didn't win the last world cup and d didn't win the last world cup** (contradiction)\n",
    "- 6) **c or d are in the geopolitical position of e, c isn't in the geopolitical position of e and d isn't in the geopolitical position of e ** (contradiction)"
   ]
  },
  {
   "cell_type": "code",
   "execution_count": 9,
   "metadata": {},
   "outputs": [
    {
     "name": "stdout",
     "output_type": "stream",
     "text": [
      "['Iran or Japan got to the quarter finals last year', \"Iran didn't get to the quarter finals last year and Japan didn't get to the quarter finals last year\", 1]\n",
      "['Denmark or Korea Republic won the last world cup', \"Denmark didn't win the last world cup and Korea Republic didn't win the last world cup\", 1]\n",
      "['Spain or Japan are in the geopolitical position of Germany', \"Spain isn't in the geopolitical position of Germany and Japan isn't in the geopolitical position of Germany\", 1]\n",
      "['Mexico or Senegal got to the quarter finals last year', \"Mexico didn't get to the quarter finals last year and Senegal didn't get to the quarter finals last year\", 1]\n",
      "['Australia or Uruguay won the last world cup', \"Australia didn't win the last world cup and Uruguay didn't win the last world cup\", 1]\n",
      "['Portugal or Germany are in the geopolitical position of Costa Rica', \"Portugal isn't in the geopolitical position of Costa Rica and Germany isn't in the geopolitical position of Costa Rica\", 1]\n",
      "['Poland or Korea Republic got to the quarter finals last year', \"Poland didn't get to the quarter finals last year and Korea Republic didn't get to the quarter finals last year\", 1]\n",
      "['Colombia or Argentina won the last world cup', \"Colombia didn't win the last world cup and Argentina didn't win the last world cup\", 1]\n",
      "['Costa Rica or Senegal are in the geopolitical position of Morocco', \"Costa Rica isn't in the geopolitical position of Morocco and Senegal isn't in the geopolitical position of Morocco\", 1]\n",
      "['Brazil or Spain got to the quarter finals last year', \"Brazil didn't get to the quarter finals last year and Spain didn't get to the quarter finals last year\", 1]\n"
     ]
    }
   ],
   "source": [
    "all_sentences_6 = []\n",
    "for i in range(int(upper_bound)):\n",
    "    person = get_new_item([], name_list)\n",
    "    team1 = get_new_item([], team_list)\n",
    "    team2 = get_new_item([team1], team_list)\n",
    "    team3 = get_new_item([team1, team2], team_list)\n",
    "    if i % 3 == 0:\n",
    "        sentence = \"{} or {} got to the quarter finals last year,{} didn't get to the quarter finals last year and {} didn't get to the quarter finals last year\".format(team1,\n",
    "                                                                                                                                team2,\n",
    "                                                                                                                                team1,\n",
    "                                                                                                                                team2)\n",
    "    elif i % 3 == 1:\n",
    "        sentence = \"{} or {} won the last world cup,{} didn't win the last world cup and {} didn't win the last world cup\".format(team1,\n",
    "                                                                                                                                  team2,\n",
    "                                                                                                                                  team1,\n",
    "                                                                                                                                  team2)    \n",
    "    else:\n",
    "        sentence = \"{} or {} are in the geopolitical position of {},{} isn't in the geopolitical position of {} and {} isn't in the geopolitical position of {}\".format(team1,\n",
    "                                                                                                                                                                        team2,\n",
    "                                                                                                                                                                        team3,\n",
    "                                                                                                                                                                        team1,\n",
    "                                                                                                                                                                        team3,\n",
    "                                                                                                                                                                        team2,\n",
    "                                                                                                                                                                        team3)\n",
    "\n",
    "        \n",
    "    all_sentences_6.append(sentence)\n",
    "\n",
    "    \n",
    "all_sentences_6 = [sentence.split(\",\") + [1] for sentence in all_sentences_6]\n",
    "\n",
    "for sentence in all_sentences_6[0:10]:\n",
    "    print(sentence)\n"
   ]
  },
  {
   "cell_type": "markdown",
   "metadata": {},
   "source": [
    "- 7) **c or d got to the quarter finals last year, neither c(e) nor d(e) got to the quarter finals last year** (non-contradiction)\n",
    "- 7) **c or d won the last world cup, neither c(e) nor d(e) won the last world cup** (non-contradiction)\n",
    "- 7) **c or d are in the geopolitical position of e, neither c(f) nor d(f) are in the geopolitical position of e** (non-contradiction)"
   ]
  },
  {
   "cell_type": "code",
   "execution_count": 10,
   "metadata": {},
   "outputs": [
    {
     "name": "stdout",
     "output_type": "stream",
     "text": [
      "['Portugal or Tunisia got to the quarter finals last year', ' neither Portugal nor France got to the quarter finals last year', 0]\n",
      "['Nigeria or Serbia won the last world cup', ' neither Denmark nor Nigeria won the last world cup', 0]\n",
      "['Senegal or Peru are in the geopolitical position of Uruguay', ' neither Senegal nor Tunisia are in the geopolitical position of Uruguay', 0]\n",
      "['Egypt or England got to the quarter finals last year', ' neither Belgium nor Egypt got to the quarter finals last year', 0]\n",
      "['Korea Republic or Iran won the last world cup', ' neither Korea Republic nor Germany won the last world cup', 0]\n",
      "['Japan or Uruguay are in the geopolitical position of Iceland', ' neither Serbia nor Japan are in the geopolitical position of Iceland', 0]\n",
      "['Belgium or Spain got to the quarter finals last year', ' neither Belgium nor France got to the quarter finals last year', 0]\n",
      "['Senegal or Croatia won the last world cup', ' neither Poland nor Senegal won the last world cup', 0]\n",
      "['Argentina or England are in the geopolitical position of Nigeria', ' neither Argentina nor Russia are in the geopolitical position of Nigeria', 0]\n",
      "['Iceland or Denmark got to the quarter finals last year', ' neither Russia nor Iceland got to the quarter finals last year', 0]\n"
     ]
    }
   ],
   "source": [
    "all_sentences_7 = []\n",
    "for i in range(int(upper_bound)):\n",
    "    person = get_new_item([], name_list)\n",
    "    team1 = get_new_item([], team_list)\n",
    "    team2 = get_new_item([team1], team_list)\n",
    "    team3 = get_new_item([team1, team2], team_list)\n",
    "    team4 = get_new_item([team1, team2, team3], team_list)\n",
    "    \n",
    "    if i % 2 == 0:\n",
    "        team_p_1 = team1 \n",
    "        team_p_2 = team4\n",
    "    else:\n",
    "        team_p_1 = team4\n",
    "        team_p_2 = team1\n",
    "    \n",
    "    if i % 3 == 0:\n",
    "        sentence = \"{} or {} got to the quarter finals last year, neither {} nor {} got to the quarter finals last year\".format(team1,\n",
    "                                                                                                                                team2,\n",
    "                                                                                                                                team_p_1,\n",
    "                                                                                                                                team_p_2)\n",
    "    elif i % 3 == 1:\n",
    "        sentence = \"{} or {} won the last world cup, neither {} nor {} won the last world cup\".format(team1,\n",
    "                                                                                                      team2,\n",
    "                                                                                                      team_p_1,\n",
    "                                                                                                      team_p_2)    \n",
    "    else:\n",
    "        sentence = \"{} or {} are in the geopolitical position of {}, neither {} nor {} are in the geopolitical position of {}\".format(team1,\n",
    "                                                                                                                                      team2,\n",
    "                                                                                                                                      team3,\n",
    "                                                                                                                                      team_p_1,\n",
    "                                                                                                                                      team_p_2,\n",
    "                                                                                                                                      team3)\n",
    "\n",
    "        \n",
    "    all_sentences_7.append(sentence)\n",
    "\n",
    "    \n",
    "all_sentences_7 = [sentence.split(\",\") + [0] for sentence in all_sentences_7]\n",
    "\n",
    "for sentence in all_sentences_7[0:10]:\n",
    "    print(sentence)\n"
   ]
  },
  {
   "cell_type": "markdown",
   "metadata": {},
   "source": [
    "- 8) **c or d got to the quarter finals last year, c (d) didn't get to the quarter finals last year** (non-contradiction)\n",
    "- 8) **c or d won the last world cup, neither c (d) didn't winthe last world cup ** (non-contradiction)\n",
    "- 8) **c or d are in the geopolitical position of e, c (d) isn't in the geopolitical position of e** (non-contradiction)"
   ]
  },
  {
   "cell_type": "code",
   "execution_count": 11,
   "metadata": {},
   "outputs": [
    {
     "name": "stdout",
     "output_type": "stream",
     "text": [
      "['Portugal or Costa Rica got to the quarter finals last year', \"Portugal didn't get to the quarter finals last year\", 0]\n",
      "['Iran or Peru won the last world cup', \"Peru didn't win the last world cup\", 0]\n",
      "['Russia or Saudi Arabia are in the geopolitical position of Japan', \"Russia isn't in the geopolitical position of Japan\", 0]\n",
      "['Tunisia or Brazil got to the quarter finals last year', \"Brazil didn't get to the quarter finals last year\", 0]\n",
      "['Sweden or England won the last world cup', \"Sweden didn't win the last world cup\", 0]\n",
      "['Nigeria or Iceland are in the geopolitical position of Croatia', \"Iceland isn't in the geopolitical position of Croatia\", 0]\n",
      "['Senegal or Germany got to the quarter finals last year', \"Senegal didn't get to the quarter finals last year\", 0]\n",
      "['Panama or Serbia won the last world cup', \"Serbia didn't win the last world cup\", 0]\n",
      "['Japan or Denmark are in the geopolitical position of England', \"Japan isn't in the geopolitical position of England\", 0]\n",
      "['Saudi Arabia or Costa Rica got to the quarter finals last year', \"Costa Rica didn't get to the quarter finals last year\", 0]\n"
     ]
    }
   ],
   "source": [
    "all_sentences_8 = []\n",
    "for i in range(int(upper_bound)):\n",
    "    person = get_new_item([], name_list)\n",
    "    team1 = get_new_item([], team_list)\n",
    "    team2 = get_new_item([team1], team_list)\n",
    "    team3 = get_new_item([team1, team2], team_list)\n",
    "    if i % 2 == 0:\n",
    "        team_p = team1 \n",
    "    else:\n",
    "        team_p = team2\n",
    "        \n",
    "    if i % 3 == 0:\n",
    "        sentence = \"{} or {} got to the quarter finals last year,{} didn't get to the quarter finals last year\".format(team1,\n",
    "                                                                                                                       team2,\n",
    "                                                                                                                       team_p)\n",
    "    elif i % 3 == 1:\n",
    "        sentence = \"{} or {} won the last world cup,{} didn't win the last world cup\".format(team1,\n",
    "                                                                                                                                  team2,\n",
    "                                                                                                                                  team_p)    \n",
    "    else:\n",
    "        sentence = \"{} or {} are in the geopolitical position of {},{} isn't in the geopolitical position of {}\".format(team1,\n",
    "                                                                                                                        team2,\n",
    "                                                                                                                        team3,\n",
    "                                                                                                                        team_p,\n",
    "                                                                                                                        team3)\n",
    "\n",
    "        \n",
    "    all_sentences_8.append(sentence)\n",
    "\n",
    "    \n",
    "all_sentences_8 = [sentence.split(\",\") + [0] for sentence in all_sentences_8]\n",
    "\n",
    "for sentence in all_sentences_8[0:10]:\n",
    "    print(sentence)"
   ]
  },
  {
   "cell_type": "code",
   "execution_count": 12,
   "metadata": {},
   "outputs": [
    {
     "name": "stdout",
     "output_type": "stream",
     "text": [
      "type 1 size = 1375\n",
      "type 2 size = 1375\n",
      "type 3 size = 1375\n",
      "type 4 size = 1375\n",
      "type 5 size = 1375\n",
      "type 6 size = 1375\n",
      "type 7 size = 1375\n",
      "type 8 size = 1375\n",
      "total size = 11000\n"
     ]
    }
   ],
   "source": [
    "np.random.shuffle(all_sentences_1)\n",
    "np.random.shuffle(all_sentences_2)\n",
    "np.random.shuffle(all_sentences_3)\n",
    "np.random.shuffle(all_sentences_4)\n",
    "np.random.shuffle(all_sentences_5)\n",
    "np.random.shuffle(all_sentences_6)\n",
    "np.random.shuffle(all_sentences_7)\n",
    "np.random.shuffle(all_sentences_8)\n",
    "\n",
    "\n",
    "size1 = len(all_sentences_1)\n",
    "size2 = len(all_sentences_2)\n",
    "size3 = len(all_sentences_3)\n",
    "size4 = len(all_sentences_4)\n",
    "size5 = len(all_sentences_5)\n",
    "size6 = len(all_sentences_6)\n",
    "size7 = len(all_sentences_7)\n",
    "size8 = len(all_sentences_8)\n",
    "\n",
    "all_sentences = all_sentences_1 + all_sentences_2 + all_sentences_3 + all_sentences_4\n",
    "all_sentences += all_sentences_5 + all_sentences_6 + all_sentences_7 + all_sentences_8\n",
    "size = len(all_sentences)\n",
    "\n",
    "print(\"type 1 size = {}\".format(size1))\n",
    "print(\"type 2 size = {}\".format(size2))\n",
    "print(\"type 3 size = {}\".format(size3))\n",
    "print(\"type 4 size = {}\".format(size4))\n",
    "print(\"type 5 size = {}\".format(size5))\n",
    "print(\"type 6 size = {}\".format(size6))\n",
    "print(\"type 7 size = {}\".format(size7))\n",
    "print(\"type 8 size = {}\".format(size8))\n",
    "print(\"total size = {}\".format(size))"
   ]
  },
  {
   "cell_type": "markdown",
   "metadata": {},
   "source": [
    "### Generating a train DataFrame with 10000 examples and a test DataFrame with 1000 examples "
   ]
  },
  {
   "cell_type": "code",
   "execution_count": 13,
   "metadata": {},
   "outputs": [
    {
     "data": {
      "text/html": [
       "<div>\n",
       "<style scoped>\n",
       "    .dataframe tbody tr th:only-of-type {\n",
       "        vertical-align: middle;\n",
       "    }\n",
       "\n",
       "    .dataframe tbody tr th {\n",
       "        vertical-align: top;\n",
       "    }\n",
       "\n",
       "    .dataframe thead th {\n",
       "        text-align: right;\n",
       "    }\n",
       "</style>\n",
       "<table border=\"1\" class=\"dataframe\">\n",
       "  <thead>\n",
       "    <tr style=\"text-align: right;\">\n",
       "      <th></th>\n",
       "      <th>sentence1</th>\n",
       "      <th>sentence2</th>\n",
       "      <th>label</th>\n",
       "    </tr>\n",
       "  </thead>\n",
       "  <tbody>\n",
       "    <tr>\n",
       "      <th>10995</th>\n",
       "      <td>Spain or Poland are in the geopolitical positi...</td>\n",
       "      <td>Spain isn't in the geopolitical position of Sw...</td>\n",
       "      <td>1</td>\n",
       "    </tr>\n",
       "    <tr>\n",
       "      <th>10996</th>\n",
       "      <td>Japan or Tunisia are in the geopolitical posit...</td>\n",
       "      <td>neither Japan nor Tunisia are in the geopolit...</td>\n",
       "      <td>1</td>\n",
       "    </tr>\n",
       "    <tr>\n",
       "      <th>10997</th>\n",
       "      <td>Tunisia or Korea Republic are in the geopoliti...</td>\n",
       "      <td>neither Tunisia nor Panama are in the geopoli...</td>\n",
       "      <td>0</td>\n",
       "    </tr>\n",
       "    <tr>\n",
       "      <th>10998</th>\n",
       "      <td>Larry went to Hunedoara or Craiova</td>\n",
       "      <td>Sonia went to neither Hunedoara nor Craiova</td>\n",
       "      <td>0</td>\n",
       "    </tr>\n",
       "    <tr>\n",
       "      <th>10999</th>\n",
       "      <td>Marsha traveled to Giurgiu or Turda</td>\n",
       "      <td>Marsha traveled to neither Giurgiu nor Timisoara</td>\n",
       "      <td>0</td>\n",
       "    </tr>\n",
       "  </tbody>\n",
       "</table>\n",
       "</div>"
      ],
      "text/plain": [
       "                                               sentence1  \\\n",
       "10995  Spain or Poland are in the geopolitical positi...   \n",
       "10996  Japan or Tunisia are in the geopolitical posit...   \n",
       "10997  Tunisia or Korea Republic are in the geopoliti...   \n",
       "10998                 Larry went to Hunedoara or Craiova   \n",
       "10999                Marsha traveled to Giurgiu or Turda   \n",
       "\n",
       "                                               sentence2  label  \n",
       "10995  Spain isn't in the geopolitical position of Sw...      1  \n",
       "10996   neither Japan nor Tunisia are in the geopolit...      1  \n",
       "10997   neither Tunisia nor Panama are in the geopoli...      0  \n",
       "10998        Sonia went to neither Hunedoara nor Craiova      0  \n",
       "10999   Marsha traveled to neither Giurgiu nor Timisoara      0  "
      ]
     },
     "execution_count": 13,
     "metadata": {},
     "output_type": "execute_result"
    }
   ],
   "source": [
    "sentence_1 = [triple[0] for triple in all_sentences]\n",
    "sentence_2 = [triple[1] for triple in all_sentences]\n",
    "label = [triple[2] for triple in all_sentences]\n",
    "\n",
    "df_dict = {\"sentence1\": sentence_1,\n",
    "           \"sentence2\": sentence_2,\n",
    "           \"label\": label}\n",
    "        \n",
    "df = pd.DataFrame(df_dict)\n",
    "df = df[[\"sentence1\", \"sentence2\", \"label\"]]\n",
    "df = df.sample(frac=1).reset_index(drop=True)\n",
    "\n",
    "df_train = df.iloc[:10000]\n",
    "df_test = df.iloc[10000:]\n",
    "\n",
    "df.tail()    "
   ]
  },
  {
   "cell_type": "markdown",
   "metadata": {},
   "source": [
    "#### Looking at the label distribution"
   ]
  },
  {
   "cell_type": "code",
   "execution_count": 14,
   "metadata": {},
   "outputs": [
    {
     "data": {
      "image/png": "[encoded data removed]",
      "text/plain": [
       "<Figure size 432x288 with 1 Axes>"
      ]
     },
     "metadata": {},
     "output_type": "display_data"
    }
   ],
   "source": [
    "train_label = df_train[\"label\"].values\n",
    "plot_histogram_from_labels(train_label, [\"no\", \"yes\"], \"boolean8_train.png\")"
   ]
  },
  {
   "cell_type": "code",
   "execution_count": 15,
   "metadata": {},
   "outputs": [
    {
     "data": {
      "image/png": "[encoded data removed]",
      "text/plain": [
       "<Figure size 432x288 with 1 Axes>"
      ]
     },
     "metadata": {},
     "output_type": "display_data"
    }
   ],
   "source": [
    "test_label = df_test[\"label\"].values\n",
    "plot_histogram_from_labels(test_label, [\"no\", \"yes\"], \"boolean8_test.png\")"
   ]
  },
  {
   "cell_type": "markdown",
   "metadata": {},
   "source": [
    "### Saving to CSV"
   ]
  },
  {
   "cell_type": "code",
   "execution_count": 16,
   "metadata": {},
   "outputs": [],
   "source": [
    "df_train.to_csv(\"boolean8_train.csv\", index=False)\n",
    "df_test.to_csv(\"boolean8_test.csv\", index=False)"
   ]
  }
 ],
 "metadata": {
  "kernelspec": {
   "display_name": "Python 3",
   "language": "python",
   "name": "python3"
  },
  "language_info": {
   "codemirror_mode": {
    "name": "ipython",
    "version": 3
   },
   "file_extension": ".py",
   "mimetype": "text/x-python",
   "name": "python",
   "nbconvert_exporter": "python",
   "pygments_lexer": "ipython3",
   "version": "3.5.2"
  }
 },
 "nbformat": 4,
 "nbformat_minor": 2
}
