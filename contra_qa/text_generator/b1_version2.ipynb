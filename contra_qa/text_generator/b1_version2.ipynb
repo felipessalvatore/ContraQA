{
 "cells": [
  {
   "cell_type": "markdown",
   "metadata": {},
   "source": [
    "# Boolean generator 1 (second version):\n",
    "\n",
    "Generating sentences of the form\n",
    "\n",
    "- 1) **c is P, c is not P** (contradiction)\n",
    "\n",
    "- 2) **c is P, c is Q** (non-contradiction)\n",
    "\n",
    "- 3) **c is P, c is not Q** (non-contradiction)\n",
    "\n",
    "- 4) **c is P, d is Q** (non-contradiction)\n",
    "\n",
    "- 5) **c is P, d is not Q** (non-contradiction)\n",
    "\n",
    "- 6) **c is P, d is not P** (non-contradiction)\n",
    "\n",
    "\n"
   ]
  },
  {
   "cell_type": "code",
   "execution_count": null,
   "metadata": {},
   "outputs": [],
   "source": [
    "import numpy as np\n",
    "import pandas as pd\n",
    "from word_lists import name_list, positive_personality_list, condition_list\n",
    "import os\n",
    "import inspect\n",
    "import sys\n",
    "import itertools\n",
    "\n",
    "almost_current = os.path.abspath(inspect.getfile(inspect.currentframe()))\n",
    "currentdir = os.path.dirname(almost_current)\n",
    "parentdir = os.path.dirname(currentdir)\n",
    "sys.path.insert(0, parentdir)\n",
    "\n",
    "from plots.functions import plot_histogram_from_labels # noqa\n",
    "\n",
    "% matplotlib inline"
   ]
  },
  {
   "cell_type": "markdown",
   "metadata": {},
   "source": [
    "### Generating all types of propositions"
   ]
  },
  {
   "cell_type": "markdown",
   "metadata": {},
   "source": [
    "- 1) **c is P, c is not P** (contradiction)"
   ]
  },
  {
   "cell_type": "code",
   "execution_count": null,
   "metadata": {},
   "outputs": [],
   "source": [
    "template1 = itertools.product(name_list, positive_personality_list)\n",
    "template1 = list(template1)\n",
    "all_sentences_1 = [\"{} is {}, {} is not {}\".format(car,cdr,car,cdr) for car, cdr in template1]\n",
    "all_sentences_1 = [ sentence.split(\",\") + [1] for sentence in all_sentences_1]\n",
    "np.random.shuffle(all_sentences_1)\n",
    "\n",
    "print(\"Type 1 sentences:\\n\")\n",
    "for sentence in all_sentences_1[0:10]:\n",
    "    print(sentence)"
   ]
  },
  {
   "cell_type": "markdown",
   "metadata": {},
   "source": [
    "- 2) **c is P, c is Q** (non-contradiction)"
   ]
  },
  {
   "cell_type": "code",
   "execution_count": null,
   "metadata": {},
   "outputs": [],
   "source": [
    "template2 = itertools.product(name_list, positive_personality_list, condition_list)\n",
    "template2 = list(template2)\n",
    "all_sentences_2 = [\"{} is {}, {} is {}\".format(car,\n",
    "                                               cdr,\n",
    "                                               car,\n",
    "                                               cddr) for car, cdr, cddr in template2]\n",
    "\n",
    "all_sentences_2 = [ sentence.split(\",\") + [0] for sentence in all_sentences_2]\n",
    "np.random.shuffle(all_sentences_2)\n",
    "\n",
    "print(\"Type 2 sentences:\\n\")\n",
    "for sentence in all_sentences_2[0:10]:\n",
    "    print(sentence)"
   ]
  },
  {
   "cell_type": "markdown",
   "metadata": {},
   "source": [
    "- 3) **c is P, c is not Q** (non-contradiction)"
   ]
  },
  {
   "cell_type": "code",
   "execution_count": null,
   "metadata": {},
   "outputs": [],
   "source": [
    "template3 = itertools.product(name_list, positive_personality_list, condition_list)\n",
    "template3 = list(template3)\n",
    "all_sentences_3 = [\"{} is {}, {} is not {}\".format(car,cdr,car,cddr) for car, cdr, cddr in template3]\n",
    "\n",
    "all_sentences_3 = [ sentence.split(\",\") + [0] for sentence in all_sentences_3]\n",
    "\n",
    "np.random.shuffle(all_sentences_3)\n",
    "\n",
    "print(\"Type 3 sentences:\\n\")\n",
    "for sentence in all_sentences_3[0:10]:\n",
    "    print(sentence)"
   ]
  },
  {
   "cell_type": "markdown",
   "metadata": {},
   "source": [
    "- 4) **c is P, d is Q** (non-contradiction)"
   ]
  },
  {
   "cell_type": "code",
   "execution_count": null,
   "metadata": {},
   "outputs": [],
   "source": [
    "np.random.shuffle(template3)\n",
    "\n",
    "template4 = template3[0:1100]\n",
    "\n",
    "all_sentences_4 = []\n",
    "\n",
    "for triple in template4:\n",
    "    new_name = triple[0]\n",
    "    while new_name == triple[0]:\n",
    "        i = np.random.choice(len(name_list))\n",
    "        new_name = name_list[i]\n",
    "    car, cdr, cddr = triple \n",
    "    all_sentences_4.append(\"{} is {}, {} is {}\".format(car,cdr,new_name,cddr))\n",
    "\n",
    "all_sentences_4 = [ sentence.split(\",\") + [0] for sentence in all_sentences_4]    \n",
    "\n",
    "np.random.shuffle(all_sentences_4)\n",
    "\n",
    "print(\"Type 4 sentences:\\n\")\n",
    "for sentence in all_sentences_4[0:10]:\n",
    "    print(sentence)"
   ]
  },
  {
   "cell_type": "markdown",
   "metadata": {},
   "source": [
    "- 5) **c is P, d is not Q** (non-contradiction)"
   ]
  },
  {
   "cell_type": "code",
   "execution_count": null,
   "metadata": {},
   "outputs": [],
   "source": [
    "np.random.shuffle(template3)\n",
    "\n",
    "template5 = template3[0:1100]\n",
    "\n",
    "all_sentences_5 = []\n",
    "\n",
    "for triple in template5:\n",
    "    new_name = triple[0]\n",
    "    while new_name == triple[0]:\n",
    "        i = np.random.choice(len(name_list))\n",
    "        new_name = name_list[i]\n",
    "    car, cdr, cddr = triple \n",
    "    all_sentences_5.append(\"{} is {}, {} is not {}\".format(car,cdr,new_name,cddr))\n",
    "\n",
    "all_sentences_5 = [ sentence.split(\",\") + [0] for sentence in all_sentences_5]    \n",
    "    \n",
    "np.random.shuffle(all_sentences_5)\n",
    "\n",
    "print(\"Type 5 sentences:\\n\")\n",
    "for sentence in all_sentences_5[0:10]:\n",
    "    print(sentence)"
   ]
  },
  {
   "cell_type": "markdown",
   "metadata": {},
   "source": [
    "- 6) **c is P, d is not P** (non-contradiction)"
   ]
  },
  {
   "cell_type": "code",
   "execution_count": null,
   "metadata": {},
   "outputs": [],
   "source": [
    "np.random.shuffle(template1)\n",
    "\n",
    "template6 = template1[0:1100]\n",
    "\n",
    "all_sentences_6 = []\n",
    "\n",
    "for car,cdr in template6:\n",
    "    new_name = car\n",
    "    while new_name == car:\n",
    "        i = np.random.choice(len(name_list))\n",
    "        new_name = name_list[i] \n",
    "    all_sentences_6.append(\"{} is {}, {} is not {}\".format(car,cdr,new_name,cdr))\n",
    "\n",
    "all_sentences_6 = [ sentence.split(\",\") + [0] for sentence in all_sentences_6]\n",
    "\n",
    "np.random.shuffle(all_sentences_6)\n",
    "\n",
    "print(\"Type 6 sentences:\\n\")\n",
    "for sentence in all_sentences_6[0:10]:\n",
    "    print(sentence)"
   ]
  },
  {
   "cell_type": "code",
   "execution_count": null,
   "metadata": {},
   "outputs": [],
   "source": [
    "np.random.shuffle(all_sentences_1)\n",
    "np.random.shuffle(all_sentences_2)\n",
    "np.random.shuffle(all_sentences_3)\n",
    "np.random.shuffle(all_sentences_4)\n",
    "np.random.shuffle(all_sentences_5)\n",
    "np.random.shuffle(all_sentences_6)\n",
    "\n",
    "all_sentences_1 = all_sentences_1[0:5500]\n",
    "all_sentences_2 = all_sentences_2[0:1100]\n",
    "all_sentences_3 = all_sentences_3[0:1100]\n",
    "\n",
    "\n",
    "\n",
    "size1 = len(all_sentences_1)\n",
    "size2 = len(all_sentences_2)\n",
    "size3 = len(all_sentences_3)\n",
    "size4 = len(all_sentences_4)\n",
    "size5 = len(all_sentences_5)\n",
    "size6 = len(all_sentences_6)\n",
    "\n",
    "all_sentences = all_sentences_1 + all_sentences_2 + all_sentences_3 + all_sentences_4 + all_sentences_5 + all_sentences_6\n",
    "\n",
    "size = len(all_sentences)\n",
    "\n",
    "print(\"type 1 size = {}\".format(size1))\n",
    "print(\"type 2 size = {}\".format(size2))\n",
    "print(\"type 3 size = {}\".format(size3))\n",
    "print(\"type 4 size = {}\".format(size4))\n",
    "print(\"type 5 size = {}\".format(size5))\n",
    "print(\"type 6 size = {}\".format(size6))\n",
    "print(\"total size = {}\".format(size))"
   ]
  },
  {
   "cell_type": "markdown",
   "metadata": {},
   "source": [
    "### Generating a train DataFrame with 10000 examples and a test DataFrame with 1000 examples "
   ]
  },
  {
   "cell_type": "code",
   "execution_count": null,
   "metadata": {},
   "outputs": [],
   "source": [
    "sentence_1 = [triple[0] for triple in all_sentences]\n",
    "sentence_2 = [triple[1] for triple in all_sentences]\n",
    "label = [triple[2] for triple in all_sentences]\n",
    "\n",
    "df_dict = {\"sentence1\": sentence_1,\n",
    "           \"sentence2\": sentence_2,\n",
    "           \"label\": label}\n",
    "        \n",
    "df = pd.DataFrame(df_dict)\n",
    "df = df[[\"sentence1\", \"sentence2\", \"label\"]]\n",
    "df = df.sample(frac=1).reset_index(drop=True)\n",
    "\n",
    "df_train = df.iloc[:10000]\n",
    "df_test = df.iloc[10000:]\n",
    "\n",
    "df.tail()    "
   ]
  },
  {
   "cell_type": "markdown",
   "metadata": {},
   "source": [
    "#### Looking at the label distribution"
   ]
  },
  {
   "cell_type": "code",
   "execution_count": null,
   "metadata": {},
   "outputs": [],
   "source": [
    "train_label = df_train[\"label\"].values\n",
    "plot_histogram_from_labels(train_label, [\"no\", \"yes\"], \"b1_v2_train.png\")"
   ]
  },
  {
   "cell_type": "code",
   "execution_count": null,
   "metadata": {},
   "outputs": [],
   "source": [
    "test_label = df_test[\"label\"].values\n",
    "plot_histogram_from_labels(test_label, [\"no\", \"yes\"], \"b1_v2_test.png\")"
   ]
  },
  {
   "cell_type": "markdown",
   "metadata": {},
   "source": [
    "### Saving to CSV"
   ]
  },
  {
   "cell_type": "code",
   "execution_count": null,
   "metadata": {},
   "outputs": [],
   "source": [
    "df_train.to_csv(\"b1_v2_train.csv\", index=False)\n",
    "df_test.to_csv(\"b1_v2_test.csv\", index=False)"
   ]
  }
 ],
 "metadata": {
  "kernelspec": {
   "display_name": "Python 3",
   "language": "python",
   "name": "python3"
  },
  "language_info": {
   "codemirror_mode": {
    "name": "ipython",
    "version": 3
   },
   "file_extension": ".py",
   "mimetype": "text/x-python",
   "name": "python",
   "nbconvert_exporter": "python",
   "pygments_lexer": "ipython3",
   "version": "3.5.2"
  }
 },
 "nbformat": 4,
 "nbformat_minor": 2
}
