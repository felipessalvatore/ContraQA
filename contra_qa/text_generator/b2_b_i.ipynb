{
 "cells": [
  {
   "cell_type": "markdown",
   "metadata": {},
   "source": [
    "# Implicit conjunction:  different predicates applied on a subject (reference problem)\n",
    "\n",
    "Generating sentences of the form\n",
    "\n",
    "- 1) **c, who is a PROFESSION, saw X, c didn't saw X** -- contradiction \n",
    "- 1) **c, who is a PROFESSION, visit d, c didn't  visit d ** -- contradiction\n",
    "- 1) **c, who is a PROFESSION, bought Y, c didn't  buy Y ** -- contradiction \n",
    "\n",
    "\n",
    "- 2) **c, who is a PROFESSION, saw X, c isn't a PROFESSION ** -- contradiction\n",
    "- 2) **c, who is a PROFESSION, visit d, c isn't a PROFESSION ** -- contradiction\n",
    "- 2) **c, who is a PROFESSION, bought Y, c isn't a PROFESSION ** -- contradiction\n",
    "\n",
    "\n",
    "- 3) **c, who is a PROFESSION1, saw X, c, who is a PROFESSION2, didn't saw X**  -- non-contradiction\n",
    "- 3) **c, who is a PROFESSION1, visit d, c, who is a PROFESSION2, didn't visit d**  -- non-contradiction\n",
    "- 3) **c, who is a PROFESSION1, bought Y, c, who is a PROFESSION2, didn't bought Y**  -- non-contradiction\n",
    "\n",
    "\n",
    "- 4) **c, who is a PROFESSION, saw X, c, d's father (mother), didn't saw X** -- non-contradiction\n",
    "- 4) **c, who is a PROFESSION, visit d, c, d's father (mother), didn't visit d** -- non-contradiction\n",
    "- 4) **c, who is a PROFESSION, bought Y, c, d's father (mother), didn't bought Y** -- non-contradiction\n",
    "\n",
    "\n",
    "X = [a girl running, a blue plane, the new Tesla sport car, the new Marvel movie, a dog chasing a cat, etc.]\n",
    "\n",
    "Y = [the new Tesla Roadster, etc.]\n"
   ]
  },
  {
   "cell_type": "code",
   "execution_count": 1,
   "metadata": {},
   "outputs": [],
   "source": [
    "import numpy as np\n",
    "import pandas as pd\n",
    "from word_lists import male_names, female_names, professions \n",
    "import os\n",
    "import inspect\n",
    "import sys\n",
    "import itertools\n",
    "\n",
    "almost_current = os.path.abspath(inspect.getfile(inspect.currentframe()))\n",
    "currentdir = os.path.dirname(almost_current)\n",
    "parentdir = os.path.dirname(currentdir)\n",
    "sys.path.insert(0, parentdir)\n",
    "\n",
    "from plots.functions import plot_histogram_from_labels # noqa\n",
    "\n",
    "% matplotlib inline"
   ]
  },
  {
   "cell_type": "code",
   "execution_count": 5,
   "metadata": {},
   "outputs": [],
   "source": [
    "what_I_see = [\"a girl running\",\n",
    "              \"a blue plane\",\n",
    "              \"the new Tesla Roadster\",\n",
    "              \"the new Marvel movie from the Russo Brothers\", \n",
    "              \"a dog chasing a cat\",\n",
    "              \"the accident\",\n",
    "              \"the car crash\",\n",
    "              \"a strange add\",\n",
    "              \"the city mayor\"]\n",
    "\n",
    "what_I_buy = [\"the new Tesla Roadster\",\n",
    "              \"the new Marvel movie from the Russo Brothers\",\n",
    "              \"a Chilean wine\",\n",
    "              \"a MAcbook\",\n",
    "              \"a cup of coffee\",\n",
    "              \"a pizza\",\n",
    "              \"a japanese novel\"]"
   ]
  },
  {
   "cell_type": "code",
   "execution_count": null,
   "metadata": {},
   "outputs": [],
   "source": []
  },
  {
   "cell_type": "code",
   "execution_count": null,
   "metadata": {},
   "outputs": [],
   "source": []
  },
  {
   "cell_type": "code",
   "execution_count": null,
   "metadata": {},
   "outputs": [],
   "source": []
  },
  {
   "cell_type": "code",
   "execution_count": null,
   "metadata": {},
   "outputs": [],
   "source": []
  },
  {
   "cell_type": "code",
   "execution_count": null,
   "metadata": {},
   "outputs": [],
   "source": []
  },
  {
   "cell_type": "code",
   "execution_count": null,
   "metadata": {},
   "outputs": [],
   "source": []
  },
  {
   "cell_type": "code",
   "execution_count": null,
   "metadata": {},
   "outputs": [],
   "source": []
  },
  {
   "cell_type": "code",
   "execution_count": null,
   "metadata": {},
   "outputs": [],
   "source": []
  },
  {
   "cell_type": "code",
   "execution_count": null,
   "metadata": {},
   "outputs": [],
   "source": [
    "template1 = itertools.product(name_list, city_list)\n",
    "template1 = list(template1)\n",
    "upper_bound = 11000/4"
   ]
  },
  {
   "cell_type": "markdown",
   "metadata": {},
   "source": [
    "### Generating all types of sentences"
   ]
  },
  {
   "cell_type": "markdown",
   "metadata": {},
   "source": [
    "- 1) **c and d have traveled to X, c didn't travel to X** (contradiction)\n",
    "- 1) **c and d went to X, c didn't go to X** (contradiction)\n",
    "- 1) **c and d have visited X, c didn't visit X** (contradiction)"
   ]
  },
  {
   "cell_type": "code",
   "execution_count": null,
   "metadata": {},
   "outputs": [],
   "source": [
    "np.random.shuffle(template1)\n",
    "all_sentences_1 = []\n",
    "for i in range(int(upper_bound)):\n",
    "    person1, place = template1[i]\n",
    "    person2 = person1\n",
    "    while person2 == person1:\n",
    "        new_i = np.random.choice(len(template1))\n",
    "        person2, _ = template1[new_i]\n",
    "    if i%3 == 0:\n",
    "        sentence = \"{} and {} have traveled to {},{} didn't travel to {}\".format(person1, person2, place, person1, place)\n",
    "    elif i%3 ==1:\n",
    "        sentence = \"{} and {} went to {},{} didn't go to {}\".format(person1, person2, place, person1, place)\n",
    "    else:\n",
    "        sentence = \"{} and {} have visited {},{} didn't visit {}\".format(person1, person2, place, person1, place)\n",
    "    all_sentences_1.append(sentence)\n",
    "\n",
    "all_sentences_1 = [sentence.split(\",\") + [1] for sentence in all_sentences_1]\n",
    "\n",
    "for sentence in all_sentences_1[0:10]:\n",
    "    print(sentence)\n"
   ]
  },
  {
   "cell_type": "markdown",
   "metadata": {},
   "source": [
    "- 2) **c and d have traveled to X, d didn't travel to X** (contradiction)\n",
    "- 2) **c and d went to X, d didn't go to X** (contradiction)\n",
    "- 2) **c and d have visited X, d didn't visit X** (contradiction)"
   ]
  },
  {
   "cell_type": "code",
   "execution_count": null,
   "metadata": {},
   "outputs": [],
   "source": [
    "np.random.shuffle(template1)\n",
    "all_sentences_2 = []\n",
    "for i in range(int(upper_bound)):\n",
    "    person1, place = template1[i]\n",
    "    person2 = person1\n",
    "    while person2 == person1:\n",
    "        new_i = np.random.choice(len(template1))\n",
    "        person2, _ = template1[new_i]\n",
    "    if i%3 == 0:\n",
    "        sentence = \"{} and {} have traveled to {},{} didn't travel to {}\".format(person1, person2, place, person2, place)\n",
    "    elif i%3 ==1:\n",
    "        sentence = \"{} and {} went to {},{} didn't go to {}\".format(person1, person2, place, person2, place)\n",
    "    else:\n",
    "        sentence = \"{} and {} have visited {},{} didn't visit {}\".format(person1, person2, place, person2, place)\n",
    "    all_sentences_2.append(sentence)\n",
    "\n",
    "all_sentences_2 = [sentence.split(\",\") + [1] for sentence in all_sentences_2]\n",
    "\n",
    "for sentence in all_sentences_2[0:10]:\n",
    "    print(sentence)"
   ]
  },
  {
   "cell_type": "markdown",
   "metadata": {},
   "source": [
    "- 3) **c and d have traveled to X, c (d) didn't travel to Y ** (non-contradiction)\n",
    "- 3) **c and d went to X, c (d) didn't go to Y** (non-contradiction)\n",
    "- 3) **c and d have visited X, c (d) didn't visit Y** (non-contradiction)"
   ]
  },
  {
   "cell_type": "code",
   "execution_count": null,
   "metadata": {},
   "outputs": [],
   "source": [
    "np.random.shuffle(template1)\n",
    "all_sentences_3 = []\n",
    "for i in range(int(upper_bound)):\n",
    "    person1, place1 = template1[i]\n",
    "    person2 = person1\n",
    "    place2 = place1\n",
    "    while person2 == person1 and place2 == place1:\n",
    "        new_i = np.random.choice(len(template1))\n",
    "        person2, place2 = template1[new_i]\n",
    "    if i%2 ==0:\n",
    "        person3 = person1\n",
    "    else:\n",
    "        person3 = person2\n",
    "    if i%3 == 0:\n",
    "        sentence = \"{} and {} have traveled to {},{} didn't travel to {}\".format(person1, person2, place1, person3, place2)\n",
    "    elif i%3 ==1:\n",
    "        sentence = \"{} and {} went to {},{} didn't go to {}\".format(person1, person2, place1, person3, place2)\n",
    "    else:\n",
    "        sentence = \"{} and {} have visited {},{} didn't visit {}\".format(person1, person2, place1, person3, place2)\n",
    "    all_sentences_3.append(sentence)\n",
    "\n",
    "all_sentences_3 = [sentence.split(\",\") + [0] for sentence in all_sentences_3]\n",
    "\n",
    "for sentence in all_sentences_3[0:10]:\n",
    "    print(sentence)"
   ]
  },
  {
   "cell_type": "markdown",
   "metadata": {},
   "source": [
    "- 4) **c and d have traveled to X, e didn't travel to X** (non-contradiction)\n",
    "- 4) **c and d went to X, e didn't go to X** (non-contradiction)\n",
    "- 4) **c and d have visited X, e didn't visit X** (non-contradiction)"
   ]
  },
  {
   "cell_type": "code",
   "execution_count": null,
   "metadata": {},
   "outputs": [],
   "source": [
    "np.random.shuffle(template1)\n",
    "all_sentences_4 = []\n",
    "for i in range(int(upper_bound)):\n",
    "    person1, place1 = template1[i]\n",
    "    person2 = person1\n",
    "    while person2 == person1:\n",
    "        new_i = np.random.choice(len(template1))\n",
    "        person2, _ = template1[new_i]\n",
    "    person3 = person1\n",
    "    while person3 == person1 or person3 == person2:\n",
    "        new_i = np.random.choice(len(template1))\n",
    "        person3, _ = template1[new_i]\n",
    "    if i % 3 == 0:\n",
    "        sentence = \"{} and {} have traveled to {},{} didn't travel to {}\".format(person1, person2, place1, person3, place1)\n",
    "    elif i % 3 == 1:\n",
    "        sentence = \"{} and {} went to {},{} didn't go to {}\".format(person1, person2, place1, person3, place1)\n",
    "    else:\n",
    "        sentence = \"{} and {} have visited {},{} didn't visit {}\".format(person1, person2, place1, person3, place1)\n",
    "    all_sentences_4.append(sentence)\n",
    "\n",
    "all_sentences_4 = [sentence.split(\",\") + [0] for sentence in all_sentences_4]\n",
    "\n",
    "for sentence in all_sentences_4[0:10]:\n",
    "    print(sentence)"
   ]
  },
  {
   "cell_type": "code",
   "execution_count": null,
   "metadata": {},
   "outputs": [],
   "source": [
    "np.random.shuffle(all_sentences_1)\n",
    "np.random.shuffle(all_sentences_2)\n",
    "np.random.shuffle(all_sentences_3)\n",
    "np.random.shuffle(all_sentences_4)\n",
    "\n",
    "\n",
    "\n",
    "size1 = len(all_sentences_1)\n",
    "size2 = len(all_sentences_2)\n",
    "size3 = len(all_sentences_3)\n",
    "size4 = len(all_sentences_4)\n",
    "\n",
    "all_sentences = all_sentences_1 + all_sentences_2 + all_sentences_3 + all_sentences_4\n",
    "size = len(all_sentences)\n",
    "\n",
    "print(\"type 1 size = {}\".format(size1))\n",
    "print(\"type 2 size = {}\".format(size2))\n",
    "print(\"type 3 size = {}\".format(size3))\n",
    "print(\"type 4 size = {}\".format(size4))\n",
    "print(\"total size = {}\".format(size))"
   ]
  },
  {
   "cell_type": "markdown",
   "metadata": {},
   "source": [
    "### Generating a train DataFrame with 10000 examples and a test DataFrame with 1000 examples "
   ]
  },
  {
   "cell_type": "code",
   "execution_count": null,
   "metadata": {},
   "outputs": [],
   "source": [
    "sentence_1 = [triple[0] for triple in all_sentences]\n",
    "sentence_2 = [triple[1] for triple in all_sentences]\n",
    "label = [triple[2] for triple in all_sentences]\n",
    "\n",
    "df_dict = {\"sentence1\": sentence_1,\n",
    "           \"sentence2\": sentence_2,\n",
    "           \"label\": label}\n",
    "        \n",
    "df = pd.DataFrame(df_dict)\n",
    "df = df[[\"sentence1\", \"sentence2\", \"label\"]]\n",
    "df = df.sample(frac=1).reset_index(drop=True)\n",
    "\n",
    "df_train = df.iloc[:10000]\n",
    "df_test = df.iloc[10000:]\n",
    "\n",
    "df.tail()    "
   ]
  },
  {
   "cell_type": "markdown",
   "metadata": {},
   "source": [
    "#### Looking at the label distribution"
   ]
  },
  {
   "cell_type": "code",
   "execution_count": null,
   "metadata": {},
   "outputs": [],
   "source": [
    "train_label = df_train[\"label\"].values\n",
    "plot_histogram_from_labels(train_label, [\"no\", \"yes\"], \"b2_a_iii_train.png\")"
   ]
  },
  {
   "cell_type": "code",
   "execution_count": null,
   "metadata": {},
   "outputs": [],
   "source": [
    "test_label = df_test[\"label\"].values\n",
    "plot_histogram_from_labels(test_label, [\"no\", \"yes\"], \"b2_a_iii_test.png\")"
   ]
  },
  {
   "cell_type": "markdown",
   "metadata": {},
   "source": [
    "### Saving to CSV"
   ]
  },
  {
   "cell_type": "code",
   "execution_count": null,
   "metadata": {},
   "outputs": [],
   "source": [
    "df_train.to_csv(\"b2_a_iii_train.csv\", index=False)\n",
    "df_test.to_csv(\"b2_a_iii_test.csv\", index=False)"
   ]
  }
 ],
 "metadata": {
  "kernelspec": {
   "display_name": "Python 3",
   "language": "python",
   "name": "python3"
  },
  "language_info": {
   "codemirror_mode": {
    "name": "ipython",
    "version": 3
   },
   "file_extension": ".py",
   "mimetype": "text/x-python",
   "name": "python",
   "nbconvert_exporter": "python",
   "pygments_lexer": "ipython3",
   "version": "3.5.2"
  }
 },
 "nbformat": 4,
 "nbformat_minor": 2
}
