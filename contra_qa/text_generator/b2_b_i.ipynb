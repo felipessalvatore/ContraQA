{
 "cells": [
  {
   "cell_type": "markdown",
   "metadata": {},
   "source": [
    "# Implicit conjunction:  different predicates applied on a subject (reference problem)\n",
    "\n",
    "Generating sentences of the form\n",
    "\n",
    "- 1) **c, who is a PROFESSION, saw X, c didn't saw X** -- contradiction \n",
    "- 1) **c, who is a PROFESSION, visit d, c didn't  visit d ** -- contradiction\n",
    "- 1) **c, who is a PROFESSION, bought Y, c didn't  buy Y ** -- contradiction \n",
    "\n",
    "\n",
    "- 2) **c, who is a PROFESSION, saw X, c isn't a PROFESSION ** -- contradiction\n",
    "- 2) **c, who is a PROFESSION, visit d, c isn't a PROFESSION ** -- contradiction\n",
    "- 2) **c, who is a PROFESSION, bought Y, c isn't a PROFESSION ** -- contradiction\n",
    "\n",
    "\n",
    "- 3) **c, who is a PROFESSION1, saw X, c, who is a PROFESSION2, didn't saw X**  -- non-contradiction\n",
    "- 3) **c, who is a PROFESSION1, visit d, c, who is a PROFESSION2, didn't visit d**  -- non-contradiction\n",
    "- 3) **c, who is a PROFESSION1, bought Y, c, who is a PROFESSION2, didn't bought Y**  -- non-contradiction\n",
    "\n",
    "\n",
    "- 4) **c, who is a PROFESSION, saw X, c, e's father (mother), didn't saw X** -- non-contradiction\n",
    "- 4) **c, who is a PROFESSION, visit d, c, e's father (mother), didn't visit d** -- non-contradiction\n",
    "- 4) **c, who is a PROFESSION, bought Y, c, e's father (mother), didn't bought Y** -- non-contradiction\n",
    "\n",
    "\n",
    "X = [a girl running, a blue plane, the new Tesla sport car, the new Marvel movie, a dog chasing a cat, etc.]\n",
    "\n",
    "Y = [the new Tesla Roadster, etc.]\n"
   ]
  },
  {
   "cell_type": "code",
   "execution_count": 1,
   "metadata": {},
   "outputs": [],
   "source": [
    "import numpy as np\n",
    "import pandas as pd\n",
    "from word_lists import male_names, female_names, name_list, professions \n",
    "import os\n",
    "import inspect\n",
    "import sys\n",
    "import itertools\n",
    "\n",
    "almost_current = os.path.abspath(inspect.getfile(inspect.currentframe()))\n",
    "currentdir = os.path.dirname(almost_current)\n",
    "parentdir = os.path.dirname(currentdir)\n",
    "sys.path.insert(0, parentdir)\n",
    "\n",
    "from plots.functions import plot_histogram_from_labels # noqa\n",
    "\n",
    "% matplotlib inline"
   ]
  },
  {
   "cell_type": "code",
   "execution_count": 2,
   "metadata": {},
   "outputs": [],
   "source": [
    "what_I_see = [\"a girl running\",\n",
    "              \"a blue plane\",\n",
    "              \"the new Tesla Roadster\",\n",
    "              \"the new Marvel movie from the Russo Brothers\", \n",
    "              \"a dog chasing a cat\",\n",
    "              \"the accident\",\n",
    "              \"the car crash\",\n",
    "              \"a strange add\",\n",
    "              \"the city mayor\"]\n",
    "\n",
    "what_I_buy = [\"the new Tesla Roadster\",\n",
    "              \"the new Marvel movie from the Russo Brothers\",\n",
    "              \"a Chilean wine\",\n",
    "              \"a Macbook\",\n",
    "              \"a cup of coffee\",\n",
    "              \"a pizza\",\n",
    "              \"a japanese novel\"]"
   ]
  },
  {
   "cell_type": "code",
   "execution_count": 3,
   "metadata": {},
   "outputs": [],
   "source": [
    "def get_new_item(item_list, src_list):\n",
    "    new_item = item_list[0]\n",
    "    size = len(src_list)\n",
    "    while new_item in item_list: \n",
    "        new_i = np.random.choice(size)\n",
    "        new_item = src_list[new_i]\n",
    "    return new_item"
   ]
  },
  {
   "cell_type": "code",
   "execution_count": 4,
   "metadata": {},
   "outputs": [],
   "source": [
    "len_name = len(name_list)\n",
    "new_i = np.random.choice(len_name)\n",
    "name = name_list[new_i]  \n",
    "for i in range(len_name):\n",
    "    new_name = get_new_item([name], name_list)\n",
    "    assert name != new_name"
   ]
  },
  {
   "cell_type": "code",
   "execution_count": 5,
   "metadata": {},
   "outputs": [],
   "source": [
    "upper_bound = 11000/4\n",
    "len_male_name = len(male_names)\n",
    "len_female_name = len(female_names)\n",
    "len_see = len(what_I_see)\n",
    "len_buy = len(what_I_buy)\n",
    "len_professions = len(professions)"
   ]
  },
  {
   "cell_type": "markdown",
   "metadata": {},
   "source": [
    "### Generating all types of sentences"
   ]
  },
  {
   "cell_type": "markdown",
   "metadata": {},
   "source": [
    "- 1) **c, who is a PROFESSION, saw X, c didn't saw X** -- contradiction \n",
    "- 1) **c, who is a PROFESSION, visit d, c didn't  visit d ** -- contradiction\n",
    "- 1) **c, who is a PROFESSION, bought Y, c didn't  buy Y ** -- contradiction "
   ]
  },
  {
   "cell_type": "code",
   "execution_count": 6,
   "metadata": {},
   "outputs": [
    {
     "name": "stdout",
     "output_type": "stream",
     "text": [
      "['Denise, who is a lawyer, saw the car crash', \"Denise didn't saw the car crash\", 1]\n",
      "['Luz, who is a flight attendant, visit Deborah', \"Luz didn't visit Deborah\", 1]\n",
      "['Antonio, who is a builder, bought the new Marvel movie from the Russo Brothers', \"Antonio didn't buy the new Marvel movie from the Russo Brothers\", 1]\n",
      "['Rodney, who is a tailor, saw a dog chasing a cat', \"Rodney didn't saw a dog chasing a cat\", 1]\n",
      "['Dianne, who is a receptionist, visit Marilyn', \"Dianne didn't visit Marilyn\", 1]\n",
      "['Judy, who is a receptionist, bought a pizza', \"Judy didn't buy a pizza\", 1]\n",
      "['Ian, who is a pilot, saw the city mayor', \"Ian didn't saw the city mayor\", 1]\n",
      "['David, who is a tailor, visit Morris', \"David didn't visit Morris\", 1]\n",
      "['Brandon, who is a receptionist, bought a cup of coffee', \"Brandon didn't buy a cup of coffee\", 1]\n",
      "['Lydia, who is a builder, saw the new Marvel movie from the Russo Brothers', \"Lydia didn't saw the new Marvel movie from the Russo Brothers\", 1]\n"
     ]
    }
   ],
   "source": [
    "all_sentences_1 = []\n",
    "for i in range(int(upper_bound)):\n",
    "    new_i = np.random.choice(len_name)\n",
    "    person1 = name_list[new_i]\n",
    "    person2 = get_new_item([person1], name_list)\n",
    "    new_i = np.random.choice(len_buy)\n",
    "    buy = what_I_buy[new_i]\n",
    "    new_i = np.random.choice(len_see)\n",
    "    see = what_I_see[new_i]\n",
    "    new_i = np.random.choice(len_professions)\n",
    "    profession = professions[new_i]\n",
    "    if i % 3 == 0:\n",
    "        sentence = \"{}, who is a {}, saw {};{} didn't saw {}\".format(person1, profession, see, person1, see)\n",
    "    elif i % 3 ==1:\n",
    "        sentence = \"{}, who is a {}, visit {};{} didn't visit {}\".format(person1, profession, person2, person1, person2)\n",
    "    else:\n",
    "        sentence = \"{}, who is a {}, bought {};{} didn't buy {}\".format(person1, profession, buy, person1, buy)\n",
    "    all_sentences_1.append(sentence)\n",
    "\n",
    "all_sentences_1 = [sentence.split(\";\") + [1] for sentence in all_sentences_1]\n",
    "\n",
    "for sentence in all_sentences_1[0:10]:\n",
    "    print(sentence)"
   ]
  },
  {
   "cell_type": "markdown",
   "metadata": {},
   "source": [
    "- 2) **c, who is a PROFESSION, saw X, c isn't a PROFESSION ** -- contradiction\n",
    "- 2) **c, who is a PROFESSION, visit d, c isn't a PROFESSION ** -- contradiction\n",
    "- 2) **c, who is a PROFESSION, bought Y, c isn't a PROFESSION ** -- contradiction"
   ]
  },
  {
   "cell_type": "code",
   "execution_count": 7,
   "metadata": {},
   "outputs": [
    {
     "name": "stdout",
     "output_type": "stream",
     "text": [
      "['Larry, who is a plumber, saw a blue plane', \"Larry isn't a plumber\", 1]\n",
      "['Chester, who is a painter, visit Tracy', \"Chester isn't a painter\", 1]\n",
      "['Darren, who is a pilot, bought the new Marvel movie from the Russo Brothers', \"Darren isn't a pilot\", 1]\n",
      "['Frank, who is a fireman, saw a strange add', \"Frank isn't a fireman\", 1]\n",
      "['Melvin, who is a doctor, visit Esther', \"Melvin isn't a doctor\", 1]\n",
      "['Jorge, who is a pilot, bought the new Tesla Roadster', \"Jorge isn't a pilot\", 1]\n",
      "['Rodney, who is a nurse, saw the accident', \"Rodney isn't a nurse\", 1]\n",
      "['Vivian, who is a secretary, visit Florence', \"Vivian isn't a secretary\", 1]\n",
      "['Roberto, who is a dentist, bought a Macbook', \"Roberto isn't a dentist\", 1]\n",
      "['Barbara, who is a musician, saw a strange add', \"Barbara isn't a musician\", 1]\n"
     ]
    }
   ],
   "source": [
    "all_sentences_2 = []\n",
    "for i in range(int(upper_bound)):\n",
    "    new_i = np.random.choice(len_name)\n",
    "    person1 = name_list[new_i]\n",
    "    person2 = get_new_item([person1], name_list)\n",
    "    new_i = np.random.choice(len_buy)\n",
    "    buy = what_I_buy[new_i]\n",
    "    new_i = np.random.choice(len_see)\n",
    "    see = what_I_see[new_i]\n",
    "    new_i = np.random.choice(len_professions)\n",
    "    profession = professions[new_i]\n",
    "    if i % 3 == 0:\n",
    "        sentence = \"{}, who is a {}, saw {};{} isn't a {}\".format(person1, profession, see, person1, profession)\n",
    "    elif i % 3 ==1:\n",
    "        sentence = \"{}, who is a {}, visit {};{} isn't a {}\".format(person1, profession, person2, person1, profession)\n",
    "    else:\n",
    "        sentence = \"{}, who is a {}, bought {};{} isn't a {}\".format(person1, profession, buy, person1, profession)\n",
    "    all_sentences_2.append(sentence)\n",
    "\n",
    "all_sentences_2 = [sentence.split(\";\") + [1] for sentence in all_sentences_2]\n",
    "\n",
    "for sentence in all_sentences_2[0:10]:\n",
    "    print(sentence)"
   ]
  },
  {
   "cell_type": "markdown",
   "metadata": {},
   "source": [
    "- 3) **c, who is a PROFESSION1, saw X, c, who is a PROFESSION2, didn't saw X**  -- non-contradiction\n",
    "- 3) **c, who is a PROFESSION1, visit d, c, who is a PROFESSION2, didn't visit d**  -- non-contradiction\n",
    "- 3) **c, who is a PROFESSION1, bought Y, c, who is a PROFESSION2, didn't bought Y**  -- non-contradiction"
   ]
  },
  {
   "cell_type": "code",
   "execution_count": 8,
   "metadata": {},
   "outputs": [
    {
     "name": "stdout",
     "output_type": "stream",
     "text": [
      "['Lillian, who is a vet, saw the car crash', \"Lillian, who is a electrician, didn't saw the car crash\", 0]\n",
      "['Katrina, who is a dentist, visit Donna', \"Katrina, who is a electrician, didn't visit Donna\", 0]\n",
      "['Gwendolyn, who is a judge, bought the new Marvel movie from the Russo Brothers', \"Gwendolyn, who is a nurse, didn't buy the new Marvel movie from the Russo Brothers\", 0]\n",
      "['Jackie, who is a barber, saw the accident', \"Jackie, who is a doctor, didn't saw the accident\", 0]\n",
      "['Barry, who is a butcher, visit Sonia', \"Barry, who is a receptionist, didn't visit Sonia\", 0]\n",
      "['Eva, who is a painter, bought the new Marvel movie from the Russo Brothers', \"Eva, who is a cashier, didn't buy the new Marvel movie from the Russo Brothers\", 0]\n",
      "['Norma, who is a baker, saw the car crash', \"Norma, who is a dentist, didn't saw the car crash\", 0]\n",
      "['Jo, who is a cop, visit Jeffrey', \"Jo, who is a cashier, didn't visit Jeffrey\", 0]\n",
      "['Diana, who is a bartender, bought a japanese novel', \"Diana, who is a technician, didn't buy a japanese novel\", 0]\n",
      "['Reginald, who is a carpenter, saw a girl running', \"Reginald, who is a bartender, didn't saw a girl running\", 0]\n"
     ]
    }
   ],
   "source": [
    "all_sentences_3 = []\n",
    "for i in range(int(upper_bound)):\n",
    "    new_i = np.random.choice(len_name)\n",
    "    person1 = name_list[new_i]\n",
    "    person2 = get_new_item([person1], name_list)\n",
    "    new_i = np.random.choice(len_buy)\n",
    "    buy = what_I_buy[new_i]\n",
    "    new_i = np.random.choice(len_see)\n",
    "    see = what_I_see[new_i]\n",
    "    new_i = np.random.choice(len_professions)\n",
    "    profession1 = professions[new_i]\n",
    "    profession2 = get_new_item([profession1], professions)\n",
    "    assert profession1 != profession2 \n",
    "    if i % 3 == 0:\n",
    "        sentence = \"{}, who is a {}, saw {};{}, who is a {}, didn't saw {}\".format(person1, profession1, see, person1, profession2, see)\n",
    "    elif i % 3 ==1:\n",
    "        sentence = \"{}, who is a {}, visit {};{}, who is a {}, didn't visit {}\".format(person1, profession1, person2, person1, profession2, person2)\n",
    "    else:\n",
    "        sentence = \"{}, who is a {}, bought {};{}, who is a {}, didn't buy {}\".format(person1, profession1, buy, person1, profession2, buy)\n",
    "    all_sentences_3.append(sentence)\n",
    "\n",
    "all_sentences_3 = [sentence.split(\";\") + [0] for sentence in all_sentences_3]\n",
    "\n",
    "for sentence in all_sentences_3[0:10]:\n",
    "    print(sentence)"
   ]
  },
  {
   "cell_type": "markdown",
   "metadata": {},
   "source": [
    "- 4) **c, who is a PROFESSION, saw X, c, e's father (mother), didn't saw X** -- non-contradiction\n",
    "- 4) **c, who is a PROFESSION, visit d, c, e's father (mother), didn't visit d** -- non-contradiction\n",
    "- 4) **c, who is a PROFESSION, bought Y, c, e's father (mother), didn't bought Y** -- non-contradiction"
   ]
  },
  {
   "cell_type": "code",
   "execution_count": 9,
   "metadata": {},
   "outputs": [
    {
     "name": "stdout",
     "output_type": "stream",
     "text": [
      "['Tanya, who is a fireman, saw the car crash', \"Tanya, Raymond's mother, didn't saw the car crash\", 0]\n",
      "['Keith, who is a engineer, visit Margaret', \"Keith, Linda's father, didn't visit Margaret\", 0]\n",
      "['Marie, who is a plumber, bought a pizza', \"Marie, Daisy's mother, didn't buy a pizza\", 0]\n",
      "['Steven, who is a scientist, saw a blue plane', \"Steven, Glenn's father, didn't saw a blue plane\", 0]\n",
      "['Marsha, who is a accountant, visit Heidi', \"Marsha, Susie's mother, didn't visit Heidi\", 0]\n",
      "['Justin, who is a cop, bought a pizza', \"Justin, Jennie's father, didn't buy a pizza\", 0]\n",
      "['Faye, who is a nurse, saw a girl running', \"Faye, Pearl's mother, didn't saw a girl running\", 0]\n",
      "['Melvin, who is a cashier, visit Pearl', \"Melvin, Lance's father, didn't visit Pearl\", 0]\n",
      "['Sarah, who is a receptionist, bought a Macbook', \"Sarah, Jessie's mother, didn't buy a Macbook\", 0]\n",
      "['Martin, who is a pilot, saw the new Marvel movie from the Russo Brothers', \"Martin, Byron's father, didn't saw the new Marvel movie from the Russo Brothers\", 0]\n"
     ]
    }
   ],
   "source": [
    "all_sentences_4 = []\n",
    "for i in range(int(upper_bound)):\n",
    "    if i % 2 == 0:\n",
    "        new_i = np.random.choice(len_female_name)\n",
    "        person1 = female_names[new_i]\n",
    "        parent = \"mother\"\n",
    "    else:\n",
    "        new_i = np.random.choice(len_male_name)\n",
    "        person1 = male_names[new_i]\n",
    "        parent = \"father\"\n",
    "    person2 = get_new_item([person1], name_list)\n",
    "    person3 = get_new_item([person1, person2], name_list)\n",
    "    new_i = np.random.choice(len_buy)\n",
    "    buy = what_I_buy[new_i]\n",
    "    new_i = np.random.choice(len_see)\n",
    "    see = what_I_see[new_i]\n",
    "    new_i = np.random.choice(len_professions)\n",
    "    profession1 = professions[new_i]\n",
    "    profession2 = get_new_item([profession1], professions)\n",
    "    if i % 3 == 0:\n",
    "        sentence = \"{}, who is a {}, saw {};{}, {}'s {}, didn't saw {}\".format(person1, profession1, see, person1, person3, parent, see)\n",
    "    elif i % 3 ==1:\n",
    "        sentence = \"{}, who is a {}, visit {};{}, {}'s {}, didn't visit {}\".format(person1, profession1, person2, person1,person3, parent,person2)\n",
    "    else:\n",
    "        sentence = \"{}, who is a {}, bought {};{}, {}'s {}, didn't buy {}\".format(person1, profession1, buy, person1, person3, parent, buy)\n",
    "    all_sentences_4.append(sentence)\n",
    "\n",
    "all_sentences_4 = [sentence.split(\";\") + [0] for sentence in all_sentences_4]\n",
    "\n",
    "for sentence in all_sentences_4[0:10]:\n",
    "    print(sentence)"
   ]
  },
  {
   "cell_type": "code",
   "execution_count": 10,
   "metadata": {},
   "outputs": [
    {
     "name": "stdout",
     "output_type": "stream",
     "text": [
      "type 1 size = 2750\n",
      "type 2 size = 2750\n",
      "type 3 size = 2750\n",
      "type 4 size = 2750\n",
      "total size = 11000\n"
     ]
    }
   ],
   "source": [
    "np.random.shuffle(all_sentences_1)\n",
    "np.random.shuffle(all_sentences_2)\n",
    "np.random.shuffle(all_sentences_3)\n",
    "np.random.shuffle(all_sentences_4)\n",
    "\n",
    "\n",
    "\n",
    "size1 = len(all_sentences_1)\n",
    "size2 = len(all_sentences_2)\n",
    "size3 = len(all_sentences_3)\n",
    "size4 = len(all_sentences_4)\n",
    "\n",
    "all_sentences = all_sentences_1 + all_sentences_2 + all_sentences_3 + all_sentences_4\n",
    "size = len(all_sentences)\n",
    "\n",
    "print(\"type 1 size = {}\".format(size1))\n",
    "print(\"type 2 size = {}\".format(size2))\n",
    "print(\"type 3 size = {}\".format(size3))\n",
    "print(\"type 4 size = {}\".format(size4))\n",
    "print(\"total size = {}\".format(size))"
   ]
  },
  {
   "cell_type": "markdown",
   "metadata": {},
   "source": [
    "### Generating a train DataFrame with 10000 examples and a test DataFrame with 1000 examples "
   ]
  },
  {
   "cell_type": "code",
   "execution_count": 11,
   "metadata": {},
   "outputs": [
    {
     "data": {
      "text/html": [
       "<div>\n",
       "<style scoped>\n",
       "    .dataframe tbody tr th:only-of-type {\n",
       "        vertical-align: middle;\n",
       "    }\n",
       "\n",
       "    .dataframe tbody tr th {\n",
       "        vertical-align: top;\n",
       "    }\n",
       "\n",
       "    .dataframe thead th {\n",
       "        text-align: right;\n",
       "    }\n",
       "</style>\n",
       "<table border=\"1\" class=\"dataframe\">\n",
       "  <thead>\n",
       "    <tr style=\"text-align: right;\">\n",
       "      <th></th>\n",
       "      <th>sentence1</th>\n",
       "      <th>sentence2</th>\n",
       "      <th>label</th>\n",
       "    </tr>\n",
       "  </thead>\n",
       "  <tbody>\n",
       "    <tr>\n",
       "      <th>10995</th>\n",
       "      <td>Peter, who is a builder, saw the new Marvel mo...</td>\n",
       "      <td>Peter didn't saw the new Marvel movie from the...</td>\n",
       "      <td>1</td>\n",
       "    </tr>\n",
       "    <tr>\n",
       "      <th>10996</th>\n",
       "      <td>Raymond, who is a vet, visit Clyde</td>\n",
       "      <td>Raymond isn't a vet</td>\n",
       "      <td>1</td>\n",
       "    </tr>\n",
       "    <tr>\n",
       "      <th>10997</th>\n",
       "      <td>Antoinette, who is a nurse, visit Karl</td>\n",
       "      <td>Antoinette, Dawn's mother, didn't visit Karl</td>\n",
       "      <td>0</td>\n",
       "    </tr>\n",
       "    <tr>\n",
       "      <th>10998</th>\n",
       "      <td>Victoria, who is a fireman, visit Maureen</td>\n",
       "      <td>Victoria, who is a barber, didn't visit Maureen</td>\n",
       "      <td>0</td>\n",
       "    </tr>\n",
       "    <tr>\n",
       "      <th>10999</th>\n",
       "      <td>Justin, who is a journalist, bought a cup of c...</td>\n",
       "      <td>Justin didn't buy a cup of coffee</td>\n",
       "      <td>1</td>\n",
       "    </tr>\n",
       "  </tbody>\n",
       "</table>\n",
       "</div>"
      ],
      "text/plain": [
       "                                               sentence1  \\\n",
       "10995  Peter, who is a builder, saw the new Marvel mo...   \n",
       "10996                 Raymond, who is a vet, visit Clyde   \n",
       "10997             Antoinette, who is a nurse, visit Karl   \n",
       "10998          Victoria, who is a fireman, visit Maureen   \n",
       "10999  Justin, who is a journalist, bought a cup of c...   \n",
       "\n",
       "                                               sentence2  label  \n",
       "10995  Peter didn't saw the new Marvel movie from the...      1  \n",
       "10996                                Raymond isn't a vet      1  \n",
       "10997       Antoinette, Dawn's mother, didn't visit Karl      0  \n",
       "10998    Victoria, who is a barber, didn't visit Maureen      0  \n",
       "10999                  Justin didn't buy a cup of coffee      1  "
      ]
     },
     "execution_count": 11,
     "metadata": {},
     "output_type": "execute_result"
    }
   ],
   "source": [
    "sentence_1 = [triple[0] for triple in all_sentences]\n",
    "sentence_2 = [triple[1] for triple in all_sentences]\n",
    "label = [triple[2] for triple in all_sentences]\n",
    "\n",
    "df_dict = {\"sentence1\": sentence_1,\n",
    "           \"sentence2\": sentence_2,\n",
    "           \"label\": label}\n",
    "        \n",
    "df = pd.DataFrame(df_dict)\n",
    "df = df[[\"sentence1\", \"sentence2\", \"label\"]]\n",
    "df = df.sample(frac=1).reset_index(drop=True)\n",
    "\n",
    "df_train = df.iloc[:10000]\n",
    "df_test = df.iloc[10000:]\n",
    "\n",
    "df.tail()    "
   ]
  },
  {
   "cell_type": "markdown",
   "metadata": {},
   "source": [
    "#### Looking at the label distribution"
   ]
  },
  {
   "cell_type": "code",
   "execution_count": 12,
   "metadata": {},
   "outputs": [
    {
     "data": {
      "image/png": "[encoded data removed]",
      "text/plain": [
       "<Figure size 432x288 with 1 Axes>"
      ]
     },
     "metadata": {},
     "output_type": "display_data"
    }
   ],
   "source": [
    "train_label = df_train[\"label\"].values\n",
    "plot_histogram_from_labels(train_label, [\"no\", \"yes\"], \"b2_b_i_train.png\")"
   ]
  },
  {
   "cell_type": "code",
   "execution_count": 13,
   "metadata": {},
   "outputs": [
    {
     "data": {
      "image/png": "[encoded data removed]",
      "text/plain": [
       "<Figure size 432x288 with 1 Axes>"
      ]
     },
     "metadata": {},
     "output_type": "display_data"
    }
   ],
   "source": [
    "test_label = df_test[\"label\"].values\n",
    "plot_histogram_from_labels(test_label, [\"no\", \"yes\"], \"b2_b_i_test.png\")"
   ]
  },
  {
   "cell_type": "markdown",
   "metadata": {},
   "source": [
    "### Saving to CSV"
   ]
  },
  {
   "cell_type": "code",
   "execution_count": 14,
   "metadata": {},
   "outputs": [],
   "source": [
    "df_train.to_csv(\"b2_b_i_train.csv\", index=False)\n",
    "df_test.to_csv(\"b2_b_i_test.csv\", index=False)"
   ]
  }
 ],
 "metadata": {
  "kernelspec": {
   "display_name": "Python 3",
   "language": "python",
   "name": "python3"
  },
  "language_info": {
   "codemirror_mode": {
    "name": "ipython",
    "version": 3
   },
   "file_extension": ".py",
   "mimetype": "text/x-python",
   "name": "python",
   "nbconvert_exporter": "python",
   "pygments_lexer": "ipython3",
   "version": "3.5.2"
  }
 },
 "nbformat": 4,
 "nbformat_minor": 2
}
