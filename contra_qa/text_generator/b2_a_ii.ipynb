{
 "cells": [
  {
   "cell_type": "markdown",
   "metadata": {},
   "source": [
    "# Explicit conjunction: adding conjunction between direct objects\n",
    "\n",
    "Generating sentences of the form\n",
    "\n",
    "- 1) **c has traveled to X and Y, c didn't travel to X** (contradiction)\n",
    "- 1) **c went to X and Y, c didn't go to X** (contradiction)\n",
    "- 1) **c has visited X and Y, c didn't visit X** (contradiction)\n",
    "\n",
    "\n",
    "- 2) **c has traveled to X and Y, c didn't travel to Y** (contradiction)\n",
    "- 2) **c went to X and Y, c didn't go to Y** (contradiction)\n",
    "- 2) **c has visited X and Y, c didn't visit Y** (contradiction)\n",
    "\n",
    "\n",
    "- 3) **c has traveled to X and Y, c didn't travel to W ** (non-contradiction)\n",
    "- 3) **c went to X and Y, c didn't go to W** (non-contradiction)\n",
    "- 3) **c has visited X and Y, c didn't visit W** (non-contradiction)\n",
    "\n",
    "\n",
    "- 4) **c has traveled to X and Y, d didn't travel to X (Y)** (non-contradiction)\n",
    "- 4) **c went to X and Y, d didn't go to X (Y)** (non-contradiction)\n",
    "- 4) **c has visited X and Y, d didn't visit X (Y)** (non-contradiction)"
   ]
  },
  {
   "cell_type": "code",
   "execution_count": 1,
   "metadata": {},
   "outputs": [],
   "source": [
    "import numpy as np\n",
    "import pandas as pd\n",
    "from word_lists import name_list, city_list\n",
    "import os\n",
    "import inspect\n",
    "import sys\n",
    "import itertools\n",
    "\n",
    "almost_current = os.path.abspath(inspect.getfile(inspect.currentframe()))\n",
    "currentdir = os.path.dirname(almost_current)\n",
    "parentdir = os.path.dirname(currentdir)\n",
    "sys.path.insert(0, parentdir)\n",
    "\n",
    "from plots.functions import plot_histogram_from_labels # noqa\n",
    "\n",
    "% matplotlib inline"
   ]
  },
  {
   "cell_type": "markdown",
   "metadata": {},
   "source": [
    "### Generating atoms"
   ]
  },
  {
   "cell_type": "code",
   "execution_count": 2,
   "metadata": {},
   "outputs": [],
   "source": [
    "template1 = itertools.product(name_list, city_list)\n",
    "template1 = list(template1)\n",
    "upper_bound = 11000/4"
   ]
  },
  {
   "cell_type": "markdown",
   "metadata": {},
   "source": [
    "### Generating all types of sentences"
   ]
  },
  {
   "cell_type": "markdown",
   "metadata": {},
   "source": [
    "- 1) **c has traveled to X and Y, c didn't travel to X** (contradiction)\n",
    "- 1) **c went to X and Y, c didn't go to X** (contradiction)\n",
    "- 1) **c has visited X and Y, c didn't visit X** (contradiction)"
   ]
  },
  {
   "cell_type": "code",
   "execution_count": 3,
   "metadata": {},
   "outputs": [
    {
     "name": "stdout",
     "output_type": "stream",
     "text": [
      "['Poe has traveled to Vaslui and Giurgiu', \"Poe didn't travel to Vaslui\", 1]\n",
      "['Wesley went to Arad and Hunedoara', \"Wesley didn't go to Arad\", 1]\n",
      "['Birch has visited Bucharest and Lugoj', \"Birch didn't visit Bucharest\", 1]\n",
      "['Coby has traveled to Slatina and Giurgiu', \"Coby didn't travel to Slatina\", 1]\n",
      "['Plummer went to Tulcea and Slatina', \"Plummer didn't go to Tulcea\", 1]\n",
      "['Hunter has visited Turda and Reghin', \"Hunter didn't visit Turda\", 1]\n",
      "['Stanley has traveled to Dej and Deva', \"Stanley didn't travel to Dej\", 1]\n",
      "['Windsor went to Tulcea and Vaslui', \"Windsor didn't go to Tulcea\", 1]\n",
      "['Sutter has visited Slobozia and Deva', \"Sutter didn't visit Slobozia\", 1]\n",
      "['Birtle has traveled to Reghin and Vaslui', \"Birtle didn't travel to Reghin\", 1]\n"
     ]
    }
   ],
   "source": [
    "np.random.shuffle(template1)\n",
    "all_sentences_1 = []\n",
    "for i in range(int(upper_bound)):\n",
    "    person, place1 = template1[i]\n",
    "    place2 = place1\n",
    "    while place2 == place1:\n",
    "        new_i = np.random.choice(len(template1))\n",
    "        _, place2 = template1[new_i]\n",
    "    if i%3 == 0:\n",
    "        sentence = \"{} has traveled to {} and {},{} didn't travel to {}\".format(person, place1, place2, person, place1)\n",
    "    elif i%3 ==1:\n",
    "        sentence = \"{} went to {} and {},{} didn't go to {}\".format(person, place1, place2, person, place1)\n",
    "    else:\n",
    "        sentence = \"{} has visited {} and {},{} didn't visit {}\".format(person, place1, place2, person, place1)\n",
    "    all_sentences_1.append(sentence)\n",
    "\n",
    "    \n",
    "all_sentences_1 = [sentence.split(\",\") + [1] for sentence in all_sentences_1]\n",
    "\n",
    "for sentence in all_sentences_1[0:10]:\n",
    "    print(sentence)\n"
   ]
  },
  {
   "cell_type": "markdown",
   "metadata": {},
   "source": [
    "- 2) **c has traveled to X and Y, c didn't travel to Y** (contradiction)\n",
    "- 2) **c went to X and Y, c didn't go to Y** (contradiction)\n",
    "- 2) **c has visited X and Y, c didn't visit Y** (contradiction)"
   ]
  },
  {
   "cell_type": "code",
   "execution_count": 4,
   "metadata": {},
   "outputs": [
    {
     "name": "stdout",
     "output_type": "stream",
     "text": [
      "['Edric has traveled to Craiova and Bucharest', \"Edric didn't travel to Bucharest\", 1]\n",
      "['Lathan went to Deva and Oradea', \"Lathan didn't go to Oradea\", 1]\n",
      "['Fulton has visited Arad and Slobozia', \"Fulton didn't visit Slobozia\", 1]\n",
      "['Carlisle has traveled to Dej and Bucharest', \"Carlisle didn't travel to Bucharest\", 1]\n",
      "['Sisley went to Reghin and Oradea', \"Sisley didn't go to Oradea\", 1]\n",
      "['Byrd has visited Lugoj and Oradea', \"Byrd didn't visit Oradea\", 1]\n",
      "['Mick has traveled to Hunedoara and Bucharest', \"Mick didn't travel to Bucharest\", 1]\n",
      "['Kipp went to Slatina and Oradea', \"Kipp didn't go to Oradea\", 1]\n",
      "['Cheever has visited Deva and Vaslui', \"Cheever didn't visit Vaslui\", 1]\n",
      "['Winsome has traveled to Reghin and Giurgiu', \"Winsome didn't travel to Giurgiu\", 1]\n"
     ]
    }
   ],
   "source": [
    "np.random.shuffle(template1)\n",
    "all_sentences_2 = []\n",
    "for i in range(int(upper_bound)):\n",
    "    person, place1 = template1[i]\n",
    "    place2 = place1\n",
    "    while place2 == place1:\n",
    "        new_i = np.random.choice(len(template1))\n",
    "        _, place2 = template1[new_i]\n",
    "    if i%3 == 0:\n",
    "        sentence = \"{} has traveled to {} and {},{} didn't travel to {}\".format(person, place1, place2, person, place2)\n",
    "    elif i%3 ==1:\n",
    "        sentence = \"{} went to {} and {},{} didn't go to {}\".format(person, place1, place2, person, place2)\n",
    "    else:\n",
    "        sentence = \"{} has visited {} and {},{} didn't visit {}\".format(person, place1, place2, person, place2)\n",
    "    all_sentences_2.append(sentence)\n",
    "\n",
    "    \n",
    "all_sentences_2 = [sentence.split(\",\") + [1] for sentence in all_sentences_2]\n",
    "\n",
    "for sentence in all_sentences_2[0:10]:\n",
    "    print(sentence)\n"
   ]
  },
  {
   "cell_type": "markdown",
   "metadata": {},
   "source": [
    "- 3) **c has traveled to X and Y, c didn't travel to W ** (non-contradiction)\n",
    "- 3) **c went to X and Y, c didn't go to W** (non-contradiction)\n",
    "- 3) **c has visited X and Y, c didn't visit W** (non-contradiction)"
   ]
  },
  {
   "cell_type": "code",
   "execution_count": 5,
   "metadata": {},
   "outputs": [
    {
     "name": "stdout",
     "output_type": "stream",
     "text": [
      "['Fitzwilliam has traveled to Turda and Reghin', \"Fitzwilliam didn't travel to Baia Mare\", 0]\n",
      "['Barlow went to Deva and Hunedoara', \"Barlow didn't go to Dej\", 0]\n",
      "['Tennyson has visited Baia Mare and Deva', \"Tennyson didn't visit Oradea\", 0]\n",
      "['Sennett has traveled to Mangalia and Cluj-Napoca', \"Sennett didn't travel to Vaslui\", 0]\n",
      "['Cody went to Mangalia and Giurgiu', \"Cody didn't go to Tulcea\", 0]\n",
      "['Lawson has visited Slobozia and Arad', \"Lawson didn't visit Slatina\", 0]\n",
      "['Reeve has traveled to Giurgiu and Oradea', \"Reeve didn't travel to Timisoara\", 0]\n",
      "['Irwin went to Slobozia and Giurgiu', \"Irwin didn't go to Slatina\", 0]\n",
      "['Osmond has visited Dej and Bucharest', \"Osmond didn't visit Giurgiu\", 0]\n",
      "['Everly has traveled to Oradea and Reghin', \"Everly didn't travel to Craiova\", 0]\n"
     ]
    }
   ],
   "source": [
    "np.random.shuffle(template1)\n",
    "all_sentences_3 = []\n",
    "for i in range(int(upper_bound)):\n",
    "    person, place1 = template1[i]\n",
    "    place2 = place1\n",
    "    while place2 == place1:\n",
    "        new_i = np.random.choice(len(template1))\n",
    "        _, place2 = template1[new_i]\n",
    "    place3 = place1\n",
    "    while place3 == place1 or place3 == place2:\n",
    "        new_i = np.random.choice(len(template1))\n",
    "        _, place3 = template1[new_i]\n",
    "    if i%3 == 0:\n",
    "        sentence = \"{} has traveled to {} and {},{} didn't travel to {}\".format(person, place1, place2, person, place3)\n",
    "    elif i%3 ==1:\n",
    "        sentence = \"{} went to {} and {},{} didn't go to {}\".format(person, place1, place2, person, place3)\n",
    "    else:\n",
    "        sentence = \"{} has visited {} and {},{} didn't visit {}\".format(person, place1, place2, person, place3)\n",
    "    all_sentences_3.append(sentence)\n",
    "\n",
    "    \n",
    "all_sentences_3 = [sentence.split(\",\") + [0] for sentence in all_sentences_3]\n",
    "\n",
    "for sentence in all_sentences_3[0:10]:\n",
    "    print(sentence)\n"
   ]
  },
  {
   "cell_type": "markdown",
   "metadata": {},
   "source": [
    "- 4) **c has traveled to X and Y, d didn't travel to X (Y)** (non-contradiction)\n",
    "- 4) **c went to X and Y, d didn't go to X (Y)** (non-contradiction)\n",
    "- 4) **c has visited X and Y, d didn't visit X (Y)** (non-contradiction)"
   ]
  },
  {
   "cell_type": "code",
   "execution_count": 6,
   "metadata": {},
   "outputs": [
    {
     "name": "stdout",
     "output_type": "stream",
     "text": [
      "['Darwin has traveled to Slatina and Oradea', \"Birkett didn't travel to Slatina\", 0]\n",
      "['Andrea went to Timisoara and Giurgiu', \"Halsey didn't go to Giurgiu\", 0]\n",
      "['Madeline has visited Reghin and Tulcea', \"Lea didn't visit Reghin\", 0]\n",
      "['Timber has traveled to Turda and Oradea', \"Joan didn't travel to Oradea\", 0]\n",
      "['Lilly went to Blaj and Craiova', \"Wainwright didn't go to Blaj\", 0]\n",
      "['Baron has visited Vaslui and Slobozia', \"Radcliff didn't visit Slobozia\", 0]\n",
      "['Pierce has traveled to Slobozia and Baia Mare', \"Edison didn't travel to Slobozia\", 0]\n",
      "['Ransom went to Hunedoara and Craiova', \"Padget didn't go to Craiova\", 0]\n",
      "['Cody has visited Cluj-Napoca and Cluj-Napoca', \"Elmer didn't visit Cluj-Napoca\", 0]\n",
      "['Petunia has traveled to Hunedoara and Oradea', \"Clem didn't travel to Oradea\", 0]\n"
     ]
    }
   ],
   "source": [
    "np.random.shuffle(template1)\n",
    "all_sentences_4 = []\n",
    "for i in range(int(upper_bound)):\n",
    "    person1, place1 = template1[i]\n",
    "    place2 = place1\n",
    "    person2 = person1\n",
    "    while place2 == place1 and person2 == person1:\n",
    "        new_i = np.random.choice(len(template1))\n",
    "        person2, place2 = template1[new_i]\n",
    "    if i%2 ==0:\n",
    "        place3 = place1\n",
    "    else:\n",
    "        place3 = place2\n",
    "    if i%3 == 0:\n",
    "        sentence = \"{} has traveled to {} and {},{} didn't travel to {}\".format(person1, place1, place2, person2, place3)\n",
    "    elif i%3 == 1:\n",
    "        sentence = \"{} went to {} and {},{} didn't go to {}\".format(person1, place1, place2, person2, place3)\n",
    "    else:\n",
    "        sentence = \"{} has visited {} and {},{} didn't visit {}\".format(person1, place1, place2, person2, place3)\n",
    "    all_sentences_4.append(sentence)\n",
    "\n",
    "    \n",
    "all_sentences_4 = [sentence.split(\",\") + [0] for sentence in all_sentences_4]\n",
    "\n",
    "for sentence in all_sentences_4[0:10]:\n",
    "    print(sentence)\n"
   ]
  },
  {
   "cell_type": "code",
   "execution_count": 7,
   "metadata": {},
   "outputs": [
    {
     "name": "stdout",
     "output_type": "stream",
     "text": [
      "type 1 size = 2750\n",
      "type 2 size = 2750\n",
      "type 3 size = 2750\n",
      "type 4 size = 2750\n",
      "total size = 11000\n"
     ]
    }
   ],
   "source": [
    "np.random.shuffle(all_sentences_1)\n",
    "np.random.shuffle(all_sentences_2)\n",
    "np.random.shuffle(all_sentences_3)\n",
    "np.random.shuffle(all_sentences_4)\n",
    "\n",
    "\n",
    "\n",
    "size1 = len(all_sentences_1)\n",
    "size2 = len(all_sentences_2)\n",
    "size3 = len(all_sentences_3)\n",
    "size4 = len(all_sentences_4)\n",
    "\n",
    "all_sentences = all_sentences_1 + all_sentences_2 + all_sentences_3 + all_sentences_4\n",
    "size = len(all_sentences)\n",
    "\n",
    "print(\"type 1 size = {}\".format(size1))\n",
    "print(\"type 2 size = {}\".format(size2))\n",
    "print(\"type 3 size = {}\".format(size3))\n",
    "print(\"type 4 size = {}\".format(size4))\n",
    "print(\"total size = {}\".format(size))"
   ]
  },
  {
   "cell_type": "markdown",
   "metadata": {},
   "source": [
    "### Generating a train DataFrame with 10000 examples and a test DataFrame with 1000 examples "
   ]
  },
  {
   "cell_type": "code",
   "execution_count": 8,
   "metadata": {},
   "outputs": [
    {
     "data": {
      "text/html": [
       "<div>\n",
       "<style scoped>\n",
       "    .dataframe tbody tr th:only-of-type {\n",
       "        vertical-align: middle;\n",
       "    }\n",
       "\n",
       "    .dataframe tbody tr th {\n",
       "        vertical-align: top;\n",
       "    }\n",
       "\n",
       "    .dataframe thead th {\n",
       "        text-align: right;\n",
       "    }\n",
       "</style>\n",
       "<table border=\"1\" class=\"dataframe\">\n",
       "  <thead>\n",
       "    <tr style=\"text-align: right;\">\n",
       "      <th></th>\n",
       "      <th>sentence1</th>\n",
       "      <th>sentence2</th>\n",
       "      <th>label</th>\n",
       "    </tr>\n",
       "  </thead>\n",
       "  <tbody>\n",
       "    <tr>\n",
       "      <th>10995</th>\n",
       "      <td>Pell has traveled to Reghin and Bucharest</td>\n",
       "      <td>Dane didn't travel to Bucharest</td>\n",
       "      <td>0</td>\n",
       "    </tr>\n",
       "    <tr>\n",
       "      <th>10996</th>\n",
       "      <td>Hobbes has visited Baia Mare and Craiova</td>\n",
       "      <td>Hobbes didn't visit Giurgiu</td>\n",
       "      <td>0</td>\n",
       "    </tr>\n",
       "    <tr>\n",
       "      <th>10997</th>\n",
       "      <td>Sly has visited Dej and Tulcea</td>\n",
       "      <td>Sly didn't visit Reghin</td>\n",
       "      <td>0</td>\n",
       "    </tr>\n",
       "    <tr>\n",
       "      <th>10998</th>\n",
       "      <td>Breeze has traveled to Deva and Tulcea</td>\n",
       "      <td>Breeze didn't travel to Deva</td>\n",
       "      <td>1</td>\n",
       "    </tr>\n",
       "    <tr>\n",
       "      <th>10999</th>\n",
       "      <td>Willard went to Bucharest and Hunedoara</td>\n",
       "      <td>Everard didn't go to Bucharest</td>\n",
       "      <td>0</td>\n",
       "    </tr>\n",
       "  </tbody>\n",
       "</table>\n",
       "</div>"
      ],
      "text/plain": [
       "                                       sentence1  \\\n",
       "10995  Pell has traveled to Reghin and Bucharest   \n",
       "10996   Hobbes has visited Baia Mare and Craiova   \n",
       "10997             Sly has visited Dej and Tulcea   \n",
       "10998     Breeze has traveled to Deva and Tulcea   \n",
       "10999    Willard went to Bucharest and Hunedoara   \n",
       "\n",
       "                             sentence2  label  \n",
       "10995  Dane didn't travel to Bucharest      0  \n",
       "10996      Hobbes didn't visit Giurgiu      0  \n",
       "10997          Sly didn't visit Reghin      0  \n",
       "10998     Breeze didn't travel to Deva      1  \n",
       "10999   Everard didn't go to Bucharest      0  "
      ]
     },
     "execution_count": 8,
     "metadata": {},
     "output_type": "execute_result"
    }
   ],
   "source": [
    "sentence_1 = [triple[0] for triple in all_sentences]\n",
    "sentence_2 = [triple[1] for triple in all_sentences]\n",
    "label = [triple[2] for triple in all_sentences]\n",
    "\n",
    "df_dict = {\"sentence1\": sentence_1,\n",
    "           \"sentence2\": sentence_2,\n",
    "           \"label\": label}\n",
    "        \n",
    "df = pd.DataFrame(df_dict)\n",
    "df = df[[\"sentence1\", \"sentence2\", \"label\"]]\n",
    "df = df.sample(frac=1).reset_index(drop=True)\n",
    "\n",
    "df_train = df.iloc[:10000]\n",
    "df_test = df.iloc[10000:]\n",
    "\n",
    "df.tail()    "
   ]
  },
  {
   "cell_type": "markdown",
   "metadata": {},
   "source": [
    "#### Looking at the label distribution"
   ]
  },
  {
   "cell_type": "code",
   "execution_count": 9,
   "metadata": {},
   "outputs": [
    {
     "data": {
      "image/png": "[encoded data removed]",
      "text/plain": [
       "<Figure size 432x288 with 1 Axes>"
      ]
     },
     "metadata": {},
     "output_type": "display_data"
    }
   ],
   "source": [
    "train_label = df_train[\"label\"].values\n",
    "plot_histogram_from_labels(train_label, [\"no\", \"yes\"], \"b2_a_ii_train.png\")"
   ]
  },
  {
   "cell_type": "code",
   "execution_count": 10,
   "metadata": {},
   "outputs": [
    {
     "data": {
      "image/png": "[encoded data removed]",
      "text/plain": [
       "<Figure size 432x288 with 1 Axes>"
      ]
     },
     "metadata": {},
     "output_type": "display_data"
    }
   ],
   "source": [
    "test_label = df_test[\"label\"].values\n",
    "plot_histogram_from_labels(test_label, [\"no\", \"yes\"], \"b2_a_ii_test.png\")"
   ]
  },
  {
   "cell_type": "markdown",
   "metadata": {},
   "source": [
    "### Saving to CSV"
   ]
  },
  {
   "cell_type": "code",
   "execution_count": 11,
   "metadata": {},
   "outputs": [],
   "source": [
    "df_train.to_csv(\"b2_a_ii_train.csv\", index=False)\n",
    "df_test.to_csv(\"b2_a_ii_test.csv\", index=False)"
   ]
  }
 ],
 "metadata": {
  "kernelspec": {
   "display_name": "Python 3",
   "language": "python",
   "name": "python3"
  },
  "language_info": {
   "codemirror_mode": {
    "name": "ipython",
    "version": 3
   },
   "file_extension": ".py",
   "mimetype": "text/x-python",
   "name": "python",
   "nbconvert_exporter": "python",
   "pygments_lexer": "ipython3",
   "version": "3.5.2"
  }
 },
 "nbformat": 4,
 "nbformat_minor": 2
}
