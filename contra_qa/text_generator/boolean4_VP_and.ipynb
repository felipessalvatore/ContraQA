{
 "cells": [
  {
   "cell_type": "markdown",
   "metadata": {},
   "source": [
    "# Dataset boolean4: VP conjoined by and\n",
    "\n",
    "Generating sentences of the form\n",
    "\n",
    "- 1) **c VERB1 COMPLEMENT1 AND  VERB2 COMPLEMENT2, c didn't VERB1 COMPLEMENT1** (contradiction)\n",
    "- 1) **c VERB1 COMPLEMENT1 AND  VERB2 COMPLEMENT2, c didn't VERB2 COMPLEMENT2** (contradiction)\n",
    "\n",
    "\n",
    "- 2) **c VERB1 COMPLEMENT1 AND  VERB2 COMPLEMENT2, c didn't VERB3 COMPLEMENT3** (non-contradiction)\n",
    "- 2) **c VERB1 COMPLEMENT1 AND  VERB2 COMPLEMENT2, d didn't VERB1 (VERB2) COMPLEMENT1 (COMPLEMENT1)** (non-contradiction)\n"
   ]
  },
  {
   "cell_type": "code",
   "execution_count": 1,
   "metadata": {},
   "outputs": [
    {
     "name": "stderr",
     "output_type": "stream",
     "text": [
      "/usr/lib/python3.5/importlib/_bootstrap.py:222: RuntimeWarning: numpy.dtype size changed, may indicate binary incompatibility. Expected 96, got 88\n",
      "  return f(*args, **kwds)\n",
      "/usr/lib/python3.5/importlib/_bootstrap.py:222: RuntimeWarning: numpy.dtype size changed, may indicate binary incompatibility. Expected 96, got 88\n",
      "  return f(*args, **kwds)\n",
      "/usr/lib/python3.5/importlib/_bootstrap.py:222: RuntimeWarning: numpy.dtype size changed, may indicate binary incompatibility. Expected 96, got 88\n",
      "  return f(*args, **kwds)\n",
      "/usr/lib/python3.5/importlib/_bootstrap.py:222: RuntimeWarning: numpy.dtype size changed, may indicate binary incompatibility. Expected 96, got 88\n",
      "  return f(*args, **kwds)\n",
      "/usr/lib/python3.5/importlib/_bootstrap.py:222: RuntimeWarning: numpy.dtype size changed, may indicate binary incompatibility. Expected 96, got 88\n",
      "  return f(*args, **kwds)\n",
      "/usr/lib/python3.5/importlib/_bootstrap.py:222: RuntimeWarning: numpy.dtype size changed, may indicate binary incompatibility. Expected 96, got 88\n",
      "  return f(*args, **kwds)\n"
     ]
    }
   ],
   "source": [
    "import numpy as np\n",
    "import pandas as pd\n",
    "from word_lists import male_names, female_names, name_list\n",
    "from word_lists import professions, color_list, city_list\n",
    "from word_lists import verbs_third_person_past, verbs_third_person_past_CONTEXT\n",
    "from word_lists import verbs_third_person_past_infinitiv_neg, positive_personality_list\n",
    "import os\n",
    "import inspect\n",
    "import sys\n",
    "import itertools\n",
    "\n",
    "almost_current = os.path.abspath(inspect.getfile(inspect.currentframe()))\n",
    "currentdir = os.path.dirname(almost_current)\n",
    "parentdir = os.path.dirname(currentdir)\n",
    "sys.path.insert(0, parentdir)\n",
    "\n",
    "from plots.functions import plot_histogram_from_labels # noqa\n",
    "\n",
    "% matplotlib inline"
   ]
  },
  {
   "cell_type": "code",
   "execution_count": 2,
   "metadata": {},
   "outputs": [],
   "source": [
    "def get_new_item(item_list, src_list):\n",
    "    size = len(src_list)\n",
    "    new_item = src_list[np.random.choice(size)]\n",
    "    while new_item in item_list: \n",
    "        new_i = np.random.choice(size)\n",
    "        new_item = src_list[new_i]\n",
    "    return new_item"
   ]
  },
  {
   "cell_type": "code",
   "execution_count": 3,
   "metadata": {},
   "outputs": [],
   "source": [
    "for i in range(len(name_list)):\n",
    "    name = get_new_item([], name_list)\n",
    "    new_name = get_new_item([name], name_list)\n",
    "    assert name != new_name and name in name_list and new_name in name_list"
   ]
  },
  {
   "cell_type": "code",
   "execution_count": 4,
   "metadata": {},
   "outputs": [],
   "source": [
    "def replace_words(input_str, person, color, city, profession, pred):\n",
    "    input_str = input_str.replace(\"PERSON's\", person + \"'s\")\n",
    "    input_str = input_str.replace(\"PERSON\", person)    \n",
    "    input_str = input_str.replace(\"COLOR\", color)\n",
    "    input_str = input_str.replace(\"CITY\", city)\n",
    "    input_str = input_str.replace(\"PROFESSION\", profession)\n",
    "    input_str = input_str.replace(\"PRED\", pred)\n",
    "    return input_str"
   ]
  },
  {
   "cell_type": "code",
   "execution_count": 5,
   "metadata": {},
   "outputs": [
    {
     "name": "stdout",
     "output_type": "stream",
     "text": [
      "Felipe's house\n",
      "a blue car\n",
      "Felipe a blue car\n",
      "me drive Felipe's blue car\n",
      "what Felipe comment about Cluj\n",
      "of the being a saylor\n",
      "a brave person\n"
     ]
    }
   ],
   "source": [
    "print(replace_words(\"PERSON's house\", \"Felipe\", \"blue\", \"Cluj\", \"saylor\", \"brave\"))\n",
    "print(replace_words(\"a COLOR car\", \"Felipe\", \"blue\", \"Cluj\", \"saylor\", \"brave\"))\n",
    "print(replace_words(\"PERSON a COLOR car\", \"Felipe\", \"blue\", \"Cluj\", \"saylor\", \"brave\"))\n",
    "print(replace_words(\"me drive PERSON's COLOR car\", \"Felipe\", \"blue\", \"Cluj\", \"saylor\", \"brave\"))\n",
    "print(replace_words(\"what PERSON comment about CITY\", \"Felipe\", \"blue\", \"Cluj\", \"saylor\", \"brave\"))\n",
    "print(replace_words(\"of the being a PROFESSION\", \"Felipe\", \"blue\", \"Cluj\", \"saylor\", \"brave\"))\n",
    "print(replace_words(\"a PRED person\", \"Felipe\", \"blue\", \"Cluj\", \"saylor\", \"brave\"))"
   ]
  },
  {
   "cell_type": "code",
   "execution_count": 6,
   "metadata": {},
   "outputs": [],
   "source": [
    "upper_bound = 11000 / 2"
   ]
  },
  {
   "cell_type": "markdown",
   "metadata": {},
   "source": [
    "- 1) **c VERB1 COMPLEMENT1 AND  VERB2 COMPLEMENT2, c didn't VERB1 COMPLEMENT1** (contradiction)\n",
    "- 1) **c VERB1 COMPLEMENT1 AND  VERB2 COMPLEMENT2, c didn't VERB2 COMPLEMENT2** (contradiction)"
   ]
  },
  {
   "cell_type": "code",
   "execution_count": 7,
   "metadata": {},
   "outputs": [
    {
     "name": "stdout",
     "output_type": "stream",
     "text": [
      "['Virgil flew to Vaslui and hurt me', \"Virgil didn't fly to Vaslui\", 1]\n",
      "['Gertrude bet on the game and wrote me an email', \"Gertrude didn't write me an email\", 1]\n",
      "['Melanie found him and hung up on me', \"Melanie didn't find him\", 1]\n",
      "['Gloria won the game and bought a watch', \"Gloria didn't buy a watch\", 1]\n",
      "[\"Nicole knew Melissa's secret and taught middle school science\", \"Nicole didn't know Melissa's secret\", 1]\n",
      "[\"Wanda forgot about April's past and found him\", \"Wanda didn't find him\", 1]\n",
      "['Cynthia hit him and drew ahead of the other runners', \"Cynthia didn't hit him\", 1]\n",
      "['Jon showed my new photos and bet on the wining horse', \"Jon didn't bet on the wining horse\", 1]\n",
      "['Debra gave Alfred a orange car and ran from Barcelona to Reghin', \"Debra didn't give Alfred a orange car\", 1]\n",
      "[\"Harriet brought me out of Erik's house and was a fan of Derrick's work\", \"Harriet wasn't a fan of Derrick's work\", 1]\n"
     ]
    }
   ],
   "source": [
    "all_sentences_1 = []\n",
    "for i in range(int(upper_bound)):\n",
    "    person = get_new_item([], name_list)\n",
    "    person1 = get_new_item([person], name_list)\n",
    "    person2 = get_new_item([person, person1], name_list)\n",
    "    pred1 = get_new_item([], positive_personality_list)\n",
    "    pred2 = get_new_item([pred1], positive_personality_list)\n",
    "    color1 = get_new_item([], color_list)\n",
    "    color2 = get_new_item([color1], color_list)\n",
    "    city1 =  get_new_item([], city_list)\n",
    "    city2 =  get_new_item([city1], city_list)\n",
    "    profession1 = get_new_item([], professions)\n",
    "    profession2 = get_new_item([profession1], professions)\n",
    "    verb1 = get_new_item([], verbs_third_person_past)\n",
    "    verb2 = get_new_item([verb1], verbs_third_person_past)\n",
    "    context = verbs_third_person_past_CONTEXT[verb1]\n",
    "    complement1 = get_new_item([], context)\n",
    "    complement1 = replace_words(complement1, person1, color1, city1, profession1, pred1)\n",
    "    context = verbs_third_person_past_CONTEXT[verb2]\n",
    "    complement2 = get_new_item([], context)\n",
    "    complement2 = replace_words(complement2, person2, color2, city2, profession2, pred2)\n",
    "    if i % 2 == 0:\n",
    "        verb3 = verbs_third_person_past_infinitiv_neg[verb1]\n",
    "        complement3 = complement1\n",
    "    else:\n",
    "        verb3 = verbs_third_person_past_infinitiv_neg[verb2]\n",
    "        complement3 = complement2\n",
    "    sentence = \"{} {} {} and {} {},{} {} {}\".format(person, verb1, complement1, verb2, complement2, person, verb3, complement3)\n",
    "    all_sentences_1.append(sentence)\n",
    "\n",
    "all_sentences_1 = [sentence.split(\",\") + [1] for sentence in all_sentences_1]\n",
    "\n",
    "for sentence in all_sentences_1[0:10]:\n",
    "    print(sentence)"
   ]
  },
  {
   "cell_type": "markdown",
   "metadata": {},
   "source": [
    "- 2) **c VERB1 COMPLEMENT1 AND  VERB2 COMPLEMENT2, c didn't VERB3 COMPLEMENT3** (non-contradiction)\n",
    "- 2) **c VERB1 COMPLEMENT1 AND  VERB2 COMPLEMENT2, d didn't VERB1 (VERB2) COMPLEMENT1 (COMPLEMENT1)** (non-contradiction)"
   ]
  },
  {
   "cell_type": "code",
   "execution_count": 8,
   "metadata": {},
   "outputs": [
    {
     "name": "stdout",
     "output_type": "stream",
     "text": [
      "['Micheal dug a hole and swam out toward the gray boat', \"Micheal didn't blow me off\", 0]\n",
      "['Marvin got me lying and fought the law', \"Sheila didn't get me lying\", 0]\n",
      "['Neil met me and felt threatened', \"Wendy didn't feel threatened\", 0]\n",
      "['Charlie cut my hair and met her', \"Charlie didn't choose to live in Mangalia\", 0]\n",
      "['Roberta grew up and began screaming', \"Alice didn't grow up\", 0]\n",
      "['Deborah sent me a letter and sat on the floor', \"Guy didn't sit on the floor\", 0]\n",
      "['Lena hung up on me and fell to the floor', \"Lena didn't say funny things\", 0]\n",
      "['Max felt an outsider and bent the orange rod', \"Jordan didn't feel an outsider\", 0]\n",
      "['Chris slept the night and fell in love with Zachary', \"Pedro didn't fall in love with Zachary\", 0]\n",
      "['Darryl dreamed of running in Craiova and bought a salmon car', \"Darryl didn't catch a blue fish\", 0]\n"
     ]
    }
   ],
   "source": [
    "all_sentences_2 = []\n",
    "for i in range(int(upper_bound)):\n",
    "    person = get_new_item([], name_list)\n",
    "    person1 = get_new_item([person], name_list)\n",
    "    person2 = get_new_item([person, person1], name_list)\n",
    "    person3 = get_new_item([person, person1, person2], name_list)\n",
    "    other_person = get_new_item([person, person1, person2, person3], name_list)\n",
    "    color1 = get_new_item([], color_list)\n",
    "    color2 = get_new_item([color1], color_list)\n",
    "    color3 = get_new_item([color1, color2], color_list)\n",
    "    city1 =  get_new_item([], city_list)\n",
    "    city2 =  get_new_item([city1], city_list)\n",
    "    city3 = get_new_item([city1, city2], city_list)\n",
    "    profession1 = get_new_item([], professions)\n",
    "    profession2 = get_new_item([profession1], professions)\n",
    "    profession3 = get_new_item([profession1, profession2], professions)\n",
    "    pred1 = get_new_item([], positive_personality_list)\n",
    "    pred2 = get_new_item([pred1], positive_personality_list)\n",
    "    pred3 = get_new_item([pred1, pred2], positive_personality_list)\n",
    "    verb1 = get_new_item([], verbs_third_person_past)\n",
    "    verb2 = get_new_item([verb1], verbs_third_person_past)\n",
    "    verb3 = get_new_item([verb1, verb2], verbs_third_person_past)\n",
    "    context = verbs_third_person_past_CONTEXT[verb1]\n",
    "    complement1 = get_new_item([], context)\n",
    "    complement1 = replace_words(complement1, person1, color1, city1, profession1, pred1)\n",
    "    context = verbs_third_person_past_CONTEXT[verb2]\n",
    "    complement2 = get_new_item([], context)\n",
    "    complement2 = replace_words(complement2, person2, color2, city2, profession2, pred2)\n",
    "    context = verbs_third_person_past_CONTEXT[verb3]\n",
    "    complement3 = get_new_item([], context)\n",
    "    complement3 = replace_words(complement3, person3, color3, city3, profession3, pred3)\n",
    "    if i % 3 == 0:\n",
    "        new_person = person\n",
    "        verb3 = verbs_third_person_past_infinitiv_neg[verb3]\n",
    "    elif i % 3 == 1:\n",
    "        new_person = other_person\n",
    "        verb3 = verbs_third_person_past_infinitiv_neg[verb1]\n",
    "        complement3 = complement1\n",
    "        \n",
    "    else:\n",
    "        new_person = other_person\n",
    "        verb3 = verbs_third_person_past_infinitiv_neg[verb2]\n",
    "        complement3 = complement2\n",
    "    sentence = \"{} {} {} and {} {},{} {} {}\".format(person, verb1, complement1, verb2, complement2, new_person, verb3, complement3)\n",
    "    all_sentences_2.append(sentence)\n",
    "\n",
    "all_sentences_2 = [sentence.split(\",\") + [0] for sentence in all_sentences_2]\n",
    "\n",
    "for sentence in all_sentences_2[0:10]:\n",
    "    print(sentence)"
   ]
  },
  {
   "cell_type": "code",
   "execution_count": 9,
   "metadata": {},
   "outputs": [
    {
     "name": "stdout",
     "output_type": "stream",
     "text": [
      "type 1 size = 5500\n",
      "type 2 size = 5500\n",
      "total size = 11000\n"
     ]
    }
   ],
   "source": [
    "np.random.shuffle(all_sentences_1)\n",
    "np.random.shuffle(all_sentences_2)\n",
    "\n",
    "\n",
    "size1 = len(all_sentences_1)\n",
    "size2 = len(all_sentences_2)\n",
    "\n",
    "\n",
    "all_sentences = all_sentences_1 + all_sentences_2\n",
    "size = len(all_sentences)\n",
    "\n",
    "print(\"type 1 size = {}\".format(size1))\n",
    "print(\"type 2 size = {}\".format(size2))\n",
    "print(\"total size = {}\".format(size))"
   ]
  },
  {
   "cell_type": "markdown",
   "metadata": {},
   "source": [
    "### Generating a train DataFrame with 10000 examples and a test DataFrame with 1000 examples "
   ]
  },
  {
   "cell_type": "code",
   "execution_count": 10,
   "metadata": {},
   "outputs": [
    {
     "data": {
      "text/html": [
       "<div>\n",
       "<style scoped>\n",
       "    .dataframe tbody tr th:only-of-type {\n",
       "        vertical-align: middle;\n",
       "    }\n",
       "\n",
       "    .dataframe tbody tr th {\n",
       "        vertical-align: top;\n",
       "    }\n",
       "\n",
       "    .dataframe thead th {\n",
       "        text-align: right;\n",
       "    }\n",
       "</style>\n",
       "<table border=\"1\" class=\"dataframe\">\n",
       "  <thead>\n",
       "    <tr style=\"text-align: right;\">\n",
       "      <th></th>\n",
       "      <th>sentence1</th>\n",
       "      <th>sentence2</th>\n",
       "      <th>label</th>\n",
       "    </tr>\n",
       "  </thead>\n",
       "  <tbody>\n",
       "    <tr>\n",
       "      <th>10995</th>\n",
       "      <td>Tiffany wore a mango hat and hurt him</td>\n",
       "      <td>Freddie didn't wear a mango hat</td>\n",
       "      <td>0</td>\n",
       "    </tr>\n",
       "    <tr>\n",
       "      <th>10996</th>\n",
       "      <td>Wesley thought I was living in Bucharest and s...</td>\n",
       "      <td>Wesley didn't think I was living in Bucharest</td>\n",
       "      <td>1</td>\n",
       "    </tr>\n",
       "    <tr>\n",
       "      <th>10997</th>\n",
       "      <td>Cory kept saying this was crazy and felt threa...</td>\n",
       "      <td>Cory didn't keep saying this was crazy</td>\n",
       "      <td>1</td>\n",
       "    </tr>\n",
       "    <tr>\n",
       "      <th>10998</th>\n",
       "      <td>Philip came at noon and found her</td>\n",
       "      <td>Philip didn't hold him close</td>\n",
       "      <td>0</td>\n",
       "    </tr>\n",
       "    <tr>\n",
       "      <th>10999</th>\n",
       "      <td>Mathew felt threatened and thought I was helpi...</td>\n",
       "      <td>Mathew didn't feel threatened</td>\n",
       "      <td>1</td>\n",
       "    </tr>\n",
       "  </tbody>\n",
       "</table>\n",
       "</div>"
      ],
      "text/plain": [
       "                                               sentence1  \\\n",
       "10995              Tiffany wore a mango hat and hurt him   \n",
       "10996  Wesley thought I was living in Bucharest and s...   \n",
       "10997  Cory kept saying this was crazy and felt threa...   \n",
       "10998                  Philip came at noon and found her   \n",
       "10999  Mathew felt threatened and thought I was helpi...   \n",
       "\n",
       "                                           sentence2  label  \n",
       "10995                Freddie didn't wear a mango hat      0  \n",
       "10996  Wesley didn't think I was living in Bucharest      1  \n",
       "10997         Cory didn't keep saying this was crazy      1  \n",
       "10998                   Philip didn't hold him close      0  \n",
       "10999                  Mathew didn't feel threatened      1  "
      ]
     },
     "execution_count": 10,
     "metadata": {},
     "output_type": "execute_result"
    }
   ],
   "source": [
    "sentence_1 = [triple[0] for triple in all_sentences]\n",
    "sentence_2 = [triple[1] for triple in all_sentences]\n",
    "label = [triple[2] for triple in all_sentences]\n",
    "\n",
    "df_dict = {\"sentence1\": sentence_1,\n",
    "           \"sentence2\": sentence_2,\n",
    "           \"label\": label}\n",
    "        \n",
    "df = pd.DataFrame(df_dict)\n",
    "df = df[[\"sentence1\", \"sentence2\", \"label\"]]\n",
    "df = df.sample(frac=1).reset_index(drop=True)\n",
    "\n",
    "df_train = df.iloc[:10000]\n",
    "df_test = df.iloc[10000:]\n",
    "\n",
    "df.tail()    "
   ]
  },
  {
   "cell_type": "markdown",
   "metadata": {},
   "source": [
    "#### Looking at the label distribution"
   ]
  },
  {
   "cell_type": "code",
   "execution_count": 11,
   "metadata": {},
   "outputs": [
    {
     "data": {
      "image/png": "[encoded data removed]",
      "text/plain": [
       "<Figure size 432x288 with 1 Axes>"
      ]
     },
     "metadata": {},
     "output_type": "display_data"
    }
   ],
   "source": [
    "train_label = df_train[\"label\"].values\n",
    "plot_histogram_from_labels(train_label, [\"no\", \"yes\"], \"boolean4_train.png\")"
   ]
  },
  {
   "cell_type": "code",
   "execution_count": 12,
   "metadata": {},
   "outputs": [
    {
     "data": {
      "image/png": "[encoded data removed]",
      "text/plain": [
       "<Figure size 432x288 with 1 Axes>"
      ]
     },
     "metadata": {},
     "output_type": "display_data"
    }
   ],
   "source": [
    "test_label = df_test[\"label\"].values\n",
    "plot_histogram_from_labels(test_label, [\"no\", \"yes\"], \"boolean4_test.png\")"
   ]
  },
  {
   "cell_type": "markdown",
   "metadata": {},
   "source": [
    "### Saving to CSV"
   ]
  },
  {
   "cell_type": "code",
   "execution_count": 13,
   "metadata": {},
   "outputs": [],
   "source": [
    "df_train.to_csv(\"boolean4_train.csv\", index=False)\n",
    "df_test.to_csv(\"boolean4_test.csv\", index=False)"
   ]
  }
 ],
 "metadata": {
  "kernelspec": {
   "display_name": "Python 3",
   "language": "python",
   "name": "python3"
  },
  "language_info": {
   "codemirror_mode": {
    "name": "ipython",
    "version": 3
   },
   "file_extension": ".py",
   "mimetype": "text/x-python",
   "name": "python",
   "nbconvert_exporter": "python",
   "pygments_lexer": "ipython3",
   "version": "3.5.2"
  }
 },
 "nbformat": 4,
 "nbformat_minor": 2
}
