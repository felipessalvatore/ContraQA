{
 "cells": [
  {
   "cell_type": "markdown",
   "metadata": {},
   "source": [
    "# Boolean generator 1:\n",
    "\n",
    "Generating sentences of the form\n",
    "\n",
    "- **A, not A** (contradiction)\n",
    "\n",
    "- **A, not B** (non-contradiction)\n",
    "\n",
    "\n"
   ]
  },
  {
   "cell_type": "code",
   "execution_count": null,
   "metadata": {},
   "outputs": [],
   "source": [
    "import numpy as np\n",
    "import pandas as pd\n",
    "from word_lists import name_list, positive_personality_list\n",
    "import os\n",
    "import inspect\n",
    "import sys\n",
    "import itertools\n",
    "\n",
    "almost_current = os.path.abspath(inspect.getfile(inspect.currentframe()))\n",
    "currentdir = os.path.dirname(almost_current)\n",
    "parentdir = os.path.dirname(currentdir)\n",
    "sys.path.insert(0, parentdir)\n",
    "\n",
    "from plots.functions import plot_histogram_from_labels # noqa\n",
    "\n",
    "% matplotlib inline\n"
   ]
  },
  {
   "cell_type": "markdown",
   "metadata": {},
   "source": [
    "### Generating all combinations between names and predicates"
   ]
  },
  {
   "cell_type": "code",
   "execution_count": null,
   "metadata": {},
   "outputs": [],
   "source": [
    "boolean_iter = itertools.product(name_list, positive_personality_list)\n",
    "boolean_list = list(boolean_iter)\n",
    "\n",
    "print(\"The total number of combinations between names and predicates is {}\".format(len(boolean_list)))"
   ]
  },
  {
   "cell_type": "markdown",
   "metadata": {},
   "source": [
    "### Generating a DataFrame with 11000 examples "
   ]
  },
  {
   "cell_type": "code",
   "execution_count": null,
   "metadata": {},
   "outputs": [],
   "source": [
    "positives = []\n",
    "negatives = []\n",
    "\n",
    "for car, cdr in boolean_list:\n",
    "    positive = \"{} is {}\".format(car, cdr)\n",
    "    negative = \"{} is not {}\".format(car, cdr)\n",
    "    positives.append(positive)\n",
    "    negatives.append(negative)\n",
    "    \n",
    "both = list(zip(positives, negatives))\n",
    "\n",
    "np.random.shuffle(both)\n",
    "\n",
    "sentence_1 = []\n",
    "sentence_2 = []\n",
    "label = []\n",
    "\n",
    "for i in range(11000):\n",
    "    if i % 2 ==0:\n",
    "        sentence_1.append(both[i][0])\n",
    "        sentence_2.append(both[i][1])\n",
    "        label.append(1)\n",
    "    else:\n",
    "        sentence_1.append(both[i][0])\n",
    "        new_i = i\n",
    "        while new_i == i:\n",
    "            new_i = np.random.randint(0, len(both))\n",
    "        sentence_2.append(both[new_i][1])\n",
    "        label.append(0)\n",
    "        \n",
    "df_dict = {\"sentence1\": sentence_1,\n",
    "           \"sentence2\": sentence_2,\n",
    "           \"label\": label}\n",
    "        \n",
    "df = pd.DataFrame(df_dict)\n",
    "df = df[[\"sentence1\", \"sentence2\", \"label\"]]\n",
    "df = df.sample(frac=1).reset_index(drop=True)\n",
    "\n",
    "df.tail()    "
   ]
  },
  {
   "cell_type": "markdown",
   "metadata": {},
   "source": [
    "### Looking at the labels distribution"
   ]
  },
  {
   "cell_type": "code",
   "execution_count": null,
   "metadata": {},
   "outputs": [],
   "source": [
    "plot_histogram_from_labels(label, [\"no\", \"yes\"], \"b1.png\")"
   ]
  },
  {
   "cell_type": "markdown",
   "metadata": {},
   "source": [
    "### Saving to CSV"
   ]
  },
  {
   "cell_type": "code",
   "execution_count": null,
   "metadata": {},
   "outputs": [],
   "source": [
    "df.to_csv(\"b1.csv\", index=False)"
   ]
  }
 ],
 "metadata": {
  "kernelspec": {
   "display_name": "Python 3",
   "language": "python",
   "name": "python3"
  },
  "language_info": {
   "codemirror_mode": {
    "name": "ipython",
    "version": 3
   },
   "file_extension": ".py",
   "mimetype": "text/x-python",
   "name": "python",
   "nbconvert_exporter": "python",
   "pygments_lexer": "ipython3",
   "version": "3.5.2"
  }
 },
 "nbformat": 4,
 "nbformat_minor": 2
}
