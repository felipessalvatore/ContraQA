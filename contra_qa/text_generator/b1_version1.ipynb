{
 "cells": [
  {
   "cell_type": "markdown",
   "metadata": {},
   "source": [
    "# Boolean generator 1 (version 1):\n",
    "\n",
    "Generating sentences of the form\n",
    "\n",
    "- 1) **A, not A** (contradiction)\n",
    "- 2) **not A, A** (contradiction)\n",
    "- 3) **A, not B** (non-contradiction)\n",
    "- 4) ** not B, A ** (non-contradiction)\n",
    "\n"
   ]
  },
  {
   "cell_type": "code",
   "execution_count": 1,
   "metadata": {},
   "outputs": [],
   "source": [
    "import numpy as np\n",
    "import pandas as pd\n",
    "from word_lists import name_list, positive_personality_list, condition_list\n",
    "import os\n",
    "import inspect\n",
    "import sys\n",
    "import itertools\n",
    "\n",
    "almost_current = os.path.abspath(inspect.getfile(inspect.currentframe()))\n",
    "currentdir = os.path.dirname(almost_current)\n",
    "parentdir = os.path.dirname(currentdir)\n",
    "sys.path.insert(0, parentdir)\n",
    "\n",
    "from plots.functions import plot_histogram_from_labels # noqa\n",
    "\n",
    "% matplotlib inline\n"
   ]
  },
  {
   "cell_type": "markdown",
   "metadata": {},
   "source": [
    "### Generating all types of propositions"
   ]
  },
  {
   "cell_type": "markdown",
   "metadata": {},
   "source": [
    "### - 1) **A, not A** (contradiction)"
   ]
  },
  {
   "cell_type": "code",
   "execution_count": 2,
   "metadata": {},
   "outputs": [
    {
     "name": "stdout",
     "output_type": "stream",
     "text": [
      "Type 1 sentences:\n",
      "\n",
      "['Nixon is aggressive', ' Nixon is not aggressive', 1]\n",
      "['Tucker is lively', ' Tucker is not lively', 1]\n",
      "['Vinny is faithful', ' Vinny is not faithful', 1]\n",
      "['Earl is zealous', ' Earl is not zealous', 1]\n",
      "['Lanford is happy', ' Lanford is not happy', 1]\n",
      "['Wesley is nice', ' Wesley is not nice', 1]\n",
      "['Cody is agreeable', ' Cody is not agreeable', 1]\n",
      "['Cole is faithful', ' Cole is not faithful', 1]\n",
      "['Jones is gentle', ' Jones is not gentle', 1]\n",
      "['Lord is witty', ' Lord is not witty', 1]\n"
     ]
    }
   ],
   "source": [
    "template1 = itertools.product(name_list, positive_personality_list)\n",
    "template1 = list(template1)\n",
    "all_sentences_1 = [\"{} is {}, {} is not {}\".format(car,cdr,car,cdr) for car, cdr in template1]\n",
    "all_sentences_1 = [sentence.split(\",\") + [1] for sentence in all_sentences_1]\n",
    "np.random.shuffle(all_sentences_1)\n",
    "\n",
    "print(\"Type 1 sentences:\\n\")\n",
    "for sentence in all_sentences_1[0:10]:\n",
    "    print(sentence)"
   ]
  },
  {
   "cell_type": "markdown",
   "metadata": {},
   "source": [
    "### - 2) **not A, A** (contradiction)"
   ]
  },
  {
   "cell_type": "code",
   "execution_count": 3,
   "metadata": {},
   "outputs": [
    {
     "name": "stdout",
     "output_type": "stream",
     "text": [
      "Type 2 sentences:\n",
      "\n",
      "['Bradley is not poor', ' Bradley is poor', 1]\n",
      "['Bristol is not uninterested', ' Bristol is uninterested', 1]\n",
      "['Trey is not mealy', ' Trey is mealy', 1]\n",
      "['James is not uninterested', ' James is uninterested', 1]\n",
      "['Gore is not careful', ' Gore is careful', 1]\n",
      "['Nell is not famous', ' Nell is famous', 1]\n",
      "['Bean is not inexpensive', ' Bean is inexpensive', 1]\n",
      "['Simpson is not unimportant', ' Simpson is unimportant', 1]\n",
      "['Madisyn is not uninterested', ' Madisyn is uninterested', 1]\n",
      "['Everet is not shy', ' Everet is shy', 1]\n"
     ]
    }
   ],
   "source": [
    "template2 = itertools.product(name_list,condition_list)\n",
    "template2 = list(template2)\n",
    "all_sentences_2 = [\"{} is not {}, {} is {}\".format(car,cdr,car,cdr) for car, cdr in template2]\n",
    "all_sentences_2 = [sentence.split(\",\") + [1] for sentence in all_sentences_2]\n",
    "np.random.shuffle(all_sentences_2)\n",
    "\n",
    "print(\"Type 2 sentences:\\n\")\n",
    "for sentence in all_sentences_2[0:10]:\n",
    "    print(sentence)"
   ]
  },
  {
   "cell_type": "markdown",
   "metadata": {},
   "source": [
    "### - 3) **A, not B** (non-contradiction)"
   ]
  },
  {
   "cell_type": "code",
   "execution_count": 4,
   "metadata": {},
   "outputs": [
    {
     "name": "stdout",
     "output_type": "stream",
     "text": [
      "Type 3 sentences:\n",
      "\n",
      "['Joan is polite', ' Twila is not mushy', 0]\n",
      "['Holt is agreeable', ' Shadow is not unimportant', 0]\n",
      "['Posy is faithful', ' Kendrick is not shy', 0]\n",
      "['Ivory is eager', ' Darla is not wrong', 0]\n",
      "['Beowulf is delightful', ' Poe is not mealy', 0]\n",
      "['Kinsey is witty', ' Ellery is not alive', 0]\n",
      "['Lark is happy', ' Talbot is not easy', 0]\n",
      "['Newell is faithful', ' Eldred is not vast', 0]\n",
      "['Discovery is witty', ' Carleton is not rich', 0]\n",
      "['Harper is aggressive', ' Elmore is not uninterested', 0]\n"
     ]
    }
   ],
   "source": [
    "template_triple = itertools.product(name_list, positive_personality_list, condition_list)\n",
    "template_triple = list(template_triple)\n",
    "all_sentences_3 = [\"{} is {}, {} is not {}\".format(car,cdr,car,cddr) for car, cdr, cddr in template_triple]\n",
    "\n",
    "np.random.shuffle(template_triple)\n",
    "\n",
    "template3 = template_triple[0:2750]\n",
    "\n",
    "all_sentences_3 = []\n",
    "\n",
    "for triple in template3:\n",
    "    new_name = triple[0]\n",
    "    while new_name == triple[0]:\n",
    "        i = np.random.choice(len(name_list))\n",
    "        new_name = name_list[i]\n",
    "    car, cdr, cddr = triple \n",
    "    all_sentences_3.append(\"{} is {}, {} is not {}\".format(car,cdr,new_name,cddr))\n",
    "\n",
    "all_sentences_3 = [ sentence.split(\",\") + [0] for sentence in all_sentences_3]    \n",
    "    \n",
    "np.random.shuffle(all_sentences_3)\n",
    "\n",
    "print(\"Type 3 sentences:\\n\")\n",
    "for sentence in all_sentences_3[0:10]:\n",
    "    print(sentence)"
   ]
  },
  {
   "cell_type": "markdown",
   "metadata": {},
   "source": [
    "### - 4) ** not B, A ** (non-contradiction)"
   ]
  },
  {
   "cell_type": "code",
   "execution_count": 5,
   "metadata": {},
   "outputs": [
    {
     "name": "stdout",
     "output_type": "stream",
     "text": [
      "Type 4 sentences:\n",
      "\n",
      "['Dryden is not polite', ' Gore is helpful', 0]\n",
      "['Georgina is not agreeable', ' Marlon is better', 0]\n",
      "['Lettie is not nice', ' Beacon is gifted', 0]\n",
      "['Kendall is not nice', ' Maxfield is alive', 0]\n",
      "['Peel is not thankful', ' Quince is helpful', 0]\n",
      "['Lucy is not delightful', ' Cannon is easy', 0]\n",
      "['Bayard is not eager', ' Grover is important', 0]\n",
      "['Drummer is not brave', ' Corby is odd', 0]\n",
      "['Halsey is not kind', ' Brawley is famous', 0]\n",
      "['Quilla is not obedient', ' Averill is careful', 0]\n"
     ]
    }
   ],
   "source": [
    "np.random.shuffle(template_triple)\n",
    "\n",
    "template4 = template_triple[0:2750]\n",
    "\n",
    "all_sentences_4 = []\n",
    "\n",
    "for triple in template4:\n",
    "    new_name = triple[0]\n",
    "    while new_name == triple[0]:\n",
    "        i = np.random.choice(len(name_list))\n",
    "        new_name = name_list[i]\n",
    "    car, cdr, cddr = triple \n",
    "    all_sentences_4.append(\"{} is not {}, {} is {}\".format(car,cdr,new_name,cddr))\n",
    "\n",
    "all_sentences_4 = [ sentence.split(\",\") + [0] for sentence in all_sentences_4]    \n",
    "    \n",
    "np.random.shuffle(all_sentences_4)\n",
    "\n",
    "print(\"Type 4 sentences:\\n\")\n",
    "for sentence in all_sentences_4[0:10]:\n",
    "    print(sentence)"
   ]
  },
  {
   "cell_type": "code",
   "execution_count": 6,
   "metadata": {},
   "outputs": [
    {
     "name": "stdout",
     "output_type": "stream",
     "text": [
      "type 1 size = 2750\n",
      "type 2 size = 2750\n",
      "type 3 size = 2750\n",
      "type 4 size = 2750\n",
      "total size = 11000\n"
     ]
    }
   ],
   "source": [
    "np.random.shuffle(all_sentences_1)\n",
    "np.random.shuffle(all_sentences_2)\n",
    "np.random.shuffle(all_sentences_3)\n",
    "np.random.shuffle(all_sentences_4)\n",
    "\n",
    "all_sentences_1 = all_sentences_1[0:2750]\n",
    "all_sentences_2 = all_sentences_2[0:2750]\n",
    "\n",
    "\n",
    "size1 = len(all_sentences_1)\n",
    "size2 = len(all_sentences_2)\n",
    "size3 = len(all_sentences_3)\n",
    "size4 = len(all_sentences_4)\n",
    "\n",
    "all_sentences = all_sentences_1 + all_sentences_2 + all_sentences_3 + all_sentences_4\n",
    "\n",
    "size = len(all_sentences)\n",
    "\n",
    "print(\"type 1 size = {}\".format(size1))\n",
    "print(\"type 2 size = {}\".format(size2))\n",
    "print(\"type 3 size = {}\".format(size3))\n",
    "print(\"type 4 size = {}\".format(size4))\n",
    "print(\"total size = {}\".format(size))"
   ]
  },
  {
   "cell_type": "markdown",
   "metadata": {},
   "source": [
    "### Generating a train DataFrame with 10000 examples and a test DataFrame with 1000 examples "
   ]
  },
  {
   "cell_type": "code",
   "execution_count": 7,
   "metadata": {},
   "outputs": [
    {
     "data": {
      "text/html": [
       "<div>\n",
       "<style scoped>\n",
       "    .dataframe tbody tr th:only-of-type {\n",
       "        vertical-align: middle;\n",
       "    }\n",
       "\n",
       "    .dataframe tbody tr th {\n",
       "        vertical-align: top;\n",
       "    }\n",
       "\n",
       "    .dataframe thead th {\n",
       "        text-align: right;\n",
       "    }\n",
       "</style>\n",
       "<table border=\"1\" class=\"dataframe\">\n",
       "  <thead>\n",
       "    <tr style=\"text-align: right;\">\n",
       "      <th></th>\n",
       "      <th>sentence1</th>\n",
       "      <th>sentence2</th>\n",
       "      <th>label</th>\n",
       "    </tr>\n",
       "  </thead>\n",
       "  <tbody>\n",
       "    <tr>\n",
       "      <th>10995</th>\n",
       "      <td>Armstrong is wonderful</td>\n",
       "      <td>Randolph is not shy</td>\n",
       "      <td>0</td>\n",
       "    </tr>\n",
       "    <tr>\n",
       "      <th>10996</th>\n",
       "      <td>Craven is proud</td>\n",
       "      <td>Selby is not poor</td>\n",
       "      <td>0</td>\n",
       "    </tr>\n",
       "    <tr>\n",
       "      <th>10997</th>\n",
       "      <td>Acker is happy</td>\n",
       "      <td>Acker is not happy</td>\n",
       "      <td>1</td>\n",
       "    </tr>\n",
       "    <tr>\n",
       "      <th>10998</th>\n",
       "      <td>Everly is lively</td>\n",
       "      <td>Everly is not lively</td>\n",
       "      <td>1</td>\n",
       "    </tr>\n",
       "    <tr>\n",
       "      <th>10999</th>\n",
       "      <td>Tuesday is not lively</td>\n",
       "      <td>Barron is gifted</td>\n",
       "      <td>0</td>\n",
       "    </tr>\n",
       "  </tbody>\n",
       "</table>\n",
       "</div>"
      ],
      "text/plain": [
       "                    sentence1              sentence2  label\n",
       "10995  Armstrong is wonderful    Randolph is not shy      0\n",
       "10996         Craven is proud      Selby is not poor      0\n",
       "10997          Acker is happy     Acker is not happy      1\n",
       "10998        Everly is lively   Everly is not lively      1\n",
       "10999   Tuesday is not lively       Barron is gifted      0"
      ]
     },
     "execution_count": 7,
     "metadata": {},
     "output_type": "execute_result"
    }
   ],
   "source": [
    "sentence_1 = [triple[0] for triple in all_sentences]\n",
    "sentence_2 = [triple[1] for triple in all_sentences]\n",
    "label = [triple[2] for triple in all_sentences]\n",
    "\n",
    "df_dict = {\"sentence1\": sentence_1,\n",
    "           \"sentence2\": sentence_2,\n",
    "           \"label\": label}\n",
    "        \n",
    "df = pd.DataFrame(df_dict)\n",
    "df = df[[\"sentence1\", \"sentence2\", \"label\"]]\n",
    "df = df.sample(frac=1).reset_index(drop=True)\n",
    "\n",
    "df_train = df.iloc[:10000]\n",
    "df_test = df.iloc[10000:]\n",
    "\n",
    "df.tail()"
   ]
  },
  {
   "cell_type": "markdown",
   "metadata": {},
   "source": [
    "#### Looking at the label distribution"
   ]
  },
  {
   "cell_type": "code",
   "execution_count": 8,
   "metadata": {},
   "outputs": [
    {
     "data": {
      "image/png": "[encoded data removed]",
      "text/plain": [
       "<Figure size 432x288 with 1 Axes>"
      ]
     },
     "metadata": {},
     "output_type": "display_data"
    }
   ],
   "source": [
    "train_label = df_train[\"label\"].values\n",
    "plot_histogram_from_labels(train_label, [\"no\", \"yes\"], \"b1_train.png\")"
   ]
  },
  {
   "cell_type": "code",
   "execution_count": 9,
   "metadata": {},
   "outputs": [
    {
     "data": {
      "image/png": "[encoded data removed]",
      "text/plain": [
       "<Figure size 432x288 with 1 Axes>"
      ]
     },
     "metadata": {},
     "output_type": "display_data"
    }
   ],
   "source": [
    "test_label = df_test[\"label\"].values\n",
    "plot_histogram_from_labels(test_label, [\"no\", \"yes\"], \"b1_test.png\")"
   ]
  },
  {
   "cell_type": "markdown",
   "metadata": {},
   "source": [
    "### Saving to CSV"
   ]
  },
  {
   "cell_type": "code",
   "execution_count": 10,
   "metadata": {},
   "outputs": [],
   "source": [
    "df_train.to_csv(\"b1_v1_train.csv\", index=False)\n",
    "df_test.to_csv(\"b1_v1_test.csv\", index=False)"
   ]
  }
 ],
 "metadata": {
  "kernelspec": {
   "display_name": "Python 3",
   "language": "python",
   "name": "python3"
  },
  "language_info": {
   "codemirror_mode": {
    "name": "ipython",
    "version": 3
   },
   "file_extension": ".py",
   "mimetype": "text/x-python",
   "name": "python",
   "nbconvert_exporter": "python",
   "pygments_lexer": "ipython3",
   "version": "3.5.2"
  }
 },
 "nbformat": 4,
 "nbformat_minor": 2
}
