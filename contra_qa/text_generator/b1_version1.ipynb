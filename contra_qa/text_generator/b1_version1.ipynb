{
 "cells": [
  {
   "cell_type": "markdown",
   "metadata": {},
   "source": [
    "# Boolean generator 1 (version 1):\n",
    "\n",
    "Generating sentences of the form\n",
    "\n",
    "- **A, not A** (contradiction)\n",
    "\n",
    "- **A, not B** (non-contradiction)\n",
    "\n",
    "\n"
   ]
  },
  {
   "cell_type": "code",
   "execution_count": 1,
   "metadata": {},
   "outputs": [],
   "source": [
    "import numpy as np\n",
    "import pandas as pd\n",
    "from word_lists import name_list, positive_personality_list\n",
    "import os\n",
    "import inspect\n",
    "import sys\n",
    "import itertools\n",
    "\n",
    "almost_current = os.path.abspath(inspect.getfile(inspect.currentframe()))\n",
    "currentdir = os.path.dirname(almost_current)\n",
    "parentdir = os.path.dirname(currentdir)\n",
    "sys.path.insert(0, parentdir)\n",
    "\n",
    "from plots.functions import plot_histogram_from_labels # noqa\n",
    "\n",
    "% matplotlib inline\n"
   ]
  },
  {
   "cell_type": "markdown",
   "metadata": {},
   "source": [
    "### Generating all combinations between names and predicates"
   ]
  },
  {
   "cell_type": "code",
   "execution_count": 2,
   "metadata": {},
   "outputs": [
    {
     "name": "stdout",
     "output_type": "stream",
     "text": [
      "The total number of combinations between names and predicates is 33396\n"
     ]
    }
   ],
   "source": [
    "boolean_iter = itertools.product(name_list, positive_personality_list)\n",
    "boolean_list = list(boolean_iter)\n",
    "\n",
    "print(\"The total number of combinations between names and predicates is {}\".format(len(boolean_list)))"
   ]
  },
  {
   "cell_type": "markdown",
   "metadata": {},
   "source": [
    "### Generating a train DataFrame with 10000 examples and a test DataFrame with 1000 examples "
   ]
  },
  {
   "cell_type": "code",
   "execution_count": 3,
   "metadata": {},
   "outputs": [
    {
     "data": {
      "text/html": [
       "<div>\n",
       "<style scoped>\n",
       "    .dataframe tbody tr th:only-of-type {\n",
       "        vertical-align: middle;\n",
       "    }\n",
       "\n",
       "    .dataframe tbody tr th {\n",
       "        vertical-align: top;\n",
       "    }\n",
       "\n",
       "    .dataframe thead th {\n",
       "        text-align: right;\n",
       "    }\n",
       "</style>\n",
       "<table border=\"1\" class=\"dataframe\">\n",
       "  <thead>\n",
       "    <tr style=\"text-align: right;\">\n",
       "      <th></th>\n",
       "      <th>sentence1</th>\n",
       "      <th>sentence2</th>\n",
       "      <th>label</th>\n",
       "    </tr>\n",
       "  </thead>\n",
       "  <tbody>\n",
       "    <tr>\n",
       "      <th>10995</th>\n",
       "      <td>Shelton is calm</td>\n",
       "      <td>Spalding is not proud</td>\n",
       "      <td>0</td>\n",
       "    </tr>\n",
       "    <tr>\n",
       "      <th>10996</th>\n",
       "      <td>Kendra is victorious</td>\n",
       "      <td>Augustine is not proud</td>\n",
       "      <td>0</td>\n",
       "    </tr>\n",
       "    <tr>\n",
       "      <th>10997</th>\n",
       "      <td>Kirby is victorious</td>\n",
       "      <td>Ferebee is not calm</td>\n",
       "      <td>0</td>\n",
       "    </tr>\n",
       "    <tr>\n",
       "      <th>10998</th>\n",
       "      <td>Benton is ambitious</td>\n",
       "      <td>Brawley is not eager</td>\n",
       "      <td>0</td>\n",
       "    </tr>\n",
       "    <tr>\n",
       "      <th>10999</th>\n",
       "      <td>Landry is lively</td>\n",
       "      <td>Landry is not lively</td>\n",
       "      <td>1</td>\n",
       "    </tr>\n",
       "  </tbody>\n",
       "</table>\n",
       "</div>"
      ],
      "text/plain": [
       "                  sentence1               sentence2  label\n",
       "10995       Shelton is calm   Spalding is not proud      0\n",
       "10996  Kendra is victorious  Augustine is not proud      0\n",
       "10997   Kirby is victorious     Ferebee is not calm      0\n",
       "10998   Benton is ambitious    Brawley is not eager      0\n",
       "10999      Landry is lively    Landry is not lively      1"
      ]
     },
     "execution_count": 3,
     "metadata": {},
     "output_type": "execute_result"
    }
   ],
   "source": [
    "positives = []\n",
    "negatives = []\n",
    "\n",
    "for car, cdr in boolean_list:\n",
    "    positive = \"{} is {}\".format(car, cdr)\n",
    "    negative = \"{} is not {}\".format(car, cdr)\n",
    "    positives.append(positive)\n",
    "    negatives.append(negative)\n",
    "    \n",
    "both = list(zip(positives, negatives))\n",
    "\n",
    "np.random.shuffle(both)\n",
    "\n",
    "sentence_1 = []\n",
    "sentence_2 = []\n",
    "label = []\n",
    "\n",
    "for i in range(11000):\n",
    "    if i % 2 ==0:\n",
    "        sentence_1.append(both[i][0])\n",
    "        sentence_2.append(both[i][1])\n",
    "        label.append(1)\n",
    "    else:\n",
    "        sentence_1.append(both[i][0])\n",
    "        new_i = i\n",
    "        while new_i == i:\n",
    "            new_i = np.random.randint(0, len(both))\n",
    "        sentence_2.append(both[new_i][1])\n",
    "        label.append(0)\n",
    "        \n",
    "df_dict = {\"sentence1\": sentence_1,\n",
    "           \"sentence2\": sentence_2,\n",
    "           \"label\": label}\n",
    "        \n",
    "df = pd.DataFrame(df_dict)\n",
    "df = df[[\"sentence1\", \"sentence2\", \"label\"]]\n",
    "df = df.sample(frac=1).reset_index(drop=True)\n",
    "\n",
    "df_train = df.iloc[:10000]\n",
    "df_test = df.iloc[10000:]\n",
    "\n",
    "df.tail()    "
   ]
  },
  {
   "cell_type": "markdown",
   "metadata": {},
   "source": [
    "#### Looking at the label distribution"
   ]
  },
  {
   "cell_type": "code",
   "execution_count": 16,
   "metadata": {},
   "outputs": [
    {
     "data": {
      "image/png": "[encoded data removed]",
      "text/plain": [
       "<Figure size 432x288 with 1 Axes>"
      ]
     },
     "metadata": {},
     "output_type": "display_data"
    }
   ],
   "source": [
    "train_label = df_train[\"label\"].values\n",
    "plot_histogram_from_labels(train_label, [\"no\", \"yes\"], \"b1_train.png\")"
   ]
  },
  {
   "cell_type": "code",
   "execution_count": 18,
   "metadata": {},
   "outputs": [
    {
     "data": {
      "image/png": "[encoded data removed]",
      "text/plain": [
       "<Figure size 432x288 with 1 Axes>"
      ]
     },
     "metadata": {},
     "output_type": "display_data"
    }
   ],
   "source": [
    "test_label = df_test[\"label\"].values\n",
    "plot_histogram_from_labels(test_label, [\"no\", \"yes\"], \"b1_test.png\")"
   ]
  },
  {
   "cell_type": "markdown",
   "metadata": {},
   "source": [
    "### Saving to CSV"
   ]
  },
  {
   "cell_type": "code",
   "execution_count": 20,
   "metadata": {},
   "outputs": [],
   "source": [
    "df_train.to_csv(\"b1_v1_train.csv\", index=False)\n",
    "df_test.to_csv(\"b1_v1_test.csv\", index=False)"
   ]
  }
 ],
 "metadata": {
  "kernelspec": {
   "display_name": "Python 3",
   "language": "python",
   "name": "python3"
  },
  "language_info": {
   "codemirror_mode": {
    "name": "ipython",
    "version": 3
   },
   "file_extension": ".py",
   "mimetype": "text/x-python",
   "name": "python",
   "nbconvert_exporter": "python",
   "pygments_lexer": "ipython3",
   "version": "3.5.2"
  }
 },
 "nbformat": 4,
 "nbformat_minor": 2
}
