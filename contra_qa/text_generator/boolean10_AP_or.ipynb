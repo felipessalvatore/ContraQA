{
 "cells": [
  {
   "cell_type": "markdown",
   "metadata": {},
   "source": [
    "# Dataset boolean10: AP conjoined by or\n",
    "\n",
    "Generating sentences of the form\n",
    "\n",
    "- 1) **c's painting is P or Q, c's painting is neither P nor Q** (contradiction)\n",
    "\n",
    "- 2) **c's painting is P or Q, c's painting isn't P and c's paiting isn't Q** (contradiction)\n",
    "\n",
    "- 3) **c's painting is P or Q, c's painting isn't P (Q)** (non-contradiction)\n",
    "\n",
    "- 4) **c's painting is P or Q, d's (c's) painting is neither P (W) nor Q (W)** (non-contradiction)\n"
   ]
  },
  {
   "cell_type": "code",
   "execution_count": 1,
   "metadata": {},
   "outputs": [
    {
     "name": "stderr",
     "output_type": "stream",
     "text": [
      "/usr/lib/python3.5/importlib/_bootstrap.py:222: RuntimeWarning: numpy.dtype size changed, may indicate binary incompatibility. Expected 96, got 88\n",
      "  return f(*args, **kwds)\n",
      "/usr/lib/python3.5/importlib/_bootstrap.py:222: RuntimeWarning: numpy.dtype size changed, may indicate binary incompatibility. Expected 96, got 88\n",
      "  return f(*args, **kwds)\n",
      "/usr/lib/python3.5/importlib/_bootstrap.py:222: RuntimeWarning: numpy.dtype size changed, may indicate binary incompatibility. Expected 96, got 88\n",
      "  return f(*args, **kwds)\n",
      "/usr/lib/python3.5/importlib/_bootstrap.py:222: RuntimeWarning: numpy.dtype size changed, may indicate binary incompatibility. Expected 96, got 88\n",
      "  return f(*args, **kwds)\n",
      "/usr/lib/python3.5/importlib/_bootstrap.py:222: RuntimeWarning: numpy.dtype size changed, may indicate binary incompatibility. Expected 96, got 88\n",
      "  return f(*args, **kwds)\n",
      "/usr/lib/python3.5/importlib/_bootstrap.py:222: RuntimeWarning: numpy.dtype size changed, may indicate binary incompatibility. Expected 96, got 88\n",
      "  return f(*args, **kwds)\n"
     ]
    }
   ],
   "source": [
    "import numpy as np\n",
    "import pandas as pd\n",
    "from word_lists import name_list, all_attributes\n",
    "import os\n",
    "import inspect\n",
    "import sys\n",
    "import itertools\n",
    "\n",
    "almost_current = os.path.abspath(inspect.getfile(inspect.currentframe()))\n",
    "currentdir = os.path.dirname(almost_current)\n",
    "parentdir = os.path.dirname(currentdir)\n",
    "sys.path.insert(0, parentdir)\n",
    "\n",
    "from plots.functions import plot_histogram_from_labels # noqa\n",
    "\n",
    "% matplotlib inline"
   ]
  },
  {
   "cell_type": "code",
   "execution_count": 2,
   "metadata": {},
   "outputs": [],
   "source": [
    "def get_new_item(item_list, src_list):\n",
    "    size = len(src_list)\n",
    "    new_item = src_list[np.random.choice(size)]\n",
    "    while new_item in item_list: \n",
    "        new_i = np.random.choice(size)\n",
    "        new_item = src_list[new_i]\n",
    "    return new_item"
   ]
  },
  {
   "cell_type": "code",
   "execution_count": 3,
   "metadata": {},
   "outputs": [],
   "source": [
    "upper_bound = 11000 / 4\n",
    "vowels = 'aeiou'"
   ]
  },
  {
   "cell_type": "markdown",
   "metadata": {},
   "source": [
    "### Generating all types of sentences"
   ]
  },
  {
   "cell_type": "markdown",
   "metadata": {},
   "source": [
    "- 1) **c's painting is P or Q, c's painting is neither P nor Q** (contradiction)"
   ]
  },
  {
   "cell_type": "code",
   "execution_count": 4,
   "metadata": {},
   "outputs": [
    {
     "name": "stdout",
     "output_type": "stream",
     "text": [
      "[\"Cody's painting is gray or calm\", \" Cody's painting is neither gray nor calm\", 1]\n",
      "[\"Milton's painting is poor or victorious\", \" Milton's painting is neither poor nor victorious\", 1]\n",
      "[\"Andre's painting is embarrassed or ambitious\", \" Andre's painting is neither embarrassed nor ambitious\", 1]\n",
      "[\"Scott's painting is nice or uptight\", \" Scott's painting is neither nice nor uptight\", 1]\n",
      "[\"Gloria's painting is magnificent or aggressive\", \" Gloria's painting is neither magnificent nor aggressive\", 1]\n",
      "[\"Terrence's painting is drab or skinny\", \" Terrence's painting is neither drab nor skinny\", 1]\n",
      "[\"Dwayne's painting is plain or delightful\", \" Dwayne's painting is neither plain nor delightful\", 1]\n",
      "[\"Jerry's painting is purple or unimportant\", \" Jerry's painting is neither purple nor unimportant\", 1]\n",
      "[\"Terri's painting is fit or magnificent\", \" Terri's painting is neither fit nor magnificent\", 1]\n",
      "[\"Kelly's painting is famous or handsome\", \" Kelly's painting is neither famous nor handsome\", 1]\n"
     ]
    }
   ],
   "source": [
    "all_sentences_1 = []\n",
    "for i in range(int(upper_bound)):\n",
    "    person = get_new_item([], name_list)\n",
    "    pred1 = get_new_item([], all_attributes)\n",
    "    pred2 = get_new_item([pred1], all_attributes)\n",
    "    sentence = \"{}'s painting is {} or {}, {}'s painting is neither {} nor {}\".format(person,\n",
    "                                                                                      pred1,\n",
    "                                                                                      pred2,\n",
    "                                                                                      person,\n",
    "                                                                                      pred1,\n",
    "                                                                                      pred2)\n",
    "    all_sentences_1.append(sentence)\n",
    "\n",
    "all_sentences_1 = [sentence.split(\",\") + [1] for sentence in all_sentences_1]\n",
    "\n",
    "for sentence in all_sentences_1[0:10]:\n",
    "    print(sentence)"
   ]
  },
  {
   "cell_type": "markdown",
   "metadata": {},
   "source": [
    "- 2) **c's painting is P or Q, c's painting isn't P and c's paiting isn't Q** (contradiction)"
   ]
  },
  {
   "cell_type": "code",
   "execution_count": 5,
   "metadata": {},
   "outputs": [
    {
     "name": "stdout",
     "output_type": "stream",
     "text": [
      "[\"Paul's painting is mushy or alive\", \" Paul's painting isn't mushy and Paul's painting isn't alive\", 1]\n",
      "[\"Chris's painting is silly or muscular\", \" Chris's painting isn't silly and Chris's painting isn't muscular\", 1]\n",
      "[\"Lillie's painting is drab or easy\", \" Lillie's painting isn't drab and Lillie's painting isn't easy\", 1]\n",
      "[\"Heidi's painting is eager or chubby\", \" Heidi's painting isn't eager and Heidi's painting isn't chubby\", 1]\n",
      "[\"Eddie's painting is silly or unsightly\", \" Eddie's painting isn't silly and Eddie's painting isn't unsightly\", 1]\n",
      "[\"Inez's painting is uptight or odd\", \" Inez's painting isn't uptight and Inez's painting isn't odd\", 1]\n",
      "[\"Jane's painting is lively or kind\", \" Jane's painting isn't lively and Jane's painting isn't kind\", 1]\n",
      "[\"Wayne's painting is gentle or nervous\", \" Wayne's painting isn't gentle and Wayne's painting isn't nervous\", 1]\n",
      "[\"Kelly's painting is clumsy or scary\", \" Kelly's painting isn't clumsy and Kelly's painting isn't scary\", 1]\n",
      "[\"Kirk's painting is faithful or blue\", \" Kirk's painting isn't faithful and Kirk's painting isn't blue\", 1]\n"
     ]
    }
   ],
   "source": [
    "all_sentences_2 = []\n",
    "for i in range(int(upper_bound)):\n",
    "    person = get_new_item([], name_list)\n",
    "    pred1 = get_new_item([], all_attributes)\n",
    "    pred2 = get_new_item([pred1], all_attributes)\n",
    "    sentence = \"{}'s painting is {} or {}, {}'s painting isn't {} and {}'s painting isn't {}\".format(person,\n",
    "                                                                                                     pred1,\n",
    "                                                                                                     pred2,\n",
    "                                                                                                     person,\n",
    "                                                                                                     pred1,\n",
    "                                                                                                     person,\n",
    "                                                                                                     pred2)\n",
    "    all_sentences_2.append(sentence)\n",
    "\n",
    "all_sentences_2 = [sentence.split(\",\") + [1] for sentence in all_sentences_2]\n",
    "\n",
    "for sentence in all_sentences_2[0:10]:\n",
    "    print(sentence)"
   ]
  },
  {
   "cell_type": "markdown",
   "metadata": {},
   "source": [
    "- 3) **c's painting is P or Q, c's painting isn't P (Q)** (non-contradiction)"
   ]
  },
  {
   "cell_type": "code",
   "execution_count": 6,
   "metadata": {},
   "outputs": [
    {
     "name": "stdout",
     "output_type": "stream",
     "text": [
      "[\"Robert's painting is fierce or itchy\", \" Robert's painting isn't fierce\", 0]\n",
      "[\"Clifton's painting is victorious or stocky\", \" Clifton's painting isn't stocky\", 0]\n",
      "[\"Tracey's painting is obedient or clever\", \" Tracey's painting isn't obedient\", 0]\n",
      "[\"Julian's painting is uptight or easy\", \" Julian's painting isn't easy\", 0]\n",
      "[\"Everett's painting is polite or nervous\", \" Everett's painting isn't polite\", 0]\n",
      "[\"Stacey's painting is itchy or thoughtless\", \" Stacey's painting isn't thoughtless\", 0]\n",
      "[\"Kirk's painting is happy or fit\", \" Kirk's painting isn't happy\", 0]\n",
      "[\"Roberta's painting is nice or jealous\", \" Roberta's painting isn't jealous\", 0]\n",
      "[\"Marilyn's painting is ambitious or clean\", \" Marilyn's painting isn't ambitious\", 0]\n",
      "[\"Brad's painting is gifted or lazy\", \" Brad's painting isn't lazy\", 0]\n"
     ]
    }
   ],
   "source": [
    "all_sentences_3 = []\n",
    "for i in range(int(upper_bound)):\n",
    "    person = get_new_item([], name_list)\n",
    "    pred1 = get_new_item([], all_attributes)\n",
    "    pred2 = get_new_item([pred1], all_attributes)\n",
    "    if i % 2 == 0:\n",
    "        pred_p = pred1\n",
    "    else:\n",
    "        pred_p = pred2\n",
    "        \n",
    "    sentence = \"{}'s painting is {} or {}, {}'s painting isn't {}\".format(person,\n",
    "                                                                          pred1,\n",
    "                                                                          pred2,\n",
    "                                                                          person,\n",
    "                                                                          pred_p)\n",
    "    all_sentences_3.append(sentence)\n",
    "\n",
    "all_sentences_3 = [sentence.split(\",\") + [0] for sentence in all_sentences_3]\n",
    "\n",
    "for sentence in all_sentences_3[0:10]:\n",
    "    print(sentence)"
   ]
  },
  {
   "cell_type": "markdown",
   "metadata": {},
   "source": [
    "- 4) **c's painting is P or Q, d's (c's) painting is neither P (W) nor Q (W)** (non-contradiction)"
   ]
  },
  {
   "cell_type": "code",
   "execution_count": 7,
   "metadata": {},
   "outputs": [
    {
     "name": "stdout",
     "output_type": "stream",
     "text": [
      "[\"Marc's painting is delightful or red\", \" Tommy's painting is neither delightful nor red\", 0]\n",
      "[\"Johnny's painting is icy or salmon\", \" Johnny's painting is neither stocky nor salmon\", 0]\n",
      "[\"Iris's painting is thoughtless or quaint\", \" Myrtle's painting is neither thoughtless nor quaint\", 0]\n",
      "[\"Marc's painting is agreeable or happy\", \" Marc's painting is neither agreeable nor obnoxious\", 0]\n",
      "[\"Howard's painting is rich or lemon\", \" Hazel's painting is neither rich nor lemon\", 0]\n",
      "[\"Nellie's painting is dead or chubby\", \" Nellie's painting is neither brave nor chubby\", 0]\n",
      "[\"Billie's painting is delightful or ashy\", \" Joel's painting is neither delightful nor ashy\", 0]\n",
      "[\"Marie's painting is chubby or black\", \" Marie's painting is neither beautiful nor black\", 0]\n",
      "[\"Dwayne's painting is ashy or unsightly\", \" Florence's painting is neither ashy nor unsightly\", 0]\n",
      "[\"Eric's painting is handsome or important\", \" Eric's painting is neither handsome nor itchy\", 0]\n"
     ]
    }
   ],
   "source": [
    "all_sentences_4 = []\n",
    "for i in range(int(upper_bound)):\n",
    "    person = get_new_item([], name_list)\n",
    "    other_person = get_new_item([person], name_list) \n",
    "    pred1 = get_new_item([], all_attributes)\n",
    "    pred2 = get_new_item([pred1], all_attributes)\n",
    "    pred3 = get_new_item([pred1, pred2], all_attributes)\n",
    "    \n",
    "    if i % 2 == 0:\n",
    "        person_p = other_person\n",
    "        pred_p_1 = pred1\n",
    "        pred_p_2 = pred2\n",
    "    else:\n",
    "        if i % 3 == 0:\n",
    "            person_p = person\n",
    "            pred_p_1 = pred1\n",
    "            pred_p_2 = pred3\n",
    "        else:\n",
    "            person_p = person\n",
    "            pred_p_1 = pred3\n",
    "            pred_p_2 = pred2\n",
    "    \n",
    "    sentence = \"{}'s painting is {} or {}, {}'s painting is neither {} nor {}\".format(person,\n",
    "                                                                                      pred1,\n",
    "                                                                                      pred2,\n",
    "                                                                                      person_p,\n",
    "                                                                                      pred_p_1,\n",
    "                                                                                      pred_p_2)\n",
    "    all_sentences_4.append(sentence)\n",
    "\n",
    "all_sentences_4 = [sentence.split(\",\") + [0] for sentence in all_sentences_4]\n",
    "\n",
    "for sentence in all_sentences_4[0:10]:\n",
    "    print(sentence)"
   ]
  },
  {
   "cell_type": "code",
   "execution_count": 8,
   "metadata": {},
   "outputs": [
    {
     "name": "stdout",
     "output_type": "stream",
     "text": [
      "type 1 size = 2750\n",
      "type 2 size = 2750\n",
      "type 3 size = 2750\n",
      "type 4 size = 2750\n",
      "total size = 11000\n"
     ]
    }
   ],
   "source": [
    "np.random.shuffle(all_sentences_1)\n",
    "np.random.shuffle(all_sentences_2)\n",
    "np.random.shuffle(all_sentences_3)\n",
    "np.random.shuffle(all_sentences_4)\n",
    "\n",
    "size1 = len(all_sentences_1)\n",
    "size2 = len(all_sentences_2)\n",
    "size3 = len(all_sentences_3)\n",
    "size4 = len(all_sentences_4)\n",
    "\n",
    "all_sentences = all_sentences_1 + all_sentences_2 + all_sentences_3 + all_sentences_4\n",
    "size = len(all_sentences)\n",
    "\n",
    "print(\"type 1 size = {}\".format(size1))\n",
    "print(\"type 2 size = {}\".format(size2))\n",
    "print(\"type 3 size = {}\".format(size1))\n",
    "print(\"type 4 size = {}\".format(size2))\n",
    "print(\"total size = {}\".format(size))"
   ]
  },
  {
   "cell_type": "markdown",
   "metadata": {},
   "source": [
    "### Generating a train DataFrame with 10000 examples and a test DataFrame with 1000 examples "
   ]
  },
  {
   "cell_type": "code",
   "execution_count": 9,
   "metadata": {},
   "outputs": [
    {
     "data": {
      "text/html": [
       "<div>\n",
       "<style scoped>\n",
       "    .dataframe tbody tr th:only-of-type {\n",
       "        vertical-align: middle;\n",
       "    }\n",
       "\n",
       "    .dataframe tbody tr th {\n",
       "        vertical-align: top;\n",
       "    }\n",
       "\n",
       "    .dataframe thead th {\n",
       "        text-align: right;\n",
       "    }\n",
       "</style>\n",
       "<table border=\"1\" class=\"dataframe\">\n",
       "  <thead>\n",
       "    <tr style=\"text-align: right;\">\n",
       "      <th></th>\n",
       "      <th>sentence1</th>\n",
       "      <th>sentence2</th>\n",
       "      <th>label</th>\n",
       "    </tr>\n",
       "  </thead>\n",
       "  <tbody>\n",
       "    <tr>\n",
       "      <th>10995</th>\n",
       "      <td>Sherri's painting is dead or thoughtless</td>\n",
       "      <td>Sherri's painting isn't dead</td>\n",
       "      <td>0</td>\n",
       "    </tr>\n",
       "    <tr>\n",
       "      <th>10996</th>\n",
       "      <td>Melody's painting is red or shy</td>\n",
       "      <td>Melody's painting isn't red and Melody's pain...</td>\n",
       "      <td>1</td>\n",
       "    </tr>\n",
       "    <tr>\n",
       "      <th>10997</th>\n",
       "      <td>Marion's painting is lively or ambitious</td>\n",
       "      <td>Samuel's painting is neither lively nor ambit...</td>\n",
       "      <td>0</td>\n",
       "    </tr>\n",
       "    <tr>\n",
       "      <th>10998</th>\n",
       "      <td>Joseph's painting is powerful or victorious</td>\n",
       "      <td>Theodore's painting is neither powerful nor v...</td>\n",
       "      <td>0</td>\n",
       "    </tr>\n",
       "    <tr>\n",
       "      <th>10999</th>\n",
       "      <td>Verna's painting is hallowed or dazzling</td>\n",
       "      <td>Verna's painting isn't hallowed and Verna's p...</td>\n",
       "      <td>1</td>\n",
       "    </tr>\n",
       "  </tbody>\n",
       "</table>\n",
       "</div>"
      ],
      "text/plain": [
       "                                         sentence1  \\\n",
       "10995     Sherri's painting is dead or thoughtless   \n",
       "10996              Melody's painting is red or shy   \n",
       "10997     Marion's painting is lively or ambitious   \n",
       "10998  Joseph's painting is powerful or victorious   \n",
       "10999     Verna's painting is hallowed or dazzling   \n",
       "\n",
       "                                               sentence2  label  \n",
       "10995                       Sherri's painting isn't dead      0  \n",
       "10996   Melody's painting isn't red and Melody's pain...      1  \n",
       "10997   Samuel's painting is neither lively nor ambit...      0  \n",
       "10998   Theodore's painting is neither powerful nor v...      0  \n",
       "10999   Verna's painting isn't hallowed and Verna's p...      1  "
      ]
     },
     "execution_count": 9,
     "metadata": {},
     "output_type": "execute_result"
    }
   ],
   "source": [
    "sentence_1 = [triple[0] for triple in all_sentences]\n",
    "sentence_2 = [triple[1] for triple in all_sentences]\n",
    "label = [triple[2] for triple in all_sentences]\n",
    "\n",
    "df_dict = {\"sentence1\": sentence_1,\n",
    "           \"sentence2\": sentence_2,\n",
    "           \"label\": label}\n",
    "        \n",
    "df = pd.DataFrame(df_dict)\n",
    "df = df[[\"sentence1\", \"sentence2\", \"label\"]]\n",
    "df = df.sample(frac=1).reset_index(drop=True)\n",
    "\n",
    "df_train = df.iloc[:10000]\n",
    "df_test = df.iloc[10000:]\n",
    "\n",
    "df.tail()    "
   ]
  },
  {
   "cell_type": "markdown",
   "metadata": {},
   "source": [
    "#### Looking at the label distribution"
   ]
  },
  {
   "cell_type": "code",
   "execution_count": 10,
   "metadata": {},
   "outputs": [
    {
     "data": {
      "image/png": "[encoded data removed]",
      "text/plain": [
       "<Figure size 432x288 with 1 Axes>"
      ]
     },
     "metadata": {},
     "output_type": "display_data"
    }
   ],
   "source": [
    "train_label = df_train[\"label\"].values\n",
    "plot_histogram_from_labels(train_label, [\"no\", \"yes\"], \"boolean10_train.png\")"
   ]
  },
  {
   "cell_type": "code",
   "execution_count": 11,
   "metadata": {},
   "outputs": [
    {
     "data": {
      "image/png": "[encoded data removed]",
      "text/plain": [
       "<Figure size 432x288 with 1 Axes>"
      ]
     },
     "metadata": {},
     "output_type": "display_data"
    }
   ],
   "source": [
    "test_label = df_test[\"label\"].values\n",
    "plot_histogram_from_labels(test_label, [\"no\", \"yes\"], \"boolean10_test.png\")"
   ]
  },
  {
   "cell_type": "markdown",
   "metadata": {},
   "source": [
    "### Saving to CSV"
   ]
  },
  {
   "cell_type": "code",
   "execution_count": 12,
   "metadata": {},
   "outputs": [],
   "source": [
    "df_train.to_csv(\"boolean10_train.csv\", index=False)\n",
    "df_test.to_csv(\"boolean10_test.csv\", index=False)"
   ]
  }
 ],
 "metadata": {
  "kernelspec": {
   "display_name": "Python 3",
   "language": "python",
   "name": "python3"
  },
  "language_info": {
   "codemirror_mode": {
    "name": "ipython",
    "version": 3
   },
   "file_extension": ".py",
   "mimetype": "text/x-python",
   "name": "python",
   "nbconvert_exporter": "python",
   "pygments_lexer": "ipython3",
   "version": "3.5.2"
  }
 },
 "nbformat": 4,
 "nbformat_minor": 2
}
