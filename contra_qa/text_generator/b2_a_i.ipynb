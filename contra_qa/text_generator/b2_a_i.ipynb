{
 "cells": [
  {
   "cell_type": "markdown",
   "metadata": {},
   "source": [
    "# Explicit conjunction: adding conjunction between sentences\n",
    "\n",
    "Generating sentences of the form\n",
    "\n",
    "- 1) **c is P and d is Q, c is not P** (contradiction)\n",
    "\n",
    "- 2) **c is P and d is Q, d is not Q** (contradiction)\n",
    "\n",
    "- 3) **c is P and d is Q, e is (not) W** (non-contradiction)\n",
    "\n",
    "- 4) **c is P and d is Q, c (d) is not Q(P)** (non-contradiction)"
   ]
  },
  {
   "cell_type": "code",
   "execution_count": 1,
   "metadata": {},
   "outputs": [],
   "source": [
    "import numpy as np\n",
    "import pandas as pd\n",
    "from word_lists import name_list, positive_personality_list, condition_list\n",
    "import os\n",
    "import inspect\n",
    "import sys\n",
    "import itertools\n",
    "\n",
    "almost_current = os.path.abspath(inspect.getfile(inspect.currentframe()))\n",
    "currentdir = os.path.dirname(almost_current)\n",
    "parentdir = os.path.dirname(currentdir)\n",
    "sys.path.insert(0, parentdir)\n",
    "\n",
    "from plots.functions import plot_histogram_from_labels # noqa\n",
    "\n",
    "% matplotlib inline"
   ]
  },
  {
   "cell_type": "markdown",
   "metadata": {},
   "source": [
    "### Generating atoms"
   ]
  },
  {
   "cell_type": "code",
   "execution_count": 2,
   "metadata": {},
   "outputs": [],
   "source": [
    "template1 = itertools.product(name_list, positive_personality_list)\n",
    "template1 = list(template1)\n",
    "template2 = itertools.product(name_list, condition_list)\n",
    "template2 = list(template2)\n",
    "upper_bound = 11000/4"
   ]
  },
  {
   "cell_type": "markdown",
   "metadata": {},
   "source": [
    "### Generating all types of sentences"
   ]
  },
  {
   "cell_type": "markdown",
   "metadata": {},
   "source": [
    "- 1) **c is P and d is Q, c is not P** (contradiction)"
   ]
  },
  {
   "cell_type": "code",
   "execution_count": 3,
   "metadata": {},
   "outputs": [
    {
     "name": "stdout",
     "output_type": "stream",
     "text": [
      "['Wystan is lively and Winston is silly', ' Wystan is not lively', 1]\n",
      "['Brown is proud and Sutcliff is obedient', ' Brown is not proud', 1]\n",
      "['Bond is jolly and Darlene is silly', ' Bond is not jolly', 1]\n",
      "['Templeton is proud and Sherman is jolly', ' Templeton is not proud', 1]\n",
      "['Kingsley is nice and Oscar is lively', ' Kingsley is not nice', 1]\n",
      "['Alden is agreeable and Romilly is proud', ' Alden is not agreeable', 1]\n",
      "['Lily is nice and Pierce is brave', ' Lily is not nice', 1]\n",
      "['Gary is zealous and Halsey is polite', ' Gary is not zealous', 1]\n",
      "['Salmon is calm and Osborn is proud', ' Salmon is not calm', 1]\n",
      "['Nelly is delightful and Skeet is thankful', ' Nelly is not delightful', 1]\n"
     ]
    }
   ],
   "source": [
    "np.random.shuffle(template1)\n",
    "all_sentences_1 = []\n",
    "for i in range(int(upper_bound)):\n",
    "    car, cdr = template1[i]\n",
    "    caar, cdrr = car, cdr\n",
    "    while caar == car and cdrr == cdr:\n",
    "        new_i = np.random.choice(len(template1))\n",
    "        caar, cdrr = template1[new_i]\n",
    "    all_sentences_1.append(\"{} is {} and {} is {}, {} is not {}\".format(car,cdr,caar, cdrr,car,cdr))\n",
    "\n",
    "    \n",
    "all_sentences_1 = [sentence.split(\",\") + [1] for sentence in all_sentences_1]\n",
    "\n",
    "for sentence in all_sentences_1[0:10]:\n",
    "    print(sentence)\n"
   ]
  },
  {
   "cell_type": "markdown",
   "metadata": {},
   "source": [
    "- 2) **c is P and d is Q, d is not Q** (contradiction)"
   ]
  },
  {
   "cell_type": "code",
   "execution_count": 4,
   "metadata": {},
   "outputs": [
    {
     "name": "stdout",
     "output_type": "stream",
     "text": [
      "['Salmon is better and Nickleby is shy', ' Nickleby is not shy', 1]\n",
      "['Anne is powerful and Reverie is better', ' Reverie is not better', 1]\n",
      "['Selby is vast and Colter is shy', ' Colter is not shy', 1]\n",
      "['Ebony is poor and Briar is dead', ' Briar is not dead', 1]\n",
      "['Fairbanks is vast and Fitzwilliam is shy', ' Fitzwilliam is not shy', 1]\n",
      "['Gardner is powerful and Hadden is important', ' Hadden is not important', 1]\n",
      "['Blythe is important and Byron is uninterested', ' Byron is not uninterested', 1]\n",
      "['Tyson is unimportant and Shade is shy', ' Shade is not shy', 1]\n",
      "['Butterfly is famous and Aubrey is gifted', ' Aubrey is not gifted', 1]\n",
      "['Winslow is gifted and Brinley is gifted', ' Brinley is not gifted', 1]\n"
     ]
    }
   ],
   "source": [
    "np.random.shuffle(template2)\n",
    "all_sentences_2 = []\n",
    "for i in range(int(upper_bound)):\n",
    "    car, cdr = template2[i]\n",
    "    caar, cdrr = car, cdr\n",
    "    while caar == car and cdrr == cdr:\n",
    "        new_i = np.random.choice(len(template2))\n",
    "        caar, cdrr = template2[new_i]\n",
    "    all_sentences_2.append(\"{} is {} and {} is {}, {} is not {}\".format(car,cdr,caar,cdrr,caar,cdrr))\n",
    "\n",
    "all_sentences_2 = [sentence.split(\",\") + [1] for sentence in all_sentences_2]\n",
    "\n",
    "for sentence in all_sentences_2[0:10]:\n",
    "    print(sentence)    \n"
   ]
  },
  {
   "cell_type": "markdown",
   "metadata": {},
   "source": [
    "- 3) **c is P and d is Q, e is (not) W** (non-contradiction)"
   ]
  },
  {
   "cell_type": "code",
   "execution_count": 5,
   "metadata": {},
   "outputs": [
    {
     "name": "stdout",
     "output_type": "stream",
     "text": [
      "['Newland is proud and Newell is faithful', ' Bellamy is easy', 0]\n",
      "['Kimberley is zealous and Rigby is delightful', ' Bluebell is not clever', 0]\n",
      "['Denham is thankful and Harriet is nice', ' Beverly is dead', 0]\n",
      "['Georgeanne is delightful and Bliss is thankful', ' Rockwell is not mushy', 0]\n",
      "['Jenna is polite and Wyatt is witty', ' Coby is important', 0]\n",
      "['Ward is brave and Verle is lively', ' Shadow is not better', 0]\n",
      "['Audrina is polite and London is happy', ' Faith is famous', 0]\n",
      "['Ellis is wonderful and Bellamy is proud', ' Moe is not tender', 0]\n",
      "['Blakely is brave and Tuesday is delightful', ' Colton is rich', 0]\n",
      "['Washington is witty and King is obedient', ' Alfred is not shy', 0]\n"
     ]
    }
   ],
   "source": [
    "np.random.shuffle(template1)\n",
    "np.random.shuffle(template2)\n",
    "all_sentences_3 = []\n",
    "for i in range(int(upper_bound)):\n",
    "    car, cdr = template1[i]\n",
    "    caar, cdrr = car, cdr\n",
    "    while caar == car and cdrr == cdr:\n",
    "        new_i = np.random.choice(len(template1))\n",
    "        caar, cdrr = template1[new_i]\n",
    "    third_i = np.random.choice(len(template2))\n",
    "    caaar, cdrrr = template2[third_i]\n",
    "    if i%2 == 0:\n",
    "        my_not = \"is\"\n",
    "    else:\n",
    "        my_not = \"is not\"\n",
    "    sentence = \"{} is {} and {} is {}, {} {} {}\".format(car,cdr,caar,cdrr,caaar,my_not,cdrrr)\n",
    "    all_sentences_3.append(sentence)\n",
    "\n",
    "all_sentences_3 = [sentence.split(\",\") + [0] for sentence in all_sentences_3]\n",
    "\n",
    "for sentence in all_sentences_3[0:10]:\n",
    "    print(sentence)"
   ]
  },
  {
   "cell_type": "markdown",
   "metadata": {},
   "source": [
    "- 4) **c is P and d is Q, c (d) is not Q(P)** (non-contradiction)"
   ]
  },
  {
   "cell_type": "code",
   "execution_count": 6,
   "metadata": {},
   "outputs": [
    {
     "name": "stdout",
     "output_type": "stream",
     "text": [
      "['Bliss is faithful and Vance is better', ' Bliss is not better', 0]\n",
      "['Reading is proud and Johnson is unimportant', ' Johnson is not proud', 0]\n",
      "['Brayden is jolly and Thornton is poor', ' Brayden is not poor', 0]\n",
      "['Reverie is nice and Gracelynn is clever', ' Gracelynn is not nice', 0]\n",
      "['Poet is nice and Yardley is gifted', ' Poet is not gifted', 0]\n",
      "['Trenton is jolly and Nixon is hallowed', ' Nixon is not jolly', 0]\n",
      "['Tenley is happy and Nick is helpful', ' Tenley is not helpful', 0]\n",
      "['Odell is silly and Moe is easy', ' Moe is not silly', 0]\n",
      "['King is zealous and Babe is easy', ' King is not easy', 0]\n",
      "['Sinjon is delightful and Easton is dead', ' Easton is not delightful', 0]\n"
     ]
    }
   ],
   "source": [
    "np.random.shuffle(template1)\n",
    "np.random.shuffle(template2)\n",
    "all_sentences_4 = []\n",
    "for i in range(int(upper_bound)):\n",
    "    car, cdr = template1[i]\n",
    "    caar, cdrr = car, cdr\n",
    "    while caar == car and cdrr == cdr:\n",
    "        new_i = np.random.choice(len(template2))\n",
    "        caar, cdrr = template2[new_i]\n",
    "    if i%2 == 0:\n",
    "        caaar, cdrrr = car, cdrr\n",
    "    else:\n",
    "        caaar, cdrrr = caar, cdr\n",
    "    sentence = \"{} is {} and {} is {}, {} is not {}\".format(car,cdr,caar,cdrr,caaar,cdrrr)\n",
    "    all_sentences_4.append(sentence)\n",
    "\n",
    "all_sentences_4 = [sentence.split(\",\") + [0] for sentence in all_sentences_4]\n",
    "\n",
    "for sentence in all_sentences_4[0:10]:\n",
    "    print(sentence)"
   ]
  },
  {
   "cell_type": "code",
   "execution_count": 7,
   "metadata": {},
   "outputs": [
    {
     "name": "stdout",
     "output_type": "stream",
     "text": [
      "type 1 size = 2750\n",
      "type 2 size = 2750\n",
      "type 3 size = 2750\n",
      "type 4 size = 2750\n",
      "total size = 11000\n"
     ]
    }
   ],
   "source": [
    "np.random.shuffle(all_sentences_1)\n",
    "np.random.shuffle(all_sentences_2)\n",
    "np.random.shuffle(all_sentences_3)\n",
    "np.random.shuffle(all_sentences_4)\n",
    "\n",
    "\n",
    "\n",
    "size1 = len(all_sentences_1)\n",
    "size2 = len(all_sentences_2)\n",
    "size3 = len(all_sentences_3)\n",
    "size4 = len(all_sentences_4)\n",
    "\n",
    "all_sentences = all_sentences_1 + all_sentences_2 + all_sentences_3 + all_sentences_4\n",
    "size = len(all_sentences)\n",
    "\n",
    "print(\"type 1 size = {}\".format(size1))\n",
    "print(\"type 2 size = {}\".format(size2))\n",
    "print(\"type 3 size = {}\".format(size3))\n",
    "print(\"type 4 size = {}\".format(size4))\n",
    "print(\"total size = {}\".format(size))"
   ]
  },
  {
   "cell_type": "markdown",
   "metadata": {},
   "source": [
    "### Generating a train DataFrame with 10000 examples and a test DataFrame with 1000 examples "
   ]
  },
  {
   "cell_type": "code",
   "execution_count": 8,
   "metadata": {},
   "outputs": [
    {
     "data": {
      "text/html": [
       "<div>\n",
       "<style scoped>\n",
       "    .dataframe tbody tr th:only-of-type {\n",
       "        vertical-align: middle;\n",
       "    }\n",
       "\n",
       "    .dataframe tbody tr th {\n",
       "        vertical-align: top;\n",
       "    }\n",
       "\n",
       "    .dataframe thead th {\n",
       "        text-align: right;\n",
       "    }\n",
       "</style>\n",
       "<table border=\"1\" class=\"dataframe\">\n",
       "  <thead>\n",
       "    <tr style=\"text-align: right;\">\n",
       "      <th></th>\n",
       "      <th>sentence1</th>\n",
       "      <th>sentence2</th>\n",
       "      <th>label</th>\n",
       "    </tr>\n",
       "  </thead>\n",
       "  <tbody>\n",
       "    <tr>\n",
       "      <th>10995</th>\n",
       "      <td>Leonora is polite and Henley is faithful</td>\n",
       "      <td>Poe is not famous</td>\n",
       "      <td>0</td>\n",
       "    </tr>\n",
       "    <tr>\n",
       "      <th>10996</th>\n",
       "      <td>Fitzhugh is gentle and Lorelle is gentle</td>\n",
       "      <td>Fitzhugh is not gentle</td>\n",
       "      <td>1</td>\n",
       "    </tr>\n",
       "    <tr>\n",
       "      <th>10997</th>\n",
       "      <td>Mike is eager and Brighton is thankful</td>\n",
       "      <td>Nelly is not unimportant</td>\n",
       "      <td>0</td>\n",
       "    </tr>\n",
       "    <tr>\n",
       "      <th>10998</th>\n",
       "      <td>Crawford is faithful and Barker is delightful</td>\n",
       "      <td>Crawford is not faithful</td>\n",
       "      <td>1</td>\n",
       "    </tr>\n",
       "    <tr>\n",
       "      <th>10999</th>\n",
       "      <td>Ellen is helpful and Moe is inexpensive</td>\n",
       "      <td>Moe is not inexpensive</td>\n",
       "      <td>1</td>\n",
       "    </tr>\n",
       "  </tbody>\n",
       "</table>\n",
       "</div>"
      ],
      "text/plain": [
       "                                           sentence1  \\\n",
       "10995       Leonora is polite and Henley is faithful   \n",
       "10996       Fitzhugh is gentle and Lorelle is gentle   \n",
       "10997         Mike is eager and Brighton is thankful   \n",
       "10998  Crawford is faithful and Barker is delightful   \n",
       "10999        Ellen is helpful and Moe is inexpensive   \n",
       "\n",
       "                       sentence2  label  \n",
       "10995          Poe is not famous      0  \n",
       "10996     Fitzhugh is not gentle      1  \n",
       "10997   Nelly is not unimportant      0  \n",
       "10998   Crawford is not faithful      1  \n",
       "10999     Moe is not inexpensive      1  "
      ]
     },
     "execution_count": 8,
     "metadata": {},
     "output_type": "execute_result"
    }
   ],
   "source": [
    "sentence_1 = [triple[0] for triple in all_sentences]\n",
    "sentence_2 = [triple[1] for triple in all_sentences]\n",
    "label = [triple[2] for triple in all_sentences]\n",
    "\n",
    "df_dict = {\"sentence1\": sentence_1,\n",
    "           \"sentence2\": sentence_2,\n",
    "           \"label\": label}\n",
    "        \n",
    "df = pd.DataFrame(df_dict)\n",
    "df = df[[\"sentence1\", \"sentence2\", \"label\"]]\n",
    "df = df.sample(frac=1).reset_index(drop=True)\n",
    "\n",
    "df_train = df.iloc[:10000]\n",
    "df_test = df.iloc[10000:]\n",
    "\n",
    "df.tail()    "
   ]
  },
  {
   "cell_type": "markdown",
   "metadata": {},
   "source": [
    "#### Looking at the label distribution"
   ]
  },
  {
   "cell_type": "code",
   "execution_count": 9,
   "metadata": {},
   "outputs": [
    {
     "data": {
      "image/png": "[encoded data removed]",
      "text/plain": [
       "<Figure size 432x288 with 1 Axes>"
      ]
     },
     "metadata": {},
     "output_type": "display_data"
    }
   ],
   "source": [
    "train_label = df_train[\"label\"].values\n",
    "plot_histogram_from_labels(train_label, [\"no\", \"yes\"], \"b2_a_i_train.png\")"
   ]
  },
  {
   "cell_type": "code",
   "execution_count": 10,
   "metadata": {},
   "outputs": [
    {
     "data": {
      "image/png": "[encoded data removed]",
      "text/plain": [
       "<Figure size 432x288 with 1 Axes>"
      ]
     },
     "metadata": {},
     "output_type": "display_data"
    }
   ],
   "source": [
    "test_label = df_test[\"label\"].values\n",
    "plot_histogram_from_labels(test_label, [\"no\", \"yes\"], \"b2_a_i_test.png\")"
   ]
  },
  {
   "cell_type": "markdown",
   "metadata": {},
   "source": [
    "### Saving to CSV"
   ]
  },
  {
   "cell_type": "code",
   "execution_count": 11,
   "metadata": {},
   "outputs": [],
   "source": [
    "df_train.to_csv(\"b2_a_i_train.csv\", index=False)\n",
    "df_test.to_csv(\"b2_a_i_test.csv\", index=False)"
   ]
  }
 ],
 "metadata": {
  "kernelspec": {
   "display_name": "Python 3",
   "language": "python",
   "name": "python3"
  },
  "language_info": {
   "codemirror_mode": {
    "name": "ipython",
    "version": 3
   },
   "file_extension": ".py",
   "mimetype": "text/x-python",
   "name": "python",
   "nbconvert_exporter": "python",
   "pygments_lexer": "ipython3",
   "version": "3.5.2"
  }
 },
 "nbformat": 4,
 "nbformat_minor": 2
}
