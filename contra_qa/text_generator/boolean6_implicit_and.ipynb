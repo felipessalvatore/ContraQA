{
 "cells": [
  {
   "cell_type": "markdown",
   "metadata": {},
   "source": [
    "# Dataset boolean6: implicit conjunction - different predicates applied on a person (reference problem)\n",
    "\n",
    "Generating sentences of the form\n",
    "\n",
    "- 1) **c, who is a PROFESSION, saw X, c didn't saw X** -- contradiction \n",
    "- 1) **c, who is a PROFESSION, visit d, c didn't  visit d ** -- contradiction\n",
    "- 1) **c, who is a PROFESSION, bought Y, c didn't  buy Y ** -- contradiction \n",
    "\n",
    "\n",
    "- 2) **c, who is a PROFESSION, saw X, c isn't a PROFESSION ** -- contradiction\n",
    "- 2) **c, who is a PROFESSION, visit d, c isn't a PROFESSION ** -- contradiction\n",
    "- 2) **c, who is a PROFESSION, bought Y, c isn't a PROFESSION ** -- contradiction\n",
    "\n",
    "\n",
    "- 3) **c, who is a PROFESSION1, saw X, c, who is a PROFESSION2, didn't saw X**  -- non-contradiction\n",
    "- 3) **c, who is a PROFESSION1, visit d, c, who is a PROFESSION2, didn't visit d**  -- non-contradiction\n",
    "- 3) **c, who is a PROFESSION1, bought Y, c, who is a PROFESSION2, didn't bought Y**  -- non-contradiction\n",
    "\n",
    "\n",
    "- 4) **c, who is a PROFESSION, saw X, c, e's father (mother), didn't saw X** -- non-contradiction\n",
    "- 4) **c, who is a PROFESSION, visit d, c, e's father (mother), didn't visit d** -- non-contradiction\n",
    "- 4) **c, who is a PROFESSION, bought Y, c, e's father (mother), didn't bought Y** -- non-contradiction\n",
    "\n",
    "\n",
    "- 5) **c saw Z running COMPLEMENT, c didn't saw Z running** -- contradiction \n",
    "- 5) **c saw Z driving COMPLEMENT, c didn't saw Z driving** -- contradiction \n",
    "\n",
    "\n",
    "\n",
    "- 6) **c saw X running COMPLEMENT1, c didn't saw X running  COMPLEMENT2** -- non-contradiction\n",
    "- 6) **c saw X driving COMPLEMENT1, c didn't saw X driving COMPLEMENT2** -- non-contradiction \n",
    "\n",
    "\n",
    "X = [a girl running, a blue plane, the new Tesla sport car, the new Marvel movie, a dog chasing a cat, etc.]\n",
    "\n",
    "Y = [the new Tesla Roadster, etc.]\n",
    "\n",
    "Z = [name, a girl, a boy]\n",
    "\n"
   ]
  },
  {
   "cell_type": "code",
   "execution_count": 1,
   "metadata": {},
   "outputs": [
    {
     "name": "stderr",
     "output_type": "stream",
     "text": [
      "/usr/lib/python3.5/importlib/_bootstrap.py:222: RuntimeWarning: numpy.dtype size changed, may indicate binary incompatibility. Expected 96, got 88\n",
      "  return f(*args, **kwds)\n",
      "/usr/lib/python3.5/importlib/_bootstrap.py:222: RuntimeWarning: numpy.dtype size changed, may indicate binary incompatibility. Expected 96, got 88\n",
      "  return f(*args, **kwds)\n",
      "/usr/lib/python3.5/importlib/_bootstrap.py:222: RuntimeWarning: numpy.dtype size changed, may indicate binary incompatibility. Expected 96, got 88\n",
      "  return f(*args, **kwds)\n",
      "/usr/lib/python3.5/importlib/_bootstrap.py:222: RuntimeWarning: numpy.dtype size changed, may indicate binary incompatibility. Expected 96, got 88\n",
      "  return f(*args, **kwds)\n",
      "/usr/lib/python3.5/importlib/_bootstrap.py:222: RuntimeWarning: numpy.dtype size changed, may indicate binary incompatibility. Expected 96, got 88\n",
      "  return f(*args, **kwds)\n",
      "/usr/lib/python3.5/importlib/_bootstrap.py:222: RuntimeWarning: numpy.dtype size changed, may indicate binary incompatibility. Expected 96, got 88\n",
      "  return f(*args, **kwds)\n"
     ]
    }
   ],
   "source": [
    "import numpy as np\n",
    "import pandas as pd\n",
    "from word_lists import male_names, female_names, name_list\n",
    "from word_lists import professions, color_list, city_list\n",
    "import os\n",
    "import inspect\n",
    "import sys\n",
    "import itertools\n",
    "\n",
    "almost_current = os.path.abspath(inspect.getfile(inspect.currentframe()))\n",
    "currentdir = os.path.dirname(almost_current)\n",
    "parentdir = os.path.dirname(currentdir)\n",
    "sys.path.insert(0, parentdir)\n",
    "\n",
    "from plots.functions import plot_histogram_from_labels # noqa\n",
    "\n",
    "% matplotlib inline"
   ]
  },
  {
   "cell_type": "code",
   "execution_count": 2,
   "metadata": {},
   "outputs": [],
   "source": [
    "def get_new_item(item_list, src_list):\n",
    "    size = len(src_list)\n",
    "    new_item = src_list[np.random.choice(size)]\n",
    "    while new_item in item_list: \n",
    "        new_i = np.random.choice(size)\n",
    "        new_item = src_list[new_i]\n",
    "    return new_item"
   ]
  },
  {
   "cell_type": "code",
   "execution_count": 3,
   "metadata": {},
   "outputs": [],
   "source": [
    "for i in range(len(name_list)):\n",
    "    name = get_new_item([], name_list)\n",
    "    new_name = get_new_item([name], name_list)\n",
    "    assert name != new_name and name in name_list and new_name in name_list"
   ]
  },
  {
   "cell_type": "code",
   "execution_count": 4,
   "metadata": {},
   "outputs": [],
   "source": [
    "upper_bound = 11000 / 6\n",
    "\n",
    "COMPLEMENT_runnig = [\"from a parade car\",\n",
    "                     \"from PERSON's car\",\n",
    "                      \"from a COLOR car\",\n",
    "                      \"from a COLOR bus\",\n",
    "                      \"from a special recently built bus\",\n",
    "                      \"from a COLOR school bus\",\n",
    "                      \"from a bus going to CITY\",\n",
    "                      \"from a COLOR bus with a new engine\"]\n",
    "\n",
    "COMPLEMENT_driving = [\"a COLOR car\",\n",
    "                      \"in CITY\",\n",
    "                      \"PERSON's car\",\n",
    "                      \"a COLOR bicycle\",\n",
    "                      \"PERSON's bicycle\",\n",
    "                      \"an electric COLOR bicycle\",\n",
    "                      \"PERSON's new Tesla Roadster\"]\n",
    "\n",
    "what_I_see = [\"a girl running\",\n",
    "              \"a blue plane\",\n",
    "              \"the new Tesla Roadster\",\n",
    "              \"the new Marvel movie from the Russo Brothers\", \n",
    "              \"a dog chasing a cat\",\n",
    "              \"the accident\",\n",
    "              \"the car crash\",\n",
    "              \"a strange add\",\n",
    "              \"the city mayor\"]\n",
    "\n",
    "what_I_buy = [\"the new Tesla Roadster\",\n",
    "              \"the new Marvel movie from the Russo Brothers\",\n",
    "              \"a Chilean wine\",\n",
    "              \"a Macbook\",\n",
    "              \"a cup of coffee\",\n",
    "              \"a pizza\",\n",
    "              \"a japanese novel\"]"
   ]
  },
  {
   "cell_type": "markdown",
   "metadata": {},
   "source": [
    "- 1) **c, who is a PROFESSION, saw X, c didn't saw X** -- contradiction \n",
    "- 1) **c, who is a PROFESSION, visit d, c didn't  visit d ** -- contradiction\n",
    "- 1) **c, who is a PROFESSION, bought Y, c didn't  buy Y ** -- contradiction "
   ]
  },
  {
   "cell_type": "code",
   "execution_count": 5,
   "metadata": {},
   "outputs": [
    {
     "name": "stdout",
     "output_type": "stream",
     "text": [
      "['Mark, who is a secretary, saw a dog chasing a cat', \"Mark didn't saw a dog chasing a cat\", 1]\n",
      "['Yvonne, who is a hairdresser, visit Willie', \"Yvonne didn't visit Willie\", 1]\n",
      "['James, who is a tailor, bought the new Marvel movie from the Russo Brothers', \"James didn't buy the new Marvel movie from the Russo Brothers\", 1]\n",
      "['Terrance, who is a plumber, saw the city mayor', \"Terrance didn't saw the city mayor\", 1]\n",
      "['Joseph, who is a barber, visit Agnes', \"Joseph didn't visit Agnes\", 1]\n",
      "['Edwin, who is a chef, bought a japanese novel', \"Edwin didn't buy a japanese novel\", 1]\n",
      "['Dan, who is a chef, saw the new Tesla Roadster', \"Dan didn't saw the new Tesla Roadster\", 1]\n",
      "['Janie, who is a cop, visit David', \"Janie didn't visit David\", 1]\n",
      "['Mamie, who is a pilot, bought a cup of coffee', \"Mamie didn't buy a cup of coffee\", 1]\n",
      "['Nellie, who is a cleaner, saw the new Marvel movie from the Russo Brothers', \"Nellie didn't saw the new Marvel movie from the Russo Brothers\", 1]\n"
     ]
    }
   ],
   "source": [
    "all_sentences_1 = []\n",
    "for i in range(int(upper_bound)):\n",
    "    person1 = get_new_item([], name_list)\n",
    "    person2 = get_new_item([person1], name_list)\n",
    "    buy = get_new_item([], what_I_buy)\n",
    "    see = get_new_item([], what_I_see)\n",
    "    profession = get_new_item([], professions)\n",
    "    if i % 3 == 0:\n",
    "        sentence = \"{}, who is a {}, saw {};{} didn't saw {}\".format(person1, profession, see, person1, see)\n",
    "    elif i % 3 ==1:\n",
    "        sentence = \"{}, who is a {}, visit {};{} didn't visit {}\".format(person1, profession, person2, person1, person2)\n",
    "    else:\n",
    "        sentence = \"{}, who is a {}, bought {};{} didn't buy {}\".format(person1, profession, buy, person1, buy)\n",
    "    all_sentences_1.append(sentence)\n",
    "\n",
    "all_sentences_1 = [sentence.split(\";\") + [1] for sentence in all_sentences_1]\n",
    "\n",
    "for sentence in all_sentences_1[0:10]:\n",
    "    print(sentence)"
   ]
  },
  {
   "cell_type": "markdown",
   "metadata": {},
   "source": [
    "- 2) **c, who is a PROFESSION, saw X, c isn't a PROFESSION ** -- contradiction\n",
    "- 2) **c, who is a PROFESSION, visit d, c isn't a PROFESSION ** -- contradiction\n",
    "- 2) **c, who is a PROFESSION, bought Y, c isn't a PROFESSION ** -- contradiction"
   ]
  },
  {
   "cell_type": "code",
   "execution_count": 6,
   "metadata": {},
   "outputs": [
    {
     "name": "stdout",
     "output_type": "stream",
     "text": [
      "['Thelma, who is a fireman, saw a dog chasing a cat', \"Thelma isn't a fireman\", 1]\n",
      "['Gina, who is a lawyer, visit Dean', \"Gina isn't a lawyer\", 1]\n",
      "['Crystal, who is a engineer, bought a japanese novel', \"Crystal isn't a engineer\", 1]\n",
      "['Casey, who is a painter, saw a girl running', \"Casey isn't a painter\", 1]\n",
      "['Troy, who is a photographer, visit Lydia', \"Troy isn't a photographer\", 1]\n",
      "['Martha, who is a judge, bought a cup of coffee', \"Martha isn't a judge\", 1]\n",
      "['Rita, who is a photographer, saw the new Marvel movie from the Russo Brothers', \"Rita isn't a photographer\", 1]\n",
      "['Iris, who is a photographer, visit Lauren', \"Iris isn't a photographer\", 1]\n",
      "['Theodore, who is a plumber, bought the new Marvel movie from the Russo Brothers', \"Theodore isn't a plumber\", 1]\n",
      "['Marjorie, who is a painter, saw the new Tesla Roadster', \"Marjorie isn't a painter\", 1]\n"
     ]
    }
   ],
   "source": [
    "all_sentences_2 = []\n",
    "for i in range(int(upper_bound)):\n",
    "    person1 = get_new_item([], name_list)\n",
    "    person2 = get_new_item([person1], name_list)\n",
    "    buy = get_new_item([], what_I_buy)\n",
    "    see = get_new_item([], what_I_see)\n",
    "    profession = get_new_item([], professions)\n",
    "    if i % 3 == 0:\n",
    "        sentence = \"{}, who is a {}, saw {};{} isn't a {}\".format(person1, profession, see, person1, profession)\n",
    "    elif i % 3 ==1:\n",
    "        sentence = \"{}, who is a {}, visit {};{} isn't a {}\".format(person1, profession, person2, person1, profession)\n",
    "    else:\n",
    "        sentence = \"{}, who is a {}, bought {};{} isn't a {}\".format(person1, profession, buy, person1, profession)\n",
    "    all_sentences_2.append(sentence)\n",
    "\n",
    "all_sentences_2 = [sentence.split(\";\") + [1] for sentence in all_sentences_2]\n",
    "\n",
    "for sentence in all_sentences_2[0:10]:\n",
    "    print(sentence)"
   ]
  },
  {
   "cell_type": "markdown",
   "metadata": {},
   "source": [
    "- 3) **c, who is a PROFESSION1, saw X, c, who is a PROFESSION2, didn't saw X**  -- non-contradiction\n",
    "- 3) **c, who is a PROFESSION1, visit d, c, who is a PROFESSION2, didn't visit d**  -- non-contradiction\n",
    "- 3) **c, who is a PROFESSION1, bought Y, c, who is a PROFESSION2, didn't bought Y**  -- non-contradiction"
   ]
  },
  {
   "cell_type": "code",
   "execution_count": 7,
   "metadata": {},
   "outputs": [
    {
     "name": "stdout",
     "output_type": "stream",
     "text": [
      "['Rafael, who is a butcher, saw the city mayor', \"Rafael, who is a flight attendant, didn't saw the city mayor\", 0]\n",
      "['Rene, who is a tailor, visit Alexander', \"Rene, who is a receptionist, didn't visit Alexander\", 0]\n",
      "['Yvette, who is a pilot, bought a pizza', \"Yvette, who is a tailor, didn't buy a pizza\", 0]\n",
      "['Elaine, who is a doctor, saw the car crash', \"Elaine, who is a vet, didn't saw the car crash\", 0]\n",
      "['Maxine, who is a dentist, visit Greg', \"Maxine, who is a barber, didn't visit Greg\", 0]\n",
      "['Nina, who is a cashier, bought a cup of coffee', \"Nina, who is a hairdresser, didn't buy a cup of coffee\", 0]\n",
      "['Kenneth, who is a fireman, saw the new Marvel movie from the Russo Brothers', \"Kenneth, who is a cleaner, didn't saw the new Marvel movie from the Russo Brothers\", 0]\n",
      "['Jack, who is a cop, visit Cheryl', \"Jack, who is a builder, didn't visit Cheryl\", 0]\n",
      "['Eileen, who is a hairdresser, bought a Chilean wine', \"Eileen, who is a engineer, didn't buy a Chilean wine\", 0]\n",
      "['Erin, who is a baker, saw the new Tesla Roadster', \"Erin, who is a barber, didn't saw the new Tesla Roadster\", 0]\n"
     ]
    }
   ],
   "source": [
    "all_sentences_3 = []\n",
    "for i in range(int(upper_bound)):\n",
    "    person1 = get_new_item([], name_list)\n",
    "    person2 = get_new_item([person1], name_list)\n",
    "    buy = get_new_item([], what_I_buy)\n",
    "    see = get_new_item([], what_I_see)\n",
    "    profession1 = get_new_item([], professions)\n",
    "    profession2 = get_new_item([profession1], professions)\n",
    "    assert profession1 != profession2 \n",
    "    if i % 3 == 0:\n",
    "        sentence = \"{}, who is a {}, saw {};{}, who is a {}, didn't saw {}\".format(person1, profession1, see, person1, profession2, see)\n",
    "    elif i % 3 ==1:\n",
    "        sentence = \"{}, who is a {}, visit {};{}, who is a {}, didn't visit {}\".format(person1, profession1, person2, person1, profession2, person2)\n",
    "    else:\n",
    "        sentence = \"{}, who is a {}, bought {};{}, who is a {}, didn't buy {}\".format(person1, profession1, buy, person1, profession2, buy)\n",
    "    all_sentences_3.append(sentence)\n",
    "\n",
    "all_sentences_3 = [sentence.split(\";\") + [0] for sentence in all_sentences_3]\n",
    "\n",
    "for sentence in all_sentences_3[0:10]:\n",
    "    print(sentence)"
   ]
  },
  {
   "cell_type": "markdown",
   "metadata": {},
   "source": [
    "- 4) **c, who is a PROFESSION, saw X, c, e's father (mother), didn't saw X** -- non-contradiction\n",
    "- 4) **c, who is a PROFESSION, visit d, c, e's father (mother), didn't visit d** -- non-contradiction\n",
    "- 4) **c, who is a PROFESSION, bought Y, c, e's father (mother), didn't bought Y** -- non-contradiction"
   ]
  },
  {
   "cell_type": "code",
   "execution_count": 8,
   "metadata": {},
   "outputs": [
    {
     "name": "stdout",
     "output_type": "stream",
     "text": [
      "['Antoinette, who is a lawyer, saw the accident', \"Antoinette, Adam's mother, didn't saw the accident\", 0]\n",
      "['Kyle, who is a vet, visit Sylvia', \"Kyle, Brandi's father, didn't visit Sylvia\", 0]\n",
      "['Sherri, who is a nurse, bought a japanese novel', \"Sherri, Mamie's mother, didn't buy a japanese novel\", 0]\n",
      "['Keith, who is a hairdresser, saw the city mayor', \"Keith, Heidi's father, didn't saw the city mayor\", 0]\n",
      "['Bobbie, who is a barber, visit Brent', \"Bobbie, Glenda's mother, didn't visit Brent\", 0]\n",
      "['Franklin, who is a butcher, bought a cup of coffee', \"Franklin, Mike's father, didn't buy a cup of coffee\", 0]\n",
      "['Edith, who is a judge, saw a strange add', \"Edith, Beulah's mother, didn't saw a strange add\", 0]\n",
      "['Roland, who is a pilot, visit Lindsay', \"Roland, Tamara's father, didn't visit Lindsay\", 0]\n",
      "['Bonnie, who is a doctor, bought a pizza', \"Bonnie, Stacy's mother, didn't buy a pizza\", 0]\n",
      "['Dustin, who is a plumber, saw the accident', \"Dustin, Kelly's father, didn't saw the accident\", 0]\n"
     ]
    }
   ],
   "source": [
    "all_sentences_4 = []\n",
    "for i in range(int(upper_bound)):\n",
    "    if i % 2 == 0:\n",
    "        person1 = get_new_item([], female_names)\n",
    "        parent = \"mother\"\n",
    "    else:\n",
    "        person1 = get_new_item([], male_names)\n",
    "        parent = \"father\"\n",
    "    person2 = get_new_item([person1], name_list)\n",
    "    person3 = get_new_item([person1, person2], name_list)\n",
    "    buy = get_new_item([], what_I_buy)\n",
    "    see = get_new_item([], what_I_see)\n",
    "    profession1 = get_new_item([], professions)\n",
    "    profession2 = get_new_item([profession1], professions)\n",
    "    if i % 3 == 0:\n",
    "        sentence = \"{}, who is a {}, saw {};{}, {}'s {}, didn't saw {}\".format(person1, profession1, see, person1, person3, parent, see)\n",
    "    elif i % 3 ==1:\n",
    "        sentence = \"{}, who is a {}, visit {};{}, {}'s {}, didn't visit {}\".format(person1, profession1, person2, person1,person3, parent,person2)\n",
    "    else:\n",
    "        sentence = \"{}, who is a {}, bought {};{}, {}'s {}, didn't buy {}\".format(person1, profession1, buy, person1, person3, parent, buy)\n",
    "    all_sentences_4.append(sentence)\n",
    "\n",
    "all_sentences_4 = [sentence.split(\";\") + [0] for sentence in all_sentences_4]\n",
    "\n",
    "for sentence in all_sentences_4[0:10]:\n",
    "    print(sentence)"
   ]
  },
  {
   "cell_type": "markdown",
   "metadata": {},
   "source": [
    "- 5) **c saw X running COMPLEMENT, c didn't saw X running** -- contradiction \n",
    "- 5) **c saw X driving COMPLEMENT, c didn't saw X driving** -- contradiction "
   ]
  },
  {
   "cell_type": "code",
   "execution_count": 9,
   "metadata": {},
   "outputs": [
    {
     "name": "stdout",
     "output_type": "stream",
     "text": [
      "['Rose saw a boy running from a black school bus', \"Rose didn't saw a boy running\", 1]\n",
      "[\"Donald saw Marilyn driving Ray's new Tesla Roadster\", \"Donald didn't saw Marilyn driving\", 1]\n",
      "['Felicia saw Susan running from a orange car', \"Felicia didn't saw Susan running\", 1]\n",
      "[\"Susie saw Sherri driving Ana's bicycle\", \"Susie didn't saw Sherri driving\", 1]\n",
      "['Leon saw Gertrude running from a ashy bus', \"Leon didn't saw Gertrude running\", 1]\n",
      "[\"Roland saw a girl driving Erika's car\", \"Roland didn't saw a girl driving\", 1]\n",
      "['Sean saw a girl running from a bus going to Blaj', \"Sean didn't saw a girl running\", 1]\n",
      "['Alfred saw a girl driving a orange car', \"Alfred didn't saw a girl driving\", 1]\n",
      "['Dorothy saw a boy running from a bus going to Cluj-Napoca', \"Dorothy didn't saw a boy running\", 1]\n",
      "['Andre saw Brian driving a ashy bicycle', \"Andre didn't saw Brian driving\", 1]\n"
     ]
    }
   ],
   "source": [
    "all_sentences_5 = []\n",
    "for i in range(int(upper_bound + 1)):\n",
    "    person1 = get_new_item([], name_list)\n",
    "    object_list = [get_new_item([person1], name_list), \"a girl\", \"a boy\"]\n",
    "    direct_object = get_new_item([], object_list)\n",
    "    if i % 2 == 0:\n",
    "        verb = \"running\"\n",
    "        complement = get_new_item([], COMPLEMENT_runnig)\n",
    "    else:\n",
    "        verb = \"driving\"\n",
    "        complement = get_new_item([], COMPLEMENT_driving)\n",
    "    person2 = get_new_item([person1, direct_object], name_list)\n",
    "    color = get_new_item([], color_list)\n",
    "    city = get_new_item([], city_list)\n",
    "    complement = complement.replace(\"PERSON's\", person2 + \"'s\")\n",
    "    complement = complement.replace(\"COLOR\", color)\n",
    "    complement = complement.replace(\"CITY\", city)\n",
    "    sentence = \"{} saw {} {} {},{} didn't saw {} {}\".format(person1,\n",
    "                                                             direct_object,\n",
    "                                                             verb,\n",
    "                                                             complement,\n",
    "                                                             person1,\n",
    "                                                             direct_object,\n",
    "                                                             verb)\n",
    "    all_sentences_5.append(sentence)\n",
    "    \n",
    "all_sentences_5 = [sentence.split(\",\") + [1] for sentence in all_sentences_5]\n",
    "\n",
    "\n",
    "for sentence in all_sentences_5[0:10]:\n",
    "    print(sentence)"
   ]
  },
  {
   "cell_type": "markdown",
   "metadata": {},
   "source": [
    "- 6) **c saw X running COMPLEMENT1, c didn't saw X running  COMPLEMENT2** -- non-contradiction\n",
    "- 6) **c saw X driving COMPLEMENT1, c didn't saw X driving COMPLEMENT2** -- non-contradiction "
   ]
  },
  {
   "cell_type": "code",
   "execution_count": 10,
   "metadata": {},
   "outputs": [
    {
     "name": "stdout",
     "output_type": "stream",
     "text": [
      "['Jesse saw Guy running from a black bus', \" Jesse didn't saw Guy running from Irene's car\", 0]\n",
      "[\"Lynda saw a boy driving Loretta's bicycle\", \" Lynda didn't saw a boy driving a gray bicycle\", 0]\n",
      "['Judy saw a girl running from a orange bus with a new engine', \" Judy didn't saw a girl running from a mango car\", 0]\n",
      "['Isabel saw Carole driving in Baia Mare', \" Isabel didn't saw Carole driving Jeff's car\", 0]\n",
      "['Dwight saw a girl running from a special recently built bus', \" Dwight didn't saw a girl running from a parade car\", 0]\n",
      "['Philip saw a girl driving in Blaj', \" Philip didn't saw a girl driving a icy bicycle\", 0]\n",
      "['Dave saw a boy running from a parade car', \" Dave didn't saw a boy running from Stephen's car\", 0]\n",
      "['Darren saw Catherine driving in Turda', \" Darren didn't saw Catherine driving an electric green bicycle\", 0]\n",
      "['Dan saw a girl running from a special recently built bus', \" Dan didn't saw a girl running from a gray school bus\", 0]\n",
      "['Wayne saw a girl driving a green bicycle', \" Wayne didn't saw a girl driving Derek's car\", 0]\n"
     ]
    }
   ],
   "source": [
    "all_sentences_6 = []\n",
    "for i in range(int(upper_bound + 1)):\n",
    "    person1 = get_new_item([], name_list)\n",
    "    object_list = [get_new_item([person1], name_list), \"a girl\", \"a boy\"]\n",
    "    direct_object = get_new_item([], object_list)\n",
    "    if i % 2 == 0:\n",
    "        verb = \"running\"\n",
    "        COMPLEMENT = COMPLEMENT_runnig \n",
    "    else:\n",
    "        verb = \"driving\"\n",
    "        COMPLEMENT = COMPLEMENT_driving \n",
    "    \n",
    "    complement1 = get_new_item([], COMPLEMENT)\n",
    "    complement2 = get_new_item([complement1], COMPLEMENT)\n",
    "    person2 = get_new_item([person1, direct_object], name_list)\n",
    "    color = get_new_item([], color_list)\n",
    "    city = get_new_item([], city_list)\n",
    "    complement1 = complement1.replace(\"PERSON's\", person2 + \"'s\")\n",
    "    complement1 = complement1.replace(\"COLOR\", color)\n",
    "    complement1 = complement1.replace(\"CITY\", city)\n",
    "    person2 = get_new_item([person1, direct_object, person2], name_list)\n",
    "    color = get_new_item([], color_list)\n",
    "    city = get_new_item([], city_list)\n",
    "    complement2 = complement2.replace(\"PERSON's\", person2 + \"'s\")\n",
    "    complement2 = complement2.replace(\"COLOR\", color)\n",
    "    complement2 = complement2.replace(\"CITY\", city)\n",
    "    sentence = \"{} saw {} {} {}, {} didn't saw {} {} {}\".format(person1,\n",
    "                                                             direct_object,\n",
    "                                                             verb,\n",
    "                                                             complement1,\n",
    "                                                             person1,\n",
    "                                                             direct_object,\n",
    "                                                             verb,\n",
    "                                                             complement2)\n",
    "    all_sentences_6.append(sentence)\n",
    "    \n",
    "all_sentences_6 = [sentence.split(\",\") + [0] for sentence in all_sentences_6]\n",
    "\n",
    "for sentence in all_sentences_6[0:10]:\n",
    "    print(sentence)"
   ]
  },
  {
   "cell_type": "code",
   "execution_count": 11,
   "metadata": {},
   "outputs": [
    {
     "name": "stdout",
     "output_type": "stream",
     "text": [
      "type 1 size = 1833\n",
      "type 2 size = 1833\n",
      "type 3 size = 1833\n",
      "type 4 size = 1833\n",
      "type 5 size = 1834\n",
      "type 6 size = 1834\n",
      "total size = 11000\n"
     ]
    }
   ],
   "source": [
    "np.random.shuffle(all_sentences_1)\n",
    "np.random.shuffle(all_sentences_2)\n",
    "np.random.shuffle(all_sentences_3)\n",
    "np.random.shuffle(all_sentences_4)\n",
    "np.random.shuffle(all_sentences_5)\n",
    "np.random.shuffle(all_sentences_6)\n",
    "\n",
    "\n",
    "size1 = len(all_sentences_1)\n",
    "size2 = len(all_sentences_2)\n",
    "size3 = len(all_sentences_3)\n",
    "size4 = len(all_sentences_4)\n",
    "size5 = len(all_sentences_5)\n",
    "size6 = len(all_sentences_6)\n",
    "\n",
    "\n",
    "all_sentences = all_sentences_1 + all_sentences_2 + all_sentences_3 + all_sentences_4\n",
    "all_sentences += all_sentences_5 + all_sentences_6\n",
    "size = len(all_sentences)\n",
    "\n",
    "print(\"type 1 size = {}\".format(size1))\n",
    "print(\"type 2 size = {}\".format(size2))\n",
    "print(\"type 3 size = {}\".format(size3))\n",
    "print(\"type 4 size = {}\".format(size4))\n",
    "print(\"type 5 size = {}\".format(size5))\n",
    "print(\"type 6 size = {}\".format(size6))\n",
    "print(\"total size = {}\".format(size))"
   ]
  },
  {
   "cell_type": "markdown",
   "metadata": {},
   "source": [
    "### Generating a train DataFrame with 10000 examples and a test DataFrame with 1000 examples "
   ]
  },
  {
   "cell_type": "code",
   "execution_count": 12,
   "metadata": {},
   "outputs": [
    {
     "data": {
      "text/html": [
       "<div>\n",
       "<style scoped>\n",
       "    .dataframe tbody tr th:only-of-type {\n",
       "        vertical-align: middle;\n",
       "    }\n",
       "\n",
       "    .dataframe tbody tr th {\n",
       "        vertical-align: top;\n",
       "    }\n",
       "\n",
       "    .dataframe thead th {\n",
       "        text-align: right;\n",
       "    }\n",
       "</style>\n",
       "<table border=\"1\" class=\"dataframe\">\n",
       "  <thead>\n",
       "    <tr style=\"text-align: right;\">\n",
       "      <th></th>\n",
       "      <th>sentence1</th>\n",
       "      <th>sentence2</th>\n",
       "      <th>label</th>\n",
       "    </tr>\n",
       "  </thead>\n",
       "  <tbody>\n",
       "    <tr>\n",
       "      <th>10995</th>\n",
       "      <td>Manuel, who is a musician, saw the new Marvel ...</td>\n",
       "      <td>Manuel, who is a judge, didn't saw the new Mar...</td>\n",
       "      <td>0</td>\n",
       "    </tr>\n",
       "    <tr>\n",
       "      <th>10996</th>\n",
       "      <td>Angie, who is a journalist, bought a pizza</td>\n",
       "      <td>Angie didn't buy a pizza</td>\n",
       "      <td>1</td>\n",
       "    </tr>\n",
       "    <tr>\n",
       "      <th>10997</th>\n",
       "      <td>Daniel, who is a fireman, bought a Chilean wine</td>\n",
       "      <td>Daniel, Tanya's father, didn't buy a Chilean wine</td>\n",
       "      <td>0</td>\n",
       "    </tr>\n",
       "    <tr>\n",
       "      <th>10998</th>\n",
       "      <td>Morris saw Louise running from a bus going to ...</td>\n",
       "      <td>Morris didn't saw Louise running from a speci...</td>\n",
       "      <td>0</td>\n",
       "    </tr>\n",
       "    <tr>\n",
       "      <th>10999</th>\n",
       "      <td>Pearl, who is a judge, bought the new Tesla Ro...</td>\n",
       "      <td>Pearl didn't buy the new Tesla Roadster</td>\n",
       "      <td>1</td>\n",
       "    </tr>\n",
       "  </tbody>\n",
       "</table>\n",
       "</div>"
      ],
      "text/plain": [
       "                                               sentence1  \\\n",
       "10995  Manuel, who is a musician, saw the new Marvel ...   \n",
       "10996         Angie, who is a journalist, bought a pizza   \n",
       "10997    Daniel, who is a fireman, bought a Chilean wine   \n",
       "10998  Morris saw Louise running from a bus going to ...   \n",
       "10999  Pearl, who is a judge, bought the new Tesla Ro...   \n",
       "\n",
       "                                               sentence2  label  \n",
       "10995  Manuel, who is a judge, didn't saw the new Mar...      0  \n",
       "10996                           Angie didn't buy a pizza      1  \n",
       "10997  Daniel, Tanya's father, didn't buy a Chilean wine      0  \n",
       "10998   Morris didn't saw Louise running from a speci...      0  \n",
       "10999            Pearl didn't buy the new Tesla Roadster      1  "
      ]
     },
     "execution_count": 12,
     "metadata": {},
     "output_type": "execute_result"
    }
   ],
   "source": [
    "sentence_1 = [triple[0] for triple in all_sentences]\n",
    "sentence_2 = [triple[1] for triple in all_sentences]\n",
    "label = [triple[2] for triple in all_sentences]\n",
    "\n",
    "df_dict = {\"sentence1\": sentence_1,\n",
    "           \"sentence2\": sentence_2,\n",
    "           \"label\": label}\n",
    "        \n",
    "df = pd.DataFrame(df_dict)\n",
    "df = df[[\"sentence1\", \"sentence2\", \"label\"]]\n",
    "df = df.sample(frac=1).reset_index(drop=True)\n",
    "\n",
    "df_train = df.iloc[:10000]\n",
    "df_test = df.iloc[10000:]\n",
    "\n",
    "df.tail()    "
   ]
  },
  {
   "cell_type": "markdown",
   "metadata": {},
   "source": [
    "#### Looking at the label distribution"
   ]
  },
  {
   "cell_type": "code",
   "execution_count": 13,
   "metadata": {},
   "outputs": [
    {
     "data": {
      "image/png": "[encoded data removed]",
      "text/plain": [
       "<Figure size 432x288 with 1 Axes>"
      ]
     },
     "metadata": {},
     "output_type": "display_data"
    }
   ],
   "source": [
    "train_label = df_train[\"label\"].values\n",
    "plot_histogram_from_labels(train_label, [\"no\", \"yes\"], \"boolean6_train.png\")"
   ]
  },
  {
   "cell_type": "code",
   "execution_count": 14,
   "metadata": {},
   "outputs": [
    {
     "data": {
      "image/png": "[encoded data removed]",
      "text/plain": [
       "<Figure size 432x288 with 1 Axes>"
      ]
     },
     "metadata": {},
     "output_type": "display_data"
    }
   ],
   "source": [
    "test_label = df_test[\"label\"].values\n",
    "plot_histogram_from_labels(test_label, [\"no\", \"yes\"], \"boolean6_test.png\")"
   ]
  },
  {
   "cell_type": "markdown",
   "metadata": {},
   "source": [
    "### Saving to CSV"
   ]
  },
  {
   "cell_type": "code",
   "execution_count": 15,
   "metadata": {},
   "outputs": [],
   "source": [
    "df_train.to_csv(\"boolean6_train.csv\", index=False)\n",
    "df_test.to_csv(\"boolean6_test.csv\", index=False)"
   ]
  }
 ],
 "metadata": {
  "kernelspec": {
   "display_name": "Python 3",
   "language": "python",
   "name": "python3"
  },
  "language_info": {
   "codemirror_mode": {
    "name": "ipython",
    "version": 3
   },
   "file_extension": ".py",
   "mimetype": "text/x-python",
   "name": "python",
   "nbconvert_exporter": "python",
   "pygments_lexer": "ipython3",
   "version": "3.5.2"
  }
 },
 "nbformat": 4,
 "nbformat_minor": 2
}
