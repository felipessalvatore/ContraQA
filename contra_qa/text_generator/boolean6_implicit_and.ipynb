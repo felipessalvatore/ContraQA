{
 "cells": [
  {
   "cell_type": "markdown",
   "metadata": {},
   "source": [
    "# Dataset boolean6: implicit conjunction - different predicates applied on a person (reference problem)\n",
    "\n",
    "Generating sentences of the form\n",
    "\n",
    "- 1) **c, who is a PROFESSION, saw X, c didn't saw X** -- contradiction \n",
    "- 1) **c, who is a PROFESSION, visit d, c didn't  visit d ** -- contradiction\n",
    "- 1) **c, who is a PROFESSION, bought Y, c didn't  buy Y ** -- contradiction \n",
    "\n",
    "\n",
    "- 2) **c, who is a PROFESSION, saw X, c isn't a PROFESSION ** -- contradiction\n",
    "- 2) **c, who is a PROFESSION, visit d, c isn't a PROFESSION ** -- contradiction\n",
    "- 2) **c, who is a PROFESSION, bought Y, c isn't a PROFESSION ** -- contradiction\n",
    "\n",
    "\n",
    "- 3) **c, who is a PROFESSION1, saw X, c, who is a PROFESSION2, didn't saw X**  -- non-contradiction\n",
    "- 3) **c, who is a PROFESSION1, visit d, c, who is a PROFESSION2, didn't visit d**  -- non-contradiction\n",
    "- 3) **c, who is a PROFESSION1, bought Y, c, who is a PROFESSION2, didn't bought Y**  -- non-contradiction\n",
    "\n",
    "\n",
    "- 4) **c, who is a PROFESSION, saw X, c, e's father (mother), didn't saw X** -- non-contradiction\n",
    "- 4) **c, who is a PROFESSION, visit d, c, e's father (mother), didn't visit d** -- non-contradiction\n",
    "- 4) **c, who is a PROFESSION, bought Y, c, e's father (mother), didn't bought Y** -- non-contradiction\n",
    "\n",
    "\n",
    "- 5) **c saw Z running COMPLEMENT, c didn't saw Z running** -- contradiction \n",
    "- 5) **c saw Z driving COMPLEMENT, c didn't saw Z driving** -- contradiction \n",
    "\n",
    "\n",
    "\n",
    "- 6) **c saw X running COMPLEMENT1, c didn't saw X running  COMPLEMENT2** -- non-contradiction\n",
    "- 6) **c saw X driving COMPLEMENT1, c didn't saw X driving COMPLEMENT2** -- non-contradiction \n",
    "\n",
    "\n",
    "X = [a girl running, a blue plane, the new Tesla sport car, the new Marvel movie, a dog chasing a cat, etc.]\n",
    "\n",
    "Y = [the new Tesla Roadster, etc.]\n",
    "\n",
    "Z = [name, a girl, a boy]\n",
    "\n"
   ]
  },
  {
   "cell_type": "code",
   "execution_count": 5,
   "metadata": {},
   "outputs": [],
   "source": [
    "import numpy as np\n",
    "import pandas as pd\n",
    "from word_lists import male_names, female_names, name_list\n",
    "from word_lists import professions, color_list, city_list\n",
    "import os\n",
    "import inspect\n",
    "import sys\n",
    "import itertools\n",
    "\n",
    "almost_current = os.path.abspath(inspect.getfile(inspect.currentframe()))\n",
    "currentdir = os.path.dirname(almost_current)\n",
    "parentdir = os.path.dirname(currentdir)\n",
    "sys.path.insert(0, parentdir)\n",
    "\n",
    "from plots.functions import plot_histogram_from_labels # noqa\n",
    "\n",
    "% matplotlib inline"
   ]
  },
  {
   "cell_type": "code",
   "execution_count": 6,
   "metadata": {},
   "outputs": [],
   "source": [
    "def get_new_item(item_list, src_list):\n",
    "    size = len(src_list)\n",
    "    new_item = src_list[np.random.choice(size)]\n",
    "    while new_item in item_list: \n",
    "        new_i = np.random.choice(size)\n",
    "        new_item = src_list[new_i]\n",
    "    return new_item"
   ]
  },
  {
   "cell_type": "code",
   "execution_count": 7,
   "metadata": {},
   "outputs": [],
   "source": [
    "for i in range(len(name_list)):\n",
    "    name = get_new_item([], name_list)\n",
    "    new_name = get_new_item([name], name_list)\n",
    "    assert name != new_name and name in name_list and new_name in name_list"
   ]
  },
  {
   "cell_type": "code",
   "execution_count": 8,
   "metadata": {},
   "outputs": [],
   "source": [
    "upper_bound = 11000 / 6\n",
    "\n",
    "COMPLEMENT_runnig = [\"from a parade car\",\n",
    "                     \"from PERSON's car\",\n",
    "                      \"from a COLOR car\",\n",
    "                      \"from a COLOR bus\",\n",
    "                      \"from a special recently built bus\",\n",
    "                      \"from a COLOR school bus\",\n",
    "                      \"from a bus going to CITY\",\n",
    "                      \"from a COLOR bus with a new engine\"]\n",
    "\n",
    "COMPLEMENT_driving = [\"a COLOR car\",\n",
    "                      \"in CITY\",\n",
    "                      \"PERSON's car\",\n",
    "                      \"a COLOR bicicle\",\n",
    "                      \"PERSON's bicicle\",\n",
    "                      \"an eletric COLOR bicicle\",\n",
    "                      \"PERSON's new Tesla Roadster\"]\n",
    "\n",
    "what_I_see = [\"a girl running\",\n",
    "              \"a blue plane\",\n",
    "              \"the new Tesla Roadster\",\n",
    "              \"the new Marvel movie from the Russo Brothers\", \n",
    "              \"a dog chasing a cat\",\n",
    "              \"the accident\",\n",
    "              \"the car crash\",\n",
    "              \"a strange add\",\n",
    "              \"the city mayor\"]\n",
    "\n",
    "what_I_buy = [\"the new Tesla Roadster\",\n",
    "              \"the new Marvel movie from the Russo Brothers\",\n",
    "              \"a Chilean wine\",\n",
    "              \"a Macbook\",\n",
    "              \"a cup of coffee\",\n",
    "              \"a pizza\",\n",
    "              \"a japanese novel\"]"
   ]
  },
  {
   "cell_type": "markdown",
   "metadata": {},
   "source": [
    "- 1) **c, who is a PROFESSION, saw X, c didn't saw X** -- contradiction \n",
    "- 1) **c, who is a PROFESSION, visit d, c didn't  visit d ** -- contradiction\n",
    "- 1) **c, who is a PROFESSION, bought Y, c didn't  buy Y ** -- contradiction "
   ]
  },
  {
   "cell_type": "code",
   "execution_count": 9,
   "metadata": {},
   "outputs": [
    {
     "name": "stdout",
     "output_type": "stream",
     "text": [
      "['Naomi, who is a dentist, saw the new Marvel movie from the Russo Brothers', \"Naomi didn't saw the new Marvel movie from the Russo Brothers\", 1]\n",
      "['Jeffrey, who is a flight attendant, visit Harriet', \"Jeffrey didn't visit Harriet\", 1]\n",
      "['Scott, who is a lawyer, bought a cup of coffee', \"Scott didn't buy a cup of coffee\", 1]\n",
      "['Darren, who is a accountant, saw a dog chasing a cat', \"Darren didn't saw a dog chasing a cat\", 1]\n",
      "['Suzanne, who is a receptionist, visit Pearl', \"Suzanne didn't visit Pearl\", 1]\n",
      "['Brandon, who is a engineer, bought a pizza', \"Brandon didn't buy a pizza\", 1]\n",
      "['Dennis, who is a pilot, saw a girl running', \"Dennis didn't saw a girl running\", 1]\n",
      "['Christopher, who is a cop, visit Ken', \"Christopher didn't visit Ken\", 1]\n",
      "['Jason, who is a baker, bought a Chilean wine', \"Jason didn't buy a Chilean wine\", 1]\n",
      "['Maurice, who is a plumber, saw a strange add', \"Maurice didn't saw a strange add\", 1]\n"
     ]
    }
   ],
   "source": [
    "all_sentences_1 = []\n",
    "for i in range(int(upper_bound)):\n",
    "    person1 = get_new_item([], name_list)\n",
    "    person2 = get_new_item([person1], name_list)\n",
    "    buy = get_new_item([], what_I_buy)\n",
    "    see = get_new_item([], what_I_see)\n",
    "    profession = get_new_item([], professions)\n",
    "    if i % 3 == 0:\n",
    "        sentence = \"{}, who is a {}, saw {};{} didn't saw {}\".format(person1, profession, see, person1, see)\n",
    "    elif i % 3 ==1:\n",
    "        sentence = \"{}, who is a {}, visit {};{} didn't visit {}\".format(person1, profession, person2, person1, person2)\n",
    "    else:\n",
    "        sentence = \"{}, who is a {}, bought {};{} didn't buy {}\".format(person1, profession, buy, person1, buy)\n",
    "    all_sentences_1.append(sentence)\n",
    "\n",
    "all_sentences_1 = [sentence.split(\";\") + [1] for sentence in all_sentences_1]\n",
    "\n",
    "for sentence in all_sentences_1[0:10]:\n",
    "    print(sentence)"
   ]
  },
  {
   "cell_type": "markdown",
   "metadata": {},
   "source": [
    "- 2) **c, who is a PROFESSION, saw X, c isn't a PROFESSION ** -- contradiction\n",
    "- 2) **c, who is a PROFESSION, visit d, c isn't a PROFESSION ** -- contradiction\n",
    "- 2) **c, who is a PROFESSION, bought Y, c isn't a PROFESSION ** -- contradiction"
   ]
  },
  {
   "cell_type": "code",
   "execution_count": 10,
   "metadata": {},
   "outputs": [
    {
     "name": "stdout",
     "output_type": "stream",
     "text": [
      "['Lance, who is a nurse, saw the accident', \"Lance isn't a nurse\", 1]\n",
      "['Gloria, who is a scientist, visit Darryl', \"Gloria isn't a scientist\", 1]\n",
      "['Glenn, who is a engineer, bought the new Tesla Roadster', \"Glenn isn't a engineer\", 1]\n",
      "['Holly, who is a judge, saw a dog chasing a cat', \"Holly isn't a judge\", 1]\n",
      "['Mattie, who is a baker, visit Darlene', \"Mattie isn't a baker\", 1]\n",
      "['Alvin, who is a plumber, bought the new Marvel movie from the Russo Brothers', \"Alvin isn't a plumber\", 1]\n",
      "['Karl, who is a engineer, saw the city mayor', \"Karl isn't a engineer\", 1]\n",
      "['Lola, who is a journalist, visit Joy', \"Lola isn't a journalist\", 1]\n",
      "['Paula, who is a butcher, bought a Chilean wine', \"Paula isn't a butcher\", 1]\n",
      "['Willie, who is a chef, saw a girl running', \"Willie isn't a chef\", 1]\n"
     ]
    }
   ],
   "source": [
    "all_sentences_2 = []\n",
    "for i in range(int(upper_bound)):\n",
    "    person1 = get_new_item([], name_list)\n",
    "    person2 = get_new_item([person1], name_list)\n",
    "    buy = get_new_item([], what_I_buy)\n",
    "    see = get_new_item([], what_I_see)\n",
    "    profession = get_new_item([], professions)\n",
    "    if i % 3 == 0:\n",
    "        sentence = \"{}, who is a {}, saw {};{} isn't a {}\".format(person1, profession, see, person1, profession)\n",
    "    elif i % 3 ==1:\n",
    "        sentence = \"{}, who is a {}, visit {};{} isn't a {}\".format(person1, profession, person2, person1, profession)\n",
    "    else:\n",
    "        sentence = \"{}, who is a {}, bought {};{} isn't a {}\".format(person1, profession, buy, person1, profession)\n",
    "    all_sentences_2.append(sentence)\n",
    "\n",
    "all_sentences_2 = [sentence.split(\";\") + [1] for sentence in all_sentences_2]\n",
    "\n",
    "for sentence in all_sentences_2[0:10]:\n",
    "    print(sentence)"
   ]
  },
  {
   "cell_type": "markdown",
   "metadata": {},
   "source": [
    "- 3) **c, who is a PROFESSION1, saw X, c, who is a PROFESSION2, didn't saw X**  -- non-contradiction\n",
    "- 3) **c, who is a PROFESSION1, visit d, c, who is a PROFESSION2, didn't visit d**  -- non-contradiction\n",
    "- 3) **c, who is a PROFESSION1, bought Y, c, who is a PROFESSION2, didn't bought Y**  -- non-contradiction"
   ]
  },
  {
   "cell_type": "code",
   "execution_count": 11,
   "metadata": {},
   "outputs": [
    {
     "name": "stdout",
     "output_type": "stream",
     "text": [
      "['Hugh, who is a accountant, saw a girl running', \"Hugh, who is a cleaner, didn't saw a girl running\", 0]\n",
      "['Stella, who is a vet, visit Franklin', \"Stella, who is a plumber, didn't visit Franklin\", 0]\n",
      "['Kathryn, who is a nurse, bought a cup of coffee', \"Kathryn, who is a cashier, didn't buy a cup of coffee\", 0]\n",
      "['Terrance, who is a plumber, saw a strange add', \"Terrance, who is a receptionist, didn't saw a strange add\", 0]\n",
      "['Roger, who is a chef, visit Lonnie', \"Roger, who is a technician, didn't visit Lonnie\", 0]\n",
      "['Melanie, who is a plumber, bought a pizza', \"Melanie, who is a painter, didn't buy a pizza\", 0]\n",
      "['Matthew, who is a photographer, saw the car crash', \"Matthew, who is a doctor, didn't saw the car crash\", 0]\n",
      "['Shelley, who is a builder, visit Esther', \"Shelley, who is a scientist, didn't visit Esther\", 0]\n",
      "['Tonya, who is a technician, bought the new Tesla Roadster', \"Tonya, who is a dentist, didn't buy the new Tesla Roadster\", 0]\n",
      "['Erin, who is a accountant, saw the car crash', \"Erin, who is a baker, didn't saw the car crash\", 0]\n"
     ]
    }
   ],
   "source": [
    "all_sentences_3 = []\n",
    "for i in range(int(upper_bound)):\n",
    "    person1 = get_new_item([], name_list)\n",
    "    person2 = get_new_item([person1], name_list)\n",
    "    buy = get_new_item([], what_I_buy)\n",
    "    see = get_new_item([], what_I_see)\n",
    "    profession1 = get_new_item([], professions)\n",
    "    profession2 = get_new_item([profession1], professions)\n",
    "    assert profession1 != profession2 \n",
    "    if i % 3 == 0:\n",
    "        sentence = \"{}, who is a {}, saw {};{}, who is a {}, didn't saw {}\".format(person1, profession1, see, person1, profession2, see)\n",
    "    elif i % 3 ==1:\n",
    "        sentence = \"{}, who is a {}, visit {};{}, who is a {}, didn't visit {}\".format(person1, profession1, person2, person1, profession2, person2)\n",
    "    else:\n",
    "        sentence = \"{}, who is a {}, bought {};{}, who is a {}, didn't buy {}\".format(person1, profession1, buy, person1, profession2, buy)\n",
    "    all_sentences_3.append(sentence)\n",
    "\n",
    "all_sentences_3 = [sentence.split(\";\") + [0] for sentence in all_sentences_3]\n",
    "\n",
    "for sentence in all_sentences_3[0:10]:\n",
    "    print(sentence)"
   ]
  },
  {
   "cell_type": "markdown",
   "metadata": {},
   "source": [
    "- 4) **c, who is a PROFESSION, saw X, c, e's father (mother), didn't saw X** -- non-contradiction\n",
    "- 4) **c, who is a PROFESSION, visit d, c, e's father (mother), didn't visit d** -- non-contradiction\n",
    "- 4) **c, who is a PROFESSION, bought Y, c, e's father (mother), didn't bought Y** -- non-contradiction"
   ]
  },
  {
   "cell_type": "code",
   "execution_count": 12,
   "metadata": {},
   "outputs": [
    {
     "name": "stdout",
     "output_type": "stream",
     "text": [
      "['Dolores, who is a secretary, saw the city mayor', \"Dolores, Eileen's mother, didn't saw the city mayor\", 0]\n",
      "['Freddie, who is a builder, visit Jane', \"Freddie, Iris's father, didn't visit Jane\", 0]\n",
      "['Mabel, who is a nurse, bought the new Tesla Roadster', \"Mabel, Victoria's mother, didn't buy the new Tesla Roadster\", 0]\n",
      "['Joshua, who is a secretary, saw the city mayor', \"Joshua, Nellie's father, didn't saw the city mayor\", 0]\n",
      "['Cynthia, who is a vet, visit Faye', \"Cynthia, Tom's mother, didn't visit Faye\", 0]\n",
      "['Bobby, who is a scientist, bought a cup of coffee', \"Bobby, Heidi's father, didn't buy a cup of coffee\", 0]\n",
      "['Lena, who is a dentist, saw the accident', \"Lena, Rodney's mother, didn't saw the accident\", 0]\n",
      "['Nathaniel, who is a secretary, visit Lindsey', \"Nathaniel, Clayton's father, didn't visit Lindsey\", 0]\n",
      "['Esther, who is a nurse, bought the new Marvel movie from the Russo Brothers', \"Esther, Steven's mother, didn't buy the new Marvel movie from the Russo Brothers\", 0]\n",
      "['Kyle, who is a vet, saw the new Tesla Roadster', \"Kyle, Sergio's father, didn't saw the new Tesla Roadster\", 0]\n"
     ]
    }
   ],
   "source": [
    "all_sentences_4 = []\n",
    "for i in range(int(upper_bound)):\n",
    "    if i % 2 == 0:\n",
    "        person1 = get_new_item([], female_names)\n",
    "        parent = \"mother\"\n",
    "    else:\n",
    "        person1 = get_new_item([], male_names)\n",
    "        parent = \"father\"\n",
    "    person2 = get_new_item([person1], name_list)\n",
    "    person3 = get_new_item([person1, person2], name_list)\n",
    "    buy = get_new_item([], what_I_buy)\n",
    "    see = get_new_item([], what_I_see)\n",
    "    profession1 = get_new_item([], professions)\n",
    "    profession2 = get_new_item([profession1], professions)\n",
    "    if i % 3 == 0:\n",
    "        sentence = \"{}, who is a {}, saw {};{}, {}'s {}, didn't saw {}\".format(person1, profession1, see, person1, person3, parent, see)\n",
    "    elif i % 3 ==1:\n",
    "        sentence = \"{}, who is a {}, visit {};{}, {}'s {}, didn't visit {}\".format(person1, profession1, person2, person1,person3, parent,person2)\n",
    "    else:\n",
    "        sentence = \"{}, who is a {}, bought {};{}, {}'s {}, didn't buy {}\".format(person1, profession1, buy, person1, person3, parent, buy)\n",
    "    all_sentences_4.append(sentence)\n",
    "\n",
    "all_sentences_4 = [sentence.split(\";\") + [0] for sentence in all_sentences_4]\n",
    "\n",
    "for sentence in all_sentences_4[0:10]:\n",
    "    print(sentence)"
   ]
  },
  {
   "cell_type": "markdown",
   "metadata": {},
   "source": [
    "- 5) **c saw X running COMPLEMENT, c didn't saw X running** -- contradiction \n",
    "- 5) **c saw X driving COMPLEMENT, c didn't saw X driving** -- contradiction "
   ]
  },
  {
   "cell_type": "code",
   "execution_count": 16,
   "metadata": {},
   "outputs": [
    {
     "name": "stdout",
     "output_type": "stream",
     "text": [
      "['Alfred saw Eric running from a black bus', \"Alfred didn't saw Eric running\", 1]\n",
      "[\"Anita saw a boy driving Vivian's bicicle\", \"Anita didn't saw a boy driving\", 1]\n",
      "[\"Harvey saw Hugh running from Tara's car\", \"Harvey didn't saw Hugh running\", 1]\n",
      "[\"Elsie saw Viola driving Megan's bicicle\", \"Elsie didn't saw Viola driving\", 1]\n",
      "['Felix saw Melody running from a bus going to Baia Mare', \"Felix didn't saw Melody running\", 1]\n",
      "['Georgia saw Richard driving in Slatina', \"Georgia didn't saw Richard driving\", 1]\n",
      "['Jeanette saw a boy running from a parade car', \"Jeanette didn't saw a boy running\", 1]\n",
      "[\"Vernon saw a girl driving Edna's car\", \"Vernon didn't saw a girl driving\", 1]\n",
      "['Joseph saw Barbara running from a mango school bus', \"Joseph didn't saw Barbara running\", 1]\n",
      "['Norma saw a boy driving a lemon bicicle', \"Norma didn't saw a boy driving\", 1]\n"
     ]
    }
   ],
   "source": [
    "all_sentences_5 = []\n",
    "for i in range(int(upper_bound + 1)):\n",
    "    person1 = get_new_item([], name_list)\n",
    "    object_list = [get_new_item([person1], name_list), \"a girl\", \"a boy\"]\n",
    "    direct_object = get_new_item([], object_list)\n",
    "    if i % 2 == 0:\n",
    "        verb = \"running\"\n",
    "        complement = get_new_item([], COMPLEMENT_runnig)\n",
    "    else:\n",
    "        verb = \"driving\"\n",
    "        complement = get_new_item([], COMPLEMENT_driving)\n",
    "    person2 = get_new_item([person1, direct_object], name_list)\n",
    "    color = get_new_item([], color_list)\n",
    "    city = get_new_item([], city_list)\n",
    "    complement = complement.replace(\"PERSON's\", person2 + \"'s\")\n",
    "    complement = complement.replace(\"COLOR\", color)\n",
    "    complement = complement.replace(\"CITY\", city)\n",
    "    sentence = \"{} saw {} {} {},{} didn't saw {} {}\".format(person1,\n",
    "                                                             direct_object,\n",
    "                                                             verb,\n",
    "                                                             complement,\n",
    "                                                             person1,\n",
    "                                                             direct_object,\n",
    "                                                             verb)\n",
    "    all_sentences_5.append(sentence)\n",
    "    \n",
    "all_sentences_5 = [sentence.split(\",\") + [1] for sentence in all_sentences_5]\n",
    "\n",
    "\n",
    "for sentence in all_sentences_5[0:10]:\n",
    "    print(sentence)"
   ]
  },
  {
   "cell_type": "markdown",
   "metadata": {},
   "source": [
    "- 6) **c saw X running COMPLEMENT1, c didn't saw X running  COMPLEMENT2** -- non-contradiction\n",
    "- 6) **c saw X driving COMPLEMENT1, c didn't saw X driving COMPLEMENT2** -- non-contradiction "
   ]
  },
  {
   "cell_type": "code",
   "execution_count": 17,
   "metadata": {},
   "outputs": [
    {
     "name": "stdout",
     "output_type": "stream",
     "text": [
      "['Marc saw Alma running from a bus going to Reghin', \" Marc didn't saw Alma running from a lemon school bus\", 0]\n",
      "['Felix saw Leslie driving an eletric icy bicicle', \" Felix didn't saw Leslie driving a purple car\", 0]\n",
      "['Lillian saw Phyllis running from a bus going to Cluj-Napoca', \" Lillian didn't saw Phyllis running from a white bus\", 0]\n",
      "['Erica saw Brandon driving a yellow bicicle', \" Erica didn't saw Brandon driving a blue car\", 0]\n",
      "[\"Susan saw Lance running from Ernest's car\", \" Susan didn't saw Lance running from a blue car\", 0]\n",
      "['Julio saw Justin driving a orange car', \" Julio didn't saw Justin driving a yellow bicicle\", 0]\n",
      "[\"Maureen saw a boy running from Dustin's car\", \" Maureen didn't saw a boy running from a blue bus with a new engine\", 0]\n",
      "['Daisy saw Vickie driving a salmon bicicle', \" Daisy didn't saw Vickie driving a white car\", 0]\n",
      "['Jenny saw a boy running from a black bus', \" Jenny didn't saw a boy running from Eunice's car\", 0]\n",
      "[\"Beatrice saw a boy driving Wanda's new Tesla Roadster\", \" Beatrice didn't saw a boy driving an eletric black bicicle\", 0]\n"
     ]
    }
   ],
   "source": [
    "all_sentences_6 = []\n",
    "for i in range(int(upper_bound + 1)):\n",
    "    person1 = get_new_item([], name_list)\n",
    "    object_list = [get_new_item([person1], name_list), \"a girl\", \"a boy\"]\n",
    "    direct_object = get_new_item([], object_list)\n",
    "    if i % 2 == 0:\n",
    "        verb = \"running\"\n",
    "        COMPLEMENT = COMPLEMENT_runnig \n",
    "    else:\n",
    "        verb = \"driving\"\n",
    "        COMPLEMENT = COMPLEMENT_driving \n",
    "    \n",
    "    complement1 = get_new_item([], COMPLEMENT)\n",
    "    complement2 = get_new_item([complement1], COMPLEMENT)\n",
    "    person2 = get_new_item([person1, direct_object], name_list)\n",
    "    color = get_new_item([], color_list)\n",
    "    city = get_new_item([], city_list)\n",
    "    complement1 = complement1.replace(\"PERSON's\", person2 + \"'s\")\n",
    "    complement1 = complement1.replace(\"COLOR\", color)\n",
    "    complement1 = complement1.replace(\"CITY\", city)\n",
    "    person2 = get_new_item([person1, direct_object, person2], name_list)\n",
    "    color = get_new_item([], color_list)\n",
    "    city = get_new_item([], city_list)\n",
    "    complement2 = complement2.replace(\"PERSON's\", person2 + \"'s\")\n",
    "    complement2 = complement2.replace(\"COLOR\", color)\n",
    "    complement2 = complement2.replace(\"CITY\", city)\n",
    "    sentence = \"{} saw {} {} {}, {} didn't saw {} {} {}\".format(person1,\n",
    "                                                             direct_object,\n",
    "                                                             verb,\n",
    "                                                             complement1,\n",
    "                                                             person1,\n",
    "                                                             direct_object,\n",
    "                                                             verb,\n",
    "                                                             complement2)\n",
    "    all_sentences_6.append(sentence)\n",
    "    \n",
    "all_sentences_6 = [sentence.split(\",\") + [0] for sentence in all_sentences_6]\n",
    "\n",
    "for sentence in all_sentences_6[0:10]:\n",
    "    print(sentence)"
   ]
  },
  {
   "cell_type": "code",
   "execution_count": 18,
   "metadata": {},
   "outputs": [
    {
     "name": "stdout",
     "output_type": "stream",
     "text": [
      "type 1 size = 1833\n",
      "type 2 size = 1833\n",
      "type 3 size = 1833\n",
      "type 4 size = 1833\n",
      "type 5 size = 1834\n",
      "type 6 size = 1834\n",
      "total size = 11000\n"
     ]
    }
   ],
   "source": [
    "np.random.shuffle(all_sentences_1)\n",
    "np.random.shuffle(all_sentences_2)\n",
    "np.random.shuffle(all_sentences_3)\n",
    "np.random.shuffle(all_sentences_4)\n",
    "np.random.shuffle(all_sentences_5)\n",
    "np.random.shuffle(all_sentences_6)\n",
    "\n",
    "\n",
    "size1 = len(all_sentences_1)\n",
    "size2 = len(all_sentences_2)\n",
    "size3 = len(all_sentences_3)\n",
    "size4 = len(all_sentences_4)\n",
    "size5 = len(all_sentences_5)\n",
    "size6 = len(all_sentences_6)\n",
    "\n",
    "\n",
    "all_sentences = all_sentences_1 + all_sentences_2 + all_sentences_3 + all_sentences_4\n",
    "all_sentences += all_sentences_5 + all_sentences_6\n",
    "size = len(all_sentences)\n",
    "\n",
    "print(\"type 1 size = {}\".format(size1))\n",
    "print(\"type 2 size = {}\".format(size2))\n",
    "print(\"type 3 size = {}\".format(size3))\n",
    "print(\"type 4 size = {}\".format(size4))\n",
    "print(\"type 5 size = {}\".format(size5))\n",
    "print(\"type 6 size = {}\".format(size6))\n",
    "print(\"total size = {}\".format(size))"
   ]
  },
  {
   "cell_type": "markdown",
   "metadata": {},
   "source": [
    "### Generating a train DataFrame with 10000 examples and a test DataFrame with 1000 examples "
   ]
  },
  {
   "cell_type": "code",
   "execution_count": 19,
   "metadata": {},
   "outputs": [
    {
     "data": {
      "text/html": [
       "<div>\n",
       "<style scoped>\n",
       "    .dataframe tbody tr th:only-of-type {\n",
       "        vertical-align: middle;\n",
       "    }\n",
       "\n",
       "    .dataframe tbody tr th {\n",
       "        vertical-align: top;\n",
       "    }\n",
       "\n",
       "    .dataframe thead th {\n",
       "        text-align: right;\n",
       "    }\n",
       "</style>\n",
       "<table border=\"1\" class=\"dataframe\">\n",
       "  <thead>\n",
       "    <tr style=\"text-align: right;\">\n",
       "      <th></th>\n",
       "      <th>sentence1</th>\n",
       "      <th>sentence2</th>\n",
       "      <th>label</th>\n",
       "    </tr>\n",
       "  </thead>\n",
       "  <tbody>\n",
       "    <tr>\n",
       "      <th>10995</th>\n",
       "      <td>Priscilla saw Derrick driving Barry's car</td>\n",
       "      <td>Priscilla didn't saw Derrick driving an eletr...</td>\n",
       "      <td>0</td>\n",
       "    </tr>\n",
       "    <tr>\n",
       "      <th>10996</th>\n",
       "      <td>Linda, who is a cop, saw a blue plane</td>\n",
       "      <td>Linda, Ashley's mother, didn't saw a blue plane</td>\n",
       "      <td>0</td>\n",
       "    </tr>\n",
       "    <tr>\n",
       "      <th>10997</th>\n",
       "      <td>Christian, who is a carpenter, bought a pizza</td>\n",
       "      <td>Christian, Antonio's father, didn't buy a pizza</td>\n",
       "      <td>0</td>\n",
       "    </tr>\n",
       "    <tr>\n",
       "      <th>10998</th>\n",
       "      <td>Josephine saw a boy driving a salmon bicicle</td>\n",
       "      <td>Josephine didn't saw a boy driving Ada's bicicle</td>\n",
       "      <td>0</td>\n",
       "    </tr>\n",
       "    <tr>\n",
       "      <th>10999</th>\n",
       "      <td>Christine, who is a plumber, bought the new Te...</td>\n",
       "      <td>Christine, who is a journalist, didn't buy the...</td>\n",
       "      <td>0</td>\n",
       "    </tr>\n",
       "  </tbody>\n",
       "</table>\n",
       "</div>"
      ],
      "text/plain": [
       "                                               sentence1  \\\n",
       "10995          Priscilla saw Derrick driving Barry's car   \n",
       "10996              Linda, who is a cop, saw a blue plane   \n",
       "10997      Christian, who is a carpenter, bought a pizza   \n",
       "10998       Josephine saw a boy driving a salmon bicicle   \n",
       "10999  Christine, who is a plumber, bought the new Te...   \n",
       "\n",
       "                                               sentence2  label  \n",
       "10995   Priscilla didn't saw Derrick driving an eletr...      0  \n",
       "10996    Linda, Ashley's mother, didn't saw a blue plane      0  \n",
       "10997    Christian, Antonio's father, didn't buy a pizza      0  \n",
       "10998   Josephine didn't saw a boy driving Ada's bicicle      0  \n",
       "10999  Christine, who is a journalist, didn't buy the...      0  "
      ]
     },
     "execution_count": 19,
     "metadata": {},
     "output_type": "execute_result"
    }
   ],
   "source": [
    "sentence_1 = [triple[0] for triple in all_sentences]\n",
    "sentence_2 = [triple[1] for triple in all_sentences]\n",
    "label = [triple[2] for triple in all_sentences]\n",
    "\n",
    "df_dict = {\"sentence1\": sentence_1,\n",
    "           \"sentence2\": sentence_2,\n",
    "           \"label\": label}\n",
    "        \n",
    "df = pd.DataFrame(df_dict)\n",
    "df = df[[\"sentence1\", \"sentence2\", \"label\"]]\n",
    "df = df.sample(frac=1).reset_index(drop=True)\n",
    "\n",
    "df_train = df.iloc[:10000]\n",
    "df_test = df.iloc[10000:]\n",
    "\n",
    "df.tail()    "
   ]
  },
  {
   "cell_type": "markdown",
   "metadata": {},
   "source": [
    "#### Looking at the label distribution"
   ]
  },
  {
   "cell_type": "code",
   "execution_count": 20,
   "metadata": {},
   "outputs": [
    {
     "data": {
      "image/png": "[encoded data removed]",
      "text/plain": [
       "<Figure size 432x288 with 1 Axes>"
      ]
     },
     "metadata": {},
     "output_type": "display_data"
    }
   ],
   "source": [
    "train_label = df_train[\"label\"].values\n",
    "plot_histogram_from_labels(train_label, [\"no\", \"yes\"], \"boolean6_train.png\")"
   ]
  },
  {
   "cell_type": "code",
   "execution_count": 21,
   "metadata": {},
   "outputs": [
    {
     "data": {
      "image/png": "[encoded data removed]",
      "text/plain": [
       "<Figure size 432x288 with 1 Axes>"
      ]
     },
     "metadata": {},
     "output_type": "display_data"
    }
   ],
   "source": [
    "test_label = df_test[\"label\"].values\n",
    "plot_histogram_from_labels(test_label, [\"no\", \"yes\"], \"boolean6_test.png\")"
   ]
  },
  {
   "cell_type": "markdown",
   "metadata": {},
   "source": [
    "### Saving to CSV"
   ]
  },
  {
   "cell_type": "code",
   "execution_count": 22,
   "metadata": {},
   "outputs": [],
   "source": [
    "df_train.to_csv(\"boolean6_train.csv\", index=False)\n",
    "df_test.to_csv(\"boolean6_test.csv\", index=False)"
   ]
  }
 ],
 "metadata": {
  "kernelspec": {
   "display_name": "Python 3",
   "language": "python",
   "name": "python3"
  },
  "language_info": {
   "codemirror_mode": {
    "name": "ipython",
    "version": 3
   },
   "file_extension": ".py",
   "mimetype": "text/x-python",
   "name": "python",
   "nbconvert_exporter": "python",
   "pygments_lexer": "ipython3",
   "version": "3.5.2"
  }
 },
 "nbformat": 4,
 "nbformat_minor": 2
}
