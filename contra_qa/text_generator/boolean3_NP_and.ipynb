{
 "cells": [
  {
   "cell_type": "markdown",
   "metadata": {},
   "source": [
    "# Dataset boolean3: NP conjoined by and\n",
    "\n",
    "Generating sentences of the form\n",
    "\n",
    "- 1) **c has traveled to X and Y, c didn't travel to X** (contradiction)\n",
    "- 1) **c went to X and Y, c didn't go to X** (contradiction)\n",
    "- 1) **c has visited X and Y, c didn't visit X** (contradiction)\n",
    "\n",
    "\n",
    "- 2) **c has traveled to X and Y, c didn't travel to Y** (contradiction)\n",
    "- 2) **c went to X and Y, c didn't go to Y** (contradiction)\n",
    "- 2) **c has visited X and Y, c didn't visit Y** (contradiction)\n",
    "\n",
    "\n",
    "- 3) **c has traveled to X and Y, c didn't travel to W ** (non-contradiction)\n",
    "- 3) **c went to X and Y, c didn't go to W** (non-contradiction)\n",
    "- 3) **c has visited X and Y, c didn't visit W** (non-contradiction)\n",
    "\n",
    "\n",
    "- 4) **c has traveled to X and Y, d didn't travel to X (Y)** (non-contradiction)\n",
    "- 4) **c went to X and Y, d didn't go to X (Y)** (non-contradiction)\n",
    "- 4) **c has visited X and Y, d didn't visit X (Y)** (non-contradiction)\n",
    "\n",
    "\n",
    "- 5) **c and d have traveled to X, c didn't travel to X** (contradiction)\n",
    "- 5) **c and d went to X, c didn't go to X** (contradiction)\n",
    "- 5) **c and d have visited X, c didn't visit X** (contradiction)\n",
    "\n",
    "\n",
    "- 6) **c and d have traveled to X, d didn't travel to X** (contradiction)\n",
    "- 6) **c and d went to X, d didn't go to X** (contradiction)\n",
    "- 6) **c and d have visited X, d didn't visit X** (contradiction)\n",
    "\n",
    "\n",
    "- 7) **c and d have traveled to X, c didn't travel to Y ** (non-contradiction)\n",
    "- 7) **c and d went to X, c didn't go to Y** (non-contradiction)\n",
    "- 7) **c and d have visited X, c didn't visit Y** (non-contradiction)\n",
    "\n",
    "\n",
    "- 8) **c and d have traveled to X, e didn't travel to X** (non-contradiction)\n",
    "- 8) **c and d went to X, e didn't go to X** (non-contradiction)\n",
    "- 8) **c and d have visited X, e didn't visit X** (non-contradiction)"
   ]
  },
  {
   "cell_type": "code",
   "execution_count": 1,
   "metadata": {},
   "outputs": [
    {
     "name": "stderr",
     "output_type": "stream",
     "text": [
      "/usr/lib/python3.5/importlib/_bootstrap.py:222: RuntimeWarning: numpy.dtype size changed, may indicate binary incompatibility. Expected 96, got 88\n",
      "  return f(*args, **kwds)\n",
      "/usr/lib/python3.5/importlib/_bootstrap.py:222: RuntimeWarning: numpy.dtype size changed, may indicate binary incompatibility. Expected 96, got 88\n",
      "  return f(*args, **kwds)\n",
      "/usr/lib/python3.5/importlib/_bootstrap.py:222: RuntimeWarning: numpy.dtype size changed, may indicate binary incompatibility. Expected 96, got 88\n",
      "  return f(*args, **kwds)\n",
      "/usr/lib/python3.5/importlib/_bootstrap.py:222: RuntimeWarning: numpy.dtype size changed, may indicate binary incompatibility. Expected 96, got 88\n",
      "  return f(*args, **kwds)\n",
      "/usr/lib/python3.5/importlib/_bootstrap.py:222: RuntimeWarning: numpy.dtype size changed, may indicate binary incompatibility. Expected 96, got 88\n",
      "  return f(*args, **kwds)\n",
      "/usr/lib/python3.5/importlib/_bootstrap.py:222: RuntimeWarning: numpy.dtype size changed, may indicate binary incompatibility. Expected 96, got 88\n",
      "  return f(*args, **kwds)\n"
     ]
    }
   ],
   "source": [
    "import numpy as np\n",
    "import pandas as pd\n",
    "from word_lists import name_list, city_list\n",
    "import os\n",
    "import inspect\n",
    "import sys\n",
    "import itertools\n",
    "\n",
    "almost_current = os.path.abspath(inspect.getfile(inspect.currentframe()))\n",
    "currentdir = os.path.dirname(almost_current)\n",
    "parentdir = os.path.dirname(currentdir)\n",
    "sys.path.insert(0, parentdir)\n",
    "\n",
    "from plots.functions import plot_histogram_from_labels # noqa\n",
    "\n",
    "% matplotlib inline"
   ]
  },
  {
   "cell_type": "markdown",
   "metadata": {},
   "source": [
    "### Generating atoms"
   ]
  },
  {
   "cell_type": "code",
   "execution_count": 2,
   "metadata": {},
   "outputs": [],
   "source": [
    "template1 = itertools.product(name_list, city_list)\n",
    "template1 = list(template1)\n",
    "upper_bound = 11000/8"
   ]
  },
  {
   "cell_type": "markdown",
   "metadata": {},
   "source": [
    "### Generating all types of sentences"
   ]
  },
  {
   "cell_type": "markdown",
   "metadata": {},
   "source": [
    "- 1) **c has traveled to X and Y, c didn't travel to X** (contradiction)\n",
    "- 1) **c went to X and Y, c didn't go to X** (contradiction)\n",
    "- 1) **c has visited X and Y, c didn't visit X** (contradiction)"
   ]
  },
  {
   "cell_type": "code",
   "execution_count": 3,
   "metadata": {},
   "outputs": [
    {
     "name": "stdout",
     "output_type": "stream",
     "text": [
      "['Shawn has traveled to Oradea and Slatina', \"Shawn didn't travel to Oradea\", 1]\n",
      "['Debbie went to Turda and Tulcea', \"Debbie didn't go to Turda\", 1]\n",
      "['Monica has visited Bucharest and Turda', \"Monica didn't visit Bucharest\", 1]\n",
      "['Claudia has traveled to Oradea and Hunedoara', \"Claudia didn't travel to Oradea\", 1]\n",
      "['Peggy went to Blaj and Cluj-Napoca', \"Peggy didn't go to Blaj\", 1]\n",
      "['Sara has visited Baia Mare and Timisoara', \"Sara didn't visit Baia Mare\", 1]\n",
      "['Brett has traveled to Mangalia and Turda', \"Brett didn't travel to Mangalia\", 1]\n",
      "['Emily went to Blaj and Lugoj', \"Emily didn't go to Blaj\", 1]\n",
      "['Sam has visited Hunedoara and Deva', \"Sam didn't visit Hunedoara\", 1]\n",
      "['Thomas has traveled to Reghin and Hunedoara', \"Thomas didn't travel to Reghin\", 1]\n"
     ]
    }
   ],
   "source": [
    "np.random.shuffle(template1)\n",
    "all_sentences_1 = []\n",
    "for i in range(int(upper_bound)):\n",
    "    person, place1 = template1[i]\n",
    "    place2 = place1\n",
    "    while place2 == place1:\n",
    "        new_i = np.random.choice(len(template1))\n",
    "        _, place2 = template1[new_i]\n",
    "    if i%3 == 0:\n",
    "        sentence = \"{} has traveled to {} and {},{} didn't travel to {}\".format(person, place1, place2, person, place1)\n",
    "    elif i%3 ==1:\n",
    "        sentence = \"{} went to {} and {},{} didn't go to {}\".format(person, place1, place2, person, place1)\n",
    "    else:\n",
    "        sentence = \"{} has visited {} and {},{} didn't visit {}\".format(person, place1, place2, person, place1)\n",
    "    all_sentences_1.append(sentence)\n",
    "\n",
    "    \n",
    "all_sentences_1 = [sentence.split(\",\") + [1] for sentence in all_sentences_1]\n",
    "\n",
    "for sentence in all_sentences_1[0:10]:\n",
    "    print(sentence)\n"
   ]
  },
  {
   "cell_type": "markdown",
   "metadata": {},
   "source": [
    "- 2) **c has traveled to X and Y, c didn't travel to Y** (contradiction)\n",
    "- 2) **c went to X and Y, c didn't go to Y** (contradiction)\n",
    "- 2) **c has visited X and Y, c didn't visit Y** (contradiction)"
   ]
  },
  {
   "cell_type": "code",
   "execution_count": 4,
   "metadata": {},
   "outputs": [
    {
     "name": "stdout",
     "output_type": "stream",
     "text": [
      "['Irma has traveled to Tulcea and Deva', \"Irma didn't travel to Deva\", 1]\n",
      "['Ron went to Timisoara and Hunedoara', \"Ron didn't go to Hunedoara\", 1]\n",
      "['Joanna has visited Baia Mare and Craiova', \"Joanna didn't visit Craiova\", 1]\n",
      "['Heather has traveled to Bucharest and Baia Mare', \"Heather didn't travel to Baia Mare\", 1]\n",
      "['Amy went to Arad and Tulcea', \"Amy didn't go to Tulcea\", 1]\n",
      "['Jean has visited Giurgiu and Oradea', \"Jean didn't visit Oradea\", 1]\n",
      "['Ruth has traveled to Baia Mare and Slatina', \"Ruth didn't travel to Slatina\", 1]\n",
      "['Sidney went to Lugoj and Oradea', \"Sidney didn't go to Oradea\", 1]\n",
      "['Terry has visited Dej and Turda', \"Terry didn't visit Turda\", 1]\n",
      "['Ryan has traveled to Timisoara and Blaj', \"Ryan didn't travel to Blaj\", 1]\n"
     ]
    }
   ],
   "source": [
    "np.random.shuffle(template1)\n",
    "all_sentences_2 = []\n",
    "for i in range(int(upper_bound)):\n",
    "    person, place1 = template1[i]\n",
    "    place2 = place1\n",
    "    while place2 == place1:\n",
    "        new_i = np.random.choice(len(template1))\n",
    "        _, place2 = template1[new_i]\n",
    "    if i%3 == 0:\n",
    "        sentence = \"{} has traveled to {} and {},{} didn't travel to {}\".format(person, place1, place2, person, place2)\n",
    "    elif i%3 ==1:\n",
    "        sentence = \"{} went to {} and {},{} didn't go to {}\".format(person, place1, place2, person, place2)\n",
    "    else:\n",
    "        sentence = \"{} has visited {} and {},{} didn't visit {}\".format(person, place1, place2, person, place2)\n",
    "    all_sentences_2.append(sentence)\n",
    "\n",
    "    \n",
    "all_sentences_2 = [sentence.split(\",\") + [1] for sentence in all_sentences_2]\n",
    "\n",
    "for sentence in all_sentences_2[0:10]:\n",
    "    print(sentence)\n"
   ]
  },
  {
   "cell_type": "markdown",
   "metadata": {},
   "source": [
    "- 3) **c has traveled to X and Y, c didn't travel to W ** (non-contradiction)\n",
    "- 3) **c went to X and Y, c didn't go to W** (non-contradiction)\n",
    "- 3) **c has visited X and Y, c didn't visit W** (non-contradiction)"
   ]
  },
  {
   "cell_type": "code",
   "execution_count": 5,
   "metadata": {},
   "outputs": [
    {
     "name": "stdout",
     "output_type": "stream",
     "text": [
      "['Deanna has traveled to Slatina and Timisoara', \"Deanna didn't travel to Deva\", 0]\n",
      "['Sidney went to Hunedoara and Giurgiu', \"Sidney didn't go to Craiova\", 0]\n",
      "['Jodi has visited Hunedoara and Timisoara', \"Jodi didn't visit Baia Mare\", 0]\n",
      "['Amy has traveled to Arad and Mangalia', \"Amy didn't travel to Dej\", 0]\n",
      "['Eduardo went to Baia Mare and Deva', \"Eduardo didn't go to Cluj-Napoca\", 0]\n",
      "['Inez has visited Arad and Lugoj', \"Inez didn't visit Hunedoara\", 0]\n",
      "['Ken has traveled to Deva and Craiova', \"Ken didn't travel to Oradea\", 0]\n",
      "['Leonard went to Vaslui and Arad', \"Leonard didn't go to Bucharest\", 0]\n",
      "['Kristy has visited Oradea and Cluj-Napoca', \"Kristy didn't visit Bucharest\", 0]\n",
      "['Hattie has traveled to Mangalia and Vaslui', \"Hattie didn't travel to Dej\", 0]\n"
     ]
    }
   ],
   "source": [
    "np.random.shuffle(template1)\n",
    "all_sentences_3 = []\n",
    "for i in range(int(upper_bound)):\n",
    "    person, place1 = template1[i]\n",
    "    place2 = place1\n",
    "    while place2 == place1:\n",
    "        new_i = np.random.choice(len(template1))\n",
    "        _, place2 = template1[new_i]\n",
    "    place3 = place1\n",
    "    while place3 == place1 or place3 == place2:\n",
    "        new_i = np.random.choice(len(template1))\n",
    "        _, place3 = template1[new_i]\n",
    "    if i%3 == 0:\n",
    "        sentence = \"{} has traveled to {} and {},{} didn't travel to {}\".format(person, place1, place2, person, place3)\n",
    "    elif i%3 ==1:\n",
    "        sentence = \"{} went to {} and {},{} didn't go to {}\".format(person, place1, place2, person, place3)\n",
    "    else:\n",
    "        sentence = \"{} has visited {} and {},{} didn't visit {}\".format(person, place1, place2, person, place3)\n",
    "    all_sentences_3.append(sentence)\n",
    "\n",
    "    \n",
    "all_sentences_3 = [sentence.split(\",\") + [0] for sentence in all_sentences_3]\n",
    "\n",
    "for sentence in all_sentences_3[0:10]:\n",
    "    print(sentence)\n"
   ]
  },
  {
   "cell_type": "markdown",
   "metadata": {},
   "source": [
    "- 4) **c has traveled to X and Y, d didn't travel to X (Y)** (non-contradiction)\n",
    "- 4) **c went to X and Y, d didn't go to X (Y)** (non-contradiction)\n",
    "- 4) **c has visited X and Y, d didn't visit X (Y)** (non-contradiction)"
   ]
  },
  {
   "cell_type": "code",
   "execution_count": 6,
   "metadata": {},
   "outputs": [
    {
     "name": "stdout",
     "output_type": "stream",
     "text": [
      "['Marvin has traveled to Timisoara and Lugoj', \"Benjamin didn't travel to Timisoara\", 0]\n",
      "['Sherry went to Slobozia and Arad', \"Terry didn't go to Arad\", 0]\n",
      "['Eugene has visited Bucharest and Slatina', \"Penny didn't visit Bucharest\", 0]\n",
      "['Natalie has traveled to Deva and Craiova', \"Kathy didn't travel to Craiova\", 0]\n",
      "['Don went to Turda and Craiova', \"Phyllis didn't go to Turda\", 0]\n",
      "['Micheal has visited Blaj and Giurgiu', \"Patsy didn't visit Giurgiu\", 0]\n",
      "['Wayne has traveled to Baia Mare and Slobozia', \"Sue didn't travel to Baia Mare\", 0]\n",
      "['Phyllis went to Bucharest and Dej', \"Isaac didn't go to Dej\", 0]\n",
      "['Casey has visited Bucharest and Dej', \"Katherine didn't visit Bucharest\", 0]\n",
      "['Freddie has traveled to Giurgiu and Tulcea', \"David didn't travel to Tulcea\", 0]\n"
     ]
    }
   ],
   "source": [
    "np.random.shuffle(template1)\n",
    "all_sentences_4 = []\n",
    "for i in range(int(upper_bound)):\n",
    "    person1, place1 = template1[i]\n",
    "    place2 = place1\n",
    "    person2 = person1\n",
    "    while place2 == place1 and person2 == person1:\n",
    "        new_i = np.random.choice(len(template1))\n",
    "        person2, place2 = template1[new_i]\n",
    "    if i%2 ==0:\n",
    "        place3 = place1\n",
    "    else:\n",
    "        place3 = place2\n",
    "    if i%3 == 0:\n",
    "        sentence = \"{} has traveled to {} and {},{} didn't travel to {}\".format(person1, place1, place2, person2, place3)\n",
    "    elif i%3 == 1:\n",
    "        sentence = \"{} went to {} and {},{} didn't go to {}\".format(person1, place1, place2, person2, place3)\n",
    "    else:\n",
    "        sentence = \"{} has visited {} and {},{} didn't visit {}\".format(person1, place1, place2, person2, place3)\n",
    "    all_sentences_4.append(sentence)\n",
    "\n",
    "    \n",
    "all_sentences_4 = [sentence.split(\",\") + [0] for sentence in all_sentences_4]\n",
    "\n",
    "for sentence in all_sentences_4[0:10]:\n",
    "    print(sentence)\n"
   ]
  },
  {
   "cell_type": "markdown",
   "metadata": {},
   "source": [
    "- 5) **c and d have traveled to X, c didn't travel to X** (contradiction)\n",
    "- 5) **c and d went to X, c didn't go to X** (contradiction)\n",
    "- 5) **c and d have visited X, c didn't visit X** (contradiction)"
   ]
  },
  {
   "cell_type": "code",
   "execution_count": 7,
   "metadata": {},
   "outputs": [
    {
     "name": "stdout",
     "output_type": "stream",
     "text": [
      "['Marsha and Brett have traveled to Dej', \"Marsha didn't travel to Dej\", 1]\n",
      "['Jennie and Hazel went to Vaslui', \"Jennie didn't go to Vaslui\", 1]\n",
      "['Neil and Randall have visited Giurgiu', \"Neil didn't visit Giurgiu\", 1]\n",
      "['Everett and Tammy have traveled to Bucharest', \"Everett didn't travel to Bucharest\", 1]\n",
      "['Larry and Johnnie went to Craiova', \"Larry didn't go to Craiova\", 1]\n",
      "['Kay and Robin have visited Slobozia', \"Kay didn't visit Slobozia\", 1]\n",
      "['Madeline and Lucille have traveled to Turda', \"Madeline didn't travel to Turda\", 1]\n",
      "['Terry and Elmer went to Giurgiu', \"Terry didn't go to Giurgiu\", 1]\n",
      "['Judith and Ross have visited Blaj', \"Judith didn't visit Blaj\", 1]\n",
      "['Opal and Darren have traveled to Dej', \"Opal didn't travel to Dej\", 1]\n"
     ]
    }
   ],
   "source": [
    "template1 = itertools.product(name_list, city_list)\n",
    "template1 = list(template1)\n",
    "\n",
    "np.random.shuffle(template1)\n",
    "all_sentences_5 = []\n",
    "for i in range(int(upper_bound)):\n",
    "    person1, place = template1[i]\n",
    "    person2 = person1\n",
    "    while person2 == person1:\n",
    "        new_i = np.random.choice(len(template1))\n",
    "        person2, _ = template1[new_i]\n",
    "    if i%3 == 0:\n",
    "        sentence = \"{} and {} have traveled to {},{} didn't travel to {}\".format(person1, person2, place, person1, place)\n",
    "    elif i%3 ==1:\n",
    "        sentence = \"{} and {} went to {},{} didn't go to {}\".format(person1, person2, place, person1, place)\n",
    "    else:\n",
    "        sentence = \"{} and {} have visited {},{} didn't visit {}\".format(person1, person2, place, person1, place)\n",
    "    all_sentences_5.append(sentence)\n",
    "\n",
    "all_sentences_5 = [sentence.split(\",\") + [1] for sentence in all_sentences_5]\n",
    "\n",
    "for sentence in all_sentences_5[0:10]:\n",
    "    print(sentence)\n"
   ]
  },
  {
   "cell_type": "markdown",
   "metadata": {},
   "source": [
    "- 6) **c and d have traveled to X, d didn't travel to X** (contradiction)\n",
    "- 6) **c and d went to X, d didn't go to X** (contradiction)\n",
    "- 6) **c and d have visited X, d didn't visit X** (contradiction)"
   ]
  },
  {
   "cell_type": "code",
   "execution_count": 8,
   "metadata": {},
   "outputs": [
    {
     "name": "stdout",
     "output_type": "stream",
     "text": [
      "['Joanna and Naomi have traveled to Bucharest', \"Naomi didn't travel to Bucharest\", 1]\n",
      "['Juan and Eva went to Timisoara', \"Eva didn't go to Timisoara\", 1]\n",
      "['Francis and Vivian have visited Hunedoara', \"Vivian didn't visit Hunedoara\", 1]\n",
      "['Phillip and Robin have traveled to Bucharest', \"Robin didn't travel to Bucharest\", 1]\n",
      "['Wayne and Doris went to Giurgiu', \"Doris didn't go to Giurgiu\", 1]\n",
      "['Vanessa and Fred have visited Turda', \"Fred didn't visit Turda\", 1]\n",
      "['Candice and Tom have traveled to Lugoj', \"Tom didn't travel to Lugoj\", 1]\n",
      "['Lester and Lindsey went to Hunedoara', \"Lindsey didn't go to Hunedoara\", 1]\n",
      "['Brittany and Molly have visited Dej', \"Molly didn't visit Dej\", 1]\n",
      "['Patricia and Shawn have traveled to Giurgiu', \"Shawn didn't travel to Giurgiu\", 1]\n"
     ]
    }
   ],
   "source": [
    "np.random.shuffle(template1)\n",
    "all_sentences_6 = []\n",
    "for i in range(int(upper_bound)):\n",
    "    person1, place = template1[i]\n",
    "    person2 = person1\n",
    "    while person2 == person1:\n",
    "        new_i = np.random.choice(len(template1))\n",
    "        person2, _ = template1[new_i]\n",
    "    if i%3 == 0:\n",
    "        sentence = \"{} and {} have traveled to {},{} didn't travel to {}\".format(person1, person2, place, person2, place)\n",
    "    elif i%3 ==1:\n",
    "        sentence = \"{} and {} went to {},{} didn't go to {}\".format(person1, person2, place, person2, place)\n",
    "    else:\n",
    "        sentence = \"{} and {} have visited {},{} didn't visit {}\".format(person1, person2, place, person2, place)\n",
    "    all_sentences_6.append(sentence)\n",
    "\n",
    "all_sentences_6 = [sentence.split(\",\") + [1] for sentence in all_sentences_6]\n",
    "\n",
    "for sentence in all_sentences_6[0:10]:\n",
    "    print(sentence)"
   ]
  },
  {
   "cell_type": "markdown",
   "metadata": {},
   "source": [
    "- 7) **c and d have traveled to X, c (d) didn't travel to Y ** (non-contradiction)\n",
    "- 7) **c and d went to X, c (d) didn't go to Y** (non-contradiction)\n",
    "- 7) **c and d have visited X, c (d) didn't visit Y** (non-contradiction)"
   ]
  },
  {
   "cell_type": "code",
   "execution_count": 9,
   "metadata": {},
   "outputs": [
    {
     "name": "stdout",
     "output_type": "stream",
     "text": [
      "['Salvador and Sergio have traveled to Bucharest', \"Salvador didn't travel to Giurgiu\", 0]\n",
      "['Ella and Lillie went to Baia Mare', \"Lillie didn't go to Dej\", 0]\n",
      "['Francis and Richard have visited Baia Mare', \"Francis didn't visit Vaslui\", 0]\n",
      "['Marian and Janice have traveled to Bucharest', \"Janice didn't travel to Dej\", 0]\n",
      "['Paul and Maggie went to Vaslui', \"Paul didn't go to Blaj\", 0]\n",
      "['Beverly and Chester have visited Blaj', \"Chester didn't visit Timisoara\", 0]\n",
      "['Tiffany and Neil have traveled to Vaslui', \"Tiffany didn't travel to Turda\", 0]\n",
      "['Hattie and Loretta went to Lugoj', \"Loretta didn't go to Bucharest\", 0]\n",
      "['Duane and Zachary have visited Hunedoara', \"Duane didn't visit Baia Mare\", 0]\n",
      "['Naomi and Lynda have traveled to Deva', \"Lynda didn't travel to Bucharest\", 0]\n"
     ]
    }
   ],
   "source": [
    "np.random.shuffle(template1)\n",
    "all_sentences_7 = []\n",
    "for i in range(int(upper_bound)):\n",
    "    person1, place1 = template1[i]\n",
    "    person2 = person1\n",
    "    place2 = place1\n",
    "    while person2 == person1 and place2 == place1:\n",
    "        new_i = np.random.choice(len(template1))\n",
    "        person2, place2 = template1[new_i]\n",
    "    if i%2 ==0:\n",
    "        person3 = person1\n",
    "    else:\n",
    "        person3 = person2\n",
    "    if i%3 == 0:\n",
    "        sentence = \"{} and {} have traveled to {},{} didn't travel to {}\".format(person1, person2, place1, person3, place2)\n",
    "    elif i%3 ==1:\n",
    "        sentence = \"{} and {} went to {},{} didn't go to {}\".format(person1, person2, place1, person3, place2)\n",
    "    else:\n",
    "        sentence = \"{} and {} have visited {},{} didn't visit {}\".format(person1, person2, place1, person3, place2)\n",
    "    all_sentences_7.append(sentence)\n",
    "\n",
    "all_sentences_7 = [sentence.split(\",\") + [0] for sentence in all_sentences_7]\n",
    "\n",
    "for sentence in all_sentences_7[0:10]:\n",
    "    print(sentence)"
   ]
  },
  {
   "cell_type": "markdown",
   "metadata": {},
   "source": [
    "- 8) **c and d have traveled to X, e didn't travel to X** (non-contradiction)\n",
    "- 8) **c and d went to X, e didn't go to X** (non-contradiction)\n",
    "- 8) **c and d have visited X, e didn't visit X** (non-contradiction)"
   ]
  },
  {
   "cell_type": "code",
   "execution_count": 10,
   "metadata": {},
   "outputs": [
    {
     "name": "stdout",
     "output_type": "stream",
     "text": [
      "['Rachel and Chad have traveled to Bucharest', \"Maryann didn't travel to Bucharest\", 0]\n",
      "['Barry and Allen went to Bucharest', \"Ralph didn't go to Bucharest\", 0]\n",
      "['Shane and Amy have visited Cluj-Napoca', \"Gilbert didn't visit Cluj-Napoca\", 0]\n",
      "['Mario and Alfredo have traveled to Reghin', \"Teresa didn't travel to Reghin\", 0]\n",
      "['Manuel and Nicholas went to Cluj-Napoca', \"Johnny didn't go to Cluj-Napoca\", 0]\n",
      "['Genevieve and Virginia have visited Hunedoara', \"Kristine didn't visit Hunedoara\", 0]\n",
      "['Sue and Randy have traveled to Lugoj', \"Leon didn't travel to Lugoj\", 0]\n",
      "['Jon and Suzanne went to Slatina', \"Bob didn't go to Slatina\", 0]\n",
      "['Heather and Sylvia have visited Blaj', \"Clarence didn't visit Blaj\", 0]\n",
      "['Jason and Russell have traveled to Tulcea', \"Irma didn't travel to Tulcea\", 0]\n"
     ]
    }
   ],
   "source": [
    "np.random.shuffle(template1)\n",
    "all_sentences_8 = []\n",
    "for i in range(int(upper_bound)):\n",
    "    person1, place1 = template1[i]\n",
    "    person2 = person1\n",
    "    while person2 == person1:\n",
    "        new_i = np.random.choice(len(template1))\n",
    "        person2, _ = template1[new_i]\n",
    "    person3 = person1\n",
    "    while person3 == person1 or person3 == person2:\n",
    "        new_i = np.random.choice(len(template1))\n",
    "        person3, _ = template1[new_i]\n",
    "    if i % 3 == 0:\n",
    "        sentence = \"{} and {} have traveled to {},{} didn't travel to {}\".format(person1, person2, place1, person3, place1)\n",
    "    elif i % 3 == 1:\n",
    "        sentence = \"{} and {} went to {},{} didn't go to {}\".format(person1, person2, place1, person3, place1)\n",
    "    else:\n",
    "        sentence = \"{} and {} have visited {},{} didn't visit {}\".format(person1, person2, place1, person3, place1)\n",
    "    all_sentences_8.append(sentence)\n",
    "\n",
    "all_sentences_8 = [sentence.split(\",\") + [0] for sentence in all_sentences_8]\n",
    "\n",
    "for sentence in all_sentences_8[0:10]:\n",
    "    print(sentence)"
   ]
  },
  {
   "cell_type": "code",
   "execution_count": 12,
   "metadata": {},
   "outputs": [
    {
     "name": "stdout",
     "output_type": "stream",
     "text": [
      "type 1 size = 1375\n",
      "type 2 size = 1375\n",
      "type 3 size = 1375\n",
      "type 4 size = 1375\n",
      "type 5 size = 1375\n",
      "type 6 size = 1375\n",
      "type 7 size = 1375\n",
      "type 8 size = 1375\n",
      "total size = 11000\n"
     ]
    }
   ],
   "source": [
    "np.random.shuffle(all_sentences_1)\n",
    "np.random.shuffle(all_sentences_2)\n",
    "np.random.shuffle(all_sentences_3)\n",
    "np.random.shuffle(all_sentences_4)\n",
    "np.random.shuffle(all_sentences_5)\n",
    "np.random.shuffle(all_sentences_6)\n",
    "np.random.shuffle(all_sentences_7)\n",
    "np.random.shuffle(all_sentences_8)\n",
    "\n",
    "\n",
    "size1 = len(all_sentences_1)\n",
    "size2 = len(all_sentences_2)\n",
    "size3 = len(all_sentences_3)\n",
    "size4 = len(all_sentences_4)\n",
    "size5 = len(all_sentences_5)\n",
    "size6 = len(all_sentences_6)\n",
    "size7 = len(all_sentences_7)\n",
    "size8 = len(all_sentences_8)\n",
    "\n",
    "all_sentences = all_sentences_1 + all_sentences_2 + all_sentences_3 + all_sentences_4\n",
    "all_sentences += all_sentences_5 + all_sentences_6 + all_sentences_7 + all_sentences_8\n",
    "size = len(all_sentences)\n",
    "\n",
    "print(\"type 1 size = {}\".format(size1))\n",
    "print(\"type 2 size = {}\".format(size2))\n",
    "print(\"type 3 size = {}\".format(size3))\n",
    "print(\"type 4 size = {}\".format(size4))\n",
    "print(\"type 5 size = {}\".format(size5))\n",
    "print(\"type 6 size = {}\".format(size6))\n",
    "print(\"type 7 size = {}\".format(size7))\n",
    "print(\"type 8 size = {}\".format(size8))\n",
    "print(\"total size = {}\".format(size))"
   ]
  },
  {
   "cell_type": "markdown",
   "metadata": {},
   "source": [
    "### Generating a train DataFrame with 10000 examples and a test DataFrame with 1000 examples "
   ]
  },
  {
   "cell_type": "code",
   "execution_count": 13,
   "metadata": {},
   "outputs": [
    {
     "data": {
      "text/html": [
       "<div>\n",
       "<style scoped>\n",
       "    .dataframe tbody tr th:only-of-type {\n",
       "        vertical-align: middle;\n",
       "    }\n",
       "\n",
       "    .dataframe tbody tr th {\n",
       "        vertical-align: top;\n",
       "    }\n",
       "\n",
       "    .dataframe thead th {\n",
       "        text-align: right;\n",
       "    }\n",
       "</style>\n",
       "<table border=\"1\" class=\"dataframe\">\n",
       "  <thead>\n",
       "    <tr style=\"text-align: right;\">\n",
       "      <th></th>\n",
       "      <th>sentence1</th>\n",
       "      <th>sentence2</th>\n",
       "      <th>label</th>\n",
       "    </tr>\n",
       "  </thead>\n",
       "  <tbody>\n",
       "    <tr>\n",
       "      <th>10995</th>\n",
       "      <td>Susie and Misty have visited Vaslui</td>\n",
       "      <td>Susie didn't visit Vaslui</td>\n",
       "      <td>1</td>\n",
       "    </tr>\n",
       "    <tr>\n",
       "      <th>10996</th>\n",
       "      <td>Alberto and Jason have traveled to Slobozia</td>\n",
       "      <td>Jason didn't travel to Slatina</td>\n",
       "      <td>0</td>\n",
       "    </tr>\n",
       "    <tr>\n",
       "      <th>10997</th>\n",
       "      <td>Terrence went to Cluj-Napoca and Oradea</td>\n",
       "      <td>Terrence didn't go to Dej</td>\n",
       "      <td>0</td>\n",
       "    </tr>\n",
       "    <tr>\n",
       "      <th>10998</th>\n",
       "      <td>Geraldine and Ada have traveled to Reghin</td>\n",
       "      <td>Ada didn't travel to Reghin</td>\n",
       "      <td>1</td>\n",
       "    </tr>\n",
       "    <tr>\n",
       "      <th>10999</th>\n",
       "      <td>Armando and Lee have visited Timisoara</td>\n",
       "      <td>Lee didn't visit Timisoara</td>\n",
       "      <td>1</td>\n",
       "    </tr>\n",
       "  </tbody>\n",
       "</table>\n",
       "</div>"
      ],
      "text/plain": [
       "                                         sentence1  \\\n",
       "10995          Susie and Misty have visited Vaslui   \n",
       "10996  Alberto and Jason have traveled to Slobozia   \n",
       "10997      Terrence went to Cluj-Napoca and Oradea   \n",
       "10998    Geraldine and Ada have traveled to Reghin   \n",
       "10999       Armando and Lee have visited Timisoara   \n",
       "\n",
       "                            sentence2  label  \n",
       "10995       Susie didn't visit Vaslui      1  \n",
       "10996  Jason didn't travel to Slatina      0  \n",
       "10997       Terrence didn't go to Dej      0  \n",
       "10998     Ada didn't travel to Reghin      1  \n",
       "10999      Lee didn't visit Timisoara      1  "
      ]
     },
     "execution_count": 13,
     "metadata": {},
     "output_type": "execute_result"
    }
   ],
   "source": [
    "sentence_1 = [triple[0] for triple in all_sentences]\n",
    "sentence_2 = [triple[1] for triple in all_sentences]\n",
    "label = [triple[2] for triple in all_sentences]\n",
    "\n",
    "df_dict = {\"sentence1\": sentence_1,\n",
    "           \"sentence2\": sentence_2,\n",
    "           \"label\": label}\n",
    "        \n",
    "df = pd.DataFrame(df_dict)\n",
    "df = df[[\"sentence1\", \"sentence2\", \"label\"]]\n",
    "df = df.sample(frac=1).reset_index(drop=True)\n",
    "\n",
    "df_train = df.iloc[:10000]\n",
    "df_test = df.iloc[10000:]\n",
    "\n",
    "df.tail()    "
   ]
  },
  {
   "cell_type": "markdown",
   "metadata": {},
   "source": [
    "#### Looking at the label distribution"
   ]
  },
  {
   "cell_type": "code",
   "execution_count": 14,
   "metadata": {},
   "outputs": [
    {
     "data": {
      "image/png": "[encoded data removed]",
      "text/plain": [
       "<Figure size 432x288 with 1 Axes>"
      ]
     },
     "metadata": {},
     "output_type": "display_data"
    }
   ],
   "source": [
    "train_label = df_train[\"label\"].values\n",
    "plot_histogram_from_labels(train_label, [\"no\", \"yes\"], \"boolean3_train.png\")"
   ]
  },
  {
   "cell_type": "code",
   "execution_count": 15,
   "metadata": {},
   "outputs": [
    {
     "data": {
      "image/png": "[encoded data removed]",
      "text/plain": [
       "<Figure size 432x288 with 1 Axes>"
      ]
     },
     "metadata": {},
     "output_type": "display_data"
    }
   ],
   "source": [
    "test_label = df_test[\"label\"].values\n",
    "plot_histogram_from_labels(test_label, [\"no\", \"yes\"], \"boolean3_test.png\")"
   ]
  },
  {
   "cell_type": "markdown",
   "metadata": {},
   "source": [
    "### Saving to CSV"
   ]
  },
  {
   "cell_type": "code",
   "execution_count": 16,
   "metadata": {},
   "outputs": [],
   "source": [
    "df_train.to_csv(\"boolean3_train.csv\", index=False)\n",
    "df_test.to_csv(\"boolean3_test.csv\", index=False)"
   ]
  }
 ],
 "metadata": {
  "kernelspec": {
   "display_name": "Python 3",
   "language": "python",
   "name": "python3"
  },
  "language_info": {
   "codemirror_mode": {
    "name": "ipython",
    "version": 3
   },
   "file_extension": ".py",
   "mimetype": "text/x-python",
   "name": "python",
   "nbconvert_exporter": "python",
   "pygments_lexer": "ipython3",
   "version": "3.5.2"
  }
 },
 "nbformat": 4,
 "nbformat_minor": 2
}
