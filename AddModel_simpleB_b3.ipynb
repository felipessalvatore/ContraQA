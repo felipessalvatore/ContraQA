{
 "cells": [
  {
   "cell_type": "markdown",
   "metadata": {},
   "source": [
    "# Add model: translation attention ecoder-decocer over the b3 dataset"
   ]
  },
  {
   "cell_type": "code",
   "execution_count": 1,
   "metadata": {},
   "outputs": [],
   "source": [
    "import numpy as np\n",
    "import torch\n",
    "import torch.nn as nn\n",
    "import torch.nn.functional as F\n",
    "from torchtext import data\n",
    "import pandas as pd\n",
    "import unicodedata\n",
    "import string\n",
    "import re\n",
    "import random\n",
    "import copy\n",
    "from contra_qa.plots.functions  import simple_step_plot, plot_confusion_matrix\n",
    "import  matplotlib.pyplot as plt\n",
    "device = torch.device(\"cuda\" if torch.cuda.is_available() else \"cpu\")\n",
    "from nltk.translate.bleu_score import sentence_bleu\n",
    "\n",
    "\n",
    "% matplotlib inline"
   ]
  },
  {
   "cell_type": "code",
   "execution_count": 2,
   "metadata": {},
   "outputs": [],
   "source": [
    "import time\n",
    "import math\n",
    "\n",
    "\n",
    "def asMinutes(s):\n",
    "    m = math.floor(s / 60)\n",
    "    s -= m * 60\n",
    "    return '%dm %ds' % (m, s)\n",
    "\n",
    "\n",
    "def timeSince(since):\n",
    "    now = time.time()\n",
    "    s = now - since\n",
    "    return '%s' % asMinutes(s)"
   ]
  },
  {
   "cell_type": "markdown",
   "metadata": {},
   "source": [
    "### Preparing data"
   ]
  },
  {
   "cell_type": "code",
   "execution_count": 3,
   "metadata": {},
   "outputs": [],
   "source": [
    "df2 = pd.read_csv(\"data/boolean3_train.csv\")\n",
    "df2_test = pd.read_csv(\"data/boolean3_test.csv\")\n",
    "\n",
    "df2[\"text\"] = df2[\"sentence1\"] + df2[\"sentence2\"] \n",
    "df2_test[\"text\"] = df2_test[\"sentence1\"] + df2_test[\"sentence2\"] \n",
    "\n",
    "all_sentences = list(df2.text.values) + list(df2_test.text.values)\n",
    "\n",
    "df2train = df2.iloc[:8500]\n",
    "df2valid = df2.iloc[8500:]"
   ]
  },
  {
   "cell_type": "code",
   "execution_count": 4,
   "metadata": {},
   "outputs": [
    {
     "data": {
      "text/html": [
       "<div>\n",
       "<style scoped>\n",
       "    .dataframe tbody tr th:only-of-type {\n",
       "        vertical-align: middle;\n",
       "    }\n",
       "\n",
       "    .dataframe tbody tr th {\n",
       "        vertical-align: top;\n",
       "    }\n",
       "\n",
       "    .dataframe thead th {\n",
       "        text-align: right;\n",
       "    }\n",
       "</style>\n",
       "<table border=\"1\" class=\"dataframe\">\n",
       "  <thead>\n",
       "    <tr style=\"text-align: right;\">\n",
       "      <th></th>\n",
       "      <th>sentence1</th>\n",
       "      <th>sentence2</th>\n",
       "      <th>and_A</th>\n",
       "      <th>and_B</th>\n",
       "      <th>label</th>\n",
       "      <th>text</th>\n",
       "    </tr>\n",
       "  </thead>\n",
       "  <tbody>\n",
       "    <tr>\n",
       "      <th>8495</th>\n",
       "      <td>Milton went to Timisoara and Tulcea</td>\n",
       "      <td>Shawn didn't go to Tulcea</td>\n",
       "      <td>Milton went to Timisoara</td>\n",
       "      <td>Milton went to Tulcea</td>\n",
       "      <td>0</td>\n",
       "      <td>Milton went to Timisoara and TulceaShawn didn'...</td>\n",
       "    </tr>\n",
       "    <tr>\n",
       "      <th>8496</th>\n",
       "      <td>Alice has traveled to Giurgiu and Craiova</td>\n",
       "      <td>Alice didn't travel to Craiova</td>\n",
       "      <td>Alice has traveled to Giurgiu</td>\n",
       "      <td>Alice has traveled to Craiova</td>\n",
       "      <td>1</td>\n",
       "      <td>Alice has traveled to Giurgiu and CraiovaAlice...</td>\n",
       "    </tr>\n",
       "    <tr>\n",
       "      <th>8497</th>\n",
       "      <td>Blanche went to Slatina and Cluj-Napoca</td>\n",
       "      <td>Blanche didn't go to Bucharest</td>\n",
       "      <td>Blanche went to Slatina</td>\n",
       "      <td>Blanche went to Cluj-Napoca</td>\n",
       "      <td>0</td>\n",
       "      <td>Blanche went to Slatina and Cluj-NapocaBlanche...</td>\n",
       "    </tr>\n",
       "    <tr>\n",
       "      <th>8498</th>\n",
       "      <td>Nicole went to Reghin and Blaj</td>\n",
       "      <td>Nicole didn't go to Reghin</td>\n",
       "      <td>Nicole went to Reghin</td>\n",
       "      <td>Nicole went to Blaj</td>\n",
       "      <td>1</td>\n",
       "      <td>Nicole went to Reghin and BlajNicole didn't go...</td>\n",
       "    </tr>\n",
       "    <tr>\n",
       "      <th>8499</th>\n",
       "      <td>Sheryl went to Cluj-Napoca and Hunedoara</td>\n",
       "      <td>Sheryl didn't go to Hunedoara</td>\n",
       "      <td>Sheryl went to Cluj-Napoca</td>\n",
       "      <td>Sheryl went to Hunedoara</td>\n",
       "      <td>1</td>\n",
       "      <td>Sheryl went to Cluj-Napoca and HunedoaraSheryl...</td>\n",
       "    </tr>\n",
       "  </tbody>\n",
       "</table>\n",
       "</div>"
      ],
      "text/plain": [
       "                                      sentence1  \\\n",
       "8495        Milton went to Timisoara and Tulcea   \n",
       "8496  Alice has traveled to Giurgiu and Craiova   \n",
       "8497    Blanche went to Slatina and Cluj-Napoca   \n",
       "8498             Nicole went to Reghin and Blaj   \n",
       "8499   Sheryl went to Cluj-Napoca and Hunedoara   \n",
       "\n",
       "                           sentence2                          and_A  \\\n",
       "8495       Shawn didn't go to Tulcea       Milton went to Timisoara   \n",
       "8496  Alice didn't travel to Craiova  Alice has traveled to Giurgiu   \n",
       "8497  Blanche didn't go to Bucharest        Blanche went to Slatina   \n",
       "8498      Nicole didn't go to Reghin          Nicole went to Reghin   \n",
       "8499   Sheryl didn't go to Hunedoara     Sheryl went to Cluj-Napoca   \n",
       "\n",
       "                              and_B  label  \\\n",
       "8495          Milton went to Tulcea      0   \n",
       "8496  Alice has traveled to Craiova      1   \n",
       "8497    Blanche went to Cluj-Napoca      0   \n",
       "8498            Nicole went to Blaj      1   \n",
       "8499       Sheryl went to Hunedoara      1   \n",
       "\n",
       "                                                   text  \n",
       "8495  Milton went to Timisoara and TulceaShawn didn'...  \n",
       "8496  Alice has traveled to Giurgiu and CraiovaAlice...  \n",
       "8497  Blanche went to Slatina and Cluj-NapocaBlanche...  \n",
       "8498  Nicole went to Reghin and BlajNicole didn't go...  \n",
       "8499  Sheryl went to Cluj-Napoca and HunedoaraSheryl...  "
      ]
     },
     "execution_count": 4,
     "metadata": {},
     "output_type": "execute_result"
    }
   ],
   "source": [
    "df2train.tail()"
   ]
  },
  {
   "cell_type": "code",
   "execution_count": 5,
   "metadata": {},
   "outputs": [],
   "source": [
    "SOS_token = 0\n",
    "EOS_token = 1\n",
    "\n",
    "class Lang:\n",
    "    def __init__(self, name):\n",
    "        self.name = name\n",
    "        self.word2index = {}\n",
    "        self.word2count = {}\n",
    "        self.index2word = {0: \"SOS\", 1: \"EOS\"}\n",
    "        self.n_words = 2  # Count SOS and EOS\n",
    "\n",
    "    def addSentence(self, sentence):\n",
    "        for word in sentence.split(' '):\n",
    "            self.addWord(word)\n",
    "\n",
    "    def addWord(self, word):\n",
    "        if word not in self.word2index:\n",
    "            self.word2index[word] = self.n_words\n",
    "            self.word2count[word] = 1\n",
    "            self.index2word[self.n_words] = word\n",
    "            self.n_words += 1\n",
    "        else:\n",
    "            self.word2count[word] += 1"
   ]
  },
  {
   "cell_type": "code",
   "execution_count": 6,
   "metadata": {},
   "outputs": [
    {
     "name": "stdout",
     "output_type": "stream",
     "text": [
      "Before: ddddda'''~~çãpoeéééééÈ'''#$$##@!@!@AAS@#12323fdf\n",
      "\n",
      "After: ddddda capoeeeeeee ! ! aas fdf\n"
     ]
    }
   ],
   "source": [
    "# Turn a Unicode string to plain ASCII, thanks to\n",
    "# http://stackoverflow.com/a/518232/2809427\n",
    "def unicodeToAscii(s):\n",
    "    return ''.join(\n",
    "        c for c in unicodedata.normalize('NFD', s)\n",
    "        if unicodedata.category(c) != 'Mn')\n",
    "\n",
    "# Lowercase, trim, and remove non-letter characters\n",
    "\n",
    "def normalizeString(s):\n",
    "    s = unicodeToAscii(s.lower().strip())\n",
    "    s = re.sub(r\"([.!?])\", r\" \\1\", s)\n",
    "    s = re.sub(r\"[^a-zA-Z.!?]+\", r\" \", s)\n",
    "    return s\n",
    "\n",
    "\n",
    "example = \"ddddda'''~~çãpoeéééééÈ'''#$$##@!@!@AAS@#12323fdf\"\n",
    "print(\"Before:\", example)\n",
    "print()\n",
    "print(\"After:\", normalizeString(example))"
   ]
  },
  {
   "cell_type": "code",
   "execution_count": 7,
   "metadata": {},
   "outputs": [],
   "source": [
    "pairs_A = list(zip(list(df2train.sentence1.values), list(df2train.and_A.values)))\n",
    "pairs_B = list(zip(list(df2train.sentence1.values), list(df2train.and_B.values)))\n",
    "pairs_A = [(normalizeString(s1), normalizeString(s2)) for s1, s2 in pairs_A]\n",
    "pairs_B = [(normalizeString(s1), normalizeString(s2)) for s1, s2 in pairs_B]\n",
    "pairs_A_val = list(zip(list(df2valid.sentence1.values), list(df2valid.and_A.values)))\n",
    "pairs_B_val = list(zip(list(df2valid.sentence1.values), list(df2valid.and_B.values)))\n",
    "pairs_A_val = [(normalizeString(s1), normalizeString(s2)) for s1, s2 in pairs_A_val]\n",
    "pairs_B_val = [(normalizeString(s1), normalizeString(s2)) for s1, s2 in pairs_B_val]\n"
   ]
  },
  {
   "cell_type": "code",
   "execution_count": 8,
   "metadata": {},
   "outputs": [],
   "source": [
    "all_text_pairs = zip(all_sentences, all_sentences)\n",
    "all_text_pairs = [(normalizeString(s1), normalizeString(s2)) for s1, s2 in all_text_pairs]"
   ]
  },
  {
   "cell_type": "code",
   "execution_count": 9,
   "metadata": {},
   "outputs": [],
   "source": [
    "def readLangs(lang1, lang2, pairs, reverse=False):\n",
    "    # Reverse pairs, make Lang instances\n",
    "    if reverse:\n",
    "        pairs = [tuple(reversed(p)) for p in pairs]\n",
    "        input_lang = Lang(lang2)\n",
    "        output_lang = Lang(lang1)\n",
    "    else:\n",
    "        input_lang = Lang(lang1)\n",
    "        output_lang = Lang(lang2)\n",
    "\n",
    "    return input_lang, output_lang, pairs"
   ]
  },
  {
   "cell_type": "code",
   "execution_count": 10,
   "metadata": {},
   "outputs": [],
   "source": [
    "f = lambda x: len(x.split(\" \"))\n",
    "\n",
    "MAX_LENGTH = np.max(list(map(f, all_sentences)))"
   ]
  },
  {
   "cell_type": "code",
   "execution_count": 11,
   "metadata": {},
   "outputs": [],
   "source": [
    "def filterPair(p):\n",
    "    cond1 = len(p[0].split(' ')) < MAX_LENGTH\n",
    "    cond2 = len(p[1].split(' ')) < MAX_LENGTH \n",
    "    return cond1 and cond2\n",
    "\n",
    "def filterPairs(pairs):\n",
    "    return [pair for pair in pairs if filterPair(pair)]\n"
   ]
  },
  {
   "cell_type": "code",
   "execution_count": 12,
   "metadata": {},
   "outputs": [],
   "source": [
    "def prepareData(lang1, lang2, pairs, reverse=False):\n",
    "    input_lang, output_lang, pairs = readLangs(lang1, lang2, pairs, reverse)\n",
    "    print(\"Read %s sentence pairs\" % len(pairs))\n",
    "    pairs = filterPairs(pairs)\n",
    "    print(\"Trimmed to %s sentence pairs\" % len(pairs))\n",
    "    print(\"Counting words...\")\n",
    "    for pair in pairs:\n",
    "        input_lang.addSentence(pair[0])\n",
    "        output_lang.addSentence(pair[1])\n",
    "    print(\"Counted words:\")\n",
    "    print(input_lang.name, input_lang.n_words)\n",
    "    print(output_lang.name, output_lang.n_words)\n",
    "    return input_lang, output_lang, pairs"
   ]
  },
  {
   "cell_type": "code",
   "execution_count": 13,
   "metadata": {},
   "outputs": [
    {
     "name": "stdout",
     "output_type": "stream",
     "text": [
      "Read 8500 sentence pairs\n",
      "Trimmed to 8500 sentence pairs\n",
      "Counting words...\n",
      "Counted words:\n",
      "eng_enc 685\n",
      "eng_dec 683\n",
      "\n",
      "Read 11000 sentence pairs\n",
      "Trimmed to 10714 sentence pairs\n",
      "Counting words...\n",
      "Counted words:\n",
      "eng_enc 8008\n",
      "eng_dec 8008\n",
      "\n",
      "\n",
      "Read 1500 sentence pairs\n",
      "Trimmed to 1500 sentence pairs\n",
      "Counting words...\n",
      "Counted words:\n",
      "eng_enc 652\n",
      "eng_dec 612\n"
     ]
    }
   ],
   "source": [
    "_, _, training_pairs_A = prepareData(\"eng_enc\",\n",
    "                                             \"eng_dec\",\n",
    "                                             pairs_A)\n",
    "\n",
    "print()\n",
    "\n",
    "\n",
    "input_lang, _, _ = prepareData(\"eng_enc\",\n",
    "                               \"eng_dec\",\n",
    "                               all_text_pairs)\n",
    "\n",
    "output_lang = copy.deepcopy(input_lang)\n",
    "\n",
    "print()\n",
    "\n",
    "print()\n",
    "_, _, valid_pairs_A = prepareData(\"eng_enc\",\n",
    "                                \"eng_dec\",\n",
    "                                pairs_A_val)"
   ]
  },
  {
   "cell_type": "code",
   "execution_count": 14,
   "metadata": {},
   "outputs": [
    {
     "name": "stdout",
     "output_type": "stream",
     "text": [
      "Read 8500 sentence pairs\n",
      "Trimmed to 8500 sentence pairs\n",
      "Counting words...\n",
      "Counted words:\n",
      "eng_enc 685\n",
      "eng_dec 683\n",
      "\n",
      "Read 1500 sentence pairs\n",
      "Trimmed to 1500 sentence pairs\n",
      "Counting words...\n",
      "Counted words:\n",
      "eng_enc 652\n",
      "eng_dec 608\n"
     ]
    }
   ],
   "source": [
    "_, _, training_pairs_B = prepareData(\"eng_enc\",\n",
    "                                     \"eng_dec\",\n",
    "                                     pairs_B)\n",
    "print()\n",
    "_, _, valid_pairs_B = prepareData(\"eng_enc\",\n",
    "                                \"eng_dec\",\n",
    "                                pairs_B_val)"
   ]
  },
  {
   "cell_type": "markdown",
   "metadata": {},
   "source": [
    "### sentences 2 tensors"
   ]
  },
  {
   "cell_type": "code",
   "execution_count": 15,
   "metadata": {},
   "outputs": [],
   "source": [
    "def indexesFromSentence(lang, sentence):\n",
    "    return [lang.word2index[word] for word in sentence.split(' ')]"
   ]
  },
  {
   "cell_type": "code",
   "execution_count": 16,
   "metadata": {},
   "outputs": [],
   "source": [
    "def tensorFromSentence(lang, sentence):\n",
    "    indexes = indexesFromSentence(lang, sentence)\n",
    "    indexes.append(EOS_token)\n",
    "    return torch.tensor(indexes, dtype=torch.long, device=device).view(-1, 1)"
   ]
  },
  {
   "cell_type": "code",
   "execution_count": 17,
   "metadata": {},
   "outputs": [],
   "source": [
    "def tensorsFromPair(pair):\n",
    "    input_tensor = tensorFromSentence(input_lang, pair[0])\n",
    "    target_tensor = tensorFromSentence(output_lang, pair[1])\n",
    "    return (input_tensor, target_tensor)"
   ]
  },
  {
   "cell_type": "code",
   "execution_count": 18,
   "metadata": {},
   "outputs": [],
   "source": [
    "def tensorsFromTriple(triple):\n",
    "    input_tensor = tensorFromSentence(input_lang, triple[0])\n",
    "    target_tensor = tensorFromSentence(output_lang, triple[1])\n",
    "    label_tensor = torch.tensor(triple[2], dtype=torch.long).view((1))\n",
    "    return (input_tensor, target_tensor, label_tensor)"
   ]
  },
  {
   "cell_type": "markdown",
   "metadata": {},
   "source": [
    "### models"
   ]
  },
  {
   "cell_type": "code",
   "execution_count": 19,
   "metadata": {},
   "outputs": [],
   "source": [
    "class EncoderRNN(nn.Module):\n",
    "    def __init__(self, input_size, hidden_size):\n",
    "        super(EncoderRNN, self).__init__()\n",
    "        self.hidden_size = hidden_size\n",
    "        self.embedding = nn.Embedding(input_size, hidden_size)\n",
    "        self.gru = nn.GRU(hidden_size, hidden_size)\n",
    "\n",
    "    def forward(self, input, hidden):\n",
    "        embedded = self.embedding(input).view(1, 1, -1)\n",
    "        output = embedded\n",
    "        output, hidden = self.gru(output, hidden)\n",
    "        return output, hidden\n",
    "\n",
    "    def initHidden(self):\n",
    "        return torch.zeros(1, 1, self.hidden_size, device=device)"
   ]
  },
  {
   "cell_type": "code",
   "execution_count": 20,
   "metadata": {},
   "outputs": [],
   "source": [
    "class AttnDecoderRNN(nn.Module):\n",
    "    def __init__(self, hidden_size, output_size, dropout_p=0.1, max_length=MAX_LENGTH):\n",
    "        super(AttnDecoderRNN, self).__init__()\n",
    "        self.hidden_size = hidden_size\n",
    "        self.output_size = output_size\n",
    "        self.dropout_p = dropout_p\n",
    "        self.max_length = max_length\n",
    "\n",
    "        self.embedding = nn.Embedding(self.output_size, self.hidden_size)\n",
    "        self.attn = nn.Linear(self.hidden_size * 2, self.max_length)\n",
    "        self.attn_combine = nn.Linear(self.hidden_size * 2, self.hidden_size)\n",
    "        self.dropout = nn.Dropout(self.dropout_p)\n",
    "        self.gru = nn.GRU(self.hidden_size, self.hidden_size)\n",
    "        self.out = nn.Linear(self.hidden_size, self.output_size)\n",
    "\n",
    "    def forward(self, input, hidden, encoder_outputs):\n",
    "        embedded = self.embedding(input).view(1, 1, -1)\n",
    "        embedded = self.dropout(embedded)\n",
    "\n",
    "        attn_weights = F.softmax(\n",
    "            self.attn(torch.cat((embedded[0], hidden[0]), 1)), dim=1)\n",
    "        attn_applied = torch.bmm(attn_weights.unsqueeze(0),\n",
    "                                 encoder_outputs.unsqueeze(0))\n",
    "        output = torch.cat((embedded[0], attn_applied[0]), 1)\n",
    "        output = self.attn_combine(output).unsqueeze(0)\n",
    "\n",
    "        output = F.relu(output)\n",
    "        output, hidden = self.gru(output, hidden)\n",
    "\n",
    "        output = F.log_softmax(self.out(output[0]), dim=1)\n",
    "        return output, hidden, attn_weights\n",
    "\n",
    "    def initHidden(self):\n",
    "        return torch.zeros(1, 1, self.hidden_size, device=device)"
   ]
  },
  {
   "cell_type": "code",
   "execution_count": 21,
   "metadata": {},
   "outputs": [],
   "source": [
    "hidden_size = 256\n",
    "eng_enc_v_size = input_lang.n_words\n",
    "eng_dec_v_size = output_lang.n_words"
   ]
  },
  {
   "cell_type": "code",
   "execution_count": 22,
   "metadata": {},
   "outputs": [
    {
     "data": {
      "text/plain": [
       "8008"
      ]
     },
     "execution_count": 22,
     "metadata": {},
     "output_type": "execute_result"
    }
   ],
   "source": [
    "input_lang.n_words"
   ]
  },
  {
   "cell_type": "code",
   "execution_count": 23,
   "metadata": {},
   "outputs": [],
   "source": [
    "encoderA = EncoderRNN(eng_enc_v_size, hidden_size)\n",
    "decoderA = AttnDecoderRNN(hidden_size, eng_dec_v_size)\n",
    "encoderA.load_state_dict(torch.load(\"b3_encoder1_att.pkl\"))\n",
    "decoderA.load_state_dict(torch.load(\"b3_decoder1_att.pkl\"))"
   ]
  },
  {
   "cell_type": "code",
   "execution_count": 24,
   "metadata": {},
   "outputs": [],
   "source": [
    "encoderB = EncoderRNN(eng_enc_v_size, hidden_size)\n",
    "decoderB = AttnDecoderRNN(hidden_size, eng_dec_v_size)\n",
    "encoderB.load_state_dict(torch.load(\"b3_encoder2_att.pkl\"))\n",
    "decoderB.load_state_dict(torch.load(\"b3_decoder2_att.pkl\"))"
   ]
  },
  {
   "cell_type": "markdown",
   "metadata": {},
   "source": [
    "## translating"
   ]
  },
  {
   "cell_type": "code",
   "execution_count": 25,
   "metadata": {},
   "outputs": [],
   "source": [
    "def translate(encoder,\n",
    "              decoder,\n",
    "              sentence,\n",
    "              max_length=MAX_LENGTH):\n",
    "    with torch.no_grad():\n",
    "        input_tensor = tensorFromSentence(input_lang, sentence)\n",
    "        input_length = input_tensor.size()[0]\n",
    "        encoder_hidden = encoder.initHidden()\n",
    "\n",
    "        encoder_outputs = torch.zeros(\n",
    "            max_length, encoder.hidden_size, device=device)\n",
    "\n",
    "        for ei in range(input_length):\n",
    "            encoder_output, encoder_hidden = encoder(input_tensor[ei],\n",
    "                                                     encoder_hidden)\n",
    "            encoder_outputs[ei] += encoder_output[0, 0]\n",
    "\n",
    "        decoder_input = torch.tensor([[SOS_token]], device=device)  # SOS\n",
    "\n",
    "        decoder_hidden = encoder_hidden\n",
    "\n",
    "        decoded_words = []\n",
    "\n",
    "        for di in range(max_length):\n",
    "            decoder_output, decoder_hidden, decoder_attention = decoder(decoder_input, decoder_hidden, encoder_outputs)\n",
    "            _, topone = decoder_output.data.topk(1)\n",
    "            if topone.item() == EOS_token:\n",
    "                decoded_words.append('<EOS>')\n",
    "                break\n",
    "            else:\n",
    "                decoded_words.append(output_lang.index2word[topone.item()])\n",
    "\n",
    "            decoder_input = topone.squeeze().detach()\n",
    "\n",
    "        return \" \".join(decoded_words)"
   ]
  },
  {
   "cell_type": "markdown",
   "metadata": {},
   "source": [
    "## translation of a trained model: and A"
   ]
  },
  {
   "cell_type": "code",
   "execution_count": 26,
   "metadata": {},
   "outputs": [
    {
     "name": "stdout",
     "output_type": "stream",
     "text": [
      "input_sentence : june and ross have traveled to arad\n",
      "neural translation : alison has traveled to arad <EOS>\n",
      "reference translation : june has traveled to arad <EOS>\n",
      "blue score = 0.76\n",
      "\n",
      "input_sentence : claudia has traveled to mangalia and slobozia\n",
      "neural translation : carl has traveled to mangalia <EOS>\n",
      "reference translation : claudia has traveled to mangalia <EOS>\n",
      "blue score = 0.76\n",
      "\n",
      "input_sentence : byron has traveled to turda and bucharest\n",
      "neural translation : jackie has traveled to turda <EOS>\n",
      "reference translation : byron has traveled to turda <EOS>\n",
      "blue score = 0.76\n",
      "\n"
     ]
    }
   ],
   "source": [
    "for t in training_pairs_A[0:3]:\n",
    "    print(\"input_sentence : \" + t[0])\n",
    "    neural_translation = translate(encoderA,\n",
    "                                   decoderA,\n",
    "                                   t[0],\n",
    "                                   max_length=MAX_LENGTH)\n",
    "    print(\"neural translation : \" + neural_translation)\n",
    "    reference = t[1] + ' <EOS>'\n",
    "    print(\"reference translation : \" + reference)\n",
    "    reference = reference.split(\" \")\n",
    "    candidate = neural_translation.split(\" \")\n",
    "    score = sentence_bleu([reference], candidate)\n",
    "    print(\"blue score = {:.2f}\".format(score))\n",
    "    print()"
   ]
  },
  {
   "cell_type": "markdown",
   "metadata": {},
   "source": [
    "## translation of a trained model: and B"
   ]
  },
  {
   "cell_type": "code",
   "execution_count": 27,
   "metadata": {},
   "outputs": [
    {
     "name": "stdout",
     "output_type": "stream",
     "text": [
      "input_sentence : june and ross have traveled to arad\n",
      "neural translation : sandy has traveled to arad <EOS>\n",
      "reference translation : ross has traveled to arad <EOS>\n",
      "blue score = 0.76\n",
      "\n",
      "input_sentence : claudia has traveled to mangalia and slobozia\n",
      "neural translation : sandy has traveled to slobozia <EOS>\n",
      "reference translation : claudia has traveled to slobozia <EOS>\n",
      "blue score = 0.76\n",
      "\n",
      "input_sentence : byron has traveled to turda and bucharest\n",
      "neural translation : sandy has traveled to bucharest <EOS>\n",
      "reference translation : byron has traveled to bucharest <EOS>\n",
      "blue score = 0.76\n",
      "\n"
     ]
    }
   ],
   "source": [
    "for t in training_pairs_B[0:3]:\n",
    "    print(\"input_sentence : \" + t[0])\n",
    "    neural_translation = translate(encoderB,\n",
    "                                   decoderB,\n",
    "                                   t[0],\n",
    "                                   max_length=MAX_LENGTH)\n",
    "    print(\"neural translation : \" + neural_translation)\n",
    "    reference = t[1] + ' <EOS>'\n",
    "    print(\"reference translation : \" + reference)\n",
    "    reference = reference.split(\" \")\n",
    "    candidate = neural_translation.split(\" \")\n",
    "    score = sentence_bleu([reference], candidate)\n",
    "    print(\"blue score = {:.2f}\".format(score))\n",
    "    print()"
   ]
  },
  {
   "cell_type": "markdown",
   "metadata": {},
   "source": [
    "## Defining the And model\n",
    "\n",
    "model inner working:\n",
    "\n",
    "- $s_1$ is the first sentence (e.g., 'penny is thankful and naomi is alive')\n",
    "\n",
    "- $s_2$ is the second sentence (e.g., 'penny is not alive')\n",
    "\n",
    "- $h_A = dec_{A}(enc_{A}(s_1, \\vec{0}))$\n",
    "\n",
    "- $h_B = dec_{B}(enc_{B}(s_1, \\vec{0}))$\n",
    "\n",
    "- $h_{inf} = \\sigma (W[h_A ;h_B] + b)$\n",
    "\n",
    "- $e = enc_{A}(s_2, h_{inf})$\n",
    "\n",
    "- $\\hat{y} = softmax(We + b)$"
   ]
  },
  {
   "cell_type": "code",
   "execution_count": 28,
   "metadata": {},
   "outputs": [],
   "source": [
    "class AndModel(nn.Module):\n",
    "    def __init__(self,\n",
    "                 encoderA,\n",
    "                 decoderA,\n",
    "                 encoderB,\n",
    "                 decoderB,\n",
    "                 hidden_size,\n",
    "                 output_size,\n",
    "                 max_length,\n",
    "                 input_lang,\n",
    "                 target_lang,\n",
    "                 SOS_token=0,\n",
    "                 EOS_token=1):\n",
    "        super(AndModel, self).__init__()\n",
    "        self.max_length = max_length\n",
    "        self.hidden_size = hidden_size\n",
    "        self.output_size = output_size\n",
    "        self.encoderA = encoderA\n",
    "        self.decoderA = decoderA\n",
    "        self.encoderB = encoderB\n",
    "        self.decoderB = decoderB\n",
    "        self.input_lang = input_lang\n",
    "        self.target_lang = target_lang\n",
    "        self.SOS_token = SOS_token\n",
    "        self.EOS_token = EOS_token\n",
    "        self.fc_inf = nn.Linear(hidden_size * 2, hidden_size)\n",
    "        self.fc_out = nn.Linear(hidden_size, output_size)\n",
    "        \n",
    "    \n",
    "    def encode(self,\n",
    "               sentence,\n",
    "               encoder,\n",
    "               is_tensor,\n",
    "               hidden=None):\n",
    "        if not is_tensor:\n",
    "            input_tensor = tensorFromSentence(self.input_lang, sentence)\n",
    "        else:\n",
    "            input_tensor = sentence\n",
    "\n",
    "        input_length = input_tensor.size()[0]\n",
    "        \n",
    "        if hidden is None:\n",
    "            encoder_hidden = encoder.initHidden()\n",
    "        else:\n",
    "            encoder_hidden = hidden\n",
    "        \n",
    "        encoder_outputs = torch.zeros(self.max_length,\n",
    "                                      encoder.hidden_size,\n",
    "                                      device=device)\n",
    "        \n",
    "        for ei in range(input_length):\n",
    "            encoder_output, encoder_hidden = encoder(input_tensor[ei],\n",
    "                                        encoder_hidden)\n",
    "            encoder_outputs[ei] += encoder_output[0, 0]\n",
    "            \n",
    "        self.encoder_outputs = encoder_outputs\n",
    "\n",
    "        return encoder_hidden\n",
    "    \n",
    "    \n",
    "    def decode(self,\n",
    "               tensor,\n",
    "               decoder,\n",
    "               out_tensor):\n",
    "        \n",
    "        decoder_input = torch.tensor([[self.SOS_token]], device=device)\n",
    "        decoder_hidden = tensor\n",
    "        decoded_words = []\n",
    "\n",
    "        for di in range(self.max_length):\n",
    "            decoder_output, decoder_hidden, decoder_attention = decoder(\n",
    "                decoder_input, decoder_hidden, self.encoder_outputs)\n",
    "            _, topone = decoder_output.data.topk(1)\n",
    "            if topone.item() == self.EOS_token:\n",
    "                decoded_words.append('<EOS>')\n",
    "                break\n",
    "            else:\n",
    "                decoded_words.append(self.target_lang.index2word[topone.item()])\n",
    "\n",
    "            decoder_input = topone.squeeze().detach()\n",
    "        \n",
    "        if not out_tensor:\n",
    "            output = \" \".join(decoded_words)\n",
    "        else:\n",
    "            output = decoder_hidden\n",
    "\n",
    "        return output\n",
    "    \n",
    "    def sen2vec(self, sentence, encoder, decoder, is_tensor, out_tensor):\n",
    "        encoded = self.encode(sentence, encoder, is_tensor)\n",
    "        vec = self.decode(encoded, decoder, out_tensor)\n",
    "        return vec\n",
    "    \n",
    "    def sen2vecA(self, sentence, is_tensor):\n",
    "        encoded = self.encode(sentence, self.encoderA, is_tensor)\n",
    "        vec = self.decode(encoded, self.decoderA, out_tensor=True)\n",
    "        return vec\n",
    "    \n",
    "    def sen2vecB(self, sentence, is_tensor):\n",
    "        encoded = self.encode(sentence, self.encoderB, is_tensor)\n",
    "        vec = self.decode(encoded, self.decoderB, out_tensor=True)\n",
    "        return vec\n",
    "    \n",
    "    def forward(self, s1, s2):\n",
    "        hA = self.sen2vecA(s1, is_tensor=True)\n",
    "        hB = self.sen2vecB(s1, is_tensor=True)\n",
    "#         h_inf = torch.cat([hA, hB], dim=2).squeeze(1)\n",
    "#         h_inf = torch.sigmoid(self.fc_inf(h_inf))\n",
    "#         h_inf = h_inf.view((1, h_inf.shape[0], h_inf.shape[1]))\n",
    "        h_inf = hB\n",
    "        e = self.encode(s2,\n",
    "                        self.encoderA,\n",
    "                        hidden=h_inf,\n",
    "                        is_tensor=True)\n",
    "        output = self.fc_out(e).squeeze(1)\n",
    "        \n",
    "        return output\n",
    "    \n",
    "\n",
    "    def predict(self, s1, s2):\n",
    "        out = self.forward(s1, s2)\n",
    "        softmax = nn.Softmax(dim=1)\n",
    "        out = softmax(out)\n",
    "        indices = torch.argmax(out, 1)\n",
    "        return indices\n",
    "\n",
    "        \n"
   ]
  },
  {
   "cell_type": "code",
   "execution_count": 29,
   "metadata": {},
   "outputs": [],
   "source": [
    "addmodel = AndModel(encoderA,\n",
    "                    decoderA,\n",
    "                     encoderB,\n",
    "                     decoderB,\n",
    "                     hidden_size=256,\n",
    "                     output_size=2,\n",
    "                     max_length=MAX_LENGTH,\n",
    "                     input_lang=input_lang,\n",
    "                     target_lang=output_lang)"
   ]
  },
  {
   "cell_type": "markdown",
   "metadata": {},
   "source": [
    "Test encoding decoding"
   ]
  },
  {
   "cell_type": "code",
   "execution_count": 30,
   "metadata": {},
   "outputs": [
    {
     "name": "stdout",
     "output_type": "stream",
     "text": [
      "===========\n",
      "s1:\n",
      "\n",
      "june and ross have traveled to arad\n",
      "\n",
      "inference A:\n",
      "\n",
      "alison has traveled to arad <EOS>\n",
      "\n",
      "inference B:\n",
      "\n",
      "sandy has traveled to arad <EOS>\n",
      "===========\n",
      "s1:\n",
      "\n",
      "claudia has traveled to mangalia and slobozia\n",
      "\n",
      "inference A:\n",
      "\n",
      "carl has traveled to mangalia <EOS>\n",
      "\n",
      "inference B:\n",
      "\n",
      "sandy has traveled to slobozia <EOS>\n",
      "===========\n",
      "s1:\n",
      "\n",
      "byron has traveled to turda and bucharest\n",
      "\n",
      "inference A:\n",
      "\n",
      "jackie has traveled to turda <EOS>\n",
      "\n",
      "inference B:\n",
      "\n",
      "sandy has traveled to bucharest <EOS>\n"
     ]
    }
   ],
   "source": [
    "for ex in training_pairs_B[0:3]:\n",
    "    print(\"===========\")\n",
    "    ex = ex[0]\n",
    "    print(\"s1:\\n\")\n",
    "    print(ex)\n",
    "    print()\n",
    "\n",
    "    \n",
    "    ex_A = addmodel.sen2vec(ex,\n",
    "                     addmodel.encoderA,\n",
    "                     addmodel.decoderA,\n",
    "                     is_tensor=False,\n",
    "                     out_tensor=False)\n",
    "    \n",
    "    ex_B = addmodel.sen2vec(ex,\n",
    "                     addmodel.encoderB,\n",
    "                     addmodel.decoderB,\n",
    "                     is_tensor=False,\n",
    "                     out_tensor=False)\n",
    "\n",
    "    print(\"inference A:\\n\")\n",
    "    print(ex_A)\n",
    "    print()\n",
    "    print(\"inference B:\\n\")\n",
    "    print(ex_B)"
   ]
  },
  {
   "cell_type": "code",
   "execution_count": 31,
   "metadata": {},
   "outputs": [
    {
     "name": "stdout",
     "output_type": "stream",
     "text": [
      "===========\n",
      "s1:\n",
      "\n",
      "june and ross have traveled to arad\n",
      "\n",
      "tensor([[[ 0.1168,  0.9363,  0.9771, -0.8925,  0.0793,  0.9797, -0.9234,\n",
      "          -0.4949,  0.7958, -0.7180, -0.4734, -0.6441,  0.2790,  0.8437,\n",
      "          -0.5670,  0.8386,  0.9850, -0.9968,  0.5504, -0.7851, -0.8139,\n",
      "          -0.3760,  0.5307,  0.7120,  0.3510,  0.2559,  0.9042,  0.9376,\n",
      "          -0.7212, -0.7072, -0.2059, -0.8118,  0.9069, -0.2735,  0.6409,\n",
      "           0.6819, -0.8719, -0.4692, -0.7569,  0.6929, -0.3945, -0.8014,\n",
      "           0.8124, -0.9007, -0.1812,  0.6912,  0.9183,  0.9550,  0.6864,\n",
      "          -0.9060, -0.1026,  0.8250,  0.8265,  0.5533, -0.6583,  0.3587,\n",
      "          -0.8652, -0.2858, -0.2745,  0.7340,  0.5593,  0.8203,  0.9712,\n",
      "           0.8756,  0.6108, -0.9588, -0.2643,  0.9432, -0.1710, -0.9413,\n",
      "           0.8782, -0.9582, -0.9147, -0.9838, -0.8380,  0.7914,  0.7476,\n",
      "           0.2090,  0.2155,  0.9173, -0.6158, -0.6873,  0.7423,  0.3597,\n",
      "           0.9573,  0.8422, -0.7108,  0.5701, -0.4602,  0.4756, -0.3975,\n",
      "          -0.1832,  0.6432,  0.2449, -0.6989,  0.7669, -0.7932, -0.7854,\n",
      "          -0.9703, -0.3760,  0.9586, -0.6982, -0.5404,  0.3922,  0.4622,\n",
      "           0.9252, -0.5107,  0.7335, -0.9179, -0.3613,  0.9449,  0.6104,\n",
      "           0.9821,  0.6524,  0.6506,  0.6960,  0.2857,  0.3109,  0.8753,\n",
      "           0.1634, -0.1261,  0.6714, -0.0745,  0.8074,  0.9363,  0.9284,\n",
      "          -0.0855, -0.3280,  0.7455, -0.1897, -0.9931,  0.9391, -0.6820,\n",
      "          -0.0672, -0.9417, -0.7912,  0.6098, -0.1123, -0.6488,  0.9511,\n",
      "           0.8725, -0.4634, -0.9828,  0.9532, -0.8945, -0.7921, -0.7335,\n",
      "           0.5018, -0.6010, -0.8370, -0.4381, -0.4821,  0.2083, -0.9243,\n",
      "          -0.9419, -0.9453, -0.6068, -0.6926, -0.3214, -0.8278, -0.7445,\n",
      "           0.9935, -0.6254, -0.4771, -0.4008,  0.7919,  0.9437,  0.0263,\n",
      "          -0.2484,  0.0869, -0.9854, -0.9483, -0.8920,  0.4057, -0.2462,\n",
      "          -0.7018,  0.9799,  0.7101, -0.5495, -0.3035,  0.2059, -0.5788,\n",
      "          -0.1049,  0.8937, -0.9020,  0.6537,  0.9071,  0.6635,  0.5066,\n",
      "          -0.7541,  0.1478,  0.8180,  0.9149,  0.9467,  0.7941,  0.9026,\n",
      "           0.0799, -0.9488,  0.1599,  0.6019, -0.4404, -0.9105,  0.2213,\n",
      "           0.9222, -0.8095, -0.9312, -0.9766,  0.7910, -0.8770,  0.5383,\n",
      "          -0.4005,  0.4998, -0.8236, -0.3670, -0.1551,  0.4153, -0.8417,\n",
      "           0.9592,  0.8026,  0.9686, -0.5619,  0.9478, -0.3372,  0.5668,\n",
      "          -0.2263,  0.9287, -0.9231,  0.1793, -0.2640,  0.8527, -0.1023,\n",
      "           0.8670,  0.8879, -0.0822,  0.5013, -0.7940, -0.6960, -0.8035,\n",
      "           0.2878, -0.1251,  0.4760, -0.2167,  0.6165, -0.1866, -0.7115,\n",
      "          -0.2284, -0.6745, -0.3454, -0.8269,  0.9319, -0.4822, -0.1520,\n",
      "          -0.8359, -0.5691, -0.7478, -0.9709]]], grad_fn=<ViewBackward>)\n",
      "\n",
      "tensor([[[ 0.7061,  0.9599, -0.1558,  0.9449,  0.6450,  0.8130, -0.3729,\n",
      "           0.3957,  0.9016, -0.1515,  0.6432,  0.8865, -0.5733,  0.5504,\n",
      "          -0.4163, -0.0702,  0.1121,  0.7776,  0.9301, -0.7718, -0.4529,\n",
      "           0.9620,  0.7053,  0.8536,  0.7281, -0.8557,  0.9739,  0.9561,\n",
      "           0.4280,  0.6368,  0.4333,  0.2077, -0.6799,  0.7954, -0.3610,\n",
      "           0.5546, -0.9189,  0.8204, -0.8133,  0.6221,  0.8365,  0.4012,\n",
      "           0.6207,  0.9841,  0.8170, -0.5996,  0.8737, -0.0897,  0.9829,\n",
      "           0.6670,  0.0940,  0.8135,  0.7268, -0.9701, -0.9397, -0.1712,\n",
      "          -0.2705,  0.9019,  0.8787,  0.8128,  0.7524, -0.2989,  0.8793,\n",
      "          -0.7346, -0.7900, -0.5741,  0.9491, -0.5700,  0.8161,  0.7488,\n",
      "           0.4649,  0.2529, -0.8425, -0.3040,  0.8142,  0.0118, -0.8421,\n",
      "           0.6423, -0.5876,  0.8783, -0.2358,  0.7688, -0.9082,  0.7132,\n",
      "           0.6369,  0.8076,  0.8724,  0.9126, -0.7805,  0.3245, -0.8768,\n",
      "          -0.8887, -0.5193,  0.7168,  0.9497, -0.9482,  0.9127,  0.4358,\n",
      "           0.8860,  0.2154, -0.9181,  0.7998, -0.7100,  0.9791, -0.9094,\n",
      "          -0.9246,  0.0209,  0.9247,  0.9887,  0.5961, -0.0386,  0.9904,\n",
      "          -0.7481,  0.9391,  0.9939,  0.8197,  0.0797,  0.8224, -0.5965,\n",
      "           0.7706, -0.2948, -0.4825, -0.4695, -0.8557,  0.7789,  0.5335,\n",
      "           0.9815, -0.7779,  0.9479,  0.6080, -0.8701, -0.8425, -0.7104,\n",
      "           0.8576,  0.3241,  0.9287, -0.5847, -0.7138,  0.1677, -0.1052,\n",
      "          -0.8375, -0.9209,  0.9727,  0.1115,  0.2788, -0.3162, -0.8660,\n",
      "           0.9628,  0.9211, -0.4133, -0.5107, -0.9255, -0.5764, -0.7607,\n",
      "          -0.8460, -0.9418,  0.5609, -0.8675,  0.9497,  0.6946,  0.6831,\n",
      "          -0.3367, -0.5520, -0.2418, -0.6206,  0.0164,  0.5288,  0.9691,\n",
      "          -0.9131,  0.7363, -0.9958, -0.8908,  0.6552, -0.9051,  0.8657,\n",
      "           0.3878, -0.6730, -0.4647, -0.6207,  0.2705, -0.8015,  0.7353,\n",
      "           0.5410,  0.3353,  0.8795, -0.8427,  0.9208, -0.5530, -0.8853,\n",
      "           0.9133, -0.5097,  0.5785,  0.0902, -0.9631,  0.6450,  0.2433,\n",
      "          -0.7081, -0.9836,  0.3865, -0.2349,  0.5870, -0.8369, -0.6439,\n",
      "           0.6575,  0.9731, -0.9157,  0.7394,  0.8912,  0.9600,  0.9154,\n",
      "           0.7021, -0.4304, -0.0590,  0.9433,  0.5308,  0.6123,  0.0059,\n",
      "           0.6016, -0.7544,  0.7601, -0.3001,  0.8439, -0.2432,  0.3876,\n",
      "          -0.1627,  0.4089,  0.6755, -0.7259, -0.6264, -0.9566, -0.9735,\n",
      "           0.8280,  0.7458, -0.5169,  0.2892, -0.9568,  0.7109,  0.1330,\n",
      "           0.9088, -0.9829,  0.6483,  0.1853,  0.7051, -0.2667, -0.6517,\n",
      "          -0.4683,  0.4658, -0.7233,  0.5921, -0.2698, -0.7951,  0.7678,\n",
      "          -0.9814, -0.4806,  0.9571,  0.1595]]], grad_fn=<ViewBackward>)\n"
     ]
    }
   ],
   "source": [
    "for ex in training_pairs_B[0:1]:\n",
    "    print(\"===========\")\n",
    "    ex = ex[0]\n",
    "    print(\"s1:\\n\")\n",
    "    print(ex)\n",
    "    print()\n",
    "\n",
    "    ex_A = addmodel.sen2vecA(ex,is_tensor=False)\n",
    "    ex_B = addmodel.sen2vecB(ex,is_tensor=False)\n",
    "    \n",
    "    print(ex_A)\n",
    "    print()\n",
    "    print(ex_B)"
   ]
  },
  {
   "cell_type": "code",
   "execution_count": 32,
   "metadata": {},
   "outputs": [],
   "source": [
    "train_triples = zip(list(df2train.sentence1.values), list(df2train.sentence2.values), list(df2train.label.values))\n",
    "train_triples = [(normalizeString(s1), normalizeString(s2), l) for s1, s2, l in train_triples]\n",
    "train_triples_t = [tensorsFromTriple(t) for t in train_triples]"
   ]
  },
  {
   "cell_type": "code",
   "execution_count": 33,
   "metadata": {},
   "outputs": [],
   "source": [
    "train_triples = zip(list(df2train.sentence1.values), list(df2train.sentence2.values), list(df2train.label.values))\n",
    "train_triples = [(normalizeString(s1), normalizeString(s2), l) for s1, s2, l in train_triples]\n",
    "train_triples_t = [tensorsFromTriple(t) for t in train_triples]"
   ]
  },
  {
   "cell_type": "code",
   "execution_count": 34,
   "metadata": {},
   "outputs": [],
   "source": [
    "valid_triples = zip(list(df2valid.sentence1.values), list(df2valid.sentence2.values), list(df2valid.label.values))\n",
    "valid_triples = [(normalizeString(s1), normalizeString(s2), l) for s1, s2, l in valid_triples]\n",
    "valid_triples_t = [tensorsFromTriple(t) for t in valid_triples]"
   ]
  },
  {
   "cell_type": "code",
   "execution_count": 35,
   "metadata": {},
   "outputs": [
    {
     "data": {
      "text/plain": [
       "1500"
      ]
     },
     "execution_count": 35,
     "metadata": {},
     "output_type": "execute_result"
    }
   ],
   "source": [
    "len(valid_triples_t)"
   ]
  },
  {
   "cell_type": "code",
   "execution_count": 36,
   "metadata": {},
   "outputs": [],
   "source": [
    "test_triples = zip(list(df2_test.sentence1.values), list(df2_test.sentence2.values), list(df2_test.label.values))\n",
    "test_triples = [(normalizeString(s1), normalizeString(s2), l) for s1, s2, l in test_triples]\n",
    "test_triples_t = [tensorsFromTriple(t) for t in test_triples]"
   ]
  },
  {
   "cell_type": "code",
   "execution_count": 37,
   "metadata": {},
   "outputs": [
    {
     "name": "stdout",
     "output_type": "stream",
     "text": [
      "('june and ross have traveled to arad', 'ross didn t travel to arad', 1)\n",
      "(tensor([[ 2],\n",
      "        [ 3],\n",
      "        [ 4],\n",
      "        [ 5],\n",
      "        [ 6],\n",
      "        [ 7],\n",
      "        [12],\n",
      "        [ 1]]), tensor([[ 4],\n",
      "        [ 9],\n",
      "        [10],\n",
      "        [11],\n",
      "        [ 7],\n",
      "        [12],\n",
      "        [ 1]]), tensor([1]))\n"
     ]
    }
   ],
   "source": [
    "example = train_triples[0]\n",
    "print(example)\n",
    "example_t = train_triples_t[0]\n",
    "print(example_t)"
   ]
  },
  {
   "cell_type": "markdown",
   "metadata": {},
   "source": [
    "## Prediction BEFORE training"
   ]
  },
  {
   "cell_type": "code",
   "execution_count": 38,
   "metadata": {},
   "outputs": [
    {
     "data": {
      "image/png": "[encoded data removed]",
      "text/plain": [
       "<Figure size 648x648 with 2 Axes>"
      ]
     },
     "metadata": {},
     "output_type": "display_data"
    }
   ],
   "source": [
    "n_iters = 100\n",
    "training_pairs_little = [random.choice(train_triples_t) for i in range(n_iters)]\n",
    "predictions = []\n",
    "labels = []\n",
    "\n",
    "for i in range(n_iters):\n",
    "    s1, s2, label = training_pairs_little[i]\n",
    "    pred = addmodel.predict(s1, s2)\n",
    "    label = label.item()\n",
    "    pred = pred.item()\n",
    "    predictions.append(pred)\n",
    "    labels.append(label)\n",
    "\n",
    "plot_confusion_matrix(labels,\n",
    "                      predictions,\n",
    "                      classes=[\"no\", \"yes\"],\n",
    "                      path=\"confusion_matrix.png\")"
   ]
  },
  {
   "cell_type": "markdown",
   "metadata": {},
   "source": [
    "### Training functions"
   ]
  },
  {
   "cell_type": "code",
   "execution_count": 39,
   "metadata": {},
   "outputs": [],
   "source": [
    "def CEtrain(s1_tensor,\n",
    "            s2_tensor,\n",
    "            label,\n",
    "            model,\n",
    "            optimizer,\n",
    "            criterion):\n",
    "    \n",
    "    model.train()\n",
    "    optimizer.zero_grad()\n",
    "    logits = model(s1_tensor, s2_tensor)\n",
    "    loss = criterion(logits, label)\n",
    "    loss.backward()\n",
    "    optimizer.step()\n",
    "    return loss"
   ]
  },
  {
   "cell_type": "markdown",
   "metadata": {},
   "source": [
    "Test CEtrain"
   ]
  },
  {
   "cell_type": "code",
   "execution_count": 40,
   "metadata": {},
   "outputs": [],
   "source": [
    "CE = nn.CrossEntropyLoss()\n",
    "addmodel_opt = torch.optim.SGD(addmodel.parameters(), lr= 0.3)\n",
    "\n",
    "loss = CEtrain(s1_tensor=example_t[0],\n",
    "               s2_tensor=example_t[1],\n",
    "               label=example_t[2],\n",
    "               model=addmodel,\n",
    "               optimizer=addmodel_opt,\n",
    "               criterion=CE)\n",
    "assert type(loss.item()) == float "
   ]
  },
  {
   "cell_type": "markdown",
   "metadata": {},
   "source": [
    "## Little example of training"
   ]
  },
  {
   "cell_type": "code",
   "execution_count": 41,
   "metadata": {},
   "outputs": [
    {
     "name": "stdout",
     "output_type": "stream",
     "text": [
      "epoch 1/10 2m 16s mean loss = 1.38\n",
      "epoch 2/10 2m 37s mean loss = 0.90\n",
      "epoch 3/10 2m 24s mean loss = 0.86\n",
      "epoch 4/10 2m 39s mean loss = 0.80\n",
      "epoch 5/10 2m 30s mean loss = 0.78\n",
      "epoch 6/10 2m 29s mean loss = 0.78\n",
      "epoch 7/10 2m 33s mean loss = 0.77\n",
      "epoch 8/10 2m 34s mean loss = 0.76\n",
      "epoch 9/10 2m 23s mean loss = 0.72\n",
      "epoch 10/10 2m 39s mean loss = 0.75\n"
     ]
    },
    {
     "data": {
      "image/png": "[encoded data removed]",
      "text/plain": [
       "<Figure size 1080x288 with 1 Axes>"
      ]
     },
     "metadata": {},
     "output_type": "display_data"
    }
   ],
   "source": [
    "epochs = 10\n",
    "learning_rate = 0.1\n",
    "\n",
    "CE = nn.CrossEntropyLoss()\n",
    "\n",
    "encoderA = EncoderRNN(eng_enc_v_size, hidden_size)\n",
    "decoderA = AttnDecoderRNN(hidden_size, eng_dec_v_size)\n",
    "encoderA.load_state_dict(torch.load(\"b3_encoder1_att.pkl\"))\n",
    "decoderA.load_state_dict(torch.load(\"b3_decoder1_att.pkl\"))\n",
    "encoderB = EncoderRNN(eng_enc_v_size, hidden_size)\n",
    "decoderB = AttnDecoderRNN(hidden_size, eng_dec_v_size)\n",
    "encoderB.load_state_dict(torch.load(\"b3_encoder2_att.pkl\"))\n",
    "decoderB.load_state_dict(torch.load(\"b3_decoder2_att.pkl\"))\n",
    "\n",
    "addmodel = AndModel(encoderA,\n",
    "                    decoderA,\n",
    "                    encoderB,\n",
    "                    decoderB,\n",
    "                    hidden_size=256,\n",
    "                    output_size=2,\n",
    "                    max_length=MAX_LENGTH,\n",
    "                    input_lang=input_lang,\n",
    "                    target_lang=output_lang)\n",
    "\n",
    "\n",
    "\n",
    "# # for model in [encoderA, decoderA, encoderB, decoderB]:\n",
    "# for model in [encoderB, decoderB]:\n",
    "#     for param in model.parameters():\n",
    "#         param.requires_grad = False\n",
    "\n",
    "# addmodel_opt = torch.optim.SGD(addmodel.parameters(), lr= learning_rate)\n",
    "addmodel_opt = torch.optim.Adagrad(addmodel.parameters(), lr= learning_rate)\n",
    "# addmodel_opt = torch.optim.Adadelta(addmodel.parameters(), lr= learning_rate)\n",
    "# addmodel_opt = torch.optim.Adam(addmodel.parameters(), lr= learning_rate)\n",
    "# addmodel_opt = torch.optim.SparseAdam(addmodel.parameters(), lr= learning_rate)\n",
    "# addmodel_opt = torch.optim.RMSprop(addmodel.parameters(), lr= learning_rate)\n",
    "\n",
    "\n",
    "\n",
    "\n",
    "\n",
    "losses_per_epoch = []\n",
    "\n",
    "for i in range(epochs):\n",
    "    losses = []\n",
    "    start = time.time()\n",
    "    n_iters = 1000\n",
    "    training_pairs_little = [random.choice(train_triples_t) for i in range(n_iters)]\n",
    "    for t in training_pairs_little:\n",
    "        s1, s2, label = t    \n",
    "        loss = CEtrain(s1_tensor=s1,\n",
    "                       s2_tensor=s2,\n",
    "                       label=label,\n",
    "                       model=addmodel,\n",
    "                       optimizer=addmodel_opt,\n",
    "                       criterion=CE)\n",
    "        losses.append(loss.item())\n",
    "    mean_loss = np.mean(losses)\n",
    "    losses_per_epoch.append(mean_loss)\n",
    "    print(\"epoch {}/{}\".format(i+1, epochs), timeSince(start), \"mean loss = {:.2f}\".format(mean_loss))\n",
    "\n",
    "simple_step_plot([losses_per_epoch],\n",
    "                 \"loss\",\n",
    "                 \"loss example ({} epochs)\".format(epochs),\n",
    "                 \"loss_example.png\",\n",
    "                  figsize=(15,4))"
   ]
  },
  {
   "cell_type": "markdown",
   "metadata": {},
   "source": [
    "## Prediction AFTER training"
   ]
  },
  {
   "cell_type": "code",
   "execution_count": 42,
   "metadata": {},
   "outputs": [
    {
     "data": {
      "image/png": "[encoded data removed]",
      "text/plain": [
       "<Figure size 648x648 with 2 Axes>"
      ]
     },
     "metadata": {},
     "output_type": "display_data"
    }
   ],
   "source": [
    "n_iters = 100\n",
    "training_pairs_little = [random.choice(train_triples_t) for i in range(n_iters)]\n",
    "predictions = []\n",
    "labels = []\n",
    "\n",
    "for i in range(n_iters):\n",
    "    s1, s2, label = training_pairs_little[i]\n",
    "    pred = addmodel.predict(s1, s2)\n",
    "    label = label.item()\n",
    "    pred = pred.item()\n",
    "    predictions.append(pred)\n",
    "    labels.append(label)\n",
    "\n",
    "plot_confusion_matrix(labels,\n",
    "                      predictions,\n",
    "                      classes=[\"no\", \"yes\"],\n",
    "                      path=\"confusion_matrix.png\")"
   ]
  },
  {
   "cell_type": "code",
   "execution_count": 43,
   "metadata": {},
   "outputs": [
    {
     "data": {
      "image/png": "[encoded data removed]",
      "text/plain": [
       "<Figure size 648x648 with 2 Axes>"
      ]
     },
     "metadata": {},
     "output_type": "display_data"
    }
   ],
   "source": [
    "n_iters = len(valid_triples_t)\n",
    "valid_pairs_little = [random.choice(valid_triples_t) for i in range(n_iters)]\n",
    "predictions = []\n",
    "labels = []\n",
    "\n",
    "for i in range(n_iters):\n",
    "    s1, s2, label = valid_pairs_little[i]\n",
    "    pred = addmodel.predict(s1, s2)\n",
    "    label = label.item()\n",
    "    pred = pred.item()\n",
    "    predictions.append(pred)\n",
    "    labels.append(label)\n",
    "\n",
    "plot_confusion_matrix(labels,\n",
    "                      predictions,\n",
    "                      classes=[\"no\", \"yes\"],\n",
    "                      path=\"confusion_matrix.png\")"
   ]
  },
  {
   "cell_type": "code",
   "execution_count": 44,
   "metadata": {},
   "outputs": [],
   "source": [
    "# n_iters = len(test_triples_t)\n",
    "# test_pairs_little = [random.choice(test_triples_t) for i in range(n_iters)]\n",
    "# predictions = []\n",
    "# labels = []\n",
    "\n",
    "# for i in range(n_iters):\n",
    "#     s1, s2, label = test_pairs_little[i]\n",
    "#     pred = addmodel.predict(s1, s2)\n",
    "#     label = label.item()\n",
    "#     pred = pred.item()\n",
    "#     predictions.append(pred)\n",
    "#     labels.append(label)\n",
    "\n",
    "# plot_confusion_matrix(labels,\n",
    "#                       predictions,\n",
    "#                       classes=[\"no\", \"yes\"],\n",
    "#                       path=\"confusion_matrix.png\")"
   ]
  },
  {
   "cell_type": "code",
   "execution_count": null,
   "metadata": {},
   "outputs": [],
   "source": []
  }
 ],
 "metadata": {
  "kernelspec": {
   "display_name": "Python 3",
   "language": "python",
   "name": "python3"
  },
  "language_info": {
   "codemirror_mode": {
    "name": "ipython",
    "version": 3
   },
   "file_extension": ".py",
   "mimetype": "text/x-python",
   "name": "python",
   "nbconvert_exporter": "python",
   "pygments_lexer": "ipython3",
   "version": "3.5.2"
  }
 },
 "nbformat": 4,
 "nbformat_minor": 2
}
