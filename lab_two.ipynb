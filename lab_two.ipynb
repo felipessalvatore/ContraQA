{
 "cells": [
  {
   "cell_type": "markdown",
   "metadata": {},
   "source": [
    "# Basic optimization"
   ]
  },
  {
   "cell_type": "code",
   "execution_count": 1,
   "metadata": {},
   "outputs": [],
   "source": [
    "from contra_qa.text_generation.boolean2_S_and import boolean2\n",
    "from contra_qa.text_processing.functions import simple_pre_process_text_df\n",
    "from contra_qa.plots.functions  import plot_histogram_from_labels, plot_confusion_matrix, simple_step_plot\n",
    "\n",
    "from contra_qa.train_functions.RNNConfig import RNNConfig\n",
    "import numpy as np\n",
    "import torch\n",
    "import torch.nn as nn\n",
    "from torchtext import data\n",
    "\n",
    "import pandas as pd\n",
    "import  matplotlib.pyplot as plt\n",
    "device = torch.device(\"cuda\" if torch.cuda.is_available() else \"cpu\")\n",
    "\n",
    "% matplotlib inline"
   ]
  },
  {
   "cell_type": "code",
   "execution_count": 2,
   "metadata": {},
   "outputs": [],
   "source": [
    "boolean2()\n",
    "df2 = pd.read_csv(\"data/boolean2_train.csv\")"
   ]
  },
  {
   "cell_type": "code",
   "execution_count": 3,
   "metadata": {},
   "outputs": [
    {
     "data": {
      "text/html": [
       "<div>\n",
       "<style scoped>\n",
       "    .dataframe tbody tr th:only-of-type {\n",
       "        vertical-align: middle;\n",
       "    }\n",
       "\n",
       "    .dataframe tbody tr th {\n",
       "        vertical-align: top;\n",
       "    }\n",
       "\n",
       "    .dataframe thead th {\n",
       "        text-align: right;\n",
       "    }\n",
       "</style>\n",
       "<table border=\"1\" class=\"dataframe\">\n",
       "  <thead>\n",
       "    <tr style=\"text-align: right;\">\n",
       "      <th></th>\n",
       "      <th>sentence1</th>\n",
       "      <th>sentence2</th>\n",
       "      <th>and_A</th>\n",
       "      <th>and_B</th>\n",
       "      <th>label</th>\n",
       "    </tr>\n",
       "  </thead>\n",
       "  <tbody>\n",
       "    <tr>\n",
       "      <th>9995</th>\n",
       "      <td>Herman is wonderful and Kayla is poor</td>\n",
       "      <td>Kayla is not wonderful</td>\n",
       "      <td>Herman is wonderful</td>\n",
       "      <td>Kayla is poor</td>\n",
       "      <td>0</td>\n",
       "    </tr>\n",
       "    <tr>\n",
       "      <th>9996</th>\n",
       "      <td>Fernando is proud and Anne is unimportant</td>\n",
       "      <td>Anne is not proud</td>\n",
       "      <td>Fernando is proud</td>\n",
       "      <td>Anne is unimportant</td>\n",
       "      <td>0</td>\n",
       "    </tr>\n",
       "    <tr>\n",
       "      <th>9997</th>\n",
       "      <td>Wallace is calm and Pedro is inexpensive</td>\n",
       "      <td>Wallace is not inexpensive</td>\n",
       "      <td>Wallace is calm</td>\n",
       "      <td>Pedro is inexpensive</td>\n",
       "      <td>0</td>\n",
       "    </tr>\n",
       "    <tr>\n",
       "      <th>9998</th>\n",
       "      <td>Elizabeth is better and Emily is inexpensive</td>\n",
       "      <td>Emily is not inexpensive</td>\n",
       "      <td>Elizabeth is better</td>\n",
       "      <td>Emily is inexpensive</td>\n",
       "      <td>1</td>\n",
       "    </tr>\n",
       "    <tr>\n",
       "      <th>9999</th>\n",
       "      <td>Harvey is jolly and Christopher is rich</td>\n",
       "      <td>Harvey is not rich</td>\n",
       "      <td>Harvey is jolly</td>\n",
       "      <td>Christopher is rich</td>\n",
       "      <td>0</td>\n",
       "    </tr>\n",
       "  </tbody>\n",
       "</table>\n",
       "</div>"
      ],
      "text/plain": [
       "                                         sentence1  \\\n",
       "9995         Herman is wonderful and Kayla is poor   \n",
       "9996     Fernando is proud and Anne is unimportant   \n",
       "9997      Wallace is calm and Pedro is inexpensive   \n",
       "9998  Elizabeth is better and Emily is inexpensive   \n",
       "9999       Harvey is jolly and Christopher is rich   \n",
       "\n",
       "                        sentence2                and_A                 and_B  \\\n",
       "9995       Kayla is not wonderful  Herman is wonderful         Kayla is poor   \n",
       "9996            Anne is not proud    Fernando is proud   Anne is unimportant   \n",
       "9997   Wallace is not inexpensive      Wallace is calm  Pedro is inexpensive   \n",
       "9998     Emily is not inexpensive  Elizabeth is better  Emily is inexpensive   \n",
       "9999           Harvey is not rich      Harvey is jolly   Christopher is rich   \n",
       "\n",
       "      label  \n",
       "9995      0  \n",
       "9996      0  \n",
       "9997      0  \n",
       "9998      1  \n",
       "9999      0  "
      ]
     },
     "execution_count": 3,
     "metadata": {},
     "output_type": "execute_result"
    }
   ],
   "source": [
    "df2.tail()"
   ]
  },
  {
   "cell_type": "code",
   "execution_count": 4,
   "metadata": {},
   "outputs": [
    {
     "data": {
      "image/png": "[encoded data removed]",
      "text/plain": [
       "<Figure size 432x288 with 1 Axes>"
      ]
     },
     "metadata": {},
     "output_type": "display_data"
    },
    {
     "data": {
      "image/png": "[encoded data removed]",
      "text/plain": [
       "<Figure size 432x288 with 1 Axes>"
      ]
     },
     "metadata": {},
     "output_type": "display_data"
    }
   ],
   "source": [
    "df2train = df2.iloc[:8500]\n",
    "df2valid = df2.iloc[8500:]\n",
    "plot_histogram_from_labels(df2train.label.values, [\"no\", \"yes\"], \"test.png\") \n",
    "plot_histogram_from_labels(df2valid.label.values, [\"no\", \"yes\"], \"test.png\")"
   ]
  },
  {
   "cell_type": "code",
   "execution_count": 5,
   "metadata": {},
   "outputs": [
    {
     "data": {
      "text/html": [
       "<div>\n",
       "<style scoped>\n",
       "    .dataframe tbody tr th:only-of-type {\n",
       "        vertical-align: middle;\n",
       "    }\n",
       "\n",
       "    .dataframe tbody tr th {\n",
       "        vertical-align: top;\n",
       "    }\n",
       "\n",
       "    .dataframe thead th {\n",
       "        text-align: right;\n",
       "    }\n",
       "</style>\n",
       "<table border=\"1\" class=\"dataframe\">\n",
       "  <thead>\n",
       "    <tr style=\"text-align: right;\">\n",
       "      <th></th>\n",
       "      <th>text</th>\n",
       "      <th>label</th>\n",
       "    </tr>\n",
       "  </thead>\n",
       "  <tbody>\n",
       "    <tr>\n",
       "      <th>0</th>\n",
       "      <td>marvin is proud and bessie is proud, marvin is...</td>\n",
       "      <td>1</td>\n",
       "    </tr>\n",
       "    <tr>\n",
       "      <th>1</th>\n",
       "      <td>terrance is lively and judith is zealous, terr...</td>\n",
       "      <td>1</td>\n",
       "    </tr>\n",
       "    <tr>\n",
       "      <th>2</th>\n",
       "      <td>connie is vast and lorraine is dead, lorraine ...</td>\n",
       "      <td>1</td>\n",
       "    </tr>\n",
       "    <tr>\n",
       "      <th>3</th>\n",
       "      <td>kirk is proud and crystal is victorious, kirk ...</td>\n",
       "      <td>1</td>\n",
       "    </tr>\n",
       "    <tr>\n",
       "      <th>4</th>\n",
       "      <td>marie is clever and angela is helpful, angela ...</td>\n",
       "      <td>1</td>\n",
       "    </tr>\n",
       "  </tbody>\n",
       "</table>\n",
       "</div>"
      ],
      "text/plain": [
       "                                                text  label\n",
       "0  marvin is proud and bessie is proud, marvin is...      1\n",
       "1  terrance is lively and judith is zealous, terr...      1\n",
       "2  connie is vast and lorraine is dead, lorraine ...      1\n",
       "3  kirk is proud and crystal is victorious, kirk ...      1\n",
       "4  marie is clever and angela is helpful, angela ...      1"
      ]
     },
     "execution_count": 5,
     "metadata": {},
     "output_type": "execute_result"
    }
   ],
   "source": [
    "simple_pre_process_text_df(df2, \"sentence1\")\n",
    "simple_pre_process_text_df(df2, \"sentence2\")\n",
    "simple_pre_process_text_df(df2, \"and_A\")\n",
    "simple_pre_process_text_df(df2, \"and_B\")\n",
    "\n",
    "df2[\"text\"] = df2[\"sentence1\"] + \", \" + df2[\"sentence2\"]\n",
    "df2_little = df2[[\"text\", \"label\"]]\n",
    "\n",
    "df2_little.head()"
   ]
  },
  {
   "cell_type": "code",
   "execution_count": 6,
   "metadata": {},
   "outputs": [],
   "source": [
    "train_data_path = \"data/boolean_2_train_lab.csv\"\n",
    "df2_little.to_csv(train_data_path, header=False, index=False)\n",
    "TEXT = data.Field()\n",
    "LABEL = data.LabelField(tensor_type=torch.FloatTensor)\n",
    "train = data.TabularDataset(path=train_data_path,\n",
    "                            format=\"csv\",\n",
    "                            fields=[('text', TEXT), ('label', LABEL)])\n",
    "TEXT.build_vocab(train, max_size=25000)\n",
    "LABEL.build_vocab(train)"
   ]
  },
  {
   "cell_type": "code",
   "execution_count": 7,
   "metadata": {},
   "outputs": [
    {
     "name": "stdout",
     "output_type": "stream",
     "text": [
      "len(TEXT.vocab): 753\n",
      "len(LABEL.vocab): 2\n"
     ]
    }
   ],
   "source": [
    "print('len(TEXT.vocab):', len(TEXT.vocab))\n",
    "print('len(LABEL.vocab):', len(LABEL.vocab))"
   ]
  },
  {
   "cell_type": "code",
   "execution_count": 8,
   "metadata": {},
   "outputs": [],
   "source": [
    "def finde_size(list_):\n",
    "    return np.max(list(map(lambda x: len(x.split(\" \")), list_)))"
   ]
  },
  {
   "cell_type": "code",
   "execution_count": 9,
   "metadata": {},
   "outputs": [],
   "source": [
    "def str_list2tensor(list_):\n",
    "    list_i = []\n",
    "    max_size = finde_size(list_)\n",
    "    for line in list_:\n",
    "        line = line.split(\" \")\n",
    "        size = len(line) \n",
    "        tail = max_size - size\n",
    "        line += [TEXT.pad_token] * tail\n",
    "        new_line = [TEXT.vocab.stoi[word] for word in line]\n",
    "        list_i.append(new_line)\n",
    "    return torch.tensor(list_i, dtype=torch.long, device=device)"
   ]
  },
  {
   "cell_type": "code",
   "execution_count": 10,
   "metadata": {},
   "outputs": [],
   "source": [
    "s1_t = str_list2tensor(list(df2train.sentence1.values))\n",
    "y_t = torch.tensor(list(df2train.label.values),\n",
    "                   dtype=torch.long,\n",
    "                   device=device)"
   ]
  },
  {
   "cell_type": "code",
   "execution_count": 11,
   "metadata": {},
   "outputs": [],
   "source": [
    "from torch.utils.data import TensorDataset\n",
    "\n",
    "train_dataset = TensorDataset(s1_t, s1_t, s1_t, s1_t, y_t)\n",
    "valid_dataset = TensorDataset(s1_t, s1_t, s1_t, s1_t, y_t)\n",
    "test_dataset = TensorDataset(s1_t, s1_t, s1_t, s1_t, y_t)"
   ]
  },
  {
   "cell_type": "code",
   "execution_count": 12,
   "metadata": {},
   "outputs": [],
   "source": [
    "from torch.utils.data import DataLoader\n",
    "\n",
    "class DataHolder():\n",
    "    \"\"\"\n",
    "    Class to store all data using the GentleLoader.\n",
    "\n",
    "    :param config: hyper params configuration\n",
    "    :type config: LRConfig or DFNConfig\n",
    "    :param train_dataset: dataset of training data\n",
    "    :type train_dataset: torch.utils.data.dataset.TensorDataset\n",
    "    :param test_dataset: dataset of test data\n",
    "    :type test_dataset: torch.utils.data.dataset.TensorDataset\n",
    "    :param valid_dataset: dataset of valid data\n",
    "    :type valid_dataset: torch.utils.data.dataset.TensorDataset\n",
    "    :param batch_size: batch size for training\n",
    "    :type test_batch: batch size for the testing data\n",
    "    :param test_batch: int\n",
    "    \"\"\"\n",
    "    def __init__(self,\n",
    "                 config,\n",
    "                 train_dataset,\n",
    "                 valid_dataset,\n",
    "                 test_dataset,\n",
    "                 test_batch=1000):\n",
    "        batch_size = config.batch_size\n",
    "        self.train_loader = DataLoader(dataset=train_dataset,\n",
    "                                         batch_size=batch_size,\n",
    "                                         shuffle=True)\n",
    "        self.valid_loader = DataLoader(dataset=valid_dataset,\n",
    "                                         batch_size=batch_size,\n",
    "                                         shuffle=True)\n",
    "        self.test_loader = DataLoader(dataset=test_dataset,\n",
    "                                        batch_size=test_batch,\n",
    "                                        shuffle=True)"
   ]
  },
  {
   "cell_type": "code",
   "execution_count": 13,
   "metadata": {},
   "outputs": [],
   "source": [
    "config = RNNConfig(vocab_size=len(TEXT.vocab),\n",
    "                   output_dim=len(LABEL.vocab),\n",
    "                   embedding_dim=10,\n",
    "                   rnn_dim=10,\n",
    "                   learning_rate=0.02)\n",
    "\n",
    "test_data = DataHolder(config,\n",
    "                    train_dataset,\n",
    "                    valid_dataset,\n",
    "                    test_dataset)"
   ]
  },
  {
   "cell_type": "code",
   "execution_count": 14,
   "metadata": {},
   "outputs": [],
   "source": [
    "class AddRNN(nn.Module):\n",
    "    def __init__(self, config):\n",
    "        super(AddRNN, self).__init__()\n",
    "        self.vocab_size = config.vocab_size\n",
    "        self.embedding_dim = config.embedding_dim\n",
    "        self.output_dim = config.output_dim\n",
    "        self.rnn_dim = config.rnn_dim\n",
    "        self.embedding = nn.Embedding(self.vocab_size, self.embedding_dim)\n",
    "        self.rnn = nn.RNN(self.embedding_dim, self.rnn_dim) \n",
    "        self.fc_out = nn.Linear(self.rnn_dim, self.output_dim)\n",
    "\n",
    "    def forward(self, x, hidden):\n",
    "        \"\"\"\n",
    "        Apply the model to the input x\n",
    "        :param x: indices of the sentence\n",
    "        :type x: torch.Tensor(shape=[sent len, batch size]\n",
    "                              dtype=torch.int64)\n",
    "        \"\"\"\n",
    "        embedded = self.embedding(x)\n",
    "        if hidden is None:\n",
    "            hidden = torch.zeros(1,\n",
    "                                 embedded.shape[0],\n",
    "                                 self.rnn_dim,\n",
    "                                 device=device)\n",
    "        embedded = embedded.view((1, embedded.shape[0], embedded.shape[1]))\n",
    "        output, hidden = self.rnn(embedded)\n",
    "        # output = [sent len, batch size, hid dim]\n",
    "        # hidden = [1, batch size, hid dim]\n",
    "        output = self.fc_out(output)\n",
    "        return output, hidden\n",
    "\n",
    "    def predict(self, x):\n",
    "        out, _ = self.forward(x)\n",
    "        softmax = nn.Softmax(dim=1)\n",
    "        out = softmax(out)\n",
    "        indices = torch.argmax(out, 1)\n",
    "        return indices"
   ]
  },
  {
   "cell_type": "code",
   "execution_count": 15,
   "metadata": {},
   "outputs": [],
   "source": [
    "def train_in_epoch(model, iterator, optimizer, criterion):\n",
    "    \"\"\"\n",
    "    Train the model using all the data from the iterator\n",
    "    Negative is a flag to train the model to maximize the\n",
    "    loss function\n",
    "    :param model: RNN classification model\n",
    "    :type model: RNN\n",
    "    :param iterator: data iterator\n",
    "    :type iterator: data.BucketIterator\n",
    "    :param optimizer: torch optimizer\n",
    "    :type optimizer: optim.SGD, etc.\n",
    "    :param criterion: loss criterion\n",
    "    :type criterion: nn.CrossEntropyLoss\n",
    "    :param negative: control param\n",
    "    :type negative: boolean\n",
    "    :return: mean loss, mean accuracy\n",
    "    :rtype: float, float\n",
    "    \"\"\"\n",
    "\n",
    "    epoch_loss = []\n",
    "    epoch_acc = []\n",
    "\n",
    "    model.train()\n",
    "\n",
    "    for batch in iterator:\n",
    "\n",
    "        optimizer.zero_grad()\n",
    "        s1, s2, ha, hb, label = batch\n",
    "        s1 = s1.view(s1.shape[1], s1.shape[0])\n",
    "        s1_length = s1.size(0)\n",
    "        hidden = None\n",
    "        for di in range(s1_length):\n",
    "            output, hidden = model(s1[di], hidden)\n",
    "            output = output.view((output.shape[1], output.shape[2]))\n",
    "\n",
    "        # loss\n",
    "        loss = criterion(output, label)\n",
    "        epoch_loss.append(loss.item())\n",
    "        \n",
    "        # accuracy\n",
    "        softmax = nn.Softmax(dim=1)\n",
    "        output = softmax(output)\n",
    "        pred = torch.argmax(output, 1)\n",
    "        acc = np.mean(torch.eq(pred, label).numpy())\n",
    "        epoch_loss.append(loss.item())\n",
    "        epoch_acc.append(acc)\n",
    "\n",
    "        loss.backward(retain_graph=False)\n",
    "        optimizer.step()\n",
    "\n",
    "    return epoch_loss, epoch_acc"
   ]
  },
  {
   "cell_type": "code",
   "execution_count": 16,
   "metadata": {},
   "outputs": [],
   "source": [
    "config = RNNConfig(vocab_size=len(TEXT.vocab),\n",
    "                   output_dim=len(LABEL.vocab),\n",
    "                   embedding_dim=10,\n",
    "                   rnn_dim=20,\n",
    "                   learning_rate=0.247,\n",
    "                   momentum=0.0,\n",
    "                   epochs=25)\n",
    "model = AddRNN(config)\n",
    "iterator = test_data.train_loader\n",
    "optimizer = torch.optim.SGD(model.parameters(),\n",
    "                            lr=config.learning_rate,\n",
    "                            momentum=config.momentum)\n",
    "criterion = nn.CrossEntropyLoss()\n",
    "loss, acc = train_in_epoch(model,\n",
    "                           iterator,\n",
    "                           optimizer,\n",
    "                           criterion)"
   ]
  },
  {
   "cell_type": "markdown",
   "metadata": {},
   "source": [
    "## Vizualizing the train loss and acc during epochs"
   ]
  },
  {
   "cell_type": "code",
   "execution_count": 18,
   "metadata": {},
   "outputs": [
    {
     "data": {
      "image/png": "[encoded data removed]",
      "text/plain": [
       "<Figure size 720x288 with 1 Axes>"
      ]
     },
     "metadata": {},
     "output_type": "display_data"
    },
    {
     "data": {
      "image/png": "[encoded data removed]",
      "text/plain": [
       "<Figure size 720x288 with 1 Axes>"
      ]
     },
     "metadata": {},
     "output_type": "display_data"
    }
   ],
   "source": [
    "config = RNNConfig(vocab_size=len(TEXT.vocab),\n",
    "                   output_dim=len(LABEL.vocab),\n",
    "                   embedding_dim=100,\n",
    "                   rnn_dim=200,\n",
    "                   learning_rate=0.01547,\n",
    "                   momentum=0.0,\n",
    "                   epochs=22)\n",
    "\n",
    "\n",
    "model = AddRNN(config)\n",
    "iterator = test_data.train_loader\n",
    "optimizer = torch.optim.SGD(model.parameters(),\n",
    "                            lr=config.learning_rate,\n",
    "                            momentum=config.momentum)\n",
    "\n",
    "    \n",
    "criterion = nn.CrossEntropyLoss()\n",
    "\n",
    "all_loss = []\n",
    "all_acc = []\n",
    "\n",
    "epochs = config.epochs\n",
    "\n",
    "for i in range(epochs):\n",
    "    loss, acc = train_in_epoch(model,\n",
    "                               iterator,\n",
    "                               optimizer,\n",
    "                               criterion)\n",
    "\n",
    "    all_loss.append(np.mean(loss))\n",
    "    all_acc.append(np.mean(acc))\n",
    "    \n",
    "simple_step_plot([all_loss],\n",
    "                 yname=\"loss\",\n",
    "                 path=\"loss.png\",\n",
    "                 title=\"all loss in {} epochs\".format(epochs),\n",
    "                 figsize=(10,4))\n",
    "\n",
    "simple_step_plot([all_acc],\n",
    "                 yname=\"acc\",\n",
    "                 path=\"acc.png\",\n",
    "                 title=\"all acc in {} epochs\".format(epochs),\n",
    "                 figsize=(10,4))"
   ]
  },
  {
   "cell_type": "code",
   "execution_count": null,
   "metadata": {},
   "outputs": [],
   "source": []
  },
  {
   "cell_type": "code",
   "execution_count": null,
   "metadata": {},
   "outputs": [],
   "source": []
  },
  {
   "cell_type": "code",
   "execution_count": null,
   "metadata": {},
   "outputs": [],
   "source": []
  }
 ],
 "metadata": {
  "kernelspec": {
   "display_name": "Python 3",
   "language": "python",
   "name": "python3"
  },
  "language_info": {
   "codemirror_mode": {
    "name": "ipython",
    "version": 3
   },
   "file_extension": ".py",
   "mimetype": "text/x-python",
   "name": "python",
   "nbconvert_exporter": "python",
   "pygments_lexer": "ipython3",
   "version": "3.5.2"
  }
 },
 "nbformat": 4,
 "nbformat_minor": 2
}
