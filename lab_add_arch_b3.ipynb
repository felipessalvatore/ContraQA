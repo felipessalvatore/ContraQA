{
 "cells": [
  {
   "cell_type": "code",
   "execution_count": 1,
   "metadata": {},
   "outputs": [],
   "source": [
    "from contra_qa.text_generation.boolean3_NP_and import boolean3\n",
    "from contra_qa.text_generation.boolean4_VP_and import boolean4\n",
    "from contra_qa.text_generation.boolean5_AP_and import boolean5\n",
    "from contra_qa.text_processing.functions import simple_pre_process_text_df\n",
    "from contra_qa.plots.functions  import plot_histogram_from_labels, plot_confusion_matrix\n",
    "\n",
    "from contra_qa.train_functions.RNNConfig import RNNConfig\n",
    "import numpy as np\n",
    "import torch\n",
    "import torch.nn as nn\n",
    "from torchtext import data\n",
    "\n",
    "import pandas as pd\n",
    "import  matplotlib.pyplot as plt\n",
    "device = torch.device(\"cuda\" if torch.cuda.is_available() else \"cpu\")\n",
    "\n",
    "% matplotlib inline"
   ]
  },
  {
   "cell_type": "markdown",
   "metadata": {},
   "source": [
    "# manipulating datasets: b3"
   ]
  },
  {
   "cell_type": "code",
   "execution_count": 2,
   "metadata": {},
   "outputs": [],
   "source": [
    "boolean3()"
   ]
  },
  {
   "cell_type": "code",
   "execution_count": 3,
   "metadata": {},
   "outputs": [],
   "source": [
    "df3 = pd.read_csv(\"data/boolean3_train.csv\")\n",
    "df3test = pd.read_csv(\"data/boolean3_test.csv\")"
   ]
  },
  {
   "cell_type": "code",
   "execution_count": 4,
   "metadata": {},
   "outputs": [
    {
     "data": {
      "text/html": [
       "<div>\n",
       "<style scoped>\n",
       "    .dataframe tbody tr th:only-of-type {\n",
       "        vertical-align: middle;\n",
       "    }\n",
       "\n",
       "    .dataframe tbody tr th {\n",
       "        vertical-align: top;\n",
       "    }\n",
       "\n",
       "    .dataframe thead th {\n",
       "        text-align: right;\n",
       "    }\n",
       "</style>\n",
       "<table border=\"1\" class=\"dataframe\">\n",
       "  <thead>\n",
       "    <tr style=\"text-align: right;\">\n",
       "      <th></th>\n",
       "      <th>sentence1</th>\n",
       "      <th>sentence2</th>\n",
       "      <th>and_A</th>\n",
       "      <th>and_B</th>\n",
       "      <th>label</th>\n",
       "    </tr>\n",
       "  </thead>\n",
       "  <tbody>\n",
       "    <tr>\n",
       "      <th>9995</th>\n",
       "      <td>Dawn went to Mangalia and Dej</td>\n",
       "      <td>Ramon didn't go to Dej</td>\n",
       "      <td>Dawn went to Mangalia</td>\n",
       "      <td>Dawn went to Dej</td>\n",
       "      <td>0</td>\n",
       "    </tr>\n",
       "    <tr>\n",
       "      <th>9996</th>\n",
       "      <td>Dorothy has traveled to Mangalia and Giurgiu</td>\n",
       "      <td>Loretta didn't travel to Mangalia</td>\n",
       "      <td>Dorothy has traveled to Mangalia</td>\n",
       "      <td>Dorothy has traveled to Giurgiu</td>\n",
       "      <td>0</td>\n",
       "    </tr>\n",
       "    <tr>\n",
       "      <th>9997</th>\n",
       "      <td>Beverly has visited Giurgiu and Dej</td>\n",
       "      <td>Beverly didn't visit Reghin</td>\n",
       "      <td>Beverly has visited Giurgiu</td>\n",
       "      <td>Beverly has visited Dej</td>\n",
       "      <td>0</td>\n",
       "    </tr>\n",
       "    <tr>\n",
       "      <th>9998</th>\n",
       "      <td>Flora has visited Baia Mare and Hunedoara</td>\n",
       "      <td>Flora didn't visit Bucharest</td>\n",
       "      <td>Flora has visited Baia Mare</td>\n",
       "      <td>Flora has visited Hunedoara</td>\n",
       "      <td>0</td>\n",
       "    </tr>\n",
       "    <tr>\n",
       "      <th>9999</th>\n",
       "      <td>Cora and Ruby have traveled to Blaj</td>\n",
       "      <td>Toni didn't travel to Blaj</td>\n",
       "      <td>Cora has traveled to Blaj</td>\n",
       "      <td>Ruby has traveled to Blaj</td>\n",
       "      <td>0</td>\n",
       "    </tr>\n",
       "  </tbody>\n",
       "</table>\n",
       "</div>"
      ],
      "text/plain": [
       "                                         sentence1  \\\n",
       "9995                 Dawn went to Mangalia and Dej   \n",
       "9996  Dorothy has traveled to Mangalia and Giurgiu   \n",
       "9997           Beverly has visited Giurgiu and Dej   \n",
       "9998     Flora has visited Baia Mare and Hunedoara   \n",
       "9999           Cora and Ruby have traveled to Blaj   \n",
       "\n",
       "                              sentence2                             and_A  \\\n",
       "9995             Ramon didn't go to Dej             Dawn went to Mangalia   \n",
       "9996  Loretta didn't travel to Mangalia  Dorothy has traveled to Mangalia   \n",
       "9997        Beverly didn't visit Reghin       Beverly has visited Giurgiu   \n",
       "9998       Flora didn't visit Bucharest       Flora has visited Baia Mare   \n",
       "9999         Toni didn't travel to Blaj         Cora has traveled to Blaj   \n",
       "\n",
       "                                and_B  label  \n",
       "9995                 Dawn went to Dej      0  \n",
       "9996  Dorothy has traveled to Giurgiu      0  \n",
       "9997          Beverly has visited Dej      0  \n",
       "9998      Flora has visited Hunedoara      0  \n",
       "9999        Ruby has traveled to Blaj      0  "
      ]
     },
     "execution_count": 4,
     "metadata": {},
     "output_type": "execute_result"
    }
   ],
   "source": [
    "df3.tail()"
   ]
  },
  {
   "cell_type": "code",
   "execution_count": 5,
   "metadata": {},
   "outputs": [
    {
     "data": {
      "text/html": [
       "<div>\n",
       "<style scoped>\n",
       "    .dataframe tbody tr th:only-of-type {\n",
       "        vertical-align: middle;\n",
       "    }\n",
       "\n",
       "    .dataframe tbody tr th {\n",
       "        vertical-align: top;\n",
       "    }\n",
       "\n",
       "    .dataframe thead th {\n",
       "        text-align: right;\n",
       "    }\n",
       "</style>\n",
       "<table border=\"1\" class=\"dataframe\">\n",
       "  <thead>\n",
       "    <tr style=\"text-align: right;\">\n",
       "      <th></th>\n",
       "      <th>sentence1</th>\n",
       "      <th>sentence2</th>\n",
       "      <th>and_A</th>\n",
       "      <th>and_B</th>\n",
       "      <th>label</th>\n",
       "    </tr>\n",
       "  </thead>\n",
       "  <tbody>\n",
       "    <tr>\n",
       "      <th>995</th>\n",
       "      <td>Theodore went to Blaj and Slatina</td>\n",
       "      <td>Theodore didn't go to Blaj</td>\n",
       "      <td>Theodore went to Blaj</td>\n",
       "      <td>Theodore went to Slatina</td>\n",
       "      <td>1</td>\n",
       "    </tr>\n",
       "    <tr>\n",
       "      <th>996</th>\n",
       "      <td>Rose went to Bucharest and Oradea</td>\n",
       "      <td>Rose didn't go to Slobozia</td>\n",
       "      <td>Rose went to Bucharest</td>\n",
       "      <td>Rose went to Oradea</td>\n",
       "      <td>0</td>\n",
       "    </tr>\n",
       "    <tr>\n",
       "      <th>997</th>\n",
       "      <td>Lonnie and Douglas went to Baia Mare</td>\n",
       "      <td>Lonnie didn't go to Baia Mare</td>\n",
       "      <td>Lonnie went to Baia Mare</td>\n",
       "      <td>Douglas went to Baia Mare</td>\n",
       "      <td>1</td>\n",
       "    </tr>\n",
       "    <tr>\n",
       "      <th>998</th>\n",
       "      <td>Vincent and Belinda went to Deva</td>\n",
       "      <td>Belinda didn't go to Deva</td>\n",
       "      <td>Vincent went to Deva</td>\n",
       "      <td>Belinda went to Deva</td>\n",
       "      <td>1</td>\n",
       "    </tr>\n",
       "    <tr>\n",
       "      <th>999</th>\n",
       "      <td>Stephanie has traveled to Cluj-Napoca and Mang...</td>\n",
       "      <td>Lewis didn't travel to Mangalia</td>\n",
       "      <td>Stephanie has traveled to Cluj-Napoca</td>\n",
       "      <td>Stephanie has traveled to Mangalia</td>\n",
       "      <td>0</td>\n",
       "    </tr>\n",
       "  </tbody>\n",
       "</table>\n",
       "</div>"
      ],
      "text/plain": [
       "                                             sentence1  \\\n",
       "995                  Theodore went to Blaj and Slatina   \n",
       "996                  Rose went to Bucharest and Oradea   \n",
       "997               Lonnie and Douglas went to Baia Mare   \n",
       "998                   Vincent and Belinda went to Deva   \n",
       "999  Stephanie has traveled to Cluj-Napoca and Mang...   \n",
       "\n",
       "                           sentence2                                  and_A  \\\n",
       "995       Theodore didn't go to Blaj                  Theodore went to Blaj   \n",
       "996       Rose didn't go to Slobozia                 Rose went to Bucharest   \n",
       "997    Lonnie didn't go to Baia Mare               Lonnie went to Baia Mare   \n",
       "998        Belinda didn't go to Deva                   Vincent went to Deva   \n",
       "999  Lewis didn't travel to Mangalia  Stephanie has traveled to Cluj-Napoca   \n",
       "\n",
       "                                  and_B  label  \n",
       "995            Theodore went to Slatina      1  \n",
       "996                 Rose went to Oradea      0  \n",
       "997           Douglas went to Baia Mare      1  \n",
       "998                Belinda went to Deva      1  \n",
       "999  Stephanie has traveled to Mangalia      0  "
      ]
     },
     "execution_count": 5,
     "metadata": {},
     "output_type": "execute_result"
    }
   ],
   "source": [
    "df3test.tail()"
   ]
  },
  {
   "cell_type": "code",
   "execution_count": 6,
   "metadata": {},
   "outputs": [],
   "source": [
    "df3train = df3.iloc[:8500]\n",
    "df3valid = df3.iloc[8500:]"
   ]
  },
  {
   "cell_type": "code",
   "execution_count": 7,
   "metadata": {},
   "outputs": [
    {
     "data": {
      "image/png": "[encoded data removed]",
      "text/plain": [
       "<Figure size 432x288 with 1 Axes>"
      ]
     },
     "metadata": {},
     "output_type": "display_data"
    }
   ],
   "source": [
    "plot_histogram_from_labels(df3train.label.values, [\"no\", \"yes\"], \"test.png\") "
   ]
  },
  {
   "cell_type": "code",
   "execution_count": 8,
   "metadata": {},
   "outputs": [
    {
     "data": {
      "image/png": "[encoded data removed]",
      "text/plain": [
       "<Figure size 432x288 with 1 Axes>"
      ]
     },
     "metadata": {},
     "output_type": "display_data"
    }
   ],
   "source": [
    "plot_histogram_from_labels(df3valid.label.values, [\"no\", \"yes\"], \"test.png\")"
   ]
  },
  {
   "cell_type": "code",
   "execution_count": 9,
   "metadata": {},
   "outputs": [
    {
     "data": {
      "image/png": "[encoded data removed]",
      "text/plain": [
       "<Figure size 432x288 with 1 Axes>"
      ]
     },
     "metadata": {},
     "output_type": "display_data"
    }
   ],
   "source": [
    "plot_histogram_from_labels(df3test.label.values, [\"no\", \"yes\"], \"test.png\") "
   ]
  },
  {
   "cell_type": "code",
   "execution_count": 10,
   "metadata": {},
   "outputs": [],
   "source": [
    "simple_pre_process_text_df(df3, \"sentence1\")\n",
    "simple_pre_process_text_df(df3, \"sentence2\")\n",
    "simple_pre_process_text_df(df3, \"and_A\")\n",
    "simple_pre_process_text_df(df3, \"and_B\")\n",
    "\n",
    "df3[\"text\"] = df3[\"sentence1\"] + \", \" + df3[\"sentence2\"]"
   ]
  },
  {
   "cell_type": "markdown",
   "metadata": {},
   "source": [
    "# creating vocab and tensor data"
   ]
  },
  {
   "cell_type": "code",
   "execution_count": 11,
   "metadata": {},
   "outputs": [],
   "source": [
    "df3_little = df3[[\"text\", \"label\"]]"
   ]
  },
  {
   "cell_type": "code",
   "execution_count": 12,
   "metadata": {},
   "outputs": [
    {
     "data": {
      "text/html": [
       "<div>\n",
       "<style scoped>\n",
       "    .dataframe tbody tr th:only-of-type {\n",
       "        vertical-align: middle;\n",
       "    }\n",
       "\n",
       "    .dataframe tbody tr th {\n",
       "        vertical-align: top;\n",
       "    }\n",
       "\n",
       "    .dataframe thead th {\n",
       "        text-align: right;\n",
       "    }\n",
       "</style>\n",
       "<table border=\"1\" class=\"dataframe\">\n",
       "  <thead>\n",
       "    <tr style=\"text-align: right;\">\n",
       "      <th></th>\n",
       "      <th>text</th>\n",
       "      <th>label</th>\n",
       "    </tr>\n",
       "  </thead>\n",
       "  <tbody>\n",
       "    <tr>\n",
       "      <th>0</th>\n",
       "      <td>june and ross have traveled to arad, ross didn...</td>\n",
       "      <td>1</td>\n",
       "    </tr>\n",
       "    <tr>\n",
       "      <th>1</th>\n",
       "      <td>claudia has traveled to mangalia and slobozia,...</td>\n",
       "      <td>1</td>\n",
       "    </tr>\n",
       "    <tr>\n",
       "      <th>2</th>\n",
       "      <td>byron has traveled to turda and bucharest, dwi...</td>\n",
       "      <td>0</td>\n",
       "    </tr>\n",
       "    <tr>\n",
       "      <th>3</th>\n",
       "      <td>emily has visited deva and arad, emily didnt v...</td>\n",
       "      <td>1</td>\n",
       "    </tr>\n",
       "    <tr>\n",
       "      <th>4</th>\n",
       "      <td>tyler and nancy have visited bucharest, tyler ...</td>\n",
       "      <td>1</td>\n",
       "    </tr>\n",
       "  </tbody>\n",
       "</table>\n",
       "</div>"
      ],
      "text/plain": [
       "                                                text  label\n",
       "0  june and ross have traveled to arad, ross didn...      1\n",
       "1  claudia has traveled to mangalia and slobozia,...      1\n",
       "2  byron has traveled to turda and bucharest, dwi...      0\n",
       "3  emily has visited deva and arad, emily didnt v...      1\n",
       "4  tyler and nancy have visited bucharest, tyler ...      1"
      ]
     },
     "execution_count": 12,
     "metadata": {},
     "output_type": "execute_result"
    }
   ],
   "source": [
    "df3_little.head()"
   ]
  },
  {
   "cell_type": "code",
   "execution_count": 13,
   "metadata": {},
   "outputs": [],
   "source": [
    "train_data_path = \"data/boolean_3_train_lab.csv\"\n",
    "df3_little.to_csv(train_data_path, header=False, index=False)"
   ]
  },
  {
   "cell_type": "code",
   "execution_count": 14,
   "metadata": {},
   "outputs": [],
   "source": [
    "TEXT = data.Field()\n",
    "LABEL = data.LabelField(tensor_type=torch.FloatTensor)\n",
    "train = data.TabularDataset(path=train_data_path,\n",
    "                            format=\"csv\",\n",
    "                            fields=[('text', TEXT), ('label', LABEL)])"
   ]
  },
  {
   "cell_type": "code",
   "execution_count": 15,
   "metadata": {},
   "outputs": [],
   "source": [
    "TEXT.build_vocab(train, max_size=25000)\n",
    "LABEL.build_vocab(train)"
   ]
  },
  {
   "cell_type": "code",
   "execution_count": 16,
   "metadata": {},
   "outputs": [
    {
     "name": "stdout",
     "output_type": "stream",
     "text": [
      "len(TEXT.vocab): 708\n",
      "len(LABEL.vocab): 2\n"
     ]
    }
   ],
   "source": [
    "print('len(TEXT.vocab):', len(TEXT.vocab))\n",
    "print('len(LABEL.vocab):', len(LABEL.vocab))"
   ]
  },
  {
   "cell_type": "code",
   "execution_count": 17,
   "metadata": {},
   "outputs": [],
   "source": [
    "def finde_size(list_):\n",
    "    return np.max(list(map(lambda x: len(x.split(\" \")), list_)))"
   ]
  },
  {
   "cell_type": "code",
   "execution_count": 18,
   "metadata": {},
   "outputs": [],
   "source": [
    "def str_list2tensor(list_):\n",
    "    list_i = []\n",
    "    max_size = finde_size(list_)\n",
    "    for line in list_:\n",
    "        line = line.split(\" \")\n",
    "        size = len(line) \n",
    "        tail = max_size - size\n",
    "        line += [TEXT.pad_token] * tail\n",
    "        new_line = [TEXT.vocab.stoi[word] for word in line]\n",
    "        list_i.append(new_line)\n",
    "    return torch.tensor(list_i, dtype=torch.long, device=device)\n",
    "    "
   ]
  },
  {
   "cell_type": "code",
   "execution_count": 19,
   "metadata": {},
   "outputs": [],
   "source": [
    "exampleS1_train_t = str_list2tensor(list(df3train.sentence1.values))\n",
    "exampleS2_train_t = str_list2tensor(list(df3train.sentence2.values))\n",
    "exampleA_train_t = str_list2tensor(list(df3train.and_A.values))\n",
    "exampleB_train_t = str_list2tensor(list(df3train.and_B.values))\n",
    "exampleLabel_train = torch.tensor(list(df3train.label.values), dtype=torch.long, device=device)"
   ]
  },
  {
   "cell_type": "code",
   "execution_count": 20,
   "metadata": {},
   "outputs": [],
   "source": [
    "exampleS1_valid_t = str_list2tensor(list(df3valid.sentence1.values))\n",
    "exampleS2_valid_t = str_list2tensor(list(df3valid.sentence2.values))\n",
    "exampleA_valid_t = str_list2tensor(list(df3valid.and_A.values))\n",
    "exampleB_valid_t = str_list2tensor(list(df3valid.and_B.values))\n",
    "exampleLabel_valid = torch.tensor(list(df3valid.label.values), dtype=torch.long, device=device)"
   ]
  },
  {
   "cell_type": "code",
   "execution_count": 21,
   "metadata": {},
   "outputs": [],
   "source": [
    "exampleS1_test_t = str_list2tensor(list(df3test.sentence1.values))\n",
    "exampleS2_test_t = str_list2tensor(list(df3test.sentence2.values))\n",
    "exampleA_test_t = str_list2tensor(list(df3test.and_A.values))\n",
    "exampleB_test_t = str_list2tensor(list(df3test.and_B.values))\n",
    "exampleLabel_test = torch.tensor(list(df3test.label.values), dtype=torch.long, device=device)"
   ]
  },
  {
   "cell_type": "code",
   "execution_count": 22,
   "metadata": {},
   "outputs": [],
   "source": [
    "from torch.utils.data import TensorDataset\n",
    "\n",
    "train_dataset = TensorDataset(exampleS1_train_t, exampleS2_train_t, exampleA_train_t, exampleB_train_t, exampleLabel_train)\n",
    "valid_dataset = TensorDataset(exampleS1_valid_t, exampleS2_valid_t, exampleA_valid_t, exampleB_valid_t, exampleLabel_valid)\n",
    "test_dataset = TensorDataset(exampleS1_test_t, exampleS2_test_t, exampleA_test_t, exampleB_test_t, exampleLabel_test)"
   ]
  },
  {
   "cell_type": "code",
   "execution_count": 23,
   "metadata": {},
   "outputs": [],
   "source": [
    "from torch.utils.data import DataLoader\n",
    "\n",
    "class DataHolder():\n",
    "    \"\"\"\n",
    "    Class to store all data using the GentleLoader.\n",
    "\n",
    "    :param config: hyper params configuration\n",
    "    :type config: LRConfig or DFNConfig\n",
    "    :param train_dataset: dataset of training data\n",
    "    :type train_dataset: torch.utils.data.dataset.TensorDataset\n",
    "    :param test_dataset: dataset of test data\n",
    "    :type test_dataset: torch.utils.data.dataset.TensorDataset\n",
    "    :param valid_dataset: dataset of valid data\n",
    "    :type valid_dataset: torch.utils.data.dataset.TensorDataset\n",
    "    :param batch_size: batch size for training\n",
    "    :type test_batch: batch size for the testing data\n",
    "    :param test_batch: int\n",
    "    \"\"\"\n",
    "    def __init__(self,\n",
    "                 config,\n",
    "                 train_dataset,\n",
    "                 valid_dataset,\n",
    "                 test_dataset,\n",
    "                 test_batch=1000):\n",
    "        batch_size = config.batch_size\n",
    "        self.train_loader = DataLoader(dataset=train_dataset,\n",
    "                                         batch_size=batch_size,\n",
    "                                         shuffle=True)\n",
    "        self.valid_loader = DataLoader(dataset=valid_dataset,\n",
    "                                         batch_size=batch_size,\n",
    "                                         shuffle=True)\n",
    "        self.test_loader = DataLoader(dataset=test_dataset,\n",
    "                                        batch_size=test_batch,\n",
    "                                        shuffle=True)"
   ]
  },
  {
   "cell_type": "code",
   "execution_count": 24,
   "metadata": {},
   "outputs": [],
   "source": [
    "config = RNNConfig()\n",
    "b_data = DataHolder(config,\n",
    "                    train_dataset,\n",
    "                    valid_dataset,\n",
    "                    test_dataset)"
   ]
  },
  {
   "cell_type": "markdown",
   "metadata": {},
   "source": [
    "# defining the model"
   ]
  },
  {
   "cell_type": "code",
   "execution_count": 25,
   "metadata": {},
   "outputs": [],
   "source": [
    "class AddRNN(nn.Module):\n",
    "    def __init__(self, config):\n",
    "        super(AddRNN, self).__init__()\n",
    "        self.vocab_size = config.vocab_size\n",
    "        self.embedding_dim = config.embedding_dim\n",
    "        self.output_dim = config.output_dim\n",
    "        self.rnn_dim = config.rnn_dim\n",
    "        self.embedding = nn.Embedding(self.vocab_size, self.embedding_dim)\n",
    "        self.rnn = nn.GRU(self.embedding_dim, self.rnn_dim) \n",
    "        self.fcA = nn.Linear(self.rnn_dim, self.rnn_dim)\n",
    "        self.fcB = nn.Linear(self.rnn_dim, self.rnn_dim)\n",
    "        self.fc_out = nn.Linear(self.rnn_dim, self.output_dim)\n",
    "        self.fc_inf = nn.Linear(self.rnn_dim * 2, self.rnn_dim)\n",
    "        \n",
    "        \n",
    "    def encode(self, x, hidden=None):\n",
    "        if hidden is None:\n",
    "            hidden = torch.zeros((1, x.shape[1], self.rnn_dim), device=device)\n",
    "        embedded = self.embedding(x)       \n",
    "        output, hidden = self.rnn(embedded, hidden)\n",
    "        hidden = hidden.squeeze(0)\n",
    "        return hidden\n",
    "\n",
    "    def forward(self, s1, s2):\n",
    "        h = self.encode(s1)\n",
    "        self.ha = self.fcA(h)\n",
    "        self.hb = self.fcB(h)\n",
    "#         h_inf = self.ha + self.hb\n",
    "#         h_inf = self.ha * self.hb\n",
    "        h_inf = self.fc_inf(torch.cat([self.ha, self.hb], dim=1))\n",
    "        h_inf = h_inf.view((1, h_inf.shape[0], h_inf.shape[1]))\n",
    "        s2_enc = self.encode(s2, h_inf)\n",
    "        out = self.fc_out(s2_enc)\n",
    "        return out\n",
    "\n",
    "    def predict(self, s1, s2):\n",
    "        out = self.forward(s1, s2)\n",
    "        softmax = nn.Softmax(dim=1)\n",
    "        out = softmax(out)\n",
    "        indices = torch.argmax(out, 1)\n",
    "        return indices\n",
    "\n",
    "    def evaluate_labels(self,s1, s2, labels):\n",
    "        prediction = self.predict(s1, s2)\n",
    "        correct = torch.sum(torch.eq(prediction, labels)).float()\n",
    "        accuracy = float(correct / labels.shape[0])\n",
    "        prediction = prediction.numpy()\n",
    "        labels = labels.numpy()\n",
    "        return accuracy, prediction, labels"
   ]
  },
  {
   "cell_type": "code",
   "execution_count": 26,
   "metadata": {},
   "outputs": [],
   "source": [
    "s1, s2, and_A, and_B, label = next(iter(b_data.train_loader))\n",
    "s1 = s1.view((s1.shape[1], s1.shape[0]))\n",
    "s2 = s2.view((s2.shape[1], s2.shape[0]))\n",
    "and_A = and_A.view((and_A.shape[1], and_A.shape[0]))\n",
    "and_B = and_B.view((and_B.shape[1], and_B.shape[0]))"
   ]
  },
  {
   "cell_type": "code",
   "execution_count": 27,
   "metadata": {},
   "outputs": [
    {
     "name": "stdout",
     "output_type": "stream",
     "text": [
      "vocab_size = 708\n",
      "batch_size = 32\n",
      "embedding_dim = 100\n",
      "rnn_dim = 10\n",
      "output_dim = 2\n",
      "epochs = 8\n",
      "learning_rate = 0.12\n",
      "momentum = 0.2\n",
      "\n"
     ]
    }
   ],
   "source": [
    "config = RNNConfig(vocab_size=len(TEXT.vocab), rnn_dim = 10, learning_rate = 0.12)\n",
    "print(config)"
   ]
  },
  {
   "cell_type": "code",
   "execution_count": 28,
   "metadata": {},
   "outputs": [
    {
     "name": "stdout",
     "output_type": "stream",
     "text": [
      "tensor([1, 1, 1, 1, 0, 1, 0, 1, 1, 1, 1, 1, 1, 1, 0, 1, 0, 1, 1, 1, 0, 1, 0, 1,\n",
      "        1, 0, 0, 1, 0, 1, 0, 1])\n"
     ]
    }
   ],
   "source": [
    "model = AddRNN(config)\n",
    "\n",
    "out = model.predict(s1, s2)\n",
    "print(out)"
   ]
  },
  {
   "cell_type": "code",
   "execution_count": 29,
   "metadata": {},
   "outputs": [
    {
     "name": "stdout",
     "output_type": "stream",
     "text": [
      "mean valid acc before training =  0.5125\n"
     ]
    },
    {
     "data": {
      "image/png": "[encoded data removed]",
      "text/plain": [
       "<Figure size 648x648 with 2 Axes>"
      ]
     },
     "metadata": {},
     "output_type": "display_data"
    }
   ],
   "source": [
    "all_acc = 0\n",
    "n_iter = 10\n",
    "for i in range(n_iter):\n",
    "    s1, s2, and_A, and_B, labels = next(iter(b_data.valid_loader))\n",
    "    s1 = s1.view((s1.shape[1], s1.shape[0]))\n",
    "    s2 = s2.view((s2.shape[1], s2.shape[0]))\n",
    "    and_A = and_A.view((and_A.shape[1], and_A.shape[0]))\n",
    "    and_B = and_B.view((and_B.shape[1], and_B.shape[0]))\n",
    "\n",
    "    acc, prediction, labels = model.evaluate_labels(s1, s2, labels)\n",
    "    all_acc += acc\n",
    "\n",
    "print(\"mean valid acc before training =  {}\".format(all_acc / n_iter))    \n",
    "plot_confusion_matrix(labels,\n",
    "                      prediction,\n",
    "                      classes=[\"no\", \"yes\"],\n",
    "                      path=\"confusion_matrix.png\")"
   ]
  },
  {
   "cell_type": "markdown",
   "metadata": {},
   "source": [
    "# defining the training loop"
   ]
  },
  {
   "cell_type": "code",
   "execution_count": 30,
   "metadata": {},
   "outputs": [],
   "source": [
    "def train_in_epoch(model,\n",
    "                   loader,\n",
    "                   optimizer,\n",
    "                   criterionCE,\n",
    "                   criterionL1):\n",
    "    \"\"\"\n",
    "    Train the model using all the data from the iterator\n",
    "\n",
    "    Negative is a flag to train the model to maximize the\n",
    "    loss functionCE\n",
    "\n",
    "    :param model: RNN classification model\n",
    "    :type model: RNN\n",
    "    :param loader: data loader\n",
    "    :type loader: torch.utils.data.dataloader.DataLoader\n",
    "    :param optimizer: torch optimizer\n",
    "    :type optimizer: optim.SGD, etc.\n",
    "    :param criterionCE: loss criterion\n",
    "    :type criterionCE: nn.CrossEntropyLoss\n",
    "    :param criterionL1: loss criterion\n",
    "    :type criterionL1: nn.L1Loss\n",
    "    :return: mean loss, mean accuracy\n",
    "    :rtype: float, float\n",
    "    \"\"\"\n",
    "\n",
    "    epoch_loss = 0\n",
    "    epoch_acc = 0\n",
    "    model.train()\n",
    "\n",
    "    for batch in loader:\n",
    "        optimizer.zero_grad()\n",
    "        s1, s2, and_A, and_B, labels = batch\n",
    "        s1 = s1.view((s1.shape[1], s1.shape[0]))\n",
    "        s2 = s2.view((s2.shape[1], s2.shape[0]))\n",
    "        and_A = and_A.view((and_A.shape[1], and_A.shape[0]))\n",
    "        and_B = and_B.view((and_B.shape[1], and_B.shape[0]))\n",
    "        logits = model(s1, s2)\n",
    "        ha = model.encode(and_A)\n",
    "        hb = model.encode(and_B)\n",
    "        loss = criterionCE(logits,labels) + torch.sqrt(criterionL1(ha, model.ha) + criterionL1(hb, model.hb))\n",
    "#         loss = criterionCE(logits,labels)**2 + torch.sqrt(criterionL1(ha, model.ha) + criterionL1(hb, model.hb))\n",
    "\n",
    "#         loss = criterionCE(logits,labels)  \n",
    "#         loss = criterionCE(logits,labels) + criterionL1(ha, model.ha) + criterionL1(hb, model.hb)\n",
    "\n",
    "        loss.backward()\n",
    "        optimizer.step()\n",
    "        acc, _, _ = model.evaluate_labels(s1, s2, labels)\n",
    "        epoch_loss += loss.item()\n",
    "        epoch_acc += acc\n",
    "\n",
    "    mean_loss = epoch_loss / len(loader)\n",
    "    mean_acc = epoch_acc / len(loader)\n",
    "\n",
    "    return mean_loss, mean_acc"
   ]
  },
  {
   "cell_type": "markdown",
   "metadata": {},
   "source": [
    "### testing"
   ]
  },
  {
   "cell_type": "code",
   "execution_count": 31,
   "metadata": {},
   "outputs": [
    {
     "name": "stdout",
     "output_type": "stream",
     "text": [
      "9.823860896261115 0.5494125940297779\n"
     ]
    }
   ],
   "source": [
    "dataholder = b_data\n",
    "\n",
    "train_loader = dataholder.train_loader\n",
    "valid_loader = dataholder.valid_loader\n",
    "\n",
    "criterionCE = nn.CrossEntropyLoss()\n",
    "criterionL1 = nn.L1Loss()\n",
    "optimizer = torch.optim.SGD(model.parameters(),\n",
    "                            lr=config.learning_rate,\n",
    "                            momentum=config.momentum)\n",
    "\n",
    "mean_loss, mean_acc = train_in_epoch(model,\n",
    "                                     train_loader,\n",
    "                                     optimizer,\n",
    "                                     criterionCE,\n",
    "                                     criterionL1)\n",
    "\n",
    "print(mean_loss, mean_acc)"
   ]
  },
  {
   "cell_type": "code",
   "execution_count": 32,
   "metadata": {},
   "outputs": [],
   "source": [
    "def get_valid_loss(model,\n",
    "                   valid_loader,\n",
    "                   criterionCE,\n",
    "                   criterionL1):\n",
    "    \"\"\"\n",
    "    Get the valid loss\n",
    "\n",
    "    :param model: RNN classification model\n",
    "    :type model:\n",
    "    :param valid_iter: valid iterator\n",
    "    :type valid_iter: data.BucketIterator\n",
    "    :param criterion: loss criterion\n",
    "    :type criterion: nn.CrossEntropyLoss\n",
    "    :return: valid loss\n",
    "    :rtype: Tensor(shape=[])\n",
    "    \"\"\"\n",
    "    batch = next(iter(valid_loader))\n",
    "    s1, s2, and_A, and_B, labels = batch\n",
    "    s1 = s1.view((s1.shape[1], s1.shape[0]))\n",
    "    s2 = s2.view((s2.shape[1], s2.shape[0]))\n",
    "    and_A = and_A.view((and_A.shape[1], and_A.shape[0]))\n",
    "    and_B = and_B.view((and_B.shape[1], and_B.shape[0]))\n",
    "    model.eval()\n",
    "    logits = model(s1, s2)\n",
    "    ha = model.encode(and_A)\n",
    "    hb = model.encode(and_B)\n",
    "#     loss = criterionCE(logits,labels)**2 + torch.sqrt(criterionL1(ha, model.ha) + criterionL1(hb, model.hb))\n",
    "    \n",
    "    loss = criterionCE(logits,labels) + torch.sqrt(criterionL1(ha, model.ha) + criterionL1(hb, model.hb))\n",
    "#     loss = criterionCE(logits,labels) + criterionL1(ha, model.ha) + criterionL1(hb, model.hb)\n",
    "    \n",
    "#     loss = criterionCE(logits,labels)\n",
    "    return loss.item()"
   ]
  },
  {
   "cell_type": "markdown",
   "metadata": {},
   "source": [
    "### testing"
   ]
  },
  {
   "cell_type": "code",
   "execution_count": 33,
   "metadata": {},
   "outputs": [
    {
     "data": {
      "text/plain": [
       "13.409843444824219"
      ]
     },
     "execution_count": 33,
     "metadata": {},
     "output_type": "execute_result"
    }
   ],
   "source": [
    "get_valid_loss(model,\n",
    "               valid_loader,\n",
    "               criterionCE,\n",
    "               criterionL1)"
   ]
  },
  {
   "cell_type": "code",
   "execution_count": 34,
   "metadata": {},
   "outputs": [],
   "source": [
    "def training_loop_text_classification(model,\n",
    "                                      config,\n",
    "                                      dataholder,\n",
    "                                      model_path,\n",
    "                                      verbose=True,\n",
    "                                      plot_path=\"training plot.png\"):\n",
    "    \"\"\"\n",
    "    Train a model for text classification\n",
    "\n",
    "    :param model: RNN classification model\n",
    "    :type model: RNN\n",
    "    :param config: classification model config\n",
    "    :type config: RNNConfig\n",
    "    :param dataholder: data\n",
    "    :type dataholder: DataHolder or DataHolderGentle\n",
    "    :param model_path: path to save model params\n",
    "    :type model_path: str\n",
    "    :param verbose: param to control print\n",
    "    :type verbose: bool\n",
    "    \"\"\"\n",
    "    criterionCE = nn.CrossEntropyLoss()\n",
    "    criterionL1 = nn.L1Loss()\n",
    "#     criterionL1 = nn.MSELoss()\n",
    "    \n",
    "    optimizer = torch.optim.SGD(model.parameters(),\n",
    "                            lr=config.learning_rate,\n",
    "                            momentum=config.momentum)\n",
    "\n",
    "    device = torch.device('cuda' if torch.cuda.is_available() else 'cpu')\n",
    "    model = model.to(device)\n",
    "    \n",
    "    criterionCE = criterionCE.to(device)\n",
    "    criterionL1 = criterionL1.to(device)\n",
    "    \n",
    "    train_loader = dataholder.train_loader\n",
    "    valid_loader = dataholder.valid_loader\n",
    "\n",
    "    best_valid_loss = float(\"inf\")\n",
    "\n",
    "    all_train_loss = []\n",
    "    all_valid_loss = []\n",
    "\n",
    "    for epoch in range(config.epochs):\n",
    "\n",
    "        if verbose:\n",
    "            print(\"epoch = ({}/{})\".format(epoch + 1, config.epochs))\n",
    "            train_loss, train_acc = train_in_epoch(model,\n",
    "                                                   train_loader,\n",
    "                                                   optimizer,\n",
    "                                                   criterionCE,\n",
    "                                                   criterionL1)\n",
    "\n",
    "        all_train_loss.append(train_loss)\n",
    "        valid_loss = get_valid_loss(model,\n",
    "                                    valid_loader,\n",
    "                                    criterionCE,\n",
    "                                    criterionL1)\n",
    "        all_valid_loss.append(valid_loss)\n",
    "\n",
    "        msg = \"\\ntrain_loss = {:.3f} | valid_loss = {:.3f}\".format(float(train_loss),  # noqa\n",
    "                                                                   float(valid_loss))  # noqa\n",
    "\n",
    "        if float(valid_loss) < best_valid_loss:\n",
    "            torch.save(model.state_dict(), model_path)\n",
    "            best_valid_loss = float(valid_loss)\n",
    "\n",
    "        if verbose:\n",
    "            print(msg)\n",
    "            print(\"train_acc = {}\\n\".format(train_acc))\n",
    "\n",
    "    if verbose:\n",
    "        x = np.arange(1, len(all_train_loss) + 1, 1)\n",
    "        fig, ax = plt.subplots(1, 1, figsize=(12, 5))\n",
    "        ax.plot(x, all_train_loss, label='mean train loss')\n",
    "        ax.plot(x, all_valid_loss, label='mean valid loss')\n",
    "        ax.legend()\n",
    "        plt.xlabel('epoch')\n",
    "        plt.ylabel('mean loss')\n",
    "        plt.title('Train and valid mean loss')\n",
    "        plt.grid(True)\n",
    "        plt.savefig(plot_path)"
   ]
  },
  {
   "cell_type": "markdown",
   "metadata": {},
   "source": [
    "### runnig one training"
   ]
  },
  {
   "cell_type": "code",
   "execution_count": 35,
   "metadata": {},
   "outputs": [
    {
     "name": "stdout",
     "output_type": "stream",
     "text": [
      "epoch = (1/30)\n",
      "\n",
      "train_loss = 10.589 | valid_loss = 7.924\n",
      "train_acc = 0.5049107141960832\n",
      "\n",
      "epoch = (2/30)\n",
      "\n",
      "train_loss = 7.179 | valid_loss = 7.413\n",
      "train_acc = 0.5180451128267705\n",
      "\n",
      "epoch = (3/30)\n",
      "\n",
      "train_loss = 6.656 | valid_loss = 7.865\n",
      "train_acc = 0.512124060240007\n",
      "\n",
      "epoch = (4/30)\n",
      "\n",
      "train_loss = 6.583 | valid_loss = 8.028\n",
      "train_acc = 0.4980263157670659\n",
      "\n",
      "epoch = (5/30)\n",
      "\n",
      "train_loss = 6.406 | valid_loss = 6.865\n",
      "train_acc = 0.509351503804214\n",
      "\n",
      "epoch = (6/30)\n",
      "\n",
      "train_loss = 6.316 | valid_loss = 7.662\n",
      "train_acc = 0.5153900375939849\n",
      "\n",
      "epoch = (7/30)\n",
      "\n",
      "train_loss = 6.299 | valid_loss = 8.188\n",
      "train_acc = 0.5177396616541353\n",
      "\n",
      "epoch = (8/30)\n",
      "\n",
      "train_loss = 6.270 | valid_loss = 6.976\n",
      "train_acc = 0.5163298872180451\n",
      "\n",
      "epoch = (9/30)\n",
      "\n",
      "train_loss = 6.122 | valid_loss = 5.148\n",
      "train_acc = 0.5191729324204581\n",
      "\n",
      "epoch = (10/30)\n",
      "\n",
      "train_loss = 5.639 | valid_loss = 6.933\n",
      "train_acc = 0.5205827068565483\n",
      "\n",
      "epoch = (11/30)\n",
      "\n",
      "train_loss = 5.331 | valid_loss = 6.284\n",
      "train_acc = 0.5164473684210527\n",
      "\n",
      "epoch = (12/30)\n",
      "\n",
      "train_loss = 5.310 | valid_loss = 5.050\n",
      "train_acc = 0.5146851503759399\n",
      "\n",
      "epoch = (13/30)\n",
      "\n",
      "train_loss = 5.262 | valid_loss = 9.364\n",
      "train_acc = 0.5194313909326281\n",
      "\n",
      "epoch = (14/30)\n",
      "\n",
      "train_loss = 5.232 | valid_loss = 9.038\n",
      "train_acc = 0.5175986842329341\n",
      "\n",
      "epoch = (15/30)\n",
      "\n",
      "train_loss = 5.255 | valid_loss = 5.664\n",
      "train_acc = 0.5211701128715859\n",
      "\n",
      "epoch = (16/30)\n",
      "\n",
      "train_loss = 5.228 | valid_loss = 5.961\n",
      "train_acc = 0.5225563909774437\n",
      "\n",
      "epoch = (17/30)\n",
      "\n",
      "train_loss = 5.214 | valid_loss = 5.897\n",
      "train_acc = 0.5170347744360902\n",
      "\n",
      "epoch = (18/30)\n",
      "\n",
      "train_loss = 5.191 | valid_loss = 8.578\n",
      "train_acc = 0.5139567668276622\n",
      "\n",
      "epoch = (19/30)\n",
      "\n",
      "train_loss = 5.152 | valid_loss = 9.538\n",
      "train_acc = 0.5219454886321735\n",
      "\n",
      "epoch = (20/30)\n",
      "\n",
      "train_loss = 5.161 | valid_loss = 6.760\n",
      "train_acc = 0.5162828947816577\n",
      "\n",
      "epoch = (21/30)\n",
      "\n",
      "train_loss = 5.184 | valid_loss = 9.150\n",
      "train_acc = 0.5285009398944396\n",
      "\n",
      "epoch = (22/30)\n",
      "\n",
      "train_loss = 5.158 | valid_loss = 4.896\n",
      "train_acc = 0.5140977443609023\n",
      "\n",
      "epoch = (23/30)\n",
      "\n",
      "train_loss = 5.174 | valid_loss = 9.104\n",
      "train_acc = 0.515460526360605\n",
      "\n",
      "epoch = (24/30)\n",
      "\n",
      "train_loss = 5.180 | valid_loss = 7.487\n",
      "train_acc = 0.5158599624060151\n",
      "\n",
      "epoch = (25/30)\n",
      "\n",
      "train_loss = 5.151 | valid_loss = 9.577\n",
      "train_acc = 0.5167528195936877\n",
      "\n",
      "epoch = (26/30)\n",
      "\n",
      "train_loss = 5.142 | valid_loss = 8.208\n",
      "train_acc = 0.5151080827515825\n",
      "\n",
      "epoch = (27/30)\n",
      "\n",
      "train_loss = 5.139 | valid_loss = 6.789\n",
      "train_acc = 0.5242716165861689\n",
      "\n",
      "epoch = (28/30)\n",
      "\n",
      "train_loss = 5.179 | valid_loss = 5.448\n",
      "train_acc = 0.518468045202413\n",
      "\n",
      "epoch = (29/30)\n",
      "\n",
      "train_loss = 5.199 | valid_loss = 8.763\n",
      "train_acc = 0.5247180450679665\n",
      "\n",
      "epoch = (30/30)\n",
      "\n",
      "train_loss = 5.191 | valid_loss = 8.146\n",
      "train_acc = 0.521593045023151\n",
      "\n"
     ]
    },
    {
     "data": {
      "image/png": "[encoded data removed]",
      "text/plain": [
       "<Figure size 864x360 with 1 Axes>"
      ]
     },
     "metadata": {},
     "output_type": "display_data"
    }
   ],
   "source": [
    "config = RNNConfig(vocab_size=len(TEXT.vocab), rnn_dim = 10, learning_rate = 0.02)\n",
    "model = AddRNN(config)\n",
    "\n",
    "config.epochs = 30 \n",
    "training_loop_text_classification(model=model,\n",
    "                                  config=config,\n",
    "                                  dataholder=b_data,\n",
    "                                  model_path=\"temp.pkl\")"
   ]
  },
  {
   "cell_type": "markdown",
   "metadata": {},
   "source": [
    "### Evaluating the model after the training"
   ]
  },
  {
   "cell_type": "code",
   "execution_count": 36,
   "metadata": {},
   "outputs": [
    {
     "name": "stdout",
     "output_type": "stream",
     "text": [
      "mean valid acc after training =  0.478125\n"
     ]
    },
    {
     "data": {
      "image/png": "[encoded data removed]",
      "text/plain": [
       "<Figure size 648x648 with 2 Axes>"
      ]
     },
     "metadata": {},
     "output_type": "display_data"
    }
   ],
   "source": [
    "model = AddRNN(config)\n",
    "model.load_state_dict(torch.load(\"temp.pkl\"))\n",
    "\n",
    "all_acc = 0\n",
    "n_iter = 10\n",
    "for i in range(n_iter):\n",
    "    s1, s2, and_A, and_B, labels = next(iter(b_data.valid_loader))\n",
    "    s1 = s1.view((s1.shape[1], s1.shape[0]))\n",
    "    s2 = s2.view((s2.shape[1], s2.shape[0]))\n",
    "    and_A = and_A.view((and_A.shape[1], and_A.shape[0]))\n",
    "    and_B = and_B.view((and_B.shape[1], and_B.shape[0]))\n",
    "\n",
    "    acc, prediction, labels = model.evaluate_labels(s1, s2, labels)\n",
    "    all_acc += acc\n",
    "\n",
    "print(\"mean valid acc after training =  {}\".format(all_acc / n_iter))    \n",
    "plot_confusion_matrix(labels,\n",
    "                      prediction,\n",
    "                      classes=[\"no\", \"yes\"],\n",
    "                      path=\"confusion_matrix.png\")"
   ]
  },
  {
   "cell_type": "code",
   "execution_count": 37,
   "metadata": {},
   "outputs": [],
   "source": [
    "model = AddRNN(config)\n",
    "model.load_state_dict(torch.load(\"temp.pkl\"))\n",
    "s1, s2, and_A, and_B, labels = next(iter(b_data.valid_loader))\n",
    "s1 = s1.view((s1.shape[1], s1.shape[0]))\n",
    "s2 = s2.view((s2.shape[1], s2.shape[0]))\n",
    "and_A = and_A.view((and_A.shape[1], and_A.shape[0]))\n",
    "and_B = and_B.view((and_B.shape[1], and_B.shape[0]))\n",
    "_ = model(s1, s2)\n",
    "hahat = model.ha.detach().numpy()\n",
    "hbhat = model.hb.detach().numpy()\n",
    "ha = model.encode(and_A).detach().numpy()\n",
    "hb = model.encode(and_B).detach().numpy()"
   ]
  },
  {
   "cell_type": "code",
   "execution_count": 38,
   "metadata": {},
   "outputs": [],
   "source": [
    "comp_a = np.mean((hahat - ha)**2, axis=1)\n",
    "comp_b = np.mean((hbhat - hb)**2, axis=1)"
   ]
  },
  {
   "cell_type": "code",
   "execution_count": 39,
   "metadata": {},
   "outputs": [
    {
     "name": "stdout",
     "output_type": "stream",
     "text": [
      "[0.00064972 0.00110769 0.00072964 0.00069306 0.00068561 0.00069541\n",
      " 0.00042231 0.00041803 0.00061913 0.00081884 0.00060503 0.00070098\n",
      " 0.00072252 0.00071188 0.001956   0.00014333 0.00071563 0.0006713\n",
      " 0.00272262 0.00050442 0.00055946 0.00069548 0.00082022 0.00091842\n",
      " 0.00069296 0.00046889 0.00061026 0.0006619  0.00122368 0.00201718\n",
      " 0.00067195 0.00063855] >>>>>>>>>>>>>>>>> 0.0008210028 0.00050201744\n"
     ]
    }
   ],
   "source": [
    "print(comp_a, \">>>>>>>>>>>>>>>>>\" ,np.mean(comp_a), np.std(comp_a))"
   ]
  },
  {
   "cell_type": "code",
   "execution_count": 40,
   "metadata": {},
   "outputs": [
    {
     "name": "stdout",
     "output_type": "stream",
     "text": [
      "[0.00228425 0.00072767 0.00069087 0.00182411 0.00206964 0.00212981\n",
      " 0.00057577 0.0014146  0.00157666 0.00051166 0.00233375 0.00207437\n",
      " 0.00200976 0.00227717 0.00133033 0.00046487 0.00209734 0.00214477\n",
      " 0.00227579 0.00034679 0.00187404 0.00211337 0.00193242 0.00102825\n",
      " 0.00093381 0.00148911 0.00221219 0.00204212 0.00064989 0.00150598\n",
      " 0.00206368 0.0019708 ] >>>>>>>>>>>>>>>>> 0.0015929886 0.00064379175\n"
     ]
    }
   ],
   "source": [
    "print(comp_b, \">>>>>>>>>>>>>>>>>\" ,np.mean(comp_b), np.std(comp_b))"
   ]
  },
  {
   "cell_type": "code",
   "execution_count": null,
   "metadata": {},
   "outputs": [],
   "source": []
  },
  {
   "cell_type": "code",
   "execution_count": null,
   "metadata": {},
   "outputs": [],
   "source": []
  },
  {
   "cell_type": "code",
   "execution_count": null,
   "metadata": {},
   "outputs": [],
   "source": []
  },
  {
   "cell_type": "code",
   "execution_count": null,
   "metadata": {},
   "outputs": [],
   "source": []
  },
  {
   "cell_type": "code",
   "execution_count": null,
   "metadata": {},
   "outputs": [],
   "source": []
  }
 ],
 "metadata": {
  "kernelspec": {
   "display_name": "Python 3",
   "language": "python",
   "name": "python3"
  },
  "language_info": {
   "codemirror_mode": {
    "name": "ipython",
    "version": 3
   },
   "file_extension": ".py",
   "mimetype": "text/x-python",
   "name": "python",
   "nbconvert_exporter": "python",
   "pygments_lexer": "ipython3",
   "version": "3.5.2"
  }
 },
 "nbformat": 4,
 "nbformat_minor": 2
}
