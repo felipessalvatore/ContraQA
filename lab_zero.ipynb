{
 "cells": [
  {
   "cell_type": "markdown",
   "metadata": {},
   "source": [
    "# lab zero"
   ]
  },
  {
   "cell_type": "code",
   "execution_count": 1,
   "metadata": {},
   "outputs": [],
   "source": [
    "from contra_qa.text_generation.boolean2_S_and import boolean2\n",
    "from contra_qa.train_functions.util import get_data, training_loop_text_classification # noqa\n",
    "from contra_qa.train_functions.RNNConfig import RNNConfig\n",
    "from contra_qa.train_functions.RNN import RNN\n",
    "from contra_qa.train_functions.DataHolder import DataHolder\n",
    "from contra_qa.plots.functions import plot_confusion_matrix\n",
    "from contra_qa.text_processing.functions import simple_pre_process_text_df\n",
    "import pandas as pd\n",
    "import os\n",
    "import torch\n",
    "from torch.utils.data import TensorDataset\n",
    "import numpy as np\n",
    "device = torch.device(\"cuda\" if torch.cuda.is_available() else \"cpu\")\n",
    "\n",
    "% matplotlib inline"
   ]
  },
  {
   "cell_type": "code",
   "execution_count": 17,
   "metadata": {},
   "outputs": [
    {
     "name": "stderr",
     "output_type": "stream",
     "text": [
      "/home/felsal/Desktop/ContraQA/contra_qa/text_processing/functions.py:27: SettingWithCopyWarning: \n",
      "A value is trying to be set on a copy of a slice from a DataFrame.\n",
      "Try using .loc[row_indexer,col_indexer] = value instead\n",
      "\n",
      "See the caveats in the documentation: http://pandas.pydata.org/pandas-docs/stable/indexing.html#indexing-view-versus-copy\n",
      "  data[key] = data[key].apply(lambda x: x.lower())\n",
      "/home/felsal/Desktop/ContraQA/contra_qa/text_processing/functions.py:28: SettingWithCopyWarning: \n",
      "A value is trying to be set on a copy of a slice from a DataFrame.\n",
      "Try using .loc[row_indexer,col_indexer] = value instead\n",
      "\n",
      "See the caveats in the documentation: http://pandas.pydata.org/pandas-docs/stable/indexing.html#indexing-view-versus-copy\n",
      "  data[key] = data[key].apply((lambda x: re.sub('[^a-zA-z0-9\\s]', '', x))) # noqa\n",
      "/home/felsal/Desktop/ContraQA/contra_qa/text_processing/functions.py:29: SettingWithCopyWarning: \n",
      "A value is trying to be set on a copy of a slice from a DataFrame.\n",
      "Try using .loc[row_indexer,col_indexer] = value instead\n",
      "\n",
      "See the caveats in the documentation: http://pandas.pydata.org/pandas-docs/stable/indexing.html#indexing-view-versus-copy\n",
      "  data[key] = data[key].apply(remove_first_space) # noqa remove space in the first position\n",
      "/home/felsal/Desktop/ContraQA/contra_qa/text_processing/functions.py:30: SettingWithCopyWarning: \n",
      "A value is trying to be set on a copy of a slice from a DataFrame.\n",
      "Try using .loc[row_indexer,col_indexer] = value instead\n",
      "\n",
      "See the caveats in the documentation: http://pandas.pydata.org/pandas-docs/stable/indexing.html#indexing-view-versus-copy\n",
      "  data[key] = data[key].apply((lambda x: spaces.sub(\" \", x))) # noqa remove double spaces\n"
     ]
    }
   ],
   "source": [
    "boolean2()\n",
    "\n",
    "path_train = os.path.join(\"data\",\n",
    "                          \"boolean2_train.csv\")\n",
    "path_test = os.path.join(\"data\",\n",
    "                         \"boolean2_test.csv\")\n",
    "\n",
    "TEXT, LABEL, train, valid, test = get_data(path_train,\n",
    "                                           path_test)\n",
    "\n",
    "current_config = RNNConfig(vocab_size=len(TEXT.vocab),\n",
    "                           output_dim=len(LABEL.vocab),\n",
    "                           rnn_dim=296,\n",
    "                           embedding_dim=252,\n",
    "                           learning_rate=0.020,\n",
    "                           momentum=0.655,\n",
    "                           epochs=9)\n",
    "\n",
    "current_data = DataHolder(current_config,\n",
    "                              train,\n",
    "                              valid,\n",
    "                              test)"
   ]
  },
  {
   "cell_type": "code",
   "execution_count": 18,
   "metadata": {},
   "outputs": [],
   "source": [
    "def show_acc(model, batch_text, batch_label):\n",
    "    pred = model.predict(batch_text)\n",
    "    labels_legend = ['no', 'yes']\n",
    "    plot_confusion_matrix(truth=batch_label.numpy(),\n",
    "                          predictions=pred.numpy(),\n",
    "                          save=True,\n",
    "                          path=\"testRNN.png\",\n",
    "                          classes=labels_legend)"
   ]
  },
  {
   "cell_type": "code",
   "execution_count": 33,
   "metadata": {},
   "outputs": [
    {
     "data": {
      "image/png": "[encoded data removed]",
      "text/plain": [
       "<Figure size 648x648 with 2 Axes>"
      ]
     },
     "metadata": {},
     "output_type": "display_data"
    }
   ],
   "source": [
    "model = RNN(current_config)\n",
    "model.load_state_dict(torch.load(\"RNN_boolean2_epochs_9_embedding_dim_252_rnn_dim_296_learning_rate_0p170_momentum_0p655.pkl\"))\n",
    "\n",
    "valid_batch = next(iter(current_data.valid_iter))\n",
    "show_acc(model, valid_batch.text, valid_batch.label)"
   ]
  },
  {
   "cell_type": "code",
   "execution_count": 22,
   "metadata": {},
   "outputs": [],
   "source": [
    "df2 = pd.read_csv(\"data/boolean2_train.csv\")\n",
    "df2test = pd.read_csv(\"data/boolean2_test.csv\")\n",
    "\n",
    "df2train = df2.iloc[:8500]\n",
    "df2valid = df2.iloc[8500:]\n",
    "\n",
    "\n",
    "\n",
    "def finde_size(list_):\n",
    "    return np.max(list(map(lambda x: len(x.split(\" \")), list_)))\n",
    "\n",
    "def str_list2tensor(list_):\n",
    "    list_i = []\n",
    "    max_size = finde_size(list_)\n",
    "    for line in list_:\n",
    "        line = line.split(\" \")\n",
    "        size = len(line) \n",
    "        tail = max_size - size\n",
    "        line += [TEXT.pad_token] * tail\n",
    "        new_line = [TEXT.vocab.stoi[word] for word in line]\n",
    "        list_i.append(new_line)\n",
    "    return torch.tensor(list_i, dtype=torch.long, device=device)"
   ]
  },
  {
   "cell_type": "code",
   "execution_count": 23,
   "metadata": {},
   "outputs": [],
   "source": [
    "exampleS1_train_t = str_list2tensor(list(df2train.sentence1.values))\n",
    "exampleS2_train_t = str_list2tensor(list(df2train.sentence2.values))\n",
    "exampleA_train_t = str_list2tensor(list(df2train.and_A.values))\n",
    "exampleB_train_t = str_list2tensor(list(df2train.and_B.values))\n",
    "exampleLabel_train = torch.tensor(list(df2train.label.values), dtype=torch.long, device=device)\n",
    "\n",
    "\n",
    "exampleS1_valid_t = str_list2tensor(list(df2valid.sentence1.values))\n",
    "exampleS2_valid_t = str_list2tensor(list(df2valid.sentence2.values))\n",
    "exampleA_valid_t = str_list2tensor(list(df2valid.and_A.values))\n",
    "exampleB_valid_t = str_list2tensor(list(df2valid.and_B.values))\n",
    "exampleLabel_valid = torch.tensor(list(df2valid.label.values), dtype=torch.long, device=device)\n",
    "\n",
    "\n",
    "exampleS1_test_t = str_list2tensor(list(df2test.sentence1.values))\n",
    "exampleS2_test_t = str_list2tensor(list(df2test.sentence2.values))\n",
    "exampleA_test_t = str_list2tensor(list(df2test.and_A.values))\n",
    "exampleB_test_t = str_list2tensor(list(df2test.and_B.values))\n",
    "exampleLabel_test = torch.tensor(list(df2test.label.values), dtype=torch.long, device=device)\n",
    "\n",
    "\n",
    "train_dataset = TensorDataset(exampleS1_train_t, exampleS2_train_t, exampleA_train_t, exampleB_train_t, exampleLabel_train)\n",
    "valid_dataset = TensorDataset(exampleS1_valid_t, exampleS2_valid_t, exampleA_valid_t, exampleB_valid_t, exampleLabel_valid)\n",
    "test_dataset = TensorDataset(exampleS1_test_t, exampleS2_test_t, exampleA_test_t, exampleB_test_t, exampleLabel_test)"
   ]
  },
  {
   "cell_type": "code",
   "execution_count": 24,
   "metadata": {},
   "outputs": [],
   "source": [
    "from torch.utils.data import DataLoader\n",
    "\n",
    "class DataHolderALT():\n",
    "    \"\"\"\n",
    "    Class to store all data using the GentleLoader.\n",
    "\n",
    "    :param config: hyper params configuration\n",
    "    :type config: LRConfig or DFNConfig\n",
    "    :param train_dataset: dataset of training data\n",
    "    :type train_dataset: torch.utils.data.dataset.TensorDataset\n",
    "    :param test_dataset: dataset of test data\n",
    "    :type test_dataset: torch.utils.data.dataset.TensorDataset\n",
    "    :param valid_dataset: dataset of valid data\n",
    "    :type valid_dataset: torch.utils.data.dataset.TensorDataset\n",
    "    :param batch_size: batch size for training\n",
    "    :type test_batch: batch size for the testing data\n",
    "    :param test_batch: int\n",
    "    \"\"\"\n",
    "    def __init__(self,\n",
    "                 config,\n",
    "                 train_dataset,\n",
    "                 valid_dataset,\n",
    "                 test_dataset,\n",
    "                 test_batch=1000):\n",
    "        batch_size = config.batch_size\n",
    "        self.train_loader = DataLoader(dataset=train_dataset,\n",
    "                                         batch_size=batch_size,\n",
    "                                         shuffle=True)\n",
    "        self.valid_loader = DataLoader(dataset=valid_dataset,\n",
    "                                         batch_size=batch_size,\n",
    "                                         shuffle=True)\n",
    "        self.test_loader = DataLoader(dataset=test_dataset,\n",
    "                                        batch_size=test_batch,\n",
    "                                        shuffle=True)"
   ]
  },
  {
   "cell_type": "code",
   "execution_count": 25,
   "metadata": {},
   "outputs": [],
   "source": [
    "b_data = DataHolderALT(current_config,\n",
    "                       train_dataset,\n",
    "                       valid_dataset,\n",
    "                       test_dataset)"
   ]
  },
  {
   "cell_type": "code",
   "execution_count": 34,
   "metadata": {},
   "outputs": [
    {
     "data": {
      "image/png": "[encoded data removed]",
      "text/plain": [
       "<Figure size 648x648 with 2 Axes>"
      ]
     },
     "metadata": {},
     "output_type": "display_data"
    }
   ],
   "source": [
    "model = RNN(current_config)\n",
    "model.load_state_dict(torch.load(\"RNN_boolean2_epochs_9_embedding_dim_252_rnn_dim_296_learning_rate_0p170_momentum_0p655.pkl\"))\n",
    "\n",
    "\n",
    "s1, s2, and_A, and_B, label = next(iter(b_data.valid_loader))\n",
    "s = torch.cat([s1, s2], dim=1)\n",
    "s = s.view((s.shape[1], s.shape[0]))\n",
    "show_acc(model, s, label)"
   ]
  },
  {
   "cell_type": "code",
   "execution_count": null,
   "metadata": {},
   "outputs": [],
   "source": []
  },
  {
   "cell_type": "code",
   "execution_count": null,
   "metadata": {},
   "outputs": [],
   "source": []
  },
  {
   "cell_type": "code",
   "execution_count": null,
   "metadata": {},
   "outputs": [],
   "source": []
  },
  {
   "cell_type": "code",
   "execution_count": null,
   "metadata": {},
   "outputs": [],
   "source": []
  },
  {
   "cell_type": "code",
   "execution_count": null,
   "metadata": {},
   "outputs": [],
   "source": []
  },
  {
   "cell_type": "code",
   "execution_count": null,
   "metadata": {},
   "outputs": [],
   "source": []
  },
  {
   "cell_type": "code",
   "execution_count": null,
   "metadata": {},
   "outputs": [],
   "source": []
  },
  {
   "cell_type": "code",
   "execution_count": null,
   "metadata": {},
   "outputs": [],
   "source": []
  },
  {
   "cell_type": "code",
   "execution_count": null,
   "metadata": {},
   "outputs": [],
   "source": []
  },
  {
   "cell_type": "code",
   "execution_count": null,
   "metadata": {},
   "outputs": [],
   "source": []
  }
 ],
 "metadata": {
  "kernelspec": {
   "display_name": "Python 3",
   "language": "python",
   "name": "python3"
  },
  "language_info": {
   "codemirror_mode": {
    "name": "ipython",
    "version": 3
   },
   "file_extension": ".py",
   "mimetype": "text/x-python",
   "name": "python",
   "nbconvert_exporter": "python",
   "pygments_lexer": "ipython3",
   "version": "3.5.2"
  }
 },
 "nbformat": 4,
 "nbformat_minor": 2
}
