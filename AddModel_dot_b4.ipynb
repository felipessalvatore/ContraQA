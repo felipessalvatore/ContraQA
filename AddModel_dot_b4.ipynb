{
 "cells": [
  {
   "cell_type": "markdown",
   "metadata": {},
   "source": [
    "# Add model: translation attention ecoder-decocer over the b4 dataset"
   ]
  },
  {
   "cell_type": "code",
   "execution_count": 1,
   "metadata": {},
   "outputs": [],
   "source": [
    "import numpy as np\n",
    "import torch\n",
    "import torch.nn as nn\n",
    "import torch.nn.functional as F\n",
    "from torchtext import data\n",
    "import pandas as pd\n",
    "import unicodedata\n",
    "import string\n",
    "import re\n",
    "import random\n",
    "import copy\n",
    "from contra_qa.plots.functions  import simple_step_plot, plot_confusion_matrix\n",
    "import  matplotlib.pyplot as plt\n",
    "device = torch.device(\"cuda\" if torch.cuda.is_available() else \"cpu\")\n",
    "from nltk.translate.bleu_score import sentence_bleu\n",
    "\n",
    "\n",
    "% matplotlib inline"
   ]
  },
  {
   "cell_type": "code",
   "execution_count": 2,
   "metadata": {},
   "outputs": [],
   "source": [
    "import time\n",
    "import math\n",
    "\n",
    "\n",
    "def asMinutes(s):\n",
    "    m = math.floor(s / 60)\n",
    "    s -= m * 60\n",
    "    return '%dm %ds' % (m, s)\n",
    "\n",
    "\n",
    "def timeSince(since):\n",
    "    now = time.time()\n",
    "    s = now - since\n",
    "    return '%s' % asMinutes(s)"
   ]
  },
  {
   "cell_type": "markdown",
   "metadata": {},
   "source": [
    "### Preparing data"
   ]
  },
  {
   "cell_type": "code",
   "execution_count": 3,
   "metadata": {},
   "outputs": [],
   "source": [
    "df2 = pd.read_csv(\"data/boolean4_train.csv\")\n",
    "df2_test = pd.read_csv(\"data/boolean4_test.csv\")\n",
    "\n",
    "df2[\"text\"] = df2[\"sentence1\"] + df2[\"sentence2\"] \n",
    "df2_test[\"text\"] = df2_test[\"sentence1\"] + df2_test[\"sentence2\"] \n",
    "\n",
    "all_sentences = list(df2.text.values) + list(df2_test.text.values)\n",
    "\n",
    "df2train = df2.iloc[:8500]\n",
    "df2valid = df2.iloc[8500:]"
   ]
  },
  {
   "cell_type": "code",
   "execution_count": 4,
   "metadata": {},
   "outputs": [
    {
     "data": {
      "text/html": [
       "<div>\n",
       "<style scoped>\n",
       "    .dataframe tbody tr th:only-of-type {\n",
       "        vertical-align: middle;\n",
       "    }\n",
       "\n",
       "    .dataframe tbody tr th {\n",
       "        vertical-align: top;\n",
       "    }\n",
       "\n",
       "    .dataframe thead th {\n",
       "        text-align: right;\n",
       "    }\n",
       "</style>\n",
       "<table border=\"1\" class=\"dataframe\">\n",
       "  <thead>\n",
       "    <tr style=\"text-align: right;\">\n",
       "      <th></th>\n",
       "      <th>sentence1</th>\n",
       "      <th>sentence2</th>\n",
       "      <th>and_A</th>\n",
       "      <th>and_B</th>\n",
       "      <th>label</th>\n",
       "      <th>text</th>\n",
       "    </tr>\n",
       "  </thead>\n",
       "  <tbody>\n",
       "    <tr>\n",
       "      <th>8495</th>\n",
       "      <td>Tracy grew up and won the game</td>\n",
       "      <td>Tracy didn't grow up</td>\n",
       "      <td>Tracy grew up</td>\n",
       "      <td>Tracy won the game</td>\n",
       "      <td>1</td>\n",
       "      <td>Tracy grew up and won the gameTracy didn't gro...</td>\n",
       "    </tr>\n",
       "    <tr>\n",
       "      <th>8496</th>\n",
       "      <td>Dennis heard Dora and wore a white jacket</td>\n",
       "      <td>Dennis didn't wear a white jacket</td>\n",
       "      <td>Dennis heard Dora</td>\n",
       "      <td>Dennis wore a white jacket</td>\n",
       "      <td>1</td>\n",
       "      <td>Dennis heard Dora and wore a white jacketDenni...</td>\n",
       "    </tr>\n",
       "    <tr>\n",
       "      <th>8497</th>\n",
       "      <td>Candice caught a yellow fish and slept the night</td>\n",
       "      <td>Ben didn't sleep the night</td>\n",
       "      <td>Candice caught a yellow fish</td>\n",
       "      <td>Candice slept the night</td>\n",
       "      <td>0</td>\n",
       "      <td>Candice caught a yellow fish and slept the nig...</td>\n",
       "    </tr>\n",
       "    <tr>\n",
       "      <th>8498</th>\n",
       "      <td>Anna spent all my money and fought the law</td>\n",
       "      <td>Anna didn't spend all my money</td>\n",
       "      <td>Anna spent all my money</td>\n",
       "      <td>Anna fought the law</td>\n",
       "      <td>1</td>\n",
       "      <td>Anna spent all my money and fought the lawAnna...</td>\n",
       "    </tr>\n",
       "    <tr>\n",
       "      <th>8499</th>\n",
       "      <td>Joel sat on the chair and understood what I said</td>\n",
       "      <td>Joel didn't understand what I said</td>\n",
       "      <td>Joel sat on the chair</td>\n",
       "      <td>Joel understood what I said</td>\n",
       "      <td>1</td>\n",
       "      <td>Joel sat on the chair and understood what I sa...</td>\n",
       "    </tr>\n",
       "  </tbody>\n",
       "</table>\n",
       "</div>"
      ],
      "text/plain": [
       "                                             sentence1  \\\n",
       "8495                    Tracy grew up and won the game   \n",
       "8496         Dennis heard Dora and wore a white jacket   \n",
       "8497  Candice caught a yellow fish and slept the night   \n",
       "8498        Anna spent all my money and fought the law   \n",
       "8499  Joel sat on the chair and understood what I said   \n",
       "\n",
       "                               sentence2                         and_A  \\\n",
       "8495                Tracy didn't grow up                 Tracy grew up   \n",
       "8496   Dennis didn't wear a white jacket             Dennis heard Dora   \n",
       "8497          Ben didn't sleep the night  Candice caught a yellow fish   \n",
       "8498      Anna didn't spend all my money       Anna spent all my money   \n",
       "8499  Joel didn't understand what I said         Joel sat on the chair   \n",
       "\n",
       "                            and_B  label  \\\n",
       "8495           Tracy won the game      1   \n",
       "8496   Dennis wore a white jacket      1   \n",
       "8497      Candice slept the night      0   \n",
       "8498          Anna fought the law      1   \n",
       "8499  Joel understood what I said      1   \n",
       "\n",
       "                                                   text  \n",
       "8495  Tracy grew up and won the gameTracy didn't gro...  \n",
       "8496  Dennis heard Dora and wore a white jacketDenni...  \n",
       "8497  Candice caught a yellow fish and slept the nig...  \n",
       "8498  Anna spent all my money and fought the lawAnna...  \n",
       "8499  Joel sat on the chair and understood what I sa...  "
      ]
     },
     "execution_count": 4,
     "metadata": {},
     "output_type": "execute_result"
    }
   ],
   "source": [
    "df2train.tail()"
   ]
  },
  {
   "cell_type": "code",
   "execution_count": 5,
   "metadata": {},
   "outputs": [],
   "source": [
    "SOS_token = 0\n",
    "EOS_token = 1\n",
    "\n",
    "class Lang:\n",
    "    def __init__(self, name):\n",
    "        self.name = name\n",
    "        self.word2index = {}\n",
    "        self.word2count = {}\n",
    "        self.index2word = {0: \"SOS\", 1: \"EOS\"}\n",
    "        self.n_words = 2  # Count SOS and EOS\n",
    "\n",
    "    def addSentence(self, sentence):\n",
    "        for word in sentence.split(' '):\n",
    "            self.addWord(word)\n",
    "\n",
    "    def addWord(self, word):\n",
    "        if word not in self.word2index:\n",
    "            self.word2index[word] = self.n_words\n",
    "            self.word2count[word] = 1\n",
    "            self.index2word[self.n_words] = word\n",
    "            self.n_words += 1\n",
    "        else:\n",
    "            self.word2count[word] += 1"
   ]
  },
  {
   "cell_type": "code",
   "execution_count": 6,
   "metadata": {},
   "outputs": [
    {
     "name": "stdout",
     "output_type": "stream",
     "text": [
      "Before: ddddda'''~~çãpoeéééééÈ'''#$$##@!@!@AAS@#12323fdf\n",
      "\n",
      "After: ddddda capoeeeeeee ! ! aas fdf\n"
     ]
    }
   ],
   "source": [
    "# Turn a Unicode string to plain ASCII, thanks to\n",
    "# http://stackoverflow.com/a/518232/2809427\n",
    "def unicodeToAscii(s):\n",
    "    return ''.join(\n",
    "        c for c in unicodedata.normalize('NFD', s)\n",
    "        if unicodedata.category(c) != 'Mn')\n",
    "\n",
    "# Lowercase, trim, and remove non-letter characters\n",
    "\n",
    "def normalizeString(s):\n",
    "    s = unicodeToAscii(s.lower().strip())\n",
    "    s = re.sub(r\"([.!?])\", r\" \\1\", s)\n",
    "    s = re.sub(r\"[^a-zA-Z.!?]+\", r\" \", s)\n",
    "    return s\n",
    "\n",
    "\n",
    "example = \"ddddda'''~~çãpoeéééééÈ'''#$$##@!@!@AAS@#12323fdf\"\n",
    "print(\"Before:\", example)\n",
    "print()\n",
    "print(\"After:\", normalizeString(example))"
   ]
  },
  {
   "cell_type": "code",
   "execution_count": 7,
   "metadata": {},
   "outputs": [],
   "source": [
    "pairs_A = list(zip(list(df2train.sentence1.values), list(df2train.and_A.values)))\n",
    "pairs_B = list(zip(list(df2train.sentence1.values), list(df2train.and_B.values)))\n",
    "pairs_A = [(normalizeString(s1), normalizeString(s2)) for s1, s2 in pairs_A]\n",
    "pairs_B = [(normalizeString(s1), normalizeString(s2)) for s1, s2 in pairs_B]\n",
    "pairs_A_val = list(zip(list(df2valid.sentence1.values), list(df2valid.and_A.values)))\n",
    "pairs_B_val = list(zip(list(df2valid.sentence1.values), list(df2valid.and_B.values)))\n",
    "pairs_A_val = [(normalizeString(s1), normalizeString(s2)) for s1, s2 in pairs_A_val]\n",
    "pairs_B_val = [(normalizeString(s1), normalizeString(s2)) for s1, s2 in pairs_B_val]\n"
   ]
  },
  {
   "cell_type": "code",
   "execution_count": 8,
   "metadata": {},
   "outputs": [],
   "source": [
    "all_text_pairs = zip(all_sentences, all_sentences)\n",
    "all_text_pairs = [(normalizeString(s1), normalizeString(s2)) for s1, s2 in all_text_pairs]"
   ]
  },
  {
   "cell_type": "code",
   "execution_count": 9,
   "metadata": {},
   "outputs": [],
   "source": [
    "def readLangs(lang1, lang2, pairs, reverse=False):\n",
    "    # Reverse pairs, make Lang instances\n",
    "    if reverse:\n",
    "        pairs = [tuple(reversed(p)) for p in pairs]\n",
    "        input_lang = Lang(lang2)\n",
    "        output_lang = Lang(lang1)\n",
    "    else:\n",
    "        input_lang = Lang(lang1)\n",
    "        output_lang = Lang(lang2)\n",
    "\n",
    "    return input_lang, output_lang, pairs"
   ]
  },
  {
   "cell_type": "code",
   "execution_count": 10,
   "metadata": {},
   "outputs": [],
   "source": [
    "f = lambda x: len(x.split(\" \"))\n",
    "\n",
    "MAX_LENGTH = np.max(list(map(f, all_sentences)))"
   ]
  },
  {
   "cell_type": "code",
   "execution_count": 11,
   "metadata": {},
   "outputs": [],
   "source": [
    "def filterPair(p):\n",
    "    cond1 = len(p[0].split(' ')) < MAX_LENGTH\n",
    "    cond2 = len(p[1].split(' ')) < MAX_LENGTH \n",
    "    return cond1 and cond2\n",
    "\n",
    "def filterPairs(pairs):\n",
    "    return [pair for pair in pairs if filterPair(pair)]\n"
   ]
  },
  {
   "cell_type": "code",
   "execution_count": 12,
   "metadata": {},
   "outputs": [],
   "source": [
    "def prepareData(lang1, lang2, pairs, reverse=False):\n",
    "    input_lang, output_lang, pairs = readLangs(lang1, lang2, pairs, reverse)\n",
    "    print(\"Read %s sentence pairs\" % len(pairs))\n",
    "    pairs = filterPairs(pairs)\n",
    "    print(\"Trimmed to %s sentence pairs\" % len(pairs))\n",
    "    print(\"Counting words...\")\n",
    "    for pair in pairs:\n",
    "        input_lang.addSentence(pair[0])\n",
    "        output_lang.addSentence(pair[1])\n",
    "    print(\"Counted words:\")\n",
    "    print(input_lang.name, input_lang.n_words)\n",
    "    print(output_lang.name, output_lang.n_words)\n",
    "    return input_lang, output_lang, pairs"
   ]
  },
  {
   "cell_type": "code",
   "execution_count": 13,
   "metadata": {},
   "outputs": [
    {
     "name": "stdout",
     "output_type": "stream",
     "text": [
      "Read 8500 sentence pairs\n",
      "Trimmed to 8500 sentence pairs\n",
      "Counting words...\n",
      "Counted words:\n",
      "eng_enc 1027\n",
      "eng_dec 1020\n",
      "\n",
      "Read 11000 sentence pairs\n",
      "Trimmed to 10978 sentence pairs\n",
      "Counting words...\n",
      "Counted words:\n",
      "eng_enc 10962\n",
      "eng_dec 10962\n",
      "\n",
      "\n",
      "Read 1500 sentence pairs\n",
      "Trimmed to 1500 sentence pairs\n",
      "Counting words...\n",
      "Counted words:\n",
      "eng_enc 979\n",
      "eng_dec 955\n"
     ]
    }
   ],
   "source": [
    "_, _, training_pairs_A = prepareData(\"eng_enc\",\n",
    "                                             \"eng_dec\",\n",
    "                                             pairs_A)\n",
    "\n",
    "print()\n",
    "\n",
    "\n",
    "input_lang, _, _ = prepareData(\"eng_enc\",\n",
    "                               \"eng_dec\",\n",
    "                               all_text_pairs)\n",
    "\n",
    "output_lang = copy.deepcopy(input_lang)\n",
    "\n",
    "print()\n",
    "\n",
    "print()\n",
    "_, _, valid_pairs_A = prepareData(\"eng_enc\",\n",
    "                                \"eng_dec\",\n",
    "                                pairs_A_val)"
   ]
  },
  {
   "cell_type": "code",
   "execution_count": 14,
   "metadata": {},
   "outputs": [
    {
     "name": "stdout",
     "output_type": "stream",
     "text": [
      "Read 8500 sentence pairs\n",
      "Trimmed to 8500 sentence pairs\n",
      "Counting words...\n",
      "Counted words:\n",
      "eng_enc 1027\n",
      "eng_dec 1022\n",
      "\n",
      "Read 1500 sentence pairs\n",
      "Trimmed to 1500 sentence pairs\n",
      "Counting words...\n",
      "Counted words:\n",
      "eng_enc 979\n",
      "eng_dec 946\n"
     ]
    }
   ],
   "source": [
    "_, _, training_pairs_B = prepareData(\"eng_enc\",\n",
    "                                     \"eng_dec\",\n",
    "                                     pairs_B)\n",
    "print()\n",
    "_, _, valid_pairs_B = prepareData(\"eng_enc\",\n",
    "                                \"eng_dec\",\n",
    "                                pairs_B_val)"
   ]
  },
  {
   "cell_type": "markdown",
   "metadata": {},
   "source": [
    "### sentences 2 tensors"
   ]
  },
  {
   "cell_type": "code",
   "execution_count": 15,
   "metadata": {},
   "outputs": [],
   "source": [
    "def indexesFromSentence(lang, sentence):\n",
    "    return [lang.word2index[word] for word in sentence.split(' ')]"
   ]
  },
  {
   "cell_type": "code",
   "execution_count": 16,
   "metadata": {},
   "outputs": [],
   "source": [
    "def tensorFromSentence(lang, sentence):\n",
    "    indexes = indexesFromSentence(lang, sentence)\n",
    "    indexes.append(EOS_token)\n",
    "    return torch.tensor(indexes, dtype=torch.long, device=device).view(-1, 1)"
   ]
  },
  {
   "cell_type": "code",
   "execution_count": 17,
   "metadata": {},
   "outputs": [],
   "source": [
    "def tensorsFromPair(pair):\n",
    "    input_tensor = tensorFromSentence(input_lang, pair[0])\n",
    "    target_tensor = tensorFromSentence(output_lang, pair[1])\n",
    "    return (input_tensor, target_tensor)"
   ]
  },
  {
   "cell_type": "code",
   "execution_count": 18,
   "metadata": {},
   "outputs": [],
   "source": [
    "def tensorsFromTriple(triple):\n",
    "    input_tensor = tensorFromSentence(input_lang, triple[0])\n",
    "    target_tensor = tensorFromSentence(output_lang, triple[1])\n",
    "    label_tensor = torch.tensor(triple[2], dtype=torch.long).view((1))\n",
    "    return (input_tensor, target_tensor, label_tensor)"
   ]
  },
  {
   "cell_type": "markdown",
   "metadata": {},
   "source": [
    "### models"
   ]
  },
  {
   "cell_type": "code",
   "execution_count": 19,
   "metadata": {},
   "outputs": [],
   "source": [
    "class EncoderRNN(nn.Module):\n",
    "    def __init__(self, input_size, hidden_size):\n",
    "        super(EncoderRNN, self).__init__()\n",
    "        self.hidden_size = hidden_size\n",
    "        self.embedding = nn.Embedding(input_size, hidden_size)\n",
    "        self.gru = nn.GRU(hidden_size, hidden_size)\n",
    "\n",
    "    def forward(self, input, hidden):\n",
    "        embedded = self.embedding(input).view(1, 1, -1)\n",
    "        output = embedded\n",
    "        output, hidden = self.gru(output, hidden)\n",
    "        return output, hidden\n",
    "\n",
    "    def initHidden(self):\n",
    "        return torch.zeros(1, 1, self.hidden_size, device=device)"
   ]
  },
  {
   "cell_type": "code",
   "execution_count": 20,
   "metadata": {},
   "outputs": [],
   "source": [
    "class AttnDecoderRNN(nn.Module):\n",
    "    def __init__(self, hidden_size, output_size, dropout_p=0.1, max_length=MAX_LENGTH):\n",
    "        super(AttnDecoderRNN, self).__init__()\n",
    "        self.hidden_size = hidden_size\n",
    "        self.output_size = output_size\n",
    "        self.dropout_p = dropout_p\n",
    "        self.max_length = max_length\n",
    "\n",
    "        self.embedding = nn.Embedding(self.output_size, self.hidden_size)\n",
    "        self.attn = nn.Linear(self.hidden_size * 2, self.max_length)\n",
    "        self.attn_combine = nn.Linear(self.hidden_size * 2, self.hidden_size)\n",
    "        self.dropout = nn.Dropout(self.dropout_p)\n",
    "        self.gru = nn.GRU(self.hidden_size, self.hidden_size)\n",
    "        self.out = nn.Linear(self.hidden_size, self.output_size)\n",
    "\n",
    "    def forward(self, input, hidden, encoder_outputs):\n",
    "        embedded = self.embedding(input).view(1, 1, -1)\n",
    "        embedded = self.dropout(embedded)\n",
    "\n",
    "        attn_weights = F.softmax(\n",
    "            self.attn(torch.cat((embedded[0], hidden[0]), 1)), dim=1)\n",
    "        attn_applied = torch.bmm(attn_weights.unsqueeze(0),\n",
    "                                 encoder_outputs.unsqueeze(0))\n",
    "        output = torch.cat((embedded[0], attn_applied[0]), 1)\n",
    "        output = self.attn_combine(output).unsqueeze(0)\n",
    "\n",
    "        output = F.relu(output)\n",
    "        output, hidden = self.gru(output, hidden)\n",
    "\n",
    "        output = F.log_softmax(self.out(output[0]), dim=1)\n",
    "        return output, hidden, attn_weights\n",
    "\n",
    "    def initHidden(self):\n",
    "        return torch.zeros(1, 1, self.hidden_size, device=device)"
   ]
  },
  {
   "cell_type": "code",
   "execution_count": 21,
   "metadata": {},
   "outputs": [],
   "source": [
    "hidden_size = 256\n",
    "eng_enc_v_size = input_lang.n_words\n",
    "eng_dec_v_size = output_lang.n_words"
   ]
  },
  {
   "cell_type": "code",
   "execution_count": 22,
   "metadata": {},
   "outputs": [
    {
     "data": {
      "text/plain": [
       "10962"
      ]
     },
     "execution_count": 22,
     "metadata": {},
     "output_type": "execute_result"
    }
   ],
   "source": [
    "input_lang.n_words"
   ]
  },
  {
   "cell_type": "code",
   "execution_count": 23,
   "metadata": {},
   "outputs": [],
   "source": [
    "encoderA = EncoderRNN(eng_enc_v_size, hidden_size)\n",
    "decoderA = AttnDecoderRNN(hidden_size, eng_dec_v_size)\n",
    "encoderA.load_state_dict(torch.load(\"b4_encoder1_att.pkl\"))\n",
    "decoderA.load_state_dict(torch.load(\"b4_decoder1_att.pkl\"))"
   ]
  },
  {
   "cell_type": "code",
   "execution_count": 24,
   "metadata": {},
   "outputs": [],
   "source": [
    "encoderB = EncoderRNN(eng_enc_v_size, hidden_size)\n",
    "decoderB = AttnDecoderRNN(hidden_size, eng_dec_v_size)\n",
    "encoderB.load_state_dict(torch.load(\"b4_encoder2_att.pkl\"))\n",
    "decoderB.load_state_dict(torch.load(\"b4_decoder2_att.pkl\"))"
   ]
  },
  {
   "cell_type": "markdown",
   "metadata": {},
   "source": [
    "## translating"
   ]
  },
  {
   "cell_type": "code",
   "execution_count": 25,
   "metadata": {},
   "outputs": [],
   "source": [
    "def translate(encoder,\n",
    "              decoder,\n",
    "              sentence,\n",
    "              max_length=MAX_LENGTH):\n",
    "    with torch.no_grad():\n",
    "        input_tensor = tensorFromSentence(input_lang, sentence)\n",
    "        input_length = input_tensor.size()[0]\n",
    "        encoder_hidden = encoder.initHidden()\n",
    "\n",
    "        encoder_outputs = torch.zeros(\n",
    "            max_length, encoder.hidden_size, device=device)\n",
    "\n",
    "        for ei in range(input_length):\n",
    "            encoder_output, encoder_hidden = encoder(input_tensor[ei],\n",
    "                                                     encoder_hidden)\n",
    "            encoder_outputs[ei] += encoder_output[0, 0]\n",
    "\n",
    "        decoder_input = torch.tensor([[SOS_token]], device=device)  # SOS\n",
    "\n",
    "        decoder_hidden = encoder_hidden\n",
    "\n",
    "        decoded_words = []\n",
    "\n",
    "        for di in range(max_length):\n",
    "            decoder_output, decoder_hidden, decoder_attention = decoder(decoder_input, decoder_hidden, encoder_outputs)\n",
    "            _, topone = decoder_output.data.topk(1)\n",
    "            if topone.item() == EOS_token:\n",
    "                decoded_words.append('<EOS>')\n",
    "                break\n",
    "            else:\n",
    "                decoded_words.append(output_lang.index2word[topone.item()])\n",
    "\n",
    "            decoder_input = topone.squeeze().detach()\n",
    "\n",
    "        return \" \".join(decoded_words)"
   ]
  },
  {
   "cell_type": "markdown",
   "metadata": {},
   "source": [
    "## translation of a trained model: and A"
   ]
  },
  {
   "cell_type": "code",
   "execution_count": 26,
   "metadata": {},
   "outputs": [
    {
     "name": "stdout",
     "output_type": "stream",
     "text": [
      "input_sentence : reginald caught a mango fish and ran from me\n",
      "neural translation : jeffrey caught a mango fish <EOS>\n",
      "reference translation : reginald caught a mango fish <EOS>\n",
      "blue score = 0.76\n",
      "\n",
      "input_sentence : sandy thought i was living in craiova and grew up in jail\n",
      "neural translation : deborah thought i was helping in bucharest <EOS>\n",
      "reference translation : sandy thought i was living in craiova <EOS>\n",
      "blue score = 0.42\n",
      "\n",
      "input_sentence : brenda burned chris s house and let use this pen\n",
      "neural translation : tyler broke julie s house <EOS>\n",
      "reference translation : brenda burned chris s house <EOS>\n",
      "blue score = 0.47\n",
      "\n"
     ]
    },
    {
     "name": "stderr",
     "output_type": "stream",
     "text": [
      "/usr/local/lib/python3.5/dist-packages/nltk/translate/bleu_score.py:490: UserWarning: \n",
      "Corpus/Sentence contains 0 counts of 4-gram overlaps.\n",
      "BLEU scores might be undesirable; use SmoothingFunction().\n",
      "  warnings.warn(_msg)\n"
     ]
    }
   ],
   "source": [
    "for t in training_pairs_A[0:3]:\n",
    "    print(\"input_sentence : \" + t[0])\n",
    "    neural_translation = translate(encoderA,\n",
    "                                   decoderA,\n",
    "                                   t[0],\n",
    "                                   max_length=MAX_LENGTH)\n",
    "    print(\"neural translation : \" + neural_translation)\n",
    "    reference = t[1] + ' <EOS>'\n",
    "    print(\"reference translation : \" + reference)\n",
    "    reference = reference.split(\" \")\n",
    "    candidate = neural_translation.split(\" \")\n",
    "    score = sentence_bleu([reference], candidate)\n",
    "    print(\"blue score = {:.2f}\".format(score))\n",
    "    print()"
   ]
  },
  {
   "cell_type": "markdown",
   "metadata": {},
   "source": [
    "## translation of a trained model: and B"
   ]
  },
  {
   "cell_type": "code",
   "execution_count": 27,
   "metadata": {},
   "outputs": [
    {
     "name": "stdout",
     "output_type": "stream",
     "text": [
      "input_sentence : reginald caught a mango fish and ran from me\n",
      "neural translation : dianne ran from me <EOS>\n",
      "reference translation : reginald ran from me <EOS>\n",
      "blue score = 0.67\n",
      "\n",
      "input_sentence : sandy thought i was living in craiova and grew up in jail\n",
      "neural translation : grew grew up in jail <EOS>\n",
      "reference translation : sandy grew up in jail <EOS>\n",
      "blue score = 0.76\n",
      "\n",
      "input_sentence : brenda burned chris s house and let use this pen\n",
      "neural translation : let let use this pen <EOS>\n",
      "reference translation : brenda let use this pen <EOS>\n",
      "blue score = 0.76\n",
      "\n"
     ]
    }
   ],
   "source": [
    "for t in training_pairs_B[0:3]:\n",
    "    print(\"input_sentence : \" + t[0])\n",
    "    neural_translation = translate(encoderB,\n",
    "                                   decoderB,\n",
    "                                   t[0],\n",
    "                                   max_length=MAX_LENGTH)\n",
    "    print(\"neural translation : \" + neural_translation)\n",
    "    reference = t[1] + ' <EOS>'\n",
    "    print(\"reference translation : \" + reference)\n",
    "    reference = reference.split(\" \")\n",
    "    candidate = neural_translation.split(\" \")\n",
    "    score = sentence_bleu([reference], candidate)\n",
    "    print(\"blue score = {:.2f}\".format(score))\n",
    "    print()"
   ]
  },
  {
   "cell_type": "markdown",
   "metadata": {},
   "source": [
    "## Defining the And model\n",
    "\n",
    "model inner working:\n",
    "\n",
    "- $s_1$ is the first sentence (e.g., 'penny is thankful and naomi is alive')\n",
    "\n",
    "- $s_2$ is the second sentence (e.g., 'penny is not alive')\n",
    "\n",
    "- $h_A = dec_{A}(enc_{A}(s_1, \\vec{0}))$\n",
    "\n",
    "- $h_B = dec_{B}(enc_{B}(s_1, \\vec{0}))$\n",
    "\n",
    "- $h_{inf} = \\sigma (W[h_A ;h_B] + b)$\n",
    "\n",
    "- $e = enc_{A}(s_2, h_{inf})$\n",
    "\n",
    "- $\\hat{y} = softmax(We + b)$"
   ]
  },
  {
   "cell_type": "code",
   "execution_count": 28,
   "metadata": {},
   "outputs": [],
   "source": [
    "class AndModel(nn.Module):\n",
    "    def __init__(self,\n",
    "                 encoderA,\n",
    "                 decoderA,\n",
    "                 encoderB,\n",
    "                 decoderB,\n",
    "                 hidden_size,\n",
    "                 output_size,\n",
    "                 max_length,\n",
    "                 input_lang,\n",
    "                 target_lang,\n",
    "                 SOS_token=0,\n",
    "                 EOS_token=1):\n",
    "        super(AndModel, self).__init__()\n",
    "        self.max_length = max_length\n",
    "        self.hidden_size = hidden_size\n",
    "        self.output_size = output_size\n",
    "        self.encoderA = encoderA\n",
    "        self.decoderA = decoderA\n",
    "        self.encoderB = encoderB\n",
    "        self.decoderB = decoderB\n",
    "        self.input_lang = input_lang\n",
    "        self.target_lang = target_lang\n",
    "        self.SOS_token = SOS_token\n",
    "        self.EOS_token = EOS_token\n",
    "        self.fc_inf = nn.Linear(hidden_size * 2, hidden_size)\n",
    "        self.fc_out = nn.Linear(hidden_size, output_size)\n",
    "        \n",
    "    \n",
    "    def encode(self,\n",
    "               sentence,\n",
    "               encoder,\n",
    "               is_tensor,\n",
    "               hidden=None):\n",
    "        if not is_tensor:\n",
    "            input_tensor = tensorFromSentence(self.input_lang, sentence)\n",
    "        else:\n",
    "            input_tensor = sentence\n",
    "\n",
    "        input_length = input_tensor.size()[0]\n",
    "        \n",
    "        if hidden is None:\n",
    "            encoder_hidden = encoder.initHidden()\n",
    "        else:\n",
    "            encoder_hidden = hidden\n",
    "        \n",
    "        encoder_outputs = torch.zeros(self.max_length,\n",
    "                                      encoder.hidden_size,\n",
    "                                      device=device)\n",
    "        \n",
    "        for ei in range(input_length):\n",
    "            encoder_output, encoder_hidden = encoder(input_tensor[ei],\n",
    "                                        encoder_hidden)\n",
    "            encoder_outputs[ei] += encoder_output[0, 0]\n",
    "            \n",
    "        self.encoder_outputs = encoder_outputs\n",
    "\n",
    "        return encoder_hidden\n",
    "    \n",
    "    \n",
    "    def decode(self,\n",
    "               tensor,\n",
    "               decoder,\n",
    "               out_tensor):\n",
    "        \n",
    "        decoder_input = torch.tensor([[self.SOS_token]], device=device)\n",
    "        decoder_hidden = tensor\n",
    "        decoded_words = []\n",
    "\n",
    "        for di in range(self.max_length):\n",
    "            decoder_output, decoder_hidden, decoder_attention = decoder(\n",
    "                decoder_input, decoder_hidden, self.encoder_outputs)\n",
    "            _, topone = decoder_output.data.topk(1)\n",
    "            if topone.item() == self.EOS_token:\n",
    "                decoded_words.append('<EOS>')\n",
    "                break\n",
    "            else:\n",
    "                decoded_words.append(self.target_lang.index2word[topone.item()])\n",
    "\n",
    "            decoder_input = topone.squeeze().detach()\n",
    "        \n",
    "        if not out_tensor:\n",
    "            output = \" \".join(decoded_words)\n",
    "        else:\n",
    "            output = decoder_hidden\n",
    "\n",
    "        return output\n",
    "    \n",
    "    def sen2vec(self, sentence, encoder, decoder, is_tensor, out_tensor):\n",
    "        encoded = self.encode(sentence, encoder, is_tensor)\n",
    "        vec = self.decode(encoded, decoder, out_tensor)\n",
    "        return vec\n",
    "    \n",
    "    def sen2vecA(self, sentence, is_tensor):\n",
    "        encoded = self.encode(sentence, self.encoderA, is_tensor)\n",
    "        vec = self.decode(encoded, self.decoderA, out_tensor=True)\n",
    "        return vec\n",
    "    \n",
    "    def sen2vecB(self, sentence, is_tensor):\n",
    "        encoded = self.encode(sentence, self.encoderB, is_tensor)\n",
    "        vec = self.decode(encoded, self.decoderB, out_tensor=True)\n",
    "        return vec\n",
    "    \n",
    "    def forward(self, s1, s2):\n",
    "        hA = self.sen2vecA(s1, is_tensor=True)\n",
    "        hB = self.sen2vecB(s1, is_tensor=True)\n",
    "#         h_inf = torch.cat([hA, hB], dim=2).squeeze(1)\n",
    "#         h_inf = torch.sigmoid(self.fc_inf(h_inf))\n",
    "#         h_inf = h_inf.view((1, h_inf.shape[0], h_inf.shape[1]))\n",
    "        h_inf = hA * hB\n",
    "        e = self.encode(s2,\n",
    "                        self.encoderA,\n",
    "                        hidden=h_inf,\n",
    "                        is_tensor=True)\n",
    "        output = self.fc_out(e).squeeze(1)\n",
    "        \n",
    "        return output\n",
    "    \n",
    "\n",
    "    def predict(self, s1, s2):\n",
    "        out = self.forward(s1, s2)\n",
    "        softmax = nn.Softmax(dim=1)\n",
    "        out = softmax(out)\n",
    "        indices = torch.argmax(out, 1)\n",
    "        return indices\n",
    "\n",
    "        \n"
   ]
  },
  {
   "cell_type": "code",
   "execution_count": 29,
   "metadata": {},
   "outputs": [],
   "source": [
    "addmodel = AndModel(encoderA,\n",
    "                    decoderA,\n",
    "                     encoderB,\n",
    "                     decoderB,\n",
    "                     hidden_size=256,\n",
    "                     output_size=2,\n",
    "                     max_length=MAX_LENGTH,\n",
    "                     input_lang=input_lang,\n",
    "                     target_lang=output_lang)"
   ]
  },
  {
   "cell_type": "markdown",
   "metadata": {},
   "source": [
    "Test encoding decoding"
   ]
  },
  {
   "cell_type": "code",
   "execution_count": 30,
   "metadata": {},
   "outputs": [
    {
     "name": "stdout",
     "output_type": "stream",
     "text": [
      "===========\n",
      "s1:\n",
      "\n",
      "reginald caught a mango fish and ran from me\n",
      "\n",
      "inference A:\n",
      "\n",
      "jeffrey caught a mango fish <EOS>\n",
      "\n",
      "inference B:\n",
      "\n",
      "dianne ran from me <EOS>\n",
      "===========\n",
      "s1:\n",
      "\n",
      "sandy thought i was living in craiova and grew up in jail\n",
      "\n",
      "inference A:\n",
      "\n",
      "julian thought i was helping in bucharest <EOS>\n",
      "\n",
      "inference B:\n",
      "\n",
      "beth grew up in jail <EOS>\n",
      "===========\n",
      "s1:\n",
      "\n",
      "brenda burned chris s house and let use this pen\n",
      "\n",
      "inference A:\n",
      "\n",
      "tyler broke julie s house <EOS>\n",
      "\n",
      "inference B:\n",
      "\n",
      "let let use this pen <EOS>\n"
     ]
    }
   ],
   "source": [
    "for ex in training_pairs_B[0:3]:\n",
    "    print(\"===========\")\n",
    "    ex = ex[0]\n",
    "    print(\"s1:\\n\")\n",
    "    print(ex)\n",
    "    print()\n",
    "\n",
    "    \n",
    "    ex_A = addmodel.sen2vec(ex,\n",
    "                     addmodel.encoderA,\n",
    "                     addmodel.decoderA,\n",
    "                     is_tensor=False,\n",
    "                     out_tensor=False)\n",
    "    \n",
    "    ex_B = addmodel.sen2vec(ex,\n",
    "                     addmodel.encoderB,\n",
    "                     addmodel.decoderB,\n",
    "                     is_tensor=False,\n",
    "                     out_tensor=False)\n",
    "\n",
    "    print(\"inference A:\\n\")\n",
    "    print(ex_A)\n",
    "    print()\n",
    "    print(\"inference B:\\n\")\n",
    "    print(ex_B)"
   ]
  },
  {
   "cell_type": "code",
   "execution_count": 31,
   "metadata": {},
   "outputs": [
    {
     "name": "stdout",
     "output_type": "stream",
     "text": [
      "===========\n",
      "s1:\n",
      "\n",
      "reginald caught a mango fish and ran from me\n",
      "\n",
      "tensor([[[-0.9443,  0.0013,  0.7280,  0.9989, -0.9943, -0.9138, -1.0000,\n",
      "           1.0000, -0.9652, -0.8476, -0.5875, -0.9970, -0.9882, -0.9989,\n",
      "          -0.8283,  0.8123,  0.7587,  0.9980,  0.2596,  0.7596, -0.9976,\n",
      "          -0.9882, -0.8050,  0.9983, -0.5026, -0.3106,  0.8438,  0.9949,\n",
      "           0.7912,  0.7531, -0.7329,  0.9654,  0.8711, -0.9832, -0.9900,\n",
      "           0.8094, -0.9996, -0.9566, -0.6642, -0.5575,  0.9569, -0.6305,\n",
      "           0.3523,  0.3742,  0.9251,  0.9944, -0.8593,  0.4658,  0.9660,\n",
      "           0.7297, -0.9135, -0.9269,  0.9259,  0.5655, -0.9514, -0.9965,\n",
      "           0.9114, -0.9944,  0.6129, -0.0076,  0.9842,  0.9946, -0.9759,\n",
      "          -0.8431,  0.9293,  0.9076,  0.6279, -0.7054, -0.4673, -0.8719,\n",
      "           0.8553,  0.6643,  0.7762, -0.3129, -0.9624, -0.5597, -0.9987,\n",
      "          -0.9975,  0.9454, -0.9731, -0.9996, -0.9998,  0.7759,  0.9800,\n",
      "           0.2555, -0.9980, -0.8391, -0.9952, -0.0961, -0.8773,  0.9929,\n",
      "          -0.3885, -0.8881, -0.8334, -0.9979,  0.7142,  0.1646, -0.9952,\n",
      "           0.8989, -0.8490, -0.9811, -0.8989,  0.9652, -0.9975,  0.9998,\n",
      "           0.6917, -0.9973,  0.4293, -0.3460, -0.5433, -0.9307,  0.9990,\n",
      "           0.4831,  0.9921, -0.4038,  0.9222,  0.9512,  0.7285,  0.9653,\n",
      "           0.3815, -0.9993,  0.9990, -0.7489, -0.9639, -0.9062, -0.9506,\n",
      "           0.9071, -0.9996,  0.9996, -0.9880,  0.9692, -0.6713, -0.0137,\n",
      "           0.7112,  0.0133,  0.9297, -0.9603,  0.7786, -0.8577,  0.1336,\n",
      "           0.1728, -0.2535,  0.9968, -0.9667, -0.6209, -0.9829, -0.9169,\n",
      "          -0.9510,  0.9491,  0.9991,  0.6868, -0.7794, -0.8368, -0.9112,\n",
      "          -0.2746,  0.8372,  0.9878,  0.0529, -0.6763,  0.7605,  0.9988,\n",
      "          -0.4551,  0.1220,  0.8804, -0.8465,  0.9449,  0.9814,  0.5426,\n",
      "          -0.9204, -0.9981, -0.9833,  0.8362,  0.9984,  0.9628, -0.9668,\n",
      "          -0.4265, -0.9713,  0.9393,  0.8956,  0.1120, -0.9838, -0.9971,\n",
      "           0.9987, -0.9746,  0.1128,  0.9862, -0.3610,  0.9926,  0.9705,\n",
      "           0.8559, -1.0000, -0.9979,  0.8914,  0.7331,  0.9935, -0.7639,\n",
      "           0.9365,  0.6808,  0.9998, -0.2204, -0.9916,  0.8819,  0.3739,\n",
      "          -0.9783,  0.4915,  0.9250, -0.8105, -0.9629, -0.9949, -0.3928,\n",
      "          -0.0731, -0.7367,  0.9689, -0.5910, -0.9838, -0.2052,  0.9526,\n",
      "          -0.9797, -0.7982,  0.9353, -0.8381, -0.9820, -0.8917, -0.9999,\n",
      "           0.5743, -0.8189, -0.4589,  0.9651,  0.9772,  0.0436, -0.9473,\n",
      "           0.9558,  0.8891,  0.4809, -0.9935, -0.8971,  0.8720, -0.0091,\n",
      "          -0.1191, -0.9584, -0.9677,  0.9221,  0.1202, -0.5909,  0.9998,\n",
      "          -0.8639,  0.6595,  0.9075,  0.7074, -0.1570,  0.9936, -0.9934,\n",
      "           0.7418, -0.2130,  0.8045,  0.9728]]], grad_fn=<ViewBackward>)\n",
      "\n",
      "tensor([[[-0.9922,  0.4088,  0.8744, -0.9890,  0.9855, -0.9656,  0.8705,\n",
      "           0.8463, -0.4166,  0.9981, -0.9573,  0.7195,  0.1570,  0.9574,\n",
      "           0.8383, -0.6489, -0.7744, -0.9489,  0.9276, -0.9935,  0.6347,\n",
      "           0.8556,  0.9996, -0.0852,  0.5587, -0.9815,  0.8470,  0.9178,\n",
      "          -0.5989,  0.2502,  0.2569,  0.9550, -0.9631, -0.8656,  0.4103,\n",
      "           0.9676,  0.9852, -0.9090,  0.9486, -0.8990, -0.0937,  0.9709,\n",
      "          -0.9571, -0.9924, -0.9187, -0.9065, -0.6099, -0.9188,  0.8315,\n",
      "           0.5810,  0.8500,  0.9911,  0.8351, -0.1510, -0.9041,  0.8562,\n",
      "          -0.7935, -0.4135,  0.9931,  0.8751, -0.9932, -0.9377, -0.0904,\n",
      "           0.0448,  0.9906, -0.8639, -0.9967,  0.8605,  0.9341, -0.9595,\n",
      "           0.9900, -0.9521, -0.9857,  0.9943,  0.7461,  0.8139, -0.2724,\n",
      "           0.6913,  0.6707,  0.7342, -0.7109,  0.7983,  0.4563, -0.9977,\n",
      "          -0.9770,  0.9985,  0.0780, -0.9916,  0.6725, -0.3725,  0.9367,\n",
      "          -0.9971, -0.8809, -0.2836, -0.8279,  0.7946,  0.6775,  0.9633,\n",
      "          -0.5767,  0.9806, -0.8061,  0.6895,  0.9919,  0.4985,  0.8134,\n",
      "          -0.6912,  0.7137, -0.7855, -0.9824, -0.6578,  0.8658,  0.9772,\n",
      "           0.9250, -0.9703,  0.7578,  0.7851, -0.4021, -0.9413, -0.9652,\n",
      "          -0.7018, -0.3254,  0.0328,  0.6538,  0.9798, -0.3779, -0.8084,\n",
      "           0.9806, -0.9355,  0.7087, -0.9692,  0.9645,  0.9752, -0.8590,\n",
      "          -0.9571, -0.8987,  0.8892,  0.9406,  0.6729,  0.9685,  0.9503,\n",
      "          -0.7788, -0.5344, -0.9791, -0.9724,  0.9822,  0.9167,  0.4122,\n",
      "           0.9968, -0.9962,  0.9990,  0.1718, -0.9519,  0.5503, -0.8258,\n",
      "           0.9784, -0.9834,  0.0607, -0.0860, -0.9949, -0.9816, -0.6589,\n",
      "          -0.9951, -0.9716, -0.9722,  0.6429, -0.2591, -0.7194, -0.4340,\n",
      "          -0.0156, -0.9535,  0.6207, -0.9471, -0.4134, -0.9906, -0.4856,\n",
      "           0.9292, -0.9417, -0.2386,  0.8757, -0.8778,  0.4292, -0.7397,\n",
      "          -0.3289, -0.9944, -0.9711,  0.9446,  0.7270,  0.9760, -0.9782,\n",
      "           0.9600, -0.6582, -0.9266,  0.1545, -0.9305, -0.8774,  0.6141,\n",
      "          -0.9966, -0.9419,  0.6339,  0.0231, -0.6110, -0.1127,  0.9999,\n",
      "           0.2181, -0.2773, -0.9223, -0.4168,  0.9361, -0.9349,  0.7493,\n",
      "           0.8445,  0.9414,  0.9834, -0.9970,  0.9197, -0.7030,  0.7414,\n",
      "          -0.9089,  0.4542, -0.9887,  0.9117, -0.8606,  0.7946,  0.5490,\n",
      "          -0.8984, -0.8477, -0.9974,  0.4004,  0.9039,  0.9993,  0.6858,\n",
      "          -0.9852, -0.8847, -0.9599,  0.7589, -0.8356, -0.9374, -0.9041,\n",
      "           0.4488, -0.1901,  0.9969,  0.9743,  0.7098, -0.2090, -0.9952,\n",
      "           0.0534, -0.5326,  0.8123,  0.0800,  0.5508,  0.9941,  0.9873,\n",
      "           0.9831,  0.5630, -0.7692, -0.9554]]], grad_fn=<ViewBackward>)\n"
     ]
    }
   ],
   "source": [
    "for ex in training_pairs_B[0:1]:\n",
    "    print(\"===========\")\n",
    "    ex = ex[0]\n",
    "    print(\"s1:\\n\")\n",
    "    print(ex)\n",
    "    print()\n",
    "\n",
    "    ex_A = addmodel.sen2vecA(ex,is_tensor=False)\n",
    "    ex_B = addmodel.sen2vecB(ex,is_tensor=False)\n",
    "    \n",
    "    print(ex_A)\n",
    "    print()\n",
    "    print(ex_B)"
   ]
  },
  {
   "cell_type": "code",
   "execution_count": 32,
   "metadata": {},
   "outputs": [],
   "source": [
    "train_triples = zip(list(df2train.sentence1.values), list(df2train.sentence2.values), list(df2train.label.values))\n",
    "train_triples = [(normalizeString(s1), normalizeString(s2), l) for s1, s2, l in train_triples]\n",
    "train_triples_t = [tensorsFromTriple(t) for t in train_triples]"
   ]
  },
  {
   "cell_type": "code",
   "execution_count": 33,
   "metadata": {},
   "outputs": [],
   "source": [
    "train_triples = zip(list(df2train.sentence1.values), list(df2train.sentence2.values), list(df2train.label.values))\n",
    "train_triples = [(normalizeString(s1), normalizeString(s2), l) for s1, s2, l in train_triples]\n",
    "train_triples_t = [tensorsFromTriple(t) for t in train_triples]"
   ]
  },
  {
   "cell_type": "code",
   "execution_count": 34,
   "metadata": {},
   "outputs": [],
   "source": [
    "valid_triples = zip(list(df2valid.sentence1.values), list(df2valid.sentence2.values), list(df2valid.label.values))\n",
    "valid_triples = [(normalizeString(s1), normalizeString(s2), l) for s1, s2, l in valid_triples]\n",
    "valid_triples_t = [tensorsFromTriple(t) for t in valid_triples]"
   ]
  },
  {
   "cell_type": "code",
   "execution_count": 35,
   "metadata": {},
   "outputs": [
    {
     "data": {
      "text/plain": [
       "1500"
      ]
     },
     "execution_count": 35,
     "metadata": {},
     "output_type": "execute_result"
    }
   ],
   "source": [
    "len(valid_triples_t)"
   ]
  },
  {
   "cell_type": "code",
   "execution_count": 36,
   "metadata": {},
   "outputs": [],
   "source": [
    "test_triples = zip(list(df2_test.sentence1.values), list(df2_test.sentence2.values), list(df2_test.label.values))\n",
    "test_triples = [(normalizeString(s1), normalizeString(s2), l) for s1, s2, l in test_triples]\n",
    "test_triples_t = [tensorsFromTriple(t) for t in test_triples]"
   ]
  },
  {
   "cell_type": "code",
   "execution_count": 37,
   "metadata": {},
   "outputs": [
    {
     "name": "stdout",
     "output_type": "stream",
     "text": [
      "('reginald caught a mango fish and ran from me', 'reginald didn t catch a mango fish', 1)\n",
      "(tensor([[ 2],\n",
      "        [ 3],\n",
      "        [ 4],\n",
      "        [ 5],\n",
      "        [ 6],\n",
      "        [ 7],\n",
      "        [ 8],\n",
      "        [ 9],\n",
      "        [49],\n",
      "        [ 1]]), tensor([[ 2],\n",
      "        [11],\n",
      "        [12],\n",
      "        [13],\n",
      "        [ 4],\n",
      "        [ 5],\n",
      "        [ 6],\n",
      "        [ 1]]), tensor([1]))\n"
     ]
    }
   ],
   "source": [
    "example = train_triples[0]\n",
    "print(example)\n",
    "example_t = train_triples_t[0]\n",
    "print(example_t)"
   ]
  },
  {
   "cell_type": "markdown",
   "metadata": {},
   "source": [
    "## Prediction BEFORE training"
   ]
  },
  {
   "cell_type": "code",
   "execution_count": 38,
   "metadata": {},
   "outputs": [
    {
     "data": {
      "image/png": "[encoded data removed]",
      "text/plain": [
       "<Figure size 648x648 with 2 Axes>"
      ]
     },
     "metadata": {},
     "output_type": "display_data"
    }
   ],
   "source": [
    "n_iters = 100\n",
    "training_pairs_little = [random.choice(train_triples_t) for i in range(n_iters)]\n",
    "predictions = []\n",
    "labels = []\n",
    "\n",
    "for i in range(n_iters):\n",
    "    s1, s2, label = training_pairs_little[i]\n",
    "    pred = addmodel.predict(s1, s2)\n",
    "    label = label.item()\n",
    "    pred = pred.item()\n",
    "    predictions.append(pred)\n",
    "    labels.append(label)\n",
    "\n",
    "plot_confusion_matrix(labels,\n",
    "                      predictions,\n",
    "                      classes=[\"no\", \"yes\"],\n",
    "                      path=\"confusion_matrix.png\")"
   ]
  },
  {
   "cell_type": "markdown",
   "metadata": {},
   "source": [
    "### Training functions"
   ]
  },
  {
   "cell_type": "code",
   "execution_count": 39,
   "metadata": {},
   "outputs": [],
   "source": [
    "def CEtrain(s1_tensor,\n",
    "            s2_tensor,\n",
    "            label,\n",
    "            model,\n",
    "            optimizer,\n",
    "            criterion):\n",
    "    \n",
    "    model.train()\n",
    "    optimizer.zero_grad()\n",
    "    logits = model(s1_tensor, s2_tensor)\n",
    "    loss = criterion(logits, label)\n",
    "    loss.backward()\n",
    "    optimizer.step()\n",
    "    return loss"
   ]
  },
  {
   "cell_type": "markdown",
   "metadata": {},
   "source": [
    "Test CEtrain"
   ]
  },
  {
   "cell_type": "code",
   "execution_count": 40,
   "metadata": {},
   "outputs": [],
   "source": [
    "CE = nn.CrossEntropyLoss()\n",
    "addmodel_opt = torch.optim.SGD(addmodel.parameters(), lr= 0.3)\n",
    "\n",
    "loss = CEtrain(s1_tensor=example_t[0],\n",
    "               s2_tensor=example_t[1],\n",
    "               label=example_t[2],\n",
    "               model=addmodel,\n",
    "               optimizer=addmodel_opt,\n",
    "               criterion=CE)\n",
    "assert type(loss.item()) == float "
   ]
  },
  {
   "cell_type": "markdown",
   "metadata": {},
   "source": [
    "## Little example of training"
   ]
  },
  {
   "cell_type": "code",
   "execution_count": 41,
   "metadata": {},
   "outputs": [
    {
     "name": "stdout",
     "output_type": "stream",
     "text": [
      "epoch 1/10 9m 0s mean loss = 1.44\n",
      "epoch 2/10 9m 39s mean loss = 0.89\n",
      "epoch 3/10 8m 31s mean loss = 0.84\n",
      "epoch 4/10 9m 14s mean loss = 0.79\n",
      "epoch 5/10 9m 25s mean loss = 0.79\n",
      "epoch 6/10 9m 23s mean loss = 0.77\n",
      "epoch 7/10 9m 2s mean loss = 0.74\n",
      "epoch 8/10 8m 40s mean loss = 0.72\n",
      "epoch 9/10 8m 41s mean loss = 0.73\n",
      "epoch 10/10 8m 55s mean loss = 0.71\n"
     ]
    },
    {
     "data": {
      "image/png": "[encoded data removed]",
      "text/plain": [
       "<Figure size 1080x288 with 1 Axes>"
      ]
     },
     "metadata": {},
     "output_type": "display_data"
    }
   ],
   "source": [
    "epochs = 10\n",
    "learning_rate = 0.1\n",
    "\n",
    "CE = nn.CrossEntropyLoss()\n",
    "\n",
    "encoderA = EncoderRNN(eng_enc_v_size, hidden_size)\n",
    "decoderA = AttnDecoderRNN(hidden_size, eng_dec_v_size)\n",
    "encoderA.load_state_dict(torch.load(\"b4_encoder1_att.pkl\"))\n",
    "decoderA.load_state_dict(torch.load(\"b4_decoder1_att.pkl\"))\n",
    "encoderB = EncoderRNN(eng_enc_v_size, hidden_size)\n",
    "decoderB = AttnDecoderRNN(hidden_size, eng_dec_v_size)\n",
    "encoderB.load_state_dict(torch.load(\"b4_encoder2_att.pkl\"))\n",
    "decoderB.load_state_dict(torch.load(\"b4_decoder2_att.pkl\"))\n",
    "\n",
    "addmodel = AndModel(encoderA,\n",
    "                    decoderA,\n",
    "                    encoderB,\n",
    "                    decoderB,\n",
    "                    hidden_size=256,\n",
    "                    output_size=2,\n",
    "                    max_length=MAX_LENGTH,\n",
    "                    input_lang=input_lang,\n",
    "                    target_lang=output_lang)\n",
    "\n",
    "\n",
    "\n",
    "# # for model in [encoderA, decoderA, encoderB, decoderB]:\n",
    "# for model in [encoderB, decoderB]:\n",
    "#     for param in model.parameters():\n",
    "#         param.requires_grad = False\n",
    "\n",
    "# addmodel_opt = torch.optim.SGD(addmodel.parameters(), lr= learning_rate)\n",
    "addmodel_opt = torch.optim.Adagrad(addmodel.parameters(), lr= learning_rate)\n",
    "# addmodel_opt = torch.optim.Adadelta(addmodel.parameters(), lr= learning_rate)\n",
    "# addmodel_opt = torch.optim.Adam(addmodel.parameters(), lr= learning_rate)\n",
    "# addmodel_opt = torch.optim.SparseAdam(addmodel.parameters(), lr= learning_rate)\n",
    "# addmodel_opt = torch.optim.RMSprop(addmodel.parameters(), lr= learning_rate)\n",
    "\n",
    "\n",
    "\n",
    "\n",
    "\n",
    "losses_per_epoch = []\n",
    "\n",
    "for i in range(epochs):\n",
    "    losses = []\n",
    "    start = time.time()\n",
    "    n_iters = 1000\n",
    "    training_pairs_little = [random.choice(train_triples_t) for i in range(n_iters)]\n",
    "    for t in training_pairs_little:\n",
    "        s1, s2, label = t    \n",
    "        loss = CEtrain(s1_tensor=s1,\n",
    "                       s2_tensor=s2,\n",
    "                       label=label,\n",
    "                       model=addmodel,\n",
    "                       optimizer=addmodel_opt,\n",
    "                       criterion=CE)\n",
    "        losses.append(loss.item())\n",
    "    mean_loss = np.mean(losses)\n",
    "    losses_per_epoch.append(mean_loss)\n",
    "    print(\"epoch {}/{}\".format(i+1, epochs), timeSince(start), \"mean loss = {:.2f}\".format(mean_loss))\n",
    "\n",
    "simple_step_plot([losses_per_epoch],\n",
    "                 \"loss\",\n",
    "                 \"loss example ({} epochs)\".format(epochs),\n",
    "                 \"loss_example.png\",\n",
    "                  figsize=(15,4))"
   ]
  },
  {
   "cell_type": "markdown",
   "metadata": {},
   "source": [
    "## Prediction AFTER training"
   ]
  },
  {
   "cell_type": "code",
   "execution_count": 42,
   "metadata": {},
   "outputs": [
    {
     "data": {
      "image/png": "[encoded data removed]",
      "text/plain": [
       "<Figure size 648x648 with 2 Axes>"
      ]
     },
     "metadata": {},
     "output_type": "display_data"
    }
   ],
   "source": [
    "n_iters = 100\n",
    "training_pairs_little = [random.choice(train_triples_t) for i in range(n_iters)]\n",
    "predictions = []\n",
    "labels = []\n",
    "\n",
    "for i in range(n_iters):\n",
    "    s1, s2, label = training_pairs_little[i]\n",
    "    pred = addmodel.predict(s1, s2)\n",
    "    label = label.item()\n",
    "    pred = pred.item()\n",
    "    predictions.append(pred)\n",
    "    labels.append(label)\n",
    "\n",
    "plot_confusion_matrix(labels,\n",
    "                      predictions,\n",
    "                      classes=[\"no\", \"yes\"],\n",
    "                      path=\"confusion_matrix.png\")"
   ]
  },
  {
   "cell_type": "code",
   "execution_count": 43,
   "metadata": {},
   "outputs": [
    {
     "data": {
      "image/png": "[encoded data removed]",
      "text/plain": [
       "<Figure size 648x648 with 2 Axes>"
      ]
     },
     "metadata": {},
     "output_type": "display_data"
    }
   ],
   "source": [
    "n_iters = len(valid_triples_t)\n",
    "valid_pairs_little = [random.choice(valid_triples_t) for i in range(n_iters)]\n",
    "predictions = []\n",
    "labels = []\n",
    "\n",
    "for i in range(n_iters):\n",
    "    s1, s2, label = valid_pairs_little[i]\n",
    "    pred = addmodel.predict(s1, s2)\n",
    "    label = label.item()\n",
    "    pred = pred.item()\n",
    "    predictions.append(pred)\n",
    "    labels.append(label)\n",
    "\n",
    "plot_confusion_matrix(labels,\n",
    "                      predictions,\n",
    "                      classes=[\"no\", \"yes\"],\n",
    "                      path=\"confusion_matrix.png\")"
   ]
  },
  {
   "cell_type": "code",
   "execution_count": 44,
   "metadata": {},
   "outputs": [],
   "source": [
    "torch.save(addmodel.state_dict(), \"b4_dot.pkl\")"
   ]
  },
  {
   "cell_type": "code",
   "execution_count": 45,
   "metadata": {},
   "outputs": [
    {
     "data": {
      "image/png": "[encoded data removed]",
      "text/plain": [
       "<Figure size 648x648 with 2 Axes>"
      ]
     },
     "metadata": {},
     "output_type": "display_data"
    }
   ],
   "source": [
    "n_iters = len(test_triples_t)\n",
    "training_pairs_little = [random.choice(test_triples_t) for i in range(n_iters)]\n",
    "predictions = []\n",
    "labels = []\n",
    "\n",
    "for i in range(n_iters):\n",
    "    s1, s2, label = training_pairs_little[i]\n",
    "    pred = addmodel.predict(s1, s2)\n",
    "    label = label.item()\n",
    "    pred = pred.item()\n",
    "    predictions.append(pred)\n",
    "    labels.append(label)\n",
    "\n",
    "plot_confusion_matrix(labels,\n",
    "                      predictions,\n",
    "                      classes=[\"no\", \"yes\"],\n",
    "                      path=\"confusion_matrix.png\")"
   ]
  },
  {
   "cell_type": "code",
   "execution_count": null,
   "metadata": {},
   "outputs": [],
   "source": []
  }
 ],
 "metadata": {
  "kernelspec": {
   "display_name": "Python 3",
   "language": "python",
   "name": "python3"
  },
  "language_info": {
   "codemirror_mode": {
    "name": "ipython",
    "version": 3
   },
   "file_extension": ".py",
   "mimetype": "text/x-python",
   "name": "python",
   "nbconvert_exporter": "python",
   "pygments_lexer": "ipython3",
   "version": "3.5.2"
  }
 },
 "nbformat": 4,
 "nbformat_minor": 2
}
