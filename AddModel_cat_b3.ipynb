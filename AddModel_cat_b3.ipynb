{
 "cells": [
  {
   "cell_type": "markdown",
   "metadata": {},
   "source": [
    "# Add model: translation attention ecoder-decocer over the b3 dataset"
   ]
  },
  {
   "cell_type": "code",
   "execution_count": 49,
   "metadata": {},
   "outputs": [],
   "source": [
    "import numpy as np\n",
    "import torch\n",
    "import torch.nn as nn\n",
    "import torch.nn.functional as F\n",
    "from torchtext import data\n",
    "import pandas as pd\n",
    "import unicodedata\n",
    "import string\n",
    "import re\n",
    "import random\n",
    "import copy\n",
    "from contra_qa.plots.functions  import simple_step_plot, plot_confusion_matrix\n",
    "import  matplotlib.pyplot as plt\n",
    "device = torch.device(\"cuda\" if torch.cuda.is_available() else \"cpu\")\n",
    "from nltk.translate.bleu_score import sentence_bleu\n",
    "\n",
    "\n",
    "% matplotlib inline"
   ]
  },
  {
   "cell_type": "code",
   "execution_count": 50,
   "metadata": {},
   "outputs": [],
   "source": [
    "import time\n",
    "import math\n",
    "\n",
    "\n",
    "def asMinutes(s):\n",
    "    m = math.floor(s / 60)\n",
    "    s -= m * 60\n",
    "    return '%dm %ds' % (m, s)\n",
    "\n",
    "\n",
    "def timeSince(since):\n",
    "    now = time.time()\n",
    "    s = now - since\n",
    "    return '%s' % asMinutes(s)"
   ]
  },
  {
   "cell_type": "markdown",
   "metadata": {},
   "source": [
    "### Preparing data"
   ]
  },
  {
   "cell_type": "code",
   "execution_count": 51,
   "metadata": {},
   "outputs": [],
   "source": [
    "df2 = pd.read_csv(\"data/boolean3_train.csv\")\n",
    "df2_test = pd.read_csv(\"data/boolean3_test.csv\")\n",
    "\n",
    "df2[\"text\"] = df2[\"sentence1\"] + df2[\"sentence2\"] \n",
    "df2_test[\"text\"] = df2_test[\"sentence1\"] + df2_test[\"sentence2\"] \n",
    "\n",
    "all_sentences = list(df2.text.values) + list(df2_test.text.values)\n",
    "\n",
    "df2train = df2.iloc[:8500]\n",
    "df2valid = df2.iloc[8500:]"
   ]
  },
  {
   "cell_type": "code",
   "execution_count": 52,
   "metadata": {},
   "outputs": [
    {
     "data": {
      "text/html": [
       "<div>\n",
       "<style scoped>\n",
       "    .dataframe tbody tr th:only-of-type {\n",
       "        vertical-align: middle;\n",
       "    }\n",
       "\n",
       "    .dataframe tbody tr th {\n",
       "        vertical-align: top;\n",
       "    }\n",
       "\n",
       "    .dataframe thead th {\n",
       "        text-align: right;\n",
       "    }\n",
       "</style>\n",
       "<table border=\"1\" class=\"dataframe\">\n",
       "  <thead>\n",
       "    <tr style=\"text-align: right;\">\n",
       "      <th></th>\n",
       "      <th>sentence1</th>\n",
       "      <th>sentence2</th>\n",
       "      <th>and_A</th>\n",
       "      <th>and_B</th>\n",
       "      <th>label</th>\n",
       "      <th>text</th>\n",
       "    </tr>\n",
       "  </thead>\n",
       "  <tbody>\n",
       "    <tr>\n",
       "      <th>8495</th>\n",
       "      <td>Milton went to Timisoara and Tulcea</td>\n",
       "      <td>Shawn didn't go to Tulcea</td>\n",
       "      <td>Milton went to Timisoara</td>\n",
       "      <td>Milton went to Tulcea</td>\n",
       "      <td>0</td>\n",
       "      <td>Milton went to Timisoara and TulceaShawn didn'...</td>\n",
       "    </tr>\n",
       "    <tr>\n",
       "      <th>8496</th>\n",
       "      <td>Alice has traveled to Giurgiu and Craiova</td>\n",
       "      <td>Alice didn't travel to Craiova</td>\n",
       "      <td>Alice has traveled to Giurgiu</td>\n",
       "      <td>Alice has traveled to Craiova</td>\n",
       "      <td>1</td>\n",
       "      <td>Alice has traveled to Giurgiu and CraiovaAlice...</td>\n",
       "    </tr>\n",
       "    <tr>\n",
       "      <th>8497</th>\n",
       "      <td>Blanche went to Slatina and Cluj-Napoca</td>\n",
       "      <td>Blanche didn't go to Bucharest</td>\n",
       "      <td>Blanche went to Slatina</td>\n",
       "      <td>Blanche went to Cluj-Napoca</td>\n",
       "      <td>0</td>\n",
       "      <td>Blanche went to Slatina and Cluj-NapocaBlanche...</td>\n",
       "    </tr>\n",
       "    <tr>\n",
       "      <th>8498</th>\n",
       "      <td>Nicole went to Reghin and Blaj</td>\n",
       "      <td>Nicole didn't go to Reghin</td>\n",
       "      <td>Nicole went to Reghin</td>\n",
       "      <td>Nicole went to Blaj</td>\n",
       "      <td>1</td>\n",
       "      <td>Nicole went to Reghin and BlajNicole didn't go...</td>\n",
       "    </tr>\n",
       "    <tr>\n",
       "      <th>8499</th>\n",
       "      <td>Sheryl went to Cluj-Napoca and Hunedoara</td>\n",
       "      <td>Sheryl didn't go to Hunedoara</td>\n",
       "      <td>Sheryl went to Cluj-Napoca</td>\n",
       "      <td>Sheryl went to Hunedoara</td>\n",
       "      <td>1</td>\n",
       "      <td>Sheryl went to Cluj-Napoca and HunedoaraSheryl...</td>\n",
       "    </tr>\n",
       "  </tbody>\n",
       "</table>\n",
       "</div>"
      ],
      "text/plain": [
       "                                      sentence1  \\\n",
       "8495        Milton went to Timisoara and Tulcea   \n",
       "8496  Alice has traveled to Giurgiu and Craiova   \n",
       "8497    Blanche went to Slatina and Cluj-Napoca   \n",
       "8498             Nicole went to Reghin and Blaj   \n",
       "8499   Sheryl went to Cluj-Napoca and Hunedoara   \n",
       "\n",
       "                           sentence2                          and_A  \\\n",
       "8495       Shawn didn't go to Tulcea       Milton went to Timisoara   \n",
       "8496  Alice didn't travel to Craiova  Alice has traveled to Giurgiu   \n",
       "8497  Blanche didn't go to Bucharest        Blanche went to Slatina   \n",
       "8498      Nicole didn't go to Reghin          Nicole went to Reghin   \n",
       "8499   Sheryl didn't go to Hunedoara     Sheryl went to Cluj-Napoca   \n",
       "\n",
       "                              and_B  label  \\\n",
       "8495          Milton went to Tulcea      0   \n",
       "8496  Alice has traveled to Craiova      1   \n",
       "8497    Blanche went to Cluj-Napoca      0   \n",
       "8498            Nicole went to Blaj      1   \n",
       "8499       Sheryl went to Hunedoara      1   \n",
       "\n",
       "                                                   text  \n",
       "8495  Milton went to Timisoara and TulceaShawn didn'...  \n",
       "8496  Alice has traveled to Giurgiu and CraiovaAlice...  \n",
       "8497  Blanche went to Slatina and Cluj-NapocaBlanche...  \n",
       "8498  Nicole went to Reghin and BlajNicole didn't go...  \n",
       "8499  Sheryl went to Cluj-Napoca and HunedoaraSheryl...  "
      ]
     },
     "execution_count": 52,
     "metadata": {},
     "output_type": "execute_result"
    }
   ],
   "source": [
    "df2train.tail()"
   ]
  },
  {
   "cell_type": "code",
   "execution_count": 53,
   "metadata": {},
   "outputs": [],
   "source": [
    "SOS_token = 0\n",
    "EOS_token = 1\n",
    "\n",
    "class Lang:\n",
    "    def __init__(self, name):\n",
    "        self.name = name\n",
    "        self.word2index = {}\n",
    "        self.word2count = {}\n",
    "        self.index2word = {0: \"SOS\", 1: \"EOS\"}\n",
    "        self.n_words = 2  # Count SOS and EOS\n",
    "\n",
    "    def addSentence(self, sentence):\n",
    "        for word in sentence.split(' '):\n",
    "            self.addWord(word)\n",
    "\n",
    "    def addWord(self, word):\n",
    "        if word not in self.word2index:\n",
    "            self.word2index[word] = self.n_words\n",
    "            self.word2count[word] = 1\n",
    "            self.index2word[self.n_words] = word\n",
    "            self.n_words += 1\n",
    "        else:\n",
    "            self.word2count[word] += 1"
   ]
  },
  {
   "cell_type": "code",
   "execution_count": 54,
   "metadata": {},
   "outputs": [
    {
     "name": "stdout",
     "output_type": "stream",
     "text": [
      "Before: ddddda'''~~çãpoeéééééÈ'''#$$##@!@!@AAS@#12323fdf\n",
      "\n",
      "After: ddddda capoeeeeeee ! ! aas fdf\n"
     ]
    }
   ],
   "source": [
    "# Turn a Unicode string to plain ASCII, thanks to\n",
    "# http://stackoverflow.com/a/518232/2809427\n",
    "def unicodeToAscii(s):\n",
    "    return ''.join(\n",
    "        c for c in unicodedata.normalize('NFD', s)\n",
    "        if unicodedata.category(c) != 'Mn')\n",
    "\n",
    "# Lowercase, trim, and remove non-letter characters\n",
    "\n",
    "def normalizeString(s):\n",
    "    s = unicodeToAscii(s.lower().strip())\n",
    "    s = re.sub(r\"([.!?])\", r\" \\1\", s)\n",
    "    s = re.sub(r\"[^a-zA-Z.!?]+\", r\" \", s)\n",
    "    return s\n",
    "\n",
    "\n",
    "example = \"ddddda'''~~çãpoeéééééÈ'''#$$##@!@!@AAS@#12323fdf\"\n",
    "print(\"Before:\", example)\n",
    "print()\n",
    "print(\"After:\", normalizeString(example))"
   ]
  },
  {
   "cell_type": "code",
   "execution_count": 55,
   "metadata": {},
   "outputs": [],
   "source": [
    "pairs_A = list(zip(list(df2train.sentence1.values), list(df2train.and_A.values)))\n",
    "pairs_B = list(zip(list(df2train.sentence1.values), list(df2train.and_B.values)))\n",
    "pairs_A = [(normalizeString(s1), normalizeString(s2)) for s1, s2 in pairs_A]\n",
    "pairs_B = [(normalizeString(s1), normalizeString(s2)) for s1, s2 in pairs_B]\n",
    "pairs_A_val = list(zip(list(df2valid.sentence1.values), list(df2valid.and_A.values)))\n",
    "pairs_B_val = list(zip(list(df2valid.sentence1.values), list(df2valid.and_B.values)))\n",
    "pairs_A_val = [(normalizeString(s1), normalizeString(s2)) for s1, s2 in pairs_A_val]\n",
    "pairs_B_val = [(normalizeString(s1), normalizeString(s2)) for s1, s2 in pairs_B_val]\n"
   ]
  },
  {
   "cell_type": "code",
   "execution_count": 56,
   "metadata": {},
   "outputs": [],
   "source": [
    "all_text_pairs = zip(all_sentences, all_sentences)\n",
    "all_text_pairs = [(normalizeString(s1), normalizeString(s2)) for s1, s2 in all_text_pairs]"
   ]
  },
  {
   "cell_type": "code",
   "execution_count": 57,
   "metadata": {},
   "outputs": [],
   "source": [
    "def readLangs(lang1, lang2, pairs, reverse=False):\n",
    "    # Reverse pairs, make Lang instances\n",
    "    if reverse:\n",
    "        pairs = [tuple(reversed(p)) for p in pairs]\n",
    "        input_lang = Lang(lang2)\n",
    "        output_lang = Lang(lang1)\n",
    "    else:\n",
    "        input_lang = Lang(lang1)\n",
    "        output_lang = Lang(lang2)\n",
    "\n",
    "    return input_lang, output_lang, pairs"
   ]
  },
  {
   "cell_type": "code",
   "execution_count": 58,
   "metadata": {},
   "outputs": [],
   "source": [
    "f = lambda x: len(x.split(\" \"))\n",
    "\n",
    "MAX_LENGTH = np.max(list(map(f, all_sentences)))"
   ]
  },
  {
   "cell_type": "code",
   "execution_count": 59,
   "metadata": {},
   "outputs": [],
   "source": [
    "def filterPair(p):\n",
    "    cond1 = len(p[0].split(' ')) < MAX_LENGTH\n",
    "    cond2 = len(p[1].split(' ')) < MAX_LENGTH \n",
    "    return cond1 and cond2\n",
    "\n",
    "def filterPairs(pairs):\n",
    "    return [pair for pair in pairs if filterPair(pair)]\n"
   ]
  },
  {
   "cell_type": "code",
   "execution_count": 60,
   "metadata": {},
   "outputs": [],
   "source": [
    "def prepareData(lang1, lang2, pairs, reverse=False):\n",
    "    input_lang, output_lang, pairs = readLangs(lang1, lang2, pairs, reverse)\n",
    "    print(\"Read %s sentence pairs\" % len(pairs))\n",
    "    pairs = filterPairs(pairs)\n",
    "    print(\"Trimmed to %s sentence pairs\" % len(pairs))\n",
    "    print(\"Counting words...\")\n",
    "    for pair in pairs:\n",
    "        input_lang.addSentence(pair[0])\n",
    "        output_lang.addSentence(pair[1])\n",
    "    print(\"Counted words:\")\n",
    "    print(input_lang.name, input_lang.n_words)\n",
    "    print(output_lang.name, output_lang.n_words)\n",
    "    return input_lang, output_lang, pairs"
   ]
  },
  {
   "cell_type": "code",
   "execution_count": 61,
   "metadata": {},
   "outputs": [
    {
     "name": "stdout",
     "output_type": "stream",
     "text": [
      "Read 8500 sentence pairs\n",
      "Trimmed to 8500 sentence pairs\n",
      "Counting words...\n",
      "Counted words:\n",
      "eng_enc 685\n",
      "eng_dec 683\n",
      "\n",
      "Read 11000 sentence pairs\n",
      "Trimmed to 10714 sentence pairs\n",
      "Counting words...\n",
      "Counted words:\n",
      "eng_enc 8008\n",
      "eng_dec 8008\n",
      "\n",
      "\n",
      "Read 1500 sentence pairs\n",
      "Trimmed to 1500 sentence pairs\n",
      "Counting words...\n",
      "Counted words:\n",
      "eng_enc 652\n",
      "eng_dec 612\n"
     ]
    }
   ],
   "source": [
    "_, _, training_pairs_A = prepareData(\"eng_enc\",\n",
    "                                             \"eng_dec\",\n",
    "                                             pairs_A)\n",
    "\n",
    "print()\n",
    "\n",
    "\n",
    "input_lang, _, _ = prepareData(\"eng_enc\",\n",
    "                               \"eng_dec\",\n",
    "                               all_text_pairs)\n",
    "\n",
    "output_lang = copy.deepcopy(input_lang)\n",
    "\n",
    "print()\n",
    "\n",
    "print()\n",
    "_, _, valid_pairs_A = prepareData(\"eng_enc\",\n",
    "                                \"eng_dec\",\n",
    "                                pairs_A_val)"
   ]
  },
  {
   "cell_type": "code",
   "execution_count": 62,
   "metadata": {},
   "outputs": [
    {
     "name": "stdout",
     "output_type": "stream",
     "text": [
      "Read 8500 sentence pairs\n",
      "Trimmed to 8500 sentence pairs\n",
      "Counting words...\n",
      "Counted words:\n",
      "eng_enc 685\n",
      "eng_dec 683\n",
      "\n",
      "Read 1500 sentence pairs\n",
      "Trimmed to 1500 sentence pairs\n",
      "Counting words...\n",
      "Counted words:\n",
      "eng_enc 652\n",
      "eng_dec 608\n"
     ]
    }
   ],
   "source": [
    "_, _, training_pairs_B = prepareData(\"eng_enc\",\n",
    "                                     \"eng_dec\",\n",
    "                                     pairs_B)\n",
    "print()\n",
    "_, _, valid_pairs_B = prepareData(\"eng_enc\",\n",
    "                                \"eng_dec\",\n",
    "                                pairs_B_val)"
   ]
  },
  {
   "cell_type": "markdown",
   "metadata": {},
   "source": [
    "### sentences 2 tensors"
   ]
  },
  {
   "cell_type": "code",
   "execution_count": 63,
   "metadata": {},
   "outputs": [],
   "source": [
    "def indexesFromSentence(lang, sentence):\n",
    "    return [lang.word2index[word] for word in sentence.split(' ')]"
   ]
  },
  {
   "cell_type": "code",
   "execution_count": 64,
   "metadata": {},
   "outputs": [],
   "source": [
    "def tensorFromSentence(lang, sentence):\n",
    "    indexes = indexesFromSentence(lang, sentence)\n",
    "    indexes.append(EOS_token)\n",
    "    return torch.tensor(indexes, dtype=torch.long, device=device).view(-1, 1)"
   ]
  },
  {
   "cell_type": "code",
   "execution_count": 65,
   "metadata": {},
   "outputs": [],
   "source": [
    "def tensorsFromPair(pair):\n",
    "    input_tensor = tensorFromSentence(input_lang, pair[0])\n",
    "    target_tensor = tensorFromSentence(output_lang, pair[1])\n",
    "    return (input_tensor, target_tensor)"
   ]
  },
  {
   "cell_type": "code",
   "execution_count": 66,
   "metadata": {},
   "outputs": [],
   "source": [
    "def tensorsFromTriple(triple):\n",
    "    input_tensor = tensorFromSentence(input_lang, triple[0])\n",
    "    target_tensor = tensorFromSentence(output_lang, triple[1])\n",
    "    label_tensor = torch.tensor(triple[2], dtype=torch.long).view((1))\n",
    "    return (input_tensor, target_tensor, label_tensor)"
   ]
  },
  {
   "cell_type": "markdown",
   "metadata": {},
   "source": [
    "### models"
   ]
  },
  {
   "cell_type": "code",
   "execution_count": 67,
   "metadata": {},
   "outputs": [],
   "source": [
    "class EncoderRNN(nn.Module):\n",
    "    def __init__(self, input_size, hidden_size):\n",
    "        super(EncoderRNN, self).__init__()\n",
    "        self.hidden_size = hidden_size\n",
    "        self.embedding = nn.Embedding(input_size, hidden_size)\n",
    "        self.gru = nn.GRU(hidden_size, hidden_size)\n",
    "\n",
    "    def forward(self, input, hidden):\n",
    "        embedded = self.embedding(input).view(1, 1, -1)\n",
    "        output = embedded\n",
    "        output, hidden = self.gru(output, hidden)\n",
    "        return output, hidden\n",
    "\n",
    "    def initHidden(self):\n",
    "        return torch.zeros(1, 1, self.hidden_size, device=device)"
   ]
  },
  {
   "cell_type": "code",
   "execution_count": 68,
   "metadata": {},
   "outputs": [],
   "source": [
    "class AttnDecoderRNN(nn.Module):\n",
    "    def __init__(self, hidden_size, output_size, dropout_p=0.1, max_length=MAX_LENGTH):\n",
    "        super(AttnDecoderRNN, self).__init__()\n",
    "        self.hidden_size = hidden_size\n",
    "        self.output_size = output_size\n",
    "        self.dropout_p = dropout_p\n",
    "        self.max_length = max_length\n",
    "\n",
    "        self.embedding = nn.Embedding(self.output_size, self.hidden_size)\n",
    "        self.attn = nn.Linear(self.hidden_size * 2, self.max_length)\n",
    "        self.attn_combine = nn.Linear(self.hidden_size * 2, self.hidden_size)\n",
    "        self.dropout = nn.Dropout(self.dropout_p)\n",
    "        self.gru = nn.GRU(self.hidden_size, self.hidden_size)\n",
    "        self.out = nn.Linear(self.hidden_size, self.output_size)\n",
    "\n",
    "    def forward(self, input, hidden, encoder_outputs):\n",
    "        embedded = self.embedding(input).view(1, 1, -1)\n",
    "        embedded = self.dropout(embedded)\n",
    "\n",
    "        attn_weights = F.softmax(\n",
    "            self.attn(torch.cat((embedded[0], hidden[0]), 1)), dim=1)\n",
    "        attn_applied = torch.bmm(attn_weights.unsqueeze(0),\n",
    "                                 encoder_outputs.unsqueeze(0))\n",
    "        output = torch.cat((embedded[0], attn_applied[0]), 1)\n",
    "        output = self.attn_combine(output).unsqueeze(0)\n",
    "\n",
    "        output = F.relu(output)\n",
    "        output, hidden = self.gru(output, hidden)\n",
    "\n",
    "        output = F.log_softmax(self.out(output[0]), dim=1)\n",
    "        return output, hidden, attn_weights\n",
    "\n",
    "    def initHidden(self):\n",
    "        return torch.zeros(1, 1, self.hidden_size, device=device)"
   ]
  },
  {
   "cell_type": "code",
   "execution_count": 69,
   "metadata": {},
   "outputs": [],
   "source": [
    "hidden_size = 256\n",
    "eng_enc_v_size = input_lang.n_words\n",
    "eng_dec_v_size = output_lang.n_words"
   ]
  },
  {
   "cell_type": "code",
   "execution_count": 70,
   "metadata": {},
   "outputs": [
    {
     "data": {
      "text/plain": [
       "8008"
      ]
     },
     "execution_count": 70,
     "metadata": {},
     "output_type": "execute_result"
    }
   ],
   "source": [
    "input_lang.n_words"
   ]
  },
  {
   "cell_type": "code",
   "execution_count": 71,
   "metadata": {},
   "outputs": [],
   "source": [
    "encoderA = EncoderRNN(eng_enc_v_size, hidden_size)\n",
    "decoderA = AttnDecoderRNN(hidden_size, eng_dec_v_size)\n",
    "encoderA.load_state_dict(torch.load(\"b3_encoder1_att.pkl\"))\n",
    "decoderA.load_state_dict(torch.load(\"b3_decoder1_att.pkl\"))"
   ]
  },
  {
   "cell_type": "code",
   "execution_count": 72,
   "metadata": {},
   "outputs": [],
   "source": [
    "encoderB = EncoderRNN(eng_enc_v_size, hidden_size)\n",
    "decoderB = AttnDecoderRNN(hidden_size, eng_dec_v_size)\n",
    "encoderB.load_state_dict(torch.load(\"b3_encoder2_att.pkl\"))\n",
    "decoderB.load_state_dict(torch.load(\"b3_decoder2_att.pkl\"))"
   ]
  },
  {
   "cell_type": "markdown",
   "metadata": {},
   "source": [
    "## translating"
   ]
  },
  {
   "cell_type": "code",
   "execution_count": 73,
   "metadata": {},
   "outputs": [],
   "source": [
    "def translate(encoder,\n",
    "              decoder,\n",
    "              sentence,\n",
    "              max_length=MAX_LENGTH):\n",
    "    with torch.no_grad():\n",
    "        input_tensor = tensorFromSentence(input_lang, sentence)\n",
    "        input_length = input_tensor.size()[0]\n",
    "        encoder_hidden = encoder.initHidden()\n",
    "\n",
    "        encoder_outputs = torch.zeros(\n",
    "            max_length, encoder.hidden_size, device=device)\n",
    "\n",
    "        for ei in range(input_length):\n",
    "            encoder_output, encoder_hidden = encoder(input_tensor[ei],\n",
    "                                                     encoder_hidden)\n",
    "            encoder_outputs[ei] += encoder_output[0, 0]\n",
    "\n",
    "        decoder_input = torch.tensor([[SOS_token]], device=device)  # SOS\n",
    "\n",
    "        decoder_hidden = encoder_hidden\n",
    "\n",
    "        decoded_words = []\n",
    "\n",
    "        for di in range(max_length):\n",
    "            decoder_output, decoder_hidden, decoder_attention = decoder(decoder_input, decoder_hidden, encoder_outputs)\n",
    "            _, topone = decoder_output.data.topk(1)\n",
    "            if topone.item() == EOS_token:\n",
    "                decoded_words.append('<EOS>')\n",
    "                break\n",
    "            else:\n",
    "                decoded_words.append(output_lang.index2word[topone.item()])\n",
    "\n",
    "            decoder_input = topone.squeeze().detach()\n",
    "\n",
    "        return \" \".join(decoded_words)"
   ]
  },
  {
   "cell_type": "markdown",
   "metadata": {},
   "source": [
    "## translation of a trained model: and A"
   ]
  },
  {
   "cell_type": "code",
   "execution_count": 74,
   "metadata": {},
   "outputs": [
    {
     "name": "stdout",
     "output_type": "stream",
     "text": [
      "input_sentence : june and ross have traveled to arad\n",
      "neural translation : alison has traveled to arad <EOS>\n",
      "reference translation : june has traveled to arad <EOS>\n",
      "blue score = 0.76\n",
      "\n",
      "input_sentence : claudia has traveled to mangalia and slobozia\n",
      "neural translation : carl has traveled to mangalia <EOS>\n",
      "reference translation : claudia has traveled to mangalia <EOS>\n",
      "blue score = 0.76\n",
      "\n",
      "input_sentence : byron has traveled to turda and bucharest\n",
      "neural translation : jackie has traveled to turda <EOS>\n",
      "reference translation : byron has traveled to turda <EOS>\n",
      "blue score = 0.76\n",
      "\n"
     ]
    }
   ],
   "source": [
    "for t in training_pairs_A[0:3]:\n",
    "    print(\"input_sentence : \" + t[0])\n",
    "    neural_translation = translate(encoderA,\n",
    "                                   decoderA,\n",
    "                                   t[0],\n",
    "                                   max_length=MAX_LENGTH)\n",
    "    print(\"neural translation : \" + neural_translation)\n",
    "    reference = t[1] + ' <EOS>'\n",
    "    print(\"reference translation : \" + reference)\n",
    "    reference = reference.split(\" \")\n",
    "    candidate = neural_translation.split(\" \")\n",
    "    score = sentence_bleu([reference], candidate)\n",
    "    print(\"blue score = {:.2f}\".format(score))\n",
    "    print()"
   ]
  },
  {
   "cell_type": "markdown",
   "metadata": {},
   "source": [
    "## translation of a trained model: and B"
   ]
  },
  {
   "cell_type": "code",
   "execution_count": 75,
   "metadata": {},
   "outputs": [
    {
     "name": "stdout",
     "output_type": "stream",
     "text": [
      "input_sentence : june and ross have traveled to arad\n",
      "neural translation : sandy has traveled to arad <EOS>\n",
      "reference translation : ross has traveled to arad <EOS>\n",
      "blue score = 0.76\n",
      "\n",
      "input_sentence : claudia has traveled to mangalia and slobozia\n",
      "neural translation : sandy has traveled to slobozia <EOS>\n",
      "reference translation : claudia has traveled to slobozia <EOS>\n",
      "blue score = 0.76\n",
      "\n",
      "input_sentence : byron has traveled to turda and bucharest\n",
      "neural translation : sandy has traveled to bucharest <EOS>\n",
      "reference translation : byron has traveled to bucharest <EOS>\n",
      "blue score = 0.76\n",
      "\n"
     ]
    }
   ],
   "source": [
    "for t in training_pairs_B[0:3]:\n",
    "    print(\"input_sentence : \" + t[0])\n",
    "    neural_translation = translate(encoderB,\n",
    "                                   decoderB,\n",
    "                                   t[0],\n",
    "                                   max_length=MAX_LENGTH)\n",
    "    print(\"neural translation : \" + neural_translation)\n",
    "    reference = t[1] + ' <EOS>'\n",
    "    print(\"reference translation : \" + reference)\n",
    "    reference = reference.split(\" \")\n",
    "    candidate = neural_translation.split(\" \")\n",
    "    score = sentence_bleu([reference], candidate)\n",
    "    print(\"blue score = {:.2f}\".format(score))\n",
    "    print()"
   ]
  },
  {
   "cell_type": "markdown",
   "metadata": {},
   "source": [
    "## Defining the And model\n",
    "\n",
    "model inner working:\n",
    "\n",
    "- $s_1$ is the first sentence (e.g., 'penny is thankful and naomi is alive')\n",
    "\n",
    "- $s_2$ is the second sentence (e.g., 'penny is not alive')\n",
    "\n",
    "- $h_A = dec_{A}(enc_{A}(s_1, \\vec{0}))$\n",
    "\n",
    "- $h_B = dec_{B}(enc_{B}(s_1, \\vec{0}))$\n",
    "\n",
    "- $h_{inf} = \\sigma (W[h_A ;h_B] + b)$\n",
    "\n",
    "- $e = enc_{A}(s_2, h_{inf})$\n",
    "\n",
    "- $\\hat{y} = softmax(We + b)$"
   ]
  },
  {
   "cell_type": "code",
   "execution_count": 76,
   "metadata": {},
   "outputs": [],
   "source": [
    "class AndModel(nn.Module):\n",
    "    def __init__(self,\n",
    "                 encoderA,\n",
    "                 decoderA,\n",
    "                 encoderB,\n",
    "                 decoderB,\n",
    "                 hidden_size,\n",
    "                 output_size,\n",
    "                 max_length,\n",
    "                 input_lang,\n",
    "                 target_lang,\n",
    "                 SOS_token=0,\n",
    "                 EOS_token=1):\n",
    "        super(AndModel, self).__init__()\n",
    "        self.max_length = max_length\n",
    "        self.hidden_size = hidden_size\n",
    "        self.output_size = output_size\n",
    "        self.encoderA = encoderA\n",
    "        self.decoderA = decoderA\n",
    "        self.encoderB = encoderB\n",
    "        self.decoderB = decoderB\n",
    "        self.input_lang = input_lang\n",
    "        self.target_lang = target_lang\n",
    "        self.SOS_token = SOS_token\n",
    "        self.EOS_token = EOS_token\n",
    "        self.fc_inf = nn.Linear(hidden_size * 2, hidden_size)\n",
    "        self.fc_out = nn.Linear(hidden_size, output_size)\n",
    "        \n",
    "    \n",
    "    def encode(self,\n",
    "               sentence,\n",
    "               encoder,\n",
    "               is_tensor,\n",
    "               hidden=None):\n",
    "        if not is_tensor:\n",
    "            input_tensor = tensorFromSentence(self.input_lang, sentence)\n",
    "        else:\n",
    "            input_tensor = sentence\n",
    "\n",
    "        input_length = input_tensor.size()[0]\n",
    "        \n",
    "        if hidden is None:\n",
    "            encoder_hidden = encoder.initHidden()\n",
    "        else:\n",
    "            encoder_hidden = hidden\n",
    "        \n",
    "        encoder_outputs = torch.zeros(self.max_length,\n",
    "                                      encoder.hidden_size,\n",
    "                                      device=device)\n",
    "        \n",
    "        for ei in range(input_length):\n",
    "            encoder_output, encoder_hidden = encoder(input_tensor[ei],\n",
    "                                        encoder_hidden)\n",
    "            encoder_outputs[ei] += encoder_output[0, 0]\n",
    "            \n",
    "        self.encoder_outputs = encoder_outputs\n",
    "\n",
    "        return encoder_hidden\n",
    "    \n",
    "    \n",
    "    def decode(self,\n",
    "               tensor,\n",
    "               decoder,\n",
    "               out_tensor):\n",
    "        \n",
    "        decoder_input = torch.tensor([[self.SOS_token]], device=device)\n",
    "        decoder_hidden = tensor\n",
    "        decoded_words = []\n",
    "\n",
    "        for di in range(self.max_length):\n",
    "            decoder_output, decoder_hidden, decoder_attention = decoder(\n",
    "                decoder_input, decoder_hidden, self.encoder_outputs)\n",
    "            _, topone = decoder_output.data.topk(1)\n",
    "            if topone.item() == self.EOS_token:\n",
    "                decoded_words.append('<EOS>')\n",
    "                break\n",
    "            else:\n",
    "                decoded_words.append(self.target_lang.index2word[topone.item()])\n",
    "\n",
    "            decoder_input = topone.squeeze().detach()\n",
    "        \n",
    "        if not out_tensor:\n",
    "            output = \" \".join(decoded_words)\n",
    "        else:\n",
    "            output = decoder_hidden\n",
    "\n",
    "        return output\n",
    "    \n",
    "    def sen2vec(self, sentence, encoder, decoder, is_tensor, out_tensor):\n",
    "        encoded = self.encode(sentence, encoder, is_tensor)\n",
    "        vec = self.decode(encoded, decoder, out_tensor)\n",
    "        return vec\n",
    "    \n",
    "    def sen2vecA(self, sentence, is_tensor):\n",
    "        encoded = self.encode(sentence, self.encoderA, is_tensor)\n",
    "        vec = self.decode(encoded, self.decoderA, out_tensor=True)\n",
    "        return vec\n",
    "    \n",
    "    def sen2vecB(self, sentence, is_tensor):\n",
    "        encoded = self.encode(sentence, self.encoderB, is_tensor)\n",
    "        vec = self.decode(encoded, self.decoderB, out_tensor=True)\n",
    "        return vec\n",
    "    \n",
    "    def forward(self, s1, s2):\n",
    "        hA = self.sen2vecA(s1, is_tensor=True)\n",
    "        hB = self.sen2vecB(s1, is_tensor=True)\n",
    "        h_inf = torch.cat([hA, hB], dim=2).squeeze(1)\n",
    "        h_inf = torch.sigmoid(self.fc_inf(h_inf))\n",
    "        h_inf = h_inf.view((1, h_inf.shape[0], h_inf.shape[1])) \n",
    "        e = self.encode(s2,\n",
    "                        self.encoderA,\n",
    "                        hidden=h_inf,\n",
    "                        is_tensor=True)\n",
    "        output = self.fc_out(e).squeeze(1)\n",
    "        \n",
    "        return output\n",
    "    \n",
    "\n",
    "    def predict(self, s1, s2):\n",
    "        out = self.forward(s1, s2)\n",
    "        softmax = nn.Softmax(dim=1)\n",
    "        out = softmax(out)\n",
    "        indices = torch.argmax(out, 1)\n",
    "        return indices\n",
    "\n",
    "        \n"
   ]
  },
  {
   "cell_type": "code",
   "execution_count": 77,
   "metadata": {},
   "outputs": [],
   "source": [
    "addmodel = AndModel(encoderA,\n",
    "                    decoderA,\n",
    "                     encoderB,\n",
    "                     decoderB,\n",
    "                     hidden_size=256,\n",
    "                     output_size=2,\n",
    "                     max_length=MAX_LENGTH,\n",
    "                     input_lang=input_lang,\n",
    "                     target_lang=output_lang)"
   ]
  },
  {
   "cell_type": "markdown",
   "metadata": {},
   "source": [
    "Test encoding decoding"
   ]
  },
  {
   "cell_type": "code",
   "execution_count": 78,
   "metadata": {},
   "outputs": [
    {
     "name": "stdout",
     "output_type": "stream",
     "text": [
      "===========\n",
      "s1:\n",
      "\n",
      "june and ross have traveled to arad\n",
      "\n",
      "inference A:\n",
      "\n",
      "alison has traveled to arad <EOS>\n",
      "\n",
      "inference B:\n",
      "\n",
      "sandy has traveled to arad <EOS>\n",
      "===========\n",
      "s1:\n",
      "\n",
      "claudia has traveled to mangalia and slobozia\n",
      "\n",
      "inference A:\n",
      "\n",
      "carl has traveled to mangalia <EOS>\n",
      "\n",
      "inference B:\n",
      "\n",
      "sandy has traveled to slobozia <EOS>\n",
      "===========\n",
      "s1:\n",
      "\n",
      "byron has traveled to turda and bucharest\n",
      "\n",
      "inference A:\n",
      "\n",
      "jackie has traveled to turda <EOS>\n",
      "\n",
      "inference B:\n",
      "\n",
      "sandy has traveled to bucharest <EOS>\n"
     ]
    }
   ],
   "source": [
    "for ex in training_pairs_B[0:3]:\n",
    "    print(\"===========\")\n",
    "    ex = ex[0]\n",
    "    print(\"s1:\\n\")\n",
    "    print(ex)\n",
    "    print()\n",
    "\n",
    "    \n",
    "    ex_A = addmodel.sen2vec(ex,\n",
    "                     addmodel.encoderA,\n",
    "                     addmodel.decoderA,\n",
    "                     is_tensor=False,\n",
    "                     out_tensor=False)\n",
    "    \n",
    "    ex_B = addmodel.sen2vec(ex,\n",
    "                     addmodel.encoderB,\n",
    "                     addmodel.decoderB,\n",
    "                     is_tensor=False,\n",
    "                     out_tensor=False)\n",
    "\n",
    "    print(\"inference A:\\n\")\n",
    "    print(ex_A)\n",
    "    print()\n",
    "    print(\"inference B:\\n\")\n",
    "    print(ex_B)"
   ]
  },
  {
   "cell_type": "code",
   "execution_count": 31,
   "metadata": {},
   "outputs": [
    {
     "name": "stdout",
     "output_type": "stream",
     "text": [
      "===========\n",
      "s1:\n",
      "\n",
      "june and ross have traveled to arad\n",
      "\n",
      "tensor([[[ 0.2487,  0.9395,  0.9878, -0.8983,  0.2379,  0.9862, -0.9406,\n",
      "          -0.4452,  0.8613, -0.7765, -0.5089, -0.6409,  0.2539,  0.8678,\n",
      "          -0.5449,  0.8380,  0.9867, -0.9985,  0.6326, -0.7823, -0.7976,\n",
      "          -0.5232,  0.4977,  0.7111,  0.3553,  0.1982,  0.9192,  0.9609,\n",
      "          -0.7582, -0.7493, -0.2053, -0.8454,  0.9079, -0.3017,  0.6221,\n",
      "           0.7784, -0.8912, -0.4248, -0.7589,  0.6814, -0.4712, -0.8412,\n",
      "           0.7888, -0.9007, -0.2239,  0.6414,  0.9295,  0.9492,  0.7022,\n",
      "          -0.9184,  0.0119,  0.8040,  0.8852,  0.4451, -0.6910,  0.4137,\n",
      "          -0.8888, -0.3922, -0.4200,  0.6183,  0.5082,  0.8415,  0.9749,\n",
      "           0.8912,  0.4714, -0.9533, -0.2234,  0.9547, -0.2498, -0.9620,\n",
      "           0.8608, -0.9616, -0.9034, -0.9881, -0.7850,  0.7913,  0.6438,\n",
      "           0.1814,  0.0723,  0.9150, -0.5872, -0.7036,  0.7137,  0.3755,\n",
      "           0.9639,  0.8814, -0.6492,  0.5957, -0.4411,  0.3841, -0.3716,\n",
      "          -0.1666,  0.6227,  0.2313, -0.6931,  0.8090, -0.8402, -0.7757,\n",
      "          -0.9728, -0.3816,  0.9611, -0.7230, -0.5656,  0.4597,  0.5050,\n",
      "           0.9398, -0.4955,  0.7526, -0.9284, -0.3768,  0.9512,  0.6319,\n",
      "           0.9859,  0.7730,  0.6374,  0.6967,  0.4120,  0.3842,  0.8982,\n",
      "           0.0412, -0.1924,  0.6586, -0.1712,  0.8326,  0.9521,  0.9287,\n",
      "          -0.0377, -0.4398,  0.7021, -0.1829, -0.9948,  0.9284, -0.7152,\n",
      "          -0.1091, -0.9578, -0.7838,  0.6890, -0.1544, -0.6736,  0.9670,\n",
      "           0.8730, -0.5300, -0.9884,  0.9579, -0.9202, -0.8225, -0.7398,\n",
      "           0.5983, -0.6113, -0.7997, -0.5270, -0.2833,  0.2429, -0.9141,\n",
      "          -0.9557, -0.9495, -0.6570, -0.7110, -0.1077, -0.8097, -0.7989,\n",
      "           0.9945, -0.6322, -0.4456, -0.2788,  0.7905,  0.9444,  0.0137,\n",
      "          -0.1628,  0.0970, -0.9826, -0.9460, -0.8923,  0.2644, -0.1589,\n",
      "          -0.7363,  0.9742,  0.6990, -0.6420, -0.1937,  0.2311, -0.5843,\n",
      "          -0.3276,  0.9006, -0.9322,  0.6595,  0.9417,  0.6591,  0.4861,\n",
      "          -0.8081,  0.1251,  0.8780,  0.9067,  0.9554,  0.8169,  0.9117,\n",
      "          -0.0286, -0.9562,  0.1174,  0.5908, -0.4983, -0.9167,  0.1478,\n",
      "           0.9455, -0.8138, -0.9482, -0.9787,  0.7763, -0.8758,  0.5127,\n",
      "          -0.4002,  0.5075, -0.8591, -0.4168,  0.0111,  0.5398, -0.8590,\n",
      "           0.9533,  0.7424,  0.9733, -0.5153,  0.9514, -0.3565,  0.6106,\n",
      "          -0.3486,  0.9482, -0.9425,  0.0955, -0.2253,  0.8501, -0.0344,\n",
      "           0.8689,  0.8904, -0.1566,  0.3856, -0.7996, -0.7440, -0.7849,\n",
      "           0.3336, -0.1798,  0.4040, -0.3517,  0.6327, -0.2476, -0.7231,\n",
      "          -0.2462, -0.5031, -0.2375, -0.8047,  0.9535, -0.4890, -0.0620,\n",
      "          -0.8323, -0.5876, -0.7631, -0.9742]]], grad_fn=<ViewBackward>)\n",
      "\n",
      "tensor([[[ 0.6904,  0.9500, -0.1041,  0.9408,  0.6007,  0.8101, -0.3204,\n",
      "           0.3473,  0.8838, -0.0653,  0.5196,  0.8838, -0.5474,  0.5172,\n",
      "          -0.4808, -0.1020,  0.1866,  0.7332,  0.9319, -0.7774, -0.3153,\n",
      "           0.9507,  0.6800,  0.8516,  0.7094, -0.8156,  0.9700,  0.9548,\n",
      "           0.3860,  0.6072,  0.3933,  0.1324, -0.4668,  0.7469, -0.3515,\n",
      "           0.5195, -0.9207,  0.8165, -0.7997,  0.6217,  0.8328,  0.3735,\n",
      "           0.4845,  0.9800,  0.8265, -0.5668,  0.8778, -0.0182,  0.9785,\n",
      "           0.6130,  0.1388,  0.8063,  0.6315, -0.9615, -0.9202, -0.1411,\n",
      "          -0.2139,  0.9090,  0.8590,  0.8109,  0.6653, -0.2377,  0.8696,\n",
      "          -0.6905, -0.7668, -0.5924,  0.9401, -0.5193,  0.8274,  0.7280,\n",
      "           0.4202,  0.2810, -0.8409, -0.2889,  0.8116, -0.0801, -0.8319,\n",
      "           0.6330, -0.5396,  0.8476, -0.2331,  0.7488, -0.9105,  0.6399,\n",
      "           0.6308,  0.8160,  0.8765,  0.9090, -0.7491,  0.2305, -0.8317,\n",
      "          -0.8930, -0.5264,  0.7256,  0.9310, -0.9261,  0.8966,  0.4730,\n",
      "           0.8757,  0.0752, -0.8951,  0.7810, -0.7268,  0.9761, -0.8898,\n",
      "          -0.9392,  0.1070,  0.9033,  0.9863,  0.5733, -0.0040,  0.9888,\n",
      "          -0.7339,  0.9302,  0.9919,  0.8006,  0.1466,  0.7576, -0.5698,\n",
      "           0.7540, -0.3198, -0.5076, -0.3563, -0.8401,  0.7306,  0.5223,\n",
      "           0.9794, -0.7497,  0.9407,  0.5992, -0.8591, -0.8219, -0.7297,\n",
      "           0.8231,  0.3429,  0.9027, -0.6301, -0.7257,  0.0537, -0.0504,\n",
      "          -0.8234, -0.9092,  0.9639,  0.1159,  0.2966, -0.2666, -0.8532,\n",
      "           0.9582,  0.9197, -0.4541, -0.4135, -0.9091, -0.5590, -0.7898,\n",
      "          -0.8505, -0.9365,  0.5486, -0.8729,  0.9168,  0.6738,  0.6244,\n",
      "          -0.2110, -0.5720, -0.2458, -0.6610, -0.0031,  0.5582,  0.9615,\n",
      "          -0.9055,  0.7453, -0.9942, -0.8966,  0.6300, -0.8669,  0.8668,\n",
      "           0.5044, -0.6959, -0.4562, -0.6023,  0.3083, -0.8133,  0.7066,\n",
      "           0.5059,  0.3083,  0.8676, -0.8027,  0.8891, -0.5091, -0.8686,\n",
      "           0.9063, -0.5146,  0.5698,  0.1443, -0.9585,  0.6120,  0.2090,\n",
      "          -0.6829, -0.9751,  0.3660, -0.3062,  0.5801, -0.8163, -0.6477,\n",
      "           0.4733,  0.9680, -0.8894,  0.6598,  0.8924,  0.9470,  0.8859,\n",
      "           0.6967, -0.4283, -0.0671,  0.9194,  0.4236,  0.6298, -0.1325,\n",
      "           0.5664, -0.7767,  0.6762, -0.3925,  0.8338, -0.2177,  0.4598,\n",
      "          -0.1736,  0.4097,  0.6784, -0.7289, -0.5797, -0.9463, -0.9694,\n",
      "           0.7820,  0.7735, -0.4955,  0.2774, -0.9383,  0.5705,  0.1514,\n",
      "           0.8829, -0.9766,  0.6507,  0.2035,  0.6173, -0.2396, -0.6841,\n",
      "          -0.3824,  0.4878, -0.7120,  0.5705, -0.2525, -0.7736,  0.7951,\n",
      "          -0.9799, -0.4936,  0.9507,  0.0861]]], grad_fn=<ViewBackward>)\n"
     ]
    }
   ],
   "source": [
    "for ex in training_pairs_B[0:1]:\n",
    "    print(\"===========\")\n",
    "    ex = ex[0]\n",
    "    print(\"s1:\\n\")\n",
    "    print(ex)\n",
    "    print()\n",
    "\n",
    "    ex_A = addmodel.sen2vecA(ex,is_tensor=False)\n",
    "    ex_B = addmodel.sen2vecB(ex,is_tensor=False)\n",
    "    \n",
    "    print(ex_A)\n",
    "    print()\n",
    "    print(ex_B)"
   ]
  },
  {
   "cell_type": "code",
   "execution_count": 32,
   "metadata": {},
   "outputs": [],
   "source": [
    "train_triples = zip(list(df2train.sentence1.values), list(df2train.sentence2.values), list(df2train.label.values))\n",
    "train_triples = [(normalizeString(s1), normalizeString(s2), l) for s1, s2, l in train_triples]\n",
    "train_triples_t = [tensorsFromTriple(t) for t in train_triples]"
   ]
  },
  {
   "cell_type": "code",
   "execution_count": 33,
   "metadata": {},
   "outputs": [],
   "source": [
    "train_triples = zip(list(df2train.sentence1.values), list(df2train.sentence2.values), list(df2train.label.values))\n",
    "train_triples = [(normalizeString(s1), normalizeString(s2), l) for s1, s2, l in train_triples]\n",
    "train_triples_t = [tensorsFromTriple(t) for t in train_triples]"
   ]
  },
  {
   "cell_type": "code",
   "execution_count": 34,
   "metadata": {},
   "outputs": [],
   "source": [
    "valid_triples = zip(list(df2valid.sentence1.values), list(df2valid.sentence2.values), list(df2valid.label.values))\n",
    "valid_triples = [(normalizeString(s1), normalizeString(s2), l) for s1, s2, l in valid_triples]\n",
    "valid_triples_t = [tensorsFromTriple(t) for t in valid_triples]"
   ]
  },
  {
   "cell_type": "code",
   "execution_count": 35,
   "metadata": {},
   "outputs": [
    {
     "data": {
      "text/plain": [
       "1500"
      ]
     },
     "execution_count": 35,
     "metadata": {},
     "output_type": "execute_result"
    }
   ],
   "source": [
    "len(valid_triples_t)"
   ]
  },
  {
   "cell_type": "code",
   "execution_count": 36,
   "metadata": {},
   "outputs": [],
   "source": [
    "test_triples = zip(list(df2_test.sentence1.values), list(df2_test.sentence2.values), list(df2_test.label.values))\n",
    "test_triples = [(normalizeString(s1), normalizeString(s2), l) for s1, s2, l in test_triples]\n",
    "test_triples_t = [tensorsFromTriple(t) for t in test_triples]"
   ]
  },
  {
   "cell_type": "code",
   "execution_count": 37,
   "metadata": {},
   "outputs": [
    {
     "name": "stdout",
     "output_type": "stream",
     "text": [
      "('june and ross have traveled to arad', 'ross didn t travel to arad', 1)\n",
      "(tensor([[ 2],\n",
      "        [ 3],\n",
      "        [ 4],\n",
      "        [ 5],\n",
      "        [ 6],\n",
      "        [ 7],\n",
      "        [12],\n",
      "        [ 1]]), tensor([[ 4],\n",
      "        [ 9],\n",
      "        [10],\n",
      "        [11],\n",
      "        [ 7],\n",
      "        [12],\n",
      "        [ 1]]), tensor([1]))\n"
     ]
    }
   ],
   "source": [
    "example = train_triples[0]\n",
    "print(example)\n",
    "example_t = train_triples_t[0]\n",
    "print(example_t)"
   ]
  },
  {
   "cell_type": "markdown",
   "metadata": {},
   "source": [
    "## Prediction BEFORE training"
   ]
  },
  {
   "cell_type": "code",
   "execution_count": 38,
   "metadata": {},
   "outputs": [
    {
     "data": {
      "image/png": "[encoded data removed]",
      "text/plain": [
       "<Figure size 648x648 with 2 Axes>"
      ]
     },
     "metadata": {},
     "output_type": "display_data"
    }
   ],
   "source": [
    "n_iters = 100\n",
    "training_pairs_little = [random.choice(train_triples_t) for i in range(n_iters)]\n",
    "predictions = []\n",
    "labels = []\n",
    "\n",
    "for i in range(n_iters):\n",
    "    s1, s2, label = training_pairs_little[i]\n",
    "    pred = addmodel.predict(s1, s2)\n",
    "    label = label.item()\n",
    "    pred = pred.item()\n",
    "    predictions.append(pred)\n",
    "    labels.append(label)\n",
    "\n",
    "plot_confusion_matrix(labels,\n",
    "                      predictions,\n",
    "                      classes=[\"no\", \"yes\"],\n",
    "                      path=\"confusion_matrix.png\")"
   ]
  },
  {
   "cell_type": "markdown",
   "metadata": {},
   "source": [
    "### Training functions"
   ]
  },
  {
   "cell_type": "code",
   "execution_count": 39,
   "metadata": {},
   "outputs": [],
   "source": [
    "def CEtrain(s1_tensor,\n",
    "            s2_tensor,\n",
    "            label,\n",
    "            model,\n",
    "            optimizer,\n",
    "            criterion):\n",
    "    \n",
    "    model.train()\n",
    "    optimizer.zero_grad()\n",
    "    logits = model(s1_tensor, s2_tensor)\n",
    "    loss = criterion(logits, label)\n",
    "    loss.backward()\n",
    "    optimizer.step()\n",
    "    return loss"
   ]
  },
  {
   "cell_type": "markdown",
   "metadata": {},
   "source": [
    "Test CEtrain"
   ]
  },
  {
   "cell_type": "code",
   "execution_count": 40,
   "metadata": {},
   "outputs": [],
   "source": [
    "CE = nn.CrossEntropyLoss()\n",
    "addmodel_opt = torch.optim.SGD(addmodel.parameters(), lr= 0.3)\n",
    "\n",
    "loss = CEtrain(s1_tensor=example_t[0],\n",
    "               s2_tensor=example_t[1],\n",
    "               label=example_t[2],\n",
    "               model=addmodel,\n",
    "               optimizer=addmodel_opt,\n",
    "               criterion=CE)\n",
    "assert type(loss.item()) == float "
   ]
  },
  {
   "cell_type": "markdown",
   "metadata": {},
   "source": [
    "## Little example of training"
   ]
  },
  {
   "cell_type": "code",
   "execution_count": 45,
   "metadata": {},
   "outputs": [
    {
     "name": "stdout",
     "output_type": "stream",
     "text": [
      "epoch 1/10 5m 3s mean loss = 1.32\n",
      "epoch 2/10 4m 33s mean loss = 0.88\n",
      "epoch 3/10 4m 30s mean loss = 0.83\n",
      "epoch 4/10 4m 53s mean loss = 0.81\n",
      "epoch 5/10 4m 46s mean loss = 0.77\n",
      "epoch 6/10 4m 46s mean loss = 0.76\n",
      "epoch 7/10 4m 42s mean loss = 0.75\n",
      "epoch 8/10 4m 18s mean loss = 0.76\n",
      "epoch 9/10 4m 24s mean loss = 0.75\n",
      "epoch 10/10 4m 0s mean loss = 0.75\n"
     ]
    },
    {
     "data": {
      "image/png": "[encoded data removed]",
      "text/plain": [
       "<Figure size 1080x288 with 1 Axes>"
      ]
     },
     "metadata": {},
     "output_type": "display_data"
    }
   ],
   "source": [
    "epochs = 10\n",
    "learning_rate = 0.1\n",
    "\n",
    "CE = nn.CrossEntropyLoss()\n",
    "\n",
    "encoderA = EncoderRNN(eng_enc_v_size, hidden_size)\n",
    "decoderA = AttnDecoderRNN(hidden_size, eng_dec_v_size)\n",
    "encoderA.load_state_dict(torch.load(\"b3_encoder1_att.pkl\"))\n",
    "decoderA.load_state_dict(torch.load(\"b3_decoder1_att.pkl\"))\n",
    "encoderB = EncoderRNN(eng_enc_v_size, hidden_size)\n",
    "decoderB = AttnDecoderRNN(hidden_size, eng_dec_v_size)\n",
    "encoderB.load_state_dict(torch.load(\"b3_encoder2_att.pkl\"))\n",
    "decoderB.load_state_dict(torch.load(\"b3_decoder2_att.pkl\"))\n",
    "\n",
    "addmodel = AndModel(encoderA,\n",
    "                    decoderA,\n",
    "                    encoderB,\n",
    "                    decoderB,\n",
    "                    hidden_size=256,\n",
    "                    output_size=2,\n",
    "                    max_length=MAX_LENGTH,\n",
    "                    input_lang=input_lang,\n",
    "                    target_lang=output_lang)\n",
    "\n",
    "\n",
    "\n",
    "# # for model in [encoderA, decoderA, encoderB, decoderB]:\n",
    "# for model in [encoderB, decoderB]:\n",
    "#     for param in model.parameters():\n",
    "#         param.requires_grad = False\n",
    "\n",
    "# addmodel_opt = torch.optim.SGD(addmodel.parameters(), lr= learning_rate)\n",
    "addmodel_opt = torch.optim.Adagrad(addmodel.parameters(), lr= learning_rate)\n",
    "# addmodel_opt = torch.optim.Adadelta(addmodel.parameters(), lr= learning_rate)\n",
    "# addmodel_opt = torch.optim.Adam(addmodel.parameters(), lr= learning_rate)\n",
    "# addmodel_opt = torch.optim.SparseAdam(addmodel.parameters(), lr= learning_rate)\n",
    "# addmodel_opt = torch.optim.RMSprop(addmodel.parameters(), lr= learning_rate)\n",
    "\n",
    "\n",
    "\n",
    "\n",
    "\n",
    "losses_per_epoch = []\n",
    "\n",
    "for i in range(epochs):\n",
    "    losses = []\n",
    "    start = time.time()\n",
    "    n_iters = 1000\n",
    "    training_pairs_little = [random.choice(train_triples_t) for i in range(n_iters)]\n",
    "    for t in training_pairs_little:\n",
    "        s1, s2, label = t    \n",
    "        loss = CEtrain(s1_tensor=s1,\n",
    "                       s2_tensor=s2,\n",
    "                       label=label,\n",
    "                       model=addmodel,\n",
    "                       optimizer=addmodel_opt,\n",
    "                       criterion=CE)\n",
    "        losses.append(loss.item())\n",
    "    mean_loss = np.mean(losses)\n",
    "    losses_per_epoch.append(mean_loss)\n",
    "    print(\"epoch {}/{}\".format(i+1, epochs), timeSince(start), \"mean loss = {:.2f}\".format(mean_loss))\n",
    "\n",
    "simple_step_plot([losses_per_epoch],\n",
    "                 \"loss\",\n",
    "                 \"loss example ({} epochs)\".format(epochs),\n",
    "                 \"loss_example.png\",\n",
    "                  figsize=(15,4))"
   ]
  },
  {
   "cell_type": "markdown",
   "metadata": {},
   "source": [
    "## Prediction AFTER training"
   ]
  },
  {
   "cell_type": "code",
   "execution_count": 46,
   "metadata": {},
   "outputs": [
    {
     "data": {
      "image/png": "[encoded data removed]",
      "text/plain": [
       "<Figure size 648x648 with 2 Axes>"
      ]
     },
     "metadata": {},
     "output_type": "display_data"
    }
   ],
   "source": [
    "n_iters = 100\n",
    "training_pairs_little = [random.choice(train_triples_t) for i in range(n_iters)]\n",
    "predictions = []\n",
    "labels = []\n",
    "\n",
    "for i in range(n_iters):\n",
    "    s1, s2, label = training_pairs_little[i]\n",
    "    pred = addmodel.predict(s1, s2)\n",
    "    label = label.item()\n",
    "    pred = pred.item()\n",
    "    predictions.append(pred)\n",
    "    labels.append(label)\n",
    "\n",
    "plot_confusion_matrix(labels,\n",
    "                      predictions,\n",
    "                      classes=[\"no\", \"yes\"],\n",
    "                      path=\"confusion_matrix.png\")"
   ]
  },
  {
   "cell_type": "code",
   "execution_count": 47,
   "metadata": {},
   "outputs": [
    {
     "data": {
      "image/png": "[encoded data removed]",
      "text/plain": [
       "<Figure size 648x648 with 2 Axes>"
      ]
     },
     "metadata": {},
     "output_type": "display_data"
    }
   ],
   "source": [
    "n_iters = len(valid_triples_t)\n",
    "valid_pairs_little = [random.choice(valid_triples_t) for i in range(n_iters)]\n",
    "predictions = []\n",
    "labels = []\n",
    "\n",
    "for i in range(n_iters):\n",
    "    s1, s2, label = valid_pairs_little[i]\n",
    "    pred = addmodel.predict(s1, s2)\n",
    "    label = label.item()\n",
    "    pred = pred.item()\n",
    "    predictions.append(pred)\n",
    "    labels.append(label)\n",
    "\n",
    "plot_confusion_matrix(labels,\n",
    "                      predictions,\n",
    "                      classes=[\"no\", \"yes\"],\n",
    "                      path=\"confusion_matrix.png\")"
   ]
  },
  {
   "cell_type": "code",
   "execution_count": 48,
   "metadata": {},
   "outputs": [
    {
     "data": {
      "image/png": "[encoded data removed]",
      "text/plain": [
       "<Figure size 648x648 with 2 Axes>"
      ]
     },
     "metadata": {},
     "output_type": "display_data"
    }
   ],
   "source": [
    "n_iters = len(test_triples_t)\n",
    "test_pairs_little = [random.choice(test_triples_t) for i in range(n_iters)]\n",
    "predictions = []\n",
    "labels = []\n",
    "\n",
    "for i in range(n_iters):\n",
    "    s1, s2, label = test_pairs_little[i]\n",
    "    pred = addmodel.predict(s1, s2)\n",
    "    label = label.item()\n",
    "    pred = pred.item()\n",
    "    predictions.append(pred)\n",
    "    labels.append(label)\n",
    "\n",
    "plot_confusion_matrix(labels,\n",
    "                      predictions,\n",
    "                      classes=[\"no\", \"yes\"],\n",
    "                      path=\"confusion_matrix.png\")"
   ]
  },
  {
   "cell_type": "code",
   "execution_count": null,
   "metadata": {},
   "outputs": [],
   "source": []
  }
 ],
 "metadata": {
  "kernelspec": {
   "display_name": "Python 3",
   "language": "python",
   "name": "python3"
  },
  "language_info": {
   "codemirror_mode": {
    "name": "ipython",
    "version": 3
   },
   "file_extension": ".py",
   "mimetype": "text/x-python",
   "name": "python",
   "nbconvert_exporter": "python",
   "pygments_lexer": "ipython3",
   "version": "3.5.2"
  }
 },
 "nbformat": 4,
 "nbformat_minor": 2
}
