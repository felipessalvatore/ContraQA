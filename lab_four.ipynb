{
 "cells": [
  {
   "cell_type": "markdown",
   "metadata": {},
   "source": [
    "# lab 4: training the proposed model on b2 dataset"
   ]
  },
  {
   "cell_type": "code",
   "execution_count": 1,
   "metadata": {},
   "outputs": [],
   "source": [
    "from contra_qa.text_generation.boolean2_S_and import boolean2\n",
    "from contra_qa.text_processing.functions import simple_pre_process_text_df\n",
    "from contra_qa.plots.functions  import plot_histogram_from_labels, plot_confusion_matrix\n",
    "\n",
    "from contra_qa.train_functions.RNNConfig import RNNConfig\n",
    "import numpy as np\n",
    "import torch\n",
    "import torch.nn as nn\n",
    "from torchtext import data\n",
    "\n",
    "import pandas as pd\n",
    "import  matplotlib.pyplot as plt\n",
    "device = torch.device(\"cuda\" if torch.cuda.is_available() else \"cpu\")\n",
    "\n",
    "% matplotlib inline"
   ]
  },
  {
   "cell_type": "markdown",
   "metadata": {},
   "source": [
    "# manipulating datasets: b2"
   ]
  },
  {
   "cell_type": "code",
   "execution_count": 2,
   "metadata": {},
   "outputs": [],
   "source": [
    "boolean2()"
   ]
  },
  {
   "cell_type": "code",
   "execution_count": 3,
   "metadata": {},
   "outputs": [],
   "source": [
    "df3 = pd.read_csv(\"data/boolean2_train.csv\")\n",
    "df3test = pd.read_csv(\"data/boolean2_test.csv\")"
   ]
  },
  {
   "cell_type": "code",
   "execution_count": 4,
   "metadata": {},
   "outputs": [
    {
     "data": {
      "text/html": [
       "<div>\n",
       "<style scoped>\n",
       "    .dataframe tbody tr th:only-of-type {\n",
       "        vertical-align: middle;\n",
       "    }\n",
       "\n",
       "    .dataframe tbody tr th {\n",
       "        vertical-align: top;\n",
       "    }\n",
       "\n",
       "    .dataframe thead th {\n",
       "        text-align: right;\n",
       "    }\n",
       "</style>\n",
       "<table border=\"1\" class=\"dataframe\">\n",
       "  <thead>\n",
       "    <tr style=\"text-align: right;\">\n",
       "      <th></th>\n",
       "      <th>sentence1</th>\n",
       "      <th>sentence2</th>\n",
       "      <th>and_A</th>\n",
       "      <th>and_B</th>\n",
       "      <th>label</th>\n",
       "    </tr>\n",
       "  </thead>\n",
       "  <tbody>\n",
       "    <tr>\n",
       "      <th>9995</th>\n",
       "      <td>Robin is witty and Veronica is ambitious</td>\n",
       "      <td>Robin is not witty</td>\n",
       "      <td>Robin is witty</td>\n",
       "      <td>Veronica is ambitious</td>\n",
       "      <td>1</td>\n",
       "    </tr>\n",
       "    <tr>\n",
       "      <th>9996</th>\n",
       "      <td>Shannon is unimportant and Olivia is poor</td>\n",
       "      <td>Olivia is not poor</td>\n",
       "      <td>Shannon is unimportant</td>\n",
       "      <td>Olivia is poor</td>\n",
       "      <td>1</td>\n",
       "    </tr>\n",
       "    <tr>\n",
       "      <th>9997</th>\n",
       "      <td>Gertrude is agreeable and Chad is zealous</td>\n",
       "      <td>Kathryn is tender</td>\n",
       "      <td>Gertrude is agreeable</td>\n",
       "      <td>Chad is zealous</td>\n",
       "      <td>0</td>\n",
       "    </tr>\n",
       "    <tr>\n",
       "      <th>9998</th>\n",
       "      <td>Joan is lively and Randall is helpful</td>\n",
       "      <td>Joan is not helpful</td>\n",
       "      <td>Joan is lively</td>\n",
       "      <td>Randall is helpful</td>\n",
       "      <td>0</td>\n",
       "    </tr>\n",
       "    <tr>\n",
       "      <th>9999</th>\n",
       "      <td>Ernest is polite and Ethel is dead</td>\n",
       "      <td>Ethel is not polite</td>\n",
       "      <td>Ernest is polite</td>\n",
       "      <td>Ethel is dead</td>\n",
       "      <td>0</td>\n",
       "    </tr>\n",
       "  </tbody>\n",
       "</table>\n",
       "</div>"
      ],
      "text/plain": [
       "                                      sentence1             sentence2  \\\n",
       "9995   Robin is witty and Veronica is ambitious    Robin is not witty   \n",
       "9996  Shannon is unimportant and Olivia is poor    Olivia is not poor   \n",
       "9997  Gertrude is agreeable and Chad is zealous     Kathryn is tender   \n",
       "9998      Joan is lively and Randall is helpful   Joan is not helpful   \n",
       "9999         Ernest is polite and Ethel is dead   Ethel is not polite   \n",
       "\n",
       "                       and_A                  and_B  label  \n",
       "9995          Robin is witty  Veronica is ambitious      1  \n",
       "9996  Shannon is unimportant         Olivia is poor      1  \n",
       "9997   Gertrude is agreeable        Chad is zealous      0  \n",
       "9998          Joan is lively     Randall is helpful      0  \n",
       "9999        Ernest is polite          Ethel is dead      0  "
      ]
     },
     "execution_count": 4,
     "metadata": {},
     "output_type": "execute_result"
    }
   ],
   "source": [
    "df3.tail()"
   ]
  },
  {
   "cell_type": "code",
   "execution_count": 5,
   "metadata": {},
   "outputs": [
    {
     "data": {
      "text/html": [
       "<div>\n",
       "<style scoped>\n",
       "    .dataframe tbody tr th:only-of-type {\n",
       "        vertical-align: middle;\n",
       "    }\n",
       "\n",
       "    .dataframe tbody tr th {\n",
       "        vertical-align: top;\n",
       "    }\n",
       "\n",
       "    .dataframe thead th {\n",
       "        text-align: right;\n",
       "    }\n",
       "</style>\n",
       "<table border=\"1\" class=\"dataframe\">\n",
       "  <thead>\n",
       "    <tr style=\"text-align: right;\">\n",
       "      <th></th>\n",
       "      <th>sentence1</th>\n",
       "      <th>sentence2</th>\n",
       "      <th>and_A</th>\n",
       "      <th>and_B</th>\n",
       "      <th>label</th>\n",
       "    </tr>\n",
       "  </thead>\n",
       "  <tbody>\n",
       "    <tr>\n",
       "      <th>995</th>\n",
       "      <td>Marian is thankful and Tracey is agreeable</td>\n",
       "      <td>Lucille is not rich</td>\n",
       "      <td>Marian is thankful</td>\n",
       "      <td>Tracey is agreeable</td>\n",
       "      <td>0</td>\n",
       "    </tr>\n",
       "    <tr>\n",
       "      <th>996</th>\n",
       "      <td>Elizabeth is polite and Jacqueline is gentle</td>\n",
       "      <td>Elizabeth is not polite</td>\n",
       "      <td>Elizabeth is polite</td>\n",
       "      <td>Jacqueline is gentle</td>\n",
       "      <td>1</td>\n",
       "    </tr>\n",
       "    <tr>\n",
       "      <th>997</th>\n",
       "      <td>Oscar is wrong and Wallace is easy</td>\n",
       "      <td>Wallace is not easy</td>\n",
       "      <td>Oscar is wrong</td>\n",
       "      <td>Wallace is easy</td>\n",
       "      <td>1</td>\n",
       "    </tr>\n",
       "    <tr>\n",
       "      <th>998</th>\n",
       "      <td>Robin is zealous and Tyrone is vast</td>\n",
       "      <td>Robin is not vast</td>\n",
       "      <td>Robin is zealous</td>\n",
       "      <td>Tyrone is vast</td>\n",
       "      <td>0</td>\n",
       "    </tr>\n",
       "    <tr>\n",
       "      <th>999</th>\n",
       "      <td>Jack is jolly and Leslie is careful</td>\n",
       "      <td>Leslie is not jolly</td>\n",
       "      <td>Jack is jolly</td>\n",
       "      <td>Leslie is careful</td>\n",
       "      <td>0</td>\n",
       "    </tr>\n",
       "  </tbody>\n",
       "</table>\n",
       "</div>"
      ],
      "text/plain": [
       "                                        sentence1                 sentence2  \\\n",
       "995    Marian is thankful and Tracey is agreeable       Lucille is not rich   \n",
       "996  Elizabeth is polite and Jacqueline is gentle   Elizabeth is not polite   \n",
       "997            Oscar is wrong and Wallace is easy       Wallace is not easy   \n",
       "998           Robin is zealous and Tyrone is vast         Robin is not vast   \n",
       "999           Jack is jolly and Leslie is careful       Leslie is not jolly   \n",
       "\n",
       "                   and_A                 and_B  label  \n",
       "995   Marian is thankful   Tracey is agreeable      0  \n",
       "996  Elizabeth is polite  Jacqueline is gentle      1  \n",
       "997       Oscar is wrong       Wallace is easy      1  \n",
       "998     Robin is zealous        Tyrone is vast      0  \n",
       "999        Jack is jolly     Leslie is careful      0  "
      ]
     },
     "execution_count": 5,
     "metadata": {},
     "output_type": "execute_result"
    }
   ],
   "source": [
    "df3test.tail()"
   ]
  },
  {
   "cell_type": "code",
   "execution_count": 6,
   "metadata": {},
   "outputs": [],
   "source": [
    "df3train = df3.iloc[:8500]\n",
    "df3valid = df3.iloc[8500:]"
   ]
  },
  {
   "cell_type": "code",
   "execution_count": 7,
   "metadata": {},
   "outputs": [
    {
     "data": {
      "image/png": "[encoded data removed]",
      "text/plain": [
       "<Figure size 432x288 with 1 Axes>"
      ]
     },
     "metadata": {},
     "output_type": "display_data"
    }
   ],
   "source": [
    "plot_histogram_from_labels(df3train.label.values, [\"no\", \"yes\"], \"test.png\") "
   ]
  },
  {
   "cell_type": "code",
   "execution_count": 8,
   "metadata": {},
   "outputs": [
    {
     "data": {
      "image/png": "[encoded data removed]",
      "text/plain": [
       "<Figure size 432x288 with 1 Axes>"
      ]
     },
     "metadata": {},
     "output_type": "display_data"
    }
   ],
   "source": [
    "plot_histogram_from_labels(df3valid.label.values, [\"no\", \"yes\"], \"test.png\")"
   ]
  },
  {
   "cell_type": "code",
   "execution_count": 9,
   "metadata": {},
   "outputs": [
    {
     "data": {
      "image/png": "[encoded data removed]",
      "text/plain": [
       "<Figure size 432x288 with 1 Axes>"
      ]
     },
     "metadata": {},
     "output_type": "display_data"
    }
   ],
   "source": [
    "plot_histogram_from_labels(df3test.label.values, [\"no\", \"yes\"], \"test.png\") "
   ]
  },
  {
   "cell_type": "code",
   "execution_count": 10,
   "metadata": {},
   "outputs": [],
   "source": [
    "simple_pre_process_text_df(df3, \"sentence1\")\n",
    "simple_pre_process_text_df(df3, \"sentence2\")\n",
    "simple_pre_process_text_df(df3, \"and_A\")\n",
    "simple_pre_process_text_df(df3, \"and_B\")\n",
    "\n",
    "df3[\"text\"] = df3[\"sentence1\"] + \", \" + df3[\"sentence2\"]"
   ]
  },
  {
   "cell_type": "markdown",
   "metadata": {},
   "source": [
    "# creating vocab and tensor data"
   ]
  },
  {
   "cell_type": "code",
   "execution_count": 11,
   "metadata": {},
   "outputs": [],
   "source": [
    "df3_little = df3[[\"text\", \"label\"]]"
   ]
  },
  {
   "cell_type": "code",
   "execution_count": 12,
   "metadata": {},
   "outputs": [
    {
     "data": {
      "text/html": [
       "<div>\n",
       "<style scoped>\n",
       "    .dataframe tbody tr th:only-of-type {\n",
       "        vertical-align: middle;\n",
       "    }\n",
       "\n",
       "    .dataframe tbody tr th {\n",
       "        vertical-align: top;\n",
       "    }\n",
       "\n",
       "    .dataframe thead th {\n",
       "        text-align: right;\n",
       "    }\n",
       "</style>\n",
       "<table border=\"1\" class=\"dataframe\">\n",
       "  <thead>\n",
       "    <tr style=\"text-align: right;\">\n",
       "      <th></th>\n",
       "      <th>text</th>\n",
       "      <th>label</th>\n",
       "    </tr>\n",
       "  </thead>\n",
       "  <tbody>\n",
       "    <tr>\n",
       "      <th>0</th>\n",
       "      <td>penny is thankful and naomi is alive, penny is...</td>\n",
       "      <td>0</td>\n",
       "    </tr>\n",
       "    <tr>\n",
       "      <th>1</th>\n",
       "      <td>carlos is kind and paula is uninterested, paul...</td>\n",
       "      <td>0</td>\n",
       "    </tr>\n",
       "    <tr>\n",
       "      <th>2</th>\n",
       "      <td>jack is hallowed and kent is easy, kent is not...</td>\n",
       "      <td>1</td>\n",
       "    </tr>\n",
       "    <tr>\n",
       "      <th>3</th>\n",
       "      <td>bonnie is gentle and martha is victorious, bon...</td>\n",
       "      <td>1</td>\n",
       "    </tr>\n",
       "    <tr>\n",
       "      <th>4</th>\n",
       "      <td>brandi is delightful and sabrina is victorious...</td>\n",
       "      <td>0</td>\n",
       "    </tr>\n",
       "  </tbody>\n",
       "</table>\n",
       "</div>"
      ],
      "text/plain": [
       "                                                text  label\n",
       "0  penny is thankful and naomi is alive, penny is...      0\n",
       "1  carlos is kind and paula is uninterested, paul...      0\n",
       "2  jack is hallowed and kent is easy, kent is not...      1\n",
       "3  bonnie is gentle and martha is victorious, bon...      1\n",
       "4  brandi is delightful and sabrina is victorious...      0"
      ]
     },
     "execution_count": 12,
     "metadata": {},
     "output_type": "execute_result"
    }
   ],
   "source": [
    "df3_little.head()"
   ]
  },
  {
   "cell_type": "code",
   "execution_count": 13,
   "metadata": {},
   "outputs": [],
   "source": [
    "train_data_path = \"data/boolean_3_train_lab.csv\"\n",
    "df3_little.to_csv(train_data_path, header=False, index=False)"
   ]
  },
  {
   "cell_type": "code",
   "execution_count": 14,
   "metadata": {},
   "outputs": [],
   "source": [
    "TEXT = data.Field()\n",
    "LABEL = data.LabelField(tensor_type=torch.FloatTensor)\n",
    "train = data.TabularDataset(path=train_data_path,\n",
    "                            format=\"csv\",\n",
    "                            fields=[('text', TEXT), ('label', LABEL)])"
   ]
  },
  {
   "cell_type": "code",
   "execution_count": 15,
   "metadata": {},
   "outputs": [],
   "source": [
    "TEXT.build_vocab(train, max_size=25000)\n",
    "LABEL.build_vocab(train)"
   ]
  },
  {
   "cell_type": "code",
   "execution_count": 16,
   "metadata": {},
   "outputs": [
    {
     "name": "stdout",
     "output_type": "stream",
     "text": [
      "len(TEXT.vocab): 753\n",
      "len(LABEL.vocab): 2\n"
     ]
    }
   ],
   "source": [
    "print('len(TEXT.vocab):', len(TEXT.vocab))\n",
    "print('len(LABEL.vocab):', len(LABEL.vocab))"
   ]
  },
  {
   "cell_type": "code",
   "execution_count": 17,
   "metadata": {},
   "outputs": [],
   "source": [
    "def finde_size(list_):\n",
    "    return np.max(list(map(lambda x: len(x.split(\" \")), list_)))"
   ]
  },
  {
   "cell_type": "code",
   "execution_count": 18,
   "metadata": {},
   "outputs": [],
   "source": [
    "def str_list2tensor(list_):\n",
    "    list_i = []\n",
    "    max_size = finde_size(list_)\n",
    "    for line in list_:\n",
    "        line = line.split(\" \")\n",
    "        size = len(line) \n",
    "        tail = max_size - size\n",
    "        line += [TEXT.pad_token] * tail\n",
    "        new_line = [TEXT.vocab.stoi[word] for word in line]\n",
    "        list_i.append(new_line)\n",
    "    return torch.tensor(list_i, dtype=torch.long, device=device)\n",
    "    "
   ]
  },
  {
   "cell_type": "code",
   "execution_count": 19,
   "metadata": {},
   "outputs": [],
   "source": [
    "exampleS1_train_t = str_list2tensor(list(df3train.sentence1.values))\n",
    "exampleS2_train_t = str_list2tensor(list(df3train.sentence2.values))\n",
    "exampleA_train_t = str_list2tensor(list(df3train.and_A.values))\n",
    "exampleB_train_t = str_list2tensor(list(df3train.and_B.values))\n",
    "exampleLabel_train = torch.tensor(list(df3train.label.values), dtype=torch.long, device=device)"
   ]
  },
  {
   "cell_type": "code",
   "execution_count": 20,
   "metadata": {},
   "outputs": [],
   "source": [
    "exampleS1_valid_t = str_list2tensor(list(df3valid.sentence1.values))\n",
    "exampleS2_valid_t = str_list2tensor(list(df3valid.sentence2.values))\n",
    "exampleA_valid_t = str_list2tensor(list(df3valid.and_A.values))\n",
    "exampleB_valid_t = str_list2tensor(list(df3valid.and_B.values))\n",
    "exampleLabel_valid = torch.tensor(list(df3valid.label.values), dtype=torch.long, device=device)"
   ]
  },
  {
   "cell_type": "code",
   "execution_count": 21,
   "metadata": {},
   "outputs": [],
   "source": [
    "exampleS1_test_t = str_list2tensor(list(df3test.sentence1.values))\n",
    "exampleS2_test_t = str_list2tensor(list(df3test.sentence2.values))\n",
    "exampleA_test_t = str_list2tensor(list(df3test.and_A.values))\n",
    "exampleB_test_t = str_list2tensor(list(df3test.and_B.values))\n",
    "exampleLabel_test = torch.tensor(list(df3test.label.values), dtype=torch.long, device=device)"
   ]
  },
  {
   "cell_type": "code",
   "execution_count": 22,
   "metadata": {},
   "outputs": [],
   "source": [
    "from torch.utils.data import TensorDataset\n",
    "\n",
    "train_dataset = TensorDataset(exampleS1_train_t, exampleS2_train_t, exampleA_train_t, exampleB_train_t, exampleLabel_train)\n",
    "valid_dataset = TensorDataset(exampleS1_valid_t, exampleS2_valid_t, exampleA_valid_t, exampleB_valid_t, exampleLabel_valid)\n",
    "test_dataset = TensorDataset(exampleS1_test_t, exampleS2_test_t, exampleA_test_t, exampleB_test_t, exampleLabel_test)"
   ]
  },
  {
   "cell_type": "code",
   "execution_count": 23,
   "metadata": {},
   "outputs": [],
   "source": [
    "from torch.utils.data import DataLoader\n",
    "\n",
    "class DataHolder():\n",
    "    \"\"\"\n",
    "    Class to store all data using the GentleLoader.\n",
    "\n",
    "    :param config: hyper params configuration\n",
    "    :type config: LRConfig or DFNConfig\n",
    "    :param train_dataset: dataset of training data\n",
    "    :type train_dataset: torch.utils.data.dataset.TensorDataset\n",
    "    :param test_dataset: dataset of test data\n",
    "    :type test_dataset: torch.utils.data.dataset.TensorDataset\n",
    "    :param valid_dataset: dataset of valid data\n",
    "    :type valid_dataset: torch.utils.data.dataset.TensorDataset\n",
    "    :param batch_size: batch size for training\n",
    "    :type test_batch: batch size for the testing data\n",
    "    :param test_batch: int\n",
    "    \"\"\"\n",
    "    def __init__(self,\n",
    "                 config,\n",
    "                 train_dataset,\n",
    "                 valid_dataset,\n",
    "                 test_dataset,\n",
    "                 test_batch=1000):\n",
    "        batch_size = config.batch_size\n",
    "        self.train_loader = DataLoader(dataset=train_dataset,\n",
    "                                         batch_size=batch_size,\n",
    "                                         shuffle=True)\n",
    "        self.valid_loader = DataLoader(dataset=valid_dataset,\n",
    "                                         batch_size=batch_size,\n",
    "                                         shuffle=True)\n",
    "        self.test_loader = DataLoader(dataset=test_dataset,\n",
    "                                        batch_size=test_batch,\n",
    "                                        shuffle=True)"
   ]
  },
  {
   "cell_type": "code",
   "execution_count": 24,
   "metadata": {},
   "outputs": [],
   "source": [
    "config = RNNConfig()\n",
    "b_data = DataHolder(config,\n",
    "                    train_dataset,\n",
    "                    valid_dataset,\n",
    "                    test_dataset)"
   ]
  },
  {
   "cell_type": "markdown",
   "metadata": {},
   "source": [
    "# defining the model"
   ]
  },
  {
   "cell_type": "code",
   "execution_count": 25,
   "metadata": {},
   "outputs": [],
   "source": [
    "class AddRNN(nn.Module):\n",
    "    def __init__(self, config):\n",
    "        super(AddRNN, self).__init__()\n",
    "        self.vocab_size = config.vocab_size\n",
    "        self.embedding_dim = config.embedding_dim\n",
    "        self.output_dim = config.output_dim\n",
    "        self.rnn_dim = config.rnn_dim\n",
    "        self.embedding = nn.Embedding(self.vocab_size, self.embedding_dim)\n",
    "        self.rnn = nn.GRU(self.embedding_dim, self.rnn_dim) \n",
    "        self.fcA = nn.Linear(self.rnn_dim, self.rnn_dim)\n",
    "        self.fcB = nn.Linear(self.rnn_dim, self.rnn_dim)\n",
    "        self.fc_out = nn.Linear(self.rnn_dim, self.output_dim)\n",
    "        self.fc_inf = nn.Linear(self.rnn_dim * 2, self.rnn_dim)\n",
    "        \n",
    "        \n",
    "    def encode(self, x, hidden=None):\n",
    "        if hidden is None:\n",
    "            hidden = torch.zeros((1, x.shape[1], self.rnn_dim), device=device)\n",
    "        embedded = self.embedding(x)       \n",
    "        output, hidden = self.rnn(embedded, hidden)\n",
    "        hidden = hidden.squeeze(0)\n",
    "        return hidden\n",
    "\n",
    "    def forward(self, s1, s2):\n",
    "        h = self.encode(s1)\n",
    "        self.ha = self.fcA(h)\n",
    "        self.hb = self.fcB(h)\n",
    "#         h_inf = self.ha + self.hb\n",
    "        h_inf = self.ha * self.hb\n",
    "#         h_inf = self.fc_inf(torch.cat([self.ha, self.hb], dim=1))\n",
    "        h_inf = h_inf.view((1, h_inf.shape[0], h_inf.shape[1]))\n",
    "        s2_enc = self.encode(s2, h_inf)\n",
    "        out = self.fc_out(s2_enc)\n",
    "        return out\n",
    "\n",
    "    def predict(self, s1, s2):\n",
    "        out = self.forward(s1, s2)\n",
    "        softmax = nn.Softmax(dim=1)\n",
    "        out = softmax(out)\n",
    "        indices = torch.argmax(out, 1)\n",
    "        return indices\n",
    "\n",
    "    def evaluate_labels(self,s1, s2, labels):\n",
    "        prediction = self.predict(s1, s2)\n",
    "        correct = torch.sum(torch.eq(prediction, labels)).float()\n",
    "        accuracy = float(correct / labels.shape[0])\n",
    "        prediction = prediction.numpy()\n",
    "        labels = labels.numpy()\n",
    "        return accuracy, prediction, labels"
   ]
  },
  {
   "cell_type": "code",
   "execution_count": 26,
   "metadata": {},
   "outputs": [],
   "source": [
    "s1, s2, and_A, and_B, label = next(iter(b_data.train_loader))\n",
    "s1 = s1.view((s1.shape[1], s1.shape[0]))\n",
    "s2 = s2.view((s2.shape[1], s2.shape[0]))\n",
    "and_A = and_A.view((and_A.shape[1], and_A.shape[0]))\n",
    "and_B = and_B.view((and_B.shape[1], and_B.shape[0]))"
   ]
  },
  {
   "cell_type": "code",
   "execution_count": 27,
   "metadata": {},
   "outputs": [
    {
     "name": "stdout",
     "output_type": "stream",
     "text": [
      "vocab_size = 753\n",
      "batch_size = 32\n",
      "embedding_dim = 100\n",
      "rnn_dim = 10\n",
      "output_dim = 2\n",
      "epochs = 8\n",
      "learning_rate = 0.12\n",
      "momentum = 0.2\n",
      "\n"
     ]
    }
   ],
   "source": [
    "config = RNNConfig(vocab_size=len(TEXT.vocab), rnn_dim = 10, learning_rate = 0.12)\n",
    "print(config)"
   ]
  },
  {
   "cell_type": "code",
   "execution_count": 28,
   "metadata": {},
   "outputs": [
    {
     "name": "stdout",
     "output_type": "stream",
     "text": [
      "tensor([1, 1, 0, 0, 1, 1, 0, 1, 0, 1, 0, 0, 1, 1, 0, 1, 1, 1, 0, 1, 1, 0, 0, 1,\n",
      "        1, 1, 0, 0, 0, 0, 0, 1])\n"
     ]
    }
   ],
   "source": [
    "model = AddRNN(config)\n",
    "\n",
    "out = model.predict(s1, s2)\n",
    "print(out)"
   ]
  },
  {
   "cell_type": "code",
   "execution_count": 29,
   "metadata": {},
   "outputs": [
    {
     "name": "stdout",
     "output_type": "stream",
     "text": [
      "mean valid acc before training =  0.525\n"
     ]
    },
    {
     "data": {
      "image/png": "[encoded data removed]",
      "text/plain": [
       "<Figure size 648x648 with 2 Axes>"
      ]
     },
     "metadata": {},
     "output_type": "display_data"
    }
   ],
   "source": [
    "all_acc = 0\n",
    "n_iter = 10\n",
    "for i in range(n_iter):\n",
    "    s1, s2, and_A, and_B, labels = next(iter(b_data.valid_loader))\n",
    "    s1 = s1.view((s1.shape[1], s1.shape[0]))\n",
    "    s2 = s2.view((s2.shape[1], s2.shape[0]))\n",
    "    and_A = and_A.view((and_A.shape[1], and_A.shape[0]))\n",
    "    and_B = and_B.view((and_B.shape[1], and_B.shape[0]))\n",
    "\n",
    "    acc, prediction, labels = model.evaluate_labels(s1, s2, labels)\n",
    "    all_acc += acc\n",
    "\n",
    "print(\"mean valid acc before training =  {}\".format(all_acc / n_iter))    \n",
    "plot_confusion_matrix(labels,\n",
    "                      prediction,\n",
    "                      classes=[\"no\", \"yes\"],\n",
    "                      path=\"confusion_matrix.png\")"
   ]
  },
  {
   "cell_type": "markdown",
   "metadata": {},
   "source": [
    "# defining the training loop"
   ]
  },
  {
   "cell_type": "code",
   "execution_count": 30,
   "metadata": {},
   "outputs": [],
   "source": [
    "def train_in_epoch(model,\n",
    "                   loader,\n",
    "                   optimizer,\n",
    "                   criterionCE,\n",
    "                   criterionL1):\n",
    "    \"\"\"\n",
    "    Train the model using all the data from the iterator\n",
    "\n",
    "    Negative is a flag to train the model to maximize the\n",
    "    loss functionCE\n",
    "\n",
    "    :param model: RNN classification model\n",
    "    :type model: RNN\n",
    "    :param loader: data loader\n",
    "    :type loader: torch.utils.data.dataloader.DataLoader\n",
    "    :param optimizer: torch optimizer\n",
    "    :type optimizer: optim.SGD, etc.\n",
    "    :param criterionCE: loss criterion\n",
    "    :type criterionCE: nn.CrossEntropyLoss\n",
    "    :param criterionL1: loss criterion\n",
    "    :type criterionL1: nn.L1Loss\n",
    "    :return: mean loss, mean accuracy\n",
    "    :rtype: float, float\n",
    "    \"\"\"\n",
    "\n",
    "    epoch_loss = 0\n",
    "    epoch_acc = 0\n",
    "    model.train()\n",
    "\n",
    "    for batch in loader:\n",
    "        optimizer.zero_grad()\n",
    "        s1, s2, and_A, and_B, labels = batch\n",
    "        s1 = s1.view((s1.shape[1], s1.shape[0]))\n",
    "        s2 = s2.view((s2.shape[1], s2.shape[0]))\n",
    "        and_A = and_A.view((and_A.shape[1], and_A.shape[0]))\n",
    "        and_B = and_B.view((and_B.shape[1], and_B.shape[0]))\n",
    "        logits = model(s1, s2)\n",
    "        ha = model.encode(and_A)\n",
    "        hb = model.encode(and_B)\n",
    "        loss = criterionCE(logits,labels) + torch.sqrt(criterionL1(ha, model.ha) + criterionL1(hb, model.hb))\n",
    "\n",
    "#         loss = criterionCE(logits,labels)**2 + torch.sqrt(criterionL1(ha, model.ha) + criterionL1(hb, model.hb))\n",
    "#         loss = criterionCE(logits,labels)  \n",
    "#         loss = criterionCE(logits,labels) + criterionL1(ha, model.ha) + criterionL1(hb, model.hb)\n",
    "\n",
    "        loss.backward()\n",
    "        optimizer.step()\n",
    "        acc, _, _ = model.evaluate_labels(s1, s2, labels)\n",
    "        epoch_loss += loss.item()\n",
    "        epoch_acc += acc\n",
    "\n",
    "    mean_loss = epoch_loss / len(loader)\n",
    "    mean_acc = epoch_acc / len(loader)\n",
    "\n",
    "    return mean_loss, mean_acc"
   ]
  },
  {
   "cell_type": "markdown",
   "metadata": {},
   "source": [
    "### testing"
   ]
  },
  {
   "cell_type": "code",
   "execution_count": 31,
   "metadata": {},
   "outputs": [
    {
     "name": "stdout",
     "output_type": "stream",
     "text": [
      "10.171664184197448 0.5289708647064697\n"
     ]
    }
   ],
   "source": [
    "dataholder = b_data\n",
    "\n",
    "train_loader = dataholder.train_loader\n",
    "valid_loader = dataholder.valid_loader\n",
    "\n",
    "criterionCE = nn.CrossEntropyLoss()\n",
    "criterionL1 = nn.L1Loss()\n",
    "optimizer = torch.optim.SGD(model.parameters(),\n",
    "                            lr=config.learning_rate,\n",
    "                            momentum=config.momentum)\n",
    "\n",
    "mean_loss, mean_acc = train_in_epoch(model,\n",
    "                                     train_loader,\n",
    "                                     optimizer,\n",
    "                                     criterionCE,\n",
    "                                     criterionL1)\n",
    "\n",
    "print(mean_loss, mean_acc)"
   ]
  },
  {
   "cell_type": "code",
   "execution_count": 32,
   "metadata": {},
   "outputs": [],
   "source": [
    "def get_valid_loss(model,\n",
    "                   valid_loader,\n",
    "                   criterionCE,\n",
    "                   criterionL1):\n",
    "    \"\"\"\n",
    "    Get the valid loss\n",
    "\n",
    "    :param model: RNN classification model\n",
    "    :type model:\n",
    "    :param valid_iter: valid iterator\n",
    "    :type valid_iter: data.BucketIterator\n",
    "    :param criterion: loss criterion\n",
    "    :type criterion: nn.CrossEntropyLoss\n",
    "    :return: valid loss\n",
    "    :rtype: Tensor(shape=[])\n",
    "    \"\"\"\n",
    "    batch = next(iter(valid_loader))\n",
    "    s1, s2, and_A, and_B, labels = batch\n",
    "    s1 = s1.view((s1.shape[1], s1.shape[0]))\n",
    "    s2 = s2.view((s2.shape[1], s2.shape[0]))\n",
    "    and_A = and_A.view((and_A.shape[1], and_A.shape[0]))\n",
    "    and_B = and_B.view((and_B.shape[1], and_B.shape[0]))\n",
    "    model.eval()\n",
    "    logits = model(s1, s2)\n",
    "    ha = model.encode(and_A)\n",
    "    hb = model.encode(and_B)\n",
    "    \n",
    "    loss = criterionCE(logits,labels) + torch.sqrt(criterionL1(ha, model.ha) + criterionL1(hb, model.hb))\n",
    "    \n",
    "#     loss = criterionCE(logits,labels)**2 + torch.sqrt(criterionL1(ha, model.ha) + criterionL1(hb, model.hb))\n",
    "#     loss = criterionCE(logits,labels) + criterionL1(ha, model.ha) + criterionL1(hb, model.hb)    \n",
    "#     loss = criterionCE(logits,labels)\n",
    "    return loss.item()"
   ]
  },
  {
   "cell_type": "markdown",
   "metadata": {},
   "source": [
    "### testing"
   ]
  },
  {
   "cell_type": "code",
   "execution_count": 33,
   "metadata": {},
   "outputs": [
    {
     "data": {
      "text/plain": [
       "6.307025909423828"
      ]
     },
     "execution_count": 33,
     "metadata": {},
     "output_type": "execute_result"
    }
   ],
   "source": [
    "get_valid_loss(model,\n",
    "               valid_loader,\n",
    "               criterionCE,\n",
    "               criterionL1)"
   ]
  },
  {
   "cell_type": "code",
   "execution_count": 34,
   "metadata": {},
   "outputs": [],
   "source": [
    "def training_loop_text_classification(model,\n",
    "                                      config,\n",
    "                                      dataholder,\n",
    "                                      model_path,\n",
    "                                      verbose=True,\n",
    "                                      plot_path=\"training plot.png\"):\n",
    "    \"\"\"\n",
    "    Train a model for text classification\n",
    "\n",
    "    :param model: RNN classification model\n",
    "    :type model: RNN\n",
    "    :param config: classification model config\n",
    "    :type config: RNNConfig\n",
    "    :param dataholder: data\n",
    "    :type dataholder: DataHolder or DataHolderGentle\n",
    "    :param model_path: path to save model params\n",
    "    :type model_path: str\n",
    "    :param verbose: param to control print\n",
    "    :type verbose: bool\n",
    "    \"\"\"\n",
    "    criterionCE = nn.CrossEntropyLoss()\n",
    "    criterionL1 = nn.L1Loss()\n",
    "#     criterionL1 = nn.MSELoss()\n",
    "    \n",
    "    optimizer = torch.optim.SGD(model.parameters(),\n",
    "                            lr=config.learning_rate,\n",
    "                            momentum=config.momentum)\n",
    "\n",
    "    device = torch.device('cuda' if torch.cuda.is_available() else 'cpu')\n",
    "    model = model.to(device)\n",
    "    \n",
    "    criterionCE = criterionCE.to(device)\n",
    "    criterionL1 = criterionL1.to(device)\n",
    "    \n",
    "    train_loader = dataholder.train_loader\n",
    "    valid_loader = dataholder.valid_loader\n",
    "\n",
    "    best_valid_loss = float(\"inf\")\n",
    "\n",
    "    all_train_loss = []\n",
    "    all_valid_loss = []\n",
    "\n",
    "    for epoch in range(config.epochs):\n",
    "\n",
    "        if verbose:\n",
    "            print(\"epoch = ({}/{})\".format(epoch + 1, config.epochs))\n",
    "            train_loss, train_acc = train_in_epoch(model,\n",
    "                                                   train_loader,\n",
    "                                                   optimizer,\n",
    "                                                   criterionCE,\n",
    "                                                   criterionL1)\n",
    "\n",
    "        all_train_loss.append(train_loss)\n",
    "        valid_loss = get_valid_loss(model,\n",
    "                                    valid_loader,\n",
    "                                    criterionCE,\n",
    "                                    criterionL1)\n",
    "        all_valid_loss.append(valid_loss)\n",
    "\n",
    "        msg = \"\\ntrain_loss = {:.3f} | valid_loss = {:.3f}\".format(float(train_loss),  # noqa\n",
    "                                                                   float(valid_loss))  # noqa\n",
    "\n",
    "        if float(valid_loss) < best_valid_loss:\n",
    "            torch.save(model.state_dict(), model_path)\n",
    "            best_valid_loss = float(valid_loss)\n",
    "\n",
    "        if verbose:\n",
    "            print(msg)\n",
    "            print(\"train_acc = {}\\n\".format(train_acc))\n",
    "\n",
    "    if verbose:\n",
    "        x = np.arange(1, len(all_train_loss) + 1, 1)\n",
    "        fig, ax = plt.subplots(1, 1, figsize=(12, 5))\n",
    "        ax.plot(x, all_train_loss, label='mean train loss')\n",
    "        ax.plot(x, all_valid_loss, label='mean valid loss')\n",
    "        ax.legend()\n",
    "        plt.xlabel('epoch')\n",
    "        plt.ylabel('mean loss')\n",
    "        plt.title('Train and valid mean loss')\n",
    "        plt.grid(True)\n",
    "        plt.savefig(plot_path)"
   ]
  },
  {
   "cell_type": "markdown",
   "metadata": {},
   "source": [
    "### runnig one training"
   ]
  },
  {
   "cell_type": "code",
   "execution_count": 35,
   "metadata": {},
   "outputs": [
    {
     "name": "stdout",
     "output_type": "stream",
     "text": [
      "epoch = (1/25)\n",
      "\n",
      "train_loss = 22.422 | valid_loss = 16.690\n",
      "train_acc = 0.5751409774884245\n",
      "\n",
      "epoch = (2/25)\n",
      "\n",
      "train_loss = 15.776 | valid_loss = 13.283\n",
      "train_acc = 0.5763862782851198\n",
      "\n",
      "epoch = (3/25)\n",
      "\n",
      "train_loss = 14.331 | valid_loss = 12.880\n",
      "train_acc = 0.550610902166008\n",
      "\n",
      "epoch = (4/25)\n",
      "\n",
      "train_loss = 13.899 | valid_loss = 11.147\n",
      "train_acc = 0.5506813909326281\n",
      "\n",
      "epoch = (5/25)\n",
      "\n",
      "train_loss = 13.685 | valid_loss = 10.589\n",
      "train_acc = 0.5400140977891764\n",
      "\n",
      "epoch = (6/25)\n",
      "\n",
      "train_loss = 13.581 | valid_loss = 10.247\n",
      "train_acc = 0.5466165413757912\n",
      "\n",
      "epoch = (7/25)\n",
      "\n",
      "train_loss = 13.661 | valid_loss = 9.990\n",
      "train_acc = 0.5399201128043627\n",
      "\n",
      "epoch = (8/25)\n",
      "\n",
      "train_loss = 13.956 | valid_loss = 9.214\n",
      "train_acc = 0.5288063910670746\n",
      "\n",
      "epoch = (9/25)\n",
      "\n",
      "train_loss = 13.872 | valid_loss = 12.160\n",
      "train_acc = 0.5287828947368421\n",
      "\n",
      "epoch = (10/25)\n",
      "\n",
      "train_loss = 14.255 | valid_loss = 8.984\n",
      "train_acc = 0.5278430451127819\n",
      "\n",
      "epoch = (11/25)\n",
      "\n",
      "train_loss = 14.429 | valid_loss = 8.848\n",
      "train_acc = 0.5365836465717259\n",
      "\n",
      "epoch = (12/25)\n",
      "\n",
      "train_loss = 14.388 | valid_loss = 15.049\n",
      "train_acc = 0.5240366541801539\n",
      "\n",
      "epoch = (13/25)\n",
      "\n",
      "train_loss = 14.437 | valid_loss = 12.134\n",
      "train_acc = 0.5198543233082706\n",
      "\n",
      "epoch = (14/25)\n",
      "\n",
      "train_loss = 14.448 | valid_loss = 9.272\n",
      "train_acc = 0.5257753758950341\n",
      "\n",
      "epoch = (15/25)\n",
      "\n",
      "train_loss = 14.541 | valid_loss = 13.058\n",
      "train_acc = 0.5189144736842105\n",
      "\n",
      "epoch = (16/25)\n",
      "\n",
      "train_loss = 14.552 | valid_loss = 16.455\n",
      "train_acc = 0.5251644737738416\n",
      "\n",
      "epoch = (17/25)\n",
      "\n",
      "train_loss = 14.698 | valid_loss = 10.200\n",
      "train_acc = 0.5205827068565483\n",
      "\n",
      "epoch = (18/25)\n",
      "\n",
      "train_loss = 14.806 | valid_loss = 10.133\n",
      "train_acc = 0.5223919173380486\n",
      "\n",
      "epoch = (19/25)\n",
      "\n",
      "train_loss = 14.844 | valid_loss = 7.907\n",
      "train_acc = 0.5236137218045113\n",
      "\n",
      "epoch = (20/25)\n",
      "\n",
      "train_loss = 14.862 | valid_loss = 16.445\n",
      "train_acc = 0.5298167292336772\n",
      "\n",
      "epoch = (21/25)\n",
      "\n",
      "train_loss = 14.913 | valid_loss = 16.492\n",
      "train_acc = 0.525305451083004\n",
      "\n",
      "epoch = (22/25)\n",
      "\n",
      "train_loss = 14.977 | valid_loss = 11.588\n",
      "train_acc = 0.5230498121197062\n",
      "\n",
      "epoch = (23/25)\n",
      "\n",
      "train_loss = 15.017 | valid_loss = 18.195\n",
      "train_acc = 0.5150375939849624\n",
      "\n",
      "epoch = (24/25)\n",
      "\n",
      "train_loss = 14.998 | valid_loss = 7.305\n",
      "train_acc = 0.5156484962181938\n",
      "\n",
      "epoch = (25/25)\n",
      "\n",
      "train_loss = 15.053 | valid_loss = 9.580\n",
      "train_acc = 0.524741541398199\n",
      "\n"
     ]
    },
    {
     "data": {
      "image/png": "[encoded data removed]",
      "text/plain": [
       "<Figure size 864x360 with 1 Axes>"
      ]
     },
     "metadata": {},
     "output_type": "display_data"
    }
   ],
   "source": [
    "# config = RNNConfig(vocab_size=len(TEXT.vocab), rnn_dim = 10, learning_rate = 0.02)\n",
    "config = RNNConfig(vocab_size=len(TEXT.vocab),\n",
    "                   output_dim=len(LABEL.vocab),\n",
    "                   embedding_dim=100,\n",
    "                   rnn_dim=133,\n",
    "                   learning_rate=0.037,\n",
    "                   momentum=0.0,\n",
    "                   epochs=25)\n",
    "\n",
    "model = AddRNN(config)\n",
    "\n",
    "training_loop_text_classification(model=model,\n",
    "                                  config=config,\n",
    "                                  dataholder=b_data,\n",
    "                                  model_path=\"temp.pkl\")"
   ]
  },
  {
   "cell_type": "markdown",
   "metadata": {},
   "source": [
    "### Evaluating the model after the training"
   ]
  },
  {
   "cell_type": "code",
   "execution_count": 36,
   "metadata": {},
   "outputs": [
    {
     "name": "stdout",
     "output_type": "stream",
     "text": [
      "mean valid acc after training =  0.5\n"
     ]
    },
    {
     "data": {
      "image/png": "[encoded data removed]",
      "text/plain": [
       "<Figure size 648x648 with 2 Axes>"
      ]
     },
     "metadata": {},
     "output_type": "display_data"
    }
   ],
   "source": [
    "model = AddRNN(config)\n",
    "model.load_state_dict(torch.load(\"temp.pkl\"))\n",
    "\n",
    "all_acc = 0\n",
    "n_iter = 10\n",
    "for i in range(n_iter):\n",
    "    s1, s2, and_A, and_B, labels = next(iter(b_data.valid_loader))\n",
    "    s1 = s1.view((s1.shape[1], s1.shape[0]))\n",
    "    s2 = s2.view((s2.shape[1], s2.shape[0]))\n",
    "    and_A = and_A.view((and_A.shape[1], and_A.shape[0]))\n",
    "    and_B = and_B.view((and_B.shape[1], and_B.shape[0]))\n",
    "\n",
    "    acc, prediction, labels = model.evaluate_labels(s1, s2, labels)\n",
    "    all_acc += acc\n",
    "\n",
    "print(\"mean valid acc after training =  {}\".format(all_acc / n_iter))    \n",
    "plot_confusion_matrix(labels,\n",
    "                      prediction,\n",
    "                      classes=[\"no\", \"yes\"],\n",
    "                      path=\"confusion_matrix.png\")"
   ]
  },
  {
   "cell_type": "code",
   "execution_count": 37,
   "metadata": {},
   "outputs": [],
   "source": [
    "model = AddRNN(config)\n",
    "model.load_state_dict(torch.load(\"temp.pkl\"))\n",
    "s1, s2, and_A, and_B, labels = next(iter(b_data.valid_loader))\n",
    "s1 = s1.view((s1.shape[1], s1.shape[0]))\n",
    "s2 = s2.view((s2.shape[1], s2.shape[0]))\n",
    "and_A = and_A.view((and_A.shape[1], and_A.shape[0]))\n",
    "and_B = and_B.view((and_B.shape[1], and_B.shape[0]))\n",
    "_ = model(s1, s2)\n",
    "hahat = model.ha.detach().numpy()\n",
    "hbhat = model.hb.detach().numpy()\n",
    "ha = model.encode(and_A).detach().numpy()\n",
    "hb = model.encode(and_B).detach().numpy()"
   ]
  },
  {
   "cell_type": "code",
   "execution_count": 38,
   "metadata": {},
   "outputs": [],
   "source": [
    "comp_a = np.mean((hahat - ha)**2, axis=1)\n",
    "comp_b = np.mean((hbhat - hb)**2, axis=1)"
   ]
  },
  {
   "cell_type": "code",
   "execution_count": 39,
   "metadata": {},
   "outputs": [
    {
     "name": "stdout",
     "output_type": "stream",
     "text": [
      "[5.3559870e-05 4.4845277e-05 4.4087687e-05 4.0432045e-05 3.1799715e-05\n",
      " 3.9435938e-05 3.0518193e-05 4.4907087e-05 3.5723308e-05 3.7950045e-05\n",
      " 4.3809952e-05 6.2356426e-05 4.4550467e-05 4.8033453e-05 3.8005546e-05\n",
      " 7.0727277e-05 3.3729455e-05 3.6272570e-05 4.3604781e-05 4.3638622e-05\n",
      " 3.6200836e-05 3.8970429e-05 3.6979007e-05 7.1463306e-05 4.1093474e-05\n",
      " 5.4183573e-05 3.2823064e-05 7.9162615e-05 3.4006658e-05 5.5173390e-05\n",
      " 5.2327905e-05 5.5558950e-05] >>>>>>>>>>>>>>>>> 4.5497844e-05 1.1924973e-05\n"
     ]
    }
   ],
   "source": [
    "print(comp_a, \">>>>>>>>>>>>>>>>>\" ,np.mean(comp_a), np.std(comp_a))"
   ]
  },
  {
   "cell_type": "code",
   "execution_count": 40,
   "metadata": {},
   "outputs": [
    {
     "name": "stdout",
     "output_type": "stream",
     "text": [
      "[3.7014430e-05 3.7685892e-05 4.1180145e-05 3.2051405e-05 3.2730430e-05\n",
      " 3.7554779e-05 5.6813122e-05 2.9050430e-05 5.0949206e-05 4.7026202e-05\n",
      " 3.9016122e-05 4.8466776e-05 3.9040187e-05 3.1964701e-05 3.2360949e-05\n",
      " 3.8350445e-05 3.9339815e-05 2.9598707e-05 3.3984372e-05 3.6682592e-05\n",
      " 4.8796079e-05 2.9796616e-05 3.3645636e-05 3.2873904e-05 3.6082558e-05\n",
      " 3.3027780e-05 2.9742017e-05 3.8458104e-05 3.6310405e-05 6.0388938e-05\n",
      " 4.1950541e-05 5.3670690e-05] >>>>>>>>>>>>>>>>> 3.892512e-05 8.08504e-06\n"
     ]
    }
   ],
   "source": [
    "print(comp_b, \">>>>>>>>>>>>>>>>>\" ,np.mean(comp_b), np.std(comp_b))"
   ]
  },
  {
   "cell_type": "code",
   "execution_count": null,
   "metadata": {},
   "outputs": [],
   "source": []
  }
 ],
 "metadata": {
  "kernelspec": {
   "display_name": "Python 3",
   "language": "python",
   "name": "python3"
  },
  "language_info": {
   "codemirror_mode": {
    "name": "ipython",
    "version": 3
   },
   "file_extension": ".py",
   "mimetype": "text/x-python",
   "name": "python",
   "nbconvert_exporter": "python",
   "pygments_lexer": "ipython3",
   "version": "3.5.2"
  }
 },
 "nbformat": 4,
 "nbformat_minor": 2
}
