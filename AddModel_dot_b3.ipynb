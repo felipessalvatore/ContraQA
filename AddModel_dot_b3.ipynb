{
 "cells": [
  {
   "cell_type": "markdown",
   "metadata": {},
   "source": [
    "# Add model: translation attention ecoder-decocer over the b3 dataset"
   ]
  },
  {
   "cell_type": "code",
   "execution_count": 1,
   "metadata": {},
   "outputs": [],
   "source": [
    "import numpy as np\n",
    "import torch\n",
    "import torch.nn as nn\n",
    "import torch.nn.functional as F\n",
    "from torchtext import data\n",
    "import pandas as pd\n",
    "import unicodedata\n",
    "import string\n",
    "import re\n",
    "import random\n",
    "import copy\n",
    "from contra_qa.plots.functions  import simple_step_plot, plot_confusion_matrix\n",
    "import  matplotlib.pyplot as plt\n",
    "device = torch.device(\"cuda\" if torch.cuda.is_available() else \"cpu\")\n",
    "from nltk.translate.bleu_score import sentence_bleu\n",
    "\n",
    "\n",
    "% matplotlib inline"
   ]
  },
  {
   "cell_type": "code",
   "execution_count": 2,
   "metadata": {},
   "outputs": [],
   "source": [
    "import time\n",
    "import math\n",
    "\n",
    "\n",
    "def asMinutes(s):\n",
    "    m = math.floor(s / 60)\n",
    "    s -= m * 60\n",
    "    return '%dm %ds' % (m, s)\n",
    "\n",
    "\n",
    "def timeSince(since):\n",
    "    now = time.time()\n",
    "    s = now - since\n",
    "    return '%s' % asMinutes(s)"
   ]
  },
  {
   "cell_type": "markdown",
   "metadata": {},
   "source": [
    "### Preparing data"
   ]
  },
  {
   "cell_type": "code",
   "execution_count": 3,
   "metadata": {},
   "outputs": [],
   "source": [
    "df2 = pd.read_csv(\"data/boolean3_train.csv\")\n",
    "df2_test = pd.read_csv(\"data/boolean3_test.csv\")\n",
    "\n",
    "df2[\"text\"] = df2[\"sentence1\"] + df2[\"sentence2\"] \n",
    "df2_test[\"text\"] = df2_test[\"sentence1\"] + df2_test[\"sentence2\"] \n",
    "\n",
    "all_sentences = list(df2.text.values) + list(df2_test.text.values)\n",
    "\n",
    "df2train = df2.iloc[:8500]\n",
    "df2valid = df2.iloc[8500:]"
   ]
  },
  {
   "cell_type": "code",
   "execution_count": 4,
   "metadata": {},
   "outputs": [
    {
     "data": {
      "text/html": [
       "<div>\n",
       "<style scoped>\n",
       "    .dataframe tbody tr th:only-of-type {\n",
       "        vertical-align: middle;\n",
       "    }\n",
       "\n",
       "    .dataframe tbody tr th {\n",
       "        vertical-align: top;\n",
       "    }\n",
       "\n",
       "    .dataframe thead th {\n",
       "        text-align: right;\n",
       "    }\n",
       "</style>\n",
       "<table border=\"1\" class=\"dataframe\">\n",
       "  <thead>\n",
       "    <tr style=\"text-align: right;\">\n",
       "      <th></th>\n",
       "      <th>sentence1</th>\n",
       "      <th>sentence2</th>\n",
       "      <th>and_A</th>\n",
       "      <th>and_B</th>\n",
       "      <th>label</th>\n",
       "      <th>text</th>\n",
       "    </tr>\n",
       "  </thead>\n",
       "  <tbody>\n",
       "    <tr>\n",
       "      <th>8495</th>\n",
       "      <td>Milton went to Timisoara and Tulcea</td>\n",
       "      <td>Shawn didn't go to Tulcea</td>\n",
       "      <td>Milton went to Timisoara</td>\n",
       "      <td>Milton went to Tulcea</td>\n",
       "      <td>0</td>\n",
       "      <td>Milton went to Timisoara and TulceaShawn didn'...</td>\n",
       "    </tr>\n",
       "    <tr>\n",
       "      <th>8496</th>\n",
       "      <td>Alice has traveled to Giurgiu and Craiova</td>\n",
       "      <td>Alice didn't travel to Craiova</td>\n",
       "      <td>Alice has traveled to Giurgiu</td>\n",
       "      <td>Alice has traveled to Craiova</td>\n",
       "      <td>1</td>\n",
       "      <td>Alice has traveled to Giurgiu and CraiovaAlice...</td>\n",
       "    </tr>\n",
       "    <tr>\n",
       "      <th>8497</th>\n",
       "      <td>Blanche went to Slatina and Cluj-Napoca</td>\n",
       "      <td>Blanche didn't go to Bucharest</td>\n",
       "      <td>Blanche went to Slatina</td>\n",
       "      <td>Blanche went to Cluj-Napoca</td>\n",
       "      <td>0</td>\n",
       "      <td>Blanche went to Slatina and Cluj-NapocaBlanche...</td>\n",
       "    </tr>\n",
       "    <tr>\n",
       "      <th>8498</th>\n",
       "      <td>Nicole went to Reghin and Blaj</td>\n",
       "      <td>Nicole didn't go to Reghin</td>\n",
       "      <td>Nicole went to Reghin</td>\n",
       "      <td>Nicole went to Blaj</td>\n",
       "      <td>1</td>\n",
       "      <td>Nicole went to Reghin and BlajNicole didn't go...</td>\n",
       "    </tr>\n",
       "    <tr>\n",
       "      <th>8499</th>\n",
       "      <td>Sheryl went to Cluj-Napoca and Hunedoara</td>\n",
       "      <td>Sheryl didn't go to Hunedoara</td>\n",
       "      <td>Sheryl went to Cluj-Napoca</td>\n",
       "      <td>Sheryl went to Hunedoara</td>\n",
       "      <td>1</td>\n",
       "      <td>Sheryl went to Cluj-Napoca and HunedoaraSheryl...</td>\n",
       "    </tr>\n",
       "  </tbody>\n",
       "</table>\n",
       "</div>"
      ],
      "text/plain": [
       "                                      sentence1  \\\n",
       "8495        Milton went to Timisoara and Tulcea   \n",
       "8496  Alice has traveled to Giurgiu and Craiova   \n",
       "8497    Blanche went to Slatina and Cluj-Napoca   \n",
       "8498             Nicole went to Reghin and Blaj   \n",
       "8499   Sheryl went to Cluj-Napoca and Hunedoara   \n",
       "\n",
       "                           sentence2                          and_A  \\\n",
       "8495       Shawn didn't go to Tulcea       Milton went to Timisoara   \n",
       "8496  Alice didn't travel to Craiova  Alice has traveled to Giurgiu   \n",
       "8497  Blanche didn't go to Bucharest        Blanche went to Slatina   \n",
       "8498      Nicole didn't go to Reghin          Nicole went to Reghin   \n",
       "8499   Sheryl didn't go to Hunedoara     Sheryl went to Cluj-Napoca   \n",
       "\n",
       "                              and_B  label  \\\n",
       "8495          Milton went to Tulcea      0   \n",
       "8496  Alice has traveled to Craiova      1   \n",
       "8497    Blanche went to Cluj-Napoca      0   \n",
       "8498            Nicole went to Blaj      1   \n",
       "8499       Sheryl went to Hunedoara      1   \n",
       "\n",
       "                                                   text  \n",
       "8495  Milton went to Timisoara and TulceaShawn didn'...  \n",
       "8496  Alice has traveled to Giurgiu and CraiovaAlice...  \n",
       "8497  Blanche went to Slatina and Cluj-NapocaBlanche...  \n",
       "8498  Nicole went to Reghin and BlajNicole didn't go...  \n",
       "8499  Sheryl went to Cluj-Napoca and HunedoaraSheryl...  "
      ]
     },
     "execution_count": 4,
     "metadata": {},
     "output_type": "execute_result"
    }
   ],
   "source": [
    "df2train.tail()"
   ]
  },
  {
   "cell_type": "code",
   "execution_count": 5,
   "metadata": {},
   "outputs": [],
   "source": [
    "SOS_token = 0\n",
    "EOS_token = 1\n",
    "\n",
    "class Lang:\n",
    "    def __init__(self, name):\n",
    "        self.name = name\n",
    "        self.word2index = {}\n",
    "        self.word2count = {}\n",
    "        self.index2word = {0: \"SOS\", 1: \"EOS\"}\n",
    "        self.n_words = 2  # Count SOS and EOS\n",
    "\n",
    "    def addSentence(self, sentence):\n",
    "        for word in sentence.split(' '):\n",
    "            self.addWord(word)\n",
    "\n",
    "    def addWord(self, word):\n",
    "        if word not in self.word2index:\n",
    "            self.word2index[word] = self.n_words\n",
    "            self.word2count[word] = 1\n",
    "            self.index2word[self.n_words] = word\n",
    "            self.n_words += 1\n",
    "        else:\n",
    "            self.word2count[word] += 1"
   ]
  },
  {
   "cell_type": "code",
   "execution_count": 6,
   "metadata": {},
   "outputs": [
    {
     "name": "stdout",
     "output_type": "stream",
     "text": [
      "Before: ddddda'''~~çãpoeéééééÈ'''#$$##@!@!@AAS@#12323fdf\n",
      "\n",
      "After: ddddda capoeeeeeee ! ! aas fdf\n"
     ]
    }
   ],
   "source": [
    "# Turn a Unicode string to plain ASCII, thanks to\n",
    "# http://stackoverflow.com/a/518232/2809427\n",
    "def unicodeToAscii(s):\n",
    "    return ''.join(\n",
    "        c for c in unicodedata.normalize('NFD', s)\n",
    "        if unicodedata.category(c) != 'Mn')\n",
    "\n",
    "# Lowercase, trim, and remove non-letter characters\n",
    "\n",
    "def normalizeString(s):\n",
    "    s = unicodeToAscii(s.lower().strip())\n",
    "    s = re.sub(r\"([.!?])\", r\" \\1\", s)\n",
    "    s = re.sub(r\"[^a-zA-Z.!?]+\", r\" \", s)\n",
    "    return s\n",
    "\n",
    "\n",
    "example = \"ddddda'''~~çãpoeéééééÈ'''#$$##@!@!@AAS@#12323fdf\"\n",
    "print(\"Before:\", example)\n",
    "print()\n",
    "print(\"After:\", normalizeString(example))"
   ]
  },
  {
   "cell_type": "code",
   "execution_count": 7,
   "metadata": {},
   "outputs": [],
   "source": [
    "pairs_A = list(zip(list(df2train.sentence1.values), list(df2train.and_A.values)))\n",
    "pairs_B = list(zip(list(df2train.sentence1.values), list(df2train.and_B.values)))\n",
    "pairs_A = [(normalizeString(s1), normalizeString(s2)) for s1, s2 in pairs_A]\n",
    "pairs_B = [(normalizeString(s1), normalizeString(s2)) for s1, s2 in pairs_B]\n",
    "pairs_A_val = list(zip(list(df2valid.sentence1.values), list(df2valid.and_A.values)))\n",
    "pairs_B_val = list(zip(list(df2valid.sentence1.values), list(df2valid.and_B.values)))\n",
    "pairs_A_val = [(normalizeString(s1), normalizeString(s2)) for s1, s2 in pairs_A_val]\n",
    "pairs_B_val = [(normalizeString(s1), normalizeString(s2)) for s1, s2 in pairs_B_val]\n"
   ]
  },
  {
   "cell_type": "code",
   "execution_count": 8,
   "metadata": {},
   "outputs": [],
   "source": [
    "all_text_pairs = zip(all_sentences, all_sentences)\n",
    "all_text_pairs = [(normalizeString(s1), normalizeString(s2)) for s1, s2 in all_text_pairs]"
   ]
  },
  {
   "cell_type": "code",
   "execution_count": 9,
   "metadata": {},
   "outputs": [],
   "source": [
    "def readLangs(lang1, lang2, pairs, reverse=False):\n",
    "    # Reverse pairs, make Lang instances\n",
    "    if reverse:\n",
    "        pairs = [tuple(reversed(p)) for p in pairs]\n",
    "        input_lang = Lang(lang2)\n",
    "        output_lang = Lang(lang1)\n",
    "    else:\n",
    "        input_lang = Lang(lang1)\n",
    "        output_lang = Lang(lang2)\n",
    "\n",
    "    return input_lang, output_lang, pairs"
   ]
  },
  {
   "cell_type": "code",
   "execution_count": 10,
   "metadata": {},
   "outputs": [],
   "source": [
    "f = lambda x: len(x.split(\" \"))\n",
    "\n",
    "MAX_LENGTH = np.max(list(map(f, all_sentences)))"
   ]
  },
  {
   "cell_type": "code",
   "execution_count": 11,
   "metadata": {},
   "outputs": [],
   "source": [
    "def filterPair(p):\n",
    "    cond1 = len(p[0].split(' ')) < MAX_LENGTH\n",
    "    cond2 = len(p[1].split(' ')) < MAX_LENGTH \n",
    "    return cond1 and cond2\n",
    "\n",
    "def filterPairs(pairs):\n",
    "    return [pair for pair in pairs if filterPair(pair)]\n"
   ]
  },
  {
   "cell_type": "code",
   "execution_count": 12,
   "metadata": {},
   "outputs": [],
   "source": [
    "def prepareData(lang1, lang2, pairs, reverse=False):\n",
    "    input_lang, output_lang, pairs = readLangs(lang1, lang2, pairs, reverse)\n",
    "    print(\"Read %s sentence pairs\" % len(pairs))\n",
    "    pairs = filterPairs(pairs)\n",
    "    print(\"Trimmed to %s sentence pairs\" % len(pairs))\n",
    "    print(\"Counting words...\")\n",
    "    for pair in pairs:\n",
    "        input_lang.addSentence(pair[0])\n",
    "        output_lang.addSentence(pair[1])\n",
    "    print(\"Counted words:\")\n",
    "    print(input_lang.name, input_lang.n_words)\n",
    "    print(output_lang.name, output_lang.n_words)\n",
    "    return input_lang, output_lang, pairs"
   ]
  },
  {
   "cell_type": "code",
   "execution_count": 13,
   "metadata": {},
   "outputs": [
    {
     "name": "stdout",
     "output_type": "stream",
     "text": [
      "Read 8500 sentence pairs\n",
      "Trimmed to 8500 sentence pairs\n",
      "Counting words...\n",
      "Counted words:\n",
      "eng_enc 685\n",
      "eng_dec 683\n",
      "\n",
      "Read 11000 sentence pairs\n",
      "Trimmed to 10714 sentence pairs\n",
      "Counting words...\n",
      "Counted words:\n",
      "eng_enc 8008\n",
      "eng_dec 8008\n",
      "\n",
      "\n",
      "Read 1500 sentence pairs\n",
      "Trimmed to 1500 sentence pairs\n",
      "Counting words...\n",
      "Counted words:\n",
      "eng_enc 652\n",
      "eng_dec 612\n"
     ]
    }
   ],
   "source": [
    "_, _, training_pairs_A = prepareData(\"eng_enc\",\n",
    "                                             \"eng_dec\",\n",
    "                                             pairs_A)\n",
    "\n",
    "print()\n",
    "\n",
    "\n",
    "input_lang, _, _ = prepareData(\"eng_enc\",\n",
    "                               \"eng_dec\",\n",
    "                               all_text_pairs)\n",
    "\n",
    "output_lang = copy.deepcopy(input_lang)\n",
    "\n",
    "print()\n",
    "\n",
    "print()\n",
    "_, _, valid_pairs_A = prepareData(\"eng_enc\",\n",
    "                                \"eng_dec\",\n",
    "                                pairs_A_val)"
   ]
  },
  {
   "cell_type": "code",
   "execution_count": 14,
   "metadata": {},
   "outputs": [
    {
     "name": "stdout",
     "output_type": "stream",
     "text": [
      "Read 8500 sentence pairs\n",
      "Trimmed to 8500 sentence pairs\n",
      "Counting words...\n",
      "Counted words:\n",
      "eng_enc 685\n",
      "eng_dec 683\n",
      "\n",
      "Read 1500 sentence pairs\n",
      "Trimmed to 1500 sentence pairs\n",
      "Counting words...\n",
      "Counted words:\n",
      "eng_enc 652\n",
      "eng_dec 608\n"
     ]
    }
   ],
   "source": [
    "_, _, training_pairs_B = prepareData(\"eng_enc\",\n",
    "                                     \"eng_dec\",\n",
    "                                     pairs_B)\n",
    "print()\n",
    "_, _, valid_pairs_B = prepareData(\"eng_enc\",\n",
    "                                \"eng_dec\",\n",
    "                                pairs_B_val)"
   ]
  },
  {
   "cell_type": "markdown",
   "metadata": {},
   "source": [
    "### sentences 2 tensors"
   ]
  },
  {
   "cell_type": "code",
   "execution_count": 15,
   "metadata": {},
   "outputs": [],
   "source": [
    "def indexesFromSentence(lang, sentence):\n",
    "    return [lang.word2index[word] for word in sentence.split(' ')]"
   ]
  },
  {
   "cell_type": "code",
   "execution_count": 16,
   "metadata": {},
   "outputs": [],
   "source": [
    "def tensorFromSentence(lang, sentence):\n",
    "    indexes = indexesFromSentence(lang, sentence)\n",
    "    indexes.append(EOS_token)\n",
    "    return torch.tensor(indexes, dtype=torch.long, device=device).view(-1, 1)"
   ]
  },
  {
   "cell_type": "code",
   "execution_count": 17,
   "metadata": {},
   "outputs": [],
   "source": [
    "def tensorsFromPair(pair):\n",
    "    input_tensor = tensorFromSentence(input_lang, pair[0])\n",
    "    target_tensor = tensorFromSentence(output_lang, pair[1])\n",
    "    return (input_tensor, target_tensor)"
   ]
  },
  {
   "cell_type": "code",
   "execution_count": 18,
   "metadata": {},
   "outputs": [],
   "source": [
    "def tensorsFromTriple(triple):\n",
    "    input_tensor = tensorFromSentence(input_lang, triple[0])\n",
    "    target_tensor = tensorFromSentence(output_lang, triple[1])\n",
    "    label_tensor = torch.tensor(triple[2], dtype=torch.long).view((1))\n",
    "    return (input_tensor, target_tensor, label_tensor)"
   ]
  },
  {
   "cell_type": "markdown",
   "metadata": {},
   "source": [
    "### models"
   ]
  },
  {
   "cell_type": "code",
   "execution_count": 19,
   "metadata": {},
   "outputs": [],
   "source": [
    "class EncoderRNN(nn.Module):\n",
    "    def __init__(self, input_size, hidden_size):\n",
    "        super(EncoderRNN, self).__init__()\n",
    "        self.hidden_size = hidden_size\n",
    "        self.embedding = nn.Embedding(input_size, hidden_size)\n",
    "        self.gru = nn.GRU(hidden_size, hidden_size)\n",
    "\n",
    "    def forward(self, input, hidden):\n",
    "        embedded = self.embedding(input).view(1, 1, -1)\n",
    "        output = embedded\n",
    "        output, hidden = self.gru(output, hidden)\n",
    "        return output, hidden\n",
    "\n",
    "    def initHidden(self):\n",
    "        return torch.zeros(1, 1, self.hidden_size, device=device)"
   ]
  },
  {
   "cell_type": "code",
   "execution_count": 20,
   "metadata": {},
   "outputs": [],
   "source": [
    "class AttnDecoderRNN(nn.Module):\n",
    "    def __init__(self, hidden_size, output_size, dropout_p=0.1, max_length=MAX_LENGTH):\n",
    "        super(AttnDecoderRNN, self).__init__()\n",
    "        self.hidden_size = hidden_size\n",
    "        self.output_size = output_size\n",
    "        self.dropout_p = dropout_p\n",
    "        self.max_length = max_length\n",
    "\n",
    "        self.embedding = nn.Embedding(self.output_size, self.hidden_size)\n",
    "        self.attn = nn.Linear(self.hidden_size * 2, self.max_length)\n",
    "        self.attn_combine = nn.Linear(self.hidden_size * 2, self.hidden_size)\n",
    "        self.dropout = nn.Dropout(self.dropout_p)\n",
    "        self.gru = nn.GRU(self.hidden_size, self.hidden_size)\n",
    "        self.out = nn.Linear(self.hidden_size, self.output_size)\n",
    "\n",
    "    def forward(self, input, hidden, encoder_outputs):\n",
    "        embedded = self.embedding(input).view(1, 1, -1)\n",
    "        embedded = self.dropout(embedded)\n",
    "\n",
    "        attn_weights = F.softmax(\n",
    "            self.attn(torch.cat((embedded[0], hidden[0]), 1)), dim=1)\n",
    "        attn_applied = torch.bmm(attn_weights.unsqueeze(0),\n",
    "                                 encoder_outputs.unsqueeze(0))\n",
    "        output = torch.cat((embedded[0], attn_applied[0]), 1)\n",
    "        output = self.attn_combine(output).unsqueeze(0)\n",
    "\n",
    "        output = F.relu(output)\n",
    "        output, hidden = self.gru(output, hidden)\n",
    "\n",
    "        output = F.log_softmax(self.out(output[0]), dim=1)\n",
    "        return output, hidden, attn_weights\n",
    "\n",
    "    def initHidden(self):\n",
    "        return torch.zeros(1, 1, self.hidden_size, device=device)"
   ]
  },
  {
   "cell_type": "code",
   "execution_count": 21,
   "metadata": {},
   "outputs": [],
   "source": [
    "hidden_size = 256\n",
    "eng_enc_v_size = input_lang.n_words\n",
    "eng_dec_v_size = output_lang.n_words"
   ]
  },
  {
   "cell_type": "code",
   "execution_count": 22,
   "metadata": {},
   "outputs": [
    {
     "data": {
      "text/plain": [
       "8008"
      ]
     },
     "execution_count": 22,
     "metadata": {},
     "output_type": "execute_result"
    }
   ],
   "source": [
    "input_lang.n_words"
   ]
  },
  {
   "cell_type": "code",
   "execution_count": 23,
   "metadata": {},
   "outputs": [],
   "source": [
    "encoderA = EncoderRNN(eng_enc_v_size, hidden_size)\n",
    "decoderA = AttnDecoderRNN(hidden_size, eng_dec_v_size)\n",
    "encoderA.load_state_dict(torch.load(\"b3_encoder1_att.pkl\"))\n",
    "decoderA.load_state_dict(torch.load(\"b3_decoder1_att.pkl\"))"
   ]
  },
  {
   "cell_type": "code",
   "execution_count": 24,
   "metadata": {},
   "outputs": [],
   "source": [
    "encoderB = EncoderRNN(eng_enc_v_size, hidden_size)\n",
    "decoderB = AttnDecoderRNN(hidden_size, eng_dec_v_size)\n",
    "encoderB.load_state_dict(torch.load(\"b3_encoder2_att.pkl\"))\n",
    "decoderB.load_state_dict(torch.load(\"b3_decoder2_att.pkl\"))"
   ]
  },
  {
   "cell_type": "markdown",
   "metadata": {},
   "source": [
    "## translating"
   ]
  },
  {
   "cell_type": "code",
   "execution_count": 25,
   "metadata": {},
   "outputs": [],
   "source": [
    "def translate(encoder,\n",
    "              decoder,\n",
    "              sentence,\n",
    "              max_length=MAX_LENGTH):\n",
    "    with torch.no_grad():\n",
    "        input_tensor = tensorFromSentence(input_lang, sentence)\n",
    "        input_length = input_tensor.size()[0]\n",
    "        encoder_hidden = encoder.initHidden()\n",
    "\n",
    "        encoder_outputs = torch.zeros(\n",
    "            max_length, encoder.hidden_size, device=device)\n",
    "\n",
    "        for ei in range(input_length):\n",
    "            encoder_output, encoder_hidden = encoder(input_tensor[ei],\n",
    "                                                     encoder_hidden)\n",
    "            encoder_outputs[ei] += encoder_output[0, 0]\n",
    "\n",
    "        decoder_input = torch.tensor([[SOS_token]], device=device)  # SOS\n",
    "\n",
    "        decoder_hidden = encoder_hidden\n",
    "\n",
    "        decoded_words = []\n",
    "\n",
    "        for di in range(max_length):\n",
    "            decoder_output, decoder_hidden, decoder_attention = decoder(decoder_input, decoder_hidden, encoder_outputs)\n",
    "            _, topone = decoder_output.data.topk(1)\n",
    "            if topone.item() == EOS_token:\n",
    "                decoded_words.append('<EOS>')\n",
    "                break\n",
    "            else:\n",
    "                decoded_words.append(output_lang.index2word[topone.item()])\n",
    "\n",
    "            decoder_input = topone.squeeze().detach()\n",
    "\n",
    "        return \" \".join(decoded_words)"
   ]
  },
  {
   "cell_type": "markdown",
   "metadata": {},
   "source": [
    "## translation of a trained model: and A"
   ]
  },
  {
   "cell_type": "code",
   "execution_count": 26,
   "metadata": {},
   "outputs": [
    {
     "name": "stdout",
     "output_type": "stream",
     "text": [
      "input_sentence : june and ross have traveled to arad\n",
      "neural translation : alison has traveled to arad <EOS>\n",
      "reference translation : june has traveled to arad <EOS>\n",
      "blue score = 0.76\n",
      "\n",
      "input_sentence : claudia has traveled to mangalia and slobozia\n",
      "neural translation : carl has traveled to mangalia <EOS>\n",
      "reference translation : claudia has traveled to mangalia <EOS>\n",
      "blue score = 0.76\n",
      "\n",
      "input_sentence : byron has traveled to turda and bucharest\n",
      "neural translation : jackie has traveled to turda <EOS>\n",
      "reference translation : byron has traveled to turda <EOS>\n",
      "blue score = 0.76\n",
      "\n"
     ]
    }
   ],
   "source": [
    "for t in training_pairs_A[0:3]:\n",
    "    print(\"input_sentence : \" + t[0])\n",
    "    neural_translation = translate(encoderA,\n",
    "                                   decoderA,\n",
    "                                   t[0],\n",
    "                                   max_length=MAX_LENGTH)\n",
    "    print(\"neural translation : \" + neural_translation)\n",
    "    reference = t[1] + ' <EOS>'\n",
    "    print(\"reference translation : \" + reference)\n",
    "    reference = reference.split(\" \")\n",
    "    candidate = neural_translation.split(\" \")\n",
    "    score = sentence_bleu([reference], candidate)\n",
    "    print(\"blue score = {:.2f}\".format(score))\n",
    "    print()"
   ]
  },
  {
   "cell_type": "markdown",
   "metadata": {},
   "source": [
    "## translation of a trained model: and B"
   ]
  },
  {
   "cell_type": "code",
   "execution_count": 27,
   "metadata": {},
   "outputs": [
    {
     "name": "stdout",
     "output_type": "stream",
     "text": [
      "input_sentence : june and ross have traveled to arad\n",
      "neural translation : sandy has traveled to arad <EOS>\n",
      "reference translation : ross has traveled to arad <EOS>\n",
      "blue score = 0.76\n",
      "\n",
      "input_sentence : claudia has traveled to mangalia and slobozia\n",
      "neural translation : sandy has traveled to slobozia <EOS>\n",
      "reference translation : claudia has traveled to slobozia <EOS>\n",
      "blue score = 0.76\n",
      "\n",
      "input_sentence : byron has traveled to turda and bucharest\n",
      "neural translation : sandy has traveled to bucharest <EOS>\n",
      "reference translation : byron has traveled to bucharest <EOS>\n",
      "blue score = 0.76\n",
      "\n"
     ]
    }
   ],
   "source": [
    "for t in training_pairs_B[0:3]:\n",
    "    print(\"input_sentence : \" + t[0])\n",
    "    neural_translation = translate(encoderB,\n",
    "                                   decoderB,\n",
    "                                   t[0],\n",
    "                                   max_length=MAX_LENGTH)\n",
    "    print(\"neural translation : \" + neural_translation)\n",
    "    reference = t[1] + ' <EOS>'\n",
    "    print(\"reference translation : \" + reference)\n",
    "    reference = reference.split(\" \")\n",
    "    candidate = neural_translation.split(\" \")\n",
    "    score = sentence_bleu([reference], candidate)\n",
    "    print(\"blue score = {:.2f}\".format(score))\n",
    "    print()"
   ]
  },
  {
   "cell_type": "markdown",
   "metadata": {},
   "source": [
    "## Defining the And model\n",
    "\n",
    "model inner working:\n",
    "\n",
    "- $s_1$ is the first sentence (e.g., 'penny is thankful and naomi is alive')\n",
    "\n",
    "- $s_2$ is the second sentence (e.g., 'penny is not alive')\n",
    "\n",
    "- $h_A = dec_{A}(enc_{A}(s_1, \\vec{0}))$\n",
    "\n",
    "- $h_B = dec_{B}(enc_{B}(s_1, \\vec{0}))$\n",
    "\n",
    "- $h_{inf} = h_A \\odot h_B$\n",
    "\n",
    "- $e = enc_{A}(s_2, h_{inf})$\n",
    "\n",
    "- $\\hat{y} = softmax(We + b)$"
   ]
  },
  {
   "cell_type": "code",
   "execution_count": 28,
   "metadata": {},
   "outputs": [],
   "source": [
    "class AndModel(nn.Module):\n",
    "    def __init__(self,\n",
    "                 encoderA,\n",
    "                 decoderA,\n",
    "                 encoderB,\n",
    "                 decoderB,\n",
    "                 hidden_size,\n",
    "                 output_size,\n",
    "                 max_length,\n",
    "                 input_lang,\n",
    "                 target_lang,\n",
    "                 SOS_token=0,\n",
    "                 EOS_token=1):\n",
    "        super(AndModel, self).__init__()\n",
    "        self.max_length = max_length\n",
    "        self.hidden_size = hidden_size\n",
    "        self.output_size = output_size\n",
    "        self.encoderA = encoderA\n",
    "        self.decoderA = decoderA\n",
    "        self.encoderB = encoderB\n",
    "        self.decoderB = decoderB\n",
    "        self.input_lang = input_lang\n",
    "        self.target_lang = target_lang\n",
    "        self.SOS_token = SOS_token\n",
    "        self.EOS_token = EOS_token\n",
    "        self.fc_out = nn.Linear(hidden_size, output_size)\n",
    "        \n",
    "    \n",
    "    def encode(self,\n",
    "               sentence,\n",
    "               encoder,\n",
    "               is_tensor,\n",
    "               hidden=None):\n",
    "        if not is_tensor:\n",
    "            input_tensor = tensorFromSentence(self.input_lang, sentence)\n",
    "        else:\n",
    "            input_tensor = sentence\n",
    "\n",
    "        input_length = input_tensor.size()[0]\n",
    "        \n",
    "        if hidden is None:\n",
    "            encoder_hidden = encoder.initHidden()\n",
    "        else:\n",
    "            encoder_hidden = hidden\n",
    "        \n",
    "        encoder_outputs = torch.zeros(self.max_length,\n",
    "                                      encoder.hidden_size,\n",
    "                                      device=device)\n",
    "        \n",
    "        for ei in range(input_length):\n",
    "            encoder_output, encoder_hidden = encoder(input_tensor[ei],\n",
    "                                        encoder_hidden)\n",
    "            encoder_outputs[ei] += encoder_output[0, 0]\n",
    "            \n",
    "        self.encoder_outputs = encoder_outputs\n",
    "\n",
    "        return encoder_hidden\n",
    "    \n",
    "    \n",
    "    def decode(self,\n",
    "               tensor,\n",
    "               decoder,\n",
    "               out_tensor):\n",
    "        \n",
    "        decoder_input = torch.tensor([[self.SOS_token]], device=device)\n",
    "        decoder_hidden = tensor\n",
    "        decoded_words = []\n",
    "\n",
    "        for di in range(self.max_length):\n",
    "            decoder_output, decoder_hidden, decoder_attention = decoder(\n",
    "                decoder_input, decoder_hidden, self.encoder_outputs)\n",
    "            _, topone = decoder_output.data.topk(1)\n",
    "            if topone.item() == self.EOS_token:\n",
    "                decoded_words.append('<EOS>')\n",
    "                break\n",
    "            else:\n",
    "                decoded_words.append(self.target_lang.index2word[topone.item()])\n",
    "\n",
    "            decoder_input = topone.squeeze().detach()\n",
    "        \n",
    "        if not out_tensor:\n",
    "            output = \" \".join(decoded_words)\n",
    "        else:\n",
    "            output = decoder_hidden\n",
    "\n",
    "        return output\n",
    "    \n",
    "    def sen2vec(self, sentence, encoder, decoder, is_tensor, out_tensor):\n",
    "        encoded = self.encode(sentence, encoder, is_tensor)\n",
    "        vec = self.decode(encoded, decoder, out_tensor)\n",
    "        return vec\n",
    "    \n",
    "    def sen2vecA(self, sentence, is_tensor):\n",
    "        encoded = self.encode(sentence, self.encoderA, is_tensor)\n",
    "        vec = self.decode(encoded, self.decoderA, out_tensor=True)\n",
    "        return vec\n",
    "    \n",
    "    def sen2vecB(self, sentence, is_tensor):\n",
    "        encoded = self.encode(sentence, self.encoderB, is_tensor)\n",
    "        vec = self.decode(encoded, self.decoderB, out_tensor=True)\n",
    "        return vec\n",
    "    \n",
    "    def forward(self, s1, s2):\n",
    "        hA = self.sen2vecA(s1, is_tensor=True)\n",
    "        hB = self.sen2vecB(s1, is_tensor=True)\n",
    "        h_inf = hA * hB\n",
    "        e = self.encode(s2,\n",
    "                        self.encoderA,\n",
    "                        hidden=h_inf,\n",
    "                        is_tensor=True)\n",
    "        output = self.fc_out(e).squeeze(1)\n",
    "        \n",
    "        return output\n",
    "    \n",
    "\n",
    "    def predict(self, s1, s2):\n",
    "        out = self.forward(s1, s2)\n",
    "        softmax = nn.Softmax(dim=1)\n",
    "        out = softmax(out)\n",
    "        indices = torch.argmax(out, 1)\n",
    "        return indices\n",
    "\n",
    "        \n"
   ]
  },
  {
   "cell_type": "code",
   "execution_count": 29,
   "metadata": {},
   "outputs": [],
   "source": [
    "addmodel = AndModel(encoderA,\n",
    "                    decoderA,\n",
    "                     encoderB,\n",
    "                     decoderB,\n",
    "                     hidden_size=256,\n",
    "                     output_size=2,\n",
    "                     max_length=MAX_LENGTH,\n",
    "                     input_lang=input_lang,\n",
    "                     target_lang=output_lang)"
   ]
  },
  {
   "cell_type": "markdown",
   "metadata": {},
   "source": [
    "Test encoding decoding"
   ]
  },
  {
   "cell_type": "code",
   "execution_count": 30,
   "metadata": {},
   "outputs": [
    {
     "name": "stdout",
     "output_type": "stream",
     "text": [
      "===========\n",
      "s1:\n",
      "\n",
      "june and ross have traveled to arad\n",
      "\n",
      "inference A:\n",
      "\n",
      "alison has traveled to arad <EOS>\n",
      "\n",
      "inference B:\n",
      "\n",
      "sandy has traveled to arad <EOS>\n",
      "===========\n",
      "s1:\n",
      "\n",
      "claudia has traveled to mangalia and slobozia\n",
      "\n",
      "inference A:\n",
      "\n",
      "carl has traveled to mangalia <EOS>\n",
      "\n",
      "inference B:\n",
      "\n",
      "sandy has traveled to slobozia <EOS>\n",
      "===========\n",
      "s1:\n",
      "\n",
      "byron has traveled to turda and bucharest\n",
      "\n",
      "inference A:\n",
      "\n",
      "ida has traveled to turda <EOS>\n",
      "\n",
      "inference B:\n",
      "\n",
      "sandy has traveled to bucharest <EOS>\n"
     ]
    }
   ],
   "source": [
    "for ex in training_pairs_B[0:3]:\n",
    "    print(\"===========\")\n",
    "    ex = ex[0]\n",
    "    print(\"s1:\\n\")\n",
    "    print(ex)\n",
    "    print()\n",
    "\n",
    "    \n",
    "    ex_A = addmodel.sen2vec(ex,\n",
    "                     addmodel.encoderA,\n",
    "                     addmodel.decoderA,\n",
    "                     is_tensor=False,\n",
    "                     out_tensor=False)\n",
    "    \n",
    "    ex_B = addmodel.sen2vec(ex,\n",
    "                     addmodel.encoderB,\n",
    "                     addmodel.decoderB,\n",
    "                     is_tensor=False,\n",
    "                     out_tensor=False)\n",
    "\n",
    "    print(\"inference A:\\n\")\n",
    "    print(ex_A)\n",
    "    print()\n",
    "    print(\"inference B:\\n\")\n",
    "    print(ex_B)"
   ]
  },
  {
   "cell_type": "code",
   "execution_count": 31,
   "metadata": {},
   "outputs": [
    {
     "name": "stdout",
     "output_type": "stream",
     "text": [
      "===========\n",
      "s1:\n",
      "\n",
      "june and ross have traveled to arad\n",
      "\n",
      "tensor([[[ 0.1697,  0.9347,  0.9853, -0.8919, -0.0046,  0.9809, -0.9320,\n",
      "          -0.4514,  0.8629, -0.7364, -0.5077, -0.5935,  0.2813,  0.8639,\n",
      "          -0.5543,  0.8544,  0.9859, -0.9967,  0.6453, -0.7732, -0.7629,\n",
      "          -0.5876,  0.5228,  0.7457,  0.2595,  0.2357,  0.9091,  0.9487,\n",
      "          -0.7338, -0.6838, -0.2229, -0.8125,  0.9054, -0.2216,  0.5890,\n",
      "           0.7054, -0.8504, -0.4614, -0.7693,  0.6924, -0.4411, -0.8324,\n",
      "           0.7949, -0.8999, -0.3454,  0.7004,  0.9272,  0.9528,  0.6876,\n",
      "          -0.9074, -0.0933,  0.8170,  0.8431,  0.5195, -0.6247,  0.3167,\n",
      "          -0.8730, -0.4152, -0.2664,  0.6637,  0.4746,  0.8283,  0.9781,\n",
      "           0.8948,  0.5664, -0.9503, -0.1864,  0.9452, -0.2453, -0.9494,\n",
      "           0.8501, -0.9629, -0.8990, -0.9871, -0.8252,  0.7552,  0.7003,\n",
      "           0.2267,  0.1123,  0.9208, -0.4885, -0.6336,  0.7250,  0.3864,\n",
      "           0.9513,  0.8810, -0.7214,  0.5915, -0.3207,  0.4260, -0.4441,\n",
      "          -0.1918,  0.6449,  0.2449, -0.6903,  0.8109, -0.8032, -0.7853,\n",
      "          -0.9714, -0.3477,  0.9561, -0.6768, -0.5482,  0.3289,  0.4581,\n",
      "           0.9198, -0.5035,  0.7125, -0.9156, -0.2354,  0.9387,  0.6164,\n",
      "           0.9855,  0.6889,  0.6664,  0.6974,  0.4037,  0.2928,  0.8718,\n",
      "           0.1504, -0.1227,  0.6000,  0.0234,  0.8068,  0.9449,  0.9327,\n",
      "           0.0736, -0.3938,  0.7319, -0.1847, -0.9943,  0.9398, -0.7228,\n",
      "          -0.2059, -0.9489, -0.7848,  0.5286, -0.2651, -0.6294,  0.9523,\n",
      "           0.8611, -0.4828, -0.9832,  0.9570, -0.8859, -0.7840, -0.7154,\n",
      "           0.6076, -0.6027, -0.8134, -0.4446, -0.4122,  0.3888, -0.9098,\n",
      "          -0.9513, -0.9424, -0.5966, -0.6751, -0.1622, -0.8141, -0.7769,\n",
      "           0.9940, -0.6925, -0.4786, -0.3009,  0.7918,  0.9581,  0.0060,\n",
      "          -0.1760,  0.1111, -0.9848, -0.9336, -0.8889,  0.2884, -0.2576,\n",
      "          -0.7256,  0.9693,  0.6682, -0.6207, -0.3198,  0.2584, -0.6734,\n",
      "          -0.1823,  0.8822, -0.9107,  0.6418,  0.9297,  0.6391,  0.5071,\n",
      "          -0.7707,  0.1520,  0.8557,  0.8797,  0.9605,  0.7813,  0.8871,\n",
      "           0.0028, -0.9449,  0.1507,  0.6073, -0.4492, -0.9123,  0.1677,\n",
      "           0.9386, -0.8046, -0.9443, -0.9763,  0.8020, -0.8765,  0.4693,\n",
      "          -0.3855,  0.4772, -0.8221, -0.4521, -0.1561,  0.4129, -0.8468,\n",
      "           0.9548,  0.7713,  0.9776, -0.4789,  0.9477, -0.3962,  0.6217,\n",
      "          -0.2914,  0.9356, -0.9195,  0.1117, -0.1436,  0.8577, -0.0566,\n",
      "           0.8169,  0.8811, -0.0514,  0.4134, -0.7669, -0.6927, -0.8070,\n",
      "           0.2844, -0.0215,  0.4088, -0.2272,  0.5653, -0.2437, -0.7542,\n",
      "          -0.2905, -0.7073, -0.2837, -0.8144,  0.9438, -0.4748, -0.0892,\n",
      "          -0.8229, -0.5147, -0.7366, -0.9699]]], grad_fn=<ViewBackward>)\n",
      "\n",
      "tensor([[[ 0.6741,  0.9601, -0.1958,  0.9585,  0.6611,  0.8280, -0.3549,\n",
      "           0.4007,  0.9138, -0.1853,  0.6503,  0.8974, -0.5182,  0.6296,\n",
      "          -0.4611, -0.0020,  0.2329,  0.8018,  0.9452, -0.8394, -0.4026,\n",
      "           0.9605,  0.7364,  0.8669,  0.7430, -0.8876,  0.9823,  0.9746,\n",
      "           0.5271,  0.6837,  0.4288,  0.2630, -0.7001,  0.8036, -0.4041,\n",
      "           0.6638, -0.9385,  0.8448, -0.8248,  0.6452,  0.8815,  0.4234,\n",
      "           0.6348,  0.9849,  0.8335, -0.6113,  0.9067, -0.0531,  0.9886,\n",
      "           0.6293,  0.0899,  0.8556,  0.7027, -0.9702, -0.9415, -0.0625,\n",
      "          -0.2965,  0.9311,  0.9152,  0.8489,  0.8031, -0.3012,  0.8986,\n",
      "          -0.7574, -0.7784, -0.6363,  0.9601, -0.5608,  0.8264,  0.7654,\n",
      "           0.3148,  0.2796, -0.8522, -0.3437,  0.8450,  0.0434, -0.8820,\n",
      "           0.6597, -0.6608,  0.9019, -0.2746,  0.7599, -0.9253,  0.7556,\n",
      "           0.6578,  0.8543,  0.9087,  0.9195, -0.7739,  0.1858, -0.8837,\n",
      "          -0.9134, -0.5070,  0.7704,  0.9622, -0.9467,  0.9188,  0.4538,\n",
      "           0.8995,  0.2621, -0.9339,  0.8079, -0.7392,  0.9848, -0.9315,\n",
      "          -0.9494,  0.1548,  0.9280,  0.9903,  0.6141,  0.0691,  0.9918,\n",
      "          -0.7980,  0.9554,  0.9947,  0.8107, -0.0030,  0.8469, -0.6408,\n",
      "           0.7796, -0.4332, -0.4837, -0.4401, -0.8841,  0.8002,  0.5362,\n",
      "           0.9823, -0.8267,  0.9505,  0.6227, -0.8744, -0.8566, -0.7508,\n",
      "           0.8774,  0.3430,  0.9475, -0.5860, -0.7285,  0.1584, -0.0243,\n",
      "          -0.8558, -0.9258,  0.9803,  0.0823,  0.2756, -0.3034, -0.8770,\n",
      "           0.9638,  0.9312, -0.4357, -0.5918, -0.9363, -0.6271, -0.8225,\n",
      "          -0.8604, -0.9577,  0.4984, -0.8706,  0.9604,  0.7407,  0.7001,\n",
      "          -0.3960, -0.6444, -0.2408, -0.6442, -0.0185,  0.6011,  0.9600,\n",
      "          -0.9132,  0.7370, -0.9971, -0.8918,  0.7152, -0.9193,  0.9179,\n",
      "           0.3768, -0.6530, -0.4101, -0.6591,  0.2117, -0.8118,  0.7684,\n",
      "           0.5477,  0.3433,  0.9041, -0.8487,  0.9339, -0.6406, -0.8615,\n",
      "           0.9235, -0.4971,  0.5805,  0.1490, -0.9703,  0.6278,  0.2782,\n",
      "          -0.6946, -0.9895,  0.4201, -0.2835,  0.6131, -0.8544, -0.6372,\n",
      "           0.6982,  0.9764, -0.9340,  0.7438,  0.9017,  0.9655,  0.9141,\n",
      "           0.7053, -0.4980, -0.0120,  0.9578,  0.5673,  0.6253, -0.0482,\n",
      "           0.6111, -0.7652,  0.7857, -0.3656,  0.8560, -0.3161,  0.4869,\n",
      "          -0.2377,  0.4259,  0.7425, -0.7243, -0.6786, -0.9665, -0.9735,\n",
      "           0.8555,  0.8017, -0.6016,  0.2546, -0.9659,  0.7431,  0.0483,\n",
      "           0.9185, -0.9888,  0.6473,  0.2570,  0.7310, -0.2505, -0.7489,\n",
      "          -0.4164,  0.4053, -0.7505,  0.5949, -0.1152, -0.8550,  0.8181,\n",
      "          -0.9869, -0.5820,  0.9598,  0.2329]]], grad_fn=<ViewBackward>)\n"
     ]
    }
   ],
   "source": [
    "for ex in training_pairs_B[0:1]:\n",
    "    print(\"===========\")\n",
    "    ex = ex[0]\n",
    "    print(\"s1:\\n\")\n",
    "    print(ex)\n",
    "    print()\n",
    "\n",
    "    ex_A = addmodel.sen2vecA(ex,is_tensor=False)\n",
    "    ex_B = addmodel.sen2vecB(ex,is_tensor=False)\n",
    "    \n",
    "    print(ex_A)\n",
    "    print()\n",
    "    print(ex_B)"
   ]
  },
  {
   "cell_type": "code",
   "execution_count": 32,
   "metadata": {},
   "outputs": [],
   "source": [
    "train_triples = zip(list(df2train.sentence1.values), list(df2train.sentence2.values), list(df2train.label.values))\n",
    "train_triples = [(normalizeString(s1), normalizeString(s2), l) for s1, s2, l in train_triples]\n",
    "train_triples_t = [tensorsFromTriple(t) for t in train_triples]"
   ]
  },
  {
   "cell_type": "code",
   "execution_count": 33,
   "metadata": {},
   "outputs": [],
   "source": [
    "train_triples = zip(list(df2train.sentence1.values), list(df2train.sentence2.values), list(df2train.label.values))\n",
    "train_triples = [(normalizeString(s1), normalizeString(s2), l) for s1, s2, l in train_triples]\n",
    "train_triples_t = [tensorsFromTriple(t) for t in train_triples]"
   ]
  },
  {
   "cell_type": "code",
   "execution_count": 34,
   "metadata": {},
   "outputs": [],
   "source": [
    "valid_triples = zip(list(df2valid.sentence1.values), list(df2valid.sentence2.values), list(df2valid.label.values))\n",
    "valid_triples = [(normalizeString(s1), normalizeString(s2), l) for s1, s2, l in valid_triples]\n",
    "valid_triples_t = [tensorsFromTriple(t) for t in train_triples]"
   ]
  },
  {
   "cell_type": "code",
   "execution_count": 35,
   "metadata": {},
   "outputs": [],
   "source": [
    "test_triples = zip(list(df2_test.sentence1.values), list(df2_test.sentence2.values), list(df2_test.label.values))\n",
    "test_triples = [(normalizeString(s1), normalizeString(s2), l) for s1, s2, l in test_triples]\n",
    "test_triples_t = [tensorsFromTriple(t) for t in test_triples]"
   ]
  },
  {
   "cell_type": "code",
   "execution_count": 36,
   "metadata": {},
   "outputs": [
    {
     "name": "stdout",
     "output_type": "stream",
     "text": [
      "('june and ross have traveled to arad', 'ross didn t travel to arad', 1)\n",
      "(tensor([[ 2],\n",
      "        [ 3],\n",
      "        [ 4],\n",
      "        [ 5],\n",
      "        [ 6],\n",
      "        [ 7],\n",
      "        [12],\n",
      "        [ 1]]), tensor([[ 4],\n",
      "        [ 9],\n",
      "        [10],\n",
      "        [11],\n",
      "        [ 7],\n",
      "        [12],\n",
      "        [ 1]]), tensor([1]))\n"
     ]
    }
   ],
   "source": [
    "example = train_triples[0]\n",
    "print(example)\n",
    "example_t = train_triples_t[0]\n",
    "print(example_t)"
   ]
  },
  {
   "cell_type": "markdown",
   "metadata": {},
   "source": [
    "## Prediction BEFORE training"
   ]
  },
  {
   "cell_type": "code",
   "execution_count": 37,
   "metadata": {},
   "outputs": [
    {
     "data": {
      "image/png": "[encoded data removed]",
      "text/plain": [
       "<Figure size 648x648 with 2 Axes>"
      ]
     },
     "metadata": {},
     "output_type": "display_data"
    }
   ],
   "source": [
    "n_iters = 32\n",
    "training_pairs_little = [random.choice(train_triples_t) for i in range(n_iters)]\n",
    "predictions = []\n",
    "labels = []\n",
    "\n",
    "for i in range(n_iters):\n",
    "    s1, s2, label = training_pairs_little[i]\n",
    "    pred = addmodel.predict(s1, s2)\n",
    "    label = label.item()\n",
    "    pred = pred.item()\n",
    "    predictions.append(pred)\n",
    "    labels.append(label)\n",
    "\n",
    "plot_confusion_matrix(labels,\n",
    "                      predictions,\n",
    "                      classes=[\"no\", \"yes\"],\n",
    "                      path=\"confusion_matrix.png\")"
   ]
  },
  {
   "cell_type": "markdown",
   "metadata": {},
   "source": [
    "### Training functions"
   ]
  },
  {
   "cell_type": "code",
   "execution_count": 38,
   "metadata": {},
   "outputs": [],
   "source": [
    "def CEtrain(s1_tensor,\n",
    "            s2_tensor,\n",
    "            label,\n",
    "            model,\n",
    "            optimizer,\n",
    "            criterion):\n",
    "    \n",
    "    model.train()\n",
    "    optimizer.zero_grad()\n",
    "    logits = model(s1_tensor, s2_tensor)\n",
    "    loss = criterion(logits, label)\n",
    "    loss.backward()\n",
    "    optimizer.step()\n",
    "    return loss"
   ]
  },
  {
   "cell_type": "markdown",
   "metadata": {},
   "source": [
    "Test CEtrain"
   ]
  },
  {
   "cell_type": "code",
   "execution_count": 39,
   "metadata": {},
   "outputs": [],
   "source": [
    "CE = nn.CrossEntropyLoss()\n",
    "addmodel_opt = torch.optim.SGD(addmodel.parameters(), lr= 0.3)\n",
    "\n",
    "loss = CEtrain(s1_tensor=example_t[0],\n",
    "               s2_tensor=example_t[1],\n",
    "               label=example_t[2],\n",
    "               model=addmodel,\n",
    "               optimizer=addmodel_opt,\n",
    "               criterion=CE)\n",
    "assert type(loss.item()) == float "
   ]
  },
  {
   "cell_type": "markdown",
   "metadata": {},
   "source": [
    "## Little example of training"
   ]
  },
  {
   "cell_type": "code",
   "execution_count": 40,
   "metadata": {},
   "outputs": [
    {
     "name": "stdout",
     "output_type": "stream",
     "text": [
      "epoch 1/13 3m 28s mean loss = 0.81\n",
      "epoch 2/13 3m 29s mean loss = 0.76\n",
      "epoch 3/13 3m 29s mean loss = 0.75\n",
      "epoch 4/13 3m 23s mean loss = 0.74\n",
      "epoch 5/13 3m 43s mean loss = 0.73\n",
      "epoch 6/13 3m 46s mean loss = 0.73\n",
      "epoch 7/13 3m 32s mean loss = 0.72\n",
      "epoch 8/13 3m 38s mean loss = 0.72\n",
      "epoch 9/13 3m 38s mean loss = 0.71\n",
      "epoch 10/13 3m 28s mean loss = 0.70\n",
      "epoch 11/13 3m 34s mean loss = 0.71\n",
      "epoch 12/13 3m 40s mean loss = 0.69\n",
      "epoch 13/13 3m 32s mean loss = 0.69\n"
     ]
    },
    {
     "data": {
      "image/png": "[encoded data removed]",
      "text/plain": [
       "<Figure size 1080x288 with 1 Axes>"
      ]
     },
     "metadata": {},
     "output_type": "display_data"
    }
   ],
   "source": [
    "epochs = 13\n",
    "learning_rate = 0.01\n",
    "\n",
    "CE = nn.CrossEntropyLoss()\n",
    "\n",
    "\n",
    "addmodel = AndModel(encoderA,\n",
    "                    decoderA,\n",
    "                     encoderB,\n",
    "                     decoderB,\n",
    "                     hidden_size=256,\n",
    "                     output_size=2,\n",
    "                     max_length=MAX_LENGTH,\n",
    "                     input_lang=input_lang,\n",
    "                     target_lang=output_lang)\n",
    "addmodel_opt = torch.optim.SGD(addmodel.parameters(), lr= learning_rate)\n",
    "\n",
    "\n",
    "losses_per_epoch = []\n",
    "\n",
    "for i in range(epochs):\n",
    "    losses = []\n",
    "    start = time.time()\n",
    "    n_iters = 1000\n",
    "    training_pairs_little = [random.choice(train_triples_t) for i in range(n_iters)]\n",
    "    for t in training_pairs_little:\n",
    "        s1, s2, label = t    \n",
    "        loss = CEtrain(s1_tensor=s1,\n",
    "                       s2_tensor=s2,\n",
    "                       label=label,\n",
    "                       model=addmodel,\n",
    "                       optimizer=addmodel_opt,\n",
    "                       criterion=CE)\n",
    "        losses.append(loss.item())\n",
    "    mean_loss = np.mean(losses)\n",
    "    losses_per_epoch.append(mean_loss)\n",
    "    print(\"epoch {}/{}\".format(i+1, epochs), timeSince(start), \"mean loss = {:.2f}\".format(mean_loss))\n",
    "\n",
    "simple_step_plot([losses_per_epoch],\n",
    "                 \"loss\",\n",
    "                 \"loss example ({} epochs)\".format(epochs),\n",
    "                 \"loss_example.png\",\n",
    "                  figsize=(15,4))"
   ]
  },
  {
   "cell_type": "markdown",
   "metadata": {},
   "source": [
    "## Prediction AFTER training"
   ]
  },
  {
   "cell_type": "code",
   "execution_count": 54,
   "metadata": {},
   "outputs": [
    {
     "data": {
      "image/png": "[encoded data removed]",
      "text/plain": [
       "<Figure size 648x648 with 2 Axes>"
      ]
     },
     "metadata": {},
     "output_type": "display_data"
    }
   ],
   "source": [
    "n_iters = 32\n",
    "training_pairs_little = [random.choice(train_triples_t) for i in range(n_iters)]\n",
    "predictions = []\n",
    "labels = []\n",
    "\n",
    "for i in range(n_iters):\n",
    "    s1, s2, label = training_pairs_little[i]\n",
    "    pred = addmodel.predict(s1, s2)\n",
    "    label = label.item()\n",
    "    pred = pred.item()\n",
    "    predictions.append(pred)\n",
    "    labels.append(label)\n",
    "\n",
    "plot_confusion_matrix(labels,\n",
    "                      predictions,\n",
    "                      classes=[\"no\", \"yes\"],\n",
    "                      path=\"confusion_matrix.png\")"
   ]
  },
  {
   "cell_type": "code",
   "execution_count": 55,
   "metadata": {},
   "outputs": [
    {
     "data": {
      "image/png": "[encoded data removed]",
      "text/plain": [
       "<Figure size 648x648 with 2 Axes>"
      ]
     },
     "metadata": {},
     "output_type": "display_data"
    }
   ],
   "source": [
    "n_iters = len(valid_triples_t)\n",
    "training_pairs_little = [random.choice(valid_triples_t) for i in range(n_iters)]\n",
    "predictions = []\n",
    "labels = []\n",
    "\n",
    "for i in range(n_iters):\n",
    "    s1, s2, label = training_pairs_little[i]\n",
    "    pred = addmodel.predict(s1, s2)\n",
    "    label = label.item()\n",
    "    pred = pred.item()\n",
    "    predictions.append(pred)\n",
    "    labels.append(label)\n",
    "\n",
    "plot_confusion_matrix(labels,\n",
    "                      predictions,\n",
    "                      classes=[\"no\", \"yes\"],\n",
    "                      path=\"confusion_matrix.png\")"
   ]
  },
  {
   "cell_type": "code",
   "execution_count": null,
   "metadata": {},
   "outputs": [],
   "source": []
  }
 ],
 "metadata": {
  "kernelspec": {
   "display_name": "Python 3",
   "language": "python",
   "name": "python3"
  },
  "language_info": {
   "codemirror_mode": {
    "name": "ipython",
    "version": 3
   },
   "file_extension": ".py",
   "mimetype": "text/x-python",
   "name": "python",
   "nbconvert_exporter": "python",
   "pygments_lexer": "ipython3",
   "version": "3.5.2"
  }
 },
 "nbformat": 4,
 "nbformat_minor": 2
}
