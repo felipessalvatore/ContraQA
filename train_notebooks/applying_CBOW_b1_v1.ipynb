{
 "cells": [
  {
   "cell_type": "markdown",
   "metadata": {},
   "source": [
    "# Training a RNN model using the basic negation data (version 1)\n",
    "\n",
    "\n",
    "## Here we will use the RNN model to distinguish between to kind of sentences:\n",
    "\n",
    "- 1) A, not A (contradiction)\n",
    "\n",
    "- 2) not A, A (contradiction)\n",
    "\n",
    "- 3) A, not B (non-contradiction)\n",
    "\n",
    "- 4) not B, A (non-contradiction)\n",
    "\n"
   ]
  },
  {
   "cell_type": "code",
   "execution_count": 1,
   "metadata": {},
   "outputs": [],
   "source": [
    "# all imports\n",
    "import numpy as np\n",
    "import pandas as pd\n",
    "import torch\n",
    "from torchtext import data\n",
    "import torch.optim as optim\n",
    "from sklearn.decomposition import PCA\n",
    "from sklearn.manifold import TSNE, Isomap\n",
    "\n",
    "import os\n",
    "import inspect\n",
    "import sys\n",
    "import itertools\n",
    "\n",
    "almost_current = os.path.abspath(inspect.getfile(inspect.currentframe()))\n",
    "currentdir = os.path.dirname(almost_current)\n",
    "parentdir = os.path.dirname(currentdir)\n",
    "sys.path.insert(0, parentdir)\n",
    "\n",
    "from plots.functions  import plot_confusion_matrix, plot_histogram_from_labels\n",
    "from text_processing.functions import simple_pre_process_text_df, simple_pre_process_text\n",
    "\n",
    "import seaborn as sns\n",
    "import matplotlib.pyplot as plt\n",
    "% matplotlib inline"
   ]
  },
  {
   "cell_type": "code",
   "execution_count": 2,
   "metadata": {},
   "outputs": [],
   "source": [
    "train_data_path = os.path.join(parentdir,\n",
    "                               \"text_generator\",\n",
    "                                \"b1_v1_train.csv\")\n",
    "\n",
    "test_data_path = os.path.join(parentdir,\n",
    "                              \"text_generator\",\n",
    "                              \"b1_v1_test.csv\")\n",
    "\n",
    "train_data = pd.read_csv(train_data_path)\n",
    "test_data = pd.read_csv(test_data_path)"
   ]
  },
  {
   "cell_type": "code",
   "execution_count": 3,
   "metadata": {},
   "outputs": [
    {
     "data": {
      "text/html": [
       "<div>\n",
       "<style scoped>\n",
       "    .dataframe tbody tr th:only-of-type {\n",
       "        vertical-align: middle;\n",
       "    }\n",
       "\n",
       "    .dataframe tbody tr th {\n",
       "        vertical-align: top;\n",
       "    }\n",
       "\n",
       "    .dataframe thead th {\n",
       "        text-align: right;\n",
       "    }\n",
       "</style>\n",
       "<table border=\"1\" class=\"dataframe\">\n",
       "  <thead>\n",
       "    <tr style=\"text-align: right;\">\n",
       "      <th></th>\n",
       "      <th>sentence1</th>\n",
       "      <th>sentence2</th>\n",
       "      <th>label</th>\n",
       "    </tr>\n",
       "  </thead>\n",
       "  <tbody>\n",
       "    <tr>\n",
       "      <th>0</th>\n",
       "      <td>Brooke is not helpful</td>\n",
       "      <td>Brooke is helpful</td>\n",
       "      <td>1</td>\n",
       "    </tr>\n",
       "    <tr>\n",
       "      <th>1</th>\n",
       "      <td>Boo is not clever</td>\n",
       "      <td>Boo is clever</td>\n",
       "      <td>1</td>\n",
       "    </tr>\n",
       "    <tr>\n",
       "      <th>2</th>\n",
       "      <td>Doe is not poor</td>\n",
       "      <td>Doe is poor</td>\n",
       "      <td>1</td>\n",
       "    </tr>\n",
       "    <tr>\n",
       "      <th>3</th>\n",
       "      <td>Hodgson is ambitious</td>\n",
       "      <td>Hodgson is not ambitious</td>\n",
       "      <td>1</td>\n",
       "    </tr>\n",
       "    <tr>\n",
       "      <th>4</th>\n",
       "      <td>Hobbes is proud</td>\n",
       "      <td>Marston is not easy</td>\n",
       "      <td>0</td>\n",
       "    </tr>\n",
       "  </tbody>\n",
       "</table>\n",
       "</div>"
      ],
      "text/plain": [
       "               sentence1                  sentence2  label\n",
       "0  Brooke is not helpful          Brooke is helpful      1\n",
       "1      Boo is not clever              Boo is clever      1\n",
       "2        Doe is not poor                Doe is poor      1\n",
       "3   Hodgson is ambitious   Hodgson is not ambitious      1\n",
       "4        Hobbes is proud        Marston is not easy      0"
      ]
     },
     "execution_count": 3,
     "metadata": {},
     "output_type": "execute_result"
    }
   ],
   "source": [
    "train_data.head()"
   ]
  },
  {
   "cell_type": "code",
   "execution_count": 4,
   "metadata": {},
   "outputs": [
    {
     "data": {
      "text/html": [
       "<div>\n",
       "<style scoped>\n",
       "    .dataframe tbody tr th:only-of-type {\n",
       "        vertical-align: middle;\n",
       "    }\n",
       "\n",
       "    .dataframe tbody tr th {\n",
       "        vertical-align: top;\n",
       "    }\n",
       "\n",
       "    .dataframe thead th {\n",
       "        text-align: right;\n",
       "    }\n",
       "</style>\n",
       "<table border=\"1\" class=\"dataframe\">\n",
       "  <thead>\n",
       "    <tr style=\"text-align: right;\">\n",
       "      <th></th>\n",
       "      <th>sentence1</th>\n",
       "      <th>sentence2</th>\n",
       "      <th>label</th>\n",
       "    </tr>\n",
       "  </thead>\n",
       "  <tbody>\n",
       "    <tr>\n",
       "      <th>0</th>\n",
       "      <td>Oakley is brave</td>\n",
       "      <td>Oakley is not brave</td>\n",
       "      <td>1</td>\n",
       "    </tr>\n",
       "    <tr>\n",
       "      <th>1</th>\n",
       "      <td>Jean is not alive</td>\n",
       "      <td>Jean is alive</td>\n",
       "      <td>1</td>\n",
       "    </tr>\n",
       "    <tr>\n",
       "      <th>2</th>\n",
       "      <td>Starlit is proud</td>\n",
       "      <td>Starlit is not proud</td>\n",
       "      <td>1</td>\n",
       "    </tr>\n",
       "    <tr>\n",
       "      <th>3</th>\n",
       "      <td>Temple is not delightful</td>\n",
       "      <td>Westcott is wrong</td>\n",
       "      <td>0</td>\n",
       "    </tr>\n",
       "    <tr>\n",
       "      <th>4</th>\n",
       "      <td>Jazz is jolly</td>\n",
       "      <td>Jazz is not jolly</td>\n",
       "      <td>1</td>\n",
       "    </tr>\n",
       "  </tbody>\n",
       "</table>\n",
       "</div>"
      ],
      "text/plain": [
       "                  sentence1              sentence2  label\n",
       "0           Oakley is brave    Oakley is not brave      1\n",
       "1         Jean is not alive          Jean is alive      1\n",
       "2          Starlit is proud   Starlit is not proud      1\n",
       "3  Temple is not delightful      Westcott is wrong      0\n",
       "4             Jazz is jolly      Jazz is not jolly      1"
      ]
     },
     "execution_count": 4,
     "metadata": {},
     "output_type": "execute_result"
    }
   ],
   "source": [
    "test_data.head()"
   ]
  },
  {
   "cell_type": "markdown",
   "metadata": {},
   "source": [
    "## Putting the sentences together"
   ]
  },
  {
   "cell_type": "code",
   "execution_count": 5,
   "metadata": {},
   "outputs": [],
   "source": [
    "train_data[\"text\"] = train_data[\"sentence1\"]  + \", \" + train_data[\"sentence2\"]\n",
    "test_data[\"text\"] = test_data[\"sentence1\"]  + \", \" + test_data[\"sentence2\"]\n",
    "train_data.drop([\"sentence1\", \"sentence2\"], axis=1, inplace=True)\n",
    "test_data.drop([\"sentence1\", \"sentence2\"], axis=1, inplace=True)\n",
    "train_data = train_data[[\"text\", \"label\"]]\n",
    "test_data = test_data[[\"text\", \"label\"]] "
   ]
  },
  {
   "cell_type": "code",
   "execution_count": 6,
   "metadata": {},
   "outputs": [
    {
     "data": {
      "text/html": [
       "<div>\n",
       "<style scoped>\n",
       "    .dataframe tbody tr th:only-of-type {\n",
       "        vertical-align: middle;\n",
       "    }\n",
       "\n",
       "    .dataframe tbody tr th {\n",
       "        vertical-align: top;\n",
       "    }\n",
       "\n",
       "    .dataframe thead th {\n",
       "        text-align: right;\n",
       "    }\n",
       "</style>\n",
       "<table border=\"1\" class=\"dataframe\">\n",
       "  <thead>\n",
       "    <tr style=\"text-align: right;\">\n",
       "      <th></th>\n",
       "      <th>text</th>\n",
       "      <th>label</th>\n",
       "    </tr>\n",
       "  </thead>\n",
       "  <tbody>\n",
       "    <tr>\n",
       "      <th>0</th>\n",
       "      <td>Brooke is not helpful,  Brooke is helpful</td>\n",
       "      <td>1</td>\n",
       "    </tr>\n",
       "    <tr>\n",
       "      <th>1</th>\n",
       "      <td>Boo is not clever,  Boo is clever</td>\n",
       "      <td>1</td>\n",
       "    </tr>\n",
       "    <tr>\n",
       "      <th>2</th>\n",
       "      <td>Doe is not poor,  Doe is poor</td>\n",
       "      <td>1</td>\n",
       "    </tr>\n",
       "    <tr>\n",
       "      <th>3</th>\n",
       "      <td>Hodgson is ambitious,  Hodgson is not ambitious</td>\n",
       "      <td>1</td>\n",
       "    </tr>\n",
       "    <tr>\n",
       "      <th>4</th>\n",
       "      <td>Hobbes is proud,  Marston is not easy</td>\n",
       "      <td>0</td>\n",
       "    </tr>\n",
       "  </tbody>\n",
       "</table>\n",
       "</div>"
      ],
      "text/plain": [
       "                                              text  label\n",
       "0        Brooke is not helpful,  Brooke is helpful      1\n",
       "1                Boo is not clever,  Boo is clever      1\n",
       "2                    Doe is not poor,  Doe is poor      1\n",
       "3  Hodgson is ambitious,  Hodgson is not ambitious      1\n",
       "4            Hobbes is proud,  Marston is not easy      0"
      ]
     },
     "execution_count": 6,
     "metadata": {},
     "output_type": "execute_result"
    }
   ],
   "source": [
    "train_data.head()"
   ]
  },
  {
   "cell_type": "code",
   "execution_count": 7,
   "metadata": {},
   "outputs": [
    {
     "data": {
      "text/html": [
       "<div>\n",
       "<style scoped>\n",
       "    .dataframe tbody tr th:only-of-type {\n",
       "        vertical-align: middle;\n",
       "    }\n",
       "\n",
       "    .dataframe tbody tr th {\n",
       "        vertical-align: top;\n",
       "    }\n",
       "\n",
       "    .dataframe thead th {\n",
       "        text-align: right;\n",
       "    }\n",
       "</style>\n",
       "<table border=\"1\" class=\"dataframe\">\n",
       "  <thead>\n",
       "    <tr style=\"text-align: right;\">\n",
       "      <th></th>\n",
       "      <th>text</th>\n",
       "      <th>label</th>\n",
       "    </tr>\n",
       "  </thead>\n",
       "  <tbody>\n",
       "    <tr>\n",
       "      <th>0</th>\n",
       "      <td>Oakley is brave,  Oakley is not brave</td>\n",
       "      <td>1</td>\n",
       "    </tr>\n",
       "    <tr>\n",
       "      <th>1</th>\n",
       "      <td>Jean is not alive,  Jean is alive</td>\n",
       "      <td>1</td>\n",
       "    </tr>\n",
       "    <tr>\n",
       "      <th>2</th>\n",
       "      <td>Starlit is proud,  Starlit is not proud</td>\n",
       "      <td>1</td>\n",
       "    </tr>\n",
       "    <tr>\n",
       "      <th>3</th>\n",
       "      <td>Temple is not delightful,  Westcott is wrong</td>\n",
       "      <td>0</td>\n",
       "    </tr>\n",
       "    <tr>\n",
       "      <th>4</th>\n",
       "      <td>Jazz is jolly,  Jazz is not jolly</td>\n",
       "      <td>1</td>\n",
       "    </tr>\n",
       "  </tbody>\n",
       "</table>\n",
       "</div>"
      ],
      "text/plain": [
       "                                           text  label\n",
       "0         Oakley is brave,  Oakley is not brave      1\n",
       "1             Jean is not alive,  Jean is alive      1\n",
       "2       Starlit is proud,  Starlit is not proud      1\n",
       "3  Temple is not delightful,  Westcott is wrong      0\n",
       "4             Jazz is jolly,  Jazz is not jolly      1"
      ]
     },
     "execution_count": 7,
     "metadata": {},
     "output_type": "execute_result"
    }
   ],
   "source": [
    "test_data.head()"
   ]
  },
  {
   "cell_type": "code",
   "execution_count": 8,
   "metadata": {},
   "outputs": [],
   "source": [
    "labels_legend = ['no', 'yes']\n",
    "anwser2int = {'no':0, 'yes':1}\n",
    "int2anwser = {i[1]: i[0] for i in anwser2int.items()}\n",
    "train_labels = [int2anwser[i] for i in train_data[\"label\"].values]\n",
    "test_labels = [int2anwser[i] for i in train_data[\"label\"].values]"
   ]
  },
  {
   "cell_type": "code",
   "execution_count": 9,
   "metadata": {},
   "outputs": [
    {
     "data": {
      "image/png": "[encoded data removed]",
      "text/plain": [
       "<Figure size 432x288 with 1 Axes>"
      ]
     },
     "metadata": {},
     "output_type": "display_data"
    }
   ],
   "source": [
    "plot_histogram_from_labels(train_labels, labels_legend, \"train data\")"
   ]
  },
  {
   "cell_type": "code",
   "execution_count": 10,
   "metadata": {},
   "outputs": [
    {
     "data": {
      "image/png": "[encoded data removed]",
      "text/plain": [
       "<Figure size 432x288 with 1 Axes>"
      ]
     },
     "metadata": {},
     "output_type": "display_data"
    }
   ],
   "source": [
    "plot_histogram_from_labels(test_labels, labels_legend, \"train data\")"
   ]
  },
  {
   "cell_type": "markdown",
   "metadata": {},
   "source": [
    "### Applying preprocessing function"
   ]
  },
  {
   "cell_type": "code",
   "execution_count": 11,
   "metadata": {},
   "outputs": [
    {
     "name": "stdout",
     "output_type": "stream",
     "text": [
      "\n",
      "=== BEFORE ===\n",
      "\n",
      "Doe is not poor,  Doe is poor\n",
      "\n",
      "Hodgson is ambitious,  Hodgson is not ambitious\n",
      "\n",
      "Hobbes is proud,  Marston is not easy\n",
      "\n",
      "=== AFTER ===\n",
      "\n",
      "doe is not poor doe is poor\n",
      "\n",
      "hodgson is ambitious hodgson is not ambitious\n",
      "\n",
      "hobbes is proud marston is not easy\n"
     ]
    }
   ],
   "source": [
    "print(\"\\n=== BEFORE ===\\n\")\n",
    "\n",
    "print(train_data[\"text\"].values[2])\n",
    "print()\n",
    "print(train_data[\"text\"].values[3])\n",
    "print()\n",
    "print(train_data[\"text\"].values[4])\n",
    "\n",
    "\n",
    "print(\"\\n=== AFTER ===\\n\")\n",
    "simple_pre_process_text_df(train_data)\n",
    "simple_pre_process_text_df(test_data)\n",
    "print(train_data[\"text\"].values[2])\n",
    "print()\n",
    "print(train_data[\"text\"].values[3])\n",
    "print()\n",
    "print(train_data[\"text\"].values[4])"
   ]
  },
  {
   "cell_type": "markdown",
   "metadata": {},
   "source": [
    "## Saving the new version of the data in a csv"
   ]
  },
  {
   "cell_type": "code",
   "execution_count": 12,
   "metadata": {},
   "outputs": [],
   "source": [
    "train_data_path = os.path.join(parentdir,\n",
    "                               \"text_generator\",\n",
    "                                \"b1_v1_train_processed.csv\")\n",
    "\n",
    "test_data_path = os.path.join(parentdir,\n",
    "                              \"text_generator\",\n",
    "                              \"b1_v1_test_processed.csv\")\n",
    "\n",
    "\n",
    "train_data.to_csv(train_data_path, header=False, index=False)\n",
    "test_data.to_csv(test_data_path, header=False, index=False)"
   ]
  },
  {
   "cell_type": "markdown",
   "metadata": {},
   "source": [
    "### Starting with torch"
   ]
  },
  {
   "cell_type": "markdown",
   "metadata": {},
   "source": [
    "We use the `data.Field` to hold all the text data:\n",
    "\n",
    "> Field class models common text processing datatypes that can be represented\n",
    "by tensors.  It holds a Vocab object that defines the set of possible values\n",
    "for elements of the field and their corresponding numerical representations.\n",
    "The Field object also holds other parameters relating to how a datatype\n",
    "should be numericalized, such as a tokenization method and the kind of\n",
    "Tensor that should be produced.\n",
    "\n",
    "and the class `data.LabelField` to hold the labels:\n",
    "\n",
    "> A label field is a shallow wrapper around a standard field designed to hold labels\n",
    "for a classification task. Its only use is to set the unk_token and sequential to `None` by default."
   ]
  },
  {
   "cell_type": "code",
   "execution_count": 13,
   "metadata": {},
   "outputs": [],
   "source": [
    "TEXT = data.Field(tokenize='spacy')\n",
    "LABEL = data.LabelField(tensor_type=torch.FloatTensor)"
   ]
  },
  {
   "cell_type": "markdown",
   "metadata": {},
   "source": [
    "And so we can create a dataset by using the class `data.TabularDataset` and the data in the `csv` format"
   ]
  },
  {
   "cell_type": "code",
   "execution_count": 14,
   "metadata": {},
   "outputs": [],
   "source": [
    "train = data.TabularDataset(path=train_data_path,\n",
    "                            format=\"csv\",\n",
    "                            fields=[('text', TEXT), ('label', LABEL)])\n",
    "\n",
    "test = data.TabularDataset(path=test_data_path,\n",
    "                            format=\"csv\",\n",
    "                            fields=[('text', TEXT), ('label', LABEL)])"
   ]
  },
  {
   "cell_type": "markdown",
   "metadata": {},
   "source": [
    "Creating the train-valid split (80$\\%$ for training data and 20$\\%$ for validation data)"
   ]
  },
  {
   "cell_type": "code",
   "execution_count": 15,
   "metadata": {},
   "outputs": [],
   "source": [
    "train, valid = train.split(0.8)"
   ]
  },
  {
   "cell_type": "code",
   "execution_count": 16,
   "metadata": {},
   "outputs": [
    {
     "name": "stdout",
     "output_type": "stream",
     "text": [
      "len(train): 8000\n",
      "len(valid): 2000\n",
      "len(test): 1000\n"
     ]
    }
   ],
   "source": [
    "print('len(train):', len(train))\n",
    "print('len(valid):', len(valid))\n",
    "print('len(test):', len(test))"
   ]
  },
  {
   "cell_type": "markdown",
   "metadata": {},
   "source": [
    "Constructing the Vocabulary, using at maximun 25000 words"
   ]
  },
  {
   "cell_type": "code",
   "execution_count": 17,
   "metadata": {},
   "outputs": [],
   "source": [
    "TEXT.build_vocab(train, max_size=25000)\n",
    "LABEL.build_vocab(train)"
   ]
  },
  {
   "cell_type": "code",
   "execution_count": 18,
   "metadata": {},
   "outputs": [
    {
     "name": "stdout",
     "output_type": "stream",
     "text": [
      "len(TEXT.vocab): 1359\n",
      "len(LABEL.vocab): 2\n"
     ]
    }
   ],
   "source": [
    "print('len(TEXT.vocab):', len(TEXT.vocab))\n",
    "print('len(LABEL.vocab):', len(LABEL.vocab))"
   ]
  },
  {
   "cell_type": "markdown",
   "metadata": {},
   "source": [
    "Printing the 20 most frequent words"
   ]
  },
  {
   "cell_type": "code",
   "execution_count": 19,
   "metadata": {},
   "outputs": [
    {
     "name": "stdout",
     "output_type": "stream",
     "text": [
      "[('is', 16000), ('not', 8000), ('thankful', 385), ('odd', 375), ('mealy', 375), ('inexpensive', 374), ('proud', 373), ('careful', 370), ('witty', 368), ('faithful', 368), ('better', 366), ('happy', 366), ('eager', 365), ('zealous', 361), ('clever', 357), ('victorious', 355), ('kind', 355), ('delightful', 354), ('gentle', 350), ('brave', 348)]\n"
     ]
    }
   ],
   "source": [
    "print(TEXT.vocab.freqs.most_common(20))"
   ]
  },
  {
   "cell_type": "markdown",
   "metadata": {},
   "source": [
    "- `.itos` is the `int2str` method from the object `TEXT.vocab` \n",
    "- `.stoi` is the `str2int` method from the object `TEXT.vocab` "
   ]
  },
  {
   "cell_type": "code",
   "execution_count": 20,
   "metadata": {},
   "outputs": [
    {
     "name": "stdout",
     "output_type": "stream",
     "text": [
      "TEXT.vocab.itos\n",
      "word index\n",
      "<unk> 0\n",
      "<pad> 1\n",
      "is 2\n",
      "not 3\n",
      "thankful 4\n",
      "mealy 5\n",
      "odd 6\n",
      "inexpensive 7\n",
      "proud 8\n",
      "careful 9\n",
      "\n",
      "TEXT.vocab.stoi\n",
      "word index\n",
      "i 0\n",
      "love 970\n",
      "trump 0\n"
     ]
    }
   ],
   "source": [
    "print(\"TEXT.vocab.itos\")\n",
    "print(\"word\", \"index\")\n",
    "\n",
    "for i, word in enumerate(TEXT.vocab.itos[:10]):\n",
    "    print(word, i)\n",
    "\n",
    "\n",
    "print()\n",
    "print(\"TEXT.vocab.stoi\")\n",
    "print(\"word\", \"index\")\n",
    "for word in \"i love trump\".split():\n",
    "    print(word, TEXT.vocab.stoi[word])"
   ]
  },
  {
   "cell_type": "code",
   "execution_count": 21,
   "metadata": {},
   "outputs": [],
   "source": [
    "class RNNConfig(object):\n",
    "    \"\"\"\n",
    "    Holds logistic regression model hyperparams.\n",
    "    \n",
    "    :param height: image height\n",
    "    :type heights: int\n",
    "    :param width: image width\n",
    "    :type width: int\n",
    "    :param channels: image channels\n",
    "    :type channels: int\n",
    "    :param batch_size: batch size for training\n",
    "    :type batch_size: int\n",
    "    :param epochs: number of epochs\n",
    "    :type epochs: int\n",
    "    :param save_step: when step % save_step == 0, the model\n",
    "                      parameters are saved.\n",
    "    :type save_step: int\n",
    "    :param learning_rate: learning rate for the optimizer\n",
    "    :type learning_rate: float\n",
    "    :param momentum: momentum param\n",
    "    :type momentum: float\n",
    "    \"\"\"\n",
    "    def __init__(self,\n",
    "                 vocab_size=25000,\n",
    "                 batch_size=32,\n",
    "                 embedding_dim=510,\n",
    "                 rnn_dim=100,\n",
    "                 output_dim=2,\n",
    "                 epochs=8,\n",
    "                 learning_rate=0.5,\n",
    "                 momentum=0.1):\n",
    "        self.vocab_size = vocab_size\n",
    "        self.batch_size = batch_size\n",
    "        self.embedding_dim = embedding_dim\n",
    "        self.rnn_dim = rnn_dim\n",
    "        self.output_dim = output_dim\n",
    "        self.epochs = epochs\n",
    "        self.learning_rate = learning_rate\n",
    "        self.momentum = momentum\n",
    "        \n",
    "\n",
    "    def __str__(self):\n",
    "        \"\"\"\n",
    "        Get all attributs values.\n",
    "        :return: all hyperparams as a string\n",
    "        :rtype: str\n",
    "        \"\"\"\n",
    "        status = \"vocab_size = {}\\n\".format(self.vocab_size)\n",
    "        status += \"batch_size = {}\\n\".format(self.batch_size)\n",
    "        status += \"embedding_dim = {}\\n\".format(self.embedding_dim)\n",
    "        status += \"rnn_dim = {}\\n\".format(self.rnn_dim)\n",
    "        status += \"output_dim = {}\\n\".format(self.output_dim)\n",
    "        status += \"epochs = {}\\n\".format(self.epochs)\n",
    "        status += \"learning_rate = {}\\n\".format(self.learning_rate)\n",
    "        status += \"momentum = {}\\n\".format(self.momentum)\n",
    "        return status"
   ]
  },
  {
   "cell_type": "markdown",
   "metadata": {},
   "source": [
    "Hyperparams"
   ]
  },
  {
   "cell_type": "code",
   "execution_count": 22,
   "metadata": {},
   "outputs": [
    {
     "name": "stdout",
     "output_type": "stream",
     "text": [
      "vocab_size = 1359\n",
      "batch_size = 32\n",
      "embedding_dim = 510\n",
      "rnn_dim = 100\n",
      "output_dim = 2\n",
      "epochs = 8\n",
      "learning_rate = 0.5\n",
      "momentum = 0.1\n",
      "\n"
     ]
    }
   ],
   "source": [
    "config = RNNConfig(vocab_size=len(TEXT.vocab),\n",
    "                   output_dim=len(LABEL.vocab))\n",
    "print(config)"
   ]
  },
  {
   "cell_type": "markdown",
   "metadata": {},
   "source": [
    "To define an iterator that batches examples of similar lengths together we use the class `data.BucketIterator`. \n"
   ]
  },
  {
   "cell_type": "code",
   "execution_count": 23,
   "metadata": {},
   "outputs": [],
   "source": [
    "class DataHolder():\n",
    "    \"\"\"\n",
    "    Class to store all data using the data.BucketIterator class.\n",
    "\n",
    "    \"\"\"\n",
    "    def __init__(self,\n",
    "                 config,\n",
    "                 train,\n",
    "                 valid,\n",
    "                 test):        \n",
    "        self.train_iter = data.BucketIterator(train, batch_size=config.batch_size, repeat=False)\n",
    "        self.valid_iter = data.BucketIterator(valid, batch_size=config.batch_size, repeat=False)\n",
    "        self.test_iter = data.BucketIterator(test, batch_size=len(test), repeat=False)\n",
    "        \n",
    "        \n",
    "b1data = DataHolder(config, train, valid, test) "
   ]
  },
  {
   "cell_type": "markdown",
   "metadata": {},
   "source": [
    "We can see some batch examples, here we should remember that the batch shape is `[sent len, batch size]`"
   ]
  },
  {
   "cell_type": "code",
   "execution_count": 24,
   "metadata": {},
   "outputs": [
    {
     "name": "stdout",
     "output_type": "stream",
     "text": [
      "batch.text.shape = torch.Size([7, 32])\n",
      "batch.text.type = torch.LongTensor\n",
      "\n",
      "batch.label.shape = torch.Size([32])\n",
      "batch.label.type = torch.FloatTensor\n",
      "\n",
      "\n",
      "['kyson', 'is', 'not', 'proud', 'posey', 'is', 'powerful'] \n",
      "['kimberly', 'is', 'not', 'silly', 'udell', 'is', 'famous'] \n",
      "['reid', 'is', 'not', 'wonderful', 'hobson', 'is', 'important'] \n",
      "['cuthbert', 'is', 'zealous', 'cuthbert', 'is', 'not', 'zealous'] \n",
      "['harper', 'is', 'zealous', 'elfrida', 'is', 'not', 'mealy'] \n",
      "['westbrook', 'is', 'silly', 'westbrook', 'is', 'not', 'silly'] \n",
      "['dale', 'is', 'not', 'shy', 'dale', 'is', 'shy'] \n",
      "['roxbury', 'is', 'not', 'wonderful', 'birney', 'is', 'careful'] \n",
      "['hart', 'is', 'wonderful', 'hart', 'is', 'not', 'wonderful'] \n",
      "['alden', 'is', 'not', 'rich', 'alden', 'is', 'rich'] \n",
      "['millie', 'is', 'calm', 'drummer', 'is', 'not', 'mushy'] \n",
      "['lisa', 'is', 'aggressive', 'gardner', 'is', 'not', 'mushy'] \n",
      "['burleigh', 'is', 'zealous', 'burleigh', 'is', 'not', 'zealous'] \n",
      "['salmon', 'is', 'not', 'vast', 'salmon', 'is', 'vast'] \n",
      "['durham', 'is', 'not', 'gentle', 'dena', 'is', 'odd'] \n",
      "['harrison', 'is', 'not', 'nice', 'cliff', 'is', 'important'] \n",
      "['solstice', 'is', 'not', 'jolly', 'hart', 'is', 'inexpensive'] \n",
      "['jagger', 'is', 'not', 'happy', 'rylan', 'is', 'shy'] \n",
      "['chad', 'is', 'not', 'poor', 'chad', 'is', 'poor'] \n",
      "['hancock', 'is', 'not', 'famous', 'hancock', 'is', 'famous'] \n",
      "['sinclair', 'is', 'not', 'famous', 'sinclair', 'is', 'famous'] \n",
      "['lucy', 'is', 'aggressive', 'royal', 'is', 'not', 'clever'] \n",
      "['creighton', 'is', 'not', 'aggressive', 'lincoln', 'is', 'odd'] \n",
      "['wilfred', 'is', 'wonderful', 'wilfred', 'is', 'not', 'wonderful'] \n",
      "['alvin', 'is', 'not', 'unimportant', 'alvin', 'is', 'unimportant'] \n",
      "['bolton', 'is', 'not', 'calm', 'perkin', 'is', 'hallowed'] \n",
      "['shaw', 'is', 'not', 'delightful', 'reeve', 'is', 'gifted'] \n",
      "['mike', 'is', 'not', 'easy', 'mike', 'is', 'easy'] \n",
      "['patti', 'is', 'not', 'delightful', 'tanner', 'is', 'careful'] \n",
      "['coleridge', 'is', 'eager', 'bruin', 'is', 'not', 'inexpensive'] \n",
      "['nash', 'is', 'wonderful', 'wilder', 'is', 'not', 'tender'] \n",
      "['jones', 'is', 'eager', 'trisha', 'is', 'not', 'odd'] "
     ]
    }
   ],
   "source": [
    "batch = next(iter(b1data.train_iter))\n",
    "\n",
    "print(\"batch.text.shape = {}\".format(batch.text.shape))\n",
    "print(\"batch.text.type = {}\\n\".format(batch.text.type()))\n",
    "print(\"batch.label.shape = {}\".format(batch.label.shape))\n",
    "print(\"batch.label.type = {}\\n\".format(batch.label.type()))\n",
    "\n",
    "batch_t = batch.text.transpose(0, 1)\n",
    "for example in batch_t:\n",
    "    print()\n",
    "    print([TEXT.vocab.itos[i] for i in example], end=\" \")"
   ]
  },
  {
   "cell_type": "markdown",
   "metadata": {},
   "source": [
    "Here we will define the RNN model using the `nn.module` class."
   ]
  },
  {
   "cell_type": "code",
   "execution_count": 25,
   "metadata": {},
   "outputs": [],
   "source": [
    "import torch.nn as nn\n",
    "\n",
    "class CBOW(nn.Module):\n",
    "    def __init__(self, config):\n",
    "        super().__init__()\n",
    "\n",
    "        self.embedding = nn.Embedding(config.vocab_size, config.embedding_dim)\n",
    "        self.fc = nn.Linear(config.embedding_dim, config.output_dim)\n",
    "        \n",
    "    def forward(self, x):\n",
    "        \"\"\"\n",
    "        Apply the model to the input x\n",
    "        \n",
    "        :param x: indices of the sentence\n",
    "        :type x: torch.Tensor(shape=[sent len, batch size]\n",
    "                              dtype=torch.int64)\n",
    "        \"\"\"        \n",
    "        embedded = self.embedding(x)\n",
    "        averaged_sentence = torch.mean(embedded, dim=0)\n",
    "        f = nn.Sigmoid()  \n",
    "        out = f(self.fc(averaged_sentence))\n",
    "#         out = self.fc(averaged_sentence)\n",
    "        return out \n",
    "\n",
    "    def predict(self, x):\n",
    "        out = self.forward(x)\n",
    "        softmax = nn.Softmax(dim=1)\n",
    "        out = softmax(out)\n",
    "        indices = torch.argmax(out, 1)\n",
    "        return indices\n",
    "\n",
    "    def evaluate_bach(self, batch):\n",
    "        prediction = model.predict(batch.text)\n",
    "        labels = batch.label.type('torch.LongTensor')\n",
    "        correct = torch.sum(torch.eq(prediction, labels)).float()\n",
    "        accuracy = float(correct/labels.shape[0])\n",
    "        return accuracy, prediction, labels"
   ]
  },
  {
   "cell_type": "code",
   "execution_count": 26,
   "metadata": {},
   "outputs": [
    {
     "data": {
      "image/png": "[encoded data removed]",
      "text/plain": [
       "<Figure size 648x648 with 2 Axes>"
      ]
     },
     "metadata": {},
     "output_type": "display_data"
    }
   ],
   "source": [
    "model = CBOW(config)\n",
    "\n",
    "test_bach = next(iter(b1data.test_iter))\n",
    "_, pred, labels = model.evaluate_bach(test_bach)\n",
    "\n",
    "plot_confusion_matrix(truth=labels.numpy(),\n",
    "                      predictions=pred.numpy(),\n",
    "                      save=False,\n",
    "                      path=\"rnn_confusion_matrix_b1_v2.png\",\n",
    "                      classes=labels_legend)"
   ]
  },
  {
   "cell_type": "markdown",
   "metadata": {},
   "source": [
    "## Training functions"
   ]
  },
  {
   "cell_type": "code",
   "execution_count": 27,
   "metadata": {},
   "outputs": [],
   "source": [
    "def train_in_epoch(model, iterator, optimizer, criterion, negative=False):\n",
    "    \"\"\"\n",
    "    Train the model using all the data from the iterator \n",
    "\n",
    "    :param model: RNN classification model\n",
    "    :type model: RNN \n",
    "    :param iterator: data iterator\n",
    "    :type iterator: data.BucketIterator\n",
    "    :param optimizer: torch optimizer\n",
    "    :type optimizer: optim.SGD, etc.\n",
    "    :param criterion: loss criterion \n",
    "    :type criterion: nn.CrossEntropyLoss\n",
    "    :return: mean loss, mean accuracy\n",
    "    :rtype: float, float    \n",
    "    \"\"\"\n",
    "    \n",
    "    epoch_loss = 0\n",
    "    epoch_acc = 0\n",
    "    \n",
    "    model.train()\n",
    "    \n",
    "    for batch in iterator:\n",
    "        \n",
    "        optimizer.zero_grad()\n",
    "        \n",
    "        logits = model(batch.text)\n",
    "        label = batch.label.type(\"torch.LongTensor\")\n",
    "        loss = criterion(logits, label)\n",
    "        if negative:\n",
    "            loss = - loss\n",
    "        acc, _, _ = model.evaluate_bach(batch)\n",
    "        \n",
    "        loss.backward()\n",
    "        optimizer.step()\n",
    "        \n",
    "        epoch_loss += loss.item()\n",
    "        epoch_acc += acc\n",
    "\n",
    "    mean_loss = epoch_loss / len(iterator)\n",
    "    mean_acc = epoch_acc / len(iterator)\n",
    "        \n",
    "    return mean_loss, mean_acc\n",
    "\n",
    "\n",
    "def get_valid_loss(model, valid_iter, criterion):\n",
    "    \"\"\"\n",
    "    Get the valid loss\n",
    "\n",
    "    :param model: RNN classification model\n",
    "    :type model: \n",
    "    :param valid_iter: valid iterator\n",
    "    :type valid_iter: data.BucketIterator\n",
    "    :param criterion: loss criterion \n",
    "    :type criterion: nn.CrossEntropyLoss\n",
    "    :return: valid loss\n",
    "    :rtype: Tensor(shape=[])    \n",
    "    \"\"\"\n",
    "    batch = next(iter(valid_iter))\n",
    "    model.eval()\n",
    "    logits = model(batch.text)\n",
    "    label = batch.label.type(\"torch.LongTensor\")\n",
    "    loss = criterion(logits, label)\n",
    "    return loss\n",
    "\n",
    "def training_loop_text_classification(model, config, dataholder, model_path, verbose=True, negative=False):\n",
    "    \"\"\"\n",
    "    Train a model for text classification\n",
    "\n",
    "    :param model: RNN classification model\n",
    "    :type model: \n",
    "    :param config: image classification model\n",
    "    :type config: LogisticRegression or DFN\n",
    "    :param dataholder: data\n",
    "    :type dataholder: DataHolder or DataHolderGentle\n",
    "    :param model_path: path to save model params\n",
    "    :type model_path: str\n",
    "    :param verbose: param to control print\n",
    "    :type verbose: bool\n",
    "    \"\"\"\n",
    "    optimizer = optim.SGD(model.parameters(),\n",
    "                          lr=config.learning_rate,\n",
    "                          momentum=config.momentum)\n",
    "    \n",
    "    criterion = nn.CrossEntropyLoss()\n",
    "    device = torch.device('cuda' if torch.cuda.is_available() else 'cpu')\n",
    "    model = model.to(device)\n",
    "    criterion = criterion.to(device)\n",
    "    train_iter = dataholder.train_iter\n",
    "    valid_iter = dataholder.valid_iter\n",
    "    \n",
    "    best_valid_loss = float(\"inf\")\n",
    "    \n",
    "    all_train_loss = []\n",
    "    all_valid_loss = []\n",
    "    \n",
    "    for epoch in range(config.epochs):\n",
    "\n",
    "        if verbose:\n",
    "            print(\"epoch = ({}/{})\".format(epoch + 1, config.epochs))\n",
    "        train_loss, train_acc = train_in_epoch(model, train_iter, optimizer, criterion, negative)\n",
    "        all_train_loss.append(train_loss)\n",
    "        valid_loss = get_valid_loss(model, valid_iter, criterion)\n",
    "        all_valid_loss.append(valid_loss)\n",
    "\n",
    "        msg = \"\\ntrain_loss = {:.3f} | valid_loss = {:.3f}\".format(float(train_loss),float(valid_loss))\n",
    "\n",
    "        if float(valid_loss) < best_valid_loss:\n",
    "            torch.save(model.state_dict(), model_path)\n",
    "            best_valid_loss = float(valid_loss)\n",
    "\n",
    "        if verbose:\n",
    "            print(msg)\n",
    "            print(\"train_acc = {}\\n\".format(train_acc))\n",
    "\n",
    "    if verbose:\n",
    "        x = np.arange(1, len(all_train_loss) + 1, 1)\n",
    "        fig, ax = plt.subplots(1, 1, figsize=(12, 5))\n",
    "        ax.plot(x, all_train_loss, label='mean train loss')\n",
    "        ax.plot(x, all_valid_loss, label='mean valid loss')\n",
    "        ax.legend()\n",
    "        plt.xlabel('epoch')\n",
    "        plt.ylabel('mean loss')\n",
    "        plt.title('Train and valid mean loss')\n",
    "        plt.grid(True)\n",
    "        plt.show()"
   ]
  },
  {
   "cell_type": "markdown",
   "metadata": {},
   "source": [
    "## Training the model"
   ]
  },
  {
   "cell_type": "code",
   "execution_count": 28,
   "metadata": {},
   "outputs": [
    {
     "name": "stdout",
     "output_type": "stream",
     "text": [
      "epoch = (1/8)\n",
      "\n",
      "train_loss = 0.695 | valid_loss = 0.694\n",
      "train_acc = 0.48225\n",
      "\n",
      "epoch = (2/8)\n",
      "\n",
      "train_loss = 0.688 | valid_loss = 0.690\n",
      "train_acc = 0.50425\n",
      "\n",
      "epoch = (3/8)\n",
      "\n",
      "train_loss = 0.680 | valid_loss = 0.703\n",
      "train_acc = 0.533375\n",
      "\n",
      "epoch = (4/8)\n",
      "\n",
      "train_loss = 0.673 | valid_loss = 0.676\n",
      "train_acc = 0.561875\n",
      "\n",
      "epoch = (5/8)\n",
      "\n",
      "train_loss = 0.668 | valid_loss = 0.650\n",
      "train_acc = 0.582125\n",
      "\n",
      "epoch = (6/8)\n",
      "\n",
      "train_loss = 0.662 | valid_loss = 0.679\n",
      "train_acc = 0.596625\n",
      "\n",
      "epoch = (7/8)\n",
      "\n",
      "train_loss = 0.658 | valid_loss = 0.653\n",
      "train_acc = 0.603875\n",
      "\n",
      "epoch = (8/8)\n",
      "\n",
      "train_loss = 0.655 | valid_loss = 0.690\n",
      "train_acc = 0.60875\n",
      "\n"
     ]
    },
    {
     "data": {
      "image/png": "[encoded data removed]",
      "text/plain": [
       "<Figure size 864x360 with 1 Axes>"
      ]
     },
     "metadata": {},
     "output_type": "display_data"
    }
   ],
   "source": [
    "training_loop_text_classification(model,\n",
    "                                  config,\n",
    "                                  b1data,\n",
    "                                  \"cbow_v1.pkl\")"
   ]
  },
  {
   "cell_type": "markdown",
   "metadata": {},
   "source": [
    "## Looking at the model after training"
   ]
  },
  {
   "cell_type": "code",
   "execution_count": 29,
   "metadata": {},
   "outputs": [
    {
     "data": {
      "image/png": "[encoded data removed]",
      "text/plain": [
       "<Figure size 648x648 with 2 Axes>"
      ]
     },
     "metadata": {},
     "output_type": "display_data"
    }
   ],
   "source": [
    "model = CBOW(config)\n",
    "model.load_state_dict(torch.load('cbow_v1.pkl'))\n",
    "_, pred, labels = model.evaluate_bach(test_bach)\n",
    "\n",
    "plot_confusion_matrix(truth=labels.numpy(),\n",
    "                      predictions=pred.numpy(),\n",
    "                      save=False,\n",
    "                      path=\"rnn_confusion_matrix.png\",\n",
    "                      classes=labels_legend)"
   ]
  },
  {
   "cell_type": "markdown",
   "metadata": {},
   "source": [
    "## Plotting the results for differtent embedding sizes"
   ]
  },
  {
   "cell_type": "code",
   "execution_count": 30,
   "metadata": {},
   "outputs": [
    {
     "name": "stdout",
     "output_type": "stream",
     "text": [
      "size =  10\n",
      "size =  20\n",
      "size =  30\n",
      "size =  40\n",
      "size =  50\n",
      "size =  60\n",
      "size =  70\n",
      "size =  80\n",
      "size =  90\n",
      "size =  100\n",
      "size =  120\n",
      "size =  160\n",
      "size =  200\n"
     ]
    },
    {
     "data": {
      "image/png": "[encoded data removed]",
      "text/plain": [
       "<Figure size 864x360 with 1 Axes>"
      ]
     },
     "metadata": {},
     "output_type": "display_data"
    }
   ],
   "source": [
    "list_of_sizes = [10, 20, 30, 40, 50, 60, 70, 80, 90, 100, 120, 160, 200]\n",
    "results = []\n",
    "\n",
    "for size in list_of_sizes:\n",
    "    print(\"size = \", size)\n",
    "    config = RNNConfig(embedding_dim=size)\n",
    "    model = CBOW(config)\n",
    "    training_loop_text_classification(model,\n",
    "                                  config,\n",
    "                                  b1data,\n",
    "                                  \"cbow_v1.pkl\",\n",
    "                                  verbose=False)\n",
    "    acc = model.evaluate_bach(test_bach)[0]\n",
    "    results.append(acc)\n",
    "\n",
    "fig, ax = plt.subplots(1, 1, figsize=(12, 5))\n",
    "ax.plot(list_of_sizes, results)\n",
    "plt.xlabel('sizes')\n",
    "plt.ylabel('test acc')\n",
    "plt.title('Test accuracy for different embedding sizes')\n",
    "plt.grid(True)\n",
    "plt.show()\n"
   ]
  }
 ],
 "metadata": {
  "kernelspec": {
   "display_name": "Python 3",
   "language": "python",
   "name": "python3"
  },
  "language_info": {
   "codemirror_mode": {
    "name": "ipython",
    "version": 3
   },
   "file_extension": ".py",
   "mimetype": "text/x-python",
   "name": "python",
   "nbconvert_exporter": "python",
   "pygments_lexer": "ipython3",
   "version": "3.5.2"
  }
 },
 "nbformat": 4,
 "nbformat_minor": 2
}
