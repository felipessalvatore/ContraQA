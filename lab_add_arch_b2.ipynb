{
 "cells": [
  {
   "cell_type": "code",
   "execution_count": 1,
   "metadata": {},
   "outputs": [],
   "source": [
    "from contra_qa.text_generation.boolean2_S_and import boolean2\n",
    "from contra_qa.text_processing.functions import simple_pre_process_text_df\n",
    "from contra_qa.plots.functions  import plot_histogram_from_labels, plot_confusion_matrix\n",
    "\n",
    "from contra_qa.train_functions.RNNConfig import RNNConfig\n",
    "import numpy as np\n",
    "import torch\n",
    "import torch.nn as nn\n",
    "from torchtext import data\n",
    "\n",
    "import pandas as pd\n",
    "import  matplotlib.pyplot as plt\n",
    "device = torch.device(\"cuda\" if torch.cuda.is_available() else \"cpu\")\n",
    "\n",
    "% matplotlib inline"
   ]
  },
  {
   "cell_type": "markdown",
   "metadata": {},
   "source": [
    "# manipulating datasets: b2"
   ]
  },
  {
   "cell_type": "code",
   "execution_count": 2,
   "metadata": {},
   "outputs": [],
   "source": [
    "boolean2()"
   ]
  },
  {
   "cell_type": "code",
   "execution_count": 3,
   "metadata": {},
   "outputs": [],
   "source": [
    "df2 = pd.read_csv(\"data/boolean2_train.csv\")\n",
    "df2test = pd.read_csv(\"data/boolean2_test.csv\")"
   ]
  },
  {
   "cell_type": "code",
   "execution_count": 4,
   "metadata": {},
   "outputs": [
    {
     "data": {
      "text/html": [
       "<div>\n",
       "<style scoped>\n",
       "    .dataframe tbody tr th:only-of-type {\n",
       "        vertical-align: middle;\n",
       "    }\n",
       "\n",
       "    .dataframe tbody tr th {\n",
       "        vertical-align: top;\n",
       "    }\n",
       "\n",
       "    .dataframe thead th {\n",
       "        text-align: right;\n",
       "    }\n",
       "</style>\n",
       "<table border=\"1\" class=\"dataframe\">\n",
       "  <thead>\n",
       "    <tr style=\"text-align: right;\">\n",
       "      <th></th>\n",
       "      <th>sentence1</th>\n",
       "      <th>sentence2</th>\n",
       "      <th>and_A</th>\n",
       "      <th>and_B</th>\n",
       "      <th>label</th>\n",
       "    </tr>\n",
       "  </thead>\n",
       "  <tbody>\n",
       "    <tr>\n",
       "      <th>9995</th>\n",
       "      <td>Debra is victorious and Jim is thankful</td>\n",
       "      <td>Debra is not victorious</td>\n",
       "      <td>Debra is victorious</td>\n",
       "      <td>Jim is thankful</td>\n",
       "      <td>1</td>\n",
       "    </tr>\n",
       "    <tr>\n",
       "      <th>9996</th>\n",
       "      <td>Lance is nice and Gene is ambitious</td>\n",
       "      <td>Lance is not nice</td>\n",
       "      <td>Lance is nice</td>\n",
       "      <td>Gene is ambitious</td>\n",
       "      <td>1</td>\n",
       "    </tr>\n",
       "    <tr>\n",
       "      <th>9997</th>\n",
       "      <td>Louis is brave and Beth is gentle</td>\n",
       "      <td>Priscilla is inexpensive</td>\n",
       "      <td>Louis is brave</td>\n",
       "      <td>Beth is gentle</td>\n",
       "      <td>0</td>\n",
       "    </tr>\n",
       "    <tr>\n",
       "      <th>9998</th>\n",
       "      <td>Charlotte is brave and Sherry is wrong</td>\n",
       "      <td>Charlotte is not wrong</td>\n",
       "      <td>Charlotte is brave</td>\n",
       "      <td>Sherry is wrong</td>\n",
       "      <td>0</td>\n",
       "    </tr>\n",
       "    <tr>\n",
       "      <th>9999</th>\n",
       "      <td>Kay is calm and June is wonderful</td>\n",
       "      <td>Kay is not calm</td>\n",
       "      <td>Kay is calm</td>\n",
       "      <td>June is wonderful</td>\n",
       "      <td>1</td>\n",
       "    </tr>\n",
       "  </tbody>\n",
       "</table>\n",
       "</div>"
      ],
      "text/plain": [
       "                                    sentence1                  sentence2  \\\n",
       "9995  Debra is victorious and Jim is thankful    Debra is not victorious   \n",
       "9996      Lance is nice and Gene is ambitious          Lance is not nice   \n",
       "9997        Louis is brave and Beth is gentle   Priscilla is inexpensive   \n",
       "9998   Charlotte is brave and Sherry is wrong     Charlotte is not wrong   \n",
       "9999        Kay is calm and June is wonderful            Kay is not calm   \n",
       "\n",
       "                    and_A              and_B  label  \n",
       "9995  Debra is victorious    Jim is thankful      1  \n",
       "9996        Lance is nice  Gene is ambitious      1  \n",
       "9997       Louis is brave     Beth is gentle      0  \n",
       "9998   Charlotte is brave    Sherry is wrong      0  \n",
       "9999          Kay is calm  June is wonderful      1  "
      ]
     },
     "execution_count": 4,
     "metadata": {},
     "output_type": "execute_result"
    }
   ],
   "source": [
    "df2.tail()"
   ]
  },
  {
   "cell_type": "code",
   "execution_count": 5,
   "metadata": {},
   "outputs": [
    {
     "data": {
      "text/html": [
       "<div>\n",
       "<style scoped>\n",
       "    .dataframe tbody tr th:only-of-type {\n",
       "        vertical-align: middle;\n",
       "    }\n",
       "\n",
       "    .dataframe tbody tr th {\n",
       "        vertical-align: top;\n",
       "    }\n",
       "\n",
       "    .dataframe thead th {\n",
       "        text-align: right;\n",
       "    }\n",
       "</style>\n",
       "<table border=\"1\" class=\"dataframe\">\n",
       "  <thead>\n",
       "    <tr style=\"text-align: right;\">\n",
       "      <th></th>\n",
       "      <th>sentence1</th>\n",
       "      <th>sentence2</th>\n",
       "      <th>and_A</th>\n",
       "      <th>and_B</th>\n",
       "      <th>label</th>\n",
       "    </tr>\n",
       "  </thead>\n",
       "  <tbody>\n",
       "    <tr>\n",
       "      <th>995</th>\n",
       "      <td>Chester is obedient and Jim is wonderful</td>\n",
       "      <td>Claudia is not mealy</td>\n",
       "      <td>Chester is obedient</td>\n",
       "      <td>Jim is wonderful</td>\n",
       "      <td>0</td>\n",
       "    </tr>\n",
       "    <tr>\n",
       "      <th>996</th>\n",
       "      <td>Marlene is brave and Wilma is eager</td>\n",
       "      <td>Marlene is not brave</td>\n",
       "      <td>Marlene is brave</td>\n",
       "      <td>Wilma is eager</td>\n",
       "      <td>1</td>\n",
       "    </tr>\n",
       "    <tr>\n",
       "      <th>997</th>\n",
       "      <td>Eleanor is powerful and Jeff is gifted</td>\n",
       "      <td>Jeff is not gifted</td>\n",
       "      <td>Eleanor is powerful</td>\n",
       "      <td>Jeff is gifted</td>\n",
       "      <td>1</td>\n",
       "    </tr>\n",
       "    <tr>\n",
       "      <th>998</th>\n",
       "      <td>Derek is kind and Nathaniel is gentle</td>\n",
       "      <td>Derek is not kind</td>\n",
       "      <td>Derek is kind</td>\n",
       "      <td>Nathaniel is gentle</td>\n",
       "      <td>1</td>\n",
       "    </tr>\n",
       "    <tr>\n",
       "      <th>999</th>\n",
       "      <td>Nicole is vast and Crystal is hallowed</td>\n",
       "      <td>Crystal is not hallowed</td>\n",
       "      <td>Nicole is vast</td>\n",
       "      <td>Crystal is hallowed</td>\n",
       "      <td>1</td>\n",
       "    </tr>\n",
       "  </tbody>\n",
       "</table>\n",
       "</div>"
      ],
      "text/plain": [
       "                                    sentence1                 sentence2  \\\n",
       "995  Chester is obedient and Jim is wonderful      Claudia is not mealy   \n",
       "996       Marlene is brave and Wilma is eager      Marlene is not brave   \n",
       "997    Eleanor is powerful and Jeff is gifted        Jeff is not gifted   \n",
       "998     Derek is kind and Nathaniel is gentle         Derek is not kind   \n",
       "999    Nicole is vast and Crystal is hallowed   Crystal is not hallowed   \n",
       "\n",
       "                   and_A                and_B  label  \n",
       "995  Chester is obedient     Jim is wonderful      0  \n",
       "996     Marlene is brave       Wilma is eager      1  \n",
       "997  Eleanor is powerful       Jeff is gifted      1  \n",
       "998        Derek is kind  Nathaniel is gentle      1  \n",
       "999       Nicole is vast  Crystal is hallowed      1  "
      ]
     },
     "execution_count": 5,
     "metadata": {},
     "output_type": "execute_result"
    }
   ],
   "source": [
    "df2test.tail()"
   ]
  },
  {
   "cell_type": "code",
   "execution_count": 6,
   "metadata": {},
   "outputs": [],
   "source": [
    "df2train = df2.iloc[:8500]\n",
    "df2valid = df2.iloc[8500:]"
   ]
  },
  {
   "cell_type": "code",
   "execution_count": 7,
   "metadata": {},
   "outputs": [
    {
     "data": {
      "image/png": "[encoded data removed]",
      "text/plain": [
       "<Figure size 432x288 with 1 Axes>"
      ]
     },
     "metadata": {},
     "output_type": "display_data"
    }
   ],
   "source": [
    "plot_histogram_from_labels(df2train.label.values, [\"no\", \"yes\"], \"test.png\") "
   ]
  },
  {
   "cell_type": "code",
   "execution_count": 8,
   "metadata": {},
   "outputs": [
    {
     "data": {
      "image/png": "[encoded data removed]",
      "text/plain": [
       "<Figure size 432x288 with 1 Axes>"
      ]
     },
     "metadata": {},
     "output_type": "display_data"
    }
   ],
   "source": [
    "plot_histogram_from_labels(df2valid.label.values, [\"no\", \"yes\"], \"test.png\")"
   ]
  },
  {
   "cell_type": "code",
   "execution_count": 9,
   "metadata": {},
   "outputs": [
    {
     "data": {
      "image/png": "[encoded data removed]",
      "text/plain": [
       "<Figure size 432x288 with 1 Axes>"
      ]
     },
     "metadata": {},
     "output_type": "display_data"
    }
   ],
   "source": [
    "plot_histogram_from_labels(df2test.label.values, [\"no\", \"yes\"], \"test.png\") "
   ]
  },
  {
   "cell_type": "code",
   "execution_count": 10,
   "metadata": {},
   "outputs": [],
   "source": [
    "simple_pre_process_text_df(df2, \"sentence1\")\n",
    "simple_pre_process_text_df(df2, \"sentence2\")\n",
    "simple_pre_process_text_df(df2, \"and_A\")\n",
    "simple_pre_process_text_df(df2, \"and_B\")\n",
    "\n",
    "df2[\"text\"] = df2[\"sentence1\"] + \", \" + df2[\"sentence2\"]"
   ]
  },
  {
   "cell_type": "markdown",
   "metadata": {},
   "source": [
    "# creating vocab and tensor data"
   ]
  },
  {
   "cell_type": "code",
   "execution_count": 11,
   "metadata": {},
   "outputs": [],
   "source": [
    "df2_little = df2[[\"text\", \"label\"]]"
   ]
  },
  {
   "cell_type": "code",
   "execution_count": 12,
   "metadata": {},
   "outputs": [
    {
     "data": {
      "text/html": [
       "<div>\n",
       "<style scoped>\n",
       "    .dataframe tbody tr th:only-of-type {\n",
       "        vertical-align: middle;\n",
       "    }\n",
       "\n",
       "    .dataframe tbody tr th {\n",
       "        vertical-align: top;\n",
       "    }\n",
       "\n",
       "    .dataframe thead th {\n",
       "        text-align: right;\n",
       "    }\n",
       "</style>\n",
       "<table border=\"1\" class=\"dataframe\">\n",
       "  <thead>\n",
       "    <tr style=\"text-align: right;\">\n",
       "      <th></th>\n",
       "      <th>text</th>\n",
       "      <th>label</th>\n",
       "    </tr>\n",
       "  </thead>\n",
       "  <tbody>\n",
       "    <tr>\n",
       "      <th>0</th>\n",
       "      <td>kay is vast and vivian is poor, vivian is not ...</td>\n",
       "      <td>1</td>\n",
       "    </tr>\n",
       "    <tr>\n",
       "      <th>1</th>\n",
       "      <td>clara is eager and antonio is brave, ryan is n...</td>\n",
       "      <td>0</td>\n",
       "    </tr>\n",
       "    <tr>\n",
       "      <th>2</th>\n",
       "      <td>alvin is victorious and minnie is nice, steve ...</td>\n",
       "      <td>0</td>\n",
       "    </tr>\n",
       "    <tr>\n",
       "      <th>3</th>\n",
       "      <td>antonio is polite and rosa is wonderful, gabri...</td>\n",
       "      <td>0</td>\n",
       "    </tr>\n",
       "    <tr>\n",
       "      <th>4</th>\n",
       "      <td>cathy is unimportant and paul is hallowed, pau...</td>\n",
       "      <td>1</td>\n",
       "    </tr>\n",
       "  </tbody>\n",
       "</table>\n",
       "</div>"
      ],
      "text/plain": [
       "                                                text  label\n",
       "0  kay is vast and vivian is poor, vivian is not ...      1\n",
       "1  clara is eager and antonio is brave, ryan is n...      0\n",
       "2  alvin is victorious and minnie is nice, steve ...      0\n",
       "3  antonio is polite and rosa is wonderful, gabri...      0\n",
       "4  cathy is unimportant and paul is hallowed, pau...      1"
      ]
     },
     "execution_count": 12,
     "metadata": {},
     "output_type": "execute_result"
    }
   ],
   "source": [
    "df2_little.head()"
   ]
  },
  {
   "cell_type": "code",
   "execution_count": 13,
   "metadata": {},
   "outputs": [],
   "source": [
    "train_data_path = \"data/boolean_2_train_lab.csv\"\n",
    "df2_little.to_csv(train_data_path, header=False, index=False)"
   ]
  },
  {
   "cell_type": "code",
   "execution_count": 14,
   "metadata": {},
   "outputs": [],
   "source": [
    "TEXT = data.Field()\n",
    "LABEL = data.LabelField(tensor_type=torch.FloatTensor)\n",
    "train = data.TabularDataset(path=train_data_path,\n",
    "                            format=\"csv\",\n",
    "                            fields=[('text', TEXT), ('label', LABEL)])"
   ]
  },
  {
   "cell_type": "code",
   "execution_count": 15,
   "metadata": {},
   "outputs": [],
   "source": [
    "TEXT.build_vocab(train, max_size=25000)\n",
    "LABEL.build_vocab(train)"
   ]
  },
  {
   "cell_type": "code",
   "execution_count": 16,
   "metadata": {},
   "outputs": [
    {
     "name": "stdout",
     "output_type": "stream",
     "text": [
      "len(TEXT.vocab): 753\n",
      "len(LABEL.vocab): 2\n"
     ]
    }
   ],
   "source": [
    "print('len(TEXT.vocab):', len(TEXT.vocab))\n",
    "print('len(LABEL.vocab):', len(LABEL.vocab))"
   ]
  },
  {
   "cell_type": "code",
   "execution_count": 17,
   "metadata": {},
   "outputs": [],
   "source": [
    "def finde_size(list_):\n",
    "    return np.max(list(map(lambda x: len(x.split(\" \")), list_)))"
   ]
  },
  {
   "cell_type": "code",
   "execution_count": 18,
   "metadata": {},
   "outputs": [],
   "source": [
    "def str_list2tensor(list_):\n",
    "    list_i = []\n",
    "    max_size = finde_size(list_)\n",
    "    for line in list_:\n",
    "        line = line.split(\" \")\n",
    "        size = len(line) \n",
    "        tail = max_size - size\n",
    "        line += [TEXT.pad_token] * tail\n",
    "        new_line = [TEXT.vocab.stoi[word] for word in line]\n",
    "        list_i.append(new_line)\n",
    "    return torch.tensor(list_i, dtype=torch.long, device=device)\n",
    "    "
   ]
  },
  {
   "cell_type": "code",
   "execution_count": 19,
   "metadata": {},
   "outputs": [],
   "source": [
    "exampleS1_train_t = str_list2tensor(list(df2train.sentence1.values))\n",
    "exampleS2_train_t = str_list2tensor(list(df2train.sentence2.values))\n",
    "exampleA_train_t = str_list2tensor(list(df2train.and_A.values))\n",
    "exampleB_train_t = str_list2tensor(list(df2train.and_B.values))\n",
    "exampleLabel_train = torch.tensor(list(df2train.label.values), dtype=torch.long, device=device)"
   ]
  },
  {
   "cell_type": "code",
   "execution_count": 20,
   "metadata": {},
   "outputs": [],
   "source": [
    "exampleS1_valid_t = str_list2tensor(list(df2valid.sentence1.values))\n",
    "exampleS2_valid_t = str_list2tensor(list(df2valid.sentence2.values))\n",
    "exampleA_valid_t = str_list2tensor(list(df2valid.and_A.values))\n",
    "exampleB_valid_t = str_list2tensor(list(df2valid.and_B.values))\n",
    "exampleLabel_valid = torch.tensor(list(df2valid.label.values), dtype=torch.long, device=device)"
   ]
  },
  {
   "cell_type": "code",
   "execution_count": 21,
   "metadata": {},
   "outputs": [],
   "source": [
    "exampleS1_test_t = str_list2tensor(list(df2test.sentence1.values))\n",
    "exampleS2_test_t = str_list2tensor(list(df2test.sentence2.values))\n",
    "exampleA_test_t = str_list2tensor(list(df2test.and_A.values))\n",
    "exampleB_test_t = str_list2tensor(list(df2test.and_B.values))\n",
    "exampleLabel_test = torch.tensor(list(df2test.label.values), dtype=torch.long, device=device)"
   ]
  },
  {
   "cell_type": "code",
   "execution_count": 22,
   "metadata": {},
   "outputs": [],
   "source": [
    "from torch.utils.data import TensorDataset\n",
    "\n",
    "train_dataset = TensorDataset(exampleS1_train_t, exampleS2_train_t, exampleA_train_t, exampleB_train_t, exampleLabel_train)\n",
    "valid_dataset = TensorDataset(exampleS1_valid_t, exampleS2_valid_t, exampleA_valid_t, exampleB_valid_t, exampleLabel_valid)\n",
    "test_dataset = TensorDataset(exampleS1_test_t, exampleS2_test_t, exampleA_test_t, exampleB_test_t, exampleLabel_test)"
   ]
  },
  {
   "cell_type": "code",
   "execution_count": 23,
   "metadata": {},
   "outputs": [],
   "source": [
    "from torch.utils.data import DataLoader\n",
    "\n",
    "class DataHolder():\n",
    "    \"\"\"\n",
    "    Class to store all data using the GentleLoader.\n",
    "\n",
    "    :param config: hyper params configuration\n",
    "    :type config: LRConfig or DFNConfig\n",
    "    :param train_dataset: dataset of training data\n",
    "    :type train_dataset: torch.utils.data.dataset.TensorDataset\n",
    "    :param test_dataset: dataset of test data\n",
    "    :type test_dataset: torch.utils.data.dataset.TensorDataset\n",
    "    :param valid_dataset: dataset of valid data\n",
    "    :type valid_dataset: torch.utils.data.dataset.TensorDataset\n",
    "    :param batch_size: batch size for training\n",
    "    :type test_batch: batch size for the testing data\n",
    "    :param test_batch: int\n",
    "    \"\"\"\n",
    "    def __init__(self,\n",
    "                 config,\n",
    "                 train_dataset,\n",
    "                 valid_dataset,\n",
    "                 test_dataset,\n",
    "                 test_batch=1000):\n",
    "        batch_size = config.batch_size\n",
    "        self.train_loader = DataLoader(dataset=train_dataset,\n",
    "                                         batch_size=batch_size,\n",
    "                                         shuffle=True)\n",
    "        self.valid_loader = DataLoader(dataset=valid_dataset,\n",
    "                                         batch_size=batch_size,\n",
    "                                         shuffle=True)\n",
    "        self.test_loader = DataLoader(dataset=test_dataset,\n",
    "                                        batch_size=test_batch,\n",
    "                                        shuffle=True)"
   ]
  },
  {
   "cell_type": "code",
   "execution_count": 24,
   "metadata": {},
   "outputs": [],
   "source": [
    "config = RNNConfig()\n",
    "b_data = DataHolder(config,\n",
    "                    train_dataset,\n",
    "                    valid_dataset,\n",
    "                    test_dataset)"
   ]
  },
  {
   "cell_type": "markdown",
   "metadata": {},
   "source": [
    "# defining the model"
   ]
  },
  {
   "cell_type": "code",
   "execution_count": 25,
   "metadata": {},
   "outputs": [],
   "source": [
    "class AddRNN(nn.Module):\n",
    "    def __init__(self, config):\n",
    "        super(AddRNN, self).__init__()\n",
    "        self.vocab_size = config.vocab_size\n",
    "        self.embedding_dim = config.embedding_dim\n",
    "        self.output_dim = config.output_dim\n",
    "        self.rnn_dim = config.rnn_dim\n",
    "        self.embedding = nn.Embedding(self.vocab_size, self.embedding_dim)\n",
    "        self.rnn = nn.GRU(self.embedding_dim, self.rnn_dim) \n",
    "        self.fcA = nn.Linear(self.rnn_dim, self.rnn_dim)\n",
    "        self.fcB = nn.Linear(self.rnn_dim, self.rnn_dim)\n",
    "        self.fc_out = nn.Linear(self.rnn_dim, self.output_dim)\n",
    "        self.fc_inf = nn.Linear(self.rnn_dim * 2, self.rnn_dim)\n",
    "        \n",
    "        \n",
    "    def encode(self, x, hidden=None):\n",
    "        if hidden is None:\n",
    "            hidden = torch.zeros((1, x.shape[1], self.rnn_dim), device=device)\n",
    "        embedded = self.embedding(x)       \n",
    "        output, hidden = self.rnn(embedded, hidden)\n",
    "        hidden = hidden.squeeze(0)\n",
    "        return hidden\n",
    "\n",
    "    def forward(self, s1, s2):\n",
    "        s1 = s1.view((s1.shape[1], s1.shape[0]))\n",
    "        s2 = s2.view((s2.shape[1], s2.shape[0]))\n",
    "        c = torch.cat([s1, s2], dim=1)\n",
    "        c = c.view((c.shape[1], c.shape[0]))\n",
    "        h = self.encode(c)\n",
    "        out = self.fc_out(h)\n",
    "        \n",
    "#         h = self.encode(s1)\n",
    "#         self.ha = self.fcA(h)\n",
    "#         self.hb = self.fcB(h)\n",
    "# #         h_inf = self.ha + self.hb\n",
    "# #         h_inf = self.ha * self.hb\n",
    "#         h_inf = self.fc_inf(torch.cat([self.ha, self.hb], dim=1))\n",
    "#         h_inf = h_inf.view((1, h_inf.shape[0], h_inf.shape[1]))\n",
    "#         s2_enc = self.encode(s2, h_inf)\n",
    "#         out = self.fc_out(s2_enc)\n",
    "        return out\n",
    "\n",
    "    def predict(self, s1, s2):\n",
    "        out = self.forward(s1, s2)\n",
    "        softmax = nn.Softmax(dim=1)\n",
    "        out = softmax(out)\n",
    "        indices = torch.argmax(out, 1)\n",
    "        return indices\n",
    "\n",
    "    def evaluate_labels(self,s1, s2, labels):\n",
    "        prediction = self.predict(s1, s2)\n",
    "        correct = torch.sum(torch.eq(prediction, labels)).float()\n",
    "        accuracy = float(correct / labels.shape[0])\n",
    "        prediction = prediction.numpy()\n",
    "        labels = labels.numpy()\n",
    "        return accuracy, prediction, labels"
   ]
  },
  {
   "cell_type": "code",
   "execution_count": 26,
   "metadata": {},
   "outputs": [],
   "source": [
    "s1, s2, and_A, and_B, label = next(iter(b_data.train_loader))\n",
    "s1 = s1.view((s1.shape[1], s1.shape[0]))\n",
    "s2 = s2.view((s2.shape[1], s2.shape[0]))\n",
    "and_A = and_A.view((and_A.shape[1], and_A.shape[0]))\n",
    "and_B = and_B.view((and_B.shape[1], and_B.shape[0]))"
   ]
  },
  {
   "cell_type": "code",
   "execution_count": 27,
   "metadata": {},
   "outputs": [
    {
     "name": "stdout",
     "output_type": "stream",
     "text": [
      "vocab_size = 753\n",
      "batch_size = 32\n",
      "embedding_dim = 100\n",
      "rnn_dim = 100\n",
      "output_dim = 2\n",
      "epochs = 8\n",
      "learning_rate = 0.01\n",
      "momentum = 0.2\n",
      "\n"
     ]
    }
   ],
   "source": [
    "config = RNNConfig(vocab_size=len(TEXT.vocab))\n",
    "print(config)"
   ]
  },
  {
   "cell_type": "code",
   "execution_count": 28,
   "metadata": {},
   "outputs": [
    {
     "name": "stdout",
     "output_type": "stream",
     "text": [
      "tensor([0, 1, 1, 0, 0, 1, 1, 0, 0, 1, 0, 0, 0, 1, 0, 0, 0, 0, 0, 1, 0, 0, 0, 0,\n",
      "        1, 0, 0, 0, 0, 0, 1, 0])\n"
     ]
    }
   ],
   "source": [
    "model = AddRNN(config)\n",
    "\n",
    "out = model.predict(s1, s2)\n",
    "print(out)"
   ]
  },
  {
   "cell_type": "code",
   "execution_count": 29,
   "metadata": {},
   "outputs": [
    {
     "name": "stdout",
     "output_type": "stream",
     "text": [
      "mean valid acc before training =  0.509375\n"
     ]
    },
    {
     "data": {
      "image/png": "[encoded data removed]",
      "text/plain": [
       "<Figure size 648x648 with 2 Axes>"
      ]
     },
     "metadata": {},
     "output_type": "display_data"
    }
   ],
   "source": [
    "all_acc = 0\n",
    "n_iter = 10\n",
    "for i in range(n_iter):\n",
    "    s1, s2, and_A, and_B, labels = next(iter(b_data.valid_loader))\n",
    "    s1 = s1.view((s1.shape[1], s1.shape[0]))\n",
    "    s2 = s2.view((s2.shape[1], s2.shape[0]))\n",
    "    and_A = and_A.view((and_A.shape[1], and_A.shape[0]))\n",
    "    and_B = and_B.view((and_B.shape[1], and_B.shape[0]))\n",
    "    acc, prediction, labels = model.evaluate_labels(s1, s2, labels)\n",
    "    all_acc += acc\n",
    "\n",
    "print(\"mean valid acc before training =  {}\".format(all_acc / n_iter))    \n",
    "plot_confusion_matrix(labels,\n",
    "                      prediction,\n",
    "                      classes=[\"no\", \"yes\"],\n",
    "                      path=\"confusion_matrix.png\")"
   ]
  },
  {
   "cell_type": "markdown",
   "metadata": {},
   "source": [
    "# defining the training loop"
   ]
  },
  {
   "cell_type": "code",
   "execution_count": 45,
   "metadata": {},
   "outputs": [],
   "source": [
    "def train_in_epoch(model,\n",
    "                   loader,\n",
    "                   optimizer,\n",
    "                   criterionCE,\n",
    "                   criterionL1):\n",
    "    \"\"\"\n",
    "    Train the model using all the data from the iterator\n",
    "\n",
    "    Negative is a flag to train the model to maximize the\n",
    "    loss functionCE\n",
    "\n",
    "    :param model: RNN classification model\n",
    "    :type model: RNN\n",
    "    :param loader: data loader\n",
    "    :type loader: torch.utils.data.dataloader.DataLoader\n",
    "    :param optimizer: torch optimizer\n",
    "    :type optimizer: optim.SGD, etc.\n",
    "    :param criterionCE: loss criterion\n",
    "    :type criterionCE: nn.CrossEntropyLoss\n",
    "    :param criterionL1: loss criterion\n",
    "    :type criterionL1: nn.L1Loss\n",
    "    :return: mean loss, mean accuracy\n",
    "    :rtype: float, float\n",
    "    \"\"\"\n",
    "\n",
    "    epoch_loss = 0\n",
    "    epoch_acc = 0\n",
    "    model.train()\n",
    "\n",
    "    for batch in loader:\n",
    "        optimizer.zero_grad()\n",
    "        s1, s2, and_A, and_B, labels = batch\n",
    "        s1 = s1.view((s1.shape[1], s1.shape[0]))\n",
    "        s2 = s2.view((s2.shape[1], s2.shape[0]))\n",
    "        and_A = and_A.view((and_A.shape[1], and_A.shape[0]))\n",
    "        and_B = and_B.view((and_B.shape[1], and_B.shape[0]))\n",
    "        logits = model(s1, s2)\n",
    "        ha = model.encode(and_A)\n",
    "        hb = model.encode(and_B)\n",
    "        loss = criterionCE(logits,labels)  \n",
    "#         loss = criterionCE(logits,labels) + torch.sqrt(criterionL1(ha, model.ha) + criterionL1(hb, model.hb))\n",
    "#         loss = criterionCE(logits,labels)**2 + torch.sqrt(criterionL1(ha, model.ha) + criterionL1(hb, model.hb))\n",
    "#         loss = criterionCE(logits,labels) + criterionL1(ha, model.ha) + criterionL1(hb, model.hb)\n",
    "\n",
    "        loss.backward()\n",
    "        optimizer.step()\n",
    "        acc, _, _ = model.evaluate_labels(s1, s2, labels)\n",
    "        epoch_loss += loss.item()\n",
    "        epoch_acc += acc\n",
    "\n",
    "    mean_loss = epoch_loss / len(loader)\n",
    "    mean_acc = epoch_acc / len(loader)\n",
    "\n",
    "    return mean_loss, mean_acc"
   ]
  },
  {
   "cell_type": "markdown",
   "metadata": {},
   "source": [
    "### testing"
   ]
  },
  {
   "cell_type": "code",
   "execution_count": 46,
   "metadata": {},
   "outputs": [
    {
     "name": "stdout",
     "output_type": "stream",
     "text": [
      "4.873699505974476 0.8244125939401469\n"
     ]
    }
   ],
   "source": [
    "dataholder = b_data\n",
    "\n",
    "train_loader = dataholder.train_loader\n",
    "valid_loader = dataholder.valid_loader\n",
    "\n",
    "criterionCE = nn.CrossEntropyLoss()\n",
    "criterionL1 = nn.L1Loss()\n",
    "optimizer = torch.optim.SGD(model.parameters(),\n",
    "                            lr=config.learning_rate,\n",
    "                            momentum=config.momentum)\n",
    "\n",
    "mean_loss, mean_acc = train_in_epoch(model,\n",
    "                                     train_loader,\n",
    "                                     optimizer,\n",
    "                                     criterionCE,\n",
    "                                     criterionL1)\n",
    "\n",
    "print(mean_loss, mean_acc)"
   ]
  },
  {
   "cell_type": "code",
   "execution_count": 52,
   "metadata": {},
   "outputs": [],
   "source": [
    "def get_valid_loss(model,\n",
    "                   valid_loader,\n",
    "                   criterionCE,\n",
    "                   criterionL1):\n",
    "    \"\"\"\n",
    "    Get the valid loss\n",
    "\n",
    "    :param model: RNN classification model\n",
    "    :type model:\n",
    "    :param valid_iter: valid iterator\n",
    "    :type valid_iter: data.BucketIterator\n",
    "    :param criterion: loss criterion\n",
    "    :type criterion: nn.CrossEntropyLoss\n",
    "    :return: valid loss\n",
    "    :rtype: Tensor(shape=[])\n",
    "    \"\"\"\n",
    "    batch = next(iter(valid_loader))\n",
    "    s1, s2, and_A, and_B, labels = batch\n",
    "    s1 = s1.view((s1.shape[1], s1.shape[0]))\n",
    "    s2 = s2.view((s2.shape[1], s2.shape[0]))\n",
    "    and_A = and_A.view((and_A.shape[1], and_A.shape[0]))\n",
    "    and_B = and_B.view((and_B.shape[1], and_B.shape[0]))\n",
    "    model.eval()\n",
    "    logits = model(s1, s2)\n",
    "    ha = model.encode(and_A)\n",
    "    hb = model.encode(and_B)\n",
    "#     loss = criterionCE(logits,labels) + torch.sqrt(criterionL1(ha, model.ha) + criterionL1(hb, model.hb))\n",
    "#     loss = criterionCE(logits,labels)**2 + torch.sqrt(criterionL1(ha, model.ha) + criterionL1(hb, model.hb))\n",
    "#     loss = criterionCE(logits,labels) + criterionL1(ha, model.ha) + criterionL1(hb, model.hb)\n",
    "    \n",
    "    loss = criterionCE(logits,labels)\n",
    "    return loss.item()"
   ]
  },
  {
   "cell_type": "markdown",
   "metadata": {},
   "source": [
    "### testing"
   ]
  },
  {
   "cell_type": "code",
   "execution_count": 53,
   "metadata": {},
   "outputs": [
    {
     "data": {
      "text/plain": [
       "3.9314074516296387"
      ]
     },
     "execution_count": 53,
     "metadata": {},
     "output_type": "execute_result"
    }
   ],
   "source": [
    "get_valid_loss(model,\n",
    "               valid_loader,\n",
    "               criterionCE,\n",
    "               criterionL1)"
   ]
  },
  {
   "cell_type": "code",
   "execution_count": 54,
   "metadata": {},
   "outputs": [],
   "source": [
    "def training_loop_text_classification(model,\n",
    "                                      config,\n",
    "                                      dataholder,\n",
    "                                      model_path,\n",
    "                                      verbose=True,\n",
    "                                      plot_path=\"training plot.png\"):\n",
    "    \"\"\"\n",
    "    Train a model for text classification\n",
    "\n",
    "    :param model: RNN classification model\n",
    "    :type model: RNN\n",
    "    :param config: classification model config\n",
    "    :type config: RNNConfig\n",
    "    :param dataholder: data\n",
    "    :type dataholder: DataHolder or DataHolderGentle\n",
    "    :param model_path: path to save model params\n",
    "    :type model_path: str\n",
    "    :param verbose: param to control print\n",
    "    :type verbose: bool\n",
    "    \"\"\"\n",
    "    criterionCE = nn.CrossEntropyLoss()\n",
    "    criterionL1 = nn.L1Loss()\n",
    "#     criterionL1 = nn.MSELoss()\n",
    "    \n",
    "    optimizer = torch.optim.SGD(model.parameters(),\n",
    "                            lr=config.learning_rate,\n",
    "                            momentum=config.momentum)\n",
    "\n",
    "    device = torch.device('cuda' if torch.cuda.is_available() else 'cpu')\n",
    "    model = model.to(device)\n",
    "    \n",
    "    criterionCE = criterionCE.to(device)\n",
    "    criterionL1 = criterionL1.to(device)\n",
    "    \n",
    "    train_loader = dataholder.train_loader\n",
    "    valid_loader = dataholder.valid_loader\n",
    "\n",
    "    best_valid_loss = float(\"inf\")\n",
    "\n",
    "    all_train_loss = []\n",
    "    all_valid_loss = []\n",
    "\n",
    "    for epoch in range(config.epochs):\n",
    "\n",
    "        if verbose:\n",
    "            print(\"epoch = ({}/{})\".format(epoch + 1, config.epochs))\n",
    "            train_loss, train_acc = train_in_epoch(model,\n",
    "                                                   train_loader,\n",
    "                                                   optimizer,\n",
    "                                                   criterionCE,\n",
    "                                                   criterionL1)\n",
    "\n",
    "        all_train_loss.append(train_loss)\n",
    "        valid_loss = get_valid_loss(model,\n",
    "                                    valid_loader,\n",
    "                                    criterionCE,\n",
    "                                    criterionL1)\n",
    "        all_valid_loss.append(valid_loss)\n",
    "\n",
    "        msg = \"\\ntrain_loss = {:.3f} | valid_loss = {:.3f}\".format(float(train_loss),  # noqa\n",
    "                                                                   float(valid_loss))  # noqa\n",
    "\n",
    "        if float(valid_loss) < best_valid_loss:\n",
    "            torch.save(model.state_dict(), model_path)\n",
    "            best_valid_loss = float(valid_loss)\n",
    "\n",
    "        if verbose:\n",
    "            print(msg)\n",
    "            print(\"train_acc = {}\\n\".format(train_acc))\n",
    "\n",
    "    if verbose:\n",
    "        x = np.arange(1, len(all_train_loss) + 1, 1)\n",
    "        fig, ax = plt.subplots(1, 1, figsize=(12, 5))\n",
    "        ax.plot(x, all_train_loss, label='mean train loss')\n",
    "        ax.plot(x, all_valid_loss, label='mean valid loss')\n",
    "        ax.legend()\n",
    "        plt.xlabel('epoch')\n",
    "        plt.ylabel('mean loss')\n",
    "        plt.title('Train and valid mean loss')\n",
    "        plt.grid(True)\n",
    "        plt.savefig(plot_path)"
   ]
  },
  {
   "cell_type": "markdown",
   "metadata": {},
   "source": [
    "### runnig one training"
   ]
  },
  {
   "cell_type": "markdown",
   "metadata": {},
   "source": [
    "best params of the baseline RNN model\n",
    "\n",
    "`best_params =  {'embedding_dim': 252, 'momentum': 0.6550789455040129, 'rnn_dim': 296, 'learning_rate': 0.17039789863069243, 'epochs': 9}`\n"
   ]
  },
  {
   "cell_type": "code",
   "execution_count": 55,
   "metadata": {},
   "outputs": [
    {
     "name": "stdout",
     "output_type": "stream",
     "text": [
      "epoch = (1/8)\n",
      "\n",
      "train_loss = 1.811 | valid_loss = 2.510\n",
      "train_acc = 0.8376644737738416\n",
      "\n",
      "epoch = (2/8)\n",
      "\n",
      "train_loss = 3.800 | valid_loss = 4.696\n",
      "train_acc = 0.8879699247672146\n",
      "\n",
      "epoch = (3/8)\n",
      "\n",
      "train_loss = 4.618 | valid_loss = 5.520\n",
      "train_acc = 0.8150610901359329\n",
      "\n",
      "epoch = (4/8)\n",
      "\n",
      "train_loss = 4.974 | valid_loss = 2.948\n",
      "train_acc = 0.7642622180002973\n",
      "\n",
      "epoch = (5/8)\n",
      "\n",
      "train_loss = 5.127 | valid_loss = 4.955\n",
      "train_acc = 0.7545112781506732\n",
      "\n",
      "epoch = (6/8)\n",
      "\n",
      "train_loss = 5.072 | valid_loss = 4.414\n",
      "train_acc = 0.7245065789473685\n",
      "\n",
      "epoch = (7/8)\n",
      "\n",
      "train_loss = 5.245 | valid_loss = 5.670\n",
      "train_acc = 0.7149436090673719\n",
      "\n",
      "epoch = (8/8)\n",
      "\n",
      "train_loss = 4.974 | valid_loss = 3.639\n",
      "train_acc = 0.7023496240153349\n",
      "\n"
     ]
    },
    {
     "data": {
      "image/png": "[encoded data removed]",
      "text/plain": [
       "<Figure size 864x360 with 1 Axes>"
      ]
     },
     "metadata": {},
     "output_type": "display_data"
    }
   ],
   "source": [
    "config = RNNConfig(vocab_size=len(TEXT.vocab),\n",
    "                   rnn_dim=296,\n",
    "                   embedding_dim=252,\n",
    "                   learning_rate=0.470,\n",
    "                   momentum=0.655,\n",
    "                   epochs=8)\n",
    "\n",
    "model = AddRNN(config)\n",
    " \n",
    "training_loop_text_classification(model=model,\n",
    "                                  config=config,\n",
    "                                  dataholder=b_data,\n",
    "                                  model_path=\"temp.pkl\")"
   ]
  },
  {
   "cell_type": "markdown",
   "metadata": {},
   "source": [
    "### Evaluating the model after the training"
   ]
  },
  {
   "cell_type": "code",
   "execution_count": 58,
   "metadata": {},
   "outputs": [
    {
     "name": "stdout",
     "output_type": "stream",
     "text": [
      "mean valid acc after training =  0.53125\n"
     ]
    },
    {
     "data": {
      "image/png": "[encoded data removed]",
      "text/plain": [
       "<Figure size 648x648 with 2 Axes>"
      ]
     },
     "metadata": {},
     "output_type": "display_data"
    }
   ],
   "source": [
    "model = AddRNN(config)\n",
    "model.load_state_dict(torch.load(\"temp.pkl\"))\n",
    "\n",
    "all_acc = 0\n",
    "n_iter = 10\n",
    "for i in range(n_iter):\n",
    "    s1, s2, and_A, and_B, labels = next(iter(b_data.train_loader))\n",
    "    s1 = s1.view((s1.shape[1], s1.shape[0]))\n",
    "    s2 = s2.view((s2.shape[1], s2.shape[0]))\n",
    "    and_A = and_A.view((and_A.shape[1], and_A.shape[0]))\n",
    "    and_B = and_B.view((and_B.shape[1], and_B.shape[0]))\n",
    "\n",
    "    acc, prediction, labels = model.evaluate_labels(s1, s2, labels)\n",
    "    all_acc += acc\n",
    "\n",
    "print(\"mean valid acc after training =  {}\".format(all_acc / n_iter))    \n",
    "plot_confusion_matrix(labels,\n",
    "                      prediction,\n",
    "                      classes=[\"no\", \"yes\"],\n",
    "                      path=\"confusion_matrix.png\")"
   ]
  },
  {
   "cell_type": "code",
   "execution_count": 38,
   "metadata": {},
   "outputs": [],
   "source": [
    "# model = AddRNN(config)\n",
    "# model.load_state_dict(torch.load(\"temp.pkl\"))\n",
    "# s1, s2, and_A, and_B, labels = next(iter(b_data.valid_loader))\n",
    "# s1 = s1.view((s1.shape[1], s1.shape[0]))\n",
    "# s2 = s2.view((s2.shape[1], s2.shape[0]))\n",
    "# and_A = and_A.view((and_A.shape[1], and_A.shape[0]))\n",
    "# and_B = and_B.view((and_B.shape[1], and_B.shape[0]))\n",
    "# _ = model(s1, s2)\n",
    "# hahat = model.ha.detach().numpy()\n",
    "# hbhat = model.hb.detach().numpy()\n",
    "# ha = model.encode(and_A).detach().numpy()\n",
    "# hb = model.encode(and_B).detach().numpy()"
   ]
  },
  {
   "cell_type": "code",
   "execution_count": 39,
   "metadata": {},
   "outputs": [],
   "source": [
    "# comp_a = np.mean((hahat - ha) ** 2, axis=1)\n",
    "# comp_b = np.mean((hbhat - hb) ** 2, axis=1)"
   ]
  },
  {
   "cell_type": "code",
   "execution_count": 40,
   "metadata": {},
   "outputs": [],
   "source": [
    "# print(comp_a, \">>>>>>>>>>>>>>>>>\" ,np.mean(comp_a), np.std(comp_a))"
   ]
  },
  {
   "cell_type": "code",
   "execution_count": 41,
   "metadata": {},
   "outputs": [],
   "source": [
    "# print(comp_b, \">>>>>>>>>>>>>>>>>\" ,np.mean(comp_b), np.std(comp_b))"
   ]
  },
  {
   "cell_type": "code",
   "execution_count": null,
   "metadata": {},
   "outputs": [],
   "source": []
  },
  {
   "cell_type": "code",
   "execution_count": null,
   "metadata": {},
   "outputs": [],
   "source": []
  },
  {
   "cell_type": "code",
   "execution_count": null,
   "metadata": {},
   "outputs": [],
   "source": []
  },
  {
   "cell_type": "code",
   "execution_count": null,
   "metadata": {},
   "outputs": [],
   "source": []
  },
  {
   "cell_type": "code",
   "execution_count": null,
   "metadata": {},
   "outputs": [],
   "source": []
  }
 ],
 "metadata": {
  "kernelspec": {
   "display_name": "Python 3",
   "language": "python",
   "name": "python3"
  },
  "language_info": {
   "codemirror_mode": {
    "name": "ipython",
    "version": 3
   },
   "file_extension": ".py",
   "mimetype": "text/x-python",
   "name": "python",
   "nbconvert_exporter": "python",
   "pygments_lexer": "ipython3",
   "version": "3.5.2"
  }
 },
 "nbformat": 4,
 "nbformat_minor": 2
}
